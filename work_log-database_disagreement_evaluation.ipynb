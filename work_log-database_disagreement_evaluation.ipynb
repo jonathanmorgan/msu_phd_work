{
 "cells": [
  {
   "cell_type": "markdown",
   "metadata": {},
   "source": [
    "# work log - database disagreement evaluation\n",
    "\n",
    "# Table of Contents\n",
    "\n",
    "- [Setup](#Setup)\n",
    "\n",
    "    - [Setup - Imports](#Setup---Imports)\n",
    "    - [Setup - Initialize Django](#Setup---Initialize-Django)\n",
    "\n",
    "- [Work](#Work)\n",
    "- [TODO](#TODO)"
   ]
  },
  {
   "cell_type": "markdown",
   "metadata": {},
   "source": [
    "# Setup\n",
    "\n",
    "- Back to [Table of Contents](#Table-of-Contents)"
   ]
  },
  {
   "cell_type": "markdown",
   "metadata": {},
   "source": [
    "## Setup - Imports\n",
    "\n",
    "- Back to [Table of Contents](#Table-of-Contents)"
   ]
  },
  {
   "cell_type": "code",
   "execution_count": 1,
   "metadata": {},
   "outputs": [
    {
     "name": "stdout",
     "output_type": "stream",
     "text": [
      "packages imported at 2017-07-05 18:06:54.223994\n"
     ]
    }
   ],
   "source": [
    "import csv\n",
    "import datetime\n",
    "import json\n",
    "import six\n",
    "\n",
    "print( \"packages imported at \" + str( datetime.datetime.now() ) )"
   ]
  },
  {
   "cell_type": "code",
   "execution_count": 2,
   "metadata": {},
   "outputs": [
    {
     "data": {
      "text/plain": [
       "'/home/jonathanmorgan/work/sourcenet/django/research/work/msu_phd_work'"
      ]
     },
     "execution_count": 2,
     "metadata": {},
     "output_type": "execute_result"
    }
   ],
   "source": [
    "%pwd"
   ]
  },
  {
   "cell_type": "code",
   "execution_count": 3,
   "metadata": {},
   "outputs": [
    {
     "name": "stdout",
     "output_type": "stream",
     "text": [
      "2016.12.04-work_log.ipynb  reliability-assess_name_data.py\r\n",
      "2016.12.09-work_log.ipynb  reliability-build_name_data.py\r\n",
      "2016.12.10-work_log.ipynb  reliability_names_evaluations.txt\r\n",
      "2016.12.11-work_log.ipynb  remove_single_names-work_log.ipynb\r\n",
      "django_init.py             work_log-database_disagreement_evaluation.ipynb\r\n",
      "LICENSE                    work_log-ground_truth-evaluate_disagreements.ipynb\r\n",
      "README.md\r\n"
     ]
    }
   ],
   "source": [
    "%ls"
   ]
  },
  {
   "cell_type": "markdown",
   "metadata": {},
   "source": [
    "## Setup - Initialize Django\n",
    "\n",
    "- Back to [Table of Contents](#Table-of-Contents)\n",
    "\n",
    "First, initialize my dev django project, so I can run code in this notebook that references my django models and can talk to the database using my project's settings.\n",
    "\n",
    "You need to have installed your virtualenv with django as a kernel, then select that kernel for this notebook."
   ]
  },
  {
   "cell_type": "code",
   "execution_count": 4,
   "metadata": {},
   "outputs": [
    {
     "name": "stdout",
     "output_type": "stream",
     "text": [
      "django initialized at 2017-07-05 22:07:02.186291\n"
     ]
    }
   ],
   "source": [
    "%run django_init.py"
   ]
  },
  {
   "cell_type": "markdown",
   "metadata": {},
   "source": [
    "Import any `sourcenet` or `sourcenet_analysis` models or classes."
   ]
  },
  {
   "cell_type": "code",
   "execution_count": 5,
   "metadata": {},
   "outputs": [
    {
     "name": "stdout",
     "output_type": "stream",
     "text": [
      "sourcenet and sourcenet_analysis packages imported at 2017-07-05 22:07:03.566530\n"
     ]
    }
   ],
   "source": [
    "# sourcenet_analysis models.\n",
    "from sourcenet_analysis.models import Reliability_Names_Evaluation\n",
    "\n",
    "print( \"sourcenet and sourcenet_analysis packages imported at \" + str( datetime.datetime.now() ) )"
   ]
  },
  {
   "cell_type": "markdown",
   "metadata": {},
   "source": [
    "# Work\n",
    "\n",
    "- Back to [Table of contents](#Table-of-contents)\n",
    "\n",
    "Read and parse delimited file of Reliability_Names rows we've arleady processed.  Create database row for each."
   ]
  },
  {
   "cell_type": "code",
   "execution_count": 6,
   "metadata": {},
   "outputs": [
    {
     "name": "stdout",
     "output_type": "stream",
     "text": [
      "==> row column count = 7 ( True ) - row: 8362 , Jack Hagedorn , Article [20645](http://research.local/sourcenet/sourcenet/article/article_data/view_with_text/?article_id=20645) , Article_Data: [2322 (coder=8)](http://research.local/sourcenet/sourcenet/article/article_data/view/?article_id=20645&article_data_id_select=2322); [2984 (coder=2)](http://research.local/sourcenet/sourcenet/article/article_data/view/?article_id=20645&article_data_id_select=2984) , CORRECT , Mentioned, SHB Quoted , None\n",
      "==> row column count = 7 ( True ) - row: 8367 , Bo Damstra , Article [20647](http://research.local/sourcenet/sourcenet/article/article_data/view_with_text/?article_id=20647) , Article_Data: [2355 (coder=10)](http://research.local/sourcenet/sourcenet/article/article_data/view/?article_id=20647&article_data_id_select=2355) , CORRECT , MISSED , None\n",
      "==> row column count = 7 ( True ) - row: 8369 , Kyle Moody , Article [20647](http://research.local/sourcenet/sourcenet/article/article_data/view_with_text/?article_id=20647) , Article_Data: [2355 (coder=10)](http://research.local/sourcenet/sourcenet/article/article_data/view/?article_id=20647&article_data_id_select=2355); [2978 (coder=2)](http://research.local/sourcenet/sourcenet/article/article_data/view/?article_id=20647&article_data_id_select=2978) , CORRECT , Mentioned, SHB Quoted , None\n",
      "==> row column count = 7 ( True ) - row: 8385 , Tony Baker , Article [20653](http://research.local/sourcenet/sourcenet/article/article_data/view_with_text/?article_id=20653) , Article_Data: [2323 (coder=8)](http://research.local/sourcenet/sourcenet/article/article_data/view/?article_id=20653&article_data_id_select=2323); [2985 (coder=2)](http://research.local/sourcenet/sourcenet/article/article_data/view/?article_id=20653&article_data_id_select=2985) , CORRECT , Mentioned, SHB Quoted , Odd grammar - no said verb\n",
      "==> row column count = 7 ( True ) - row: 8420 , Ahlanna Holmes , Article [20663](http://research.local/sourcenet/sourcenet/article/article_data/view_with_text/?article_id=20663) , Article_Data: [2321 (coder=9)](http://research.local/sourcenet/sourcenet/article/article_data/view/?article_id=20663&article_data_id_select=2321); [2986 (coder=2)](http://research.local/sourcenet/sourcenet/article/article_data/view/?article_id=20663&article_data_id_select=2986) , CORRECT , Quoted, SHB Mentioned , No clue - 4 mo. old murder victim\n",
      "==> row column count = 7 ( True ) - row: 8502 , Dean Agee , Article [20695](http://research.local/sourcenet/sourcenet/article/article_data/view_with_text/?article_id=20695) , Article_Data: [2358 (coder=10)](http://research.local/sourcenet/sourcenet/article/article_data/view/?article_id=20695&article_data_id_select=2358) , CORRECT , MISSED , Missed entirely\n",
      "==> row column count = 7 ( True ) - row: 8576 , Dan Strikwerda , Article [20722](http://research.local/sourcenet/sourcenet/article/article_data/view_with_text/?article_id=20722) , Article_Data: [2325 (coder=8)](http://research.local/sourcenet/sourcenet/article/article_data/view/?article_id=20722&article_data_id_select=2325); [2981 (coder=2)](http://research.local/sourcenet/sourcenet/article/article_data/view/?article_id=20722&article_data_id_select=2981) , CORRECT , Mentioned, SHB Quoted , None\n",
      "==> row column count = 7 ( True ) - row: 8591 , Jennifer Granholm , Article [20724](http://research.local/sourcenet/sourcenet/article/article_data/view_with_text/?article_id=20724) , Article_Data: [2394 (coder=9)](http://research.local/sourcenet/sourcenet/article/article_data/view/?article_id=20724&article_data_id_select=2394); [2988 (coder=2)](http://research.local/sourcenet/sourcenet/article/article_data/view/?article_id=20724&article_data_id_select=2988) , CORRECT , Quoted, SHB Mentioned , \"say\" used, compound subject, not a direct quote. \n",
      "==> row column count = 7 ( True ) - row: 8625 , Calvin Bosman , Article [20739](http://research.local/sourcenet/sourcenet/article/article_data/view_with_text/?article_id=20739) , Article_Data: [2326 (coder=8)](http://research.local/sourcenet/sourcenet/article/article_data/view/?article_id=20739&article_data_id_select=2326); [2980 (coder=2)](http://research.local/sourcenet/sourcenet/article/article_data/view/?article_id=20739&article_data_id_select=2980) , CORRECT , Quoted, SHB Mentioned , None\n",
      "==> row column count = 7 ( True ) - row: 8621 , Curtis Jacobs , Article [20739](http://research.local/sourcenet/sourcenet/article/article_data/view_with_text/?article_id=20739) , Article_Data: [2326 (coder=8)](http://research.local/sourcenet/sourcenet/article/article_data/view/?article_id=20739&article_data_id_select=2326); [2980 (coder=2)](http://research.local/sourcenet/sourcenet/article/article_data/view/?article_id=20739&article_data_id_select=2980) , CORRECT , Quoted, SHB Mentioned , Might be related to 3-gram - \"As the parents of Curtis Jacobs openly described...\"\n",
      "==> row column count = 7 ( True ) - row: 10625 , John Chapin , Article [20749](http://research.local/sourcenet/sourcenet/article/article_data/view_with_text/?article_id=20749) , Article_Data: [3318 (coder=13)](http://research.local/sourcenet/sourcenet/article/article_data/view/?article_id=20749&article_data_id_select=3318); [3001 (coder=2)](http://research.local/sourcenet/sourcenet/article/article_data/view/?article_id=20749&article_data_id_select=3001) , INCOMPLETE , Coder missed a person , Coder missed a person because of limitation of coding application (\"John and Laura Chapin\"), since fixed so I could fix in ground truth.\n",
      "==> row column count = 7 ( True ) - row: 8844 , Creative Arts Martin Luther King Jr. , Article [20813](http://research.local/sourcenet/sourcenet/article/article_data/view_with_text/?article_id=20813) , Article_Data: [2991 (coder=2)](http://research.local/sourcenet/sourcenet/article/article_data/view/?article_id=20813&article_data_id_select=2991) , CORRECT , Not a person , Human got it right (well, sort of - they got the actual name, but they shouldn't have captured it at all)\n"
     ]
    },
    {
     "ename": "DoesNotExist",
     "evalue": "Reliability_Names matching query does not exist.",
     "output_type": "error",
     "traceback": [
      "\u001b[0;31m---------------------------------------------------------------------------\u001b[0m",
      "\u001b[0;31mDoesNotExist\u001b[0m                              Traceback (most recent call last)",
      "\u001b[0;32m<ipython-input-6-4a478cb095a7>\u001b[0m in \u001b[0;36m<module>\u001b[0;34m()\u001b[0m\n\u001b[1;32m     65\u001b[0m                                                                                    \u001b[0mstatus_IN\u001b[0m \u001b[0;34m=\u001b[0m \u001b[0mstatus\u001b[0m\u001b[0;34m,\u001b[0m\u001b[0;34m\u001b[0m\u001b[0m\n\u001b[1;32m     66\u001b[0m                                                                                    \u001b[0mstatus_message_IN\u001b[0m \u001b[0;34m=\u001b[0m \u001b[0mstatus_message\u001b[0m\u001b[0;34m,\u001b[0m\u001b[0;34m\u001b[0m\u001b[0m\n\u001b[0;32m---> 67\u001b[0;31m                                                                                    notes_IN = notes )\n\u001b[0m\u001b[1;32m     68\u001b[0m \u001b[0;34m\u001b[0m\u001b[0m\n\u001b[1;32m     69\u001b[0m     \u001b[0;31m#-- END loop over rows. --#\u001b[0m\u001b[0;34m\u001b[0m\u001b[0;34m\u001b[0m\u001b[0m\n",
      "\u001b[0;32m~/work/sourcenet/django/research/sourcenet_analysis/models.py\u001b[0m in \u001b[0;36mcreate_from_reliability_names\u001b[0;34m(cls, reliability_names_id_IN, label_IN, status_IN, status_message_IN, notes_IN, tag_list_IN)\u001b[0m\n\u001b[1;32m   1467\u001b[0m             \u001b[0;31m# get Reliability_Names instance.\u001b[0m\u001b[0;34m\u001b[0m\u001b[0;34m\u001b[0m\u001b[0m\n\u001b[1;32m   1468\u001b[0m             \u001b[0mreliability_names_qs\u001b[0m \u001b[0;34m=\u001b[0m \u001b[0mReliability_Names\u001b[0m\u001b[0;34m.\u001b[0m\u001b[0mobjects\u001b[0m\u001b[0;34m.\u001b[0m\u001b[0mall\u001b[0m\u001b[0;34m(\u001b[0m\u001b[0;34m)\u001b[0m\u001b[0;34m\u001b[0m\u001b[0m\n\u001b[0;32m-> 1469\u001b[0;31m             \u001b[0mreliability_names_instance\u001b[0m \u001b[0;34m=\u001b[0m \u001b[0mreliability_names_qs\u001b[0m\u001b[0;34m.\u001b[0m\u001b[0mget\u001b[0m\u001b[0;34m(\u001b[0m \u001b[0mpk\u001b[0m \u001b[0;34m=\u001b[0m \u001b[0mreliability_names_id\u001b[0m \u001b[0;34m)\u001b[0m\u001b[0;34m\u001b[0m\u001b[0m\n\u001b[0m\u001b[1;32m   1470\u001b[0m \u001b[0;34m\u001b[0m\u001b[0m\n\u001b[1;32m   1471\u001b[0m             \u001b[0;31m# ==> Reliability_Names information\u001b[0m\u001b[0;34m\u001b[0m\u001b[0;34m\u001b[0m\u001b[0m\n",
      "\u001b[0;32m~/.virtualenvs/sourcenet/lib/python3.5/site-packages/django/db/models/query.py\u001b[0m in \u001b[0;36mget\u001b[0;34m(self, *args, **kwargs)\u001b[0m\n\u001b[1;32m    378\u001b[0m             raise self.model.DoesNotExist(\n\u001b[1;32m    379\u001b[0m                 \u001b[0;34m\"%s matching query does not exist.\"\u001b[0m \u001b[0;34m%\u001b[0m\u001b[0;34m\u001b[0m\u001b[0m\n\u001b[0;32m--> 380\u001b[0;31m                 \u001b[0mself\u001b[0m\u001b[0;34m.\u001b[0m\u001b[0mmodel\u001b[0m\u001b[0;34m.\u001b[0m\u001b[0m_meta\u001b[0m\u001b[0;34m.\u001b[0m\u001b[0mobject_name\u001b[0m\u001b[0;34m\u001b[0m\u001b[0m\n\u001b[0m\u001b[1;32m    381\u001b[0m             )\n\u001b[1;32m    382\u001b[0m         raise self.model.MultipleObjectsReturned(\n",
      "\u001b[0;31mDoesNotExist\u001b[0m: Reliability_Names matching query does not exist."
     ]
    }
   ],
   "source": [
    "# CONSTANTS-ish\n",
    "\n",
    "# header indexes:\n",
    "#ID | Name | Article | Article_Data_List | Status | Error? (SHB = Should Have Been)| Notes\n",
    "INDEX_RELIABILITY_NAMES_ID = 0\n",
    "INDEX_PERSON_NAME = 1\n",
    "INDEX_ARTICLE_INFO = 2\n",
    "INDEX_ARTICLE_DATA_LIST = 3\n",
    "INDEX_STATUS = 4\n",
    "INDEX_STATUS_MESSAGE = 5\n",
    "INDEX_NOTES = 6\n",
    "\n",
    "# declare variables\n",
    "delimited_file_path = \"\"\n",
    "delimited_file = None\n",
    "delimited_reader = None\n",
    "current_row = None\n",
    "rn_instance = None\n",
    "rne_instance = None\n",
    "\n",
    "# declare variables - column values\n",
    "reliability_names_id = -1\n",
    "person_name = \"\"\n",
    "article_info = \"\"\n",
    "article_data_list = \"\"\n",
    "status = \"\"\n",
    "status_message = \"\"\n",
    "notes = \"\"\n",
    "label = \"\"\n",
    "\n",
    "# file path?\n",
    "delimited_file_path = \"reliability_names_evaluations.txt\"\n",
    "\n",
    "# read file\n",
    "with open( delimited_file_path ) as delimited_file:\n",
    "    \n",
    "    # CSV reader\n",
    "    delimited_reader = csv.reader( delimited_file, delimiter='|' )\n",
    "\n",
    "    # first row is column names\n",
    "    current_row = six.next( delimited_reader )\n",
    "    \n",
    "    # init shared values\n",
    "    label = \"prelim_month\"\n",
    "    \n",
    "    # now loop over rest of rows.\n",
    "    for current_row in delimited_reader:\n",
    "        \n",
    "        # print out the row.\n",
    "        column_count = len( current_row )\n",
    "        print( \"==> row column count = \" + str( column_count ) + \" ( \" + str( column_count == 7 ) + \" ) - row: \" + \",\".join( current_row ) )\n",
    "        \n",
    "        # get values\n",
    "        reliability_names_id = current_row[ INDEX_RELIABILITY_NAMES_ID ]\n",
    "        reliability_names_id = int( reliability_names_id )\n",
    "        person_name = current_row[ INDEX_PERSON_NAME ]\n",
    "        article_info = current_row[ INDEX_ARTICLE_INFO ]\n",
    "        article_data_list = current_row[ INDEX_ARTICLE_DATA_LIST ]\n",
    "        status = current_row[ INDEX_STATUS ]\n",
    "        status_message = current_row[ INDEX_STATUS_MESSAGE ]\n",
    "        notes = current_row[ INDEX_NOTES ]\n",
    "        \n",
    "        # check to see if Reliability_Names record still exists.\n",
    "        \n",
    "        \n",
    "        # Make Reliability_Names_Evaluation instance\n",
    "        rne_instance = Reliability_Names_Evaluation.create_from_reliability_names( reliability_names_id,\n",
    "                                                                                   label_IN = label,\n",
    "                                                                                   status_IN = status,\n",
    "                                                                                   status_message_IN = status_message,\n",
    "                                                                                   notes_IN = notes )\n",
    "        \n",
    "    #-- END loop over rows. --#\n",
    "    \n",
    "#-- END with open( delimited_file_path ) --#"
   ]
  },
  {
   "cell_type": "markdown",
   "metadata": {},
   "source": [
    "# TODO\n",
    "\n",
    "- Back to [Table of Contents](#Table-of-Contents)\n",
    "\n",
    "TODO:\n",
    "\n",
    "- check if Reliability_Names exists.  If not, parse Article, Article_Data, Persons, and make a row by hand...  Or update the create() method so that it can accept a list of persons and Article_Datas instead of needing to get them from Reliability_Names.\n",
    "- wipe table and re-run.\n",
    "- go through and update by hand the flags for the other lists.\n",
    "- make a list of those that were merged?\n",
    "- update with single name removals?"
   ]
  }
 ],
 "metadata": {
  "kernelspec": {
   "display_name": "sourcenet (Python 3)",
   "language": "python",
   "name": "sourcenet"
  },
  "language_info": {
   "codemirror_mode": {
    "name": "ipython",
    "version": 3
   },
   "file_extension": ".py",
   "mimetype": "text/x-python",
   "name": "python",
   "nbconvert_exporter": "python",
   "pygments_lexer": "ipython3",
   "version": "3.5.2"
  }
 },
 "nbformat": 4,
 "nbformat_minor": 1
}
