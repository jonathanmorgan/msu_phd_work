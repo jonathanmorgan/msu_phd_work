{
 "cells": [
  {
   "cell_type": "markdown",
   "metadata": {},
   "source": [
    "# 2016.12.11 - work log\n",
    "\n",
    "# Table of Contents\n",
    "\n",
    "- [Setup](#Setup)\n",
    "\n",
    "    - [Setup - Imports](#Setup---Imports)\n",
    "    - [Setup - Initialize Django](#Setup---Initialize-Django)\n",
    "\n",
    "- [Data cleanup](#Data-cleanup)\n",
    "\n",
    "    - [Remove single name reliability data](#Remove-single-name-reliability-data)\n",
    "    \n",
    "        - [Single-name data assessment](#Single-name-data-assessment)\n",
    "        - [Delete single-name data](#Delete-selected-single-name-data)\n",
    "\n",
    "- [Coding to look into](#Coding-to-look-into)\n",
    "- [Debugging](#Debugging)"
   ]
  },
  {
   "cell_type": "markdown",
   "metadata": {},
   "source": [
    "# Setup\n",
    "\n",
    "- Back to [Table of Contents](#Table-of-Contents)"
   ]
  },
  {
   "cell_type": "markdown",
   "metadata": {},
   "source": [
    "## Setup - Imports\n",
    "\n",
    "- Back to [Table of Contents](#Table-of-Contents)"
   ]
  },
  {
   "cell_type": "code",
   "execution_count": null,
   "metadata": {
    "collapsed": false
   },
   "outputs": [],
   "source": [
    "import datetime\n",
    "\n",
    "print( \"packages imported at \" + str( datetime.datetime.now() ) )"
   ]
  },
  {
   "cell_type": "code",
   "execution_count": null,
   "metadata": {
    "collapsed": false
   },
   "outputs": [],
   "source": [
    "%pwd"
   ]
  },
  {
   "cell_type": "markdown",
   "metadata": {},
   "source": [
    "## Setup - Initialize Django\n",
    "\n",
    "- Back to [Table of Contents](#Table-of-Contents)\n",
    "\n",
    "First, initialize my dev django project, so I can run code in this notebook that references my django models and can talk to the database using my project's settings."
   ]
  },
  {
   "cell_type": "code",
   "execution_count": null,
   "metadata": {
    "collapsed": false
   },
   "outputs": [],
   "source": [
    "%run django_init.py"
   ]
  },
  {
   "cell_type": "markdown",
   "metadata": {},
   "source": [
    "# Data cleanup \n",
    "\n",
    "- Back to [Table of Contents](#Table-of-Contents)"
   ]
  },
  {
   "cell_type": "markdown",
   "metadata": {
    "collapsed": true
   },
   "source": [
    "## Remove single-name reliability data\n",
    "\n",
    "- Back to [Table of Contents](#Table-of-Contents)\n",
    "\n",
    "Next, remove all reliability data that refers to a single name using the \"View reliability name information\" screen:\n",
    "\n",
    "- [https://data.jrn.cas.msu.edu/sourcenet-dev/sourcenet/analysis/reliability/names/disagreement/view](https://data.jrn.cas.msu.edu/sourcenet-dev/sourcenet/analysis/reliability/names/disagreement/view)\n",
    "\n",
    "To start, enter the following in fields there:\n",
    "\n",
    "- Label: - \"prelim_month\"\n",
    "- Coders to compare (1 through ==>): - 2\n",
    "- Reliability names filter type: - Select \"Lookup\"\n",
    "- [Lookup] - Person has first name, no other name parts. - CHECK the checkbox\n",
    "\n",
    "You should see lots of entries where coders detected people who were mentioned only by their first name."
   ]
  },
  {
   "cell_type": "markdown",
   "metadata": {},
   "source": [
    "### Single-name data assessment\n",
    "\n",
    "- Back to [Table of Contents](#Table-of-Contents)\n",
    "\n",
    "Need to look at each instance where a person has a single name part.\n",
    "\n",
    "Most are probably instances where the computer correctly detected the name part, but where you don't have enough name to match it to a person so the human coding protocol directed them to not capture the name fragment.\n",
    "\n",
    "However, there might be some where a coder made a mistake and just captured a name part for a person whose full name was in the story.  To check, click the \"Article ID\" in the column that has a link to article ID. It will take you to a view of the article where all the people who coded the article are included, with each detection of a mention or quotation displayed next to the paragraph where the person was originally first detected.\n",
    "\n",
    "So for each instance of a single name part:\n",
    "\n",
    "- click on the article ID link in the row to go to the article and check to see if there is person whose name the fragment is a part of ( [https://data.jrn.cas.msu.edu/sourcenet-dev/sourcenet/article/article_data/view_with_text/](https://data.jrn.cas.msu.edu/sourcenet-dev/sourcenet/article/article_data/view_with_text/) ).\n",
    "\n",
    "    - If there is a person with a full name to which the name fragment is a reference, check to see if the coder has data for the full person.\n",
    "    \n",
    "        - if not, merge:\n",
    "        \n",
    "            - go to the disagreement view page: [https://data.jrn.cas.msu.edu/sourcenet-dev/sourcenet/analysis/reliability/names/disagreement/view](https://data.jrn.cas.msu.edu/sourcenet-dev/sourcenet/analysis/reliability/names/disagreement/view)\n",
    "            - Configure:\n",
    "\n",
    "                - Label: - \"prelim_month\"\n",
    "                - Coders to compare (1 through ==>): - 2\n",
    "                - Reliability names filter type: - Select \"Lookup\"\n",
    "                - [Lookup] - Associated Article IDs (comma-delimited): - Enter the ID of the article the coding belonged to.\n",
    "                \n",
    "            - this will bring up all coding for the article whose ID you entered.\n",
    "            - In the \"select\" column, click the checkbox in the row where there is a single name part that needs to be merged.\n",
    "            - In the \"merge INTO\" column, click the checbox in the row with the full name for that person.\n",
    "            - In \"Reliability Names Action\", choose \"Merge Coding --> FROM 1 SELECTED / INTO 1\"\n",
    "            - Click \"Do Action\" button.\n",
    "            \n",
    "    - Remove the `Reliability_Names` row with the name fragment from reliability data."
   ]
  },
  {
   "cell_type": "markdown",
   "metadata": {},
   "source": [
    "### Delete single-name data\n",
    "\n",
    "- Back to [Table of Contents](#Table-of-Contents)\n",
    "\n",
    "To get rid of all matching in this list, click the checkbox in the \"select\" column next to each one you want to delete (sorry, no \"select all\" just yet), choose \"Delete selected\" from the \"Reliability names action:\" field at the top of the list, then click the \"Do action\" button.\n",
    "\n",
    "Reliability_Names records Removed:"
   ]
  },
  {
   "cell_type": "markdown",
   "metadata": {},
   "source": [
    "| ID | Article | Article_Data | Article_Subject |\n",
    "|------|------|------|------|\n",
    "| 8618 | Article [20739](https://data.jrn.cas.msu.edu/sourcenet-dev/sourcenet/article/article_data/view_with_text/?article_id=20739) | Article_Data [2980](https://data.jrn.cas.msu.edu/sourcenet-dev/sourcenet/article/article_data/view/?article_id=20739&article_data_id_select=2980) | 11006 (AS) - Christopher ( id = 2776; capture_method = OpenCalais_REST_API_v2 ) (mentioned; individual) ==> name: Christopher |\n",
    "| 8705 | Article [20843](https://data.jrn.cas.msu.edu/sourcenet-dev/sourcenet/article/article_data/view_with_text/?article_id=20843) | Article_Data [3000](https://data.jrn.cas.msu.edu/sourcenet-dev/sourcenet/article/article_data/view/?article_id=20843&article_data_id_select=3000) | 11102 (AS) - Brock ( id = 2798; capture_method = OpenCalais_REST_API_v2 ) (mentioned; individual) ==> name: Brock |\n",
    "| 9163 | Article [20912](https://data.jrn.cas.msu.edu/sourcenet-dev/sourcenet/article/article_data/view_with_text/?article_id=20912) | Article_Data [3015](https://data.jrn.cas.msu.edu/sourcenet-dev/sourcenet/article/article_data/view/?article_id=20912&article_data_id_select=3015) | 11147 (AS) - Slate ( id = 2801; capture_method = OpenCalais_REST_API_v2 ) (mentioned; individual) ==> name: Slate |\n",
    "    | 9243 | Article [20936](https://data.jrn.cas.msu.edu/sourcenet-dev/sourcenet/article/article_data/view_with_text/?article_id=20936) | Article_Data [3002](https://data.jrn.cas.msu.edu/sourcenet-dev/sourcenet/article/article_data/view/?article_id=20936&article_data_id_select=3002) | 11110 (AS) - Christine ( id = 2800; capture_method = OpenCalais_REST_API_v2 ) (mentioned; individual) ==> name: Christine |\n",
    "| <Reliability_Names_id> | Article [21049](https://data.jrn.cas.msu.edu/sourcenet-dev/sourcenet/article/article_data/view_with_text/?article_id=21049) | Article_Data [<ADID>](https://data.jrn.cas.msu.edu/sourcenet-dev/sourcenet/article/article_data/view/?article_id=21049&article_data_id_select=<ADID>) | <str( Article_Subject )> |\n",
    "\n",
    "| <Reliability_Names_id> | Article [<AID>](https://data.jrn.cas.msu.edu/sourcenet-dev/sourcenet/article/article_data/view_with_text/?article_id=<AID>) | Article_Data [<ADID>](https://data.jrn.cas.msu.edu/sourcenet-dev/sourcenet/article/article_data/view/?article_id=<AID>&article_data_id_select=<ADID>) | <str( Article_Subject )> |"
   ]
  },
  {
   "cell_type": "markdown",
   "metadata": {},
   "source": [
    "Reliability_Names records merged:"
   ]
  },
  {
   "cell_type": "markdown",
   "metadata": {},
   "source": [
    "| ID FROM | ID INTO | Article | Article_Data | Article_Subject |\n",
    "|------|------|------|------|------|"
   ]
  },
  {
   "cell_type": "markdown",
   "metadata": {},
   "source": [
    "# TODO\n",
    "\n",
    "- In the disagreement page:\n",
    "    \n",
    "    - https://data.jrn.cas.msu.edu/sourcenet-dev/sourcenet/analysis/reliability/names/disagreement/view\n",
    "    \n",
    "    update so the Reliability_Name IDs are listed on the disagreement page.    \n",
    "- "
   ]
  },
  {
   "cell_type": "code",
   "execution_count": null,
   "metadata": {
    "collapsed": true
   },
   "outputs": [],
   "source": []
  },
  {
   "cell_type": "markdown",
   "metadata": {},
   "source": [
    "# Coding to look into\n",
    "\n",
    "- Back to [Table of Contents](#Table-of-Contents)\n",
    "\n",
    "Coding decisions to look at more closely:"
   ]
  },
  {
   "cell_type": "markdown",
   "metadata": {},
   "source": [
    "# Debugging\n",
    "\n",
    "- Back to [Table of Contents](#Table-of-Contents)\n",
    "\n",
    "Debuggin:"
   ]
  }
 ],
 "metadata": {
  "kernelspec": {
   "display_name": "sourcenet (python 3)",
   "language": "python",
   "name": "sourcenet"
  },
  "language_info": {
   "codemirror_mode": {
    "name": "ipython",
    "version": 3
   },
   "file_extension": ".py",
   "mimetype": "text/x-python",
   "name": "python",
   "nbconvert_exporter": "python",
   "pygments_lexer": "ipython3",
   "version": "3.5.2"
  }
 },
 "nbformat": 4,
 "nbformat_minor": 1
}
