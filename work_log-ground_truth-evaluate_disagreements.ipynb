{
 "cells": [
  {
   "cell_type": "markdown",
   "metadata": {},
   "source": [
    "# work log - ground truth - evaluate disagreements\n",
    "\n",
    "# Table of Contents\n",
    "\n",
    "- [Setup](#Setup)\n",
    "\n",
    "    - [Setup - Imports](#Setup---Imports)\n",
    "    - [Setup - Initialize Django](#Setup---Initialize-Django)\n",
    "    - [Setup - Tools](#Setup---Tools)\n",
    "\n",
    "        - [Tool - copy `Article_Data` to user `ground_truth`](#Tool---copy-Article_Data-to-user-ground_truth)\n",
    "        - [Tool - delete `Article_Data`](#Tool---delete-Article_Data)\n",
    "        - [Tool - rebuild `Reliability_Names` for an article](#Tool---rebuild-Reliability_Names-for-an-article)\n",
    "\n",
    "            - [Delete existing `Reliability_Names` for article](#Delete-existing-Reliability_Names-for-article)\n",
    "            - [Make new `Reliability_Names`](#Make-new-Reliability_Names)\n",
    "\n",
    "- [Evaluate disagreements](#Evaluate-disagreements)\n",
    "\n",
    "    - [Tag disagreements as TODO](#Tag-disagreements-as-TODO)\n",
    "    - [View disagreements](#View-disagreements)\n",
    "    \n",
    "        - [Disagreement evaluation](#Disagreement-evaluation)\n",
    "        - [Disagreement resolution](#Disagreement-resolution)\n",
    "        \n",
    "            - [Human coder error](#Human-coder-error)\n",
    "            - [Merging computer and human Reliability_Names records](#Merging-computer-and-human-Reliability_Names-records)\n",
    "        \n",
    "        - [Resolution logs](#Resolution-logs)\n",
    "        \n",
    "            - [Evaluation log](#Evaluation-log)\n",
    "            - [Ground-truth coding fixed](#Ground-truth-coding-fixed)\n",
    "            - [`Reliability_Names` records merged](#Reliability_Names-records-merged)\n",
    "            - [Deleted `Reliability_Names` records](#Deleted-Reliability_Names-records)\n",
    "\n",
    "- [Notes](#Notes)\n",
    "\n",
    "    - [Notes and questions](#Notes-and-questions)\n",
    "    - [Errors](#Errors)\n",
    "\n",
    "- [TODO](#TODO)\n",
    "\n",
    "    - [TODO - Update protocol](#TODO---Update-protocol)\n",
    "    - [Coding to look into](#Coding-to-look-into)\n",
    "    - [Debugging](#Debugging)\n",
    "\n",
    "- [DONE](#DONE)\n",
    "\n",
    "    - [quotes that contain paragraph break](#quotes-that-contain-paragraph-break)\n",
    "\n",
    "- [NEXT](#DONE)"
   ]
  },
  {
   "cell_type": "markdown",
   "metadata": {},
   "source": [
    "# Setup\n",
    "\n",
    "- Back to [Table of Contents](#Table-of-Contents)"
   ]
  },
  {
   "cell_type": "markdown",
   "metadata": {},
   "source": [
    "## Setup - Imports\n",
    "\n",
    "- Back to [Table of Contents](#Table-of-Contents)"
   ]
  },
  {
   "cell_type": "code",
   "execution_count": null,
   "metadata": {},
   "outputs": [],
   "source": [
    "import datetime\n",
    "import json\n",
    "import six\n",
    "\n",
    "print( \"packages imported at \" + str( datetime.datetime.now() ) )"
   ]
  },
  {
   "cell_type": "code",
   "execution_count": null,
   "metadata": {},
   "outputs": [],
   "source": [
    "%pwd"
   ]
  },
  {
   "cell_type": "markdown",
   "metadata": {},
   "source": [
    "## Setup - Initialize Django\n",
    "\n",
    "- Back to [Table of Contents](#Table-of-Contents)\n",
    "\n",
    "First, initialize my dev django project, so I can run code in this notebook that references my django models and can talk to the database using my project's settings.\n",
    "\n",
    "You need to have installed your virtualenv with django as a kernel, then select that kernel for this notebook."
   ]
  },
  {
   "cell_type": "code",
   "execution_count": null,
   "metadata": {},
   "outputs": [],
   "source": [
    "%run django_init.py"
   ]
  },
  {
   "cell_type": "markdown",
   "metadata": {},
   "source": [
    "Import any `sourcenet` or `sourcenet_analysis` models or classes."
   ]
  },
  {
   "cell_type": "code",
   "execution_count": null,
   "metadata": {},
   "outputs": [],
   "source": [
    "# django imports\n",
    "from django.contrib.auth.models import User\n",
    "\n",
    "# sourcenet shared\n",
    "from sourcenet.shared.person_details import PersonDetails\n",
    "\n",
    "# sourcenet models.\n",
    "from sourcenet.models import Article\n",
    "from sourcenet.models import Article_Data\n",
    "from sourcenet.models import Article_Subject\n",
    "from sourcenet.models import Person\n",
    "from sourcenet.shared.sourcenet_base import SourcenetBase\n",
    "from sourcenet.tests.models.test_Article_Data_model import Article_Data_Copy_Tester\n",
    "\n",
    "# sourcenet article_coding\n",
    "from sourcenet.article_coding.article_coding import ArticleCoder\n",
    "from sourcenet.article_coding.manual_coding.manual_article_coder import ManualArticleCoder\n",
    "\n",
    "# sourcenet_analysis models.\n",
    "from sourcenet_analysis.models import Reliability_Names\n",
    "from sourcenet_analysis.models import Reliability_Names_Evaluation\n",
    "from sourcenet_analysis.reliability.reliability_names_builder import ReliabilityNamesBuilder\n",
    "\n",
    "print( \"sourcenet and sourcenet_analysis packages imported at \" + str( datetime.datetime.now() ) )"
   ]
  },
  {
   "cell_type": "markdown",
   "metadata": {},
   "source": [
    "## Setup - Tools\n",
    "\n",
    "- Back to [Table of Contents](#Table-of-Contents)"
   ]
  },
  {
   "cell_type": "markdown",
   "metadata": {},
   "source": [
    "### Tool - copy Article_Data to user ground_truth\n",
    "\n",
    "- Back to [Table of Contents](#Table-of-Contents)\n",
    "\n",
    "Retrieve the ground truth user, then make a deep copy of an Article_Data record, assigning it to the ground truth user."
   ]
  },
  {
   "cell_type": "code",
   "execution_count": null,
   "metadata": {},
   "outputs": [],
   "source": [
    "def copy_to_ground_truth_user( source_article_data_id_IN ):\n",
    "\n",
    "    '''\n",
    "    Accepts ID of Article_Data instance to copy to ground_truth user,\n",
    "        for correcting coding error made by human coder.  Performs a deep\n",
    "        copy of Article_Data instance, then assignes it to the ground_truth\n",
    "        user.  Prints any validation errors, returns the new Article_Data.\n",
    "    '''\n",
    "    \n",
    "    # return reference\n",
    "    new_article_data_instance_OUT = -1\n",
    "    \n",
    "    # declare variables\n",
    "    ground_truth_user = None\n",
    "    ground_truth_user_id = -1\n",
    "    id_of_article_data_to_copy = -1\n",
    "    new_article_data = None\n",
    "    new_article_data_id = -1\n",
    "    validation_error_list = None\n",
    "    validation_error_count = -1\n",
    "    validation_error = None\n",
    "\n",
    "    # set ID of article data we want to copy.\n",
    "    id_of_article_data_to_copy = source_article_data_id_IN\n",
    "\n",
    "    # get the ground_truth user's ID.\n",
    "    ground_truth_user = SourcenetBase.get_ground_truth_coding_user()\n",
    "    ground_truth_user_id = ground_truth_user.id\n",
    "\n",
    "    # make the copy\n",
    "    new_article_data = Article_Data.make_deep_copy( id_of_article_data_to_copy,\n",
    "                                                    new_coder_user_id_IN = ground_truth_user_id )\n",
    "    new_article_data_id = new_article_data.id\n",
    "\n",
    "    # validate it.\n",
    "    validation_error_list = Article_Data_Copy_Tester.validate_article_data_deep_copy( original_article_data_id_IN = id_of_article_data_to_copy,\n",
    "                                                                                      copy_article_data_id_IN = new_article_data_id,\n",
    "                                                                                      copy_coder_user_id_IN = ground_truth_user_id )\n",
    "\n",
    "    # get error count:\n",
    "    validation_error_count = len( validation_error_list )\n",
    "    if ( validation_error_count > 0 ):\n",
    "\n",
    "        # loop and output messages\n",
    "        for validation_error in validation_error_list:\n",
    "\n",
    "            print( \"- Validation erorr: \" + str( validation_error ) )\n",
    "\n",
    "        #-- END loop over validation errors. --#\n",
    "\n",
    "    else:\n",
    "\n",
    "        # no errors - success!\n",
    "        print( \"Record copy a success (as far as we know)!\" )\n",
    "\n",
    "    #-- END check to see if validation errors --#\n",
    "\n",
    "    print( \"copied Article_Data id \" + str( id_of_article_data_to_copy ) + \" INTO Article_Data id \" + str( new_article_data_id ) + \" at \" + str( datetime.datetime.now() ) )\n",
    "    \n",
    "    new_article_data_instance_OUT = new_article_data\n",
    "    \n",
    "    return new_article_data_instance_OUT\n",
    "\n",
    "#-- END function copy_to_ground_truth_user() --#\n",
    "\n",
    "print( \"function copy_to_ground_truth_user() defined at \" + str( datetime.datetime.now() ) )"
   ]
  },
  {
   "cell_type": "code",
   "execution_count": null,
   "metadata": {
    "collapsed": true
   },
   "outputs": [],
   "source": [
    "# Example: set ID of article data we want to copy.\n",
    "#copy_to_ground_truth_user( 2342 )"
   ]
  },
  {
   "cell_type": "markdown",
   "metadata": {},
   "source": [
    "### Tool - delete Article_Data\n",
    "\n",
    "- Back to [Table of Contents](#Table-of-Contents)\n",
    "\n",
    "Delete the Article_Data whose ID you specify (intended only when you accidentally create a \"`ground_truth`\")."
   ]
  },
  {
   "cell_type": "code",
   "execution_count": null,
   "metadata": {},
   "outputs": [],
   "source": [
    "def delete_article_data( article_data_id_IN, do_delete_IN = False ):\n",
    "\n",
    "    # declare variables\n",
    "    article_data_id = -1\n",
    "    article_data = None\n",
    "    do_delete = False\n",
    "\n",
    "    # set do_delete from parameter.\n",
    "    do_delete = do_delete_IN\n",
    "    \n",
    "    # set ID.\n",
    "    article_data_id = article_data_id_IN\n",
    "\n",
    "    # get model instance\n",
    "    article_data = Article_Data.objects.get( id = article_data_id )\n",
    "\n",
    "    # got something?\n",
    "    if ( article_data is not None ):\n",
    "\n",
    "        # yes.  Delete?\n",
    "        if ( do_delete == True ):\n",
    "\n",
    "            # delete.\n",
    "            print( \"Deleting Article_Data: \" + str( article_data ) )\n",
    "            article_data.delete()\n",
    "\n",
    "        else:\n",
    "\n",
    "            # no delete.\n",
    "            print( \"Found Article_Data: \" + str( article_data ) + \", but not deleting.\" )\n",
    "\n",
    "        #-- END check to see if we delete --#\n",
    "\n",
    "    #-- END check to see if Article_Data match. --#\n",
    "    \n",
    "#-- END function delete_article_data() --#\n",
    "\n",
    "print( \"function delete_article_data() defined at \" + str( datetime.datetime.now() ) )"
   ]
  },
  {
   "cell_type": "markdown",
   "metadata": {},
   "source": [
    "### Tool - update Reliability_Names labels for an article\n",
    "\n",
    "- Back to [Table of Contents](#Table-of-Contents)\n",
    "\n",
    "Steps:\n",
    "\n",
    "- retrieve the Reliability_Names row(s) for article with a paritcular ID, and filter on label if one provided.\n",
    "- update the selected Reliability_Names row(s) with a new label you pass in."
   ]
  },
  {
   "cell_type": "code",
   "execution_count": null,
   "metadata": {},
   "outputs": [],
   "source": [
    "def update_reliability_names_label_for_article( article_id_IN, new_label_IN ):\n",
    "\n",
    "    # declare variables\n",
    "    article_id = -1\n",
    "    label = \"\"\n",
    "    row_string_list = None\n",
    "\n",
    "    # first, get existing Reliability_Names rows for article and label.\n",
    "    article_id = article_id_IN\n",
    "    label = \"prelim_month\"\n",
    "\n",
    "    # Do the update\n",
    "    row_string_list = Reliability_Names.update_reliabilty_names_for_article( article_id,\n",
    "                                                                             filter_label_IN = label,\n",
    "                                                                             new_label_IN = new_label_IN,\n",
    "                                                                             do_delete_IN = False )\n",
    "\n",
    "    # print the strings.\n",
    "    for row_string in row_string_list:\n",
    "\n",
    "        # print it.\n",
    "        print( row_string )\n",
    "\n",
    "    #-- END loop over row strings --#\n",
    "\n",
    "#-- END function delete_reliability_names_for_article() --#\n",
    "\n",
    "print( \"function update_reliability_names_label_for_article() defined at \" + str( datetime.datetime.now() ) )"
   ]
  },
  {
   "cell_type": "markdown",
   "metadata": {},
   "source": [
    "### Tool - rebuild Reliability_Names for an article\n",
    "\n",
    "- Back to [Table of Contents](#Table-of-Contents)\n",
    "\n",
    "Steps:\n",
    "\n",
    "- retrieve the Reliability_Names row(s) for article with a paritcular ID, and filter on label if one provided.\n",
    "- delete the selected Reliability_Names row(s).\n",
    "- set up a call to the Reliability_Names program that just generates data for:\n",
    "\n",
    "    - the article in question\n",
    "    - users in a desired order.\n",
    "    - etc."
   ]
  },
  {
   "cell_type": "markdown",
   "metadata": {},
   "source": [
    "#### Delete existing Reliability_Names for article\n",
    "\n",
    "- Back to [Table of Contents](#Table-of-Contents)"
   ]
  },
  {
   "cell_type": "code",
   "execution_count": null,
   "metadata": {},
   "outputs": [],
   "source": [
    "def delete_reliability_names_for_article( article_id_IN ):\n",
    "\n",
    "    # declare variables\n",
    "    article_id = -1\n",
    "    label = \"\"\n",
    "    do_delete = False\n",
    "    row_string_list = None\n",
    "\n",
    "    # first, get existing Reliability_Names rows for article and label.\n",
    "    article_id = article_id_IN\n",
    "    label = \"prelim_month\"\n",
    "    do_delete = True\n",
    "\n",
    "    # Do the delete\n",
    "    row_string_list = Reliability_Names.delete_reliabilty_names_for_article( article_id,\n",
    "                                                                             label_IN = label,\n",
    "                                                                             do_delete_IN = do_delete )\n",
    "\n",
    "    # print the strings.\n",
    "    for row_string in row_string_list:\n",
    "\n",
    "        # print it.\n",
    "        print( row_string )\n",
    "\n",
    "    #-- END loop over row strings --#\n",
    "\n",
    "#-- END function delete_reliability_names_for_article() --#\n",
    "\n",
    "print( \"function delete_reliability_names_for_article() defined at \" + str( datetime.datetime.now() ) )"
   ]
  },
  {
   "cell_type": "markdown",
   "metadata": {},
   "source": [
    "#### Make new Reliability_Names\n",
    "\n",
    "- Back to [Table of Contents](#Table-of-Contents)"
   ]
  },
  {
   "cell_type": "code",
   "execution_count": null,
   "metadata": {},
   "outputs": [],
   "source": [
    "def rebuild_reliability_names_for_article( article_id_IN, delete_existing_first_IN = True ):\n",
    "    \n",
    "    '''\n",
    "    Remove existing Reliability_Names records for article, then rebuild them\n",
    "        from related Article_Data that matches any specified criteria.\n",
    "        \n",
    "    Detailed logic:\n",
    "    - remove old Reliability_Names for that article ( [Delete existing `Reliability_Names` for article](#Delete-existing-Reliability_Names-for-article) ).  Make sure to specify both label and Article ID, so you don't delete more than you intend.\n",
    "    - re-run Reliability_Names creation for the article ( [Make new `Reliability_Names`](#Make-new-Reliability_Names) ).  Specify:\n",
    "\n",
    "        - Article ID list (just put the ID of the article you want to reprocess in the list).\n",
    "        - label: make sure this is the same as the label of the rest of your Reliability_Names records (\"prelim_month\").\n",
    "        - Tag list: If you want to make even more certain that you don't do something unexpected, also specify the article tags that make up your current data set, so if you accidentally specify the ID of an article not in your data set, it won't process.  Current tag is \"grp_month\".\n",
    "        - Coders to assign to which index in the Reliability_Names record, and in what priority.  You can assign multiple coders to a given index, for example, when multiple coders coded subsets of a data set, and you want their combined coding to be used as \"coder 1\" or \"coder 2\", for example.  See the cell for an example.\n",
    "        - Automated coder type: You can specify the particular automated coding type you want for automated coder, to filter out coding done by other automated methods.  See the cell for an example for \"OpenCalais v2\".\n",
    "    '''\n",
    "    \n",
    "    # django imports\n",
    "    #from django.contrib.auth.models import User\n",
    "\n",
    "    # sourcenet imports\n",
    "    #from sourcenet.shared.sourcenet_base import SourcenetBase\n",
    "\n",
    "    # sourcenet_analysis imports\n",
    "    #from sourcenet_analysis.reliability.reliability_names_builder import ReliabilityNamesBuilder\n",
    "\n",
    "    # declare variables\n",
    "    my_reliability_instance = None\n",
    "    tag_in_list = []\n",
    "    article_id_in_list = []\n",
    "    label = \"\"\n",
    "\n",
    "    # declare variables - user setup\n",
    "    current_coder = None\n",
    "    current_coder_id = -1\n",
    "    current_index = -1\n",
    "\n",
    "    # declare variables - Article_Data filtering.\n",
    "    coder_type = \"\"\n",
    "\n",
    "    # delete old Reliability_Names?\n",
    "    if ( delete_existing_first_IN == True ):\n",
    "        \n",
    "        # delete first\n",
    "        delete_reliability_names_for_article( article_id_IN )\n",
    "        \n",
    "    #-- END check to see if we delete first --#\n",
    "    \n",
    "    # make reliability instance\n",
    "    my_reliability_instance = ReliabilityNamesBuilder()\n",
    "\n",
    "    #===============================================================================\n",
    "    # configure\n",
    "    #===============================================================================\n",
    "\n",
    "    # list of tags of articles we want to process.\n",
    "    tag_in_list = [ \"grp_month\", ]\n",
    "\n",
    "    # list of IDs of articles we want to process:\n",
    "    article_id_in_list = [ article_id_IN, ]\n",
    "\n",
    "    # label to associate with results, for subsequent lookup.\n",
    "    label = \"prelim_month\"\n",
    "\n",
    "    # ! ====> map coders to indices\n",
    "\n",
    "    # set it up so that...\n",
    "\n",
    "    # ...the ground truth user has highest priority (4) for index 1...\n",
    "    current_coder = SourcenetBase.get_ground_truth_coding_user()\n",
    "    current_coder_id = current_coder.id\n",
    "    current_index = 1\n",
    "    current_priority = 4\n",
    "    my_reliability_instance.add_coder_at_index( current_coder_id, current_index, priority_IN = current_priority )\n",
    "\n",
    "    # ...coder ID 8 is priority 3 for index 1...\n",
    "    current_coder_id = 8\n",
    "    current_index = 1\n",
    "    current_priority = 3\n",
    "    my_reliability_instance.add_coder_at_index( current_coder_id, current_index, priority_IN = current_priority )\n",
    "\n",
    "    # ...coder ID 9 is priority 2 for index 1...\n",
    "    current_coder_id = 9\n",
    "    current_index = 1\n",
    "    current_priority = 2\n",
    "    my_reliability_instance.add_coder_at_index( current_coder_id, current_index, priority_IN = current_priority )\n",
    "\n",
    "    # ...coder ID 10 is priority 1 for index 1...\n",
    "    current_coder_id = 10\n",
    "    current_index = 1\n",
    "    current_priority = 1\n",
    "    my_reliability_instance.add_coder_at_index( current_coder_id, current_index, priority_IN = current_priority )\n",
    "\n",
    "    # ...and automated coder (2) is index 2\n",
    "    current_coder = SourcenetBase.get_automated_coding_user()\n",
    "    current_coder_id = current_coder.id\n",
    "    current_index = 2\n",
    "    current_priority = 1\n",
    "    my_reliability_instance.add_coder_at_index( current_coder_id, current_index, priority_IN = current_priority )\n",
    "\n",
    "    # and only look at coding by those users.  And...\n",
    "\n",
    "    # configure so that it limits to automated coder_type of OpenCalais_REST_API_v2.\n",
    "    coder_type = \"OpenCalais_REST_API_v2\"\n",
    "    #my_reliability_instance.limit_to_automated_coder_type = \"OpenCalais_REST_API_v2\"\n",
    "    my_reliability_instance.automated_coder_type_include_list.append( coder_type )\n",
    "\n",
    "    # output debug JSON to file\n",
    "    #my_reliability_instance.debug_output_json_file_path = \"/home/jonathanmorgan/\" + label + \".json\"\n",
    "\n",
    "    #===============================================================================\n",
    "    # process\n",
    "    #===============================================================================\n",
    "\n",
    "    # process articles\n",
    "    my_reliability_instance.process_articles( tag_in_list,\n",
    "                                              article_id_in_list_IN = article_id_in_list )\n",
    "\n",
    "    # output to database.\n",
    "    my_reliability_instance.output_reliability_data( label )\n",
    "\n",
    "#-- END function rebuild_reliability_names_for_article() --#\n",
    "\n",
    "print( \"function rebuild_reliability_names_for_article() defined at \" + str( datetime.datetime.now() ) )"
   ]
  },
  {
   "cell_type": "markdown",
   "metadata": {},
   "source": [
    "# Evaluate disagreements\n",
    "\n",
    "- Back to [Table of Contents](#Table-of-Contents)\n",
    "\n",
    "Need to go through each disagreement and make sure that the ground truth is correct.  In the interest of accuracy/precision/recall, my human coding serves as ground truth to compare computer against.  So, will look at all the disagreements and make sure that the human coding is right.  This isn't perfect.  The error where both incorrectly agree is still unaddressed, and would effectively require me to re-code all the articles (which I could do...).  But, better than not checking."
   ]
  },
  {
   "cell_type": "markdown",
   "metadata": {},
   "source": [
    "## Tag disagreements as TODO\n",
    "\n",
    "- Back to [Table of Contents](#Table-of-Contents)\n",
    "\n",
    "First, assign \"TODO\" tag to all disagreements using the \"View reliability name information\" screen:\n",
    "\n",
    "- [http://research.local/sourcenet/sourcenet/analysis/reliability/names/disagreement/view](http://research.local/sourcenet/sourcenet/analysis/reliability/names/disagreement/view).\n",
    "\n",
    "To do this:\n",
    "\n",
    "- First, enter the following in the fields there:\n",
    "\n",
    "    - **Label:** \"prelim_month\"\n",
    "    - **Coders to compare (1 through ==>):** 2\n",
    "    - **Reliability names filter type:** Select \"Disagree (only rows with disagreement between coders)\"\n",
    "    \n",
    "- Click the \"**Submit Query**\" button.  This should load all the disagreement rows (424 after removing single-word names).\n",
    "- Click the \"**(all)**\" link in the \"**select**\" column header to check the checkbox next to all of the records.\n",
    "- In the \"**Reliability names action:**\" field, select \"Add tag(s) to selected\".\n",
    "- In the \"**Tag(s) - (comma-delimited):**\" field, enter \"`TODO`\" (without the quotes).\n",
    "- Click the \"**Do Action**\" button."
   ]
  },
  {
   "cell_type": "markdown",
   "metadata": {
    "collapsed": true
   },
   "source": [
    "## View disagreements\n",
    "\n",
    "- Back to [Table of Contents](#Table-of-Contents)\n",
    "\n",
    "Evaluate disagreements using the \"View reliability name information\" screen:\n",
    "\n",
    "- [http://research.local/sourcenet/sourcenet/analysis/reliability/names/disagreement/view](http://research.local/sourcenet/sourcenet/analysis/reliability/names/disagreement/view)\n",
    "\n",
    "To start, enter the following in fields there:\n",
    "\n",
    "- **Label:** \"prelim_month\"\n",
    "- **Coders to compare (1 through ==>):** 2\n",
    "- **Reliability names filter type:** Select \"Lookup\"\n",
    "- **[Lookup] - Reliability_Names tags (comma-delimited):** Enter \"`TODO`\" (without the quotes).\n",
    "\n",
    "Then click the \"**Submit Query**\" button.\n",
    "\n",
    "You should see all the records with disagreements that still need to be evaluated (we remove \"TODO\" from records as we go to keep track of which we have evaluated).  To start, the same 424 that had disagreements after removing single names should be assigned \"TODO\" tag."
   ]
  },
  {
   "cell_type": "markdown",
   "metadata": {},
   "source": [
    "### Article assessment\n",
    "\n",
    "- Back to [Table of Contents](#Table-of-Contents)\n",
    "\n",
    "First, need to make sure that the article in question is actually a news article.  Some lists and columns are written with such a different style from traditional news articles that they really shouldn't be included in this study.  Others might be OK to include.  For now, try to fix ground truth on them all, and I'll come back - probably will make the non-news Article_Data a separate label, then do the analysis on only `prelim_month`, then on the combination of news and crazy to see the difference.\n",
    "\n",
    "Excluded articles (label \"`prelim_month_exclude`\"):\n",
    "\n",
    "- 22869 - Dec 20, 2009, Lakeshore ( N4 ), UID: 12CBF3D33570A618 - Faces in the crowd - Lakeshore sports provides fascinating stories ( Grand Rapids Press, The )\n"
   ]
  },
  {
   "cell_type": "code",
   "execution_count": null,
   "metadata": {
    "collapsed": true
   },
   "outputs": [],
   "source": [
    "article_id = 22869\n",
    "new_label = \"prelim_month_exclude\"\n",
    "update_reliability_names_label_for_article( article_id, new_label )\n",
    "print( \"==> Updated labels for article \" + str( article_id ) + \" to \" + str( new_label ) + \" at \" + str( datetime.datetime.now() ) )"
   ]
  },
  {
   "cell_type": "markdown",
   "metadata": {},
   "source": [
    "### Disagreement evaluation\n",
    "\n",
    "- Back to [Table of Contents](#Table-of-Contents)\n",
    "\n",
    "Need to look at each instance where there is a disagreement and make sure the human coding is correct.\n",
    "\n",
    "Most are probably instances where the computer screwed up, but since we are calling this human coding \"ground truth\", want to winnow out as much human error as possible.\n",
    "\n",
    "For each disagreement, to check for coder error (like just capturing a name part for a person whose full name was in the story), click the \"Article ID\" in the column that has a link to article ID. It will take you to a view of the article where all the people who coded the article are included, with each detection of a mention or quotation displayed next to the paragraph where the person was originally first detected.\n",
    "\n",
    "If the disagreement deals with mentions only, and if the person shouldn't instead have been quoted, it is OK to skip fixing it if the human coder was in error since those are not included in this work.  It is also OK to fix if you want."
   ]
  },
  {
   "cell_type": "markdown",
   "metadata": {},
   "source": [
    "### Disagreement resolution\n",
    "\n",
    "- Back to [Table of Contents](#Table-of-Contents)\n",
    "\n",
    "For each disagreement, click on the article ID link in the row to go to the article and check to see if the human coding for the disagreement in question is correct ( [http://research.local/sourcenet/sourcenet/article/article_data/view_with_text/](http://research.local/sourcenet/sourcenet/article/article_data/view_with_text/) ).\n",
    "\n",
    "Once you've evaluated and verified the human coding, remove the \"`TODO`\" tag from the current record (either from the single-article view above if you've removed all disagreements, or from the disagreement view if not):\n",
    "\n",
    "- Click the checkbox in the \"**select**\" column next to the record whose evaluation is complete.\n",
    "- In the \"**Reliability names action:**\" field, select \"_Remove tag(s) from selected_\".\n",
    "- In the \"**Tag(s) - (comma-delimited):**\" field, enter \"_`TODO`_\" (without the quotes).\n",
    "- Click the \"**Do Action**\" button.\n",
    "- This will also place information on the `Reliability_Names` record into a `Reliability_Names_Evaluation` record in the database.  The message that results from this action completing will include a link to the record (the first number in the output).  Click the link to open the record and update it with additional details.  Specifically:\n",
    "\n",
    "    - status - status of human coder's coding:\n",
    "        \n",
    "        - If the human coder got it right, status is \"CORRECT\", even if OpenCalais had an egregious error.\n",
    "        - If this is because the coding screen couldn't capture compound names initially, set status to \"INCOMPLETE\", set the status message to \"SKIPPED because screen couldn't deal with compound names\", put the compound name string in notes, and then add tag \"compound_names\".\n",
    "        - if the OC coder had an issue because we had to smoosh all paragraphs together because it didn't deal well with HTML markup in the body of text it processed, set status to \"CORRECT\", set status message to \"OC ERROR because of formatting\", and then explain the problem in the notes.  If the article is a list or column with odd formatting, consider flagging the article for removal from the study.\n",
    "        - if you have to update ground truth, set \"`status`\" to \"ERROR\".\n",
    "        - else, use your best judgment.\n",
    "            \n",
    "    - if problems caused by automated coder error, click the \"`is_automated_error`\" checkbox.\n",
    "    - update the \"`status_message`\" so it contains a brief description of what exactly happened (should have been mentioned, should have been quoted, missed the person entirely, etc.).\n",
    "    - update \"`Notes`\" with more details.\n",
    "    \n",
    "        - If should have been quoted or mentioned, note the graf # and paragraph text of the paragraph that indicates this.\n",
    "    \n",
    "    - add \"`Tags`\" if appropriate (for sports articles, for example, add \"sports\" tag).\n",
    "\n",
    "| tag | description |\n",
    "|------|------|\n",
    "| **ambiguous** | if it is something that is ambiguouos because of article's implementation: \"**ambiguous**\". |\n",
    "| **complex** | if it is something genuinely complicated, ambiguous or confusing: \"**complex**\". |\n",
    "| **complex_titles** | issues with long or complex titles: \"**complex_titles**\" |\n",
    "| **compound_names** | issue with compound names, later fixed in admin (Dave and Krista Mason)\" \"**compound_names**\" |\n",
    "| **contributed_to** | for problems because of reporters credited in last paragraph: \"**contributed_to**\". |\n",
    "| **dictionary_error** | issues with name parts that appear to be in a dictionary: \"**dictionary_error**\" |\n",
    "| **disambiguation** | specific topic of ambiguity when matching name text to stored named entities: \"**disambiguation**\" |\n",
    "| **editing_error** | issues with editing errors: \"**editing_error**\" |\n",
    "| _**error**_ | for particularly interesting OpenCalais errors, \"**error**\". |\n",
    "| **follow_on_attribution** | problems with pronoun attribution (\"he said\" in paragraph after a person is introduced - follow-on attribution) - \"**follow_on_attribution**\". |\n",
    "| **gender_confusion** | issues with gender confusion (names that can refer to both genders - Dominique, etc.): \"**gender_confusion**\" |\n",
    "| **initials** | issues with initials (R.J. Smith): \"**initials**\" |\n",
    "| _**interesting**_ | if something is interesting, \"**interesting**\" (for examples for paper). |\n",
    "| **layout_or_design** | issues with article layout/design: \"**layout_or_design**\" |\n",
    "| **list** | issues with lists within an article: \"**list**\" |\n",
    "| **lookup** | issues with looking up person based on name string: \"**lookup**\" |\n",
    "| **no_html** | for problems because OpenCalais API doesn't deal well with HTML, so I passed flattened text: \"**no_html**\" |\n",
    "| **non_news** | for non-news articles, for example sports or book reviews, add \"**non_news**\" tag. |\n",
    "| **proper_nouns** | issues with proper nouns and names referring to other than people: \"**proper_nouns**\" |\n",
    "| **quote_distance** | problem with distance between intro of person and quote (a guess...): \"**quote_distance**\". |\n",
    "| **said_verb** | problem with said verb: \"**said_verb**\". |\n",
    "| **second_hand** | for second hand attribution fooling OpenCalais, use \"**second_hand**\". |\n",
    "| **sports** | for sports articles, for example, add \"**sports**\" tag. |\n",
    "| **straightforward** | if a decision seems very straightforward, but OC errored, use \"**straightforward**\". |\n",
    "| **short_n-gram** | issues with short n-gram: \"**short_n-gram**\" |\n",
    "| **title_prefix** | issues with titles that precede name: \"**title_prefix**\" |\n",
    "\n",
    "_**NOTE: Always remove TODO tag first, so you have a record of status for each Reliability Names record.  Then, once you've done that, you can merge, delete, etc.**_"
   ]
  },
  {
   "cell_type": "markdown",
   "metadata": {},
   "source": [
    "---\n",
    "\n",
    "#### Human coder error\n",
    "\n",
    "- Back to [Table of Contents](#Table-of-Contents)\n",
    "\n",
    "Order of operations:\n",
    "\n",
    "- 1) look at all disagreements for the article.\n",
    "- 2) remove all TODO tags from all disagreements, and fill in details for each.\n",
    "- 3) follow steps below to create ground_truth copy and fix it.\n",
    "- 4) rebuild Reliability_Names for article and cleanup.\n",
    "- 5) then, do any deletes or merges you need to do, so you only do them once.\n",
    "\n",
    "If human coder did not detect person or made some other kind of error:"
   ]
  },
  {
   "cell_type": "markdown",
   "metadata": {},
   "source": [
    "- remove TODO tag:\n",
    "\n",
    "    - In the Reliability_Names disagreement view ( [http://research.local/sourcenet/sourcenet/analysis/reliability/names/disagreement/view](http://research.local/sourcenet/sourcenet/analysis/reliability/names/disagreement/view) ), remove the \"`TODO`\" tag from any items related to this disagreement and save:\n",
    "\n",
    "        - Click the checkbox in the \"**select**\" column next to the record whose evaluation is complete.\n",
    "        - In the \"**Reliability names action:**\" field, select \"_Remove tag(s) from selected_\".\n",
    "        - In the \"**Tag(s) - (comma-delimited):**\" field, enter \"_`TODO`_\" (without the quotes).\n",
    "        - Click the \"**Do Action**\" button.\n",
    "    \n",
    "- add details to `Reliability_Names_Evaluation` record:\n",
    "\n",
    "    - This will also place information on the `Reliability_Names` record into a `Reliability_Names_Evaluation` record in the database.  The message that results from this action completing will include a link to the record (the first number in the output).  Click the link to open the record and update it with additional details.  Specifically:\n",
    "    \n",
    "        - status:\n",
    "        \n",
    "            - If this is because the coding screen couldn't capture compound names initiall, set status to \"INCOMPLETE\", set the status message to \"SKIPPED because screen couldn't deal with compound\n",
    "            names\", put the compound name string in notes, and then add tag \"compound_names\".\n",
    "            - else, since we had to update ground truth, set \"`status`\" to \"ERROR\".\n",
    "            \n",
    "        - update the \"`status_message`\" so it contains a brief description of what exactly happened (should have been mentioned, should have been quoted, missed the person entirely, etc.).\n",
    "        - update \"`Notes`\" with more details, including the text in question.\n",
    "        - check the \"`is_ground_truth_fixed`\" checkbox.\n",
    "        - if problems caused by automated coder error, click the \"`is_automated_error`\" checkbox.\n",
    "        - if the disagreement was over text that is ambiguous, them click the \"`is_ambiguous`\" checkbox.\n",
    "        - add \"`Tags`\" if appropriate:\n",
    "        \n",
    "            - [See above for detailed examples](#Disagreement-resolution)"
   ]
  },
  {
   "cell_type": "markdown",
   "metadata": {},
   "source": [
    "- Setup (set variable values, then run the cell):"
   ]
  },
  {
   "cell_type": "code",
   "execution_count": null,
   "metadata": {},
   "outputs": [],
   "source": [
    "# Setup variables of interest.\n",
    "resolve_article_id = 23118\n",
    "human_article_data_id = 2515\n",
    "\n",
    "print( \"SET variables:\" )\n",
    "print( \"- resolve_article_id = \" + str( resolve_article_id ) )\n",
    "print( \"- human_article_data_id = \" + str( human_article_data_id ) )\n",
    "print( \"at \" + str( datetime.datetime.now() ) )"
   ]
  },
  {
   "cell_type": "markdown",
   "metadata": {},
   "source": [
    "- copy to ground_truth:\n",
    "\n",
    "    - use the function \"`copy_to_ground_truth_user()`\" defined in section [Tool - copy Article_Data to user ground_truth](#Tool---copy-Article_Data-to-user-ground_truth) to create a copy of the person's `Article_Data` and assign it to coder \"`ground_truth`\".  Make a code cell and set up a call to \"`copy_to_ground_truth_user()`\", passing it the ID of the `Article_Data` you want to copy to `ground_truth`.  Example:\n",
    "    \n",
    "            # copy Article_Data 12345 to ground_truth user.\n",
    "            copy_to_ground_truth_user( 12345 )"
   ]
  },
  {
   "cell_type": "code",
   "execution_count": null,
   "metadata": {
    "scrolled": true
   },
   "outputs": [],
   "source": [
    "# copy Article_Data to ground_truth user.\n",
    "print( \"==> copy_to_ground_truth_user() (article: \" + str( resolve_article_id ) + \") run at \" + str( datetime.datetime.now() ) )\n",
    "print( \"\" )\n",
    "copy_to_ground_truth_user( human_article_data_id )"
   ]
  },
  {
   "cell_type": "code",
   "execution_count": null,
   "metadata": {},
   "outputs": [],
   "source": [
    "# if you screw up and create two, you can delete one:\n",
    "delete_article_data( 3388, do_delete_IN = True )"
   ]
  },
  {
   "cell_type": "markdown",
   "metadata": {},
   "source": [
    "- fix the coding in `ground_truth`'s coding record:\n",
    "\n",
    "    - If you want to stay logged in as your normal user while processing an error, do the following in a separate browser (I like Opera).\n",
    "    - if this is the first time you've used the \"`ground_truth`\" user, log into the django admin ( [http://research.local/sourcenet/admin/](http://research.local/sourcenet/admin/) ) and:\n",
    "\n",
    "        - set or reset the \"`ground_truth`\" user's password.\n",
    "        - give it \"staff status\".\n",
    "\n",
    "    - log in to the coding tool ( [http://research.local/sourcenet/sourcenet/article/code/](http://research.local/sourcenet/sourcenet/article/code/) ) as the \"`ground_truth`\" user and fix the coding for the article in question, then save."
   ]
  },
  {
   "cell_type": "markdown",
   "metadata": {},
   "source": [
    "- rebuild Reliability_Names for just that article.\n",
    "\n",
    "    - make a code cell and call \"`rebuild_reliability_names_for_article()`\", passing it the ID of the article whose Reliability_Names records you want to rebuild.  It will automatically delete existing and then rebuild, using all the right parameters.  Example:\n",
    "\n",
    "            # rebuild Reliability_Names for article 12345\n",
    "            rebuild_reliability_names_for_article( 12345 )"
   ]
  },
  {
   "cell_type": "code",
   "execution_count": null,
   "metadata": {
    "scrolled": true
   },
   "outputs": [],
   "source": [
    "# rebuild Reliability_Names for article\n",
    "print( \"==> rebuild_reliability_names_for_article() (article: \" + str( resolve_article_id ) + \") run at \" + str( datetime.datetime.now() ) )\n",
    "print( \"\" )\n",
    "rebuild_reliability_names_for_article( resolve_article_id )"
   ]
  },
  {
   "cell_type": "markdown",
   "metadata": {},
   "source": [
    "- Then, you'll need to re-fix any other problems with the article. Specifically:\n",
    "\n",
    "    - load just the Reliability_Names for this article - [http://research.local/sourcenet/sourcenet/analysis/reliability/names/disagreement/view](http://research.local/sourcenet/sourcenet/analysis/reliability/names/disagreement/view):\n",
    "\n",
    "        - **Label:** \"prelim_month\"\n",
    "        - **Coders to compare (1 through ==>):** 2\n",
    "        - **Reliability names filter type:** Select \"Lookup\"\n",
    "        - **[Lookup] - Associated Article IDs (comma-delimited):** Enter \"`<article_id>`,\" (without the quotes).\n",
    "\n",
    "    - check for single names, either to remove, or to tie an erroneously parsed name to the correct person (forgot to capture first name, for example).\n",
    "    - If two people that should be tied together are not (if human detects a person, and then if computer coder misses a name part but detects the person, just with a truncated name, for example), you'll need to merge the two rows.  See [Merging computer and human Reliability_Names records](#Merging-computer-and-human-Reliability_Names-records) below for more details.\n",
    "    - add again the \"TODO\" tag to any rows with disagreement that haven't already been evaluated.\n",
    "\n",
    "        - Click the checkbox in the \"**select**\" column next to any records that are either disagreements or the person who initiated this work.\n",
    "        - In the \"**Reliability names action:**\" field, select \"_Add tag(s) to selected_\".\n",
    "        - In the \"**Tag(s) - (comma-delimited):**\" field, enter \"_`TODO`_\" (without the quotes).\n",
    "        - Click the \"**Do Action**\" button.\n",
    "        \n",
    "    - _**_Note: as you re-process, you should check to see if any of the steps already has a `Reliability_Names_Evaluation` row, and if so, remove the newer one so you don't have duplicates of any of the actions recorded.**_"
   ]
  },
  {
   "cell_type": "markdown",
   "metadata": {},
   "source": [
    "---\n",
    "\n",
    "#### Merging computer and human Reliability_Names records\n",
    "\n",
    "- Back to [Table of Contents](#Table-of-Contents)\n",
    "\n",
    "If there is a problem where human and computer coding of same person are so different they split into different rows, merge the computer row into the human row, then remove the computer row.\n",
    "\n",
    "- First, merge the computer row into the human row:\n",
    "\n",
    "    - Click the checkbox in the \"select\" column in the computer coding row.\n",
    "    - Click the checkbox in the \"merge INTO\" column in the human coding row.\n",
    "    - In the field \"Reliability names action\" at the top of the list, select \"Merge Coding --> FROM 'select' TO 'merge INTO'\".\n",
    "    - Click \"Do Action\" to perform the merge.\n",
    "    - Once the merge is complete, you can click the link in the resulting output to go to the Reliability_Names_Evaluation record created to track the merge and update any of the boolean flags (likely you'll want to set \"`is_automated_error`\" to checked, for example), add notes, adjust status message, etc.\n",
    "    \n",
    "- Second, delete the computer-only row:\n",
    "\n",
    "    - As a sanity check, make sure that the row that originally only contained human coding now has both human and computer (coder ID of 2).\n",
    "    - Then, click the checkbox in the \"select\" column in the computer-only coding row.\n",
    "    - In the field \"Reliability names action\" at the top of the list of Reliability_Names records, select \"Delete Selected\".\n",
    "    - Click \"Do Action\" to perform the delete."
   ]
  },
  {
   "cell_type": "markdown",
   "metadata": {},
   "source": [
    "### Resolution logs\n",
    "\n",
    "- Back to [Table of Contents](#Table-of-Contents)\n",
    "\n",
    "Table of Reliability_Names records with disagreements, then separate tables of those where:\n",
    "\n",
    "- human coding had to be fixed.\n",
    "- records for the same person needed to be merged together.\n",
    "- coding had to be deleted."
   ]
  },
  {
   "cell_type": "markdown",
   "metadata": {},
   "source": [
    "#### Evaluation log\n",
    "\n",
    "- Back to [Table-of-Contents](#Table-of-Contents)\n",
    "\n",
    "Track each Reliability_Names that we evaluate:\n",
    "\n",
    "- Moved to `Reliability_Names_Evaluation` table in django: [http://research.local/sourcenet/admin/sourcenet_analysis/reliability_names_evaluation/?label=prelim_month&o=-1.7.8.3.5](http://research.local/sourcenet/admin/sourcenet_analysis/reliability_names_evaluation/?label=prelim_month&o=-1.7.8.3.5)"
   ]
  },
  {
   "cell_type": "markdown",
   "metadata": {},
   "source": [
    "#### Ground truth coding fixed\n",
    "\n",
    "- Back to [Table-of-Contents](#Table-of-Contents)\n",
    "\n",
    "For some, the error will be on the part of the human coder.  For human error, we create a new \"`ground_truth`\" record that we will correct, so we preserve original coding (and evidence of errors) in case we want or need that information later.  Below, we have a table of the articles where we had to fix ground truth.  To find the original coding, click the Article link.\n",
    "\n",
    "- Denoted by records with \"`is_ground_truth_fixed`\" set to True in the `Reliability_Names_Evaluation` table in django:  [http://research.local/sourcenet/admin/sourcenet_analysis/reliability_names_evaluation/?is_ground_truth_fixed__exact=1&label=prelim_month&o=-1.7.8.3.5](http://research.local/sourcenet/admin/sourcenet_analysis/reliability_names_evaluation/?is_ground_truth_fixed__exact=1&label=prelim_month&o=-1.7.8.3.5)"
   ]
  },
  {
   "cell_type": "markdown",
   "metadata": {},
   "source": [
    "#### Reliability_Names records merged\n",
    "\n",
    "- Back to [Table-of-Contents](#Table-of-Contents)\n",
    "\n",
    "For some, need to merge a single-name detection by Calais with full-name detection by ground_truth (an OpenCalais error - did not detect full name - combined with lookup error - didn't lookup the right person since missed part of his or her name).  Will still have subsequently deleted one or more duplicate rows.\n",
    "\n",
    "- Denoted by records with \"`event_type`\" set to \"merge\" in the Reliability_Names_Evaluation table in django: [http://research.local/sourcenet/admin/sourcenet_analysis/reliability_names_evaluation/?event_type__exact=merge&label=prelim_month&o=-1.7.8.3.5](http://research.local/sourcenet/admin/sourcenet_analysis/reliability_names_evaluation/?event_type__exact=merge&label=prelim_month&o=-1.7.8.3.5)"
   ]
  },
  {
   "cell_type": "markdown",
   "metadata": {},
   "source": [
    "#### Deleted Reliability_Names records\n",
    "\n",
    "- Back to [Table-of-Contents](#Table-of-Contents)\n",
    "\n",
    "Some records are just broken, need to be deleted.\n",
    "\n",
    "- Denoted by records with \"`event_type`\" set to \"deleted\" in the `Reliability_Names_Evaluation` table in django:\n",
    "[http://research.local/sourcenet/admin/sourcenet_analysis/reliability_names_evaluation/?event_type__exact=delete&label=prelim_month&o=-1.7.8.3.5](http://research.local/sourcenet/admin/sourcenet_analysis/reliability_names_evaluation/?event_type__exact=delete&label=prelim_month&o=-1.7.8.3.5)"
   ]
  },
  {
   "cell_type": "markdown",
   "metadata": {},
   "source": [
    "# Notes\n",
    "\n",
    "- Back to [Table of Contents](#Table-of-Contents)"
   ]
  },
  {
   "cell_type": "markdown",
   "metadata": {},
   "source": [
    "## Notes and questions\n",
    "\n",
    "- Back to [Table of Contents](#Table-of-Contents)\n",
    "\n",
    "Notes and questions:\n",
    "\n",
    "- the thing with complex preceding titles is, I think more straightforward - it looks like it is a matter of proper nouns that start with title aren't recognized as names, probably because the title words aren't in some name dictionary or lookup table."
   ]
  },
  {
   "cell_type": "markdown",
   "metadata": {},
   "source": [
    "## Errors\n",
    "\n",
    "- Back to [Table of Contents](#Table-of-Contents)\n",
    "\n",
    "Errors of note in automated coding:\n",
    "\n",
    "- Denoted by records with \"`is_automated_error`\" set to True in the `Reliability_Names_Evaluation` table in django:  [http://research.local/sourcenet/admin/sourcenet_analysis/reliability_names_evaluation/?is_ground_truth_fixed__exact=1&label=prelim_month&o=-1.7.8.3.5](http://research.local/sourcenet/admin/sourcenet_analysis/reliability_names_evaluation/?is_automated_error__exact=1&label=prelim_month&o=-1.7.8.3.5)"
   ]
  },
  {
   "cell_type": "markdown",
   "metadata": {},
   "source": [
    "# TODO\n",
    "\n",
    "- Back to [Table of Contents](#Table-of-Contents)\n",
    "\n",
    "TODO:\n",
    "\n",
    "- what to do about someone mentioned in the article but who is also an author?  For now, can only be one or the other, so make them an author.\n",
    "- add field to article table for non-news or is_hard_news.\n",
    "- Article 22705 - Book roundup - probably should just remove from study, and see if meta-data about articles that could be used to automatically filter these type of articles out in the future.\n",
    "- Article 22181 - Why is the incorrect person \"Christian Reformed Church\" tagged as being mentioned in paragraph 14 rather than 18 where that string is?\n",
    "- add example of Sam Olivo (taked to sources for the story, quoted second-hand based on the sources' statements) in [Article 21627](https://research.local/sourcenet/sourcenet/article/article_data/view_with_text/?article_id=21627): \"Slowly, Sam Olivo, a 55-year-old from St. Johns and a 22-year state prison system employee, revealed he was jumped by at least one and up to five inmates assigned to a nearby work detail.\"\n",
    "\n",
    "    - We care about the reporter talking to a source - if indirect, not a source.\n",
    "\n",
    "- commit and push sourcenet, sourcenet_analysis, and work/msu...\n",
    "- Look at protocol to see what it says about a person quoted from a letter.\n",
    "- Use keywords for Lakeshore section stories to try to filter out sports stories (\"Basketball\").  Maybe try this for all articles in the month?\n",
    "- Want a way to limit to disagreements where quoted?  Might not - this is a start to assessing erroneous agreement.  If yes, 1 < coding time < 4 hours.\n",
    "\n",
    "    - problem - `Reliability_Names.person_type` only has three values - \"author\", \"subject\", \"source\" - might need a row-level measure of \"`has_mention`\", \"`has_quote`\" to more readily capture rows where disagreement is over quoted-or-not."
   ]
  },
  {
   "cell_type": "markdown",
   "metadata": {},
   "source": [
    "## TODO - Update protocol\n",
    "\n",
    "- Back to [Table of Contents](#Table-of-Contents)\n",
    "\n",
    "TODO:"
   ]
  },
  {
   "cell_type": "markdown",
   "metadata": {},
   "source": [
    "- add example of Sam Olivo (taked to sources for the story, quoted second-hand based on the sources' statements) in [Article 21627](https://research.local/sourcenet/sourcenet/article/article_data/view_with_text/?article_id=21627): \"Slowly, Sam Olivo, a 55-year-old from St. Johns and a 22-year state prison system employee, revealed he was jumped by at least one and up to five inmates assigned to a nearby work detail.\"\n",
    "\n",
    "    - We care about the reporter talking to a source - if indirect, not a source.\n",
    "    \n",
    "- what to do about sources who are quoted from a letter or document?  Not a source - a subject.\n",
    "- what to do about someone mentioned in the article but who is also an author?  For now, can only be one or the other, so make them an author."
   ]
  },
  {
   "cell_type": "markdown",
   "metadata": {},
   "source": [
    "## Coding to look into\n",
    "\n",
    "- Back to [Table of Contents](#Table-of-Contents)\n",
    "\n",
    "Coding decisions to look at more closely:\n",
    "\n",
    "- TK"
   ]
  },
  {
   "cell_type": "markdown",
   "metadata": {},
   "source": [
    "## Debugging\n",
    "\n",
    "- Back to [Table of Contents](#Table-of-Contents)\n",
    "\n",
    "Issues to debug:\n",
    "\n",
    "- TK"
   ]
  },
  {
   "cell_type": "markdown",
   "metadata": {},
   "source": [
    "# DONE\n",
    "\n",
    "- Back to [Table of Contents](#Table-of-Contents)\n",
    "\n",
    "DONE:"
   ]
  },
  {
   "cell_type": "markdown",
   "metadata": {},
   "source": [
    "- Make an admin for Reliability_Names, so I can filter and sort and try deleting to see if removing Reliability_Names causes removal of related Reliability_Names_Evaluation.\n",
    "- Update sections of code that output table markdown to also just insert that information into the database it Reliability_Names_Evaluation.\n",
    "\n",
    "    - // debug admin pages.\n",
    "    - // import all of the existing rows from pipe delimited string.\n",
    "    \n",
    "        - // base list\n",
    "        - // fixed ground truth\n",
    "        - // deleted\n",
    "        - // merged\n",
    "        \n",
    "    - // update the places where it outputs the pipe-delimited lists to write also to the database.\n",
    "    \n",
    "- merge didn't populate merge fields in evaluation record.  Need to backup VM, then debug.\n",
    "- for article [Article 21644](https://research.local/sourcenet/sourcenet/article/article_data/view_with_text/?article_id=21644): I updated ground truth, rebuilt Reliability_Names, merged Anna K. Simon with Lou Anna K. Simon, deleted old Anna K. Simon.  still need to clean up (there is one single name).\n"
   ]
  },
  {
   "cell_type": "markdown",
   "metadata": {},
   "source": [
    "## RNE not hard news flag\n",
    "\n",
    "- Back to [Table of Contents](#Table-of-Contents)\n",
    "\n",
    "// Add field to evaluation table for non-news (and probably need a way to denote this in articles themselves, also...).\n",
    "\n",
    "Need to set flag for any Reliability_Names_Evaluation row with tags of \"sports\", or \"list\", or \"non_news\"."
   ]
  },
  {
   "cell_type": "code",
   "execution_count": null,
   "metadata": {
    "collapsed": true
   },
   "outputs": [],
   "source": [
    "# declare variables\n",
    "tags_in_list = None\n",
    "rne_qs = None\n",
    "rne_instance = None\n",
    "\n",
    "# include only those with certain tags.\n",
    "tags_in_list = [ \"sports\", \"list\", \"non_news\" ]\n",
    "if ( len( tags_in_list ) > 0 ):\n",
    "\n",
    "    # filter\n",
    "    print( \"filtering to just Reliability_Names_Evaluation records with tags: \" + str( tags_in_list ) )\n",
    "    rne_qs = Reliability_Names_Evaluation.objects.filter( tags__name__in = tags_in_list )\n",
    "    \n",
    "    # loop\n",
    "    for rne_instance in rne_qs:\n",
    "        \n",
    "        # set is_not_hard_news, then save.\n",
    "        print( \"==> Updating \" + str( rne_instance ) )\n",
    "        rne_instance.is_not_hard_news = True\n",
    "        rne_instance.save()\n",
    "        \n",
    "    #-- END loop over Reliability_Names_Evaluation instances --#\n",
    "\n",
    "#-- END check to see if we have a specific list of tags we want to include --#"
   ]
  },
  {
   "cell_type": "markdown",
   "metadata": {},
   "source": [
    "## quotes that contain paragraph break\n",
    "\n",
    "- Back to [Table of Contents](#Table-of-Contents)\n",
    "\n",
    "Quotes with newlines in them (not sure how that is captured on the way to the server, in the database, etc.) break the article coder: [http://research.local/sourcenet/sourcenet/article/code/](http://research.local/sourcenet/sourcenet/article/code/).\n",
    "\n",
    "When you load JSON that contains quote text that spans lines, the newlines within the text cause the JSON parsing to break.  Looks like it is read and parsed correctly when submitted to serrver (except for the graf number - evaluates to -1 - so that is a bug, too, since there are no newlines in any of the text we are looking at, just paragraph breaks).\n",
    "\n",
    "How to fix?:\n",
    "\n",
    "- First try stripping out any stretches of multiple white space characters and substituting a space.  This should work with all of the rest of the code on the server.  Can implement in javascript, and for sanity check also in Python that processes received JSON.\n",
    "- If rest of code doesn't play nice with reformatting, then maybe figure out how to escape the carriage returns and line feeds, and might need to update the \"find in text\" functions, too.\n",
    "- turns out that fixing this in cases when the quotation spans paragraphs might then break things when there are extra spaces within a paragraph.  So, leaving it as is for now, need to fix that paragraph in the article.\n",
    "\n",
    "Examples:\n",
    "\n",
    "- Article 21001: [http://research.local/sourcenet/sourcenet/article/article_data/view_with_text/?article_id=21001](http://research.local/sourcenet/sourcenet/article/article_data/view_with_text/?article_id=21001)\n",
    "    \n",
    "    - user minnesota1, article 21001\n",
    "    - user ground_truth, article 21001 (copied from minnesota1)."
   ]
  },
  {
   "cell_type": "markdown",
   "metadata": {},
   "source": [
    "## partial name lookup\n",
    "\n",
    "- Back to [Table of Contents](#Table-of-Contents)\n",
    "\n",
    "In ajax-selects lookup filter for person - need to match on first and last name, excluding middle name."
   ]
  },
  {
   "cell_type": "markdown",
   "metadata": {},
   "source": [
    "# NEXT\n",
    "\n",
    "- Back to [Table of Contents](#Table-of-Contents)"
   ]
  }
 ],
 "metadata": {
  "kernelspec": {
   "display_name": "sourcenet (Python 3)",
   "language": "python",
   "name": "sourcenet"
  },
  "language_info": {
   "codemirror_mode": {
    "name": "ipython",
    "version": 3
   },
   "file_extension": ".py",
   "mimetype": "text/x-python",
   "name": "python",
   "nbconvert_exporter": "python",
   "pygments_lexer": "ipython3",
   "version": "3.5.2"
  },
  "toc": {
   "colors": {
    "hover_highlight": "#DAA520",
    "navigate_num": "#000000",
    "navigate_text": "#333333",
    "running_highlight": "#FF0000",
    "selected_highlight": "#FFD700",
    "sidebar_border": "#EEEEEE",
    "wrapper_background": "#FFFFFF"
   },
   "moveMenuLeft": true,
   "nav_menu": {
    "height": "512px",
    "width": "252px"
   },
   "navigate_menu": true,
   "number_sections": true,
   "sideBar": true,
   "threshold": 4,
   "toc_cell": false,
   "toc_section_display": "block",
   "toc_window_display": true,
   "widenNotebook": false
  }
 },
 "nbformat": 4,
 "nbformat_minor": 1
}
