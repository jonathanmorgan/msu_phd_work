{
 "cells": [
  {
   "cell_type": "markdown",
   "metadata": {},
   "source": [
    "# work log - ground truth - evaluate disagreements\n",
    "\n",
    "# Table of Contents\n",
    "\n",
    "- [Setup](#Setup)\n",
    "\n",
    "    - [Setup - Imports](#Setup---Imports)\n",
    "    - [Setup - Initialize Django](#Setup---Initialize-Django)\n",
    "    - [Setup - Tools](#Setup---Tools)\n",
    "\n",
    "        - [Tool - copy `Article_Data` to user `ground_truth`](#Tool---copy-Article_Data-to-user-ground_truth)\n",
    "        - [Tool - delete `Article_Data`](#Tool---delete-Article_Data)\n",
    "        - [Tool - rebuild `Reliability_Names` for an article](#Tool---rebuild-Reliability_Names-for-an-article)\n",
    "\n",
    "            - [Delete existing `Reliability_Names` for article](#Delete-existing-Reliability_Names-for-article)\n",
    "            - [Make new `Reliability_Names`](#Make-new-Reliability_Names)\n",
    "\n",
    "- [Evaluate disagreements](#Evaluate-disagreements)\n",
    "\n",
    "    - [Tag disagreements as TODO](#Tag-disagreements-as-TODO)\n",
    "    - [View disagreements](#View-disagreements)\n",
    "    \n",
    "        - [Disagreement evaluation](#Disagreement-evaluation)\n",
    "        - [Disagreement resolution](#Disagreement-resolution)\n",
    "        - [Resolution logs](#Resolution-logs)\n",
    "        \n",
    "            - [Evaluation log](#Evaluation-log)\n",
    "            - [Ground-truth coding fixed](#Ground-truth-coding-fixed)\n",
    "            - [`Reliability_Names` records merged](#Reliability_Names-records-merged)\n",
    "            - [Deleted `Reliability_Names` records](#Deleted-Reliability_Names-records)\n",
    "\n",
    "- [Notes](#Notes)\n",
    "\n",
    "    - [Notes and questions](#Notes-and-questions)\n",
    "    - [Errors](#Errors)\n",
    "\n",
    "- [TODO](#TODO)\n",
    "\n",
    "    - [Coding to look into](#Coding-to-look-into)\n",
    "    - [Debugging](#Debugging)\n",
    "\n",
    "- [DONE](#DONE)\n",
    "\n",
    "    - [quotes that contain paragraph break](#quotes-that-contain-paragraph-break)\n",
    "\n",
    "- [NEXT](#DONE)"
   ]
  },
  {
   "cell_type": "markdown",
   "metadata": {},
   "source": [
    "# Setup\n",
    "\n",
    "- Back to [Table of Contents](#Table-of-Contents)"
   ]
  },
  {
   "cell_type": "markdown",
   "metadata": {},
   "source": [
    "## Setup - Imports\n",
    "\n",
    "- Back to [Table of Contents](#Table-of-Contents)"
   ]
  },
  {
   "cell_type": "code",
   "execution_count": 1,
   "metadata": {},
   "outputs": [
    {
     "name": "stdout",
     "output_type": "stream",
     "text": [
      "packages imported at 2017-07-03 12:29:25.218024\n"
     ]
    }
   ],
   "source": [
    "import datetime\n",
    "import json\n",
    "import six\n",
    "\n",
    "print( \"packages imported at \" + str( datetime.datetime.now() ) )"
   ]
  },
  {
   "cell_type": "code",
   "execution_count": 2,
   "metadata": {},
   "outputs": [
    {
     "data": {
      "text/plain": [
       "'/home/jonathanmorgan/work/sourcenet/django/research/work/msu_phd_work'"
      ]
     },
     "execution_count": 2,
     "metadata": {},
     "output_type": "execute_result"
    }
   ],
   "source": [
    "%pwd"
   ]
  },
  {
   "cell_type": "markdown",
   "metadata": {},
   "source": [
    "## Setup - Initialize Django\n",
    "\n",
    "- Back to [Table of Contents](#Table-of-Contents)\n",
    "\n",
    "First, initialize my dev django project, so I can run code in this notebook that references my django models and can talk to the database using my project's settings.\n",
    "\n",
    "You need to have installed your virtualenv with django as a kernel, then select that kernel for this notebook."
   ]
  },
  {
   "cell_type": "code",
   "execution_count": 3,
   "metadata": {},
   "outputs": [
    {
     "name": "stdout",
     "output_type": "stream",
     "text": [
      "django initialized at 2017-07-03 16:29:29.739968\n"
     ]
    }
   ],
   "source": [
    "%run django_init.py"
   ]
  },
  {
   "cell_type": "markdown",
   "metadata": {},
   "source": [
    "Import any `sourcenet` or `sourcenet_analysis` models or classes."
   ]
  },
  {
   "cell_type": "code",
   "execution_count": 4,
   "metadata": {},
   "outputs": [
    {
     "name": "stdout",
     "output_type": "stream",
     "text": [
      "sourcenet and sourcenet_analysis packages imported at 2017-07-03 16:29:31.530068\n"
     ]
    }
   ],
   "source": [
    "# django imports\n",
    "from django.contrib.auth.models import User\n",
    "\n",
    "# sourcenet shared\n",
    "from sourcenet.shared.person_details import PersonDetails\n",
    "\n",
    "# sourcenet models.\n",
    "from sourcenet.models import Article\n",
    "from sourcenet.models import Article_Data\n",
    "from sourcenet.models import Article_Subject\n",
    "from sourcenet.models import Person\n",
    "from sourcenet.shared.sourcenet_base import SourcenetBase\n",
    "from sourcenet.tests.models.test_Article_Data_model import Article_Data_Copy_Tester\n",
    "\n",
    "# sourcenet article_coding\n",
    "from sourcenet.article_coding.article_coding import ArticleCoder\n",
    "from sourcenet.article_coding.manual_coding.manual_article_coder import ManualArticleCoder\n",
    "\n",
    "# sourcenet_analysis models.\n",
    "from sourcenet_analysis.models import Reliability_Names\n",
    "from sourcenet_analysis.reliability.reliability_names_builder import ReliabilityNamesBuilder\n",
    "\n",
    "print( \"sourcenet and sourcenet_analysis packages imported at \" + str( datetime.datetime.now() ) )"
   ]
  },
  {
   "cell_type": "markdown",
   "metadata": {},
   "source": [
    "## Setup - Tools\n",
    "\n",
    "- Back to [Table of Contents](#Table-of-Contents)"
   ]
  },
  {
   "cell_type": "markdown",
   "metadata": {},
   "source": [
    "### Tool - copy Article_Data to user ground_truth\n",
    "\n",
    "- Back to [Table of Contents](#Table-of-Contents)\n",
    "\n",
    "Retrieve the ground truth user, then make a deep copy of an Article_Data record, assigning it to the ground truth user."
   ]
  },
  {
   "cell_type": "code",
   "execution_count": 5,
   "metadata": {},
   "outputs": [
    {
     "name": "stdout",
     "output_type": "stream",
     "text": [
      "function copy_to_ground_truth_user() defined at 2017-07-03 16:29:35.933269\n"
     ]
    }
   ],
   "source": [
    "def copy_to_ground_truth_user( source_article_data_id_IN ):\n",
    "\n",
    "    '''\n",
    "    Accepts ID of Article_Data instance to copy to ground_truth user,\n",
    "        for correcting coding error made by human coder.  Performs a deep\n",
    "        copy of Article_Data instance, then assignes it to the ground_truth\n",
    "        user.  Prints any validation errors, returns the new Article_Data.\n",
    "    '''\n",
    "    \n",
    "    # return reference\n",
    "    new_article_data_instance_OUT = -1\n",
    "    \n",
    "    # declare variables\n",
    "    ground_truth_user = None\n",
    "    ground_truth_user_id = -1\n",
    "    id_of_article_data_to_copy = -1\n",
    "    new_article_data = None\n",
    "    new_article_data_id = -1\n",
    "    validation_error_list = None\n",
    "    validation_error_count = -1\n",
    "    validation_error = None\n",
    "\n",
    "    # set ID of article data we want to copy.\n",
    "    id_of_article_data_to_copy = source_article_data_id_IN\n",
    "\n",
    "    # get the ground_truth user's ID.\n",
    "    ground_truth_user = SourcenetBase.get_ground_truth_coding_user()\n",
    "    ground_truth_user_id = ground_truth_user.id\n",
    "\n",
    "    # make the copy\n",
    "    new_article_data = Article_Data.make_deep_copy( id_of_article_data_to_copy,\n",
    "                                                    new_coder_user_id_IN = ground_truth_user_id )\n",
    "    new_article_data_id = new_article_data.id\n",
    "\n",
    "    # validate it.\n",
    "    validation_error_list = Article_Data_Copy_Tester.validate_article_data_deep_copy( original_article_data_id_IN = id_of_article_data_to_copy,\n",
    "                                                                                      copy_article_data_id_IN = new_article_data_id,\n",
    "                                                                                      copy_coder_user_id_IN = ground_truth_user_id )\n",
    "\n",
    "    # get error count:\n",
    "    validation_error_count = len( validation_error_list )\n",
    "    if ( validation_error_count > 0 ):\n",
    "\n",
    "        # loop and output messages\n",
    "        for validation_error in validation_error_list:\n",
    "\n",
    "            print( \"- Validation erorr: \" + str( validation_error ) )\n",
    "\n",
    "        #-- END loop over validation errors. --#\n",
    "\n",
    "    else:\n",
    "\n",
    "        # no errors - success!\n",
    "        print( \"Record copy a success (as far as we know)!\" )\n",
    "\n",
    "    #-- END check to see if validation errors --#\n",
    "\n",
    "    print( \"copied Article_Data id \" + str( id_of_article_data_to_copy ) + \" INTO Article_Data id \" + str( new_article_data_id ) + \" at \" + str( datetime.datetime.now() ) )\n",
    "    \n",
    "    new_article_data_instance_OUT = new_article_data\n",
    "    \n",
    "    return new_article_data_instance_OUT\n",
    "\n",
    "#-- END function copy_to_ground_truth_user() --#\n",
    "\n",
    "print( \"function copy_to_ground_truth_user() defined at \" + str( datetime.datetime.now() ) )"
   ]
  },
  {
   "cell_type": "code",
   "execution_count": null,
   "metadata": {
    "collapsed": true
   },
   "outputs": [],
   "source": [
    "# Example: set ID of article data we want to copy.\n",
    "#copy_to_ground_truth_user( 2342 )"
   ]
  },
  {
   "cell_type": "markdown",
   "metadata": {},
   "source": [
    "### Tool - delete Article_Data\n",
    "\n",
    "- Back to [Table of Contents](#Table-of-Contents)\n",
    "\n",
    "Delete the Article_Data whose ID you specify (intended only when you accidentally create a \"`ground_truth`\")."
   ]
  },
  {
   "cell_type": "code",
   "execution_count": 6,
   "metadata": {},
   "outputs": [
    {
     "name": "stdout",
     "output_type": "stream",
     "text": [
      "function delete_article_data() defined at 2017-07-03 16:29:40.284354\n"
     ]
    }
   ],
   "source": [
    "def delete_article_data( article_data_id_IN ):\n",
    "\n",
    "    # declare variables\n",
    "    article_data_id = -1\n",
    "    article_data = None\n",
    "    do_delete = False\n",
    "\n",
    "    # set ID.\n",
    "    article_data_id = article_data_id_IN\n",
    "\n",
    "    # get model instance\n",
    "    article_data = Article_Data.objects.get( id = article_data_id )\n",
    "\n",
    "    # got something?\n",
    "    if ( article_data is not None ):\n",
    "\n",
    "        # yes.  Delete?\n",
    "        if ( do_delete == True ):\n",
    "\n",
    "            # delete.\n",
    "            print( \"Deleting Article_Data: \" + str( article_data ) )\n",
    "            article_data.delete()\n",
    "\n",
    "        else:\n",
    "\n",
    "            # no delete.\n",
    "            print( \"Found Article_Data: \" + str( article_data ) + \", but not deleting.\" )\n",
    "\n",
    "        #-- END check to see if we delete --#\n",
    "\n",
    "    #-- END check to see if Article_Data match. --#\n",
    "    \n",
    "#-- END function delete_article_data() --#\n",
    "\n",
    "print( \"function delete_article_data() defined at \" + str( datetime.datetime.now() ) )"
   ]
  },
  {
   "cell_type": "markdown",
   "metadata": {},
   "source": [
    "### Tool - rebuild Reliability_Names for an article\n",
    "\n",
    "- Back to [Table of Contents](#Table-of-Contents)\n",
    "\n",
    "Steps:\n",
    "\n",
    "- retrieve the Reliability_Names row(s) for article with a paritcular ID, and filter on label if one provided.\n",
    "- delete the selected Reliability_Names row(s).\n",
    "- set up a call to the Reliability_Names program that just generates data for:\n",
    "\n",
    "    - the article in question\n",
    "    - users in a desired order.\n",
    "    - etc."
   ]
  },
  {
   "cell_type": "markdown",
   "metadata": {},
   "source": [
    "#### Delete existing Reliability_Names for article\n",
    "\n",
    "- Back to [Table of Contents](#Table-of-Contents)"
   ]
  },
  {
   "cell_type": "code",
   "execution_count": 7,
   "metadata": {},
   "outputs": [
    {
     "name": "stdout",
     "output_type": "stream",
     "text": [
      "function delete_reliability_names_for_article() defined at 2017-07-03 16:29:43.120263\n"
     ]
    }
   ],
   "source": [
    "def delete_reliability_names_for_article( article_id_IN ):\n",
    "\n",
    "    # declare variables\n",
    "    article_id = -1\n",
    "    label = \"\"\n",
    "    do_delete = False\n",
    "    row_string_list = None\n",
    "\n",
    "    # first, get existing Reliability_Names rows for article and label.\n",
    "    article_id = article_id_IN\n",
    "    label = \"prelim_month\"\n",
    "    do_delete = True\n",
    "\n",
    "    # Do the delete\n",
    "    row_string_list = Reliability_Names.delete_reliabilty_names_for_article( article_id,\n",
    "                                                                             label_IN = label,\n",
    "                                                                             do_delete_IN = do_delete )\n",
    "\n",
    "    # print the strings.\n",
    "    for row_string in row_string_list:\n",
    "\n",
    "        # print it.\n",
    "        print( row_string )\n",
    "\n",
    "    #-- END loop over row strings --#\n",
    "\n",
    "#-- END function delete_reliability_names_for_article() --#\n",
    "\n",
    "print( \"function delete_reliability_names_for_article() defined at \" + str( datetime.datetime.now() ) )"
   ]
  },
  {
   "cell_type": "markdown",
   "metadata": {},
   "source": [
    "#### Make new Reliability_Names\n",
    "\n",
    "- Back to [Table of Contents](#Table-of-Contents)"
   ]
  },
  {
   "cell_type": "code",
   "execution_count": 8,
   "metadata": {},
   "outputs": [
    {
     "name": "stdout",
     "output_type": "stream",
     "text": [
      "function rebuild_reliability_names_for_article() defined at 2017-07-03 16:29:46.087910\n"
     ]
    }
   ],
   "source": [
    "def rebuild_reliability_names_for_article( article_id_IN, delete_existing_first_IN = True ):\n",
    "    \n",
    "    '''\n",
    "    Remove existing Reliability_Names records for article, then rebuild them\n",
    "        from related Article_Data that matches any specified criteria.\n",
    "        \n",
    "    Detailed logic:\n",
    "    - remove old Reliability_Names for that article ( [Delete existing `Reliability_Names` for article](#Delete-existing-Reliability_Names-for-article) ).  Make sure to specify both label and Article ID, so you don't delete more than you intend.\n",
    "    - re-run Reliability_Names creation for the article ( [Make new `Reliability_Names`](#Make-new-Reliability_Names) ).  Specify:\n",
    "\n",
    "        - Article ID list (just put the ID of the article you want to reprocess in the list).\n",
    "        - label: make sure this is the same as the label of the rest of your Reliability_Names records (\"prelim_month\").\n",
    "        - Tag list: If you want to make even more certain that you don't do something unexpected, also specify the article tags that make up your current data set, so if you accidentally specify the ID of an article not in your data set, it won't process.  Current tag is \"grp_month\".\n",
    "        - Coders to assign to which index in the Reliability_Names record, and in what priority.  You can assign multiple coders to a given index, for example, when multiple coders coded subsets of a data set, and you want their combined coding to be used as \"coder 1\" or \"coder 2\", for example.  See the cell for an example.\n",
    "        - Automated coder type: You can specify the particular automated coding type you want for automated coder, to filter out coding done by other automated methods.  See the cell for an example for \"OpenCalais v2\".\n",
    "    '''\n",
    "    \n",
    "    # django imports\n",
    "    #from django.contrib.auth.models import User\n",
    "\n",
    "    # sourcenet imports\n",
    "    #from sourcenet.shared.sourcenet_base import SourcenetBase\n",
    "\n",
    "    # sourcenet_analysis imports\n",
    "    #from sourcenet_analysis.reliability.reliability_names_builder import ReliabilityNamesBuilder\n",
    "\n",
    "    # declare variables\n",
    "    my_reliability_instance = None\n",
    "    tag_in_list = []\n",
    "    article_id_in_list = []\n",
    "    label = \"\"\n",
    "\n",
    "    # declare variables - user setup\n",
    "    current_coder = None\n",
    "    current_coder_id = -1\n",
    "    current_index = -1\n",
    "\n",
    "    # declare variables - Article_Data filtering.\n",
    "    coder_type = \"\"\n",
    "\n",
    "    # delete old Reliability_Names?\n",
    "    if ( delete_existing_first_IN == True ):\n",
    "        \n",
    "        # delete first\n",
    "        delete_reliability_names_for_article( article_id_IN )\n",
    "        \n",
    "    #-- END check to see if we delete first --#\n",
    "    \n",
    "    # make reliability instance\n",
    "    my_reliability_instance = ReliabilityNamesBuilder()\n",
    "\n",
    "    #===============================================================================\n",
    "    # configure\n",
    "    #===============================================================================\n",
    "\n",
    "    # list of tags of articles we want to process.\n",
    "    tag_in_list = [ \"grp_month\", ]\n",
    "\n",
    "    # list of IDs of articles we want to process:\n",
    "    article_id_in_list = [ article_id_IN, ]\n",
    "\n",
    "    # label to associate with results, for subsequent lookup.\n",
    "    label = \"prelim_month\"\n",
    "\n",
    "    # ! ====> map coders to indices\n",
    "\n",
    "    # set it up so that...\n",
    "\n",
    "    # ...the ground truth user has highest priority (4) for index 1...\n",
    "    current_coder = SourcenetBase.get_ground_truth_coding_user()\n",
    "    current_coder_id = current_coder.id\n",
    "    current_index = 1\n",
    "    current_priority = 4\n",
    "    my_reliability_instance.add_coder_at_index( current_coder_id, current_index, priority_IN = current_priority )\n",
    "\n",
    "    # ...coder ID 8 is priority 3 for index 1...\n",
    "    current_coder_id = 8\n",
    "    current_index = 1\n",
    "    current_priority = 3\n",
    "    my_reliability_instance.add_coder_at_index( current_coder_id, current_index, priority_IN = current_priority )\n",
    "\n",
    "    # ...coder ID 9 is priority 2 for index 1...\n",
    "    current_coder_id = 9\n",
    "    current_index = 1\n",
    "    current_priority = 2\n",
    "    my_reliability_instance.add_coder_at_index( current_coder_id, current_index, priority_IN = current_priority )\n",
    "\n",
    "    # ...coder ID 10 is priority 1 for index 1...\n",
    "    current_coder_id = 10\n",
    "    current_index = 1\n",
    "    current_priority = 1\n",
    "    my_reliability_instance.add_coder_at_index( current_coder_id, current_index, priority_IN = current_priority )\n",
    "\n",
    "    # ...and automated coder (2) is index 2\n",
    "    current_coder = SourcenetBase.get_automated_coding_user()\n",
    "    current_coder_id = current_coder.id\n",
    "    current_index = 2\n",
    "    current_priority = 1\n",
    "    my_reliability_instance.add_coder_at_index( current_coder_id, current_index, priority_IN = current_priority )\n",
    "\n",
    "    # and only look at coding by those users.  And...\n",
    "\n",
    "    # configure so that it limits to automated coder_type of OpenCalais_REST_API_v2.\n",
    "    coder_type = \"OpenCalais_REST_API_v2\"\n",
    "    #my_reliability_instance.limit_to_automated_coder_type = \"OpenCalais_REST_API_v2\"\n",
    "    my_reliability_instance.automated_coder_type_include_list.append( coder_type )\n",
    "\n",
    "    # output debug JSON to file\n",
    "    #my_reliability_instance.debug_output_json_file_path = \"/home/jonathanmorgan/\" + label + \".json\"\n",
    "\n",
    "    #===============================================================================\n",
    "    # process\n",
    "    #===============================================================================\n",
    "\n",
    "    # process articles\n",
    "    my_reliability_instance.process_articles( tag_in_list,\n",
    "                                              article_id_in_list_IN = article_id_in_list )\n",
    "\n",
    "    # output to database.\n",
    "    my_reliability_instance.output_reliability_data( label )\n",
    "\n",
    "#-- END function rebuild_reliability_names_for_article() --#\n",
    "\n",
    "print( \"function rebuild_reliability_names_for_article() defined at \" + str( datetime.datetime.now() ) )"
   ]
  },
  {
   "cell_type": "markdown",
   "metadata": {},
   "source": [
    "# Evaluate disagreements\n",
    "\n",
    "- Back to [Table of Contents](#Table-of-Contents)\n",
    "\n",
    "Need to go through each disagreement and make sure that the ground truth is correct.  In the interest of accuracy/precision/recall, my human coding serves as ground truth to compare computer against.  So, will look at all the disagreements and make sure that the human coding is right.  This isn't perfect.  The error where both incorrectly agree is still unaddressed, and would effectively require me to re-code all the articles (which I could do...).  But, better than not checking."
   ]
  },
  {
   "cell_type": "markdown",
   "metadata": {},
   "source": [
    "## Tag disagreements as TODO\n",
    "\n",
    "- Back to [Table of Contents](#Table-of-Contents)\n",
    "\n",
    "First, assign \"TODO\" tag to all disagreements using the \"View reliability name information\" screen:\n",
    "\n",
    "- [http://research.local/sourcenet/sourcenet/analysis/reliability/names/disagreement/view](http://research.local/sourcenet/sourcenet/analysis/reliability/names/disagreement/view).\n",
    "\n",
    "To do this:\n",
    "\n",
    "- First, enter the following in the fields there:\n",
    "\n",
    "    - **Label:** \"prelim_month\"\n",
    "    - **Coders to compare (1 through ==>):** 2\n",
    "    - **Reliability names filter type:** Select \"Disagree (only rows with disagreement between coders)\"\n",
    "    \n",
    "- Click the \"**Submit Query**\" button.  This should load all the disagreement rows (424 after removing single-word names).\n",
    "- Click the \"**(all)**\" link in the \"**select**\" column header to check the checkbox next to all of the records.\n",
    "- In the \"**Reliability names action:**\" field, select \"Add tag(s) to selected\".\n",
    "- In the \"**Tag(s) - (comma-delimited):**\" field, enter \"`TODO`\" (without the quotes).\n",
    "- Click the \"**Do Action**\" button."
   ]
  },
  {
   "cell_type": "markdown",
   "metadata": {
    "collapsed": true
   },
   "source": [
    "## View disagreements\n",
    "\n",
    "- Back to [Table of Contents](#Table-of-Contents)\n",
    "\n",
    "Evaluate disagreements using the \"View reliability name information\" screen:\n",
    "\n",
    "- [http://research.local/sourcenet/sourcenet/analysis/reliability/names/disagreement/view](http://research.local/sourcenet/sourcenet/analysis/reliability/names/disagreement/view)\n",
    "\n",
    "To start, enter the following in fields there:\n",
    "\n",
    "- **Label:** \"prelim_month\"\n",
    "- **Coders to compare (1 through ==>):** 2\n",
    "- **Reliability names filter type:** Select \"Lookup\"\n",
    "- **[Lookup] - Reliability_Names tags (comma-delimited):** Enter \"`TODO`\" (without the quotes).\n",
    "\n",
    "Then click the \"**Submit Query**\" button.\n",
    "\n",
    "You should see all the records with disagreements that still need to be evaluated (we remove \"TODO\" from records as we go to keep track of which we have evaluated).  To start, the same 424 that had disagreements after removing single names should be assigned \"TODO\" tag."
   ]
  },
  {
   "cell_type": "markdown",
   "metadata": {},
   "source": [
    "### Disagreement evaluation\n",
    "\n",
    "- Back to [Table of Contents](#Table-of-Contents)\n",
    "\n",
    "Need to look at each instance where there is a disagreement and make sure the human coding is correct.\n",
    "\n",
    "Most are probably instances where the computer screwed up, but since we are calling this human coding \"ground truth\", want to winnow out as much human error as possible.\n",
    "\n",
    "For each disagreement, to check for coder error (like just capturing a name part for a person whose full name was in the story), click the \"Article ID\" in the column that has a link to article ID. It will take you to a view of the article where all the people who coded the article are included, with each detection of a mention or quotation displayed next to the paragraph where the person was originally first detected.\n",
    "\n",
    "If the disagreement deals with mentions only, and if the person shouldn't instead have been quoted, it is OK to skip fixing it if the human coder was in error since those are not included in this work.  It is also OK to fix if you want."
   ]
  },
  {
   "cell_type": "markdown",
   "metadata": {},
   "source": [
    "### Disagreement resolution\n",
    "\n",
    "For each disagreement, click on the article ID link in the row to go to the article and check to see if the human coding for the disagreement in question is correct ( [http://research.local/sourcenet/sourcenet/article/article_data/view_with_text/](http://research.local/sourcenet/sourcenet/article/article_data/view_with_text/) ).\n",
    "\n",
    "#### Human coder error\n",
    "\n",
    "If human coder did not detect person or made some other kind of error:\n",
    "\n",
    "- Setup (set variable values, then run the cell):"
   ]
  },
  {
   "cell_type": "code",
   "execution_count": 9,
   "metadata": {
    "collapsed": true
   },
   "outputs": [],
   "source": [
    "# Setup variables of interest.\n",
    "resolve_article_id = 21350\n",
    "human_article_data_id = 2365"
   ]
  },
  {
   "cell_type": "markdown",
   "metadata": {},
   "source": [
    "- use the function \"`copy_to_ground_truth_user()`\" defined in section [Tool - copy Article_Data to user ground_truth](#Tool---copy-Article_Data-to-user-ground_truth) to create a copy of the person's `Article_Data` and assign it to coder \"`ground_truth`\".  Make a code cell and set up a call to \"`copy_to_ground_truth_user()`\", passing it the ID of the `Article_Data` you want to copy to `ground_truth`.  Example:\n",
    "    \n",
    "        # copy Article_Data 12345 to ground_truth user.\n",
    "        copy_to_ground_truth_user( 12345 )"
   ]
  },
  {
   "cell_type": "code",
   "execution_count": 10,
   "metadata": {
    "scrolled": true
   },
   "outputs": [
    {
     "name": "stdout",
     "output_type": "stream",
     "text": [
      "Original Article_Data ID = 2365; Copy Article_Data ID = 3340\n",
      "\n",
      "\n",
      "Article_Data_Notes ( count = 1 ):\n",
      "- 2118 - Person Store JSON (likely from manual coding via article-code view). of type \"json\" for article_data: 2365 - minnesota1 - no coder_type -- Article: 21350 - Dec 06, 2009, Lakeshore ( N2 ), UID: 12C7A9A4DF21E4F8 - Former fire chief embraces photography ( Grand Rapids Press, The )\n",
      "\n",
      "Article_Author ( count = 1 ):\n",
      "\n",
      "- 2440 (AA) - Chandler, Greg ( id = 302; type = staff; capture_method = OpenCalais_REST_API_v2 )\n",
      "\n",
      "----> Alternate_Author_Match ( count = 0 ):\n",
      "\n",
      "Article_Subject ( count = 3 ):\n",
      "\n",
      "- 8213 (AS) - Brown, Chris ( id = 327; capture_method = OpenCalais_REST_API_v2 ) (quoted; individual)\n",
      "\n",
      "----> Alternate_Subject_Match ( count = 0 ):\n",
      "\n",
      "----> Article_Subject_Mention ( count = 1 ):\n",
      "----> - 21736 -  ( graf: 11; from word: 233; to word: 234; index: 1403 ) - 8213 (AS) - Brown, Chris ( id = 327; capture_method = OpenCalais_REST_API_v2 ) (quoted; individual) : Chris Brown\n",
      "\n",
      "----> Article_Subject_Quotation ( count = 1 ):\n",
      "----> - 8739 -  ( graf: 12; from word: 263; to word: 281; index: 1567 ) - 8213 (AS) - Brown, Chris ( id = 327; capture_method = OpenCalais_REST_API_v2 ) (quoted; individual) : \"People just don't do that anymore, with the age of digital cameras,\" said Brown, who also owns Pereddie's Restaurant.\n",
      "\n",
      "----> Subject_Organization ( count = 0 ):\n",
      "\n",
      "- 8214 (AS) - Schwab, Bill ( id = 860; capture_method = OpenCalais_REST_API_v1 ) (mentioned; individual)\n",
      "\n",
      "----> Alternate_Subject_Match ( count = 0 ):\n",
      "\n",
      "----> Article_Subject_Mention ( count = 1 ):\n",
      "----> - 21737 -  ( graf: 14; from word: 321; to word: 322; index: 1943 ) - 8214 (AS) - Schwab, Bill ( id = 860; capture_method = OpenCalais_REST_API_v1 ) (mentioned; individual) : Bill Schwab\n",
      "\n",
      "----> Article_Subject_Quotation ( count = 0 ):\n",
      "\n",
      "----> Subject_Organization ( count = 0 ):\n",
      "\n",
      "- 8212 (AS) - Henderson, Dan ( id = 326; capture_method = OpenCalais_REST_API_v2 ) (quoted; individual)\n",
      "\n",
      "----> Alternate_Subject_Match ( count = 0 ):\n",
      "\n",
      "----> Article_Subject_Mention ( count = 1 ):\n",
      "----> - 21735 -  ( graf: 1; from word: 5; to word: 6; index: 23 ) - 8212 (AS) - Henderson, Dan ( id = 326; capture_method = OpenCalais_REST_API_v2 ) (quoted; individual) : Dan Henderson\n",
      "\n",
      "----> Article_Subject_Quotation ( count = 1 ):\n",
      "----> - 8738 -  ( graf: 5; from word: 78; to word: 102; index: 495 ) - 8212 (AS) - Henderson, Dan ( id = 326; capture_method = OpenCalais_REST_API_v2 ) (quoted; individual) : \"It's so hands-on, right from visualizing a composition when I'm shooting and making adjustments, to developing my own film and my own prints,\" he said.\n",
      "\n",
      "----> Subject_Organization ( count = 0 ):\n",
      "\n",
      "\n",
      "====================\n",
      "Results:\n",
      "====================\n",
      "\n",
      "\n",
      "NO ERRORS!\n",
      "Record copy a success (as far as we know)!\n",
      "copied Article_Data id 2365 INTO Article_Data id 3340 at 2017-07-03 17:22:32.710154\n"
     ]
    },
    {
     "data": {
      "text/plain": [
       "<Article_Data: 3340 - ground_truth - no coder_type -- Article: 21350 - Dec 06, 2009, Lakeshore ( N2 ), UID: 12C7A9A4DF21E4F8 - Former fire chief embraces photography ( Grand Rapids Press, The )>"
      ]
     },
     "execution_count": 10,
     "metadata": {},
     "output_type": "execute_result"
    }
   ],
   "source": [
    "# copy Article_Data to ground_truth user.\n",
    "copy_to_ground_truth_user( human_article_data_id )"
   ]
  },
  {
   "cell_type": "markdown",
   "metadata": {},
   "source": [
    "- fix the coding in `ground_truth`'s coding record:\n",
    "\n",
    "    - If you want to stay logged in as your normal user while processing an error, do the following in a separate browser (I like Opera).\n",
    "    - if this is the first time you've used the \"`ground_truth`\" user, log into the django admin ( [http://research.local/sourcenet/admin/](http://research.local/sourcenet/admin/) ) and:\n",
    "\n",
    "        - set or reset the \"`ground_truth`\" user's password.\n",
    "        - give it \"staff status\".\n",
    "\n",
    "    - log in to the coding tool ( [http://research.local/sourcenet/sourcenet/article/code/](http://research.local/sourcenet/sourcenet/article/code/) ) as the \"`ground_truth`\" user and fix the coding for the article in question, then save.\n",
    "\n",
    "- In the Reliability_Names disagreement view ( [http://research.local/sourcenet/sourcenet/analysis/reliability/names/disagreement/view](http://research.local/sourcenet/sourcenet/analysis/reliability/names/disagreement/view) ), remove the \"`TODO`\" tag from any items related to this disagreement and save:\n",
    "\n",
    "    - Click the checkbox in the \"**select**\" column next to the record whose evaluation is complete.\n",
    "    - In the \"**Reliability names action:**\" field, select \"_Remove tag(s) from selected_\".\n",
    "    - In the \"**Tag(s) - (comma-delimited):**\" field, enter \"_`TODO`_\" (without the quotes).\n",
    "    - Click the \"**Do Action**\" button.\n",
    "    \n",
    "    - This will also place information on the `Reliability_Names` record into a `Reliability_Names_Evaluation` record in the database.  The message that results from this action completing will include a link to the record (the first number in the output).  Click the link to open the record and update it with additional details.  Specifically:\n",
    "    \n",
    "        - check the \"`is_ground_truth_fixed`\" checkbox.\n",
    "        - if problems caused by automated coder error, click the \"`is_automated_error`\" checkbox.\n",
    "        - Since we had to update ground truth, set \"`status`\" to \"ERROR\".\n",
    "        - update the \"`status_message`\" so it contains a brief description of what exactly happened (should have been mentioned, should have been quoted, missed the person entirely, etc.).\n",
    "        - update \"`Notes`\" with more details.\n",
    "        - add \"`Tags`\" if appropriate (for sports articles, for example, add \"sports\" tag).\n",
    "\n",
    "- rebuild Reliability_Names for just that article.\n",
    "\n",
    "    - make a code cell and call \"`rebuild_reliability_names_for_article()`\", passing it the ID of the article whose Reliability_Names records you want to rebuild.  It will automatically delete existing and then rebuild, using all the right parameters.  Example:\n",
    "\n",
    "            # rebuild Reliability_Names for article 12345\n",
    "            rebuild_reliability_names_for_article( 12345 )"
   ]
  },
  {
   "cell_type": "code",
   "execution_count": 11,
   "metadata": {
    "scrolled": true
   },
   "outputs": [
    {
     "name": "stdout",
     "output_type": "stream",
     "text": [
      "Found 5 records.\n",
      "- delete()-ing: 10235 - label: prelim_month - article ID: 21350 - Greg Chandler ( 302 ) - coders: 12 ====> 1 - 8; 1; 302 ====> 2 - 2; 1; 302\n",
      "- delete()-ing: 10239 - label: prelim_month - article ID: 21350 - Chris Brown ( 327 ) - coders: 12 ====> 1 - 8; 1; 327 ====> 2 - 2; 1; 327\n",
      "- delete()-ing: 10238 - label: prelim_month - article ID: 21350 - Dan Henderson ( 326 ) - coders: 12 ====> 1 - 8; 1; 326 ====> 2 - 2; 1; 326\n",
      "- delete()-ing: 10237 - label: prelim_month - article ID: 21350 - Bill Schwab ( 860 ) - coders: 12 ====> 1 - 8; 1; 860 ====> 2 - 2; 1; 860\n",
      "- delete()-ing: 10236 - label: prelim_month - article ID: 21350 - Chris Tinney ( 762 ) - coders: 12 ====> 1 - 8; 0; 0 ====> 2 - 2; 1; 762\n",
      "- Article ID: 21350; Article_Data count: 3\n",
      "---- - Article Data Info: 2365 - minnesota1 - no coder_type -- Article: 21350 - Dec 06, 2009, Lakeshore ( N2 ), UID: 12C7A9A4DF21E4F8 - Former fire chief embraces photography ( Grand Rapids Press, The )\n",
      "---- - Article Data Info: 1642 - automated ( ADCT: OpenCalais_REST_API_v2 )  -- Article: 21350 - Dec 06, 2009, Lakeshore ( N2 ), UID: 12C7A9A4DF21E4F8 - Former fire chief embraces photography ( Grand Rapids Press, The )\n",
      "---- - Article Data Info: 3340 - ground_truth - no coder_type -- Article: 21350 - Dec 06, 2009, Lakeshore ( N2 ), UID: 12C7A9A4DF21E4F8 - Former fire chief embraces photography ( Grand Rapids Press, The )\n",
      "----> In output_reliability_name_row: len( index_used_list ) = 2; list = [1, 2]\n",
      "- author: 10741 - label: prelim_month - article ID: 21350 - Greg Chandler ( 302 ) - coders: 12 ====> 1 - 13; 1; 302 ====> 2 - 2; 1; 302\n",
      "----> In output_reliability_name_row: len( index_used_list ) = 2; list = [1, 2]\n",
      "- source: 10742 - label: prelim_month - article ID: 21350 - Chris Tinney ( 762 ) - coders: 12 ====> 1 - 13; 1; 762 ====> 2 - 2; 1; 762\n",
      "----> In output_reliability_name_row: len( index_used_list ) = 2; list = [1, 2]\n",
      "- source: 10743 - label: prelim_month - article ID: 21350 - Bill Schwab ( 860 ) - coders: 12 ====> 1 - 13; 1; 860 ====> 2 - 2; 1; 860\n",
      "----> In output_reliability_name_row: len( index_used_list ) = 2; list = [1, 2]\n",
      "- source: 10744 - label: prelim_month - article ID: 21350 - Dan Henderson ( 326 ) - coders: 12 ====> 1 - 13; 1; 326 ====> 2 - 2; 1; 326\n",
      "----> In output_reliability_name_row: len( index_used_list ) = 2; list = [1, 2]\n",
      "- source: 10745 - label: prelim_month - article ID: 21350 - Chris Brown ( 327 ) - coders: 12 ====> 1 - 13; 1; 327 ====> 2 - 2; 1; 327\n"
     ]
    }
   ],
   "source": [
    "# rebuild Reliability_Names for article\n",
    "rebuild_reliability_names_for_article( resolve_article_id )"
   ]
  },
  {
   "cell_type": "markdown",
   "metadata": {},
   "source": [
    "- Then, you'll need to re-fix any other problems with the article. Specifically:\n",
    "\n",
    "    - load just the Reliability_Names for this article - [http://research.local/sourcenet/sourcenet/analysis/reliability/names/disagreement/view](http://research.local/sourcenet/sourcenet/analysis/reliability/names/disagreement/view):\n",
    "\n",
    "        - **Label:** \"prelim_month\"\n",
    "        - **Coders to compare (1 through ==>):** 2\n",
    "        - **Reliability names filter type:** Select \"Lookup\"\n",
    "        - **[Lookup] - Associated Article IDs (comma-delimited):** Enter \"`<article_id>`,\" (without the quotes).\n",
    "\n",
    "    - check for single names, either to remove, or to tie an erroneously parsed name to the correct person (forgot to capture first name, for example).\n",
    "\n",
    "        - If two people that should be tied together are not, you'll need to merge the two rows.  To merge two rows:\n",
    "\n",
    "            - In the \"**select**\" checkbox, click the checkbox next to the erroneous entry that you want to merge into the correct entry.\n",
    "            - In the \"**merge INTO**\" checkbox, click the checkbox next to the entry INTO WHICH you want to merge.\n",
    "            - In the \"**Reliability names action:**\" field, select \"Merge Coding --> FROM 'select' TO 'merge INTO'\".\n",
    "            - Click the \"**Do Action**\" button.\n",
    "\n",
    "    - add again the \"TODO\" tag to any rows with disagreement, or if no disagreements, to the row that initiated this work.\n",
    "\n",
    "        - Click the checkbox in the \"**select**\" column next to any records that are either disagreements or the person who initiated this work.\n",
    "        - In the \"**Reliability names action:**\" field, select \"_Add tag(s) to selected_\".\n",
    "        - In the \"**Tag(s) - (comma-delimited):**\" field, enter \"_`TODO`_\" (without the quotes).\n",
    "        - Click the \"**Do Action**\" button."
   ]
  },
  {
   "cell_type": "markdown",
   "metadata": {},
   "source": [
    "If there is a problem where human and computer coding of same person are so different they split into different rows, merge the computer row into the human row, then remove the computer row.\n",
    "\n",
    "- TK"
   ]
  },
  {
   "cell_type": "markdown",
   "metadata": {},
   "source": [
    "Once you've evaluated and verified the human coding, remove the \"`TODO`\" tag from the current record (either from the single-article view above if you've removed all disagreements, or from the disagreement view if not):\n",
    "\n",
    "- Click the checkbox in the \"**select**\" column next to the record whose evaluation is complete.\n",
    "- In the \"**Reliability names action:**\" field, select \"_Remove tag(s) from selected_\".\n",
    "- In the \"**Tag(s) - (comma-delimited):**\" field, enter \"_`TODO`_\" (without the quotes).\n",
    "- Click the \"**Do Action**\" button.\n",
    "- This will also place information on the `Reliability_Names` record into a `Reliability_Names_Evaluation` record in the database.  The message that results from this action completing will include a link to the record (the first number in the output).  Click the link to open the record and update it with additional details.  Specifically:\n",
    "\n",
    "    - if problems caused by automated coder error, click the \"`is_automated_error`\" checkbox.\n",
    "    - update the \"`status_message`\" so it contains a brief description of what exactly happened (should have been mentioned, should have been quoted, missed the person entirely, etc.).\n",
    "    - update \"`Notes`\" with more details.\n",
    "    - add \"`Tags`\" if appropriate (for sports articles, for example, add \"sports\" tag)."
   ]
  },
  {
   "cell_type": "markdown",
   "metadata": {},
   "source": [
    "### Resolution logs\n",
    "\n",
    "- Back to [Table of Contents](#Table-of-Contents)\n",
    "\n",
    "Table of Reliability_Names records with disagreements, then separate tables of those where:\n",
    "\n",
    "- human coding had to be fixed.\n",
    "- records for the same person needed to be merged together.\n",
    "- coding had to be deleted."
   ]
  },
  {
   "cell_type": "markdown",
   "metadata": {},
   "source": [
    "#### Evaluation log\n",
    "\n",
    "- Back to [Table-of-Contents](#Table-of-Contents)\n",
    "\n",
    "Track each Reliability_Names that we evaluate:\n",
    "\n",
    "- Moved to `Reliability_Names_Evaluation` table in django: [http://research.local/sourcenet/admin/sourcenet_analysis/reliability_names_evaluation/?label=prelim_month&o=-1.7.8.3.5](http://research.local/sourcenet/admin/sourcenet_analysis/reliability_names_evaluation/?label=prelim_month&o=-1.7.8.3.5)"
   ]
  },
  {
   "cell_type": "markdown",
   "metadata": {},
   "source": [
    "#### Ground truth coding fixed\n",
    "\n",
    "- Back to [Table-of-Contents](#Table-of-Contents)\n",
    "\n",
    "For some, the error will be on the part of the human coder.  For human error, we create a new \"`ground_truth`\" record that we will correct, so we preserve original coding (and evidence of errors) in case we want or need that information later.  Below, we have a table of the articles where we had to fix ground truth.  To find the original coding, click the Article link.\n",
    "\n",
    "- Denoted by records with \"`is_ground_truth_fixed`\" set to True in the `Reliability_Names_Evaluation` table in django:  [http://research.local/sourcenet/admin/sourcenet_analysis/reliability_names_evaluation/?is_ground_truth_fixed__exact=1&label=prelim_month&o=-1.7.8.3.5](http://research.local/sourcenet/admin/sourcenet_analysis/reliability_names_evaluation/?is_ground_truth_fixed__exact=1&label=prelim_month&o=-1.7.8.3.5)"
   ]
  },
  {
   "cell_type": "markdown",
   "metadata": {},
   "source": [
    "#### Reliability_Names records merged\n",
    "\n",
    "- Back to [Table-of-Contents](#Table-of-Contents)\n",
    "\n",
    "For some, need to merge a single-name detection by Calais with full-name detection by ground_truth (an OpenCalais error - did not detect full name - combined with lookup error - didn't lookup the right person since missed part of his or her name).  Will still have subsequently deleted one or more duplicate rows.\n",
    "\n",
    "- Denoted by records with \"`event_type`\" set to \"merge\" in the Reliability_Names_Evaluation table in django: [http://research.local/sourcenet/admin/sourcenet_analysis/reliability_names_evaluation/?event_type__exact=merge&label=prelim_month&o=-1.7.8.3.5](http://research.local/sourcenet/admin/sourcenet_analysis/reliability_names_evaluation/?event_type__exact=merge&label=prelim_month&o=-1.7.8.3.5)"
   ]
  },
  {
   "cell_type": "markdown",
   "metadata": {},
   "source": [
    "#### Deleted Reliability_Names records\n",
    "\n",
    "- Back to [Table-of-Contents](#Table-of-Contents)\n",
    "\n",
    "Some records are just broken, need to be deleted.\n",
    "\n",
    "- Denoted by records with \"`event_type`\" set to \"deleted\" in the `Reliability_Names_Evaluation` table in django:\n",
    "[http://research.local/sourcenet/admin/sourcenet_analysis/reliability_names_evaluation/?event_type__exact=delete&label=prelim_month&o=-1.7.8.3.5](http://research.local/sourcenet/admin/sourcenet_analysis/reliability_names_evaluation/?event_type__exact=delete&label=prelim_month&o=-1.7.8.3.5)"
   ]
  },
  {
   "cell_type": "markdown",
   "metadata": {},
   "source": [
    "# Notes\n",
    "\n",
    "- Back to [Table of Contents](#Table-of-Contents)"
   ]
  },
  {
   "cell_type": "markdown",
   "metadata": {},
   "source": [
    "## Notes and questions\n",
    "\n",
    "- Back to [Table of Contents](#Table-of-Contents)\n",
    "\n",
    "Notes and questions:\n",
    "\n",
    "- TK"
   ]
  },
  {
   "cell_type": "markdown",
   "metadata": {},
   "source": [
    "## Errors\n",
    "\n",
    "- Back to [Table of Contents](#Table-of-Contents)\n",
    "\n",
    "Errors of note in automated coding:\n",
    "\n",
    "- Denoted by records with \"`is_automated_error`\" set to True in the `Reliability_Names_Evaluation` table in django:  [http://research.local/sourcenet/admin/sourcenet_analysis/reliability_names_evaluation/?is_ground_truth_fixed__exact=1&label=prelim_month&o=-1.7.8.3.5](http://research.local/sourcenet/admin/sourcenet_analysis/reliability_names_evaluation/?is_automated_error__exact=1&label=prelim_month&o=-1.7.8.3.5)"
   ]
  },
  {
   "cell_type": "markdown",
   "metadata": {},
   "source": [
    "# TODO\n",
    "\n",
    "- Back to [Table of Contents](#Table-of-Contents)\n",
    "\n",
    "TODO:\n",
    "\n",
    "- Update sections of code that output table markdown to also just insert that information into the database it Reliability_Names_Evaluation.\n",
    "\n",
    "    - // debug admin pages.\n",
    "    - import all of the existing rows from pipe delimited string.\n",
    "    \n",
    "        - // base list\n",
    "        - // fixed ground truth\n",
    "        - deleted\n",
    "        - merged\n",
    "        \n",
    "    - update the places where it outputs the pipe-delimited lists to write also to the database.\n",
    "\n",
    "- Use keywords for Lakeshore section stories to try to filter out sports stories (\"Basketball\").  Maybe try this for all articles in the month?\n",
    "- Want a way to limit to disagreements where quoted?  Might not - this is a start to assessing erroneous agreement.  If yes, 1 < coding time < 4 hours.\n",
    "\n",
    "    - problem - `Reliability_Names.person_type` only has three values - \"author\", \"subject\", \"source\" - might need a row-level measure of \"`has_mention`\", \"`has_quote`\" to more readily capture rows where disagreement is over quoted-or-not."
   ]
  },
  {
   "cell_type": "markdown",
   "metadata": {},
   "source": [
    "## Coding to look into\n",
    "\n",
    "- Back to [Table of Contents](#Table-of-Contents)\n",
    "\n",
    "Coding decisions to look at more closely:\n",
    "\n",
    "- TK"
   ]
  },
  {
   "cell_type": "markdown",
   "metadata": {},
   "source": [
    "## Debugging\n",
    "\n",
    "- Back to [Table of Contents](#Table-of-Contents)\n",
    "\n",
    "Issues to debug:\n",
    "\n",
    "- TK"
   ]
  },
  {
   "cell_type": "markdown",
   "metadata": {},
   "source": [
    "# DONE\n",
    "\n",
    "- Back to [Table of Contents](#Table-of-Contents)"
   ]
  },
  {
   "cell_type": "markdown",
   "metadata": {},
   "source": [
    "## quotes that contain paragraph break\n",
    "\n",
    "- Back to [Table of Contents](#Table-of-Contents)\n",
    "\n",
    "Quotes with newlines in them (not sure how that is captured on the way to the server, in the database, etc.) break the article coder: [http://research.local/sourcenet/sourcenet/article/code/](http://research.local/sourcenet/sourcenet/article/code/).\n",
    "\n",
    "When you load JSON that contains quote text that spans lines, the newlines within the text cause the JSON parsing to break.  Looks like it is read and parsed correctly when submitted to serrver (except for the graf number - evaluates to -1 - so that is a bug, too, since there are no newlines in any of the text we are looking at, just paragraph breaks).\n",
    "\n",
    "How to fix?:\n",
    "\n",
    "- First try stripping out any stretches of multiple white space characters and substituting a space.  This should work with all of the rest of the code on the server.  Can implement in javascript, and for sanity check also in Python that processes received JSON.\n",
    "- If rest of code doesn't play nice with reformatting, then maybe figure out how to escape the carriage returns and line feeds, and might need to update the \"find in text\" functions, too.\n",
    "- turns out that fixing this in cases when the quotation spans paragraphs might then break things when there are extra spaces within a paragraph.  So, leaving it as is for now, need to fix that paragraph in the article.\n",
    "\n",
    "Examples:\n",
    "\n",
    "- Article 21001: [http://research.local/sourcenet/sourcenet/article/article_data/view_with_text/?article_id=21001](http://research.local/sourcenet/sourcenet/article/article_data/view_with_text/?article_id=21001)\n",
    "    \n",
    "    - user minnesota1, article 21001\n",
    "    - user ground_truth, article 21001 (copied from minnesota1)."
   ]
  },
  {
   "cell_type": "markdown",
   "metadata": {},
   "source": [
    "# NEXT\n",
    "\n",
    "- Back to [Table of Contents](#Table-of-Contents)"
   ]
  }
 ],
 "metadata": {
  "kernelspec": {
   "display_name": "sourcenet (Python 3)",
   "language": "python",
   "name": "sourcenet"
  },
  "language_info": {
   "codemirror_mode": {
    "name": "ipython",
    "version": 3
   },
   "file_extension": ".py",
   "mimetype": "text/x-python",
   "name": "python",
   "nbconvert_exporter": "python",
   "pygments_lexer": "ipython3",
   "version": "3.5.2"
  }
 },
 "nbformat": 4,
 "nbformat_minor": 1
}
