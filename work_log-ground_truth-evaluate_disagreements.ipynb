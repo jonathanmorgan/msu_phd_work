{
 "cells": [
  {
   "cell_type": "markdown",
   "metadata": {},
   "source": [
    "# work log - ground truth - evaluate disagreements\n",
    "\n",
    "# Table of Contents\n",
    "\n",
    "- [Setup](#Setup)\n",
    "\n",
    "    - [Setup - Imports](#Setup---Imports)\n",
    "    - [Setup - Initialize Django](#Setup---Initialize-Django)\n",
    "\n",
    "- [Evaluate disagreements](#Evaluate-disagreements)\n",
    "\n",
    "    - [Tag disagreements as TODO](#Tag-disagreements-as-TODO)\n",
    "    - [View disagreements](#View-disagreements)\n",
    "    \n",
    "        - [Disagreement evaluation](#Disagreement-evaluation)\n",
    "        - [Disagreement resolution](#Disagreement-resolution)\n",
    "        - [Resolution logs](#Resolution-logs)\n",
    "        \n",
    "            - [Evaluation log](#Evaluation-log)\n",
    "            - [Ground-truth coding fixed](#Ground-truth-coding-fixed)\n",
    "            - [`Reliability_Names` records merged](#Reliability_Names-records-merged)\n",
    "            - [Deleted `Reliability_Names` records](#Deleted-Reliability_Names-records)\n",
    "\n",
    "- [Tools](#Tools)\n",
    "\n",
    "    - [Tool - copy `Article_Data` to user `ground_truth`](#Tool---copy-Article_Data-to-user-ground_truth)\n",
    "    - [Tool - delete `Article_Data`](#Tool---delete-Article_Data)\n",
    "    - [Tool - rebuild `Reliability_Names` for an article](#Tool---rebuild-Reliability_Names-for-an-article)\n",
    "    \n",
    "        - [Delete existing `Reliability_Names` for article](#Delete-existing-Reliability_Names-for-article)\n",
    "        - [Make new `Reliability_Names`](#Make-new-Reliability_Names)\n",
    "\n",
    "- [Notes](#Notes)\n",
    "\n",
    "    - [Notes and questions](#Notes-and-questions)\n",
    "    - [Errors](#Errors)\n",
    "\n",
    "- [TODO](#TODO)\n",
    "\n",
    "    - [Coding to look into](#Coding-to-look-into)\n",
    "    - [Debugging](#Debugging)\n",
    "\n",
    "- [DONE](#DONE)\n",
    "- [NEXT](#DONE)"
   ]
  },
  {
   "cell_type": "markdown",
   "metadata": {},
   "source": [
    "# Setup\n",
    "\n",
    "- Back to [Table of Contents](#Table-of-Contents)"
   ]
  },
  {
   "cell_type": "markdown",
   "metadata": {},
   "source": [
    "## Setup - Imports\n",
    "\n",
    "- Back to [Table of Contents](#Table-of-Contents)"
   ]
  },
  {
   "cell_type": "code",
   "execution_count": 1,
   "metadata": {},
   "outputs": [
    {
     "name": "stdout",
     "output_type": "stream",
     "text": [
      "packages imported at 2017-06-09 11:18:32.608137\n"
     ]
    }
   ],
   "source": [
    "import datetime\n",
    "import json\n",
    "import six\n",
    "\n",
    "print( \"packages imported at \" + str( datetime.datetime.now() ) )"
   ]
  },
  {
   "cell_type": "code",
   "execution_count": 2,
   "metadata": {},
   "outputs": [
    {
     "data": {
      "text/plain": [
       "'/home/jonathanmorgan/work/sourcenet/django/research/work/msu_phd_work'"
      ]
     },
     "execution_count": 2,
     "metadata": {},
     "output_type": "execute_result"
    }
   ],
   "source": [
    "%pwd"
   ]
  },
  {
   "cell_type": "markdown",
   "metadata": {},
   "source": [
    "## Setup - Initialize Django\n",
    "\n",
    "- Back to [Table of Contents](#Table-of-Contents)\n",
    "\n",
    "First, initialize my dev django project, so I can run code in this notebook that references my django models and can talk to the database using my project's settings.\n",
    "\n",
    "You need to have installed your virtualenv with django as a kernel, then select that kernel for this notebook."
   ]
  },
  {
   "cell_type": "code",
   "execution_count": 3,
   "metadata": {},
   "outputs": [
    {
     "name": "stdout",
     "output_type": "stream",
     "text": [
      "django initialized at 2017-06-09 15:18:36.456429\n"
     ]
    }
   ],
   "source": [
    "%run django_init.py"
   ]
  },
  {
   "cell_type": "markdown",
   "metadata": {},
   "source": [
    "Import any `sourcenet` or `sourcenet_analysis` models or classes."
   ]
  },
  {
   "cell_type": "code",
   "execution_count": 4,
   "metadata": {},
   "outputs": [
    {
     "name": "stdout",
     "output_type": "stream",
     "text": [
      "sourcenet and sourcenet_analysis packages imported at 2017-06-09 15:18:38.248192\n"
     ]
    }
   ],
   "source": [
    "# django imports\n",
    "from django.contrib.auth.models import User\n",
    "\n",
    "# sourcenet shared\n",
    "from sourcenet.shared.person_details import PersonDetails\n",
    "\n",
    "# sourcenet models.\n",
    "from sourcenet.models import Article\n",
    "from sourcenet.models import Article_Data\n",
    "from sourcenet.models import Article_Subject\n",
    "from sourcenet.models import Person\n",
    "from sourcenet.shared.sourcenet_base import SourcenetBase\n",
    "from sourcenet.tests.models.test_Article_Data_model import Article_Data_Copy_Tester\n",
    "\n",
    "# sourcenet article_coding\n",
    "from sourcenet.article_coding.article_coding import ArticleCoder\n",
    "from sourcenet.article_coding.manual_coding.manual_article_coder import ManualArticleCoder\n",
    "\n",
    "# sourcenet_analysis models.\n",
    "from sourcenet_analysis.models import Reliability_Names\n",
    "from sourcenet_analysis.reliability.reliability_names_builder import ReliabilityNamesBuilder\n",
    "\n",
    "print( \"sourcenet and sourcenet_analysis packages imported at \" + str( datetime.datetime.now() ) )"
   ]
  },
  {
   "cell_type": "markdown",
   "metadata": {},
   "source": [
    "# Evaluate disagreements\n",
    "\n",
    "- Back to [Table of Contents](#Table-of-Contents)\n",
    "\n",
    "Need to go through each disagreement and make sure that the ground truth is correct.  In the interest of accuracy/precision/recall, my human coding serves as ground truth to compare computer against.  So, will look at all the disagreements and make sure that the human coding is right.  This isn't perfect.  The error where both incorrectly agree is still unaddressed, and would effectively require me to re-code all the articles (which I could do...).  But, better than not checking."
   ]
  },
  {
   "cell_type": "markdown",
   "metadata": {},
   "source": [
    "## Tag disagreements as TODO\n",
    "\n",
    "- Back to [Table of Contents](#Table-of-Contents)\n",
    "\n",
    "First, assign \"TODO\" tag to all disagreements using the \"View reliability name information\" screen:\n",
    "\n",
    "- [http://research.local/sourcenet/sourcenet/analysis/reliability/names/disagreement/view](http://research.local/sourcenet/sourcenet/analysis/reliability/names/disagreement/view).\n",
    "\n",
    "To do this:\n",
    "\n",
    "- First, enter the following in the fields there:\n",
    "\n",
    "    - **Label:** \"prelim_month\"\n",
    "    - **Coders to compare (1 through ==>):** 2\n",
    "    - **Reliability names filter type:** Select \"Disagree (only rows with disagreement between coders)\"\n",
    "    \n",
    "- Click the \"**Submit Query**\" button.  This should load all the disagreement rows (424 after removing single-word names).\n",
    "- Click the \"**(all)**\" link in the \"**select**\" column header to check the checkbox next to all of the records.\n",
    "- In the \"**Reliability names action:**\" field, select \"Add tag(s) to selected\".\n",
    "- In the \"**Tag(s) - (comma-delimited):**\" field, enter \"`TODO`\" (without the quotes).\n",
    "- Click the \"**Do Action**\" button."
   ]
  },
  {
   "cell_type": "markdown",
   "metadata": {
    "collapsed": true
   },
   "source": [
    "## View disagreements\n",
    "\n",
    "- Back to [Table of Contents](#Table-of-Contents)\n",
    "\n",
    "Evaluate disagreements using the \"View reliability name information\" screen:\n",
    "\n",
    "- [http://research.local/sourcenet/sourcenet/analysis/reliability/names/disagreement/view](http://research.local/sourcenet/sourcenet/analysis/reliability/names/disagreement/view)\n",
    "\n",
    "To start, enter the following in fields there:\n",
    "\n",
    "- **Label:** \"prelim_month\"\n",
    "- **Coders to compare (1 through ==>):** 2\n",
    "- **Reliability names filter type:** Select \"Lookup\"\n",
    "- **[Lookup] - Reliability_Names tags (comma-delimited):** Enter \"`TODO`\" (without the quotes).\n",
    "\n",
    "Then click the \"**Submit Query**\" button.\n",
    "\n",
    "You should see all the records with disagreements that still need to be evaluated (we remove \"TODO\" from records as we go to keep track of which we have evaluated).  To start, the same 424 that had disagreements after removing single names should be assigned \"TODO\" tag."
   ]
  },
  {
   "cell_type": "markdown",
   "metadata": {},
   "source": [
    "### Disagreement evaluation\n",
    "\n",
    "- Back to [Table of Contents](#Table-of-Contents)\n",
    "\n",
    "Need to look at each instance where there is a disagreement and make sure the human coding is correct.\n",
    "\n",
    "Most are probably instances where the computer screwed up, but since we are calling this human coding \"ground truth\", want to winnow out as much human error as possible.\n",
    "\n",
    "For each disagreement, to check for coder error (like just capturing a name part for a person whose full name was in the story), click the \"Article ID\" in the column that has a link to article ID. It will take you to a view of the article where all the people who coded the article are included, with each detection of a mention or quotation displayed next to the paragraph where the person was originally first detected.\n",
    "\n",
    "If the disagreement deals with mentions only, and if the person shouldn't instead have been quoted, it is OK to skip fixing it if the human coder was in error since those are not included in this work.  It is also OK to fix if you want."
   ]
  },
  {
   "cell_type": "markdown",
   "metadata": {},
   "source": [
    "### Disagreement resolution\n",
    "\n",
    "For each disagreement:\n",
    "\n",
    "- click on the article ID link in the row to go to the article and check to see if the human coding for the disagreement in question is correct ( [http://research.local/sourcenet/sourcenet/article/article_data/view_with_text/](http://research.local/sourcenet/sourcenet/article/article_data/view_with_text/) ).\n",
    "\n",
    "- if human coder did not detect person or made some other kind of error:\n",
    "\n",
    "    - use the [Tool - copy Article_Data to user ground_truth](#Tool---copy-Article_Data-to-user-ground_truth) to create a copy of the person's Article_Data and assign it to coder \"`ground_truth`\".\n",
    "\n",
    "        - if this is the first time you've used the \"`ground_truth`\" user, log into the django admin ( [http://research.local/sourcenet/admin/](http://research.local/sourcenet/admin/) ) and:\n",
    "\n",
    "            - set or reset the \"`ground_truth`\" user's password.\n",
    "            - give it \"staff status\".\n",
    "\n",
    "        - log in to the coding tool ( [http://research.local/sourcenet/sourcenet/article/code/](http://research.local/sourcenet/sourcenet/article/code/) ) as the \"`ground_truth`\" user and fix the coding for the article in question.\n",
    "        - save.\n",
    "        \n",
    "    - rebuild Reliability_Names for just that article.\n",
    "\n",
    "        - remove old Reliability_Names for that article ( [Delete existing `Reliability_Names` for article](#Delete-existing-Reliability_Names-for-article) ).  Make sure to specify both label and Article ID, so you don't delete more than you intend.\n",
    "        - re-run Reliability_Names creation for the article ( [Make new `Reliability_Names`](#Make-new-Reliability_Names) ).  Specify:\n",
    "\n",
    "            - Article ID list (just put the ID of the article you want to reprocess in the list).\n",
    "            - label: make sure this is the same as the label of the rest of your Reliability_Names records (\"prelim_month\").\n",
    "            - Tag list: If you want to make even more certain that you don't do something unexpected, also specify the article tags that make up your current data set, so if you accidentally specify the ID of an article not in your data set, it won't process.  Current tag is \"grp_month\".\n",
    "            - Coders to assign to which index in the Reliability_Names record, and in what priority.  You can assign multiple coders to a given index, for example, when multiple coders coded subsets of a data set, and you want their combined coding to be used as \"coder 1\" or \"coder 2\", for example.  See the cell for an example.\n",
    "            - Automated coder type: You can specify the particular automated coding type you want for automated coder, to filter out coding done by other automated methods.  See the cell for an example for \"OpenCalais v2\".\n",
    "\n",
    "    - Then, you'll need to re-fix any other problems with the article. Specifically:\n",
    "        \n",
    "        - load just the Reliability_Names for this article - [http://research.local/sourcenet/sourcenet/analysis/reliability/names/disagreement/view](http://research.local/sourcenet/sourcenet/analysis/reliability/names/disagreement/view):\n",
    "            \n",
    "            - **Label:** \"prelim_month\"\n",
    "            - **Coders to compare (1 through ==>):** 2\n",
    "            - **Reliability names filter type:** Select \"Lookup\"\n",
    "            - **[Lookup] - Associated Article IDs (comma-delimited):** Enter \"`<article_id>`,\" (without the quotes).\n",
    "            \n",
    "        - check for single names, either to remove, or to tie an erroneously parsed name to the correct person (forgot to capture first name, for example).\n",
    "\n",
    "            - If two people that should be tied together are not, you'll need to merge the two rows.  To merge two rows:\n",
    "\n",
    "                - In the \"**select**\" checkbox, click the checkbox next to the erroneous entry that you want to merge into the correct entry.\n",
    "                - In the \"**merge INTO**\" checkbox, click the checkbox next to the entry INTO WHICH you want to merge.\n",
    "                - In the \"**Reliability names action:**\" field, select \"Merge Coding --> FROM 'select' TO 'merge INTO'\".\n",
    "                - Click the \"**Do Action**\" button.\n",
    "\n",
    "        - add again the \"TODO\" tag to any rows with disagreement, or if no disagreements, to the row that initiated this work.\n",
    "\n",
    "            - Click the checkbox in the \"**select**\" column next to any records that are either disagreements or the person who initiated this work.\n",
    "            - In the \"**Reliability names action:**\" field, select \"_Add tag(s) to selected_\".\n",
    "            - In the \"**Tag(s) - (comma-delimited):**\" field, enter \"_`TODO`_\" (without the quotes).\n",
    "            - Click the \"**Do Action**\" button.\n",
    "\n",
    "- If there is a problem where human and computer coding of same person are so different they split into different rows, merge the computer row into the human row, then remove the computer row.\n",
    "\n",
    "    - \n",
    "\n",
    "- Once you've evaluated and verified the human coding, remove the \"`TODO`\" tag from the current record (either from the single-article view above if you've removed all disagreements, or from the disagreement view if not):\n",
    "\n",
    "    - Click the checkbox in the \"**select**\" column next to the record whose evaluation is complete.\n",
    "    - In the \"**Reliability names action:**\" field, select \"_Remove tag(s) from selected_\".\n",
    "    - In the \"**Tag(s) - (comma-delimited):**\" field, enter \"_`TODO`_\" (without the quotes).\n",
    "    - Click the \"**Do Action**\" button."
   ]
  },
  {
   "cell_type": "markdown",
   "metadata": {},
   "source": [
    "### Resolution logs\n",
    "\n",
    "- Back to [Table of Contents](#Table-of-Contents)\n",
    "\n",
    "Table of Reliability_Names records with disagreements, then separate tables of those where:\n",
    "\n",
    "- human coding had to be fixed.\n",
    "- records for the same person needed to be merged together.\n",
    "- coding had to be deleted."
   ]
  },
  {
   "cell_type": "markdown",
   "metadata": {},
   "source": [
    "#### Evaluation log\n",
    "\n",
    "- Back to [Table-of-Contents](#Table-of-Contents)\n",
    "\n",
    "Track each Reliability_Names that we evaluate:"
   ]
  },
  {
   "cell_type": "markdown",
   "metadata": {},
   "source": [
    "| ID | Name | Article | Article_Data_List | Status | Error? (SHB = Should Have Been)| Notes |\n",
    "|------|------|------|------|------|------|------|\n",
    "| 8362 | Jack Hagedorn | Article [20645](http://research.local/sourcenet/sourcenet/article/article_data/view_with_text/?article_id=20645) | Article_Data: [2322 (coder=8)](http://research.local/sourcenet/sourcenet/article/article_data/view/?article_id=20645&article_data_id_select=2322); [2984 (coder=2)](http://research.local/sourcenet/sourcenet/article/article_data/view/?article_id=20645&article_data_id_select=2984) | CORRECT | Mentioned, SHB Quoted | None |\n",
    "| 8367 | Bo Damstra | Article [20647](http://research.local/sourcenet/sourcenet/article/article_data/view_with_text/?article_id=20647) | Article_Data: [2355 (coder=10)](http://research.local/sourcenet/sourcenet/article/article_data/view/?article_id=20647&article_data_id_select=2355) | CORRECT | MISSED | None |\n",
    "| 8369 | Kyle Moody | Article [20647](http://research.local/sourcenet/sourcenet/article/article_data/view_with_text/?article_id=20647) | Article_Data: [2355 (coder=10)](http://research.local/sourcenet/sourcenet/article/article_data/view/?article_id=20647&article_data_id_select=2355); [2978 (coder=2)](http://research.local/sourcenet/sourcenet/article/article_data/view/?article_id=20647&article_data_id_select=2978) | CORRECT | Mentioned, SHB Quoted | None |\n",
    "| 8385 | Tony Baker | Article [20653](http://research.local/sourcenet/sourcenet/article/article_data/view_with_text/?article_id=20653) | Article_Data: [2323 (coder=8)](http://research.local/sourcenet/sourcenet/article/article_data/view/?article_id=20653&article_data_id_select=2323); [2985 (coder=2)](http://research.local/sourcenet/sourcenet/article/article_data/view/?article_id=20653&article_data_id_select=2985) | CORRECT | Mentioned, SHB Quoted | Odd grammar - no said verb |\n",
    "| 8420 | Ahlanna Holmes | Article [20663](http://research.local/sourcenet/sourcenet/article/article_data/view_with_text/?article_id=20663) | Article_Data: [2321 (coder=9)](http://research.local/sourcenet/sourcenet/article/article_data/view/?article_id=20663&article_data_id_select=2321); [2986 (coder=2)](http://research.local/sourcenet/sourcenet/article/article_data/view/?article_id=20663&article_data_id_select=2986) | CORRECT | Quoted, SHB Mentioned | No clue - 4 mo. old murder victim |\n",
    "| 8502 | Dean Agee | Article [20695](http://research.local/sourcenet/sourcenet/article/article_data/view_with_text/?article_id=20695) | Article_Data: [2358 (coder=10)](http://research.local/sourcenet/sourcenet/article/article_data/view/?article_id=20695&article_data_id_select=2358) | CORRECT | MISSED | Missed entirely |\n",
    "| 8576 | Dan Strikwerda | Article [20722](http://research.local/sourcenet/sourcenet/article/article_data/view_with_text/?article_id=20722) | Article_Data: [2325 (coder=8)](http://research.local/sourcenet/sourcenet/article/article_data/view/?article_id=20722&article_data_id_select=2325); [2981 (coder=2)](http://research.local/sourcenet/sourcenet/article/article_data/view/?article_id=20722&article_data_id_select=2981) | CORRECT | Mentioned, SHB Quoted | None |\n",
    "| 8591 | Jennifer Granholm | Article [20724](http://research.local/sourcenet/sourcenet/article/article_data/view_with_text/?article_id=20724) | Article_Data: [2394 (coder=9)](http://research.local/sourcenet/sourcenet/article/article_data/view/?article_id=20724&article_data_id_select=2394); [2988 (coder=2)](http://research.local/sourcenet/sourcenet/article/article_data/view/?article_id=20724&article_data_id_select=2988) | CORRECT | Quoted, SHB Mentioned | \"say\" used, compound subject, not a direct quote.  |\n",
    "| 8625 | Calvin Bosman | Article [20739](http://research.local/sourcenet/sourcenet/article/article_data/view_with_text/?article_id=20739) | Article_Data: [2326 (coder=8)](http://research.local/sourcenet/sourcenet/article/article_data/view/?article_id=20739&article_data_id_select=2326); [2980 (coder=2)](http://research.local/sourcenet/sourcenet/article/article_data/view/?article_id=20739&article_data_id_select=2980) | CORRECT | Quoted, SHB Mentioned | None |\n",
    "| 8621 | Curtis Jacobs | Article [20739](http://research.local/sourcenet/sourcenet/article/article_data/view_with_text/?article_id=20739) | Article_Data: [2326 (coder=8)](http://research.local/sourcenet/sourcenet/article/article_data/view/?article_id=20739&article_data_id_select=2326); [2980 (coder=2)](http://research.local/sourcenet/sourcenet/article/article_data/view/?article_id=20739&article_data_id_select=2980) | CORRECT | Quoted, SHB Mentioned | Might be related to 3-gram - \"As the parents of Curtis Jacobs openly described...\" |\n",
    "| 10625 | John Chapin | Article [20749](http://research.local/sourcenet/sourcenet/article/article_data/view_with_text/?article_id=20749) | Article_Data: [3318 (coder=13)](http://research.local/sourcenet/sourcenet/article/article_data/view/?article_id=20749&article_data_id_select=3318); [3001 (coder=2)](http://research.local/sourcenet/sourcenet/article/article_data/view/?article_id=20749&article_data_id_select=3001) | INCOMPLETE | Coder missed a person | Coder missed a person because of limitation of coding protocol (\"John and Laura Chapin\") |\n",
    "| 8844 | Creative Arts Martin Luther King Jr. | Article [20813](http://research.local/sourcenet/sourcenet/article/article_data/view_with_text/?article_id=20813) | Article_Data: [2991 (coder=2)](http://research.local/sourcenet/sourcenet/article/article_data/view/?article_id=20813&article_data_id_select=2991) | ERROR | Not a person | None |\n",
    "| 8845 | Harrison Park | Article [20813](http://research.local/sourcenet/sourcenet/article/article_data/view_with_text/?article_id=20813) | Article_Data: [2991 (coder=2)](http://research.local/sourcenet/sourcenet/article/article_data/view/?article_id=20813&article_data_id_select=2991) | ERROR | Not a person | None |\n",
    "| 8843 | Martin Luther King Jr. | Article [20813](http://research.local/sourcenet/sourcenet/article/article_data/view_with_text/?article_id=20813) | Article_Data: [2408 (coder=10)](http://research.local/sourcenet/sourcenet/article/article_data/view/?article_id=20813&article_data_id_select=2408) | ERROR | Not a person | Protocol states only capture name when referencing person, not as part of name of building, etc. |\n",
    "| 8853 | George Heartwell | Article [20815](http://research.local/sourcenet/sourcenet/article/article_data/view_with_text/?article_id=20815) | Article_Data: [2409 (coder=10)](http://research.local/sourcenet/sourcenet/article/article_data/view/?article_id=20815&article_data_id_select=2409); [2992 (coder=2)](http://research.local/sourcenet/sourcenet/article/article_data/view/?article_id=20815&article_data_id_select=2992) | CORRECT | MISSED | meeting story - \"voiced by Mayor George Heartwell\", then \"he said\" was in next paragraph. |\n",
    "| 10635 | George Heartwell | Article [20815](http://research.local/sourcenet/sourcenet/article/article_data/view_with_text/?article_id=20815) | Article_Data: [3319 (coder=13)](http://research.local/sourcenet/sourcenet/article/article_data/view/?article_id=20815&article_data_id_select=3319); [2992 (coder=2)](http://research.local/sourcenet/sourcenet/article/article_data/view/?article_id=20815&article_data_id_select=2992) | CORRECT | Mentioned, SHB Quoted | None |\n",
    "| 10637 | James White | Article [20815](http://research.local/sourcenet/sourcenet/article/article_data/view_with_text/?article_id=20815) | Article_Data: [3319 (coder=13)](http://research.local/sourcenet/sourcenet/article/article_data/view/?article_id=20815&article_data_id_select=3319); [2992 (coder=2)](http://research.local/sourcenet/sourcenet/article/article_data/view/?article_id=20815&article_data_id_select=2992) | ERROR | Coder missed a person | None |\n",
    "| 8858 | Carl Levin | Article [20818](http://research.local/sourcenet/sourcenet/article/article_data/view_with_text/?article_id=20818) | Article_Data: [2473 (coder=9)](http://research.local/sourcenet/sourcenet/article/article_data/view/?article_id=20818&article_data_id_select=2473) | CORRECT | MISSED | mention |"
   ]
  },
  {
   "cell_type": "markdown",
   "metadata": {},
   "source": [
    "#### Ground truth coding fixed\n",
    "\n",
    "- Back to [Table-of-Contents](#Table-of-Contents)\n",
    "\n",
    "For a few, the error will be on the part of the human coder.  For human error, we create a new \"`ground_truth`\" record that we will correct, so we preserve original coding (and evidence of errors) in case we want or need that information later.  Below, we have a table of the articles where we had to fix ground truth.  To find the original coding, click the Article link."
   ]
  },
  {
   "cell_type": "markdown",
   "metadata": {},
   "source": [
    "| ID | Name | Article | Article_Data_List | Status | Error? (SHB = Should Have Been)| Notes |\n",
    "|------|------|------|------|------|------|------|\n",
    "| 10625 | John Chapin | Article [20749](http://research.local/sourcenet/sourcenet/article/article_data/view_with_text/?article_id=20749) | Article_Data: [3318 (coder=13)](http://research.local/sourcenet/sourcenet/article/article_data/view/?article_id=20749&article_data_id_select=3318); [3001 (coder=2)](http://research.local/sourcenet/sourcenet/article/article_data/view/?article_id=20749&article_data_id_select=3001) | INCOMPLETE | Coder missed a person | Coder missed a person because of limitation of coding protocol (\"John and Laura Chapin\") |"
   ]
  },
  {
   "cell_type": "markdown",
   "metadata": {},
   "source": [
    "#### Reliability_Names records merged\n",
    "\n",
    "- Back to [Table-of-Contents](#Table-of-Contents)\n",
    "\n",
    "For some, need to merge a single-name detection by Calais with full-name detection by ground_truth (an OpenCalais error - did not detect full name - combined with lookup error - didn't lookup the right person since missed part of his or her name).  Will still have subsequently deleted one or more duplicate rows."
   ]
  },
  {
   "cell_type": "markdown",
   "metadata": {},
   "source": [
    "| ID FROM | ID INTO | Article | Article_Data | Article_Subject |\n",
    "|------|------|------|------|------|\n",
    "| 9506 | 9507 | Article [21049](http://research.local/sourcenet/sourcenet/article/article_data/view_with_text/?article_id=21049) | FROM [3034](http://research.local/sourcenet/sourcenet/article/article_data/view/?article_id=21049&article_data_id_select=3034)<br />TO [2443](http://research.local/sourcenet/sourcenet/article/article_data/view/?article_id=21049&article_data_id_select=2443) | 8494 (AS) - Reyes, Ivette ( id = 1899; capture_method = None ) (quoted; individual) ( quotes: 1; mentions: 1 ) ==> Name: Ivette Reyes |\n",
    "| 9992 | 9993 | Article [22281](http://research.local/sourcenet/sourcenet/article/article_data/view_with_text/?article_id=22281) | FROM [3083](http://research.local/sourcenet/sourcenet/article/article_data/view/?article_id=22281&article_data_id_select=3083) TO [2635](http://research.local/sourcenet/sourcenet/article/article_data/view/?article_id=22281&article_data_id_select=2635) | 9369 (AS) - Tassell, Leslie ( id = 2328; capture_method = None ) (mentioned; individual) ==> name: Leslie E. Tassell |\n",
    "| 9989 | 9988 | Article [23169](http://research.local/sourcenet/sourcenet/article/article_data/view_with_text/?article_id=23169) | FROM [3195](http://research.local/sourcenet/sourcenet/article/article_data/view/?article_id=23169&article_data_id_select=3195) TO [2719](http://research.local/sourcenet/sourcenet/article/article_data/view/?article_id=23169&article_data_id_select=2719) | 12020 (AS) - Keller ( id = 2903; capture_method = OpenCalais_REST_API_v2 ) (quoted; individual) ==> name: Keller |\n"
   ]
  },
  {
   "cell_type": "code",
   "execution_count": null,
   "metadata": {
    "collapsed": true
   },
   "outputs": [],
   "source": [
    "reliability_names_id_from = \"9989\"\n",
    "reliability_names_id_to = \"9988\"\n",
    "article_id = \"23169\"\n",
    "article_data_id_from = \"3195\"\n",
    "article_data_id_to = \"2719\"\n",
    "article_subject = \"12020 (AS) - Keller ( id = 2903; capture_method = OpenCalais_REST_API_v2 ) (quoted; individual) ==> name: Keller\"\n",
    "\n",
    "markdown_string = \"| \"\n",
    "markdown_string += reliability_names_id_from\n",
    "markdown_string += \" | \"\n",
    "markdown_string += reliability_names_id_to\n",
    "markdown_string += \" | Article [\"\n",
    "markdown_string += article_id\n",
    "markdown_string += \"](http://research.local/sourcenet/sourcenet/article/article_data/view_with_text/?article_id=\"\n",
    "markdown_string += article_id\n",
    "markdown_string += \") | FROM [\"\n",
    "markdown_string += article_data_id_from\n",
    "markdown_string += \"](http://research.local/sourcenet/sourcenet/article/article_data/view/?article_id=\"\n",
    "markdown_string += article_id\n",
    "markdown_string += \"&article_data_id_select=\"\n",
    "markdown_string += article_data_id_from\n",
    "markdown_string += \") TO [\"\n",
    "markdown_string += article_data_id_to\n",
    "markdown_string += \"](http://research.local/sourcenet/sourcenet/article/article_data/view/?article_id=\"\n",
    "markdown_string += article_id\n",
    "markdown_string += \"&article_data_id_select=\"\n",
    "markdown_string += article_data_id_to\n",
    "markdown_string += \") | \"\n",
    "markdown_string += article_subject\n",
    "markdown_string += \" |\"\n",
    "\n",
    "print( \"Reliabilty_Names merge Markdown:\\n\" + markdown_string )"
   ]
  },
  {
   "cell_type": "markdown",
   "metadata": {},
   "source": [
    "#### Deleted Reliability_Names records\n",
    "\n",
    "- Back to [Table-of-Contents](#Table-of-Contents)"
   ]
  },
  {
   "cell_type": "markdown",
   "metadata": {},
   "source": [
    "| ID | Article | Article_Data | Article_Subject | Type |\n",
    "|------|------|------|------|------|\n",
    "| 8618 | Article [20739](http://research.local/sourcenet/sourcenet/article/article_data/view_with_text/?article_id=20739) | Article_Data [2980](http://research.local/sourcenet/sourcenet/article/article_data/view/?article_id=20739&article_data_id_select=2980) | 11006 (AS) - Christopher ( id = 2776; capture_method = OpenCalais_REST_API_v2 ) (mentioned; individual) ==> name: Christopher | CORRECT |\n"
   ]
  },
  {
   "cell_type": "code",
   "execution_count": null,
   "metadata": {
    "collapsed": true,
    "scrolled": true
   },
   "outputs": [],
   "source": [
    "# folded this code into the Reliability_Names delete screen (sourcenet_analysis/views.py-->reliability_names_disagreement_view().\n",
    "'''\n",
    "reliability_names_id = \"7956\"\n",
    "article_id = \"21509\"\n",
    "article_data_id = \"1660\"\n",
    "article_subject = \"5498 (AS) - Jaidon ( id = 875; capture_method = OpenCalais_REST_API_v1 ) (mentioned; individual) ==> name: Jaidon\"\n",
    "    \n",
    "markdown_string = \"| \"\n",
    "markdown_string += reliability_names_id\n",
    "markdown_string += \" | Article [\"\n",
    "markdown_string += article_id\n",
    "markdown_string += \"](http://research.local/sourcenet/sourcenet/article/article_data/view_with_text/?article_id=\"\n",
    "markdown_string += article_id\n",
    "markdown_string += \") | Article_Data [\"\n",
    "markdown_string += article_data_id\n",
    "markdown_string += \"](http://research.local/sourcenet/sourcenet/article/article_data/view/?article_id=\"\n",
    "markdown_string += article_id\n",
    "markdown_string += \"&article_data_id_select=\"\n",
    "markdown_string += article_data_id\n",
    "markdown_string += \") | \"\n",
    "markdown_string += article_subject\n",
    "markdown_string += \" |\"\n",
    "\n",
    "print( \"Reliability_Names removal Markdown:\\n\" + markdown_string )\n",
    "'''"
   ]
  },
  {
   "cell_type": "markdown",
   "metadata": {},
   "source": [
    "# Tools\n",
    "\n",
    "- Back to [Table of Contents](#Table-of-Contents)"
   ]
  },
  {
   "cell_type": "markdown",
   "metadata": {},
   "source": [
    "## Tool - copy Article_Data to user ground_truth\n",
    "\n",
    "- Back to [Table of Contents](#Table-of-Contents)\n",
    "\n",
    "Retrieve the ground truth user, then make a deep copy of an Article_Data record, assigning it to the ground truth user."
   ]
  },
  {
   "cell_type": "code",
   "execution_count": 11,
   "metadata": {},
   "outputs": [
    {
     "name": "stdout",
     "output_type": "stream",
     "text": [
      "Original Article_Data ID = 2409; Copy Article_Data ID = 3319\n",
      "\n",
      "\n",
      "Article_Data_Notes ( count = 1 ):\n",
      "- 2162 - Person Store JSON (likely from manual coding via article-code view). of type \"json\" for article_data: 2409 - minnesota3 - no coder_type -- Article: 20815 - Dec 02, 2009, City and Region ( A3 ), UID: 12C5F474621F8110 - City votes to let cabs raise rates - Maximum fares would be among highest in state ( Grand Rapids Press, The )\n",
      "\n",
      "Article_Author ( count = 1 ):\n",
      "\n",
      "- 2488 (AA) - King, Kyla ( id = 437; type = staff; capture_method = OpenCalais_REST_API_v2 )\n",
      "\n",
      "----> Alternate_Author_Match ( count = 0 ):\n",
      "\n",
      "Article_Subject ( count = 4 ):\n",
      "\n",
      "- 8385 (AS) - LaGrand, David ( id = 1059; capture_method = OpenCalais_REST_API_v2 ) (mentioned; individual)\n",
      "\n",
      "----> Alternate_Subject_Match ( count = 0 ):\n",
      "\n",
      "----> Article_Subject_Mention ( count = 1 ):\n",
      "----> - 21908 -  ( graf: 14; from word: 380; to word: 381; index: 2221 ) - 8385 (AS) - LaGrand, David ( id = 1059; capture_method = OpenCalais_REST_API_v2 ) (mentioned; individual) : David LaGrand\n",
      "\n",
      "----> Article_Subject_Quotation ( count = 0 ):\n",
      "\n",
      "----> Subject_Organization ( count = 0 ):\n",
      "\n",
      "- 8383 (AS) - Heartwell, George ( id = 218; capture_method = OpenCalais_REST_API_v2 ) (quoted; individual)\n",
      "\n",
      "----> Alternate_Subject_Match ( count = 0 ):\n",
      "\n",
      "----> Article_Subject_Mention ( count = 1 ):\n",
      "----> - 21906 -  ( graf: 8; from word: 232; to word: 233; index: 1365 ) - 8383 (AS) - Heartwell, George ( id = 218; capture_method = OpenCalais_REST_API_v2 ) (quoted; individual) : George Heartwell\n",
      "\n",
      "----> Article_Subject_Quotation ( count = 1 ):\n",
      "----> - 8851 -  ( graf: 9; from word: 239; to word: 250; index: 1412 ) - 8383 (AS) - Heartwell, George ( id = 218; capture_method = OpenCalais_REST_API_v2 ) (quoted; individual) : \"It seems to me a tad on the high side,\" he said.\n",
      "\n",
      "----> Subject_Organization ( count = 0 ):\n",
      "\n",
      "- 8382 (AS) - Parks, Lauri ( id = 1816; capture_method = OpenCalais_REST_API_v2 ) (quoted; individual)\n",
      "\n",
      "----> Alternate_Subject_Match ( count = 0 ):\n",
      "\n",
      "----> Article_Subject_Mention ( count = 1 ):\n",
      "----> - 21905 -  ( graf: 5; from word: 128; to word: 129; index: 757 ) - 8382 (AS) - Parks, Lauri ( id = 1816; capture_method = OpenCalais_REST_API_v2 ) (quoted; individual) : Lauri Parks\n",
      "\n",
      "----> Article_Subject_Quotation ( count = 1 ):\n",
      "----> - 8850 -  ( graf: 6; from word: 158; to word: 180; index: 911 ) - 8382 (AS) - Parks, Lauri ( id = 1816; capture_method = OpenCalais_REST_API_v2 ) (quoted; individual) : \"This is the ceiling. A majority of them are not charging that because they look at what the market will bear,\" she said.\n",
      "\n",
      "----> Subject_Organization ( count = 0 ):\n",
      "\n",
      "- 8384 (AS) - Jendrasiak, James ( id = 1817; capture_method = OpenCalais_REST_API_v2 ) (quoted; individual)\n",
      "\n",
      "----> Alternate_Subject_Match ( count = 0 ):\n",
      "\n",
      "----> Article_Subject_Mention ( count = 1 ):\n",
      "----> - 21907 -  ( graf: 12; from word: 335; to word: 336; index: 1957 ) - 8384 (AS) - Jendrasiak, James ( id = 1817; capture_method = OpenCalais_REST_API_v2 ) (quoted; individual) : James Jendrasiak\n",
      "\n",
      "----> Article_Subject_Quotation ( count = 1 ):\n",
      "----> - 8852 -  ( graf: 13; from word: 348; to word: 376; index: 2038 ) - 8384 (AS) - Jendrasiak, James ( id = 1817; capture_method = OpenCalais_REST_API_v2 ) (quoted; individual) : \"They're the ones (who) should find out who's charging the most and who's charging the least and make a decision on which one they're going to use,\" he said.\n",
      "\n",
      "----> Subject_Organization ( count = 0 ):\n",
      "\n",
      "\n",
      "====================\n",
      "Results:\n",
      "====================\n",
      "\n",
      "\n",
      "NO ERRORS!\n",
      "Record copy a success (as far as we know)!\n",
      "copied Article_Data id 2409 INTO Article_Data id 3319 at 2017-06-09 22:09:48.579014\n"
     ]
    }
   ],
   "source": [
    "# declare variables\n",
    "ground_truth_user = None\n",
    "ground_truth_user_id = -1\n",
    "id_of_article_data_to_copy = -1\n",
    "new_article_data = None\n",
    "new_article_data_id = -1\n",
    "validation_error_list = None\n",
    "validation_error_count = -1\n",
    "validation_error = None\n",
    "\n",
    "# set ID of article data we want to copy.\n",
    "id_of_article_data_to_copy = 2409\n",
    "\n",
    "# get the ground_truth user's ID.\n",
    "ground_truth_user = SourcenetBase.get_ground_truth_coding_user()\n",
    "ground_truth_user_id = ground_truth_user.id\n",
    "\n",
    "# make the copy\n",
    "new_article_data = Article_Data.make_deep_copy( id_of_article_data_to_copy,\n",
    "                                                new_coder_user_id_IN = ground_truth_user_id )\n",
    "new_article_data_id = new_article_data.id\n",
    "\n",
    "# validate it.\n",
    "validation_error_list = Article_Data_Copy_Tester.validate_article_data_deep_copy( original_article_data_id_IN = id_of_article_data_to_copy,\n",
    "                                                                                  copy_article_data_id_IN = new_article_data_id,\n",
    "                                                                                  copy_coder_user_id_IN = ground_truth_user_id )\n",
    "\n",
    "# get error count:\n",
    "validation_error_count = len( validation_error_list )\n",
    "if ( validation_error_count > 0 ):\n",
    "    \n",
    "    # loop and output messages\n",
    "    for validation_error in validation_error_list:\n",
    "        \n",
    "        print( \"- Validation erorr: \" + str( validation_error ) )\n",
    "        \n",
    "    #-- END loop over validation errors. --#\n",
    "    \n",
    "else:\n",
    "\n",
    "    # no errors - success!\n",
    "    print( \"Record copy a success (as far as we know)!\" )\n",
    "    \n",
    "#-- END check to see if validation errors --#\n",
    "\n",
    "print( \"copied Article_Data id \" + str( id_of_article_data_to_copy ) + \" INTO Article_Data id \" + str( new_article_data_id ) + \" at \" + str( datetime.datetime.now() ) )"
   ]
  },
  {
   "cell_type": "markdown",
   "metadata": {},
   "source": [
    "## Tool - delete Article_Data\n",
    "\n",
    "- Back to [Table of Contents](#Table-of-Contents)\n",
    "\n",
    "Delete the Article_Data whose ID you specify (intended only when you accidentally create a \"`ground_truth`\")."
   ]
  },
  {
   "cell_type": "code",
   "execution_count": null,
   "metadata": {
    "collapsed": true
   },
   "outputs": [],
   "source": [
    "# declare variables\n",
    "article_data_id = -1\n",
    "article_data = None\n",
    "do_delete = False\n",
    "\n",
    "# set ID.\n",
    "article_data_id = 3314\n",
    "\n",
    "# get model instance\n",
    "article_data = Article_Data.objects.get( id = article_data_id )\n",
    "\n",
    "# got something?\n",
    "if ( article_data is not None ):\n",
    "    \n",
    "    # yes.  Delete?\n",
    "    if ( do_delete == True ):\n",
    "        \n",
    "        # delete.\n",
    "        print( \"Deleting Article_Data: \" + str( article_data ) )\n",
    "        article_data.delete()\n",
    "    \n",
    "    else:\n",
    "        \n",
    "        # no delete.\n",
    "        print( \"Found Article_Data: \" + str( article_data ) + \", but not deleting.\" )\n",
    "        \n",
    "    #-- END check to see if we delete --#\n",
    "    \n",
    "#-- END check to see if Article_Data match. --#"
   ]
  },
  {
   "cell_type": "markdown",
   "metadata": {},
   "source": [
    "## Tool - rebuild `Reliability_Names` for an article\n",
    "\n",
    "- Back to [Table of Contents](#Table-of-Contents)\n",
    "\n",
    "Steps:\n",
    "\n",
    "- retrieve the Reliability_Names row(s) for article with a paritcular ID, and filter on label if one provided.\n",
    "- delete the selected Reliability_Names row(s).\n",
    "- set up a call to the Reliability_Names program that just generates data for:\n",
    "\n",
    "    - the article in question\n",
    "    - users in a desired order.\n",
    "    - etc."
   ]
  },
  {
   "cell_type": "markdown",
   "metadata": {},
   "source": [
    "### Delete existing Reliability_Names for article\n",
    "\n",
    "- Back to [Table of Contents](#Table-of-Contents)"
   ]
  },
  {
   "cell_type": "code",
   "execution_count": 18,
   "metadata": {},
   "outputs": [
    {
     "name": "stdout",
     "output_type": "stream",
     "text": [
      "Found 0 records.\n"
     ]
    }
   ],
   "source": [
    "# declare variables\n",
    "article_id = -1\n",
    "label = \"\"\n",
    "do_delete = False\n",
    "row_string_list = None\n",
    "\n",
    "# first, get existing Reliability_Names rows for article and label.\n",
    "article_id = 20815\n",
    "label = \"prelim_month\"\n",
    "#do_delete = True\n",
    "\n",
    "# Do the delete\n",
    "row_string_list = Reliability_Names.delete_reliabilty_names_for_article( article_id,\n",
    "                                                                         label_IN = label,\n",
    "                                                                         do_delete_IN = do_delete )\n",
    "\n",
    "# print the strings.\n",
    "for row_string in row_string_list:\n",
    "    \n",
    "    # print it.\n",
    "    print( row_string )\n",
    "    \n",
    "#-- END loop over row strings --#"
   ]
  },
  {
   "cell_type": "markdown",
   "metadata": {},
   "source": [
    "### Make new Reliability_Names\n",
    "\n",
    "- Back to [Table of Contents](#Table-of-Contents)"
   ]
  },
  {
   "cell_type": "code",
   "execution_count": 19,
   "metadata": {},
   "outputs": [
    {
     "name": "stdout",
     "output_type": "stream",
     "text": [
      "- Article ID: 20815; Article_Data count: 3\n",
      "---- - Article Data Info: 2409 - minnesota3 - no coder_type -- Article: 20815 - Dec 02, 2009, City and Region ( A3 ), UID: 12C5F474621F8110 - City votes to let cabs raise rates - Maximum fares would be among highest in state ( Grand Rapids Press, The )\n",
      "---- - Article Data Info: 2992 - automated ( ADCT: OpenCalais_REST_API_v2 )  -- Article: 20815 - Dec 02, 2009, City and Region ( A3 ), UID: 12C5F474621F8110 - City votes to let cabs raise rates - Maximum fares would be among highest in state ( Grand Rapids Press, The )\n",
      "---- - Article Data Info: 3319 - ground_truth - no coder_type -- Article: 20815 - Dec 02, 2009, City and Region ( A3 ), UID: 12C5F474621F8110 - City votes to let cabs raise rates - Maximum fares would be among highest in state ( Grand Rapids Press, The )\n",
      "----> In output_reliability_name_row: len( index_used_list ) = 2; list = [1, 2]\n",
      "- author: 10632 - label: prelim_month - article ID: 20815 - Kyla King ( 437 ) - coders: 12 ====> 1 - 13; 1; 437 ====> 2 - 2; 1; 437\n",
      "----> In output_reliability_name_row: len( index_used_list ) = 2; list = [1, 2]\n",
      "- source: 10633 - label: prelim_month - article ID: 20815 - Lauri Parks ( 1816 ) - coders: 12 ====> 1 - 13; 1; 1816 ====> 2 - 2; 1; 1816\n",
      "----> In output_reliability_name_row: len( index_used_list ) = 2; list = [1, 2]\n",
      "- source: 10634 - label: prelim_month - article ID: 20815 - James Jendrasiak ( 1817 ) - coders: 12 ====> 1 - 13; 1; 1817 ====> 2 - 2; 1; 1817\n",
      "----> In output_reliability_name_row: len( index_used_list ) = 2; list = [1, 2]\n",
      "- source: 10635 - label: prelim_month - article ID: 20815 - George Heartwell ( 218 ) - coders: 12 ====> 1 - 13; 1; 218 ====> 2 - 2; 1; 218\n",
      "----> In output_reliability_name_row: len( index_used_list ) = 2; list = [1, 2]\n",
      "- source: 10636 - label: prelim_month - article ID: 20815 - David LaGrand ( 1059 ) - coders: 12 ====> 1 - 13; 1; 1059 ====> 2 - 2; 1; 1059\n",
      "----> In output_reliability_name_row: len( index_used_list ) = 2; list = [1, 2]\n",
      "- source: 10637 - label: prelim_month - article ID: 20815 - James White ( 2797 ) - coders: 12 ====> 1 - 13; 1; 2797 ====> 2 - 2; 1; 2797\n"
     ]
    }
   ],
   "source": [
    "# django imports\n",
    "#from django.contrib.auth.models import User\n",
    "\n",
    "# sourcenet imports\n",
    "#from sourcenet.shared.sourcenet_base import SourcenetBase\n",
    "\n",
    "# sourcenet_analysis imports\n",
    "#from sourcenet_analysis.reliability.reliability_names_builder import ReliabilityNamesBuilder\n",
    "\n",
    "# declare variables\n",
    "my_reliability_instance = None\n",
    "tag_in_list = []\n",
    "article_id_in_list = []\n",
    "label = \"\"\n",
    "\n",
    "# declare variables - user setup\n",
    "current_coder = None\n",
    "current_coder_id = -1\n",
    "current_index = -1\n",
    "\n",
    "# declare variables - Article_Data filtering.\n",
    "coder_type = \"\"\n",
    "\n",
    "# make reliability instance\n",
    "my_reliability_instance = ReliabilityNamesBuilder()\n",
    "\n",
    "#===============================================================================\n",
    "# configure\n",
    "#===============================================================================\n",
    "\n",
    "# list of tags of articles we want to process.\n",
    "tag_in_list = [ \"grp_month\", ]\n",
    "\n",
    "# list of IDs of articles we want to process:\n",
    "article_id_in_list = [ 20815, ]\n",
    "\n",
    "# label to associate with results, for subsequent lookup.\n",
    "label = \"prelim_month\"\n",
    "\n",
    "# ! ====> map coders to indices\n",
    "\n",
    "# set it up so that...\n",
    "\n",
    "# ...the ground truth user has highest priority (4) for index 1...\n",
    "current_coder = SourcenetBase.get_ground_truth_coding_user()\n",
    "current_coder_id = current_coder.id\n",
    "current_index = 1\n",
    "current_priority = 4\n",
    "my_reliability_instance.add_coder_at_index( current_coder_id, current_index, priority_IN = current_priority )\n",
    "\n",
    "# ...coder ID 8 is priority 3 for index 1...\n",
    "current_coder_id = 8\n",
    "current_index = 1\n",
    "current_priority = 3\n",
    "my_reliability_instance.add_coder_at_index( current_coder_id, current_index, priority_IN = current_priority )\n",
    "\n",
    "# ...coder ID 9 is priority 2 for index 1...\n",
    "current_coder_id = 9\n",
    "current_index = 1\n",
    "current_priority = 2\n",
    "my_reliability_instance.add_coder_at_index( current_coder_id, current_index, priority_IN = current_priority )\n",
    "\n",
    "# ...coder ID 10 is priority 1 for index 1...\n",
    "current_coder_id = 10\n",
    "current_index = 1\n",
    "current_priority = 1\n",
    "my_reliability_instance.add_coder_at_index( current_coder_id, current_index, priority_IN = current_priority )\n",
    "\n",
    "# ...and automated coder (2) is index 2\n",
    "current_coder = SourcenetBase.get_automated_coding_user()\n",
    "current_coder_id = current_coder.id\n",
    "current_index = 2\n",
    "current_priority = 1\n",
    "my_reliability_instance.add_coder_at_index( current_coder_id, current_index, priority_IN = current_priority )\n",
    "\n",
    "# and only look at coding by those users.  And...\n",
    "\n",
    "# configure so that it limits to automated coder_type of OpenCalais_REST_API_v2.\n",
    "coder_type = \"OpenCalais_REST_API_v2\"\n",
    "#my_reliability_instance.limit_to_automated_coder_type = \"OpenCalais_REST_API_v2\"\n",
    "my_reliability_instance.automated_coder_type_include_list.append( coder_type )\n",
    "\n",
    "# output debug JSON to file\n",
    "#my_reliability_instance.debug_output_json_file_path = \"/home/jonathanmorgan/\" + label + \".json\"\n",
    "\n",
    "#===============================================================================\n",
    "# process\n",
    "#===============================================================================\n",
    "\n",
    "# process articles\n",
    "my_reliability_instance.process_articles( tag_in_list,\n",
    "                                          article_id_in_list_IN = article_id_in_list )\n",
    "\n",
    "# output to database.\n",
    "my_reliability_instance.output_reliability_data( label )\n"
   ]
  },
  {
   "cell_type": "markdown",
   "metadata": {},
   "source": [
    "# Notes\n",
    "\n",
    "- Back to [Table of Contents](#Table-of-Contents)"
   ]
  },
  {
   "cell_type": "markdown",
   "metadata": {},
   "source": [
    "## Notes and questions\n",
    "\n",
    "- Back to [Table of Contents](#Table-of-Contents)\n",
    "\n",
    "Notes and questions:\n",
    "\n",
    "- TK"
   ]
  },
  {
   "cell_type": "markdown",
   "metadata": {},
   "source": [
    "## Errors\n",
    "\n",
    "- Back to [Table of Contents](#Table-of-Contents)\n",
    "\n",
    "Errors:\n",
    "\n",
    "- TK"
   ]
  },
  {
   "cell_type": "markdown",
   "metadata": {},
   "source": [
    "# TODO\n",
    "\n",
    "- Back to [Table of Contents](#Table-of-Contents)\n",
    "\n",
    "TODO:\n",
    "\n",
    "- Want a way to limit to disagreements where quoted?  Might not - this is a start to assessing erroneous agreement.  If yes, 1 < coding time < 4 hours.\n",
    "\n",
    "    - problem - `Reliability_Names.person_type` only has three values - \"author\", \"subject\", \"source\" - might need a row-level measure of \"`has_mention`\", \"`has_quote`\" to more readily capture rows where disagreement is over quoted-or-not."
   ]
  },
  {
   "cell_type": "markdown",
   "metadata": {},
   "source": [
    "## Coding to look into\n",
    "\n",
    "- Back to [Table of Contents](#Table-of-Contents)\n",
    "\n",
    "Coding decisions to look at more closely:\n",
    "\n",
    "- TK"
   ]
  },
  {
   "cell_type": "markdown",
   "metadata": {},
   "source": [
    "## Debugging\n",
    "\n",
    "- Back to [Table of Contents](#Table-of-Contents)\n",
    "\n",
    "Issues to debug:\n",
    "\n",
    "- TK"
   ]
  },
  {
   "cell_type": "markdown",
   "metadata": {},
   "source": [
    "# DONE\n",
    "\n",
    "- Back to [Table of Contents](#Table-of-Contents)"
   ]
  },
  {
   "cell_type": "markdown",
   "metadata": {},
   "source": [
    "# NEXT\n",
    "\n",
    "- Back to [Table of Contents](#Table-of-Contents)"
   ]
  }
 ],
 "metadata": {
  "kernelspec": {
   "display_name": "sourcenet (Python 3)",
   "language": "python",
   "name": "sourcenet"
  },
  "language_info": {
   "codemirror_mode": {
    "name": "ipython",
    "version": 3
   },
   "file_extension": ".py",
   "mimetype": "text/x-python",
   "name": "python",
   "nbconvert_exporter": "python",
   "pygments_lexer": "ipython3",
   "version": "3.5.2"
  }
 },
 "nbformat": 4,
 "nbformat_minor": 1
}
