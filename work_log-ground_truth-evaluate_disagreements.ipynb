{
 "cells": [
  {
   "cell_type": "markdown",
   "metadata": {},
   "source": [
    "# work log - ground truth - evaluate disagreements\n",
    "\n",
    "# Table of Contents\n",
    "\n",
    "- [Setup](#Setup)\n",
    "\n",
    "    - [Setup - Imports](#Setup---Imports)\n",
    "    - [Setup - Initialize Django](#Setup---Initialize-Django)\n",
    "    - [Setup - Tools](#Setup---Tools)\n",
    "\n",
    "        - [Tool - copy `Article_Data` to user `ground_truth`](#Tool---copy-Article_Data-to-user-ground_truth)\n",
    "        - [Tool - delete `Article_Data`](#Tool---delete-Article_Data)\n",
    "        - [Tool - rebuild `Reliability_Names` for an article](#Tool---rebuild-Reliability_Names-for-an-article)\n",
    "\n",
    "            - [Delete existing `Reliability_Names` for article](#Delete-existing-Reliability_Names-for-article)\n",
    "            - [Make new `Reliability_Names`](#Make-new-Reliability_Names)\n",
    "\n",
    "- [Evaluate disagreements](#Evaluate-disagreements)\n",
    "\n",
    "    - [Tag disagreements as TODO](#Tag-disagreements-as-TODO)\n",
    "    - [View disagreements](#View-disagreements)\n",
    "    \n",
    "        - [Disagreement evaluation](#Disagreement-evaluation)\n",
    "        - [Disagreement resolution](#Disagreement-resolution)\n",
    "        - [Resolution logs](#Resolution-logs)\n",
    "        \n",
    "            - [Evaluation log](#Evaluation-log)\n",
    "            - [Ground-truth coding fixed](#Ground-truth-coding-fixed)\n",
    "            - [`Reliability_Names` records merged](#Reliability_Names-records-merged)\n",
    "            - [Deleted `Reliability_Names` records](#Deleted-Reliability_Names-records)\n",
    "\n",
    "- [Notes](#Notes)\n",
    "\n",
    "    - [Notes and questions](#Notes-and-questions)\n",
    "    - [Errors](#Errors)\n",
    "\n",
    "- [TODO](#TODO)\n",
    "\n",
    "    - [Coding to look into](#Coding-to-look-into)\n",
    "    - [Debugging](#Debugging)\n",
    "\n",
    "- [DONE](#DONE)\n",
    "\n",
    "    - [quotes that contain paragraph break](#quotes-that-contain-paragraph-break)\n",
    "\n",
    "- [NEXT](#DONE)"
   ]
  },
  {
   "cell_type": "markdown",
   "metadata": {},
   "source": [
    "# Setup\n",
    "\n",
    "- Back to [Table of Contents](#Table-of-Contents)"
   ]
  },
  {
   "cell_type": "markdown",
   "metadata": {},
   "source": [
    "## Setup - Imports\n",
    "\n",
    "- Back to [Table of Contents](#Table-of-Contents)"
   ]
  },
  {
   "cell_type": "code",
   "execution_count": 1,
   "metadata": {},
   "outputs": [
    {
     "name": "stdout",
     "output_type": "stream",
     "text": [
      "packages imported at 2017-06-26 23:15:09.566103\n"
     ]
    }
   ],
   "source": [
    "import datetime\n",
    "import json\n",
    "import six\n",
    "\n",
    "print( \"packages imported at \" + str( datetime.datetime.now() ) )"
   ]
  },
  {
   "cell_type": "code",
   "execution_count": 2,
   "metadata": {},
   "outputs": [
    {
     "data": {
      "text/plain": [
       "'/home/jonathanmorgan/work/sourcenet/django/research/work/msu_phd_work'"
      ]
     },
     "execution_count": 2,
     "metadata": {},
     "output_type": "execute_result"
    }
   ],
   "source": [
    "%pwd"
   ]
  },
  {
   "cell_type": "markdown",
   "metadata": {},
   "source": [
    "## Setup - Initialize Django\n",
    "\n",
    "- Back to [Table of Contents](#Table-of-Contents)\n",
    "\n",
    "First, initialize my dev django project, so I can run code in this notebook that references my django models and can talk to the database using my project's settings.\n",
    "\n",
    "You need to have installed your virtualenv with django as a kernel, then select that kernel for this notebook."
   ]
  },
  {
   "cell_type": "code",
   "execution_count": 3,
   "metadata": {},
   "outputs": [
    {
     "name": "stdout",
     "output_type": "stream",
     "text": [
      "django initialized at 2017-06-27 03:15:14.280982\n"
     ]
    }
   ],
   "source": [
    "%run django_init.py"
   ]
  },
  {
   "cell_type": "markdown",
   "metadata": {},
   "source": [
    "Import any `sourcenet` or `sourcenet_analysis` models or classes."
   ]
  },
  {
   "cell_type": "code",
   "execution_count": 5,
   "metadata": {},
   "outputs": [
    {
     "name": "stdout",
     "output_type": "stream",
     "text": [
      "sourcenet and sourcenet_analysis packages imported at 2017-06-27 03:31:10.313403\n"
     ]
    }
   ],
   "source": [
    "# django imports\n",
    "from django.contrib.auth.models import User\n",
    "\n",
    "# sourcenet shared\n",
    "from sourcenet.shared.person_details import PersonDetails\n",
    "\n",
    "# sourcenet models.\n",
    "from sourcenet.models import Article\n",
    "from sourcenet.models import Article_Data\n",
    "from sourcenet.models import Article_Subject\n",
    "from sourcenet.models import Person\n",
    "from sourcenet.shared.sourcenet_base import SourcenetBase\n",
    "from sourcenet.tests.models.test_Article_Data_model import Article_Data_Copy_Tester\n",
    "\n",
    "# sourcenet article_coding\n",
    "from sourcenet.article_coding.article_coding import ArticleCoder\n",
    "from sourcenet.article_coding.manual_coding.manual_article_coder import ManualArticleCoder\n",
    "\n",
    "# sourcenet_analysis models.\n",
    "from sourcenet_analysis.models import Reliability_Names\n",
    "from sourcenet_analysis.reliability.reliability_names_builder import ReliabilityNamesBuilder\n",
    "\n",
    "print( \"sourcenet and sourcenet_analysis packages imported at \" + str( datetime.datetime.now() ) )"
   ]
  },
  {
   "cell_type": "markdown",
   "metadata": {},
   "source": [
    "## Setup - Tools\n",
    "\n",
    "- Back to [Table of Contents](#Table-of-Contents)"
   ]
  },
  {
   "cell_type": "markdown",
   "metadata": {},
   "source": [
    "### Tool - copy Article_Data to user ground_truth\n",
    "\n",
    "- Back to [Table of Contents](#Table-of-Contents)\n",
    "\n",
    "Retrieve the ground truth user, then make a deep copy of an Article_Data record, assigning it to the ground truth user."
   ]
  },
  {
   "cell_type": "code",
   "execution_count": 6,
   "metadata": {},
   "outputs": [
    {
     "name": "stdout",
     "output_type": "stream",
     "text": [
      "function copy_to_ground_truth_user() defined at 2017-06-27 04:44:31.077522\n"
     ]
    }
   ],
   "source": [
    "def copy_to_ground_truth_user( source_article_data_id_IN ):\n",
    "\n",
    "    '''\n",
    "    Accepts ID of Article_Data instance to copy to ground_truth user,\n",
    "        for correcting coding error made by human coder.  Performs a deep\n",
    "        copy of Article_Data instance, then assignes it to the ground_truth\n",
    "        user.  Prints any validation errors, returns the new Article_Data.\n",
    "    '''\n",
    "    \n",
    "    # return reference\n",
    "    new_article_data_instance_OUT = -1\n",
    "    \n",
    "    # declare variables\n",
    "    ground_truth_user = None\n",
    "    ground_truth_user_id = -1\n",
    "    id_of_article_data_to_copy = -1\n",
    "    new_article_data = None\n",
    "    new_article_data_id = -1\n",
    "    validation_error_list = None\n",
    "    validation_error_count = -1\n",
    "    validation_error = None\n",
    "\n",
    "    # set ID of article data we want to copy.\n",
    "    id_of_article_data_to_copy = source_article_data_id_IN\n",
    "\n",
    "    # get the ground_truth user's ID.\n",
    "    ground_truth_user = SourcenetBase.get_ground_truth_coding_user()\n",
    "    ground_truth_user_id = ground_truth_user.id\n",
    "\n",
    "    # make the copy\n",
    "    new_article_data = Article_Data.make_deep_copy( id_of_article_data_to_copy,\n",
    "                                                    new_coder_user_id_IN = ground_truth_user_id )\n",
    "    new_article_data_id = new_article_data.id\n",
    "\n",
    "    # validate it.\n",
    "    validation_error_list = Article_Data_Copy_Tester.validate_article_data_deep_copy( original_article_data_id_IN = id_of_article_data_to_copy,\n",
    "                                                                                      copy_article_data_id_IN = new_article_data_id,\n",
    "                                                                                      copy_coder_user_id_IN = ground_truth_user_id )\n",
    "\n",
    "    # get error count:\n",
    "    validation_error_count = len( validation_error_list )\n",
    "    if ( validation_error_count > 0 ):\n",
    "\n",
    "        # loop and output messages\n",
    "        for validation_error in validation_error_list:\n",
    "\n",
    "            print( \"- Validation erorr: \" + str( validation_error ) )\n",
    "\n",
    "        #-- END loop over validation errors. --#\n",
    "\n",
    "    else:\n",
    "\n",
    "        # no errors - success!\n",
    "        print( \"Record copy a success (as far as we know)!\" )\n",
    "\n",
    "    #-- END check to see if validation errors --#\n",
    "\n",
    "    print( \"copied Article_Data id \" + str( id_of_article_data_to_copy ) + \" INTO Article_Data id \" + str( new_article_data_id ) + \" at \" + str( datetime.datetime.now() ) )\n",
    "    \n",
    "    new_article_data_instance_OUT = new_article_data\n",
    "    \n",
    "    return new_article_data_instance_OUT\n",
    "\n",
    "#-- END function copy_to_ground_truth_user() --#\n",
    "\n",
    "print( \"function copy_to_ground_truth_user() defined at \" + str( datetime.datetime.now() ) )"
   ]
  },
  {
   "cell_type": "code",
   "execution_count": null,
   "metadata": {
    "collapsed": true
   },
   "outputs": [],
   "source": [
    "# Example: set ID of article data we want to copy.\n",
    "#copy_to_ground_truth_user( 2342 )"
   ]
  },
  {
   "cell_type": "markdown",
   "metadata": {},
   "source": [
    "### Tool - delete Article_Data\n",
    "\n",
    "- Back to [Table of Contents](#Table-of-Contents)\n",
    "\n",
    "Delete the Article_Data whose ID you specify (intended only when you accidentally create a \"`ground_truth`\")."
   ]
  },
  {
   "cell_type": "code",
   "execution_count": 7,
   "metadata": {},
   "outputs": [
    {
     "name": "stdout",
     "output_type": "stream",
     "text": [
      "function delete_article_data() defined at 2017-06-27 04:44:49.740607\n"
     ]
    }
   ],
   "source": [
    "def delete_article_data( article_data_id_IN ):\n",
    "\n",
    "    # declare variables\n",
    "    article_data_id = -1\n",
    "    article_data = None\n",
    "    do_delete = False\n",
    "\n",
    "    # set ID.\n",
    "    article_data_id = article_data_id_IN\n",
    "\n",
    "    # get model instance\n",
    "    article_data = Article_Data.objects.get( id = article_data_id )\n",
    "\n",
    "    # got something?\n",
    "    if ( article_data is not None ):\n",
    "\n",
    "        # yes.  Delete?\n",
    "        if ( do_delete == True ):\n",
    "\n",
    "            # delete.\n",
    "            print( \"Deleting Article_Data: \" + str( article_data ) )\n",
    "            article_data.delete()\n",
    "\n",
    "        else:\n",
    "\n",
    "            # no delete.\n",
    "            print( \"Found Article_Data: \" + str( article_data ) + \", but not deleting.\" )\n",
    "\n",
    "        #-- END check to see if we delete --#\n",
    "\n",
    "    #-- END check to see if Article_Data match. --#\n",
    "    \n",
    "#-- END function delete_article_data() --#\n",
    "\n",
    "print( \"function delete_article_data() defined at \" + str( datetime.datetime.now() ) )"
   ]
  },
  {
   "cell_type": "markdown",
   "metadata": {},
   "source": [
    "### Tool - rebuild Reliability_Names for an article\n",
    "\n",
    "- Back to [Table of Contents](#Table-of-Contents)\n",
    "\n",
    "Steps:\n",
    "\n",
    "- retrieve the Reliability_Names row(s) for article with a paritcular ID, and filter on label if one provided.\n",
    "- delete the selected Reliability_Names row(s).\n",
    "- set up a call to the Reliability_Names program that just generates data for:\n",
    "\n",
    "    - the article in question\n",
    "    - users in a desired order.\n",
    "    - etc."
   ]
  },
  {
   "cell_type": "markdown",
   "metadata": {},
   "source": [
    "#### Delete existing Reliability_Names for article\n",
    "\n",
    "- Back to [Table of Contents](#Table-of-Contents)"
   ]
  },
  {
   "cell_type": "code",
   "execution_count": 8,
   "metadata": {},
   "outputs": [
    {
     "name": "stdout",
     "output_type": "stream",
     "text": [
      "function delete_reliability_names_for_article() defined at 2017-06-27 04:44:53.506888\n"
     ]
    }
   ],
   "source": [
    "def delete_reliability_names_for_article( article_id_IN ):\n",
    "\n",
    "    # declare variables\n",
    "    article_id = -1\n",
    "    label = \"\"\n",
    "    do_delete = False\n",
    "    row_string_list = None\n",
    "\n",
    "    # first, get existing Reliability_Names rows for article and label.\n",
    "    article_id = article_id_IN\n",
    "    label = \"prelim_month\"\n",
    "    do_delete = True\n",
    "\n",
    "    # Do the delete\n",
    "    row_string_list = Reliability_Names.delete_reliabilty_names_for_article( article_id,\n",
    "                                                                             label_IN = label,\n",
    "                                                                             do_delete_IN = do_delete )\n",
    "\n",
    "    # print the strings.\n",
    "    for row_string in row_string_list:\n",
    "\n",
    "        # print it.\n",
    "        print( row_string )\n",
    "\n",
    "    #-- END loop over row strings --#\n",
    "\n",
    "#-- END function delete_reliability_names_for_article() --#\n",
    "\n",
    "print( \"function delete_reliability_names_for_article() defined at \" + str( datetime.datetime.now() ) )"
   ]
  },
  {
   "cell_type": "markdown",
   "metadata": {},
   "source": [
    "#### Make new Reliability_Names\n",
    "\n",
    "- Back to [Table of Contents](#Table-of-Contents)"
   ]
  },
  {
   "cell_type": "code",
   "execution_count": 9,
   "metadata": {},
   "outputs": [
    {
     "name": "stdout",
     "output_type": "stream",
     "text": [
      "function rebuild_reliability_names_for_article() defined at 2017-06-27 04:44:55.412160\n"
     ]
    }
   ],
   "source": [
    "def rebuild_reliability_names_for_article( article_id_IN, delete_existing_first_IN = True ):\n",
    "    \n",
    "    '''\n",
    "    Remove existing Reliability_Names records for article, then rebuild them\n",
    "        from related Article_Data that matches any specified criteria.\n",
    "        \n",
    "    Detailed logic:\n",
    "    - remove old Reliability_Names for that article ( [Delete existing `Reliability_Names` for article](#Delete-existing-Reliability_Names-for-article) ).  Make sure to specify both label and Article ID, so you don't delete more than you intend.\n",
    "    - re-run Reliability_Names creation for the article ( [Make new `Reliability_Names`](#Make-new-Reliability_Names) ).  Specify:\n",
    "\n",
    "        - Article ID list (just put the ID of the article you want to reprocess in the list).\n",
    "        - label: make sure this is the same as the label of the rest of your Reliability_Names records (\"prelim_month\").\n",
    "        - Tag list: If you want to make even more certain that you don't do something unexpected, also specify the article tags that make up your current data set, so if you accidentally specify the ID of an article not in your data set, it won't process.  Current tag is \"grp_month\".\n",
    "        - Coders to assign to which index in the Reliability_Names record, and in what priority.  You can assign multiple coders to a given index, for example, when multiple coders coded subsets of a data set, and you want their combined coding to be used as \"coder 1\" or \"coder 2\", for example.  See the cell for an example.\n",
    "        - Automated coder type: You can specify the particular automated coding type you want for automated coder, to filter out coding done by other automated methods.  See the cell for an example for \"OpenCalais v2\".\n",
    "    '''\n",
    "    \n",
    "    # django imports\n",
    "    #from django.contrib.auth.models import User\n",
    "\n",
    "    # sourcenet imports\n",
    "    #from sourcenet.shared.sourcenet_base import SourcenetBase\n",
    "\n",
    "    # sourcenet_analysis imports\n",
    "    #from sourcenet_analysis.reliability.reliability_names_builder import ReliabilityNamesBuilder\n",
    "\n",
    "    # declare variables\n",
    "    my_reliability_instance = None\n",
    "    tag_in_list = []\n",
    "    article_id_in_list = []\n",
    "    label = \"\"\n",
    "\n",
    "    # declare variables - user setup\n",
    "    current_coder = None\n",
    "    current_coder_id = -1\n",
    "    current_index = -1\n",
    "\n",
    "    # declare variables - Article_Data filtering.\n",
    "    coder_type = \"\"\n",
    "\n",
    "    # delete old Reliability_Names?\n",
    "    if ( delete_existing_first_IN == True ):\n",
    "        \n",
    "        # delete first\n",
    "        delete_reliability_names_for_article( article_id_IN )\n",
    "        \n",
    "    #-- END check to see if we delete first --#\n",
    "    \n",
    "    # make reliability instance\n",
    "    my_reliability_instance = ReliabilityNamesBuilder()\n",
    "\n",
    "    #===============================================================================\n",
    "    # configure\n",
    "    #===============================================================================\n",
    "\n",
    "    # list of tags of articles we want to process.\n",
    "    tag_in_list = [ \"grp_month\", ]\n",
    "\n",
    "    # list of IDs of articles we want to process:\n",
    "    article_id_in_list = [ article_id_IN, ]\n",
    "\n",
    "    # label to associate with results, for subsequent lookup.\n",
    "    label = \"prelim_month\"\n",
    "\n",
    "    # ! ====> map coders to indices\n",
    "\n",
    "    # set it up so that...\n",
    "\n",
    "    # ...the ground truth user has highest priority (4) for index 1...\n",
    "    current_coder = SourcenetBase.get_ground_truth_coding_user()\n",
    "    current_coder_id = current_coder.id\n",
    "    current_index = 1\n",
    "    current_priority = 4\n",
    "    my_reliability_instance.add_coder_at_index( current_coder_id, current_index, priority_IN = current_priority )\n",
    "\n",
    "    # ...coder ID 8 is priority 3 for index 1...\n",
    "    current_coder_id = 8\n",
    "    current_index = 1\n",
    "    current_priority = 3\n",
    "    my_reliability_instance.add_coder_at_index( current_coder_id, current_index, priority_IN = current_priority )\n",
    "\n",
    "    # ...coder ID 9 is priority 2 for index 1...\n",
    "    current_coder_id = 9\n",
    "    current_index = 1\n",
    "    current_priority = 2\n",
    "    my_reliability_instance.add_coder_at_index( current_coder_id, current_index, priority_IN = current_priority )\n",
    "\n",
    "    # ...coder ID 10 is priority 1 for index 1...\n",
    "    current_coder_id = 10\n",
    "    current_index = 1\n",
    "    current_priority = 1\n",
    "    my_reliability_instance.add_coder_at_index( current_coder_id, current_index, priority_IN = current_priority )\n",
    "\n",
    "    # ...and automated coder (2) is index 2\n",
    "    current_coder = SourcenetBase.get_automated_coding_user()\n",
    "    current_coder_id = current_coder.id\n",
    "    current_index = 2\n",
    "    current_priority = 1\n",
    "    my_reliability_instance.add_coder_at_index( current_coder_id, current_index, priority_IN = current_priority )\n",
    "\n",
    "    # and only look at coding by those users.  And...\n",
    "\n",
    "    # configure so that it limits to automated coder_type of OpenCalais_REST_API_v2.\n",
    "    coder_type = \"OpenCalais_REST_API_v2\"\n",
    "    #my_reliability_instance.limit_to_automated_coder_type = \"OpenCalais_REST_API_v2\"\n",
    "    my_reliability_instance.automated_coder_type_include_list.append( coder_type )\n",
    "\n",
    "    # output debug JSON to file\n",
    "    #my_reliability_instance.debug_output_json_file_path = \"/home/jonathanmorgan/\" + label + \".json\"\n",
    "\n",
    "    #===============================================================================\n",
    "    # process\n",
    "    #===============================================================================\n",
    "\n",
    "    # process articles\n",
    "    my_reliability_instance.process_articles( tag_in_list,\n",
    "                                              article_id_in_list_IN = article_id_in_list )\n",
    "\n",
    "    # output to database.\n",
    "    my_reliability_instance.output_reliability_data( label )\n",
    "\n",
    "#-- END function rebuild_reliability_names_for_article() --#\n",
    "\n",
    "print( \"function rebuild_reliability_names_for_article() defined at \" + str( datetime.datetime.now() ) )"
   ]
  },
  {
   "cell_type": "markdown",
   "metadata": {},
   "source": [
    "# Evaluate disagreements\n",
    "\n",
    "- Back to [Table of Contents](#Table-of-Contents)\n",
    "\n",
    "Need to go through each disagreement and make sure that the ground truth is correct.  In the interest of accuracy/precision/recall, my human coding serves as ground truth to compare computer against.  So, will look at all the disagreements and make sure that the human coding is right.  This isn't perfect.  The error where both incorrectly agree is still unaddressed, and would effectively require me to re-code all the articles (which I could do...).  But, better than not checking."
   ]
  },
  {
   "cell_type": "markdown",
   "metadata": {},
   "source": [
    "## Tag disagreements as TODO\n",
    "\n",
    "- Back to [Table of Contents](#Table-of-Contents)\n",
    "\n",
    "First, assign \"TODO\" tag to all disagreements using the \"View reliability name information\" screen:\n",
    "\n",
    "- [http://research.local/sourcenet/sourcenet/analysis/reliability/names/disagreement/view](http://research.local/sourcenet/sourcenet/analysis/reliability/names/disagreement/view).\n",
    "\n",
    "To do this:\n",
    "\n",
    "- First, enter the following in the fields there:\n",
    "\n",
    "    - **Label:** \"prelim_month\"\n",
    "    - **Coders to compare (1 through ==>):** 2\n",
    "    - **Reliability names filter type:** Select \"Disagree (only rows with disagreement between coders)\"\n",
    "    \n",
    "- Click the \"**Submit Query**\" button.  This should load all the disagreement rows (424 after removing single-word names).\n",
    "- Click the \"**(all)**\" link in the \"**select**\" column header to check the checkbox next to all of the records.\n",
    "- In the \"**Reliability names action:**\" field, select \"Add tag(s) to selected\".\n",
    "- In the \"**Tag(s) - (comma-delimited):**\" field, enter \"`TODO`\" (without the quotes).\n",
    "- Click the \"**Do Action**\" button."
   ]
  },
  {
   "cell_type": "markdown",
   "metadata": {
    "collapsed": true
   },
   "source": [
    "## View disagreements\n",
    "\n",
    "- Back to [Table of Contents](#Table-of-Contents)\n",
    "\n",
    "Evaluate disagreements using the \"View reliability name information\" screen:\n",
    "\n",
    "- [http://research.local/sourcenet/sourcenet/analysis/reliability/names/disagreement/view](http://research.local/sourcenet/sourcenet/analysis/reliability/names/disagreement/view)\n",
    "\n",
    "To start, enter the following in fields there:\n",
    "\n",
    "- **Label:** \"prelim_month\"\n",
    "- **Coders to compare (1 through ==>):** 2\n",
    "- **Reliability names filter type:** Select \"Lookup\"\n",
    "- **[Lookup] - Reliability_Names tags (comma-delimited):** Enter \"`TODO`\" (without the quotes).\n",
    "\n",
    "Then click the \"**Submit Query**\" button.\n",
    "\n",
    "You should see all the records with disagreements that still need to be evaluated (we remove \"TODO\" from records as we go to keep track of which we have evaluated).  To start, the same 424 that had disagreements after removing single names should be assigned \"TODO\" tag."
   ]
  },
  {
   "cell_type": "markdown",
   "metadata": {},
   "source": [
    "### Disagreement evaluation\n",
    "\n",
    "- Back to [Table of Contents](#Table-of-Contents)\n",
    "\n",
    "Need to look at each instance where there is a disagreement and make sure the human coding is correct.\n",
    "\n",
    "Most are probably instances where the computer screwed up, but since we are calling this human coding \"ground truth\", want to winnow out as much human error as possible.\n",
    "\n",
    "For each disagreement, to check for coder error (like just capturing a name part for a person whose full name was in the story), click the \"Article ID\" in the column that has a link to article ID. It will take you to a view of the article where all the people who coded the article are included, with each detection of a mention or quotation displayed next to the paragraph where the person was originally first detected.\n",
    "\n",
    "If the disagreement deals with mentions only, and if the person shouldn't instead have been quoted, it is OK to skip fixing it if the human coder was in error since those are not included in this work.  It is also OK to fix if you want."
   ]
  },
  {
   "cell_type": "markdown",
   "metadata": {},
   "source": [
    "### Disagreement resolution\n",
    "\n",
    "For each disagreement, click on the article ID link in the row to go to the article and check to see if the human coding for the disagreement in question is correct ( [http://research.local/sourcenet/sourcenet/article/article_data/view_with_text/](http://research.local/sourcenet/sourcenet/article/article_data/view_with_text/) ).\n",
    "\n",
    "#### Human coder error\n",
    "\n",
    "If human coder did not detect person or made some other kind of error:\n",
    "\n",
    "- Setup (set variable values, then run the cell):"
   ]
  },
  {
   "cell_type": "code",
   "execution_count": 10,
   "metadata": {
    "collapsed": true
   },
   "outputs": [],
   "source": [
    "# Setup variables of interest.\n",
    "resolve_article_id = 21120\n",
    "human_article_data_id = 2348"
   ]
  },
  {
   "cell_type": "markdown",
   "metadata": {},
   "source": [
    "- use the function \"`copy_to_ground_truth_user()`\" defined in section [Tool - copy Article_Data to user ground_truth](#Tool---copy-Article_Data-to-user-ground_truth) to create a copy of the person's `Article_Data` and assign it to coder \"`ground_truth`\".  Make a code cell and set up a call to \"`copy_to_ground_truth_user()`\", passing it the ID of the `Article_Data` you want to copy to `ground_truth`.  Example:\n",
    "    \n",
    "        # copy Article_Data 12345 to ground_truth user.\n",
    "        copy_to_ground_truth_user( 12345 )"
   ]
  },
  {
   "cell_type": "code",
   "execution_count": 11,
   "metadata": {
    "scrolled": true
   },
   "outputs": [
    {
     "name": "stdout",
     "output_type": "stream",
     "text": [
      "Original Article_Data ID = 2348; Copy Article_Data ID = 3332\n",
      "\n",
      "\n",
      "Article_Data_Notes ( count = 1 ):\n",
      "- 2101 - Person Store JSON (likely from manual coding via article-code view). of type \"json\" for article_data: 2348 - minnesota1 - no coder_type -- Article: 21120 - Dec 05, 2009, Religion ( C3 ), UID: 12C757A1EDED04E0 - Founders aim to make retreat center a place to meet with God - Wingshadow sits on 60 acres on the Flat River near Greenville ( Grand Rapids Press, The )\n",
      "\n",
      "Article_Author ( count = 1 ):\n",
      "\n",
      "- 2423 (AA) - Ogg, Aaron ( id = 425; type = staff; capture_method = OpenCalais_REST_API_v2 )\n",
      "\n",
      "----> Alternate_Author_Match ( count = 0 ):\n",
      "\n",
      "Article_Subject ( count = 4 ):\n",
      "\n",
      "- 8144 (AS) - Lewis, John ( id = 1761; capture_method = OpenCalais_REST_API_v2 ) (quoted; individual)\n",
      "\n",
      "----> Alternate_Subject_Match ( count = 0 ):\n",
      "\n",
      "----> Article_Subject_Mention ( count = 1 ):\n",
      "----> - 21667 -  ( graf: 3; from word: 54; to word: 55; index: 342 ) - 8144 (AS) - Lewis, John ( id = 1761; capture_method = OpenCalais_REST_API_v2 ) (quoted; individual) : John Lewis\n",
      "\n",
      "----> Article_Subject_Quotation ( count = 1 ):\n",
      "----> - 8697 -  ( graf: 4; from word: 66; to word: 90; index: 404 ) - 8144 (AS) - Lewis, John ( id = 1761; capture_method = OpenCalais_REST_API_v2 ) (quoted; individual) : \"This place is a bundle of twigs if (God) doesn't do what he wants to do,\" said Lewis, head of the nonprofit organization Wingshadow Ministries.\n",
      "\n",
      "----> Subject_Organization ( count = 0 ):\n",
      "\n",
      "- 8145 (AS) - Lewis, Stephen ( id = 1762; capture_method = OpenCalais_REST_API_v2 ) (quoted; individual)\n",
      "\n",
      "----> Alternate_Subject_Match ( count = 0 ):\n",
      "\n",
      "----> Article_Subject_Mention ( count = 1 ):\n",
      "----> - 21668 -  ( graf: 13; from word: 246; to word: 247; index: 1516 ) - 8145 (AS) - Lewis, Stephen ( id = 1762; capture_method = OpenCalais_REST_API_v2 ) (quoted; individual) : Stephen Lewis\n",
      "\n",
      "----> Article_Subject_Quotation ( count = 1 ):\n",
      "----> - 8698 -  ( graf: 15; from word: 292; to word: 330; index: 1823 ) - 8145 (AS) - Lewis, Stephen ( id = 1762; capture_method = OpenCalais_REST_API_v2 ) (quoted; individual) : \"I just think it's refreshing to see the desire people leave with to continue what has been started here,\" said Stephen Lewis, who graduated with a master's of divinity degree from Southeastern Baptist Theological Seminary in Wake Forest, N.C\n",
      "\n",
      "----> Subject_Organization ( count = 0 ):\n",
      "\n",
      "- 8146 (AS) - Willard, Dallas ( id = 1763; capture_method = None ) (mentioned; individual)\n",
      "\n",
      "----> Alternate_Subject_Match ( count = 0 ):\n",
      "\n",
      "----> Article_Subject_Mention ( count = 1 ):\n",
      "----> - 21669 -  ( graf: 16; from word: 374; to word: 375; index: 2296 ) - 8146 (AS) - Willard, Dallas ( id = 1763; capture_method = None ) (mentioned; individual) : Dallas Willard\n",
      "\n",
      "----> Article_Subject_Quotation ( count = 0 ):\n",
      "\n",
      "----> Subject_Organization ( count = 0 ):\n",
      "\n",
      "- 8147 (AS) - Tozer, A.W. ( id = 1764; capture_method = OpenCalais_REST_API_v2 ) (mentioned; individual)\n",
      "\n",
      "----> Alternate_Subject_Match ( count = 0 ):\n",
      "\n",
      "----> Article_Subject_Mention ( count = 1 ):\n",
      "----> - 21670 -  ( graf: 16; from word: 378; to word: 379; index: 2329 ) - 8147 (AS) - Tozer, A.W. ( id = 1764; capture_method = OpenCalais_REST_API_v2 ) (mentioned; individual) : A.W. Tozer\n",
      "\n",
      "----> Article_Subject_Quotation ( count = 0 ):\n",
      "\n",
      "----> Subject_Organization ( count = 0 ):\n",
      "\n",
      "\n",
      "====================\n",
      "Results:\n",
      "====================\n",
      "\n",
      "\n",
      "NO ERRORS!\n",
      "Record copy a success (as far as we know)!\n",
      "copied Article_Data id 2348 INTO Article_Data id 3332 at 2017-06-27 04:48:57.015575\n"
     ]
    },
    {
     "data": {
      "text/plain": [
       "<Article_Data: 3332 - ground_truth - no coder_type -- Article: 21120 - Dec 05, 2009, Religion ( C3 ), UID: 12C757A1EDED04E0 - Founders aim to make retreat center a place to meet with God - Wingshadow sits on 60 acres on the Flat River near Greenville ( Grand Rapids Press, The )>"
      ]
     },
     "execution_count": 11,
     "metadata": {},
     "output_type": "execute_result"
    }
   ],
   "source": [
    "# copy Article_Data to ground_truth user.\n",
    "copy_to_ground_truth_user( human_article_data_id )"
   ]
  },
  {
   "cell_type": "markdown",
   "metadata": {},
   "source": [
    "- fix the coding in `ground_truth`'s coding record:\n",
    "\n",
    "    - If you want to stay logged in as your normal user while processing an error, do the following in a separate browser (I like Opera).\n",
    "    - if this is the first time you've used the \"`ground_truth`\" user, log into the django admin ( [http://research.local/sourcenet/admin/](http://research.local/sourcenet/admin/) ) and:\n",
    "\n",
    "        - set or reset the \"`ground_truth`\" user's password.\n",
    "        - give it \"staff status\".\n",
    "\n",
    "    - log in to the coding tool ( [http://research.local/sourcenet/sourcenet/article/code/](http://research.local/sourcenet/sourcenet/article/code/) ) as the \"`ground_truth`\" user and fix the coding for the article in question, then save.\n",
    "\n",
    "- In the Reliability_Names disagreement view ( [http://research.local/sourcenet/sourcenet/analysis/reliability/names/disagreement/view](http://research.local/sourcenet/sourcenet/analysis/reliability/names/disagreement/view) ), remove the \"`TODO`\" tag from any items related to this disagreement and save.  Place this information in the [Evaluation log](#Evaluation-log) and the [Ground truth coding fixed](#Ground-truth-coding-fixed) log.\n",
    "\n",
    "    - Click the checkbox in the \"**select**\" column next to the record whose evaluation is complete.\n",
    "    - In the \"**Reliability names action:**\" field, select \"_Remove tag(s) from selected_\".\n",
    "    - In the \"**Tag(s) - (comma-delimited):**\" field, enter \"_`TODO`_\" (without the quotes).\n",
    "    - Click the \"**Do Action**\" button.\n",
    "\n",
    "- rebuild Reliability_Names for just that article.\n",
    "\n",
    "    - make a code cell and call \"`rebuild_reliability_names_for_article()`\", passing it the ID of the article whose Reliability_Names records you want to rebuild.  It will automatically delete existing and then rebuild, using all the right parameters.  Example:\n",
    "\n",
    "            # rebuild Reliability_Names for article 12345\n",
    "            rebuild_reliability_names_for_article( 12345 )"
   ]
  },
  {
   "cell_type": "code",
   "execution_count": 12,
   "metadata": {
    "scrolled": true
   },
   "outputs": [
    {
     "name": "stdout",
     "output_type": "stream",
     "text": [
      "Found 7 records.\n",
      "- delete()-ing: 9698 - label: prelim_month - article ID: 21120 - Aaron Ogg ( 425 ) - coders: 12 ====> 1 - 8; 1; 425 ====> 2 - 2; 1; 425\n",
      "- delete()-ing: 9704 - label: prelim_month - article ID: 21120 - C. John Lewis ( 2820 ) - coders: 12 ====> 1 - 8; 0; 0 ====> 2 - 2; 1; 2820\n",
      "- delete()-ing: 9703 - label: prelim_month - article ID: 21120 - Dawn Lewis ( 2821 ) - coders: 12 ====> 1 - 8; 0; 0 ====> 2 - 2; 1; 2821\n",
      "- delete()-ing: 9699 - label: prelim_month - article ID: 21120 - John Lewis ( 1761 ) - coders: 12 ====> 1 - 8; 1; 1761 ====> 2 - 2; 1; 1761\n",
      "- delete()-ing: 9700 - label: prelim_month - article ID: 21120 - Stephen Lewis ( 1762 ) - coders: 12 ====> 1 - 8; 1; 1762 ====> 2 - 2; 1; 1762\n",
      "- delete()-ing: 9702 - label: prelim_month - article ID: 21120 - A.W. Tozer ( 1764 ) - coders: 12 ====> 1 - 8; 1; 1764 ====> 2 - 2; 1; 1764\n",
      "- delete()-ing: 9701 - label: prelim_month - article ID: 21120 - Dallas Willard ( 1763 ) - coders: 12 ====> 1 - 8; 1; 1763 ====> 2 - 2; 0; 0\n",
      "- Article ID: 21120; Article_Data count: 3\n",
      "---- - Article Data Info: 2348 - minnesota1 - no coder_type -- Article: 21120 - Dec 05, 2009, Religion ( C3 ), UID: 12C757A1EDED04E0 - Founders aim to make retreat center a place to meet with God - Wingshadow sits on 60 acres on the Flat River near Greenville ( Grand Rapids Press, The )\n",
      "---- - Article Data Info: 3050 - automated ( ADCT: OpenCalais_REST_API_v2 )  -- Article: 21120 - Dec 05, 2009, Religion ( C3 ), UID: 12C757A1EDED04E0 - Founders aim to make retreat center a place to meet with God - Wingshadow sits on 60 acres on the Flat River near Greenville ( Grand Rapids Press, The )\n",
      "---- - Article Data Info: 3332 - ground_truth - no coder_type -- Article: 21120 - Dec 05, 2009, Religion ( C3 ), UID: 12C757A1EDED04E0 - Founders aim to make retreat center a place to meet with God - Wingshadow sits on 60 acres on the Flat River near Greenville ( Grand Rapids Press, The )\n",
      "----> In output_reliability_name_row: len( index_used_list ) = 2; list = [1, 2]\n",
      "- author: 10694 - label: prelim_month - article ID: 21120 - Aaron Ogg ( 425 ) - coders: 12 ====> 1 - 13; 1; 425 ====> 2 - 2; 1; 425\n",
      "----> In output_reliability_name_row: len( index_used_list ) = 2; list = [1, 2]\n",
      "- source: 10695 - label: prelim_month - article ID: 21120 - John Lewis ( 1761 ) - coders: 12 ====> 1 - 13; 1; 1761 ====> 2 - 2; 1; 1761\n",
      "----> In output_reliability_name_row: len( index_used_list ) = 2; list = [1, 2]\n",
      "- source: 10696 - label: prelim_month - article ID: 21120 - Stephen Lewis ( 1762 ) - coders: 12 ====> 1 - 13; 1; 1762 ====> 2 - 2; 1; 1762\n",
      "----> In output_reliability_name_row: len( index_used_list ) = 1; list = [1]\n",
      "- source: 10697 - label: prelim_month - article ID: 21120 - Dallas Willard ( 1763 ) - coders: 12 ====> 1 - 13; 1; 1763 ====> 2 - 2; 0; 0\n",
      "----> In output_reliability_name_row: len( index_used_list ) = 2; list = [1, 2]\n",
      "- source: 10698 - label: prelim_month - article ID: 21120 - A.W. Tozer ( 1764 ) - coders: 12 ====> 1 - 13; 1; 1764 ====> 2 - 2; 1; 1764\n",
      "----> In output_reliability_name_row: len( index_used_list ) = 2; list = [1, 2]\n",
      "- source: 10699 - label: prelim_month - article ID: 21120 - Dawn Lewis ( 2821 ) - coders: 12 ====> 1 - 13; 1; 2821 ====> 2 - 2; 1; 2821\n",
      "----> In output_reliability_name_row: len( index_used_list ) = 1; list = [2]\n",
      "- source: 10700 - label: prelim_month - article ID: 21120 - C. John Lewis ( 2820 ) - coders: 12 ====> 1 - 13; 0; 0 ====> 2 - 2; 1; 2820\n"
     ]
    }
   ],
   "source": [
    "# rebuild Reliability_Names for article\n",
    "rebuild_reliability_names_for_article( resolve_article_id )"
   ]
  },
  {
   "cell_type": "markdown",
   "metadata": {},
   "source": [
    "- Then, you'll need to re-fix any other problems with the article. Specifically:\n",
    "\n",
    "    - load just the Reliability_Names for this article - [http://research.local/sourcenet/sourcenet/analysis/reliability/names/disagreement/view](http://research.local/sourcenet/sourcenet/analysis/reliability/names/disagreement/view):\n",
    "\n",
    "        - **Label:** \"prelim_month\"\n",
    "        - **Coders to compare (1 through ==>):** 2\n",
    "        - **Reliability names filter type:** Select \"Lookup\"\n",
    "        - **[Lookup] - Associated Article IDs (comma-delimited):** Enter \"`<article_id>`,\" (without the quotes).\n",
    "\n",
    "    - check for single names, either to remove, or to tie an erroneously parsed name to the correct person (forgot to capture first name, for example).\n",
    "\n",
    "        - If two people that should be tied together are not, you'll need to merge the two rows.  To merge two rows:\n",
    "\n",
    "            - In the \"**select**\" checkbox, click the checkbox next to the erroneous entry that you want to merge into the correct entry.\n",
    "            - In the \"**merge INTO**\" checkbox, click the checkbox next to the entry INTO WHICH you want to merge.\n",
    "            - In the \"**Reliability names action:**\" field, select \"Merge Coding --> FROM 'select' TO 'merge INTO'\".\n",
    "            - Click the \"**Do Action**\" button.\n",
    "\n",
    "    - add again the \"TODO\" tag to any rows with disagreement, or if no disagreements, to the row that initiated this work.\n",
    "\n",
    "        - Click the checkbox in the \"**select**\" column next to any records that are either disagreements or the person who initiated this work.\n",
    "        - In the \"**Reliability names action:**\" field, select \"_Add tag(s) to selected_\".\n",
    "        - In the \"**Tag(s) - (comma-delimited):**\" field, enter \"_`TODO`_\" (without the quotes).\n",
    "        - Click the \"**Do Action**\" button."
   ]
  },
  {
   "cell_type": "markdown",
   "metadata": {},
   "source": [
    "If there is a problem where human and computer coding of same person are so different they split into different rows, merge the computer row into the human row, then remove the computer row.\n",
    "\n",
    "- TK"
   ]
  },
  {
   "cell_type": "markdown",
   "metadata": {},
   "source": [
    "Once you've evaluated and verified the human coding, remove the \"`TODO`\" tag from the current record (either from the single-article view above if you've removed all disagreements, or from the disagreement view if not):\n",
    "\n",
    "- Click the checkbox in the \"**select**\" column next to the record whose evaluation is complete.\n",
    "- In the \"**Reliability names action:**\" field, select \"_Remove tag(s) from selected_\".\n",
    "- In the \"**Tag(s) - (comma-delimited):**\" field, enter \"_`TODO`_\" (without the quotes).\n",
    "- Click the \"**Do Action**\" button."
   ]
  },
  {
   "cell_type": "markdown",
   "metadata": {},
   "source": [
    "### Resolution logs\n",
    "\n",
    "- Back to [Table of Contents](#Table-of-Contents)\n",
    "\n",
    "Table of Reliability_Names records with disagreements, then separate tables of those where:\n",
    "\n",
    "- human coding had to be fixed.\n",
    "- records for the same person needed to be merged together.\n",
    "- coding had to be deleted."
   ]
  },
  {
   "cell_type": "markdown",
   "metadata": {},
   "source": [
    "#### Evaluation log\n",
    "\n",
    "- Back to [Table-of-Contents](#Table-of-Contents)\n",
    "\n",
    "Track each Reliability_Names that we evaluate:"
   ]
  },
  {
   "cell_type": "markdown",
   "metadata": {},
   "source": [
    "| ID | Name | Article | Article_Data_List | Status | Error? (SHB = Should Have Been)| Notes |\n",
    "|------|------|------|------|------|------|------|\n",
    "| 8362 | Jack Hagedorn | Article [20645](http://research.local/sourcenet/sourcenet/article/article_data/view_with_text/?article_id=20645) | Article_Data: [2322 (coder=8)](http://research.local/sourcenet/sourcenet/article/article_data/view/?article_id=20645&article_data_id_select=2322); [2984 (coder=2)](http://research.local/sourcenet/sourcenet/article/article_data/view/?article_id=20645&article_data_id_select=2984) | CORRECT | Mentioned, SHB Quoted | None |\n",
    "| 8367 | Bo Damstra | Article [20647](http://research.local/sourcenet/sourcenet/article/article_data/view_with_text/?article_id=20647) | Article_Data: [2355 (coder=10)](http://research.local/sourcenet/sourcenet/article/article_data/view/?article_id=20647&article_data_id_select=2355) | CORRECT | MISSED | None |\n",
    "| 8369 | Kyle Moody | Article [20647](http://research.local/sourcenet/sourcenet/article/article_data/view_with_text/?article_id=20647) | Article_Data: [2355 (coder=10)](http://research.local/sourcenet/sourcenet/article/article_data/view/?article_id=20647&article_data_id_select=2355); [2978 (coder=2)](http://research.local/sourcenet/sourcenet/article/article_data/view/?article_id=20647&article_data_id_select=2978) | CORRECT | Mentioned, SHB Quoted | None |\n",
    "| 8385 | Tony Baker | Article [20653](http://research.local/sourcenet/sourcenet/article/article_data/view_with_text/?article_id=20653) | Article_Data: [2323 (coder=8)](http://research.local/sourcenet/sourcenet/article/article_data/view/?article_id=20653&article_data_id_select=2323); [2985 (coder=2)](http://research.local/sourcenet/sourcenet/article/article_data/view/?article_id=20653&article_data_id_select=2985) | CORRECT | Mentioned, SHB Quoted | Odd grammar - no said verb |\n",
    "| 8420 | Ahlanna Holmes | Article [20663](http://research.local/sourcenet/sourcenet/article/article_data/view_with_text/?article_id=20663) | Article_Data: [2321 (coder=9)](http://research.local/sourcenet/sourcenet/article/article_data/view/?article_id=20663&article_data_id_select=2321); [2986 (coder=2)](http://research.local/sourcenet/sourcenet/article/article_data/view/?article_id=20663&article_data_id_select=2986) | CORRECT | Quoted, SHB Mentioned | No clue - 4 mo. old murder victim |\n",
    "| 8502 | Dean Agee | Article [20695](http://research.local/sourcenet/sourcenet/article/article_data/view_with_text/?article_id=20695) | Article_Data: [2358 (coder=10)](http://research.local/sourcenet/sourcenet/article/article_data/view/?article_id=20695&article_data_id_select=2358) | CORRECT | MISSED | Missed entirely |\n",
    "| 8576 | Dan Strikwerda | Article [20722](http://research.local/sourcenet/sourcenet/article/article_data/view_with_text/?article_id=20722) | Article_Data: [2325 (coder=8)](http://research.local/sourcenet/sourcenet/article/article_data/view/?article_id=20722&article_data_id_select=2325); [2981 (coder=2)](http://research.local/sourcenet/sourcenet/article/article_data/view/?article_id=20722&article_data_id_select=2981) | CORRECT | Mentioned, SHB Quoted | None |\n",
    "| 8591 | Jennifer Granholm | Article [20724](http://research.local/sourcenet/sourcenet/article/article_data/view_with_text/?article_id=20724) | Article_Data: [2394 (coder=9)](http://research.local/sourcenet/sourcenet/article/article_data/view/?article_id=20724&article_data_id_select=2394); [2988 (coder=2)](http://research.local/sourcenet/sourcenet/article/article_data/view/?article_id=20724&article_data_id_select=2988) | CORRECT | Quoted, SHB Mentioned | \"say\" used, compound subject, not a direct quote.  |\n",
    "| 8625 | Calvin Bosman | Article [20739](http://research.local/sourcenet/sourcenet/article/article_data/view_with_text/?article_id=20739) | Article_Data: [2326 (coder=8)](http://research.local/sourcenet/sourcenet/article/article_data/view/?article_id=20739&article_data_id_select=2326); [2980 (coder=2)](http://research.local/sourcenet/sourcenet/article/article_data/view/?article_id=20739&article_data_id_select=2980) | CORRECT | Quoted, SHB Mentioned | None |\n",
    "| 8621 | Curtis Jacobs | Article [20739](http://research.local/sourcenet/sourcenet/article/article_data/view_with_text/?article_id=20739) | Article_Data: [2326 (coder=8)](http://research.local/sourcenet/sourcenet/article/article_data/view/?article_id=20739&article_data_id_select=2326); [2980 (coder=2)](http://research.local/sourcenet/sourcenet/article/article_data/view/?article_id=20739&article_data_id_select=2980) | CORRECT | Quoted, SHB Mentioned | Might be related to 3-gram - \"As the parents of Curtis Jacobs openly described...\" |\n",
    "| 10625 | John Chapin | Article [20749](http://research.local/sourcenet/sourcenet/article/article_data/view_with_text/?article_id=20749) | Article_Data: [3318 (coder=13)](http://research.local/sourcenet/sourcenet/article/article_data/view/?article_id=20749&article_data_id_select=3318); [3001 (coder=2)](http://research.local/sourcenet/sourcenet/article/article_data/view/?article_id=20749&article_data_id_select=3001) | INCOMPLETE | Coder missed a person | Coder missed a person because of limitation of coding application (\"John and Laura Chapin\"), since fixed so I could fix in ground truth. |\n",
    "| 8844 | Creative Arts Martin Luther King Jr. | Article [20813](http://research.local/sourcenet/sourcenet/article/article_data/view_with_text/?article_id=20813) | Article_Data: [2991 (coder=2)](http://research.local/sourcenet/sourcenet/article/article_data/view/?article_id=20813&article_data_id_select=2991) | CORRECT | Not a person | Human got it right (well, sort of - they got the actual name, but they shouldn't have captured it at all).|\n",
    "| 8845 | Harrison Park | Article [20813](http://research.local/sourcenet/sourcenet/article/article_data/view_with_text/?article_id=20813) | Article_Data: [2991 (coder=2)](http://research.local/sourcenet/sourcenet/article/article_data/view/?article_id=20813&article_data_id_select=2991) | CORRECT | Not a person | None |\n",
    "| 8843 | Martin Luther King Jr. | Article [20813](http://research.local/sourcenet/sourcenet/article/article_data/view_with_text/?article_id=20813) | Article_Data: [2408 (coder=10)](http://research.local/sourcenet/sourcenet/article/article_data/view/?article_id=20813&article_data_id_select=2408) | ERROR | Not a person | Protocol states only capture name when referencing person, not as part of name of building, etc.  Removed from ground truth. |\n",
    "| 8853 | George Heartwell | Article [20815](http://research.local/sourcenet/sourcenet/article/article_data/view_with_text/?article_id=20815) | Article_Data: [2409 (coder=10)](http://research.local/sourcenet/sourcenet/article/article_data/view/?article_id=20815&article_data_id_select=2409); [2992 (coder=2)](http://research.local/sourcenet/sourcenet/article/article_data/view/?article_id=20815&article_data_id_select=2992) | CORRECT | MISSED | meeting story - \"voiced by Mayor George Heartwell\", then \"he said\" was in next paragraph. |\n",
    "| 10635 | George Heartwell | Article [20815](http://research.local/sourcenet/sourcenet/article/article_data/view_with_text/?article_id=20815) | Article_Data: [3319 (coder=13)](http://research.local/sourcenet/sourcenet/article/article_data/view/?article_id=20815&article_data_id_select=3319); [2992 (coder=2)](http://research.local/sourcenet/sourcenet/article/article_data/view/?article_id=20815&article_data_id_select=2992) | CORRECT | Mentioned, SHB Quoted | None |\n",
    "| 10637 | James White | Article [20815](http://research.local/sourcenet/sourcenet/article/article_data/view_with_text/?article_id=20815) | Article_Data: [3319 (coder=13)](http://research.local/sourcenet/sourcenet/article/article_data/view/?article_id=20815&article_data_id_select=3319); [2992 (coder=2)](http://research.local/sourcenet/sourcenet/article/article_data/view/?article_id=20815&article_data_id_select=2992) | ERROR | Coder missed a person | None |\n",
    "| 8858 | Carl Levin | Article [20818](http://research.local/sourcenet/sourcenet/article/article_data/view_with_text/?article_id=20818) | Article_Data: [2473 (coder=9)](http://research.local/sourcenet/sourcenet/article/article_data/view/?article_id=20818&article_data_id_select=2473) | CORRECT | MISSED | mention |\n",
    "| 10650 | Peter Hoekstra | Article [20843](http://research.local/sourcenet/sourcenet/article/article_data/view_with_text/?article_id=20843) | Article_Data: [3321 (coder=13)](http://research.local/sourcenet/sourcenet/article/article_data/view/?article_id=20843&article_data_id_select=3321); [3000 (coder=2)](http://research.local/sourcenet/sourcenet/article/article_data/view/?article_id=20843&article_data_id_select=3000) | CORRECT | Mentioned, SHB Quoted | \"he said\" in next paragraph. |\n",
    "| 10648 | Armand Robinson | Article [20843](http://research.local/sourcenet/sourcenet/article/article_data/view_with_text/?article_id=20843) | Article_Data: [3321 (coder=13)](http://research.local/sourcenet/sourcenet/article/article_data/view/?article_id=20843&article_data_id_select=3321); [3000 (coder=2)](http://research.local/sourcenet/sourcenet/article/article_data/view/?article_id=20843&article_data_id_select=3000) | CORRECT | Mentioned, SHB Quoted | '\"I'm not sure this is a winnable conflict,\" said the 80-year-old East Grand Rapids resident, an Obama supporter.' in next paragraph. |\n",
    "| 8991 | Fred Meijer | Article [20854](http://research.local/sourcenet/sourcenet/article/article_data/view_with_text/?article_id=20854) | Article_Data: [3012 (coder=2)](http://research.local/sourcenet/sourcenet/article/article_data/view/?article_id=20854&article_data_id_select=3012) | ERROR | MISSED | \"..., and Fred and Lena Meijer and J.A. Woollam Foundation...\" - not part of foundation name - comma fail |\n",
    "| 8990 | Lena Meijer | Article [20854](http://research.local/sourcenet/sourcenet/article/article_data/view_with_text/?article_id=20854) | Article_Data: [3012 (coder=2)](http://research.local/sourcenet/sourcenet/article/article_data/view/?article_id=20854&article_data_id_select=3012) | ERROR | MISSED | \"..., and Fred and Lena Meijer and J.A. Woollam Foundation...\" - not part of foundation name - comma fail |\n",
    "| 9129 | Dick Ball | Article [20902](http://research.local/sourcenet/sourcenet/article/article_data/view_with_text/?article_id=20902) | Article_Data: [2477 (coder=9)](http://research.local/sourcenet/sourcenet/article/article_data/view/?article_id=20902&article_data_id_select=2477); [3020 (coder=2)](http://research.local/sourcenet/sourcenet/article/article_data/view/?article_id=20902&article_data_id_select=3020) | CORRECT | Mentioned, SHB Quoted | Rep. Dick Ball, R-Bennington Township, worried lawmakers were rushing into changes that could dilute the quality of education simply to chase \"an unknown chance for unknown hundreds of millions of dollars.\" |\n",
    "| 9125 | Wayne Kuipers | Article [20902](http://research.local/sourcenet/sourcenet/article/article_data/view_with_text/?article_id=20902) | Article_Data: [2477 (coder=9)](http://research.local/sourcenet/sourcenet/article/article_data/view/?article_id=20902&article_data_id_select=2477); [3020 (coder=2)](http://research.local/sourcenet/sourcenet/article/article_data/view/?article_id=20902&article_data_id_select=3020) | CORRECT | Mentioned, SHB Quoted | Sen. Wayne Kuipers, R-Holland, chairman of the Senate Education Committee, said... |\n",
    "| 10660 | Arne Duncan | Article [20919](http://research.local/sourcenet/sourcenet/article/article_data/view_with_text/?article_id=20919) | Article_Data: [3322 (coder=13)](http://research.local/sourcenet/sourcenet/article/article_data/view/?article_id=20919&article_data_id_select=3322); [3010 (coder=2)](http://research.local/sourcenet/sourcenet/article/article_data/view/?article_id=20919&article_data_id_select=3010) | ERROR | Quoted, SHB Mentioned | \"...U.S. Secretary of Education Arne Duncan has said he hopes to see...\" not a quote. |\n",
    "| 9225 | Godfrey Lee | Article [20929](http://research.local/sourcenet/sourcenet/article/article_data/view_with_text/?article_id=20929) | Article_Data: [3009 (coder=2)](http://research.local/sourcenet/sourcenet/article/article_data/view/?article_id=20929&article_data_id_select=3009) | CORRECT | Not a person | \"...the Godfrey Lee school district...\" |\n",
    "| 9227 | SuAnn Bruggink | Article [20929](http://research.local/sourcenet/sourcenet/article/article_data/view_with_text/?article_id=20929) | Article_Data: [2335 (coder=8)](http://research.local/sourcenet/sourcenet/article/article_data/view/?article_id=20929&article_data_id_select=2335) | CORRECT | MISSED | None |\n",
    "| 10665 | Brandon Dillon | Article [20930](http://research.local/sourcenet/sourcenet/article/article_data/view_with_text/?article_id=20930) | Article_Data: [3323 (coder=13)](http://research.local/sourcenet/sourcenet/article/article_data/view/?article_id=20930&article_data_id_select=3323); [3006 (coder=2)](http://research.local/sourcenet/sourcenet/article/article_data/view/?article_id=20930&article_data_id_select=3006) | ERROR | MISSED | Coder missed this person. |\n",
    "| 10261 | Gary Scholten | Article [20968](http://research.local/sourcenet/sourcenet/article/article_data/view_with_text/?article_id=20968) | Article_Data: [2479 (coder=9)](http://research.local/sourcenet/sourcenet/article/article_data/view/?article_id=20968&article_data_id_select=2479) | CORRECT | MISSED | \"...the system, Register of Deeds Gary Scholten said.\" |\n",
    "| 9349 | Fred Meijer | Article [20981](http://research.local/sourcenet/sourcenet/article/article_data/view_with_text/?article_id=20981) | Article_Data: [3027 (coder=2)](http://research.local/sourcenet/sourcenet/article/article_data/view/?article_id=20981&article_data_id_select=3027) | ERROR | MISSED | Fred and Lena Meijer and J.A. Woollam Foundation\" - not part of foundation name - comma fail |\n",
    "| 9353 | Stephen Neumer | Article [20981](http://research.local/sourcenet/sourcenet/article/article_data/view_with_text/?article_id=20981) | Article_Data: [2337 (coder=8)](http://research.local/sourcenet/sourcenet/article/article_data/view/?article_id=20981&article_data_id_select=2337); [3027 (coder=2)](http://research.local/sourcenet/sourcenet/article/article_data/view/?article_id=20981&article_data_id_select=3027) | CORRECT | Mentioned, SHB Quoted | A representative for McClendon, attorney Stephen Neumer, confirmed the development. - not \"said\"... |\n",
    "| 9403 | Dick Morris | Article [21001](http://research.local/sourcenet/sourcenet/article/article_data/view_with_text/?article_id=21001) | Article_Data: [3032 (coder=2)](http://research.local/sourcenet/sourcenet/article/article_data/view/?article_id=21001&article_data_id_select=3032) | ERROR | Human coder MISSED | None |\n",
    "| 9408 | Jeff Hawkins | Article [21007](http://research.local/sourcenet/sourcenet/article/article_data/view_with_text/?article_id=21007) | Article_Data: [2440 (coder=10)](http://research.local/sourcenet/sourcenet/article/article_data/view/?article_id=21007&article_data_id_select=2440) | ERROR | Miscategorized as Author, not Subject | None |\n",
    "| 9414 | Jeff Hawkins | Article [21007](http://research.local/sourcenet/sourcenet/article/article_data/view_with_text/?article_id=21007) | Article_Data: [3024 (coder=2)](http://research.local/sourcenet/sourcenet/article/article_data/view/?article_id=21007&article_data_id_select=3024) | ERROR | Miscategorized as Author, not Subject | None |\n",
    "| 9412 | Robert Homan | Article [21007](http://research.local/sourcenet/sourcenet/article/article_data/view_with_text/?article_id=21007) | Article_Data: [3024 (coder=2)](http://research.local/sourcenet/sourcenet/article/article_data/view/?article_id=21007&article_data_id_select=3024) | ERROR | MISSED | None |\n",
    "| 9411 | Jan Lastocy | Article [21007](http://research.local/sourcenet/sourcenet/article/article_data/view_with_text/?article_id=21007) | Article_Data: [2440 (coder=10)](http://research.local/sourcenet/sourcenet/article/article_data/view/?article_id=21007&article_data_id_select=2440); [3024 (coder=2)](http://research.local/sourcenet/sourcenet/article/article_data/view/?article_id=21007&article_data_id_select=3024) | CORRECT | Mentioned, SHB Quoted | None |\n",
    "| 9435 | Port Sheldon | Article [21017](http://research.local/sourcenet/sourcenet/article/article_data/view_with_text/?article_id=21017) | Article_Data: [3021 (coder=2)](http://research.local/sourcenet/sourcenet/article/article_data/view/?article_id=21017&article_data_id_select=3021) | CORRECT | ERROR, Place names - List of Township names | \"...spread across Holland, Park, Olive and Port Sheldon townships.\" |\n",
    "| 9436 | Olive Sheldon | Article [21017](http://research.local/sourcenet/sourcenet/article/article_data/view_with_text/?article_id=21017) | Article_Data: [3021 (coder=2)](http://research.local/sourcenet/sourcenet/article/article_data/view/?article_id=21017&article_data_id_select=3021) | CORRECT | ERROR, Place names - List of Township names | \"...spread across Holland, Park, Olive and Port Sheldon townships.\" |\n",
    "| 9443 | Burton Quick | Article [21023](http://research.local/sourcenet/sourcenet/article/article_data/view_with_text/?article_id=21023) | Article_Data: [3026 (coder=2)](http://research.local/sourcenet/sourcenet/article/article_data/view/?article_id=21023&article_data_id_select=3026) | CORRECT | Place name | \"...killing of Burton Quick Stop owner Mohammed Ghannam,...\" |\n",
    "| 9442 | Chris Cameron | Article [21023](http://research.local/sourcenet/sourcenet/article/article_data/view_with_text/?article_id=21023) | Article_Data: [2481 (coder=9)](http://research.local/sourcenet/sourcenet/article/article_data/view/?article_id=21023&article_data_id_select=2481); [3026 (coder=2)](http://research.local/sourcenet/sourcenet/article/article_data/view/?article_id=21023&article_data_id_select=3026) | CORRECT | Mentioned, SHB Quoted | \"he said\" followed name of murder victim, two paragraphs after Cameron was introduced. |\n",
    "| 9440 | Robert Fryling | Article [21023](http://research.local/sourcenet/sourcenet/article/article_data/view_with_text/?article_id=21023) | Article_Data: [2481 (coder=9)](http://research.local/sourcenet/sourcenet/article/article_data/view/?article_id=21023&article_data_id_select=2481); [3026 (coder=2)](http://research.local/sourcenet/sourcenet/article/article_data/view/?article_id=21023&article_data_id_select=3026) | CORRECT | Quoted, SHB Mentioned | \"he said\" followed name of murder victim, but referred to Cameron, introduced two paragraphs earlier. |\n",
    "| 9484 | Brent Vander Kolk | Article [21043](http://research.local/sourcenet/sourcenet/article/article_data/view_with_text/?article_id=21043) | Article_Data: [2342 (coder=8)](http://research.local/sourcenet/sourcenet/article/article_data/view/?article_id=21043&article_data_id_select=2342); [3040 (coder=2)](http://research.local/sourcenet/sourcenet/article/article_data/view/?article_id=21043&article_data_id_select=3040) | ERROR | Not really a quote. | \"Vander Kolk earlier had described Beene as a well-liked and respected probation officer with a clean work record.\" |\n",
    "| 9502 | Meg Ryan | Article [21047](http://research.local/sourcenet/sourcenet/article/article_data/view_with_text/?article_id=21047) | Article_Data: [2442 (coder=10)](http://research.local/sourcenet/sourcenet/article/article_data/view/?article_id=21047&article_data_id_select=2442) | CORRECT | MISSED | There was a \"/\" after the name, and maybe because of how it was phrased? - \"...and the Meg Ryan/Ashley Tisdale film \"Sleepless Beauty\" is tentative for February.\" |\n",
    "| 9503 | Ashley Tisdale | Article [21047](http://research.local/sourcenet/sourcenet/article/article_data/view_with_text/?article_id=21047) | Article_Data: [2442 (coder=10)](http://research.local/sourcenet/sourcenet/article/article_data/view/?article_id=21047&article_data_id_select=2442) | CORRECT | MISSED | There was a \"/\" before the name: \"...and the Meg Ryan/Ashley Tisdale film \"Sleepless Beauty\" is tentative for February.\" |\n",
    "| 9512 | Jennifer Granholm | Article [21051](http://research.local/sourcenet/sourcenet/article/article_data/view_with_text/?article_id=21051) | Article_Data: [2484 (coder=9)](http://research.local/sourcenet/sourcenet/article/article_data/view/?article_id=21051&article_data_id_select=2484); [3039 (coder=2)](http://research.local/sourcenet/sourcenet/article/article_data/view/?article_id=21051&article_data_id_select=3039) | CORRECT | Quoted, SHB Mentioned | verb \"announced\": Gov. Jennifer Granholm announced the appointment Friday... |\n",
    "| 9593 | Patti Vab Syzkle | Article [21080](http://research.local/sourcenet/sourcenet/article/article_data/view_with_text/?article_id=21080) | Article_Data: [3037 (coder=2)](http://research.local/sourcenet/sourcenet/article/article_data/view/?article_id=21080&article_data_id_select=3037) | CORRECT | misspelling in article | Actually Patti Van Syzkle |\n",
    "| 9588 | Patti Van Syzkle | Article [21080](http://research.local/sourcenet/sourcenet/article/article_data/view_with_text/?article_id=21080) | Article_Data: [2343 (coder=8)](http://research.local/sourcenet/sourcenet/article/article_data/view/?article_id=21080&article_data_id_select=2343); [3037 (coder=2)](http://research.local/sourcenet/sourcenet/article/article_data/view/?article_id=21080&article_data_id_select=3037) | CORRECT | Mentioned, SHB Quoted | Direct quote was attributed to misspelled name (the item above this in this table).  Tough one.|\n",
    "| 9659 | Justin Amash | Article [21108](http://research.local/sourcenet/sourcenet/article/article_data/view_with_text/?article_id=21108) | Article_Data: [2345 (coder=8)](http://research.local/sourcenet/sourcenet/article/article_data/view/?article_id=21108&article_data_id_select=2345); [3046 (coder=2)](http://research.local/sourcenet/sourcenet/article/article_data/view/?article_id=21108&article_data_id_select=3046) | CORRECT | Mentioned, SHB quoted | Dumb one - two direct quotes in the two sentences subsequent to this person's introduction. |\n",
    "| 9669 | Sculpture Park | Article [21109](http://research.local/sourcenet/sourcenet/article/article_data/view_with_text/?article_id=21109) | Article_Data: [3045 (coder=2)](http://research.local/sourcenet/sourcenet/article/article_data/view/?article_id=21109&article_data_id_select=3045) | CORRECT | Location Name | Separated by ampersand from rest of \"a final tour of Frederik Meijer Gardens & Sculpture Park with his family at his side.\"  |\n",
    "| 9692 | Ellsworth Kelly | Article [21116](http://research.local/sourcenet/sourcenet/article/article_data/view_with_text/?article_id=21116) | Article_Data: [2447 (coder=10)](http://research.local/sourcenet/sourcenet/article/article_data/view/?article_id=21116&article_data_id_select=2447) | CORRECT | MISSED | \"...most notably Ellsworth Kelly's \"Blue White,\" a 25-foot- tall wall sculpture...\" |\n",
    "| 9693 | Rembrandt van Rijn | Article [21116](http://research.local/sourcenet/sourcenet/article/article_data/view_with_text/?article_id=21116) | Article_Data: [2447 (coder=10)](http://research.local/sourcenet/sourcenet/article/article_data/view/?article_id=21116&article_data_id_select=2447) | CORRECT | MISSED | \"...is Rembrandt van Rijn's \"The Three Crosses,\" an early impression from the fourth state...\" |\n",
    "| 9701 | Dallas Willard | Article [21120](http://research.local/sourcenet/sourcenet/article/article_data/view_with_text/?article_id=21120) | Article_Data: [2348 (coder=8)](http://research.local/sourcenet/sourcenet/article/article_data/view/?article_id=21120&article_data_id_select=2348) | CORRECT | MISSED | None |\n",
    "| 9703 | Dawn Lewis | Article [21120](http://research.local/sourcenet/sourcenet/article/article_data/view_with_text/?article_id=21120) | Article_Data: [3050 (coder=2)](http://research.local/sourcenet/sourcenet/article/article_data/view/?article_id=21120&article_data_id_select=3050) | ERROR | MISSED | \"Lewis, 56, and his wife, Dawn, 54, live in the nine-bedroom center. Dawn Lewis cooks meals with volunteers' help.\" |"
   ]
  },
  {
   "cell_type": "markdown",
   "metadata": {},
   "source": [
    "#### Ground truth coding fixed\n",
    "\n",
    "- Back to [Table-of-Contents](#Table-of-Contents)\n",
    "\n",
    "For some, the error will be on the part of the human coder.  For human error, we create a new \"`ground_truth`\" record that we will correct, so we preserve original coding (and evidence of errors) in case we want or need that information later.  Below, we have a table of the articles where we had to fix ground truth.  To find the original coding, click the Article link."
   ]
  },
  {
   "cell_type": "markdown",
   "metadata": {},
   "source": [
    "| ID | Name | Article | Article_Data_List | Status | Error? (SHB = Should Have Been)| Notes |\n",
    "|------|------|------|------|------|------|------|\n",
    "| 10625 | John Chapin | Article [20749](http://research.local/sourcenet/sourcenet/article/article_data/view_with_text/?article_id=20749) | Article_Data: [3318 (coder=13)](http://research.local/sourcenet/sourcenet/article/article_data/view/?article_id=20749&article_data_id_select=3318); [3001 (coder=2)](http://research.local/sourcenet/sourcenet/article/article_data/view/?article_id=20749&article_data_id_select=3001) | INCOMPLETE | Coder missed a person | Coder missed a person because of limitation of coding protocol (\"John and Laura Chapin\") |\n",
    "| 8843 | Martin Luther King Jr. | Article [20813](http://research.local/sourcenet/sourcenet/article/article_data/view_with_text/?article_id=20813) | Article_Data: [2408 (coder=10)](http://research.local/sourcenet/sourcenet/article/article_data/view/?article_id=20813&article_data_id_select=2408) | ERROR | Not a person | Protocol states only capture name when referencing person, not as part of name of building, etc.  Removed from ground truth. |\n",
    "| 10637 | James White | Article [20815](http://research.local/sourcenet/sourcenet/article/article_data/view_with_text/?article_id=20815) | Article_Data: [3319 (coder=13)](http://research.local/sourcenet/sourcenet/article/article_data/view/?article_id=20815&article_data_id_select=3319); [2992 (coder=2)](http://research.local/sourcenet/sourcenet/article/article_data/view/?article_id=20815&article_data_id_select=2992) | ERROR | Coder missed a person | None |\n",
    "| 8991 | Fred Meijer | Article [20854](http://research.local/sourcenet/sourcenet/article/article_data/view_with_text/?article_id=20854) | Article_Data: [3012 (coder=2)](http://research.local/sourcenet/sourcenet/article/article_data/view/?article_id=20854&article_data_id_select=3012) | ERROR | MISSED | \"..., and Fred and Lena Meijer and J.A. Woollam Foundation...\" - not part of foundation name - comma fail |\n",
    "| 8990 | Lena Meijer | Article [20854](http://research.local/sourcenet/sourcenet/article/article_data/view_with_text/?article_id=20854) | Article_Data: [3012 (coder=2)](http://research.local/sourcenet/sourcenet/article/article_data/view/?article_id=20854&article_data_id_select=3012) | ERROR | MISSED | \"..., and Fred and Lena Meijer and J.A. Woollam Foundation...\" - not part of foundation name - comma fail |\n",
    "| 10660 | Arne Duncan | Article [20919](http://research.local/sourcenet/sourcenet/article/article_data/view_with_text/?article_id=20919) | Article_Data: [3322 (coder=13)](http://research.local/sourcenet/sourcenet/article/article_data/view/?article_id=20919&article_data_id_select=3322); [3010 (coder=2)](http://research.local/sourcenet/sourcenet/article/article_data/view/?article_id=20919&article_data_id_select=3010) | ERROR | Quoted, SHB Mentioned | \"...U.S. Secretary of Education Arne Duncan has said he hopes to see...\" not a quote. |\n",
    "| 10665 | Brandon Dillon | Article [20930](http://research.local/sourcenet/sourcenet/article/article_data/view_with_text/?article_id=20930) | Article_Data: [3323 (coder=13)](http://research.local/sourcenet/sourcenet/article/article_data/view/?article_id=20930&article_data_id_select=3323); [3006 (coder=2)](http://research.local/sourcenet/sourcenet/article/article_data/view/?article_id=20930&article_data_id_select=3006) | ERROR | MISSED | Coder missed this person. |\n",
    "| 9349 | Fred Meijer | Article [20981](http://research.local/sourcenet/sourcenet/article/article_data/view_with_text/?article_id=20981) | Article_Data: [3027 (coder=2)](http://research.local/sourcenet/sourcenet/article/article_data/view/?article_id=20981&article_data_id_select=3027) | ERROR | MISSED | \"..., and Fred and Lena Meijer and J.A. Woollam Foundation...\" - not part of foundation name - comma fail |\n",
    "| 9403 | Dick Morris | Article [21001](http://research.local/sourcenet/sourcenet/article/article_data/view_with_text/?article_id=21001) | Article_Data: [3032 (coder=2)](http://research.local/sourcenet/sourcenet/article/article_data/view/?article_id=21001&article_data_id_select=3032) | ERROR | Human coder MISSED | None |\n",
    "| 9408 | Jeff Hawkins | Article [21007](http://research.local/sourcenet/sourcenet/article/article_data/view_with_text/?article_id=21007) | Article_Data: [2440 (coder=10)](http://research.local/sourcenet/sourcenet/article/article_data/view/?article_id=21007&article_data_id_select=2440) | ERROR | Miscategorized as Author, not Subject | None |\n",
    "| 9414 | Jeff Hawkins | Article [21007](http://research.local/sourcenet/sourcenet/article/article_data/view_with_text/?article_id=21007) | Article_Data: [3024 (coder=2)](http://research.local/sourcenet/sourcenet/article/article_data/view/?article_id=21007&article_data_id_select=3024) | ERROR | Miscategorized as Author, not Subject | None |\n",
    "| 9412 | Robert Homan | Article [21007](http://research.local/sourcenet/sourcenet/article/article_data/view_with_text/?article_id=21007) | Article_Data: [3024 (coder=2)](http://research.local/sourcenet/sourcenet/article/article_data/view/?article_id=21007&article_data_id_select=3024) | ERROR | MISSED | None |\n",
    "| 9484 | Brent Vander Kolk | Article [21043](http://research.local/sourcenet/sourcenet/article/article_data/view_with_text/?article_id=21043) | Article_Data: [2342 (coder=8)](http://research.local/sourcenet/sourcenet/article/article_data/view/?article_id=21043&article_data_id_select=2342); [3040 (coder=2)](http://research.local/sourcenet/sourcenet/article/article_data/view/?article_id=21043&article_data_id_select=3040) | ERROR | Not really a quote. | \"Vander Kolk earlier had described Beene as a well-liked and respected probation officer with a clean work record.\" |\n",
    "| 9507 | Ivette Reyes | Article [21049](http://research.local/sourcenet/sourcenet/article/article_data/view_with_text/?article_id=21049) | Article_Data: [2443 (coder=10)](http://research.local/sourcenet/sourcenet/article/article_data/view/?article_id=21049&article_data_id_select=2443); [3034 (coder=2)](http://research.local/sourcenet/sourcenet/article/article_data/view/?article_id=21049&article_data_id_select=3034) | CORRECT | OpenCalais missed first name... | \"This time of year is when the lines usually swell at Ivette Reyes' money transfer business\" |\n"
   ]
  },
  {
   "cell_type": "markdown",
   "metadata": {},
   "source": [
    "#### Reliability_Names records merged\n",
    "\n",
    "- Back to [Table-of-Contents](#Table-of-Contents)\n",
    "\n",
    "For some, need to merge a single-name detection by Calais with full-name detection by ground_truth (an OpenCalais error - did not detect full name - combined with lookup error - didn't lookup the right person since missed part of his or her name).  Will still have subsequently deleted one or more duplicate rows."
   ]
  },
  {
   "cell_type": "markdown",
   "metadata": {},
   "source": [
    "| ID FROM | ID INTO | Article | Article_Data | Article_Subject |\n",
    "|------|------|------|------|------|\n",
    "| 9506 | 9507 | Article [21049](http://research.local/sourcenet/sourcenet/article/article_data/view_with_text/?article_id=21049) | FROM [3034](http://research.local/sourcenet/sourcenet/article/article_data/view/?article_id=21049&article_data_id_select=3034)<br />TO [2443](http://research.local/sourcenet/sourcenet/article/article_data/view/?article_id=21049&article_data_id_select=2443) | 8494 (AS) - Reyes, Ivette ( id = 1899; capture_method = None ) (quoted; individual) ( quotes: 1; mentions: 1 ) ==> Name: Ivette Reyes |\n",
    "| 9992 | 9993 | Article [22281](http://research.local/sourcenet/sourcenet/article/article_data/view_with_text/?article_id=22281) | FROM [3083](http://research.local/sourcenet/sourcenet/article/article_data/view/?article_id=22281&article_data_id_select=3083) TO [2635](http://research.local/sourcenet/sourcenet/article/article_data/view/?article_id=22281&article_data_id_select=2635) | 9369 (AS) - Tassell, Leslie ( id = 2328; capture_method = None ) (mentioned; individual) ==> name: Leslie E. Tassell |\n",
    "| 9989 | 9988 | Article [23169](http://research.local/sourcenet/sourcenet/article/article_data/view_with_text/?article_id=23169) | FROM [3195](http://research.local/sourcenet/sourcenet/article/article_data/view/?article_id=23169&article_data_id_select=3195) TO [2719](http://research.local/sourcenet/sourcenet/article/article_data/view/?article_id=23169&article_data_id_select=2719) | 12020 (AS) - Keller ( id = 2903; capture_method = OpenCalais_REST_API_v2 ) (quoted; individual) ==> name: Keller |\n"
   ]
  },
  {
   "cell_type": "code",
   "execution_count": null,
   "metadata": {
    "collapsed": true
   },
   "outputs": [],
   "source": [
    "reliability_names_id_from = \"9989\"\n",
    "reliability_names_id_to = \"9988\"\n",
    "article_id = \"23169\"\n",
    "article_data_id_from = \"3195\"\n",
    "article_data_id_to = \"2719\"\n",
    "article_subject = \"12020 (AS) - Keller ( id = 2903; capture_method = OpenCalais_REST_API_v2 ) (quoted; individual) ==> name: Keller\"\n",
    "\n",
    "markdown_string = \"| \"\n",
    "markdown_string += reliability_names_id_from\n",
    "markdown_string += \" | \"\n",
    "markdown_string += reliability_names_id_to\n",
    "markdown_string += \" | Article [\"\n",
    "markdown_string += article_id\n",
    "markdown_string += \"](http://research.local/sourcenet/sourcenet/article/article_data/view_with_text/?article_id=\"\n",
    "markdown_string += article_id\n",
    "markdown_string += \") | FROM [\"\n",
    "markdown_string += article_data_id_from\n",
    "markdown_string += \"](http://research.local/sourcenet/sourcenet/article/article_data/view/?article_id=\"\n",
    "markdown_string += article_id\n",
    "markdown_string += \"&article_data_id_select=\"\n",
    "markdown_string += article_data_id_from\n",
    "markdown_string += \") TO [\"\n",
    "markdown_string += article_data_id_to\n",
    "markdown_string += \"](http://research.local/sourcenet/sourcenet/article/article_data/view/?article_id=\"\n",
    "markdown_string += article_id\n",
    "markdown_string += \"&article_data_id_select=\"\n",
    "markdown_string += article_data_id_to\n",
    "markdown_string += \") | \"\n",
    "markdown_string += article_subject\n",
    "markdown_string += \" |\"\n",
    "\n",
    "print( \"Reliabilty_Names merge Markdown:\\n\" + markdown_string )"
   ]
  },
  {
   "cell_type": "markdown",
   "metadata": {},
   "source": [
    "#### Deleted Reliability_Names records\n",
    "\n",
    "- Back to [Table-of-Contents](#Table-of-Contents)"
   ]
  },
  {
   "cell_type": "markdown",
   "metadata": {},
   "source": [
    "| ID | Article | Article_Data | Article_Subject | Type |\n",
    "|------|------|------|------|------|\n",
    "| 8618 | Article [20739](http://research.local/sourcenet/sourcenet/article/article_data/view_with_text/?article_id=20739) | Article_Data [2980](http://research.local/sourcenet/sourcenet/article/article_data/view/?article_id=20739&article_data_id_select=2980) | 11006 (AS) - Christopher ( id = 2776; capture_method = OpenCalais_REST_API_v2 ) (mentioned; individual) ==> name: Christopher | CORRECT |\n"
   ]
  },
  {
   "cell_type": "code",
   "execution_count": null,
   "metadata": {
    "collapsed": true,
    "scrolled": true
   },
   "outputs": [],
   "source": [
    "# folded this code into the Reliability_Names delete screen (sourcenet_analysis/views.py-->reliability_names_disagreement_view().\n",
    "'''\n",
    "reliability_names_id = \"7956\"\n",
    "article_id = \"21509\"\n",
    "article_data_id = \"1660\"\n",
    "article_subject = \"5498 (AS) - Jaidon ( id = 875; capture_method = OpenCalais_REST_API_v1 ) (mentioned; individual) ==> name: Jaidon\"\n",
    "    \n",
    "markdown_string = \"| \"\n",
    "markdown_string += reliability_names_id\n",
    "markdown_string += \" | Article [\"\n",
    "markdown_string += article_id\n",
    "markdown_string += \"](http://research.local/sourcenet/sourcenet/article/article_data/view_with_text/?article_id=\"\n",
    "markdown_string += article_id\n",
    "markdown_string += \") | Article_Data [\"\n",
    "markdown_string += article_data_id\n",
    "markdown_string += \"](http://research.local/sourcenet/sourcenet/article/article_data/view/?article_id=\"\n",
    "markdown_string += article_id\n",
    "markdown_string += \"&article_data_id_select=\"\n",
    "markdown_string += article_data_id\n",
    "markdown_string += \") | \"\n",
    "markdown_string += article_subject\n",
    "markdown_string += \" |\"\n",
    "\n",
    "print( \"Reliability_Names removal Markdown:\\n\" + markdown_string )\n",
    "'''"
   ]
  },
  {
   "cell_type": "markdown",
   "metadata": {},
   "source": [
    "# Notes\n",
    "\n",
    "- Back to [Table of Contents](#Table-of-Contents)"
   ]
  },
  {
   "cell_type": "markdown",
   "metadata": {},
   "source": [
    "## Notes and questions\n",
    "\n",
    "- Back to [Table of Contents](#Table-of-Contents)\n",
    "\n",
    "Notes and questions:\n",
    "\n",
    "- TK"
   ]
  },
  {
   "cell_type": "markdown",
   "metadata": {},
   "source": [
    "## Errors\n",
    "\n",
    "- Back to [Table of Contents](#Table-of-Contents)"
   ]
  },
  {
   "cell_type": "markdown",
   "metadata": {},
   "source": [
    "Errors:\n",
    "\n",
    "- | 9129 | Dick Ball | Article [20902](http://research.local/sourcenet/sourcenet/article/article_data/view_with_text/?article_id=20902) | Article_Data: [2477 (coder=9)](http://research.local/sourcenet/sourcenet/article/article_data/view/?article_id=20902&article_data_id_select=2477); [3020 (coder=2)](http://research.local/sourcenet/sourcenet/article/article_data/view/?article_id=20902&article_data_id_select=3020) | CORRECT | Mentioned, SHB Quoted | Rep. Dick Ball, R-Bennington Township, worried lawmakers were rushing into changes that could dilute the quality of education simply to chase \"an unknown chance for unknown hundreds of millions of dollars.\" |\n",
    "- | 9125 | Wayne Kuipers | Article [20902](http://research.local/sourcenet/sourcenet/article/article_data/view_with_text/?article_id=20902) | Article_Data: [2477 (coder=9)](http://research.local/sourcenet/sourcenet/article/article_data/view/?article_id=20902&article_data_id_select=2477); [3020 (coder=2)](http://research.local/sourcenet/sourcenet/article/article_data/view/?article_id=20902&article_data_id_select=3020) | CORRECT | Mentioned, SHB Quoted | Sen. Wayne Kuipers, R-Holland, chairman of the Senate Education Committee, said... |\n",
    "- | 9502 | Meg Ryan | Article [21047](http://research.local/sourcenet/sourcenet/article/article_data/view_with_text/?article_id=21047) | Article_Data: [2442 (coder=10)](http://research.local/sourcenet/sourcenet/article/article_data/view/?article_id=21047&article_data_id_select=2442) | CORRECT | MISSED | There was a \"/\" after the name, and maybe because of how it was phrased? - \"...and the Meg Ryan/Ashley Tisdale film \"Sleepless Beauty\" is tentative for February.\" |\n",
    "- | 9669 | Sculpture Park | Article [21109](http://research.local/sourcenet/sourcenet/article/article_data/view_with_text/?article_id=21109) | Article_Data: [3045 (coder=2)](http://research.local/sourcenet/sourcenet/article/article_data/view/?article_id=21109&article_data_id_select=3045) | CORRECT | Location Name | Separated by ampersand from rest of \"a final tour of Frederik Meijer Gardens & Sculpture Park with his family at his side.\"  |\n",
    "- | 9692 | Ellsworth Kelly | Article [21116](http://research.local/sourcenet/sourcenet/article/article_data/view_with_text/?article_id=21116) | Article_Data: [2447 (coder=10)](http://research.local/sourcenet/sourcenet/article/article_data/view/?article_id=21116&article_data_id_select=2447) | CORRECT | MISSED | \"...most notably Ellsworth Kelly's \"Blue White,\" a 25-foot- tall wall sculpture...\" |\n",
    "- | 9693 | Rembrandt van Rijn | Article [21116](http://research.local/sourcenet/sourcenet/article/article_data/view_with_text/?article_id=21116) | Article_Data: [2447 (coder=10)](http://research.local/sourcenet/sourcenet/article/article_data/view/?article_id=21116&article_data_id_select=2447) | CORRECT | MISSED | \"...is Rembrandt van Rijn's \"The Three Crosses,\" an early impression from the fourth state...\" |\n",
    "    - | 9704 | C. John Lewis | Article [21120](http://research.local/sourcenet/sourcenet/article/article_data/view_with_text/?article_id=21120) | Article_Data: [3050 (coder=2)](http://research.local/sourcenet/sourcenet/article/article_data/view/?article_id=21120&article_data_id_select=3050) | CORRECT | ERROR | Created this name string from last part of one paragraph and first part of next: `...in Wake Forest, N.C.</p><p>John Lewis graduated from...` |"
   ]
  },
  {
   "cell_type": "markdown",
   "metadata": {},
   "source": [
    "# TODO\n",
    "\n",
    "- Back to [Table of Contents](#Table-of-Contents)\n",
    "\n",
    "TODO:\n",
    "\n",
    "- Want a way to limit to disagreements where quoted?  Might not - this is a start to assessing erroneous agreement.  If yes, 1 < coding time < 4 hours.\n",
    "\n",
    "    - problem - `Reliability_Names.person_type` only has three values - \"author\", \"subject\", \"source\" - might need a row-level measure of \"`has_mention`\", \"`has_quote`\" to more readily capture rows where disagreement is over quoted-or-not."
   ]
  },
  {
   "cell_type": "markdown",
   "metadata": {},
   "source": [
    "## Coding to look into\n",
    "\n",
    "- Back to [Table of Contents](#Table-of-Contents)\n",
    "\n",
    "Coding decisions to look at more closely:\n",
    "\n",
    "- TK"
   ]
  },
  {
   "cell_type": "markdown",
   "metadata": {},
   "source": [
    "## Debugging\n",
    "\n",
    "- Back to [Table of Contents](#Table-of-Contents)\n",
    "\n",
    "Issues to debug:\n",
    "\n",
    "- TK"
   ]
  },
  {
   "cell_type": "markdown",
   "metadata": {},
   "source": [
    "# DONE\n",
    "\n",
    "- Back to [Table of Contents](#Table-of-Contents)"
   ]
  },
  {
   "cell_type": "markdown",
   "metadata": {},
   "source": [
    "## quotes that contain paragraph break\n",
    "\n",
    "- Back to [Table of Contents](#Table-of-Contents)\n",
    "\n",
    "Quotes with newlines in them (not sure how that is captured on the way to the server, in the database, etc.) break the article coder: [http://research.local/sourcenet/sourcenet/article/code/](http://research.local/sourcenet/sourcenet/article/code/).\n",
    "\n",
    "When you load JSON that contains quote text that spans lines, the newlines within the text cause the JSON parsing to break.  Looks like it is read and parsed correctly when submitted to serrver (except for the graf number - evaluates to -1 - so that is a bug, too, since there are no newlines in any of the text we are looking at, just paragraph breaks).\n",
    "\n",
    "How to fix?:\n",
    "\n",
    "- First try stripping out any stretches of multiple white space characters and substituting a space.  This should work with all of the rest of the code on the server.  Can implement in javascript, and for sanity check also in Python that processes received JSON.\n",
    "- If rest of code doesn't play nice with reformatting, then maybe figure out how to escape the carriage returns and line feeds, and might need to update the \"find in text\" functions, too.\n",
    "- turns out that fixing this in cases when the quotation spans paragraphs might then break things when there are extra spaces within a paragraph.  So, leaving it as is for now, need to fix that paragraph in the article.\n",
    "\n",
    "Examples:\n",
    "\n",
    "- Article 21001: [http://research.local/sourcenet/sourcenet/article/article_data/view_with_text/?article_id=21001](http://research.local/sourcenet/sourcenet/article/article_data/view_with_text/?article_id=21001)\n",
    "    \n",
    "    - user minnesota1, article 21001\n",
    "    - user ground_truth, article 21001 (copied from minnesota1)."
   ]
  },
  {
   "cell_type": "markdown",
   "metadata": {},
   "source": [
    "# NEXT\n",
    "\n",
    "- Back to [Table of Contents](#Table-of-Contents)"
   ]
  }
 ],
 "metadata": {
  "kernelspec": {
   "display_name": "sourcenet (Python 3)",
   "language": "python",
   "name": "sourcenet"
  },
  "language_info": {
   "codemirror_mode": {
    "name": "ipython",
    "version": 3
   },
   "file_extension": ".py",
   "mimetype": "text/x-python",
   "name": "python",
   "nbconvert_exporter": "python",
   "pygments_lexer": "ipython3",
   "version": "3.5.2"
  }
 },
 "nbformat": 4,
 "nbformat_minor": 1
}
