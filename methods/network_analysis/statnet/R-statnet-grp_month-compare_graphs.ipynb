{
 "cells": [
  {
   "cell_type": "markdown",
   "metadata": {},
   "source": [
    "**R statnet - grp month - compare graphs**\n",
    "\n",
    "_2017.12.02 - work log - prelim - R - statnet - grp month_"
   ]
  },
  {
   "cell_type": "markdown",
   "metadata": {
    "toc": true
   },
   "source": [
    "<h1>Table of Contents<span class=\"tocSkip\"></span></h1>\n",
    "<div class=\"toc\"><ul class=\"toc-item\"><li><span><a href=\"#R-network-analysis-files\" data-toc-modified-id=\"R-network-analysis-files-1\"><span class=\"toc-item-num\">1&nbsp;&nbsp;</span>R network analysis files</a></span></li><li><span><a href=\"#Setup\" data-toc-modified-id=\"Setup-2\"><span class=\"toc-item-num\">2&nbsp;&nbsp;</span>Setup</a></span><ul class=\"toc-item\"><li><span><a href=\"#Setup----working-directories\" data-toc-modified-id=\"Setup----working-directories-2.1\"><span class=\"toc-item-num\">2.1&nbsp;&nbsp;</span>Setup -  working directories</a></span></li><li><span><a href=\"#Setup---import-SNA-functions\" data-toc-modified-id=\"Setup---import-SNA-functions-2.2\"><span class=\"toc-item-num\">2.2&nbsp;&nbsp;</span>Setup - import SNA functions</a></span></li><li><span><a href=\"#Setup---import-statnet-functions\" data-toc-modified-id=\"Setup---import-statnet-functions-2.3\"><span class=\"toc-item-num\">2.3&nbsp;&nbsp;</span>Setup - import statnet functions</a></span></li><li><span><a href=\"#Setup---network-data---render-and-store-network-data\" data-toc-modified-id=\"Setup---network-data---render-and-store-network-data-2.4\"><span class=\"toc-item-num\">2.4&nbsp;&nbsp;</span>Setup - network data - render and store network data</a></span><ul class=\"toc-item\"><li><span><a href=\"#data---grp_month\" data-toc-modified-id=\"data---grp_month-2.4.1\"><span class=\"toc-item-num\">2.4.1&nbsp;&nbsp;</span>data - grp_month</a></span></li></ul></li><li><span><a href=\"#Setup---load-workspace\" data-toc-modified-id=\"Setup---load-workspace-2.5\"><span class=\"toc-item-num\">2.5&nbsp;&nbsp;</span>Setup - load workspace</a></span></li></ul></li><li><span><a href=\"#Compare-grp_week_1-and-grp_week_2-using-QAP\" data-toc-modified-id=\"Compare-grp_week_1-and-grp_week_2-using-QAP-3\"><span class=\"toc-item-num\">3&nbsp;&nbsp;</span>Compare <code>grp_week_1</code> and <code>grp_week_2</code> using QAP</a></span><ul class=\"toc-item\"><li><span><a href=\"#week_1-to-week_2---automated\" data-toc-modified-id=\"week_1-to-week_2---automated-3.1\"><span class=\"toc-item-num\">3.1&nbsp;&nbsp;</span>week_1-to-week_2 - automated</a></span></li><li><span><a href=\"#week_1-to-week_2---human\" data-toc-modified-id=\"week_1-to-week_2---human-3.2\"><span class=\"toc-item-num\">3.2&nbsp;&nbsp;</span>week_1-to-week_2 - human</a></span></li></ul></li><li><span><a href=\"#Compare-grp_week_1-and-grp_week_3-using-QAP\" data-toc-modified-id=\"Compare-grp_week_1-and-grp_week_3-using-QAP-4\"><span class=\"toc-item-num\">4&nbsp;&nbsp;</span>Compare <code>grp_week_1</code> and <code>grp_week_3</code> using QAP</a></span><ul class=\"toc-item\"><li><span><a href=\"#week_1-to-week_3---automated\" data-toc-modified-id=\"week_1-to-week_3---automated-4.1\"><span class=\"toc-item-num\">4.1&nbsp;&nbsp;</span>week_1-to-week_3 - automated</a></span></li><li><span><a href=\"#week_1-to-week_3---human\" data-toc-modified-id=\"week_1-to-week_3---human-4.2\"><span class=\"toc-item-num\">4.2&nbsp;&nbsp;</span>week_1-to-week_3 - human</a></span></li></ul></li><li><span><a href=\"#Compare-grp_week_2-and-grp_week_3-using-QAP\" data-toc-modified-id=\"Compare-grp_week_2-and-grp_week_3-using-QAP-5\"><span class=\"toc-item-num\">5&nbsp;&nbsp;</span>Compare <code>grp_week_2</code> and <code>grp_week_3</code> using QAP</a></span><ul class=\"toc-item\"><li><span><a href=\"#week_2-to-week_3---automated\" data-toc-modified-id=\"week_2-to-week_3---automated-5.1\"><span class=\"toc-item-num\">5.1&nbsp;&nbsp;</span>week_2-to-week_3 - automated</a></span></li><li><span><a href=\"#week_2-to-week_3---human\" data-toc-modified-id=\"week_2-to-week_3---human-5.2\"><span class=\"toc-item-num\">5.2&nbsp;&nbsp;</span>week_2-to-week_3 - human</a></span></li></ul></li><li><span><a href=\"#Compare-grp_month-and-grp_week_1-using-QAP\" data-toc-modified-id=\"Compare-grp_month-and-grp_week_1-using-QAP-6\"><span class=\"toc-item-num\">6&nbsp;&nbsp;</span>Compare <code>grp_month</code> and <code>grp_week_1</code> using QAP</a></span><ul class=\"toc-item\"><li><span><a href=\"#month-to-week_1---automated\" data-toc-modified-id=\"month-to-week_1---automated-6.1\"><span class=\"toc-item-num\">6.1&nbsp;&nbsp;</span>month-to-week_1 - automated</a></span></li><li><span><a href=\"#month-to-week_1---human\" data-toc-modified-id=\"month-to-week_1---human-6.2\"><span class=\"toc-item-num\">6.2&nbsp;&nbsp;</span>month-to-week_1 - human</a></span></li></ul></li><li><span><a href=\"#Compare-grp_month-and-grp_week_2-using-QAP\" data-toc-modified-id=\"Compare-grp_month-and-grp_week_2-using-QAP-7\"><span class=\"toc-item-num\">7&nbsp;&nbsp;</span>Compare <code>grp_month</code> and <code>grp_week_2</code> using QAP</a></span><ul class=\"toc-item\"><li><span><a href=\"#month-to-week_2---automated\" data-toc-modified-id=\"month-to-week_2---automated-7.1\"><span class=\"toc-item-num\">7.1&nbsp;&nbsp;</span>month-to-week_2 - automated</a></span></li><li><span><a href=\"#month-to-week_2---human\" data-toc-modified-id=\"month-to-week_2---human-7.2\"><span class=\"toc-item-num\">7.2&nbsp;&nbsp;</span>month-to-week_2 - human</a></span></li></ul></li><li><span><a href=\"#Compare-grp_month-and-grp_week_3-using-QAP\" data-toc-modified-id=\"Compare-grp_month-and-grp_week_3-using-QAP-8\"><span class=\"toc-item-num\">8&nbsp;&nbsp;</span>Compare <code>grp_month</code> and <code>grp_week_3</code> using QAP</a></span><ul class=\"toc-item\"><li><span><a href=\"#month-to-week_3---automated\" data-toc-modified-id=\"month-to-week_3---automated-8.1\"><span class=\"toc-item-num\">8.1&nbsp;&nbsp;</span>month-to-week_3 - automated</a></span></li><li><span><a href=\"#month-to-week_3---human\" data-toc-modified-id=\"month-to-week_3---human-8.2\"><span class=\"toc-item-num\">8.2&nbsp;&nbsp;</span>month-to-week_3 - human</a></span></li></ul></li><li><span><a href=\"#Save-workspace-image\" data-toc-modified-id=\"Save-workspace-image-9\"><span class=\"toc-item-num\">9&nbsp;&nbsp;</span>Save workspace image</a></span></li></ul></div>"
   ]
  },
  {
   "cell_type": "markdown",
   "metadata": {},
   "source": [
    "# R network analysis files\n",
    "\n",
    "- Back to [Table of Contents](#Table-of-Contents)\n",
    "\n",
    "Related files:\n",
    "\n",
    "* network descriptives\n",
    "    * network-level\n",
    "        \n",
    "        * files\n",
    "            \n",
    "            * R scripts:\n",
    "                \n",
    "                * `context_text/R/db_connect.r`\n",
    "                * `context_text/R/sna/functions-sna.r`\n",
    "                * `context_text/R/sna/sna-load_data.r`\n",
    "                * `context_text/R/sna/igraph/*`\n",
    "                * `context_text/R/sna/statnet/*`\n",
    "        \n",
    "        * statnet/sna\n",
    "            \n",
    "            * `sna::gden()` - graph density\n",
    "            * R scripts:\n",
    "                \n",
    "                * `context_text/R/sna/statnet/sna-statnet-init.r`\n",
    "                * `context_text/R/sna/statnet/sna-statnet-network-stats.r`\n",
    "                * `context_text/R/sna/statnet/sna-qap.r`\n",
    "        \n",
    "        * igraph\n",
    "            \n",
    "            * `igraph::transitivity()` - vector of transitivity scores for each node in a graph, plus network-level transitivity score.\n",
    "                \n",
    "                * Q - interpretation?\n",
    "                \n",
    "            * R scripts:\n",
    "                \n",
    "                * `context_text/R/sna/statnet/sna-igraph-init.r`\n",
    "                * `context_text/R/sna/statnet/sna-igraph-network-stats.r`\n"
   ]
  },
  {
   "cell_type": "markdown",
   "metadata": {},
   "source": [
    "# Setup\n",
    "\n",
    "- Back to [Table of Contents](#Table-of-Contents)"
   ]
  },
  {
   "cell_type": "markdown",
   "metadata": {},
   "source": [
    "## Setup -  working directories\n",
    "\n",
    "- Back to [Table of Contents](#Table-of-Contents)\n",
    "\n",
    "Store important directories and file names in variables:"
   ]
  },
  {
   "cell_type": "code",
   "execution_count": 1,
   "metadata": {
    "ExecuteTime": {
     "end_time": "2019-07-25T02:28:57.375913Z",
     "start_time": "2019-07-25T02:28:57.304Z"
    }
   },
   "outputs": [
    {
     "data": {
      "text/html": [
       "'/home/jonathanmorgan/work/django/research/work/phd_work/methods/network_analysis/statnet'"
      ],
      "text/latex": [
       "'/home/jonathanmorgan/work/django/research/work/phd\\_work/methods/network\\_analysis/statnet'"
      ],
      "text/markdown": [
       "'/home/jonathanmorgan/work/django/research/work/phd_work/methods/network_analysis/statnet'"
      ],
      "text/plain": [
       "[1] \"/home/jonathanmorgan/work/django/research/work/phd_work/methods/network_analysis/statnet\""
      ]
     },
     "metadata": {},
     "output_type": "display_data"
    }
   ],
   "source": [
    "getwd()"
   ]
  },
  {
   "cell_type": "code",
   "execution_count": 2,
   "metadata": {
    "ExecuteTime": {
     "end_time": "2019-07-25T02:28:58.343456Z",
     "start_time": "2019-07-25T02:28:58.184Z"
    }
   },
   "outputs": [],
   "source": [
    "# code files (in particular SNA and statnet function libraries, modest though they may be)\n",
    "researchDirectory <- \"/home/jonathanmorgan/work/django/research/\"\n",
    "contextAnalysisDirectory <- paste( researchDirectory, \"/\", 'context_analysis', sep = \"\" )\n",
    "codeDirectory <- paste( contextAnalysisDirectory, \"/\", \"R/sna\", sep = \"\" )\n",
    "\n",
    "# basic SNA functions\n",
    "# - /home/jonathanmorgan/work/django/research/context_analysis/R/sna/functions-sna.r\n",
    "#snaFunctionFilePath <- paste( codeDirectory, \"/\", 'functions-sna.r', sep = \"\" )\n",
    "\n",
    "# statnet/sna functions\n",
    "# - /home/jonathanmorgan/work/django/research/context_analysis/R/sna/stanet/functions-statnet.r\n",
    "#statnetFunctionFilePath <- paste( codeDirectory, \"/statnet/\", 'functions-statnet.r', sep = \"\" )\n",
    "\n",
    "# home directory\n",
    "#homeDirectory <- getwd()\n",
    "homeDirectory <- \"/home/jonathanmorgan/work/django/research/work/phd_work/methods\"\n",
    "\n",
    "# data directories\n",
    "dataDirectory <- paste( homeDirectory, \"/data\", sep = \"\" )\n",
    "workspaceFileName <- \"statnet-grp_month.RData\"\n",
    "workspaceFilePath <- paste( dataDirectory, \"/\", workspaceFileName )"
   ]
  },
  {
   "cell_type": "code",
   "execution_count": 3,
   "metadata": {
    "ExecuteTime": {
     "end_time": "2019-07-25T02:28:59.122109Z",
     "start_time": "2019-07-25T02:28:59.075Z"
    }
   },
   "outputs": [
    {
     "data": {
      "text/html": [
       "'/home/jonathanmorgan/work/django/research/work/phd_work/methods/data'"
      ],
      "text/latex": [
       "'/home/jonathanmorgan/work/django/research/work/phd\\_work/methods/data'"
      ],
      "text/markdown": [
       "'/home/jonathanmorgan/work/django/research/work/phd_work/methods/data'"
      ],
      "text/plain": [
       "[1] \"/home/jonathanmorgan/work/django/research/work/phd_work/methods/data\""
      ]
     },
     "metadata": {},
     "output_type": "display_data"
    }
   ],
   "source": [
    "# set working directory to data directory for now.\n",
    "setwd( dataDirectory )\n",
    "getwd()"
   ]
  },
  {
   "cell_type": "markdown",
   "metadata": {},
   "source": [
    "## Setup - import SNA functions\n",
    "\n",
    "- Back to [Table of Contents](#Table-of-Contents)\n",
    "\n",
    "source the file `functions-sna.r`."
   ]
  },
  {
   "cell_type": "code",
   "execution_count": 4,
   "metadata": {
    "ExecuteTime": {
     "end_time": "2019-07-25T02:29:02.780576Z",
     "start_time": "2019-07-25T02:29:02.744Z"
    }
   },
   "outputs": [],
   "source": [
    "# basic SNA functions\n",
    "# - /home/jonathanmorgan/work/django/research/context_analysis/R/sna/functions-sna.r\n",
    "snaFunctionFilePath <- paste( codeDirectory, \"/\", 'functions-sna.r', sep = \"\" )"
   ]
  },
  {
   "cell_type": "code",
   "execution_count": 5,
   "metadata": {
    "ExecuteTime": {
     "end_time": "2019-07-25T02:29:03.583683Z",
     "start_time": "2019-07-25T02:29:03.542Z"
    }
   },
   "outputs": [],
   "source": [
    "source( snaFunctionFilePath )"
   ]
  },
  {
   "cell_type": "markdown",
   "metadata": {},
   "source": [
    "## Setup - import statnet functions\n",
    "\n",
    "- Back to [Table of Contents](#Table-of-Contents)\n",
    "\n",
    "source the file `statnet/functions-statnet.r`.  This file includes:\n",
    "\n",
    "- `compareMatricesQAP()`, used extensively below."
   ]
  },
  {
   "cell_type": "code",
   "execution_count": 6,
   "metadata": {
    "ExecuteTime": {
     "end_time": "2019-07-25T02:29:05.050972Z",
     "start_time": "2019-07-25T02:29:05.011Z"
    }
   },
   "outputs": [],
   "source": [
    "# statnet/sna functions\n",
    "# - /home/jonathanmorgan/work/django/research/context_analysis/R/sna/stanet/functions-statnet.r\n",
    "statnetFunctionFilePath <- paste( codeDirectory, \"/statnet/\", 'functions-statnet.r', sep = \"\" )"
   ]
  },
  {
   "cell_type": "code",
   "execution_count": 7,
   "metadata": {
    "ExecuteTime": {
     "end_time": "2019-07-25T02:29:06.527793Z",
     "start_time": "2019-07-25T02:29:06.350Z"
    }
   },
   "outputs": [
    {
     "name": "stderr",
     "output_type": "stream",
     "text": [
      "Loading required package: statnet.common\n",
      "\n",
      "Attaching package: ‘statnet.common’\n",
      "\n",
      "The following object is masked from ‘package:base’:\n",
      "\n",
      "    order\n",
      "\n",
      "Loading required package: network\n",
      "network: Classes for Relational Data\n",
      "Version 1.13.0.1 created on 2015-08-31.\n",
      "copyright (c) 2005, Carter T. Butts, University of California-Irvine\n",
      "                    Mark S. Handcock, University of California -- Los Angeles\n",
      "                    David R. Hunter, Penn State University\n",
      "                    Martina Morris, University of Washington\n",
      "                    Skye Bender-deMoll, University of Washington\n",
      " For citation information, type citation(\"network\").\n",
      " Type help(\"network-package\") to get started.\n",
      "\n",
      "sna: Tools for Social Network Analysis\n",
      "Version 2.4 created on 2016-07-23.\n",
      "copyright (c) 2005, Carter T. Butts, University of California-Irvine\n",
      " For citation information, type citation(\"sna\").\n",
      " Type help(package=\"sna\") to get started.\n",
      "\n"
     ]
    }
   ],
   "source": [
    "source( statnetFunctionFilePath )"
   ]
  },
  {
   "cell_type": "markdown",
   "metadata": {},
   "source": [
    "## Setup - network data - render and store network data\n",
    "\n",
    "- Back to [Table of Contents](#Table-of-Contents)\n",
    "\n",
    "First, need render to render network data and upload it to your server.\n",
    "\n",
    "Directions for rendering network data are in [2017.11.14-work_log-prelim-network_analysis.ipynb](2017.11.14-work_log-prelim-network_analysis.ipynb).  You want a tab-delimited matrix that includes both the network and attributes of nodes as columns, and you want it to include a header row.\n",
    "\n",
    "Once you render your network data files, you should place them on the server.\n",
    "\n",
    "High level data file layout:\n",
    "\n",
    "- tab-delimited.\n",
    "- first row and first column are labels\n",
    "- last 2 columns are traits of nodes (`person_id` and `person_type`)\n",
    "- each row and column after first until the trait columns represents a person found in one of the articles.\n",
    "- The people are in the same order from top to bottom and left to right.\n",
    "- Where the row and column of two people meet, and one of the people is an author, the nunber in the cell where they meet is the number of times the non-author was quoted in an article by the author.  Does not include more basic two-mode co-location ties (appeared in same article, even if not an author and/or not quoted).\n",
    "\n",
    "Files and their location on server:"
   ]
  },
  {
   "cell_type": "markdown",
   "metadata": {},
   "source": [
    "### data - grp_month\n",
    "\n",
    "- Back to [Table of Contents](#Table-of-Contents)\n",
    "\n",
    "This is data from the Grand Rapids Press articles from December of 2009, coded by both humans and OpenCalais.\n",
    "\n",
    "Files:\n",
    "\n",
    "- automated full month - `sourcenet_data-20171205-022551-grp_month-automated.tab`\n",
    "- human full month - `sourcenet_data-20171115-043102-grp_month-human.tab`\n",
    "- automated week 1 subset - `sourcenet_data-20171206-031358-grp_month-automated-week1_subset.tab`\n",
    "- human week 1 subset - `sourcenet_data-20171206-031319-grp_month-human-week1_subset.tab`\n",
    "- automated week 2 subset - `sourcenet_data-20180326-040445-grp_month-automated-week2_subset.tab`\n",
    "- human week 2 subset - `sourcenet_data-20180326-034401-grp_month-human-week2_subset.tab`\n",
    "- automated week 3 subset - `sourcenet_data-20180326-040736-grp_month-automated-week3_subset.tab`\n",
    "- human week 3 subset - `sourcenet_data-20180326-034548-grp_month-human-week3_subset.tab`\n",
    "\n",
    "Location in Dropbox: `Dropbox/academia/MSU/program_stuff/prelim_paper/data/network_analysis/2017.11.14/network/new_coders/grp_month`\n",
    "\n",
    "Location on server: `/home/jonathanmorgan/work/django/research/work/phd_work/data/network/grp_month`"
   ]
  },
  {
   "cell_type": "markdown",
   "metadata": {},
   "source": [
    "## Setup - load workspace\n",
    "\n",
    "- Back to [Table of Contents](#Table-of-Contents)\n",
    "\n",
    "You must load this file's workspace, from a previous run:"
   ]
  },
  {
   "cell_type": "code",
   "execution_count": 8,
   "metadata": {
    "ExecuteTime": {
     "end_time": "2019-07-25T02:29:12.546503Z",
     "start_time": "2019-07-25T02:29:11.268Z"
    }
   },
   "outputs": [],
   "source": [
    "# assumes that you've already set working directory above to the\n",
    "#     working directory.\n",
    "setwd( dataDirectory )\n",
    "load( workspaceFileName )"
   ]
  },
  {
   "cell_type": "markdown",
   "metadata": {},
   "source": [
    "# Compare `grp_week_1` and `grp_week_2` using QAP\n",
    "\n",
    "- Back to [Table of Contents](#Table-of-Contents)\n",
    "\n",
    "Now, compare the automated and human-coded networks from a week 1 and week 2 to each other, to look at similarity of weeks over time (I'd expect it to be small).\n",
    "\n",
    "Based on: `context_text/R/sna/statnet/sna-qap.r`"
   ]
  },
  {
   "cell_type": "markdown",
   "metadata": {},
   "source": [
    "## week_1-to-week_2 - automated\n",
    "\n",
    "- Back to [Table of Contents](#Table-of-Contents)"
   ]
  },
  {
   "cell_type": "code",
   "execution_count": 9,
   "metadata": {
    "ExecuteTime": {
     "end_time": "2019-07-25T02:29:15.959298Z",
     "start_time": "2019-07-25T02:29:15.924Z"
    }
   },
   "outputs": [],
   "source": [
    "outputPrefix <- \"week_1-to-week_2 automated\""
   ]
  },
  {
   "cell_type": "code",
   "execution_count": 10,
   "metadata": {
    "ExecuteTime": {
     "end_time": "2019-07-25T02:38:43.793084Z",
     "start_time": "2019-07-25T02:29:17.219Z"
    }
   },
   "outputs": [
    {
     "name": "stderr",
     "output_type": "stream",
     "text": [
      "==> Start of  compareMatricesQAP  at  2019-07-25 02:29:17\n",
      "----> week_1-to-week_2 automated graph correlation = 0.0425015271684107 ( @ 2019-07-25 02:29:17 )\n",
      "----> week_1-to-week_2 automated QAP correlation analysis complete at 2019-07-25 02:32:51.  Summary:\n"
     ]
    },
    {
     "name": "stdout",
     "output_type": "stream",
     "text": [
      "\n",
      "QAP Test Results\n",
      "\n",
      "Estimated p-values:\n",
      "\tp(f(perm) >= f(d)): 0 \n",
      "\tp(f(perm) <= f(d)): 1 \n",
      "\n",
      "Test Diagnostics:\n",
      "\tTest Value (f(d)): 0.04250153 \n",
      "\tReplications: 1000 \n",
      "\tDistribution Summary:\n",
      "\t\tMin:\t -0.0004175996 \n",
      "\t\t1stQ:\t -0.0004175996 \n",
      "\t\tMed:\t -0.0004175996 \n",
      "\t\tMean:\t 4.224818e-05 \n",
      "\t\t3rdQ:\t -0.0004175996 \n",
      "\t\tMax:\t 0.01184501 \n",
      "\n"
     ]
    },
    {
     "name": "stderr",
     "output_type": "stream",
     "text": [
      "\n",
      "----> week_1-to-week_2 automated graph covariance = 2.0377110575524e-05 ( @ 2019-07-25 02:32:51 )\n",
      "----> week_1-to-week_2 automated QAP covariance analysis complete at 2019-07-25 02:35:57.  Summary:\n"
     ]
    },
    {
     "name": "stdout",
     "output_type": "stream",
     "text": [
      "\n",
      "QAP Test Results\n",
      "\n",
      "Estimated p-values:\n",
      "\tp(f(perm) >= f(d)): 0 \n",
      "\tp(f(perm) <= f(d)): 1 \n",
      "\n",
      "Test Diagnostics:\n",
      "\tTest Value (f(d)): 2.037711e-05 \n",
      "\tReplications: 1000 \n",
      "\tDistribution Summary:\n",
      "\t\tMin:\t -2.002157e-07 \n",
      "\t\t1stQ:\t -2.002157e-07 \n",
      "\t\tMed:\t -2.002157e-07 \n",
      "\t\tMean:\t 1.731603e-08 \n",
      "\t\t3rdQ:\t -2.002157e-07 \n",
      "\t\tMax:\t 4.209211e-06 \n",
      "\n"
     ]
    },
    {
     "name": "stderr",
     "output_type": "stream",
     "text": [
      "\n",
      "----> week_1-to-week_2 automated graph hamming distance = 1186 ( @ 2019-07-25 02:35:57 )\n",
      "----> week_1-to-week_2 automated QAP hamming distance analysis complete at 2019-07-25 02:38:43.  Summary:\n"
     ]
    },
    {
     "name": "stdout",
     "output_type": "stream",
     "text": [
      "\n",
      "QAP Test Results\n",
      "\n",
      "Estimated p-values:\n",
      "\tp(f(perm) >= f(d)): 1 \n",
      "\tp(f(perm) <= f(d)): 0 \n",
      "\n",
      "Test Diagnostics:\n",
      "\tTest Value (f(d)): 1186 \n",
      "\tReplications: 1000 \n",
      "\tDistribution Summary:\n",
      "\t\tMin:\t 1206 \n",
      "\t\t1stQ:\t 1218 \n",
      "\t\tMed:\t 1218 \n",
      "\t\tMean:\t 1217.428 \n",
      "\t\t3rdQ:\t 1218 \n",
      "\t\tMax:\t 1218 \n",
      "\n"
     ]
    },
    {
     "name": "stderr",
     "output_type": "stream",
     "text": [
      "\n",
      "==> End of  compareMatricesQAP  at  2019-07-25 02:38:43\n"
     ]
    }
   ],
   "source": [
    "w1w2aOutput <- compareMatricesQAP( gw1AutomatedNetworkMatrix, gw2AutomatedNetworkMatrix, outputPrefix )"
   ]
  },
  {
   "cell_type": "code",
   "execution_count": null,
   "metadata": {},
   "outputs": [],
   "source": [
    "# also output plots of distributions of QAP values?\n",
    "displayCompareMatricesQAPOutput( w1w2aOutput, outputPrefix, TRUE )"
   ]
  },
  {
   "cell_type": "markdown",
   "metadata": {},
   "source": [
    "## week_1-to-week_2 - human\n",
    "\n",
    "- Back to [Table of Contents](#Table-of-Contents)"
   ]
  },
  {
   "cell_type": "code",
   "execution_count": 11,
   "metadata": {
    "ExecuteTime": {
     "end_time": "2019-07-25T02:38:43.812003Z",
     "start_time": "2019-07-25T02:29:19.562Z"
    }
   },
   "outputs": [],
   "source": [
    "outputPrefix <- \"week_1-to-week_2 human\""
   ]
  },
  {
   "cell_type": "code",
   "execution_count": 12,
   "metadata": {
    "ExecuteTime": {
     "end_time": "2019-07-25T02:47:34.153936Z",
     "start_time": "2019-07-25T02:29:20.293Z"
    }
   },
   "outputs": [
    {
     "name": "stderr",
     "output_type": "stream",
     "text": [
      "==> Start of  compareMatricesQAP  at  2019-07-25 02:38:43\n",
      "----> week_1-to-week_2 human graph correlation = 0.0391487901001977 ( @ 2019-07-25 02:38:44 )\n",
      "----> week_1-to-week_2 human QAP correlation analysis complete at 2019-07-25 02:41:50.  Summary:\n"
     ]
    },
    {
     "name": "stdout",
     "output_type": "stream",
     "text": [
      "\n",
      "QAP Test Results\n",
      "\n",
      "Estimated p-values:\n",
      "\tp(f(perm) >= f(d)): 0 \n",
      "\tp(f(perm) <= f(d)): 1 \n",
      "\n",
      "Test Diagnostics:\n",
      "\tTest Value (f(d)): 0.03914879 \n",
      "\tReplications: 1000 \n",
      "\tDistribution Summary:\n",
      "\t\tMin:\t -0.000447151 \n",
      "\t\t1stQ:\t -0.000447151 \n",
      "\t\tMed:\t -0.000447151 \n",
      "\t\tMean:\t -5.967643e-05 \n",
      "\t\t3rdQ:\t -0.000447151 \n",
      "\t\tMax:\t 0.008037694 \n",
      "\n"
     ]
    },
    {
     "name": "stderr",
     "output_type": "stream",
     "text": [
      "\n",
      "----> week_1-to-week_2 human graph covariance = 2.03449496390699e-05 ( @ 2019-07-25 02:41:51 )\n",
      "----> week_1-to-week_2 human QAP covariance analysis complete at 2019-07-25 02:44:51.  Summary:\n"
     ]
    },
    {
     "name": "stdout",
     "output_type": "stream",
     "text": [
      "\n",
      "QAP Test Results\n",
      "\n",
      "Estimated p-values:\n",
      "\tp(f(perm) >= f(d)): 0 \n",
      "\tp(f(perm) <= f(d)): 1 \n",
      "\n",
      "Test Diagnostics:\n",
      "\tTest Value (f(d)): 2.034495e-05 \n",
      "\tReplications: 1000 \n",
      "\tDistribution Summary:\n",
      "\t\tMin:\t -2.323766e-07 \n",
      "\t\t1stQ:\t -2.323766e-07 \n",
      "\t\tMed:\t -2.323766e-07 \n",
      "\t\tMean:\t -1.925434e-08 \n",
      "\t\t3rdQ:\t -2.323766e-07 \n",
      "\t\tMax:\t 4.17705e-06 \n",
      "\n"
     ]
    },
    {
     "name": "stderr",
     "output_type": "stream",
     "text": [
      "\n",
      "----> week_1-to-week_2 human graph hamming distance = 1280 ( @ 2019-07-25 02:44:51 )\n",
      "----> week_1-to-week_2 human QAP hamming distance analysis complete at 2019-07-25 02:47:34.  Summary:\n"
     ]
    },
    {
     "name": "stdout",
     "output_type": "stream",
     "text": [
      "\n",
      "QAP Test Results\n",
      "\n",
      "Estimated p-values:\n",
      "\tp(f(perm) >= f(d)): 1 \n",
      "\tp(f(perm) <= f(d)): 0 \n",
      "\n",
      "Test Diagnostics:\n",
      "\tTest Value (f(d)): 1280 \n",
      "\tReplications: 1000 \n",
      "\tDistribution Summary:\n",
      "\t\tMin:\t 1296 \n",
      "\t\t1stQ:\t 1316 \n",
      "\t\tMed:\t 1316 \n",
      "\t\tMean:\t 1315.432 \n",
      "\t\t3rdQ:\t 1316 \n",
      "\t\tMax:\t 1316 \n",
      "\n"
     ]
    },
    {
     "name": "stderr",
     "output_type": "stream",
     "text": [
      "\n",
      "==> End of  compareMatricesQAP  at  2019-07-25 02:47:34\n"
     ]
    }
   ],
   "source": [
    "w1w2hOutput <- compareMatricesQAP( gw1HumanNetworkMatrix, gw2HumanNetworkMatrix, outputPrefix )"
   ]
  },
  {
   "cell_type": "code",
   "execution_count": null,
   "metadata": {},
   "outputs": [],
   "source": [
    "# also output plots of distributions of QAP values?\n",
    "displayCompareMatricesQAPOutput( w1w2hOutput, outputPrefix, TRUE )"
   ]
  },
  {
   "cell_type": "markdown",
   "metadata": {},
   "source": [
    "# Compare `grp_week_1` and `grp_week_3` using QAP\n",
    "\n",
    "- Back to [Table of Contents](#Table-of-Contents)\n",
    "\n",
    "Now, compare the automated and human-coded networks from a week 1 and week 3 to each other, to look at similarity of weeks over time (I'd expect it to be small).\n",
    "\n",
    "Based on: `context_text/R/sna/statnet/sna-qap.r`"
   ]
  },
  {
   "cell_type": "markdown",
   "metadata": {},
   "source": [
    "## week_1-to-week_3 - automated\n",
    "\n",
    "- Back to [Table of Contents](#Table-of-Contents)"
   ]
  },
  {
   "cell_type": "code",
   "execution_count": 13,
   "metadata": {
    "ExecuteTime": {
     "end_time": "2019-07-25T02:47:34.166940Z",
     "start_time": "2019-07-25T02:29:22.949Z"
    }
   },
   "outputs": [],
   "source": [
    "outputPrefix <- \"week_1-to-week_3 automated\""
   ]
  },
  {
   "cell_type": "code",
   "execution_count": 14,
   "metadata": {
    "ExecuteTime": {
     "end_time": "2019-07-25T02:56:35.302421Z",
     "start_time": "2019-07-25T02:29:23.641Z"
    }
   },
   "outputs": [
    {
     "name": "stderr",
     "output_type": "stream",
     "text": [
      "==> Start of  compareMatricesQAP  at  2019-07-25 02:47:34\n",
      "----> week_1-to-week_3 automated graph correlation = 0.0262884654712309 ( @ 2019-07-25 02:47:34 )\n",
      "----> week_1-to-week_3 automated QAP correlation analysis complete at 2019-07-25 02:50:44.  Summary:\n"
     ]
    },
    {
     "name": "stdout",
     "output_type": "stream",
     "text": [
      "\n",
      "QAP Test Results\n",
      "\n",
      "Estimated p-values:\n",
      "\tp(f(perm) >= f(d)): 0 \n",
      "\tp(f(perm) <= f(d)): 1 \n",
      "\n",
      "Test Diagnostics:\n",
      "\tTest Value (f(d)): 0.02628847 \n",
      "\tReplications: 1000 \n",
      "\tDistribution Summary:\n",
      "\t\tMin:\t -0.0003917907 \n",
      "\t\t1stQ:\t -0.0003917907 \n",
      "\t\tMed:\t -0.0003917907 \n",
      "\t\tMean:\t 5.176857e-05 \n",
      "\t\t3rdQ:\t -0.0003917907 \n",
      "\t\tMax:\t 0.009613305 \n",
      "\n"
     ]
    },
    {
     "name": "stderr",
     "output_type": "stream",
     "text": [
      "\n",
      "----> week_1-to-week_3 automated graph covariance = 1.1585802910022e-05 ( @ 2019-07-25 02:50:44 )\n",
      "----> week_1-to-week_3 automated QAP covariance analysis complete at 2019-07-25 02:53:48.  Summary:\n"
     ]
    },
    {
     "name": "stdout",
     "output_type": "stream",
     "text": [
      "\n",
      "QAP Test Results\n",
      "\n",
      "Estimated p-values:\n",
      "\tp(f(perm) >= f(d)): 0 \n",
      "\tp(f(perm) <= f(d)): 1 \n",
      "\n",
      "Test Diagnostics:\n",
      "\tTest Value (f(d)): 1.15858e-05 \n",
      "\tReplications: 1000 \n",
      "\tDistribution Summary:\n",
      "\t\tMin:\t -1.726693e-07 \n",
      "\t\t1stQ:\t -1.726693e-07 \n",
      "\t\tMed:\t -1.726693e-07 \n",
      "\t\tMean:\t -7.015975e-10 \n",
      "\t\t3rdQ:\t -1.726693e-07 \n",
      "\t\tMax:\t 4.236758e-06 \n",
      "\n"
     ]
    },
    {
     "name": "stderr",
     "output_type": "stream",
     "text": [
      "\n",
      "----> week_1-to-week_3 automated graph hamming distance = 1112 ( @ 2019-07-25 02:53:48 )\n",
      "----> week_1-to-week_3 automated QAP hamming distance analysis complete at 2019-07-25 02:56:35.  Summary:\n"
     ]
    },
    {
     "name": "stdout",
     "output_type": "stream",
     "text": [
      "\n",
      "QAP Test Results\n",
      "\n",
      "Estimated p-values:\n",
      "\tp(f(perm) >= f(d)): 1 \n",
      "\tp(f(perm) <= f(d)): 0 \n",
      "\n",
      "Test Diagnostics:\n",
      "\tTest Value (f(d)): 1112 \n",
      "\tReplications: 1000 \n",
      "\tDistribution Summary:\n",
      "\t\tMin:\t 1124 \n",
      "\t\t1stQ:\t 1136 \n",
      "\t\tMed:\t 1136 \n",
      "\t\tMean:\t 1135.592 \n",
      "\t\t3rdQ:\t 1136 \n",
      "\t\tMax:\t 1136 \n",
      "\n"
     ]
    },
    {
     "name": "stderr",
     "output_type": "stream",
     "text": [
      "\n",
      "==> End of  compareMatricesQAP  at  2019-07-25 02:56:35\n"
     ]
    }
   ],
   "source": [
    "w1w3aOutput <- compareMatricesQAP( gw1AutomatedNetworkMatrix, gw3AutomatedNetworkMatrix, outputPrefix )"
   ]
  },
  {
   "cell_type": "code",
   "execution_count": null,
   "metadata": {},
   "outputs": [],
   "source": [
    "# also output plots of distributions of QAP values?\n",
    "displayCompareMatricesQAPOutput( w1w3aOutput, outputPrefix, TRUE )"
   ]
  },
  {
   "cell_type": "markdown",
   "metadata": {},
   "source": [
    "## week_1-to-week_3 - human\n",
    "\n",
    "- Back to [Table of Contents](#Table-of-Contents)"
   ]
  },
  {
   "cell_type": "code",
   "execution_count": 15,
   "metadata": {
    "ExecuteTime": {
     "end_time": "2019-07-25T02:56:35.315660Z",
     "start_time": "2019-07-25T02:29:29.216Z"
    }
   },
   "outputs": [],
   "source": [
    "outputPrefix <- \"week_1-to-week_3 human\""
   ]
  },
  {
   "cell_type": "code",
   "execution_count": 16,
   "metadata": {
    "ExecuteTime": {
     "end_time": "2019-07-25T03:06:55.306503Z",
     "start_time": "2019-07-25T02:29:29.920Z"
    }
   },
   "outputs": [
    {
     "name": "stderr",
     "output_type": "stream",
     "text": [
      "==> Start of  compareMatricesQAP  at  2019-07-25 02:56:35\n",
      "----> week_1-to-week_3 human graph correlation = 0.0269444521618076 ( @ 2019-07-25 02:56:35 )\n",
      "----> week_1-to-week_3 human QAP correlation analysis complete at 2019-07-25 03:00:23.  Summary:\n"
     ]
    },
    {
     "name": "stdout",
     "output_type": "stream",
     "text": [
      "\n",
      "QAP Test Results\n",
      "\n",
      "Estimated p-values:\n",
      "\tp(f(perm) >= f(d)): 0 \n",
      "\tp(f(perm) <= f(d)): 1 \n",
      "\n",
      "Test Diagnostics:\n",
      "\tTest Value (f(d)): 0.02694445 \n",
      "\tReplications: 1000 \n",
      "\tDistribution Summary:\n",
      "\t\tMin:\t -0.0004300933 \n",
      "\t\t1stQ:\t -0.0004300933 \n",
      "\t\tMed:\t -0.0004300933 \n",
      "\t\tMean:\t 1.816231e-06 \n",
      "\t\t3rdQ:\t -0.0004300933 \n",
      "\t\tMax:\t 0.01173637 \n",
      "\n"
     ]
    },
    {
     "name": "stderr",
     "output_type": "stream",
     "text": [
      "\n",
      "----> week_1-to-week_3 human graph covariance = 1.30204459652099e-05 ( @ 2019-07-25 03:00:23 )\n",
      "----> week_1-to-week_3 human QAP covariance analysis complete at 2019-07-25 03:03:54.  Summary:\n"
     ]
    },
    {
     "name": "stdout",
     "output_type": "stream",
     "text": [
      "\n",
      "QAP Test Results\n",
      "\n",
      "Estimated p-values:\n",
      "\tp(f(perm) >= f(d)): 0 \n",
      "\tp(f(perm) <= f(d)): 1 \n",
      "\n",
      "Test Diagnostics:\n",
      "\tTest Value (f(d)): 1.302045e-05 \n",
      "\tReplications: 1000 \n",
      "\tDistribution Summary:\n",
      "\t\tMin:\t -2.078352e-07 \n",
      "\t\t1stQ:\t -2.078352e-07 \n",
      "\t\tMed:\t -2.078352e-07 \n",
      "\t\tMean:\t 1.116633e-08 \n",
      "\t\t3rdQ:\t -2.078352e-07 \n",
      "\t\tMax:\t 5.671401e-06 \n",
      "\n"
     ]
    },
    {
     "name": "stderr",
     "output_type": "stream",
     "text": [
      "\n",
      "----> week_1-to-week_3 human graph hamming distance = 1224 ( @ 2019-07-25 03:03:54 )\n",
      "----> week_1-to-week_3 human QAP hamming distance analysis complete at 2019-07-25 03:06:55.  Summary:\n"
     ]
    },
    {
     "name": "stdout",
     "output_type": "stream",
     "text": [
      "\n",
      "QAP Test Results\n",
      "\n",
      "Estimated p-values:\n",
      "\tp(f(perm) >= f(d)): 1 \n",
      "\tp(f(perm) <= f(d)): 0 \n",
      "\n",
      "Test Diagnostics:\n",
      "\tTest Value (f(d)): 1224 \n",
      "\tReplications: 1000 \n",
      "\tDistribution Summary:\n",
      "\t\tMin:\t 1240 \n",
      "\t\t1stQ:\t 1252 \n",
      "\t\tMed:\t 1252 \n",
      "\t\tMean:\t 1251.468 \n",
      "\t\t3rdQ:\t 1252 \n",
      "\t\tMax:\t 1252 \n",
      "\n"
     ]
    },
    {
     "name": "stderr",
     "output_type": "stream",
     "text": [
      "\n",
      "==> End of  compareMatricesQAP  at  2019-07-25 03:06:55\n"
     ]
    }
   ],
   "source": [
    "w1w3hOutput <- compareMatricesQAP( gw1HumanNetworkMatrix, gw3HumanNetworkMatrix, outputPrefix )"
   ]
  },
  {
   "cell_type": "code",
   "execution_count": null,
   "metadata": {},
   "outputs": [],
   "source": [
    "# also output plots of distributions of QAP values?\n",
    "displayCompareMatricesQAPOutput( w1w3hOutput, outputPrefix, TRUE )"
   ]
  },
  {
   "cell_type": "markdown",
   "metadata": {},
   "source": [
    "# Compare `grp_week_2` and `grp_week_3` using QAP\n",
    "\n",
    "- Back to [Table of Contents](#Table-of-Contents)\n",
    "\n",
    "Now, compare the automated and human-coded networks from a week 2 and week 3 to each other, to look at similarity of weeks over time (I'd expect it to be small).\n",
    "\n",
    "Based on: `context_text/R/sna/statnet/sna-qap.r`"
   ]
  },
  {
   "cell_type": "markdown",
   "metadata": {},
   "source": [
    "## week_2-to-week_3 - automated\n",
    "\n",
    "- Back to [Table of Contents](#Table-of-Contents)"
   ]
  },
  {
   "cell_type": "code",
   "execution_count": 17,
   "metadata": {
    "ExecuteTime": {
     "end_time": "2019-07-25T03:06:55.324420Z",
     "start_time": "2019-07-25T02:29:36.870Z"
    }
   },
   "outputs": [],
   "source": [
    "outputPrefix <- \"week_2-to-week_3 automated\""
   ]
  },
  {
   "cell_type": "code",
   "execution_count": 18,
   "metadata": {
    "ExecuteTime": {
     "end_time": "2019-07-25T03:15:49.672059Z",
     "start_time": "2019-07-25T02:29:38.131Z"
    }
   },
   "outputs": [
    {
     "name": "stderr",
     "output_type": "stream",
     "text": [
      "==> Start of  compareMatricesQAP  at  2019-07-25 03:06:55\n",
      "----> week_2-to-week_3 automated graph correlation = 0.0237206678784088 ( @ 2019-07-25 03:06:55 )\n",
      "----> week_2-to-week_3 automated QAP correlation analysis complete at 2019-07-25 03:10:05.  Summary:\n"
     ]
    },
    {
     "name": "stdout",
     "output_type": "stream",
     "text": [
      "\n",
      "QAP Test Results\n",
      "\n",
      "Estimated p-values:\n",
      "\tp(f(perm) >= f(d)): 0 \n",
      "\tp(f(perm) <= f(d)): 1 \n",
      "\n",
      "Test Diagnostics:\n",
      "\tTest Value (f(d)): 0.02372067 \n",
      "\tReplications: 1000 \n",
      "\tDistribution Summary:\n",
      "\t\tMin:\t -0.0003876854 \n",
      "\t\t1stQ:\t -0.0003876854 \n",
      "\t\tMed:\t -0.0003876854 \n",
      "\t\tMean:\t -1.917203e-05 \n",
      "\t\t3rdQ:\t -0.0003876854 \n",
      "\t\tMax:\t 0.006500416 \n",
      "\n"
     ]
    },
    {
     "name": "stderr",
     "output_type": "stream",
     "text": [
      "\n",
      "----> week_2-to-week_3 automated graph covariance = 1.01232115754695e-05 ( @ 2019-07-25 03:10:05 )\n",
      "----> week_2-to-week_3 automated QAP covariance analysis complete at 2019-07-25 03:13:06.  Summary:\n"
     ]
    },
    {
     "name": "stdout",
     "output_type": "stream",
     "text": [
      "\n",
      "QAP Test Results\n",
      "\n",
      "Estimated p-values:\n",
      "\tp(f(perm) >= f(d)): 0 \n",
      "\tp(f(perm) <= f(d)): 1 \n",
      "\n",
      "Test Diagnostics:\n",
      "\tTest Value (f(d)): 1.012321e-05 \n",
      "\tReplications: 1000 \n",
      "\tDistribution Summary:\n",
      "\t\tMin:\t -1.654516e-07 \n",
      "\t\t1stQ:\t -1.654516e-07 \n",
      "\t\tMed:\t -1.654516e-07 \n",
      "\t\tMean:\t 1.974437e-08 \n",
      "\t\t3rdQ:\t -1.654516e-07 \n",
      "\t\tMax:\t 5.713785e-06 \n",
      "\n"
     ]
    },
    {
     "name": "stderr",
     "output_type": "stream",
     "text": [
      "\n",
      "----> week_2-to-week_3 automated graph hamming distance = 1082 ( @ 2019-07-25 03:13:06 )\n",
      "----> week_2-to-week_3 automated QAP hamming distance analysis complete at 2019-07-25 03:15:49.  Summary:\n"
     ]
    },
    {
     "name": "stdout",
     "output_type": "stream",
     "text": [
      "\n",
      "QAP Test Results\n",
      "\n",
      "Estimated p-values:\n",
      "\tp(f(perm) >= f(d)): 1 \n",
      "\tp(f(perm) <= f(d)): 0 \n",
      "\n",
      "Test Diagnostics:\n",
      "\tTest Value (f(d)): 1082 \n",
      "\tReplications: 1000 \n",
      "\tDistribution Summary:\n",
      "\t\tMin:\t 1102 \n",
      "\t\t1stQ:\t 1110 \n",
      "\t\tMed:\t 1110 \n",
      "\t\tMean:\t 1109.532 \n",
      "\t\t3rdQ:\t 1110 \n",
      "\t\tMax:\t 1110 \n",
      "\n"
     ]
    },
    {
     "name": "stderr",
     "output_type": "stream",
     "text": [
      "\n",
      "==> End of  compareMatricesQAP  at  2019-07-25 03:15:49\n"
     ]
    }
   ],
   "source": [
    "w2w3aOutput <- compareMatricesQAP( gw2AutomatedNetworkMatrix, gw3AutomatedNetworkMatrix, outputPrefix )"
   ]
  },
  {
   "cell_type": "code",
   "execution_count": null,
   "metadata": {},
   "outputs": [],
   "source": [
    "# also output plots of distributions of QAP values?\n",
    "displayCompareMatricesQAPOutput( w2w3aOutput, outputPrefix, TRUE )"
   ]
  },
  {
   "cell_type": "markdown",
   "metadata": {},
   "source": [
    "## week_2-to-week_3 - human\n",
    "\n",
    "- Back to [Table of Contents](#Table-of-Contents)"
   ]
  },
  {
   "cell_type": "code",
   "execution_count": 19,
   "metadata": {
    "ExecuteTime": {
     "end_time": "2019-07-25T03:15:49.687140Z",
     "start_time": "2019-07-25T02:29:43.881Z"
    }
   },
   "outputs": [],
   "source": [
    "outputPrefix <- \"week_2-to-week_3 human\""
   ]
  },
  {
   "cell_type": "code",
   "execution_count": 20,
   "metadata": {
    "ExecuteTime": {
     "end_time": "2019-07-25T03:25:29.789311Z",
     "start_time": "2019-07-25T02:29:44.636Z"
    }
   },
   "outputs": [
    {
     "name": "stderr",
     "output_type": "stream",
     "text": [
      "==> Start of  compareMatricesQAP  at  2019-07-25 03:15:49\n",
      "----> week_2-to-week_3 human graph correlation = 0.0293939514488537 ( @ 2019-07-25 03:15:49 )\n",
      "----> week_2-to-week_3 human QAP correlation analysis complete at 2019-07-25 03:18:57.  Summary:\n"
     ]
    },
    {
     "name": "stdout",
     "output_type": "stream",
     "text": [
      "\n",
      "QAP Test Results\n",
      "\n",
      "Estimated p-values:\n",
      "\tp(f(perm) >= f(d)): 0 \n",
      "\tp(f(perm) <= f(d)): 1 \n",
      "\n",
      "Test Diagnostics:\n",
      "\tTest Value (f(d)): 0.02939395 \n",
      "\tReplications: 1000 \n",
      "\tDistribution Summary:\n",
      "\t\tMin:\t -0.0003995317 \n",
      "\t\t1stQ:\t -0.0003995317 \n",
      "\t\tMed:\t -0.0003995317 \n",
      "\t\tMean:\t -2.214761e-05 \n",
      "\t\t3rdQ:\t -0.0003995317 \n",
      "\t\tMax:\t 0.009531629 \n",
      "\n"
     ]
    },
    {
     "name": "stderr",
     "output_type": "stream",
     "text": [
      "\n",
      "----> week_2-to-week_3 human graph covariance = 1.30508894337734e-05 ( @ 2019-07-25 03:18:57 )\n",
      "----> week_2-to-week_3 human QAP covariance analysis complete at 2019-07-25 03:22:31.  Summary:\n"
     ]
    },
    {
     "name": "stdout",
     "output_type": "stream",
     "text": [
      "\n",
      "QAP Test Results\n",
      "\n",
      "Estimated p-values:\n",
      "\tp(f(perm) >= f(d)): 0 \n",
      "\tp(f(perm) <= f(d)): 1 \n",
      "\n",
      "Test Diagnostics:\n",
      "\tTest Value (f(d)): 1.305089e-05 \n",
      "\tReplications: 1000 \n",
      "\tDistribution Summary:\n",
      "\t\tMin:\t -1.773917e-07 \n",
      "\t\t1stQ:\t -1.773917e-07 \n",
      "\t\tMed:\t -1.773917e-07 \n",
      "\t\tMean:\t -8.363712e-09 \n",
      "\t\t3rdQ:\t -1.773917e-07 \n",
      "\t\tMax:\t 5.701844e-06 \n",
      "\n"
     ]
    },
    {
     "name": "stderr",
     "output_type": "stream",
     "text": [
      "\n",
      "----> week_2-to-week_3 human graph hamming distance = 1116 ( @ 2019-07-25 03:22:31 )\n",
      "----> week_2-to-week_3 human QAP hamming distance analysis complete at 2019-07-25 03:25:29.  Summary:\n"
     ]
    },
    {
     "name": "stdout",
     "output_type": "stream",
     "text": [
      "\n",
      "QAP Test Results\n",
      "\n",
      "Estimated p-values:\n",
      "\tp(f(perm) >= f(d)): 1 \n",
      "\tp(f(perm) <= f(d)): 0 \n",
      "\n",
      "Test Diagnostics:\n",
      "\tTest Value (f(d)): 1116 \n",
      "\tReplications: 1000 \n",
      "\tDistribution Summary:\n",
      "\t\tMin:\t 1136 \n",
      "\t\t1stQ:\t 1148 \n",
      "\t\tMed:\t 1148 \n",
      "\t\tMean:\t 1147.532 \n",
      "\t\t3rdQ:\t 1148 \n",
      "\t\tMax:\t 1148 \n",
      "\n"
     ]
    },
    {
     "name": "stderr",
     "output_type": "stream",
     "text": [
      "\n",
      "==> End of  compareMatricesQAP  at  2019-07-25 03:25:29\n"
     ]
    }
   ],
   "source": [
    "w2w3hOutput <- compareMatricesQAP( gw2HumanNetworkMatrix, gw3HumanNetworkMatrix, outputPrefix )"
   ]
  },
  {
   "cell_type": "code",
   "execution_count": null,
   "metadata": {},
   "outputs": [],
   "source": [
    "# also output plots of distributions of QAP values?\n",
    "displayCompareMatricesQAPOutput( w2w3hOutput, outputPrefix, TRUE )"
   ]
  },
  {
   "cell_type": "markdown",
   "metadata": {},
   "source": [
    "# Compare `grp_month` and `grp_week_1` using QAP\n",
    "\n",
    "- Back to [Table of Contents](#Table-of-Contents)\n",
    "\n",
    "Now, compare the automated and human-coded networks from the full month and week 1 against each other, to see what more time gets you.\n",
    "\n",
    "Based on: `context_text/R/sna/statnet/sna-qap.r`"
   ]
  },
  {
   "cell_type": "markdown",
   "metadata": {},
   "source": [
    "## month-to-week_1 - automated\n",
    "\n",
    "- Back to [Table of Contents](#Table-of-Contents)"
   ]
  },
  {
   "cell_type": "code",
   "execution_count": 21,
   "metadata": {
    "ExecuteTime": {
     "end_time": "2019-07-25T03:25:29.805336Z",
     "start_time": "2019-07-25T02:29:53.117Z"
    }
   },
   "outputs": [],
   "source": [
    "outputPrefix <- \"month-to-week_1 automated\""
   ]
  },
  {
   "cell_type": "code",
   "execution_count": 22,
   "metadata": {
    "ExecuteTime": {
     "end_time": "2019-07-25T03:35:17.830484Z",
     "start_time": "2019-07-25T02:29:53.847Z"
    }
   },
   "outputs": [
    {
     "name": "stderr",
     "output_type": "stream",
     "text": [
      "==> Start of  compareMatricesQAP  at  2019-07-25 03:25:29\n",
      "----> month-to-week_1 automated graph correlation = 0.521381854496348 ( @ 2019-07-25 03:25:30 )\n",
      "----> month-to-week_1 automated QAP correlation analysis complete at 2019-07-25 03:29:08.  Summary:\n"
     ]
    },
    {
     "name": "stdout",
     "output_type": "stream",
     "text": [
      "\n",
      "QAP Test Results\n",
      "\n",
      "Estimated p-values:\n",
      "\tp(f(perm) >= f(d)): 0 \n",
      "\tp(f(perm) <= f(d)): 1 \n",
      "\n",
      "Test Diagnostics:\n",
      "\tTest Value (f(d)): 0.5213819 \n",
      "\tReplications: 1000 \n",
      "\tDistribution Summary:\n",
      "\t\tMin:\t -0.0007992741 \n",
      "\t\t1stQ:\t -0.0007992741 \n",
      "\t\tMed:\t -0.0007992741 \n",
      "\t\tMean:\t -4.890125e-05 \n",
      "\t\t3rdQ:\t 0.0006006753 \n",
      "\t\tMax:\t 0.006200473 \n",
      "\n"
     ]
    },
    {
     "name": "stderr",
     "output_type": "stream",
     "text": [
      "\n",
      "----> month-to-week_1 automated graph covariance = 0.000547399605464319 ( @ 2019-07-25 03:29:09 )\n",
      "----> month-to-week_1 automated QAP covariance analysis complete at 2019-07-25 03:32:28.  Summary:\n"
     ]
    },
    {
     "name": "stdout",
     "output_type": "stream",
     "text": [
      "\n",
      "QAP Test Results\n",
      "\n",
      "Estimated p-values:\n",
      "\tp(f(perm) >= f(d)): 0 \n",
      "\tp(f(perm) <= f(d)): 1 \n",
      "\n",
      "Test Diagnostics:\n",
      "\tTest Value (f(d)): 0.0005473996 \n",
      "\tReplications: 1000 \n",
      "\tDistribution Summary:\n",
      "\t\tMin:\t -8.391591e-07 \n",
      "\t\t1stQ:\t -8.391591e-07 \n",
      "\t\tMed:\t -8.391591e-07 \n",
      "\t\tMean:\t 3.537724e-08 \n",
      "\t\t3rdQ:\t 6.306499e-07 \n",
      "\t\tMax:\t 2.414759e-05 \n",
      "\n"
     ]
    },
    {
     "name": "stderr",
     "output_type": "stream",
     "text": [
      "\n",
      "----> month-to-week_1 automated graph hamming distance = 1876 ( @ 2019-07-25 03:32:28 )\n",
      "----> month-to-week_1 automated QAP hamming distance analysis complete at 2019-07-25 03:35:17.  Summary:\n"
     ]
    },
    {
     "name": "stdout",
     "output_type": "stream",
     "text": [
      "\n",
      "QAP Test Results\n",
      "\n",
      "Estimated p-values:\n",
      "\tp(f(perm) >= f(d)): 1 \n",
      "\tp(f(perm) <= f(d)): 0 \n",
      "\n",
      "Test Diagnostics:\n",
      "\tTest Value (f(d)): 1876 \n",
      "\tReplications: 1000 \n",
      "\tDistribution Summary:\n",
      "\t\tMin:\t 3096 \n",
      "\t\t1stQ:\t 3116 \n",
      "\t\tMed:\t 3120 \n",
      "\t\tMean:\t 3118.044 \n",
      "\t\t3rdQ:\t 3120 \n",
      "\t\tMax:\t 3120 \n",
      "\n"
     ]
    },
    {
     "name": "stderr",
     "output_type": "stream",
     "text": [
      "\n",
      "==> End of  compareMatricesQAP  at  2019-07-25 03:35:17\n"
     ]
    }
   ],
   "source": [
    "mw1aOutput <- compareMatricesQAP( gmAutomatedNetworkMatrix, gw1AutomatedNetworkMatrix, outputPrefix )"
   ]
  },
  {
   "cell_type": "code",
   "execution_count": null,
   "metadata": {},
   "outputs": [],
   "source": [
    "# also output plots of distributions of QAP values?\n",
    "displayCompareMatricesQAPOutput( mw1aOutput, outputPrefix, TRUE )"
   ]
  },
  {
   "cell_type": "markdown",
   "metadata": {},
   "source": [
    "## month-to-week_1 - human\n",
    "\n",
    "- Back to [Table of Contents](#Table-of-Contents)"
   ]
  },
  {
   "cell_type": "code",
   "execution_count": 23,
   "metadata": {
    "ExecuteTime": {
     "end_time": "2019-07-25T03:35:17.845425Z",
     "start_time": "2019-07-25T02:29:59.273Z"
    }
   },
   "outputs": [],
   "source": [
    "outputPrefix <- \"month-to-week_1 human\""
   ]
  },
  {
   "cell_type": "code",
   "execution_count": 24,
   "metadata": {
    "ExecuteTime": {
     "end_time": "2019-07-25T03:44:07.285627Z",
     "start_time": "2019-07-25T02:30:02.375Z"
    }
   },
   "outputs": [
    {
     "name": "stderr",
     "output_type": "stream",
     "text": [
      "==> Start of  compareMatricesQAP  at  2019-07-25 03:35:17\n",
      "----> month-to-week_1 human graph correlation = 0.538643365355464 ( @ 2019-07-25 03:35:18 )\n",
      "----> month-to-week_1 human QAP correlation analysis complete at 2019-07-25 03:38:23.  Summary:\n"
     ]
    },
    {
     "name": "stdout",
     "output_type": "stream",
     "text": [
      "\n",
      "QAP Test Results\n",
      "\n",
      "Estimated p-values:\n",
      "\tp(f(perm) >= f(d)): 0 \n",
      "\tp(f(perm) <= f(d)): 1 \n",
      "\n",
      "Test Diagnostics:\n",
      "\tTest Value (f(d)): 0.5386434 \n",
      "\tReplications: 1000 \n",
      "\tDistribution Summary:\n",
      "\t\tMin:\t -0.0008668826 \n",
      "\t\t1stQ:\t -0.0008668826 \n",
      "\t\tMed:\t -0.0008668826 \n",
      "\t\tMean:\t 6.670216e-06 \n",
      "\t\t3rdQ:\t 0.0003936554 \n",
      "\t\tMax:\t 0.01930172 \n",
      "\n"
     ]
    },
    {
     "name": "stderr",
     "output_type": "stream",
     "text": [
      "\n",
      "----> month-to-week_1 human graph covariance = 0.000628067460651923 ( @ 2019-07-25 03:38:24 )\n",
      "----> month-to-week_1 human QAP covariance analysis complete at 2019-07-25 03:41:22.  Summary:\n"
     ]
    },
    {
     "name": "stdout",
     "output_type": "stream",
     "text": [
      "\n",
      "QAP Test Results\n",
      "\n",
      "Estimated p-values:\n",
      "\tp(f(perm) >= f(d)): 0 \n",
      "\tp(f(perm) <= f(d)): 1 \n",
      "\n",
      "Test Diagnostics:\n",
      "\tTest Value (f(d)): 0.0006280675 \n",
      "\tReplications: 1000 \n",
      "\tDistribution Summary:\n",
      "\t\tMin:\t -1.0108e-06 \n",
      "\t\t1stQ:\t -1.0108e-06 \n",
      "\t\tMed:\t -1.0108e-06 \n",
      "\t\tMean:\t 1.365682e-08 \n",
      "\t\t3rdQ:\t 4.59009e-07 \n",
      "\t\tMax:\t 1.074767e-05 \n",
      "\n"
     ]
    },
    {
     "name": "stderr",
     "output_type": "stream",
     "text": [
      "\n",
      "----> month-to-week_1 human graph hamming distance = 1926 ( @ 2019-07-25 03:41:22 )\n",
      "----> month-to-week_1 human QAP hamming distance analysis complete at 2019-07-25 03:44:07.  Summary:\n"
     ]
    },
    {
     "name": "stdout",
     "output_type": "stream",
     "text": [
      "\n",
      "QAP Test Results\n",
      "\n",
      "Estimated p-values:\n",
      "\tp(f(perm) >= f(d)): 1 \n",
      "\tp(f(perm) <= f(d)): 0 \n",
      "\n",
      "Test Diagnostics:\n",
      "\tTest Value (f(d)): 1926 \n",
      "\tReplications: 1000 \n",
      "\tDistribution Summary:\n",
      "\t\tMin:\t 3326 \n",
      "\t\t1stQ:\t 3342 \n",
      "\t\tMed:\t 3346 \n",
      "\t\tMean:\t 3343.572 \n",
      "\t\t3rdQ:\t 3346 \n",
      "\t\tMax:\t 3346 \n",
      "\n"
     ]
    },
    {
     "name": "stderr",
     "output_type": "stream",
     "text": [
      "\n",
      "==> End of  compareMatricesQAP  at  2019-07-25 03:44:07\n"
     ]
    }
   ],
   "source": [
    "mw1hOutput <- compareMatricesQAP( gmHumanNetworkMatrix, gw1HumanNetworkMatrix, outputPrefix )"
   ]
  },
  {
   "cell_type": "code",
   "execution_count": null,
   "metadata": {},
   "outputs": [],
   "source": [
    "# also output plots of distributions of QAP values?\n",
    "displayCompareMatricesQAPOutput( mw1hOutput, outputPrefix, TRUE )"
   ]
  },
  {
   "cell_type": "markdown",
   "metadata": {},
   "source": [
    "# Compare `grp_month` and `grp_week_2` using QAP\n",
    "\n",
    "- Back to [Table of Contents](#Table-of-Contents)\n",
    "\n",
    "Now, compare the automated and human-coded networks from the full month and week 2 against each other, to see what more time gets you.\n",
    "\n",
    "Based on: `context_text/R/sna/statnet/sna-qap.r`"
   ]
  },
  {
   "cell_type": "markdown",
   "metadata": {},
   "source": [
    "## month-to-week_2 - automated\n",
    "\n",
    "- Back to [Table of Contents](#Table-of-Contents)"
   ]
  },
  {
   "cell_type": "code",
   "execution_count": 25,
   "metadata": {
    "ExecuteTime": {
     "end_time": "2019-07-25T03:44:07.301263Z",
     "start_time": "2019-07-25T02:30:07.664Z"
    }
   },
   "outputs": [],
   "source": [
    "outputPrefix <- \"month-to-week_2 automated\""
   ]
  },
  {
   "cell_type": "code",
   "execution_count": 26,
   "metadata": {
    "ExecuteTime": {
     "end_time": "2019-07-25T03:52:58.183174Z",
     "start_time": "2019-07-25T02:30:11.153Z"
    }
   },
   "outputs": [
    {
     "name": "stderr",
     "output_type": "stream",
     "text": [
      "==> Start of  compareMatricesQAP  at  2019-07-25 03:44:07\n",
      "----> month-to-week_2 automated graph correlation = 0.526894046954591 ( @ 2019-07-25 03:44:07 )\n",
      "----> month-to-week_2 automated QAP correlation analysis complete at 2019-07-25 03:47:05.  Summary:\n"
     ]
    },
    {
     "name": "stdout",
     "output_type": "stream",
     "text": [
      "\n",
      "QAP Test Results\n",
      "\n",
      "Estimated p-values:\n",
      "\tp(f(perm) >= f(d)): 0 \n",
      "\tp(f(perm) <= f(d)): 1 \n",
      "\n",
      "Test Diagnostics:\n",
      "\tTest Value (f(d)): 0.526894 \n",
      "\tReplications: 1000 \n",
      "\tDistribution Summary:\n",
      "\t\tMin:\t -0.0007908992 \n",
      "\t\t1stQ:\t -0.0007908992 \n",
      "\t\tMed:\t -0.0007908992 \n",
      "\t\tMean:\t -6.80431e-05 \n",
      "\t\t3rdQ:\t 0.000654813 \n",
      "\t\tMax:\t 0.006437662 \n",
      "\n"
     ]
    },
    {
     "name": "stderr",
     "output_type": "stream",
     "text": [
      "\n",
      "----> month-to-week_2 automated graph covariance = 0.000535676210692771 ( @ 2019-07-25 03:47:05 )\n",
      "----> month-to-week_2 automated QAP covariance analysis complete at 2019-07-25 03:50:09.  Summary:\n"
     ]
    },
    {
     "name": "stdout",
     "output_type": "stream",
     "text": [
      "\n",
      "QAP Test Results\n",
      "\n",
      "Estimated p-values:\n",
      "\tp(f(perm) >= f(d)): 0 \n",
      "\tp(f(perm) <= f(d)): 1 \n",
      "\n",
      "Test Diagnostics:\n",
      "\tTest Value (f(d)): 0.0005356762 \n",
      "\tReplications: 1000 \n",
      "\tDistribution Summary:\n",
      "\t\tMin:\t -8.040817e-07 \n",
      "\t\t1stQ:\t -8.040817e-07 \n",
      "\t\tMed:\t -8.040817e-07 \n",
      "\t\tMean:\t -2.508296e-08 \n",
      "\t\t3rdQ:\t 6.657273e-07 \n",
      "\t\tMax:\t 6.544963e-06 \n",
      "\n"
     ]
    },
    {
     "name": "stderr",
     "output_type": "stream",
     "text": [
      "\n",
      "----> month-to-week_2 automated graph hamming distance = 1902 ( @ 2019-07-25 03:50:09 )\n",
      "----> month-to-week_2 automated QAP hamming distance analysis complete at 2019-07-25 03:52:58.  Summary:\n"
     ]
    },
    {
     "name": "stdout",
     "output_type": "stream",
     "text": [
      "\n",
      "QAP Test Results\n",
      "\n",
      "Estimated p-values:\n",
      "\tp(f(perm) >= f(d)): 1 \n",
      "\tp(f(perm) <= f(d)): 0 \n",
      "\n",
      "Test Diagnostics:\n",
      "\tTest Value (f(d)): 1902 \n",
      "\tReplications: 1000 \n",
      "\tDistribution Summary:\n",
      "\t\tMin:\t 3078 \n",
      "\t\t1stQ:\t 3090 \n",
      "\t\tMed:\t 3094 \n",
      "\t\tMean:\t 3092.076 \n",
      "\t\t3rdQ:\t 3094 \n",
      "\t\tMax:\t 3094 \n",
      "\n"
     ]
    },
    {
     "name": "stderr",
     "output_type": "stream",
     "text": [
      "\n",
      "==> End of  compareMatricesQAP  at  2019-07-25 03:52:58\n"
     ]
    }
   ],
   "source": [
    "mw2aOutput <- compareMatricesQAP( gmAutomatedNetworkMatrix, gw2AutomatedNetworkMatrix, outputPrefix )"
   ]
  },
  {
   "cell_type": "code",
   "execution_count": null,
   "metadata": {},
   "outputs": [],
   "source": [
    "# also output plots of distributions of QAP values?\n",
    "displayCompareMatricesQAPOutput( mw2aOutput, outputPrefix, TRUE )"
   ]
  },
  {
   "cell_type": "markdown",
   "metadata": {},
   "source": [
    "## month-to-week_2 - human\n",
    "\n",
    "- Back to [Table of Contents](#Table-of-Contents)"
   ]
  },
  {
   "cell_type": "code",
   "execution_count": 27,
   "metadata": {
    "ExecuteTime": {
     "end_time": "2019-07-25T03:52:58.202825Z",
     "start_time": "2019-07-25T02:30:15.302Z"
    }
   },
   "outputs": [],
   "source": [
    "outputPrefix <- \"month-to-week_2 human\""
   ]
  },
  {
   "cell_type": "code",
   "execution_count": 28,
   "metadata": {
    "ExecuteTime": {
     "end_time": "2019-07-25T04:14:15.717593Z",
     "start_time": "2019-07-25T02:30:21.916Z"
    }
   },
   "outputs": [
    {
     "name": "stderr",
     "output_type": "stream",
     "text": [
      "==> Start of  compareMatricesQAP  at  2019-07-25 03:52:58\n",
      "----> month-to-week_2 human graph correlation = 0.516410349744311 ( @ 2019-07-25 03:52:58 )\n",
      "----> month-to-week_2 human QAP correlation analysis complete at 2019-07-25 04:08:29.  Summary:\n"
     ]
    },
    {
     "name": "stdout",
     "output_type": "stream",
     "text": [
      "\n",
      "QAP Test Results\n",
      "\n",
      "Estimated p-values:\n",
      "\tp(f(perm) >= f(d)): 0 \n",
      "\tp(f(perm) <= f(d)): 1 \n",
      "\n",
      "Test Diagnostics:\n",
      "\tTest Value (f(d)): 0.5164103 \n",
      "\tReplications: 1000 \n",
      "\tDistribution Summary:\n",
      "\t\tMin:\t -0.0008052837 \n",
      "\t\t1stQ:\t -0.0008052837 \n",
      "\t\tMed:\t -0.0008052837 \n",
      "\t\tMean:\t 5.523808e-06 \n",
      "\t\t3rdQ:\t 0.000566641 \n",
      "\t\tMax:\t 0.01291396 \n",
      "\n"
     ]
    },
    {
     "name": "stderr",
     "output_type": "stream",
     "text": [
      "\n",
      "----> month-to-week_2 human graph covariance = 0.00055325526146777 ( @ 2019-07-25 04:08:29 )\n",
      "----> month-to-week_2 human QAP covariance analysis complete at 2019-07-25 04:11:35.  Summary:\n"
     ]
    },
    {
     "name": "stdout",
     "output_type": "stream",
     "text": [
      "\n",
      "QAP Test Results\n",
      "\n",
      "Estimated p-values:\n",
      "\tp(f(perm) >= f(d)): 0 \n",
      "\tp(f(perm) <= f(d)): 1 \n",
      "\n",
      "Test Diagnostics:\n",
      "\tTest Value (f(d)): 0.0005532553 \n",
      "\tReplications: 1000 \n",
      "\tDistribution Summary:\n",
      "\t\tMin:\t -8.627392e-07 \n",
      "\t\t1stQ:\t -8.627392e-07 \n",
      "\t\tMed:\t -8.627392e-07 \n",
      "\t\tMean:\t 1.032735e-08 \n",
      "\t\t3rdQ:\t 6.070698e-07 \n",
      "\t\tMax:\t 1.824478e-05 \n",
      "\n"
     ]
    },
    {
     "name": "stderr",
     "output_type": "stream",
     "text": [
      "\n",
      "----> month-to-week_2 human graph hamming distance = 2030 ( @ 2019-07-25 04:11:35 )\n",
      "----> month-to-week_2 human QAP hamming distance analysis complete at 2019-07-25 04:14:15.  Summary:\n"
     ]
    },
    {
     "name": "stdout",
     "output_type": "stream",
     "text": [
      "\n",
      "QAP Test Results\n",
      "\n",
      "Estimated p-values:\n",
      "\tp(f(perm) >= f(d)): 1 \n",
      "\tp(f(perm) <= f(d)): 0 \n",
      "\n",
      "Test Diagnostics:\n",
      "\tTest Value (f(d)): 2030 \n",
      "\tReplications: 1000 \n",
      "\tDistribution Summary:\n",
      "\t\tMin:\t 3214 \n",
      "\t\t1stQ:\t 3238 \n",
      "\t\tMed:\t 3242 \n",
      "\t\tMean:\t 3239.928 \n",
      "\t\t3rdQ:\t 3242 \n",
      "\t\tMax:\t 3242 \n",
      "\n"
     ]
    },
    {
     "name": "stderr",
     "output_type": "stream",
     "text": [
      "\n",
      "==> End of  compareMatricesQAP  at  2019-07-25 04:14:15\n"
     ]
    }
   ],
   "source": [
    "mw2hOutput <- compareMatricesQAP( gmHumanNetworkMatrix, gw2HumanNetworkMatrix, outputPrefix )"
   ]
  },
  {
   "cell_type": "code",
   "execution_count": null,
   "metadata": {},
   "outputs": [],
   "source": [
    "# also output plots of distributions of QAP values?\n",
    "displayCompareMatricesQAPOutput( mw2hOutput, outputPrefix, TRUE )"
   ]
  },
  {
   "cell_type": "markdown",
   "metadata": {},
   "source": [
    "# Compare `grp_month` and `grp_week_3` using QAP\n",
    "\n",
    "- Back to [Table of Contents](#Table-of-Contents)\n",
    "\n",
    "Now, compare the automated and human-coded networks from the full month and week 3 against each other, to see what more time gets you.\n",
    "\n",
    "Based on: `context_text/R/sna/statnet/sna-qap.r`"
   ]
  },
  {
   "cell_type": "markdown",
   "metadata": {},
   "source": [
    "## month-to-week_3 - automated\n",
    "\n",
    "- Back to [Table of Contents](#Table-of-Contents)"
   ]
  },
  {
   "cell_type": "code",
   "execution_count": 29,
   "metadata": {
    "ExecuteTime": {
     "end_time": "2019-07-25T04:14:15.739251Z",
     "start_time": "2019-07-25T02:30:31.076Z"
    }
   },
   "outputs": [],
   "source": [
    "outputPrefix <- \"month-to-week_3 automated\""
   ]
  },
  {
   "cell_type": "code",
   "execution_count": 30,
   "metadata": {
    "ExecuteTime": {
     "end_time": "2019-07-25T04:22:59.779343Z",
     "start_time": "2019-07-25T02:30:31.625Z"
    },
    "scrolled": false
   },
   "outputs": [
    {
     "name": "stderr",
     "output_type": "stream",
     "text": [
      "==> Start of  compareMatricesQAP  at  2019-07-25 04:14:15\n",
      "----> month-to-week_3 automated graph correlation = 0.449063768979808 ( @ 2019-07-25 04:14:16 )\n",
      "----> month-to-week_3 automated QAP correlation analysis complete at 2019-07-25 04:17:20.  Summary:\n"
     ]
    },
    {
     "name": "stdout",
     "output_type": "stream",
     "text": [
      "\n",
      "QAP Test Results\n",
      "\n",
      "Estimated p-values:\n",
      "\tp(f(perm) >= f(d)): 0 \n",
      "\tp(f(perm) <= f(d)): 1 \n",
      "\n",
      "Test Diagnostics:\n",
      "\tTest Value (f(d)): 0.4490638 \n",
      "\tReplications: 1000 \n",
      "\tDistribution Summary:\n",
      "\t\tMin:\t -0.0007420192 \n",
      "\t\t1stQ:\t -0.0007420192 \n",
      "\t\tMed:\t -0.0007420192 \n",
      "\t\tMean:\t -2.484636e-05 \n",
      "\t\t3rdQ:\t 0.0008307283 \n",
      "\t\tMax:\t 0.007121718 \n",
      "\n"
     ]
    },
    {
     "name": "stderr",
     "output_type": "stream",
     "text": [
      "\n",
      "----> month-to-week_3 automated graph covariance = 0.000419671926779777 ( @ 2019-07-25 04:17:20 )\n",
      "----> month-to-week_3 automated QAP covariance analysis complete at 2019-07-25 04:20:15.  Summary:\n"
     ]
    },
    {
     "name": "stdout",
     "output_type": "stream",
     "text": [
      "\n",
      "QAP Test Results\n",
      "\n",
      "Estimated p-values:\n",
      "\tp(f(perm) >= f(d)): 0 \n",
      "\tp(f(perm) <= f(d)): 1 \n",
      "\n",
      "Test Diagnostics:\n",
      "\tTest Value (f(d)): 0.0004196719 \n",
      "\tReplications: 1000 \n",
      "\tDistribution Summary:\n",
      "\t\tMin:\t -6.93453e-07 \n",
      "\t\t1stQ:\t -6.93453e-07 \n",
      "\t\tMed:\t -6.93453e-07 \n",
      "\t\tMean:\t 1.031834e-07 \n",
      "\t\t3rdQ:\t 7.76356e-07 \n",
      "\t\tMax:\t 1.106502e-05 \n",
      "\n"
     ]
    },
    {
     "name": "stderr",
     "output_type": "stream",
     "text": [
      "\n",
      "----> month-to-week_3 automated graph hamming distance = 1984 ( @ 2019-07-25 04:20:15 )\n",
      "----> month-to-week_3 automated QAP hamming distance analysis complete at 2019-07-25 04:22:59.  Summary:\n"
     ]
    },
    {
     "name": "stdout",
     "output_type": "stream",
     "text": [
      "\n",
      "QAP Test Results\n",
      "\n",
      "Estimated p-values:\n",
      "\tp(f(perm) >= f(d)): 1 \n",
      "\tp(f(perm) <= f(d)): 0 \n",
      "\n",
      "Test Diagnostics:\n",
      "\tTest Value (f(d)): 1984 \n",
      "\tReplications: 1000 \n",
      "\tDistribution Summary:\n",
      "\t\tMin:\t 2996 \n",
      "\t\t1stQ:\t 3008 \n",
      "\t\tMed:\t 3012 \n",
      "\t\tMean:\t 3010.368 \n",
      "\t\t3rdQ:\t 3012 \n",
      "\t\tMax:\t 3012 \n",
      "\n"
     ]
    },
    {
     "name": "stderr",
     "output_type": "stream",
     "text": [
      "\n",
      "==> End of  compareMatricesQAP  at  2019-07-25 04:22:59\n"
     ]
    }
   ],
   "source": [
    "mw3aOutput <- compareMatricesQAP( gmAutomatedNetworkMatrix, gw3AutomatedNetworkMatrix, outputPrefix )"
   ]
  },
  {
   "cell_type": "code",
   "execution_count": null,
   "metadata": {},
   "outputs": [],
   "source": [
    "# also output plots of distributions of QAP values?\n",
    "displayCompareMatricesQAPOutput( mw3aOutput, outputPrefix, TRUE )"
   ]
  },
  {
   "cell_type": "markdown",
   "metadata": {},
   "source": [
    "## month-to-week_3 - human\n",
    "\n",
    "- Back to [Table of Contents](#Table-of-Contents)"
   ]
  },
  {
   "cell_type": "code",
   "execution_count": 31,
   "metadata": {
    "ExecuteTime": {
     "end_time": "2019-07-25T04:22:59.797716Z",
     "start_time": "2019-07-25T02:30:37.632Z"
    }
   },
   "outputs": [],
   "source": [
    "outputPrefix <- \"month-to-week_3 human\""
   ]
  },
  {
   "cell_type": "code",
   "execution_count": 32,
   "metadata": {
    "ExecuteTime": {
     "end_time": "2019-07-25T04:32:14.561055Z",
     "start_time": "2019-07-25T02:30:38.284Z"
    },
    "scrolled": false
   },
   "outputs": [
    {
     "name": "stderr",
     "output_type": "stream",
     "text": [
      "==> Start of  compareMatricesQAP  at  2019-07-25 04:22:59\n",
      "----> month-to-week_3 human graph correlation = 0.44922480558016 ( @ 2019-07-25 04:23:00 )\n",
      "----> month-to-week_3 human QAP correlation analysis complete at 2019-07-25 04:26:14.  Summary:\n"
     ]
    },
    {
     "name": "stdout",
     "output_type": "stream",
     "text": [
      "\n",
      "QAP Test Results\n",
      "\n",
      "Estimated p-values:\n",
      "\tp(f(perm) >= f(d)): 0 \n",
      "\tp(f(perm) <= f(d)): 1 \n",
      "\n",
      "Test Diagnostics:\n",
      "\tTest Value (f(d)): 0.4492248 \n",
      "\tReplications: 1000 \n",
      "\tDistribution Summary:\n",
      "\t\tMin:\t -0.0007745641 \n",
      "\t\t1stQ:\t -0.0007745641 \n",
      "\t\tMed:\t -0.0007745641 \n",
      "\t\tMean:\t -1.177827e-05 \n",
      "\t\t3rdQ:\t 0.0007008437 \n",
      "\t\tMax:\t 0.0110287 \n",
      "\n"
     ]
    },
    {
     "name": "stderr",
     "output_type": "stream",
     "text": [
      "\n",
      "----> month-to-week_3 human graph covariance = 0.000447520126373497 ( @ 2019-07-25 04:26:14 )\n",
      "----> month-to-week_3 human QAP covariance analysis complete at 2019-07-25 04:29:25.  Summary:\n"
     ]
    },
    {
     "name": "stdout",
     "output_type": "stream",
     "text": [
      "\n",
      "QAP Test Results\n",
      "\n",
      "Estimated p-values:\n",
      "\tp(f(perm) >= f(d)): 0 \n",
      "\tp(f(perm) <= f(d)): 1 \n",
      "\n",
      "Test Diagnostics:\n",
      "\tTest Value (f(d)): 0.0004475201 \n",
      "\tReplications: 1000 \n",
      "\tDistribution Summary:\n",
      "\t\tMin:\t -7.716248e-07 \n",
      "\t\t1stQ:\t -7.716248e-07 \n",
      "\t\tMed:\t -7.716248e-07 \n",
      "\t\tMean:\t -2.496186e-08 \n",
      "\t\t3rdQ:\t 6.981842e-07 \n",
      "\t\tMax:\t 8.047229e-06 \n",
      "\n"
     ]
    },
    {
     "name": "stderr",
     "output_type": "stream",
     "text": [
      "\n",
      "----> month-to-week_3 human graph hamming distance = 2094 ( @ 2019-07-25 04:29:25 )\n",
      "----> month-to-week_3 human QAP hamming distance analysis complete at 2019-07-25 04:32:14.  Summary:\n"
     ]
    },
    {
     "name": "stdout",
     "output_type": "stream",
     "text": [
      "\n",
      "QAP Test Results\n",
      "\n",
      "Estimated p-values:\n",
      "\tp(f(perm) >= f(d)): 1 \n",
      "\tp(f(perm) <= f(d)): 0 \n",
      "\n",
      "Test Diagnostics:\n",
      "\tTest Value (f(d)): 2094 \n",
      "\tReplications: 1000 \n",
      "\tDistribution Summary:\n",
      "\t\tMin:\t 3158 \n",
      "\t\t1stQ:\t 3174 \n",
      "\t\tMed:\t 3178 \n",
      "\t\tMean:\t 3176.18 \n",
      "\t\t3rdQ:\t 3178 \n",
      "\t\tMax:\t 3178 \n",
      "\n"
     ]
    },
    {
     "name": "stderr",
     "output_type": "stream",
     "text": [
      "\n",
      "==> End of  compareMatricesQAP  at  2019-07-25 04:32:14\n"
     ]
    }
   ],
   "source": [
    "mw3hOutput <- compareMatricesQAP( gmHumanNetworkMatrix, gw3HumanNetworkMatrix, outputPrefix )"
   ]
  },
  {
   "cell_type": "code",
   "execution_count": null,
   "metadata": {},
   "outputs": [],
   "source": [
    "# also output plots of distributions of QAP values?\n",
    "displayCompareMatricesQAPOutput( mw3hOutput, outputPrefix, TRUE )"
   ]
  },
  {
   "cell_type": "markdown",
   "metadata": {},
   "source": [
    "# Save workspace image\n",
    "\n",
    "- Back to [Table of Contents](#Table-of-Contents)\n",
    "\n",
    "Save all the information in the current image, in case we need/want it later."
   ]
  },
  {
   "cell_type": "code",
   "execution_count": 33,
   "metadata": {
    "ExecuteTime": {
     "end_time": "2019-07-25T04:33:50.919357Z",
     "start_time": "2019-07-25T04:33:48.807Z"
    }
   },
   "outputs": [],
   "source": [
    "# help( save.image )\n",
    "save.image( file = workspace_file_name )"
   ]
  }
 ],
 "metadata": {
  "kernelspec": {
   "display_name": "R",
   "language": "R",
   "name": "ir"
  },
  "language_info": {
   "codemirror_mode": "r",
   "file_extension": ".r",
   "mimetype": "text/x-r-source",
   "name": "R",
   "pygments_lexer": "r",
   "version": "3.6.1"
  },
  "toc": {
   "base_numbering": 1,
   "nav_menu": {},
   "number_sections": true,
   "sideBar": true,
   "skip_h1_title": false,
   "title_cell": "Table of Contents",
   "title_sidebar": "Contents",
   "toc_cell": true,
   "toc_position": {
    "height": "717px",
    "left": "0px",
    "right": "1061px",
    "top": "111px",
    "width": "379px"
   },
   "toc_section_display": "block",
   "toc_window_display": true
  }
 },
 "nbformat": 4,
 "nbformat_minor": 2
}
