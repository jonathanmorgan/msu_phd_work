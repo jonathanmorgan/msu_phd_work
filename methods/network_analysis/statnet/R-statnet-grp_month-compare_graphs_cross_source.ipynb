{
 "cells": [
  {
   "cell_type": "markdown",
   "metadata": {},
   "source": [
    "**R statnet - grp month - compare graphs across auto and baseline data**"
   ]
  },
  {
   "cell_type": "markdown",
   "metadata": {
    "toc": true
   },
   "source": [
    "<h1>Table of Contents<span class=\"tocSkip\"></span></h1>\n",
    "<div class=\"toc\"><ul class=\"toc-item\"><li><span><a href=\"#R-network-analysis-files\" data-toc-modified-id=\"R-network-analysis-files-1\"><span class=\"toc-item-num\">1&nbsp;&nbsp;</span>R network analysis files</a></span></li><li><span><a href=\"#Setup\" data-toc-modified-id=\"Setup-2\"><span class=\"toc-item-num\">2&nbsp;&nbsp;</span>Setup</a></span><ul class=\"toc-item\"><li><span><a href=\"#Setup----working-directories\" data-toc-modified-id=\"Setup----working-directories-2.1\"><span class=\"toc-item-num\">2.1&nbsp;&nbsp;</span>Setup -  working directories</a></span></li><li><span><a href=\"#Setup---import-SNA-functions\" data-toc-modified-id=\"Setup---import-SNA-functions-2.2\"><span class=\"toc-item-num\">2.2&nbsp;&nbsp;</span>Setup - import SNA functions</a></span></li><li><span><a href=\"#Setup---import-statnet-functions\" data-toc-modified-id=\"Setup---import-statnet-functions-2.3\"><span class=\"toc-item-num\">2.3&nbsp;&nbsp;</span>Setup - import statnet functions</a></span></li><li><span><a href=\"#Setup---network-data---render-and-store-network-data\" data-toc-modified-id=\"Setup---network-data---render-and-store-network-data-2.4\"><span class=\"toc-item-num\">2.4&nbsp;&nbsp;</span>Setup - network data - render and store network data</a></span><ul class=\"toc-item\"><li><span><a href=\"#data---grp_month\" data-toc-modified-id=\"data---grp_month-2.4.1\"><span class=\"toc-item-num\">2.4.1&nbsp;&nbsp;</span>data - grp_month</a></span></li></ul></li><li><span><a href=\"#Setup---load-workspace\" data-toc-modified-id=\"Setup---load-workspace-2.5\"><span class=\"toc-item-num\">2.5&nbsp;&nbsp;</span>Setup - load workspace</a></span></li></ul></li><li><span><a href=\"#Compare-grp_week_1-and-grp_week_2-using-QAP\" data-toc-modified-id=\"Compare-grp_week_1-and-grp_week_2-using-QAP-3\"><span class=\"toc-item-num\">3&nbsp;&nbsp;</span>Compare <code>grp_week_1</code> and <code>grp_week_2</code> using QAP</a></span><ul class=\"toc-item\"><li><span><a href=\"#week_1-to-week_2---a2b---automated-to-baseline\" data-toc-modified-id=\"week_1-to-week_2---a2b---automated-to-baseline-3.1\"><span class=\"toc-item-num\">3.1&nbsp;&nbsp;</span>week_1-to-week_2 - a2b - automated-to-baseline</a></span></li><li><span><a href=\"#week_1-to-week_2---b2a---baseline-to-automated\" data-toc-modified-id=\"week_1-to-week_2---b2a---baseline-to-automated-3.2\"><span class=\"toc-item-num\">3.2&nbsp;&nbsp;</span>week_1-to-week_2 - b2a - baseline-to-automated</a></span></li></ul></li><li><span><a href=\"#Compare-grp_week_1-and-grp_week_3-using-QAP\" data-toc-modified-id=\"Compare-grp_week_1-and-grp_week_3-using-QAP-4\"><span class=\"toc-item-num\">4&nbsp;&nbsp;</span>Compare <code>grp_week_1</code> and <code>grp_week_3</code> using QAP</a></span><ul class=\"toc-item\"><li><span><a href=\"#week_1-to-week_3---a2b---automated-to-baseline\" data-toc-modified-id=\"week_1-to-week_3---a2b---automated-to-baseline-4.1\"><span class=\"toc-item-num\">4.1&nbsp;&nbsp;</span>week_1-to-week_3 - a2b - automated-to-baseline</a></span></li><li><span><a href=\"#week_1-to-week_3---b2a---baseline-to-automated\" data-toc-modified-id=\"week_1-to-week_3---b2a---baseline-to-automated-4.2\"><span class=\"toc-item-num\">4.2&nbsp;&nbsp;</span>week_1-to-week_3 - b2a - baseline-to-automated</a></span></li></ul></li><li><span><a href=\"#Compare-grp_week_2-and-grp_week_3-using-QAP\" data-toc-modified-id=\"Compare-grp_week_2-and-grp_week_3-using-QAP-5\"><span class=\"toc-item-num\">5&nbsp;&nbsp;</span>Compare <code>grp_week_2</code> and <code>grp_week_3</code> using QAP</a></span><ul class=\"toc-item\"><li><span><a href=\"#week_2-to-week_3---a2b---automated-to-baseline\" data-toc-modified-id=\"week_2-to-week_3---a2b---automated-to-baseline-5.1\"><span class=\"toc-item-num\">5.1&nbsp;&nbsp;</span>week_2-to-week_3 - a2b - automated-to-baseline</a></span></li><li><span><a href=\"#week_2-to-week_3---b2a---baseline-to-automated\" data-toc-modified-id=\"week_2-to-week_3---b2a---baseline-to-automated-5.2\"><span class=\"toc-item-num\">5.2&nbsp;&nbsp;</span>week_2-to-week_3 - b2a - baseline-to-automated</a></span></li></ul></li><li><span><a href=\"#Compare-grp_month-and-grp_week_1-using-QAP\" data-toc-modified-id=\"Compare-grp_month-and-grp_week_1-using-QAP-6\"><span class=\"toc-item-num\">6&nbsp;&nbsp;</span>Compare <code>grp_month</code> and <code>grp_week_1</code> using QAP</a></span><ul class=\"toc-item\"><li><span><a href=\"#month-to-week_1---a2b---automated-to-baseline\" data-toc-modified-id=\"month-to-week_1---a2b---automated-to-baseline-6.1\"><span class=\"toc-item-num\">6.1&nbsp;&nbsp;</span>month-to-week_1 - a2b - automated-to-baseline</a></span></li><li><span><a href=\"#month-to-week_1---b2a---baseline-to-automated\" data-toc-modified-id=\"month-to-week_1---b2a---baseline-to-automated-6.2\"><span class=\"toc-item-num\">6.2&nbsp;&nbsp;</span>month-to-week_1 - b2a - baseline-to-automated</a></span></li></ul></li><li><span><a href=\"#Compare-grp_month-and-grp_week_2-using-QAP\" data-toc-modified-id=\"Compare-grp_month-and-grp_week_2-using-QAP-7\"><span class=\"toc-item-num\">7&nbsp;&nbsp;</span>Compare <code>grp_month</code> and <code>grp_week_2</code> using QAP</a></span><ul class=\"toc-item\"><li><span><a href=\"#month-to-week_2---a2b---automated-to-baseline\" data-toc-modified-id=\"month-to-week_2---a2b---automated-to-baseline-7.1\"><span class=\"toc-item-num\">7.1&nbsp;&nbsp;</span>month-to-week_2 - a2b - automated-to-baseline</a></span></li><li><span><a href=\"#month-to-week_2---b2a---baseline-to-automated\" data-toc-modified-id=\"month-to-week_2---b2a---baseline-to-automated-7.2\"><span class=\"toc-item-num\">7.2&nbsp;&nbsp;</span>month-to-week_2 - b2a - baseline-to-automated</a></span></li></ul></li><li><span><a href=\"#Compare-grp_month-and-grp_week_3-using-QAP\" data-toc-modified-id=\"Compare-grp_month-and-grp_week_3-using-QAP-8\"><span class=\"toc-item-num\">8&nbsp;&nbsp;</span>Compare <code>grp_month</code> and <code>grp_week_3</code> using QAP</a></span><ul class=\"toc-item\"><li><span><a href=\"#month-to-week_3---a2b---automated-to-baseline\" data-toc-modified-id=\"month-to-week_3---a2b---automated-to-baseline-8.1\"><span class=\"toc-item-num\">8.1&nbsp;&nbsp;</span>month-to-week_3 - a2b - automated-to-baseline</a></span></li><li><span><a href=\"#month-to-week_3---b2a---baseline-to-automated\" data-toc-modified-id=\"month-to-week_3---b2a---baseline-to-automated-8.2\"><span class=\"toc-item-num\">8.2&nbsp;&nbsp;</span>month-to-week_3 - b2a - baseline-to-automated</a></span></li></ul></li><li><span><a href=\"#Save-workspace-image\" data-toc-modified-id=\"Save-workspace-image-9\"><span class=\"toc-item-num\">9&nbsp;&nbsp;</span>Save workspace image</a></span></li></ul></div>"
   ]
  },
  {
   "cell_type": "markdown",
   "metadata": {},
   "source": [
    "# R network analysis files\n",
    "\n",
    "- Back to [Table of Contents](#Table-of-Contents)\n",
    "\n",
    "Related files:\n",
    "\n",
    "* network descriptives\n",
    "    * network-level\n",
    "        \n",
    "        * files\n",
    "            \n",
    "            * R scripts:\n",
    "                \n",
    "                * `context_text/R/db_connect.r`\n",
    "                * `context_text/R/sna/functions-sna.r`\n",
    "                * `context_text/R/sna/sna-load_data.r`\n",
    "                * `context_text/R/sna/igraph/*`\n",
    "                * `context_text/R/sna/statnet/*`\n",
    "        \n",
    "        * statnet/sna\n",
    "            \n",
    "            * `sna::gden()` - graph density\n",
    "            * R scripts:\n",
    "                \n",
    "                * `context_text/R/sna/statnet/sna-statnet-init.r`\n",
    "                * `context_text/R/sna/statnet/sna-statnet-network-stats.r`\n",
    "                * `context_text/R/sna/statnet/sna-qap.r`\n",
    "        \n",
    "        * igraph\n",
    "            \n",
    "            * `igraph::transitivity()` - vector of transitivity scores for each node in a graph, plus network-level transitivity score.\n",
    "                \n",
    "                * Q - interpretation?\n",
    "                \n",
    "            * R scripts:\n",
    "                \n",
    "                * `context_text/R/sna/statnet/sna-igraph-init.r`\n",
    "                * `context_text/R/sna/statnet/sna-igraph-network-stats.r`\n"
   ]
  },
  {
   "cell_type": "markdown",
   "metadata": {},
   "source": [
    "# Setup\n",
    "\n",
    "- Back to [Table of Contents](#Table-of-Contents)"
   ]
  },
  {
   "cell_type": "markdown",
   "metadata": {},
   "source": [
    "## Setup -  working directories\n",
    "\n",
    "- Back to [Table of Contents](#Table-of-Contents)\n",
    "\n",
    "Store important directories and file names in variables:"
   ]
  },
  {
   "cell_type": "code",
   "execution_count": 1,
   "metadata": {
    "ExecuteTime": {
     "end_time": "2019-07-25T04:34:10.681679Z",
     "start_time": "2019-07-25T04:34:10.606Z"
    }
   },
   "outputs": [
    {
     "data": {
      "text/html": [
       "'/home/jonathanmorgan/work/django/research/work/phd_work/methods/network_analysis/statnet'"
      ],
      "text/latex": [
       "'/home/jonathanmorgan/work/django/research/work/phd\\_work/methods/network\\_analysis/statnet'"
      ],
      "text/markdown": [
       "'/home/jonathanmorgan/work/django/research/work/phd_work/methods/network_analysis/statnet'"
      ],
      "text/plain": [
       "[1] \"/home/jonathanmorgan/work/django/research/work/phd_work/methods/network_analysis/statnet\""
      ]
     },
     "metadata": {},
     "output_type": "display_data"
    }
   ],
   "source": [
    "getwd()"
   ]
  },
  {
   "cell_type": "code",
   "execution_count": 2,
   "metadata": {
    "ExecuteTime": {
     "end_time": "2019-07-25T04:34:11.702806Z",
     "start_time": "2019-07-25T04:34:11.583Z"
    }
   },
   "outputs": [],
   "source": [
    "# code files (in particular SNA and statnet function libraries, modest though they may be)\n",
    "researchDirectory <- \"/home/jonathanmorgan/work/django/research/\"\n",
    "contextAnalysisDirectory <- paste( researchDirectory, \"/\", 'context_analysis', sep = \"\" )\n",
    "codeDirectory <- paste( contextAnalysisDirectory, \"/\", \"R/sna\", sep = \"\" )\n",
    "\n",
    "# basic SNA functions\n",
    "# - /home/jonathanmorgan/work/django/research/context_analysis/R/sna/functions-sna.r\n",
    "#snaFunctionFilePath <- paste( codeDirectory, \"/\", 'functions-sna.r', sep = \"\" )\n",
    "\n",
    "# statnet/sna functions\n",
    "# - /home/jonathanmorgan/work/django/research/context_analysis/R/sna/stanet/functions-statnet.r\n",
    "#statnetFunctionFilePath <- paste( codeDirectory, \"/statnet/\", 'functions-statnet.r', sep = \"\" )\n",
    "\n",
    "# home directory\n",
    "#homeDirectory <- getwd()\n",
    "homeDirectory <- \"/home/jonathanmorgan/work/django/research/work/phd_work/methods\"\n",
    "\n",
    "# data directories\n",
    "dataDirectory <- paste( homeDirectory, \"/data\", sep = \"\" )\n",
    "workspaceFileName <- \"statnet-grp_month.RData\"\n",
    "workspaceFilePath <- paste( dataDirectory, \"/\", workspaceFileName )"
   ]
  },
  {
   "cell_type": "code",
   "execution_count": 3,
   "metadata": {
    "ExecuteTime": {
     "end_time": "2019-07-25T04:34:13.237819Z",
     "start_time": "2019-07-25T04:34:13.212Z"
    }
   },
   "outputs": [
    {
     "data": {
      "text/html": [
       "'/home/jonathanmorgan/work/django/research/work/phd_work/methods/data'"
      ],
      "text/latex": [
       "'/home/jonathanmorgan/work/django/research/work/phd\\_work/methods/data'"
      ],
      "text/markdown": [
       "'/home/jonathanmorgan/work/django/research/work/phd_work/methods/data'"
      ],
      "text/plain": [
       "[1] \"/home/jonathanmorgan/work/django/research/work/phd_work/methods/data\""
      ]
     },
     "metadata": {},
     "output_type": "display_data"
    }
   ],
   "source": [
    "# set working directory to data directory for now.\n",
    "setwd( dataDirectory )\n",
    "getwd()"
   ]
  },
  {
   "cell_type": "markdown",
   "metadata": {},
   "source": [
    "## Setup - import SNA functions\n",
    "\n",
    "- Back to [Table of Contents](#Table-of-Contents)\n",
    "\n",
    "source the file `functions-sna.r`."
   ]
  },
  {
   "cell_type": "code",
   "execution_count": 4,
   "metadata": {
    "ExecuteTime": {
     "end_time": "2019-07-25T04:34:14.226180Z",
     "start_time": "2019-07-25T04:34:14.126Z"
    }
   },
   "outputs": [],
   "source": [
    "# basic SNA functions\n",
    "# - /home/jonathanmorgan/work/django/research/context_analysis/R/sna/functions-sna.r\n",
    "snaFunctionFilePath <- paste( codeDirectory, \"/\", 'functions-sna.r', sep = \"\" )"
   ]
  },
  {
   "cell_type": "code",
   "execution_count": 5,
   "metadata": {
    "ExecuteTime": {
     "end_time": "2019-07-25T04:34:14.829669Z",
     "start_time": "2019-07-25T04:34:14.684Z"
    }
   },
   "outputs": [],
   "source": [
    "source( snaFunctionFilePath )"
   ]
  },
  {
   "cell_type": "markdown",
   "metadata": {},
   "source": [
    "## Setup - import statnet functions\n",
    "\n",
    "- Back to [Table of Contents](#Table-of-Contents)\n",
    "\n",
    "source the file `statnet/functions-statnet.r`."
   ]
  },
  {
   "cell_type": "code",
   "execution_count": 6,
   "metadata": {
    "ExecuteTime": {
     "end_time": "2019-07-25T04:34:15.741230Z",
     "start_time": "2019-07-25T04:34:15.611Z"
    }
   },
   "outputs": [],
   "source": [
    "# statnet/sna functions\n",
    "# - /home/jonathanmorgan/work/django/research/context_analysis/R/sna/stanet/functions-statnet.r\n",
    "statnetFunctionFilePath <- paste( codeDirectory, \"/statnet/\", 'functions-statnet.r', sep = \"\" )"
   ]
  },
  {
   "cell_type": "code",
   "execution_count": 7,
   "metadata": {
    "ExecuteTime": {
     "end_time": "2019-07-25T04:34:16.805135Z",
     "start_time": "2019-07-25T04:34:16.252Z"
    }
   },
   "outputs": [
    {
     "name": "stderr",
     "output_type": "stream",
     "text": [
      "Loading required package: statnet.common\n",
      "\n",
      "Attaching package: ‘statnet.common’\n",
      "\n",
      "The following object is masked from ‘package:base’:\n",
      "\n",
      "    order\n",
      "\n",
      "Loading required package: network\n",
      "network: Classes for Relational Data\n",
      "Version 1.13.0.1 created on 2015-08-31.\n",
      "copyright (c) 2005, Carter T. Butts, University of California-Irvine\n",
      "                    Mark S. Handcock, University of California -- Los Angeles\n",
      "                    David R. Hunter, Penn State University\n",
      "                    Martina Morris, University of Washington\n",
      "                    Skye Bender-deMoll, University of Washington\n",
      " For citation information, type citation(\"network\").\n",
      " Type help(\"network-package\") to get started.\n",
      "\n",
      "sna: Tools for Social Network Analysis\n",
      "Version 2.4 created on 2016-07-23.\n",
      "copyright (c) 2005, Carter T. Butts, University of California-Irvine\n",
      " For citation information, type citation(\"sna\").\n",
      " Type help(package=\"sna\") to get started.\n",
      "\n"
     ]
    }
   ],
   "source": [
    "source( statnetFunctionFilePath )"
   ]
  },
  {
   "cell_type": "markdown",
   "metadata": {},
   "source": [
    "## Setup - network data - render and store network data\n",
    "\n",
    "- Back to [Table of Contents](#Table-of-Contents)\n",
    "\n",
    "First, need render to render network data and upload it to your server.\n",
    "\n",
    "Directions for rendering network data are in [2017.11.14-work_log-prelim-network_analysis.ipynb](2017.11.14-work_log-prelim-network_analysis.ipynb).  You want a tab-delimited matrix that includes both the network and attributes of nodes as columns, and you want it to include a header row.\n",
    "\n",
    "Once you render your network data files, you should place them on the server.\n",
    "\n",
    "High level data file layout:\n",
    "\n",
    "- tab-delimited.\n",
    "- first row and first column are labels\n",
    "- last 2 columns are traits of nodes (`person_id` and `person_type`)\n",
    "- each row and column after first until the trait columns represents a person found in one of the articles.\n",
    "- The people are in the same order from top to bottom and left to right.\n",
    "- Where the row and column of two people meet, and one of the people is an author, the nunber in the cell where they meet is the number of times the non-author was quoted in an article by the author.  Does not include more basic two-mode co-location ties (appeared in same article, even if not an author and/or not quoted).\n",
    "\n",
    "Files and their location on server:"
   ]
  },
  {
   "cell_type": "markdown",
   "metadata": {},
   "source": [
    "### data - grp_month\n",
    "\n",
    "- Back to [Table of Contents](#Table-of-Contents)\n",
    "\n",
    "This is data from the Grand Rapids Press articles from December of 2009, coded by both humans and OpenCalais.\n",
    "\n",
    "Files:\n",
    "\n",
    "- automated full month - `sourcenet_data-20171205-022551-grp_month-automated.tab`\n",
    "- human full month - `sourcenet_data-20171115-043102-grp_month-human.tab`\n",
    "- automated week 1 subset - `sourcenet_data-20171206-031358-grp_month-automated-week1_subset.tab`\n",
    "- human week 1 subset - `sourcenet_data-20171206-031319-grp_month-human-week1_subset.tab`\n",
    "- automated week 2 subset - `sourcenet_data-20180326-040445-grp_month-automated-week2_subset.tab`\n",
    "- human week 2 subset - `sourcenet_data-20180326-034401-grp_month-human-week2_subset.tab`\n",
    "- automated week 3 subset - `sourcenet_data-20180326-040736-grp_month-automated-week3_subset.tab`\n",
    "- human week 3 subset - `sourcenet_data-20180326-034548-grp_month-human-week3_subset.tab`\n",
    "\n",
    "Location in Dropbox: `Dropbox/academia/MSU/program_stuff/prelim_paper/data/network_analysis/2017.11.14/network/new_coders/grp_month`\n",
    "\n",
    "Location on server: `/home/jonathanmorgan/work/django/research/work/phd_work/data/network/grp_month`"
   ]
  },
  {
   "cell_type": "markdown",
   "metadata": {},
   "source": [
    "## Setup - load workspace\n",
    "\n",
    "- Back to [Table of Contents](#Table-of-Contents)\n",
    "\n",
    "You must load this file's workspace, from a previous run:"
   ]
  },
  {
   "cell_type": "code",
   "execution_count": 8,
   "metadata": {
    "ExecuteTime": {
     "end_time": "2019-07-25T04:34:22.666714Z",
     "start_time": "2019-07-25T04:34:19.629Z"
    }
   },
   "outputs": [],
   "source": [
    "# assumes that you've already set working directory above to the\n",
    "#     working directory.\n",
    "setwd( dataDirectory )\n",
    "load( workspaceFileName )"
   ]
  },
  {
   "cell_type": "markdown",
   "metadata": {},
   "source": [
    "# Compare `grp_week_1` and `grp_week_2` using QAP\n",
    "\n",
    "- Back to [Table of Contents](#Table-of-Contents)\n",
    "\n",
    "Now, compare the automated and human-coded networks from a week 1 and week 2 to each other, to look at similarity of weeks over time (I'd expect it to be small).\n",
    "\n",
    "Based on: `context_text/R/sna/statnet/sna-qap.r`"
   ]
  },
  {
   "cell_type": "markdown",
   "metadata": {},
   "source": [
    "## week_1-to-week_2 - a2b - automated-to-baseline\n",
    "\n",
    "- Back to [Table of Contents](#Table-of-Contents)"
   ]
  },
  {
   "cell_type": "code",
   "execution_count": 10,
   "metadata": {
    "ExecuteTime": {
     "end_time": "2019-07-25T04:35:06.679861Z",
     "start_time": "2019-07-25T04:35:06.655Z"
    }
   },
   "outputs": [],
   "source": [
    "# setup\n",
    "outputPrefix <- \"week_1-to-week_2 a2b\""
   ]
  },
  {
   "cell_type": "code",
   "execution_count": 11,
   "metadata": {
    "ExecuteTime": {
     "end_time": "2019-07-25T04:44:34.168646Z",
     "start_time": "2019-07-25T04:35:07.734Z"
    }
   },
   "outputs": [
    {
     "name": "stderr",
     "output_type": "stream",
     "text": [
      "==> Start of  compareMatricesQAP  at  2019-07-25 04:35:07\n",
      "----> week_1-to-week_2 a2b graph correlation = 0.0388791393875694 ( @ 2019-07-25 04:35:09 )\n",
      "----> week_1-to-week_2 a2b QAP correlation analysis complete at 2019-07-25 04:38:31.  Summary:\n"
     ]
    },
    {
     "name": "stdout",
     "output_type": "stream",
     "text": [
      "\n",
      "QAP Test Results\n",
      "\n",
      "Estimated p-values:\n",
      "\tp(f(perm) >= f(d)): 0 \n",
      "\tp(f(perm) <= f(d)): 1 \n",
      "\n",
      "Test Diagnostics:\n",
      "\tTest Value (f(d)): 0.03887914 \n",
      "\tReplications: 1000 \n",
      "\tDistribution Summary:\n",
      "\t\tMin:\t -0.0004186863 \n",
      "\t\t1stQ:\t -0.0004186863 \n",
      "\t\tMed:\t -0.0004186863 \n",
      "\t\tMean:\t -3.175389e-05 \n",
      "\t\t3rdQ:\t -0.0004186863 \n",
      "\t\tMax:\t 0.005627133 \n",
      "\n"
     ]
    },
    {
     "name": "stderr",
     "output_type": "stream",
     "text": [
      "\n",
      "----> week_1-to-week_2 a2b graph covariance = 1.89039422311724e-05 ( @ 2019-07-25 04:38:32 )\n",
      "----> week_1-to-week_2 a2b QAP covariance analysis complete at 2019-07-25 04:41:49.  Summary:\n"
     ]
    },
    {
     "name": "stdout",
     "output_type": "stream",
     "text": [
      "\n",
      "QAP Test Results\n",
      "\n",
      "Estimated p-values:\n",
      "\tp(f(perm) >= f(d)): 0 \n",
      "\tp(f(perm) <= f(d)): 1 \n",
      "\n",
      "Test Diagnostics:\n",
      "\tTest Value (f(d)): 1.890394e-05 \n",
      "\tReplications: 1000 \n",
      "\tDistribution Summary:\n",
      "\t\tMin:\t -2.03575e-07 \n",
      "\t\t1stQ:\t -2.03575e-07 \n",
      "\t\tMed:\t -2.03575e-07 \n",
      "\t\tMean:\t -7.413888e-10 \n",
      "\t\t3rdQ:\t -2.03575e-07 \n",
      "\t\tMax:\t 5.675661e-06 \n",
      "\n"
     ]
    },
    {
     "name": "stderr",
     "output_type": "stream",
     "text": [
      "\n",
      "----> week_1-to-week_2 a2b graph hamming distance = 1196 ( @ 2019-07-25 04:41:49 )\n",
      "----> week_1-to-week_2 a2b QAP hamming distance analysis complete at 2019-07-25 04:44:34.  Summary:\n"
     ]
    },
    {
     "name": "stdout",
     "output_type": "stream",
     "text": [
      "\n",
      "QAP Test Results\n",
      "\n",
      "Estimated p-values:\n",
      "\tp(f(perm) >= f(d)): 1 \n",
      "\tp(f(perm) <= f(d)): 0 \n",
      "\n",
      "Test Diagnostics:\n",
      "\tTest Value (f(d)): 1196 \n",
      "\tReplications: 1000 \n",
      "\tDistribution Summary:\n",
      "\t\tMin:\t 1216 \n",
      "\t\t1stQ:\t 1228 \n",
      "\t\tMed:\t 1228 \n",
      "\t\tMean:\t 1227.376 \n",
      "\t\t3rdQ:\t 1228 \n",
      "\t\tMax:\t 1228 \n",
      "\n"
     ]
    },
    {
     "name": "stderr",
     "output_type": "stream",
     "text": [
      "\n",
      "==> End of  compareMatricesQAP  at  2019-07-25 04:44:34\n"
     ]
    }
   ],
   "source": [
    "w1w2a2bOutput <- compareMatricesQAP( gw1AutomatedNetworkMatrix, gw2HumanNetworkMatrix, outputPrefix )"
   ]
  },
  {
   "cell_type": "code",
   "execution_count": null,
   "metadata": {
    "ExecuteTime": {
     "end_time": "2019-07-25T04:34:40.670883Z",
     "start_time": "2019-07-25T04:34:39.933Z"
    }
   },
   "outputs": [],
   "source": [
    "# also output plots of distributions of QAP values?\n",
    "displayCompareMatricesQAPOutput( w1w2a2bOutput, outputPrefix, TRUE )"
   ]
  },
  {
   "cell_type": "markdown",
   "metadata": {},
   "source": [
    "## week_1-to-week_2 - b2a - baseline-to-automated\n",
    "\n",
    "- Back to [Table of Contents](#Table-of-Contents)"
   ]
  },
  {
   "cell_type": "code",
   "execution_count": 12,
   "metadata": {
    "ExecuteTime": {
     "end_time": "2019-07-25T04:44:34.183016Z",
     "start_time": "2019-07-25T04:35:12.276Z"
    }
   },
   "outputs": [],
   "source": [
    "# setup\n",
    "outputPrefix <- \"week_1-to-week_2 b2a\""
   ]
  },
  {
   "cell_type": "code",
   "execution_count": 13,
   "metadata": {
    "ExecuteTime": {
     "end_time": "2019-07-25T04:53:50.840790Z",
     "start_time": "2019-07-25T04:35:13.063Z"
    }
   },
   "outputs": [
    {
     "name": "stderr",
     "output_type": "stream",
     "text": [
      "==> Start of  compareMatricesQAP  at  2019-07-25 04:44:34\n",
      "----> week_1-to-week_2 b2a graph correlation = 0.0397098150333047 ( @ 2019-07-25 04:44:34 )\n",
      "----> week_1-to-week_2 b2a QAP correlation analysis complete at 2019-07-25 04:47:47.  Summary:\n"
     ]
    },
    {
     "name": "stdout",
     "output_type": "stream",
     "text": [
      "\n",
      "QAP Test Results\n",
      "\n",
      "Estimated p-values:\n",
      "\tp(f(perm) >= f(d)): 0 \n",
      "\tp(f(perm) <= f(d)): 1 \n",
      "\n",
      "Test Diagnostics:\n",
      "\tTest Value (f(d)): 0.03970982 \n",
      "\tReplications: 1000 \n",
      "\tDistribution Summary:\n",
      "\t\tMin:\t -0.0004459904 \n",
      "\t\t1stQ:\t -0.0004459904 \n",
      "\t\tMed:\t -0.0004459904 \n",
      "\t\tMean:\t 7.196546e-06 \n",
      "\t\t3rdQ:\t -0.0004459904 \n",
      "\t\tMax:\t 0.0110271 \n",
      "\n"
     ]
    },
    {
     "name": "stderr",
     "output_type": "stream",
     "text": [
      "\n",
      "----> week_1-to-week_2 b2a graph covariance = 2.03487842371895e-05 ( @ 2019-07-25 04:47:47 )\n",
      "----> week_1-to-week_2 b2a QAP covariance analysis complete at 2019-07-25 04:50:46.  Summary:\n"
     ]
    },
    {
     "name": "stdout",
     "output_type": "stream",
     "text": [
      "\n",
      "QAP Test Results\n",
      "\n",
      "Estimated p-values:\n",
      "\tp(f(perm) >= f(d)): 0 \n",
      "\tp(f(perm) <= f(d)): 1 \n",
      "\n",
      "Test Diagnostics:\n",
      "\tTest Value (f(d)): 2.034878e-05 \n",
      "\tReplications: 1000 \n",
      "\tDistribution Summary:\n",
      "\t\tMin:\t -2.28542e-07 \n",
      "\t\t1stQ:\t -2.28542e-07 \n",
      "\t\tMed:\t -2.28542e-07 \n",
      "\t\tMean:\t -6.600886e-09 \n",
      "\t\t3rdQ:\t -2.28542e-07 \n",
      "\t\tMax:\t 5.650694e-06 \n",
      "\n"
     ]
    },
    {
     "name": "stderr",
     "output_type": "stream",
     "text": [
      "\n",
      "----> week_1-to-week_2 b2a graph hamming distance = 1274 ( @ 2019-07-25 04:50:47 )\n",
      "----> week_1-to-week_2 b2a QAP hamming distance analysis complete at 2019-07-25 04:53:50.  Summary:\n"
     ]
    },
    {
     "name": "stdout",
     "output_type": "stream",
     "text": [
      "\n",
      "QAP Test Results\n",
      "\n",
      "Estimated p-values:\n",
      "\tp(f(perm) >= f(d)): 1 \n",
      "\tp(f(perm) <= f(d)): 0 \n",
      "\n",
      "Test Diagnostics:\n",
      "\tTest Value (f(d)): 1274 \n",
      "\tReplications: 1000 \n",
      "\tDistribution Summary:\n",
      "\t\tMin:\t 1294 \n",
      "\t\t1stQ:\t 1306 \n",
      "\t\tMed:\t 1306 \n",
      "\t\tMean:\t 1305.332 \n",
      "\t\t3rdQ:\t 1306 \n",
      "\t\tMax:\t 1306 \n",
      "\n"
     ]
    },
    {
     "name": "stderr",
     "output_type": "stream",
     "text": [
      "\n",
      "==> End of  compareMatricesQAP  at  2019-07-25 04:53:50\n"
     ]
    }
   ],
   "source": [
    "w1w2b2aOutput <- compareMatricesQAP( gw1HumanNetworkMatrix, gw2AutomatedNetworkMatrix, outputPrefix )"
   ]
  },
  {
   "cell_type": "code",
   "execution_count": null,
   "metadata": {},
   "outputs": [],
   "source": [
    "# also output plots of distributions of QAP values?\n",
    "displayCompareMatricesQAPOutput( w1w2b2aOutput, outputPrefix, TRUE )"
   ]
  },
  {
   "cell_type": "markdown",
   "metadata": {},
   "source": [
    "# Compare `grp_week_1` and `grp_week_3` using QAP\n",
    "\n",
    "- Back to [Table of Contents](#Table-of-Contents)\n",
    "\n",
    "Now, compare the automated and human-coded networks from a week 1 and week 3 to each other, to look at similarity of weeks over time (I'd expect it to be small).\n",
    "\n",
    "Based on: `context_text/R/sna/statnet/sna-qap.r`"
   ]
  },
  {
   "cell_type": "markdown",
   "metadata": {},
   "source": [
    "## week_1-to-week_3 - a2b - automated-to-baseline\n",
    "\n",
    "- Back to [Table of Contents](#Table-of-Contents)"
   ]
  },
  {
   "cell_type": "code",
   "execution_count": 14,
   "metadata": {
    "ExecuteTime": {
     "end_time": "2019-07-25T04:53:50.862715Z",
     "start_time": "2019-07-25T04:35:15.911Z"
    }
   },
   "outputs": [],
   "source": [
    "outputPrefix <- \"week_1-to-week_3 a2b\""
   ]
  },
  {
   "cell_type": "code",
   "execution_count": 15,
   "metadata": {
    "ExecuteTime": {
     "end_time": "2019-07-25T05:03:15.055999Z",
     "start_time": "2019-07-25T04:35:16.697Z"
    }
   },
   "outputs": [
    {
     "name": "stderr",
     "output_type": "stream",
     "text": [
      "==> Start of  compareMatricesQAP  at  2019-07-25 04:53:50\n",
      "----> week_1-to-week_3 a2b graph correlation = 0.0256046850980302 ( @ 2019-07-25 04:53:51 )\n",
      "----> week_1-to-week_3 a2b QAP correlation analysis complete at 2019-07-25 04:57:02.  Summary:\n"
     ]
    },
    {
     "name": "stdout",
     "output_type": "stream",
     "text": [
      "\n",
      "QAP Test Results\n",
      "\n",
      "Estimated p-values:\n",
      "\tp(f(perm) >= f(d)): 0 \n",
      "\tp(f(perm) <= f(d)): 1 \n",
      "\n",
      "Test Diagnostics:\n",
      "\tTest Value (f(d)): 0.02560469 \n",
      "\tReplications: 1000 \n",
      "\tDistribution Summary:\n",
      "\t\tMin:\t -0.0004027144 \n",
      "\t\t1stQ:\t -0.0004027144 \n",
      "\t\tMed:\t -0.0004027144 \n",
      "\t\tMean:\t -3.535993e-05 \n",
      "\t\t3rdQ:\t -0.0004027144 \n",
      "\t\tMax:\t 0.00935006 \n",
      "\n"
     ]
    },
    {
     "name": "stderr",
     "output_type": "stream",
     "text": [
      "\n",
      "----> week_1-to-week_3 a2b graph covariance = 1.15763968028605e-05 ( @ 2019-07-25 04:57:02 )\n",
      "----> week_1-to-week_3 a2b QAP covariance analysis complete at 2019-07-25 05:00:10.  Summary:\n"
     ]
    },
    {
     "name": "stdout",
     "output_type": "stream",
     "text": [
      "\n",
      "QAP Test Results\n",
      "\n",
      "Estimated p-values:\n",
      "\tp(f(perm) >= f(d)): 0 \n",
      "\tp(f(perm) <= f(d)): 1 \n",
      "\n",
      "Test Diagnostics:\n",
      "\tTest Value (f(d)): 1.15764e-05 \n",
      "\tReplications: 1000 \n",
      "\tDistribution Summary:\n",
      "\t\tMin:\t -1.820754e-07 \n",
      "\t\t1stQ:\t -1.820754e-07 \n",
      "\t\tMed:\t -1.820754e-07 \n",
      "\t\tMean:\t -2.333599e-08 \n",
      "\t\t3rdQ:\t -1.820754e-07 \n",
      "\t\tMax:\t 4.227352e-06 \n",
      "\n"
     ]
    },
    {
     "name": "stderr",
     "output_type": "stream",
     "text": [
      "\n",
      "----> week_1-to-week_3 a2b graph hamming distance = 1140 ( @ 2019-07-25 05:00:10 )\n",
      "----> week_1-to-week_3 a2b QAP hamming distance analysis complete at 2019-07-25 05:03:15.  Summary:\n"
     ]
    },
    {
     "name": "stdout",
     "output_type": "stream",
     "text": [
      "\n",
      "QAP Test Results\n",
      "\n",
      "Estimated p-values:\n",
      "\tp(f(perm) >= f(d)): 1 \n",
      "\tp(f(perm) <= f(d)): 0 \n",
      "\n",
      "Test Diagnostics:\n",
      "\tTest Value (f(d)): 1140 \n",
      "\tReplications: 1000 \n",
      "\tDistribution Summary:\n",
      "\t\tMin:\t 1152 \n",
      "\t\t1stQ:\t 1164 \n",
      "\t\tMed:\t 1164 \n",
      "\t\tMean:\t 1163.64 \n",
      "\t\t3rdQ:\t 1164 \n",
      "\t\tMax:\t 1164 \n",
      "\n"
     ]
    },
    {
     "name": "stderr",
     "output_type": "stream",
     "text": [
      "\n",
      "==> End of  compareMatricesQAP  at  2019-07-25 05:03:15\n"
     ]
    }
   ],
   "source": [
    "w1w3a2bOutput <- compareMatricesQAP( gw1AutomatedNetworkMatrix, gw3HumanNetworkMatrix, outputPrefix )"
   ]
  },
  {
   "cell_type": "code",
   "execution_count": null,
   "metadata": {},
   "outputs": [],
   "source": [
    "# also output plots of distributions of QAP values?\n",
    "displayCompareMatricesQAPOutput( w1w3a2bOutput, outputPrefix, TRUE )"
   ]
  },
  {
   "cell_type": "markdown",
   "metadata": {},
   "source": [
    "## week_1-to-week_3 - b2a - baseline-to-automated\n",
    "\n",
    "- Back to [Table of Contents](#Table-of-Contents)"
   ]
  },
  {
   "cell_type": "code",
   "execution_count": 16,
   "metadata": {
    "ExecuteTime": {
     "end_time": "2019-07-25T05:03:15.084459Z",
     "start_time": "2019-07-25T04:35:18.871Z"
    }
   },
   "outputs": [],
   "source": [
    "outputPrefix <- \"week_1-to-week_3 b2a\""
   ]
  },
  {
   "cell_type": "code",
   "execution_count": 17,
   "metadata": {
    "ExecuteTime": {
     "end_time": "2019-07-25T05:12:44.760941Z",
     "start_time": "2019-07-25T04:35:19.619Z"
    }
   },
   "outputs": [
    {
     "name": "stderr",
     "output_type": "stream",
     "text": [
      "==> Start of  compareMatricesQAP  at  2019-07-25 05:03:15\n",
      "----> week_1-to-week_3 b2a graph correlation = 0.0276643456334622 ( @ 2019-07-25 05:03:15 )\n",
      "----> week_1-to-week_3 b2a QAP correlation analysis complete at 2019-07-25 05:06:38.  Summary:\n"
     ]
    },
    {
     "name": "stdout",
     "output_type": "stream",
     "text": [
      "\n",
      "QAP Test Results\n",
      "\n",
      "Estimated p-values:\n",
      "\tp(f(perm) >= f(d)): 0 \n",
      "\tp(f(perm) <= f(d)): 1 \n",
      "\n",
      "Test Diagnostics:\n",
      "\tTest Value (f(d)): 0.02766435 \n",
      "\tReplications: 1000 \n",
      "\tDistribution Summary:\n",
      "\t\tMin:\t -0.0004184268 \n",
      "\t\t1stQ:\t -0.0004184268 \n",
      "\t\tMed:\t -0.0004184268 \n",
      "\t\tMean:\t 5.273967e-05 \n",
      "\t\t3rdQ:\t -0.0004184268 \n",
      "\t\tMax:\t 0.008942497 \n",
      "\n"
     ]
    },
    {
     "name": "stderr",
     "output_type": "stream",
     "text": [
      "\n",
      "----> week_1-to-week_3 b2a graph covariance = 1.30311828399446e-05 ( @ 2019-07-25 05:06:38 )\n",
      "----> week_1-to-week_3 b2a QAP covariance analysis complete at 2019-07-25 05:09:49.  Summary:\n"
     ]
    },
    {
     "name": "stdout",
     "output_type": "stream",
     "text": [
      "\n",
      "QAP Test Results\n",
      "\n",
      "Estimated p-values:\n",
      "\tp(f(perm) >= f(d)): 0 \n",
      "\tp(f(perm) <= f(d)): 1 \n",
      "\n",
      "Test Diagnostics:\n",
      "\tTest Value (f(d)): 1.303118e-05 \n",
      "\tReplications: 1000 \n",
      "\tDistribution Summary:\n",
      "\t\tMin:\t -1.970983e-07 \n",
      "\t\t1stQ:\t -1.970983e-07 \n",
      "\t\tMed:\t -1.970983e-07 \n",
      "\t\tMean:\t 1.325874e-09 \n",
      "\t\t3rdQ:\t -1.970983e-07 \n",
      "\t\tMax:\t 4.212329e-06 \n",
      "\n"
     ]
    },
    {
     "name": "stderr",
     "output_type": "stream",
     "text": [
      "\n",
      "----> week_1-to-week_3 b2a graph hamming distance = 1196 ( @ 2019-07-25 05:09:49 )\n",
      "----> week_1-to-week_3 b2a QAP hamming distance analysis complete at 2019-07-25 05:12:44.  Summary:\n"
     ]
    },
    {
     "name": "stdout",
     "output_type": "stream",
     "text": [
      "\n",
      "QAP Test Results\n",
      "\n",
      "Estimated p-values:\n",
      "\tp(f(perm) >= f(d)): 1 \n",
      "\tp(f(perm) <= f(d)): 0 \n",
      "\n",
      "Test Diagnostics:\n",
      "\tTest Value (f(d)): 1196 \n",
      "\tReplications: 1000 \n",
      "\tDistribution Summary:\n",
      "\t\tMin:\t 1212 \n",
      "\t\t1stQ:\t 1224 \n",
      "\t\tMed:\t 1224 \n",
      "\t\tMean:\t 1223.492 \n",
      "\t\t3rdQ:\t 1224 \n",
      "\t\tMax:\t 1224 \n",
      "\n"
     ]
    },
    {
     "name": "stderr",
     "output_type": "stream",
     "text": [
      "\n",
      "==> End of  compareMatricesQAP  at  2019-07-25 05:12:44\n"
     ]
    }
   ],
   "source": [
    "w1w3b2aOutput <- compareMatricesQAP( gw1HumanNetworkMatrix, gw3AutomatedNetworkMatrix, outputPrefix )"
   ]
  },
  {
   "cell_type": "code",
   "execution_count": null,
   "metadata": {},
   "outputs": [],
   "source": [
    "# also output plots of distributions of QAP values?\n",
    "displayCompareMatricesQAPOutput( w1w3b2aOutput, outputPrefix, TRUE )"
   ]
  },
  {
   "cell_type": "markdown",
   "metadata": {},
   "source": [
    "# Compare `grp_week_2` and `grp_week_3` using QAP\n",
    "\n",
    "- Back to [Table of Contents](#Table-of-Contents)\n",
    "\n",
    "Now, compare the automated and human-coded networks from a week 2 and week 3 to each other, to look at similarity of weeks over time (I'd expect it to be small).\n",
    "\n",
    "Based on: `context_text/R/sna/statnet/sna-qap.r`"
   ]
  },
  {
   "cell_type": "markdown",
   "metadata": {},
   "source": [
    "## week_2-to-week_3 - a2b - automated-to-baseline\n",
    "\n",
    "- Back to [Table of Contents](#Table-of-Contents)"
   ]
  },
  {
   "cell_type": "code",
   "execution_count": 18,
   "metadata": {
    "ExecuteTime": {
     "end_time": "2019-07-25T05:12:44.781011Z",
     "start_time": "2019-07-25T04:35:22.204Z"
    }
   },
   "outputs": [],
   "source": [
    "outputPrefix <- \"week_2-to-week_3 a2b\""
   ]
  },
  {
   "cell_type": "code",
   "execution_count": 19,
   "metadata": {
    "ExecuteTime": {
     "end_time": "2019-07-25T05:23:18.944406Z",
     "start_time": "2019-07-25T04:35:22.906Z"
    }
   },
   "outputs": [
    {
     "name": "stderr",
     "output_type": "stream",
     "text": [
      "==> Start of  compareMatricesQAP  at  2019-07-25 05:12:44\n",
      "----> week_2-to-week_3 a2b graph correlation = 0.0231018634814177 ( @ 2019-07-25 05:12:44 )\n",
      "----> week_2-to-week_3 a2b QAP correlation analysis complete at 2019-07-25 05:16:40.  Summary:\n"
     ]
    },
    {
     "name": "stdout",
     "output_type": "stream",
     "text": [
      "\n",
      "QAP Test Results\n",
      "\n",
      "Estimated p-values:\n",
      "\tp(f(perm) >= f(d)): 0 \n",
      "\tp(f(perm) <= f(d)): 1 \n",
      "\n",
      "Test Diagnostics:\n",
      "\tTest Value (f(d)): 0.02310186 \n",
      "\tReplications: 1000 \n",
      "\tDistribution Summary:\n",
      "\t\tMin:\t -0.0003984947 \n",
      "\t\t1stQ:\t -0.0003984947 \n",
      "\t\tMed:\t -0.0003984947 \n",
      "\t\tMean:\t -1.241742e-05 \n",
      "\t\t3rdQ:\t -0.0003984947 \n",
      "\t\tMax:\t 0.009673087 \n",
      "\n"
     ]
    },
    {
     "name": "stderr",
     "output_type": "stream",
     "text": [
      "\n",
      "----> week_2-to-week_3 a2b graph covariance = 1.01141986496361e-05 ( @ 2019-07-25 05:16:40 )\n",
      "----> week_2-to-week_3 a2b QAP covariance analysis complete at 2019-07-25 05:20:15.  Summary:\n"
     ]
    },
    {
     "name": "stdout",
     "output_type": "stream",
     "text": [
      "\n",
      "QAP Test Results\n",
      "\n",
      "Estimated p-values:\n",
      "\tp(f(perm) >= f(d)): 0 \n",
      "\tp(f(perm) <= f(d)): 1 \n",
      "\n",
      "Test Diagnostics:\n",
      "\tTest Value (f(d)): 1.01142e-05 \n",
      "\tReplications: 1000 \n",
      "\tDistribution Summary:\n",
      "\t\tMin:\t -1.744645e-07 \n",
      "\t\t1stQ:\t -1.744645e-07 \n",
      "\t\tMed:\t -1.744645e-07 \n",
      "\t\tMean:\t -9.845883e-09 \n",
      "\t\t3rdQ:\t -1.744645e-07 \n",
      "\t\tMax:\t 5.704772e-06 \n",
      "\n"
     ]
    },
    {
     "name": "stderr",
     "output_type": "stream",
     "text": [
      "\n",
      "----> week_2-to-week_3 a2b graph hamming distance = 1110 ( @ 2019-07-25 05:20:15 )\n",
      "----> week_2-to-week_3 a2b QAP hamming distance analysis complete at 2019-07-25 05:23:18.  Summary:\n"
     ]
    },
    {
     "name": "stdout",
     "output_type": "stream",
     "text": [
      "\n",
      "QAP Test Results\n",
      "\n",
      "Estimated p-values:\n",
      "\tp(f(perm) >= f(d)): 1 \n",
      "\tp(f(perm) <= f(d)): 0 \n",
      "\n",
      "Test Diagnostics:\n",
      "\tTest Value (f(d)): 1110 \n",
      "\tReplications: 1000 \n",
      "\tDistribution Summary:\n",
      "\t\tMin:\t 1126 \n",
      "\t\t1stQ:\t 1138 \n",
      "\t\tMed:\t 1138 \n",
      "\t\tMean:\t 1137.648 \n",
      "\t\t3rdQ:\t 1138 \n",
      "\t\tMax:\t 1138 \n",
      "\n"
     ]
    },
    {
     "name": "stderr",
     "output_type": "stream",
     "text": [
      "\n",
      "==> End of  compareMatricesQAP  at  2019-07-25 05:23:18\n"
     ]
    }
   ],
   "source": [
    "w2w3a2bOutput <- compareMatricesQAP( gw2AutomatedNetworkMatrix, gw3HumanNetworkMatrix, outputPrefix )"
   ]
  },
  {
   "cell_type": "code",
   "execution_count": null,
   "metadata": {},
   "outputs": [],
   "source": [
    "# also output plots of distributions of QAP values?\n",
    "displayCompareMatricesQAPOutput( w2w3a2bOutput, outputPrefix, TRUE )"
   ]
  },
  {
   "cell_type": "markdown",
   "metadata": {},
   "source": [
    "## week_2-to-week_3 - b2a - baseline-to-automated\n",
    "\n",
    "- Back to [Table of Contents](#Table-of-Contents)"
   ]
  },
  {
   "cell_type": "code",
   "execution_count": 20,
   "metadata": {
    "ExecuteTime": {
     "end_time": "2019-07-25T05:23:18.962352Z",
     "start_time": "2019-07-25T04:35:25.792Z"
    }
   },
   "outputs": [],
   "source": [
    "outputPrefix <- \"week_2-to-week_3 b2a\""
   ]
  },
  {
   "cell_type": "code",
   "execution_count": 21,
   "metadata": {
    "ExecuteTime": {
     "end_time": "2019-07-25T05:32:35.295384Z",
     "start_time": "2019-07-25T04:35:26.441Z"
    }
   },
   "outputs": [
    {
     "name": "stderr",
     "output_type": "stream",
     "text": [
      "==> Start of  compareMatricesQAP  at  2019-07-25 05:23:18\n",
      "----> week_2-to-week_3 b2a graph correlation = 0.0301755980515345 ( @ 2019-07-25 05:23:19 )\n",
      "----> week_2-to-week_3 b2a QAP correlation analysis complete at 2019-07-25 05:26:33.  Summary:\n"
     ]
    },
    {
     "name": "stdout",
     "output_type": "stream",
     "text": [
      "\n",
      "QAP Test Results\n",
      "\n",
      "Estimated p-values:\n",
      "\tp(f(perm) >= f(d)): 0 \n",
      "\tp(f(perm) <= f(d)): 1 \n",
      "\n",
      "Test Diagnostics:\n",
      "\tTest Value (f(d)): 0.0301756 \n",
      "\tReplications: 1000 \n",
      "\tDistribution Summary:\n",
      "\t\tMin:\t -0.0003886943 \n",
      "\t\t1stQ:\t -0.0003886943 \n",
      "\t\tMed:\t -0.0003886943 \n",
      "\t\tMean:\t -2.19228e-05 \n",
      "\t\t3rdQ:\t -0.0003886943 \n",
      "\t\tMax:\t 0.009799403 \n",
      "\n"
     ]
    },
    {
     "name": "stderr",
     "output_type": "stream",
     "text": [
      "\n",
      "----> week_2-to-week_3 b2a graph covariance = 1.30600535831945e-05 ( @ 2019-07-25 05:26:33 )\n",
      "----> week_2-to-week_3 b2a QAP covariance analysis complete at 2019-07-25 05:29:43.  Summary:\n"
     ]
    },
    {
     "name": "stdout",
     "output_type": "stream",
     "text": [
      "\n",
      "QAP Test Results\n",
      "\n",
      "Estimated p-values:\n",
      "\tp(f(perm) >= f(d)): 0 \n",
      "\tp(f(perm) <= f(d)): 1 \n",
      "\n",
      "Test Diagnostics:\n",
      "\tTest Value (f(d)): 1.306005e-05 \n",
      "\tReplications: 1000 \n",
      "\tDistribution Summary:\n",
      "\t\tMin:\t -1.682276e-07 \n",
      "\t\t1stQ:\t -1.682276e-07 \n",
      "\t\tMed:\t -1.682276e-07 \n",
      "\t\tMean:\t 8.004373e-10 \n",
      "\t\t3rdQ:\t -1.682276e-07 \n",
      "\t\tMax:\t 4.241199e-06 \n",
      "\n"
     ]
    },
    {
     "name": "stderr",
     "output_type": "stream",
     "text": [
      "\n",
      "----> week_2-to-week_3 b2a graph hamming distance = 1088 ( @ 2019-07-25 05:29:43 )\n",
      "----> week_2-to-week_3 b2a QAP hamming distance analysis complete at 2019-07-25 05:32:35.  Summary:\n"
     ]
    },
    {
     "name": "stdout",
     "output_type": "stream",
     "text": [
      "\n",
      "QAP Test Results\n",
      "\n",
      "Estimated p-values:\n",
      "\tp(f(perm) >= f(d)): 1 \n",
      "\tp(f(perm) <= f(d)): 0 \n",
      "\n",
      "Test Diagnostics:\n",
      "\tTest Value (f(d)): 1088 \n",
      "\tReplications: 1000 \n",
      "\tDistribution Summary:\n",
      "\t\tMin:\t 1112 \n",
      "\t\t1stQ:\t 1120 \n",
      "\t\tMed:\t 1120 \n",
      "\t\tMean:\t 1119.592 \n",
      "\t\t3rdQ:\t 1120 \n",
      "\t\tMax:\t 1120 \n",
      "\n"
     ]
    },
    {
     "name": "stderr",
     "output_type": "stream",
     "text": [
      "\n",
      "==> End of  compareMatricesQAP  at  2019-07-25 05:32:35\n"
     ]
    }
   ],
   "source": [
    "w2w3b2aOutput <- compareMatricesQAP( gw2HumanNetworkMatrix, gw3AutomatedNetworkMatrix, outputPrefix )"
   ]
  },
  {
   "cell_type": "code",
   "execution_count": null,
   "metadata": {},
   "outputs": [],
   "source": [
    "# also output plots of distributions of QAP values?\n",
    "displayCompareMatricesQAPOutput( w2w3b2aOutput, outputPrefix, TRUE )"
   ]
  },
  {
   "cell_type": "markdown",
   "metadata": {},
   "source": [
    "# Compare `grp_month` and `grp_week_1` using QAP\n",
    "\n",
    "- Back to [Table of Contents](#Table-of-Contents)\n",
    "\n",
    "Now, compare the automated and human-coded networks from the full month and week 1 against each other, to see what more time gets you.\n",
    "\n",
    "Based on: `context_text/R/sna/statnet/sna-qap.r`"
   ]
  },
  {
   "cell_type": "markdown",
   "metadata": {},
   "source": [
    "## month-to-week_1 - a2b - automated-to-baseline\n",
    "\n",
    "- Back to [Table of Contents](#Table-of-Contents)"
   ]
  },
  {
   "cell_type": "code",
   "execution_count": 22,
   "metadata": {
    "ExecuteTime": {
     "end_time": "2019-07-25T05:32:35.323845Z",
     "start_time": "2019-07-25T04:35:28.994Z"
    }
   },
   "outputs": [],
   "source": [
    "outputPrefix <- \"month-to-week_1 a2b\""
   ]
  },
  {
   "cell_type": "code",
   "execution_count": 23,
   "metadata": {
    "ExecuteTime": {
     "end_time": "2019-07-25T05:41:14.644435Z",
     "start_time": "2019-07-25T04:35:29.612Z"
    }
   },
   "outputs": [
    {
     "name": "stderr",
     "output_type": "stream",
     "text": [
      "==> Start of  compareMatricesQAP  at  2019-07-25 05:32:35\n",
      "----> month-to-week_1 a2b graph correlation = 0.478538505658302 ( @ 2019-07-25 05:32:35 )\n",
      "----> month-to-week_1 a2b QAP correlation analysis complete at 2019-07-25 05:35:33.  Summary:\n"
     ]
    },
    {
     "name": "stdout",
     "output_type": "stream",
     "text": [
      "\n",
      "QAP Test Results\n",
      "\n",
      "Estimated p-values:\n",
      "\tp(f(perm) >= f(d)): 0 \n",
      "\tp(f(perm) <= f(d)): 1 \n",
      "\n",
      "Test Diagnostics:\n",
      "\tTest Value (f(d)): 0.4785385 \n",
      "\tReplications: 1000 \n",
      "\tDistribution Summary:\n",
      "\t\tMin:\t -0.0008536133 \n",
      "\t\t1stQ:\t -0.0008536133 \n",
      "\t\tMed:\t -0.0008536133 \n",
      "\t\tMean:\t -4.414794e-05 \n",
      "\t\t3rdQ:\t 0.0004562012 \n",
      "\t\tMax:\t 0.005695459 \n",
      "\n"
     ]
    },
    {
     "name": "stderr",
     "output_type": "stream",
     "text": [
      "\n",
      "----> month-to-week_1 a2b graph covariance = 0.000536992218843336 ( @ 2019-07-25 05:35:33 )\n",
      "----> month-to-week_1 a2b QAP covariance analysis complete at 2019-07-25 05:38:25.  Summary:\n"
     ]
    },
    {
     "name": "stdout",
     "output_type": "stream",
     "text": [
      "\n",
      "QAP Test Results\n",
      "\n",
      "Estimated p-values:\n",
      "\tp(f(perm) >= f(d)): 0 \n",
      "\tp(f(perm) <= f(d)): 1 \n",
      "\n",
      "Test Diagnostics:\n",
      "\tTest Value (f(d)): 0.0005369922 \n",
      "\tReplications: 1000 \n",
      "\tDistribution Summary:\n",
      "\t\tMin:\t -9.578826e-07 \n",
      "\t\t1stQ:\t -9.578826e-07 \n",
      "\t\tMed:\t -9.578826e-07 \n",
      "\t\tMean:\t -3.484255e-08 \n",
      "\t\t3rdQ:\t 5.119264e-07 \n",
      "\t\tMax:\t 1.22704e-05 \n",
      "\n"
     ]
    },
    {
     "name": "stderr",
     "output_type": "stream",
     "text": [
      "\n",
      "----> month-to-week_1 a2b graph hamming distance = 2000 ( @ 2019-07-25 05:38:26 )\n",
      "----> month-to-week_1 a2b QAP hamming distance analysis complete at 2019-07-25 05:41:14.  Summary:\n"
     ]
    },
    {
     "name": "stdout",
     "output_type": "stream",
     "text": [
      "\n",
      "QAP Test Results\n",
      "\n",
      "Estimated p-values:\n",
      "\tp(f(perm) >= f(d)): 1 \n",
      "\tp(f(perm) <= f(d)): 0 \n",
      "\n",
      "Test Diagnostics:\n",
      "\tTest Value (f(d)): 2000 \n",
      "\tReplications: 1000 \n",
      "\tDistribution Summary:\n",
      "\t\tMin:\t 3188 \n",
      "\t\t1stQ:\t 3204 \n",
      "\t\tMed:\t 3208 \n",
      "\t\tMean:\t 3205.64 \n",
      "\t\t3rdQ:\t 3208 \n",
      "\t\tMax:\t 3208 \n",
      "\n"
     ]
    },
    {
     "name": "stderr",
     "output_type": "stream",
     "text": [
      "\n",
      "==> End of  compareMatricesQAP  at  2019-07-25 05:41:14\n"
     ]
    }
   ],
   "source": [
    "mw1a2bOutput <- compareMatricesQAP( gmAutomatedNetworkMatrix, gw1HumanNetworkMatrix, outputPrefix )"
   ]
  },
  {
   "cell_type": "code",
   "execution_count": null,
   "metadata": {},
   "outputs": [],
   "source": [
    "# also output plots of distributions of QAP values?\n",
    "displayCompareMatricesQAPOutput( mw1a2bOutput, outputPrefix, TRUE )"
   ]
  },
  {
   "cell_type": "markdown",
   "metadata": {},
   "source": [
    "## month-to-week_1 - b2a - baseline-to-automated\n",
    "\n",
    "- Back to [Table of Contents](#Table-of-Contents)"
   ]
  },
  {
   "cell_type": "code",
   "execution_count": 24,
   "metadata": {
    "ExecuteTime": {
     "end_time": "2019-07-25T05:41:14.666214Z",
     "start_time": "2019-07-25T04:35:32.007Z"
    }
   },
   "outputs": [],
   "source": [
    "outputPrefix <- \"month-to-week_1 b2a\""
   ]
  },
  {
   "cell_type": "code",
   "execution_count": 25,
   "metadata": {
    "ExecuteTime": {
     "end_time": "2019-07-25T05:49:58.483454Z",
     "start_time": "2019-07-25T04:35:32.704Z"
    }
   },
   "outputs": [
    {
     "name": "stderr",
     "output_type": "stream",
     "text": [
      "==> Start of  compareMatricesQAP  at  2019-07-25 05:41:14\n",
      "----> month-to-week_1 b2a graph correlation = 0.486904338082859 ( @ 2019-07-25 05:41:14 )\n",
      "----> month-to-week_1 b2a QAP correlation analysis complete at 2019-07-25 05:44:14.  Summary:\n"
     ]
    },
    {
     "name": "stdout",
     "output_type": "stream",
     "text": [
      "\n",
      "QAP Test Results\n",
      "\n",
      "Estimated p-values:\n",
      "\tp(f(perm) >= f(d)): 0 \n",
      "\tp(f(perm) <= f(d)): 1 \n",
      "\n",
      "Test Diagnostics:\n",
      "\tTest Value (f(d)): 0.4869043 \n",
      "\tReplications: 1000 \n",
      "\tDistribution Summary:\n",
      "\t\tMin:\t -0.0008116987 \n",
      "\t\t1stQ:\t -0.0008116987 \n",
      "\t\tMed:\t -0.0008116987 \n",
      "\t\tMean:\t -6.665183e-05 \n",
      "\t\t3rdQ:\t 0.0005355832 \n",
      "\t\tMax:\t 0.008619274 \n",
      "\n"
     ]
    },
    {
     "name": "stderr",
     "output_type": "stream",
     "text": [
      "\n",
      "----> month-to-week_1 b2a graph covariance = 0.000531185347569327 ( @ 2019-07-25 05:44:15 )\n",
      "----> month-to-week_1 b2a QAP covariance analysis complete at 2019-07-25 05:47:11.  Summary:\n"
     ]
    },
    {
     "name": "stdout",
     "output_type": "stream",
     "text": [
      "\n",
      "QAP Test Results\n",
      "\n",
      "Estimated p-values:\n",
      "\tp(f(perm) >= f(d)): 0 \n",
      "\tp(f(perm) <= f(d)): 1 \n",
      "\n",
      "Test Diagnostics:\n",
      "\tTest Value (f(d)): 0.0005311853 \n",
      "\tReplications: 1000 \n",
      "\tDistribution Summary:\n",
      "\t\tMin:\t -8.855178e-07 \n",
      "\t\t1stQ:\t -8.855178e-07 \n",
      "\t\tMed:\t -8.855178e-07 \n",
      "\t\tMean:\t -2.714933e-08 \n",
      "\t\t3rdQ:\t 5.842912e-07 \n",
      "\t\tMax:\t 1.087295e-05 \n",
      "\n"
     ]
    },
    {
     "name": "stderr",
     "output_type": "stream",
     "text": [
      "\n",
      "----> month-to-week_1 b2a graph hamming distance = 2070 ( @ 2019-07-25 05:47:11 )\n",
      "----> month-to-week_1 b2a QAP hamming distance analysis complete at 2019-07-25 05:49:58.  Summary:\n"
     ]
    },
    {
     "name": "stdout",
     "output_type": "stream",
     "text": [
      "\n",
      "QAP Test Results\n",
      "\n",
      "Estimated p-values:\n",
      "\tp(f(perm) >= f(d)): 1 \n",
      "\tp(f(perm) <= f(d)): 0 \n",
      "\n",
      "Test Diagnostics:\n",
      "\tTest Value (f(d)): 2070 \n",
      "\tReplications: 1000 \n",
      "\tDistribution Summary:\n",
      "\t\tMin:\t 3234 \n",
      "\t\t1stQ:\t 3254 \n",
      "\t\tMed:\t 3258 \n",
      "\t\tMean:\t 3255.7 \n",
      "\t\t3rdQ:\t 3258 \n",
      "\t\tMax:\t 3258 \n",
      "\n"
     ]
    },
    {
     "name": "stderr",
     "output_type": "stream",
     "text": [
      "\n",
      "==> End of  compareMatricesQAP  at  2019-07-25 05:49:58\n"
     ]
    }
   ],
   "source": [
    "mw1b2aOutput <- compareMatricesQAP( gmHumanNetworkMatrix, gw1AutomatedNetworkMatrix, outputPrefix )"
   ]
  },
  {
   "cell_type": "code",
   "execution_count": null,
   "metadata": {},
   "outputs": [],
   "source": [
    "# also output plots of distributions of QAP values?\n",
    "displayCompareMatricesQAPOutput( mw1b2aOutput, outputPrefix, TRUE )"
   ]
  },
  {
   "cell_type": "markdown",
   "metadata": {},
   "source": [
    "# Compare `grp_month` and `grp_week_2` using QAP\n",
    "\n",
    "- Back to [Table of Contents](#Table-of-Contents)\n",
    "\n",
    "Now, compare the automated and human-coded networks from the full month and week 2 against each other, to see what more time gets you.\n",
    "\n",
    "Based on: `context_text/R/sna/statnet/sna-qap.r`"
   ]
  },
  {
   "cell_type": "markdown",
   "metadata": {},
   "source": [
    "## month-to-week_2 - a2b - automated-to-baseline\n",
    "\n",
    "- Back to [Table of Contents](#Table-of-Contents)"
   ]
  },
  {
   "cell_type": "code",
   "execution_count": 26,
   "metadata": {
    "ExecuteTime": {
     "end_time": "2019-07-25T05:49:58.503250Z",
     "start_time": "2019-07-25T04:35:35.236Z"
    }
   },
   "outputs": [],
   "source": [
    "outputPrefix <- \"month-to-week_2 a2b\""
   ]
  },
  {
   "cell_type": "code",
   "execution_count": 27,
   "metadata": {
    "ExecuteTime": {
     "end_time": "2019-07-25T05:58:44.193342Z",
     "start_time": "2019-07-25T04:35:35.910Z"
    }
   },
   "outputs": [
    {
     "name": "stderr",
     "output_type": "stream",
     "text": [
      "==> Start of  compareMatricesQAP  at  2019-07-25 05:49:58\n",
      "----> month-to-week_2 a2b graph correlation = 0.483895955658828 ( @ 2019-07-25 05:49:58 )\n",
      "----> month-to-week_2 a2b QAP correlation analysis complete at 2019-07-25 05:52:56.  Summary:\n"
     ]
    },
    {
     "name": "stdout",
     "output_type": "stream",
     "text": [
      "\n",
      "QAP Test Results\n",
      "\n",
      "Estimated p-values:\n",
      "\tp(f(perm) >= f(d)): 0 \n",
      "\tp(f(perm) <= f(d)): 1 \n",
      "\n",
      "Test Diagnostics:\n",
      "\tTest Value (f(d)): 0.483896 \n",
      "\tReplications: 1000 \n",
      "\tDistribution Summary:\n",
      "\t\tMin:\t -0.0007929573 \n",
      "\t\t1stQ:\t -0.0007929573 \n",
      "\t\tMed:\t -0.0007929573 \n",
      "\t\tMean:\t -3.456175e-05 \n",
      "\t\t3rdQ:\t 0.0006325983 \n",
      "\t\tMax:\t 0.007760376 \n",
      "\n"
     ]
    },
    {
     "name": "stderr",
     "output_type": "stream",
     "text": [
      "\n",
      "----> month-to-week_2 a2b graph covariance = 0.000498917493879292 ( @ 2019-07-25 05:52:56 )\n",
      "----> month-to-week_2 a2b QAP covariance analysis complete at 2019-07-25 05:55:55.  Summary:\n"
     ]
    },
    {
     "name": "stdout",
     "output_type": "stream",
     "text": [
      "\n",
      "QAP Test Results\n",
      "\n",
      "Estimated p-values:\n",
      "\tp(f(perm) >= f(d)): 0 \n",
      "\tp(f(perm) <= f(d)): 1 \n",
      "\n",
      "Test Diagnostics:\n",
      "\tTest Value (f(d)): 0.0004989175 \n",
      "\tReplications: 1000 \n",
      "\tDistribution Summary:\n",
      "\t\tMin:\t -8.17573e-07 \n",
      "\t\t1stQ:\t -8.17573e-07 \n",
      "\t\tMed:\t -8.17573e-07 \n",
      "\t\tMean:\t -4.44535e-08 \n",
      "\t\t3rdQ:\t 6.52236e-07 \n",
      "\t\tMax:\t 6.531472e-06 \n",
      "\n"
     ]
    },
    {
     "name": "stderr",
     "output_type": "stream",
     "text": [
      "\n",
      "----> month-to-week_2 a2b graph hamming distance = 2008 ( @ 2019-07-25 05:55:56 )\n",
      "----> month-to-week_2 a2b QAP hamming distance analysis complete at 2019-07-25 05:58:44.  Summary:\n"
     ]
    },
    {
     "name": "stdout",
     "output_type": "stream",
     "text": [
      "\n",
      "QAP Test Results\n",
      "\n",
      "Estimated p-values:\n",
      "\tp(f(perm) >= f(d)): 1 \n",
      "\tp(f(perm) <= f(d)): 0 \n",
      "\n",
      "Test Diagnostics:\n",
      "\tTest Value (f(d)): 2008 \n",
      "\tReplications: 1000 \n",
      "\tDistribution Summary:\n",
      "\t\tMin:\t 3084 \n",
      "\t\t1stQ:\t 3100 \n",
      "\t\tMed:\t 3104 \n",
      "\t\tMean:\t 3101.872 \n",
      "\t\t3rdQ:\t 3104 \n",
      "\t\tMax:\t 3104 \n",
      "\n"
     ]
    },
    {
     "name": "stderr",
     "output_type": "stream",
     "text": [
      "\n",
      "==> End of  compareMatricesQAP  at  2019-07-25 05:58:44\n"
     ]
    }
   ],
   "source": [
    "mw2a2bOutput <- compareMatricesQAP( gmAutomatedNetworkMatrix, gw2HumanNetworkMatrix, outputPrefix )"
   ]
  },
  {
   "cell_type": "code",
   "execution_count": null,
   "metadata": {},
   "outputs": [],
   "source": [
    "# also output plots of distributions of QAP values?\n",
    "displayCompareMatricesQAPOutput( mw2a2bOutput, outputPrefix, TRUE )"
   ]
  },
  {
   "cell_type": "markdown",
   "metadata": {},
   "source": [
    "## month-to-week_2 - b2a - baseline-to-automated\n",
    "\n",
    "- Back to [Table of Contents](#Table-of-Contents)"
   ]
  },
  {
   "cell_type": "code",
   "execution_count": 28,
   "metadata": {
    "ExecuteTime": {
     "end_time": "2019-07-25T05:58:44.212876Z",
     "start_time": "2019-07-25T04:35:38.307Z"
    }
   },
   "outputs": [],
   "source": [
    "outputPrefix <- \"month-to-week_2 b2a\""
   ]
  },
  {
   "cell_type": "code",
   "execution_count": 29,
   "metadata": {
    "ExecuteTime": {
     "end_time": "2019-07-25T06:07:10.342821Z",
     "start_time": "2019-07-25T04:35:38.926Z"
    }
   },
   "outputs": [
    {
     "name": "stderr",
     "output_type": "stream",
     "text": [
      "==> Start of  compareMatricesQAP  at  2019-07-25 05:58:44\n",
      "----> month-to-week_2 b2a graph correlation = 0.475029272978571 ( @ 2019-07-25 05:58:44 )\n",
      "----> month-to-week_2 b2a QAP correlation analysis complete at 2019-07-25 06:01:42.  Summary:\n"
     ]
    },
    {
     "name": "stdout",
     "output_type": "stream",
     "text": [
      "\n",
      "QAP Test Results\n",
      "\n",
      "Estimated p-values:\n",
      "\tp(f(perm) >= f(d)): 0 \n",
      "\tp(f(perm) <= f(d)): 1 \n",
      "\n",
      "Test Diagnostics:\n",
      "\tTest Value (f(d)): 0.4750293 \n",
      "\tReplications: 1000 \n",
      "\tDistribution Summary:\n",
      "\t\tMin:\t -0.0008031936 \n",
      "\t\t1stQ:\t -0.0008031936 \n",
      "\t\tMed:\t -0.0008031936 \n",
      "\t\tMean:\t -6.161842e-05 \n",
      "\t\t3rdQ:\t 0.0005881294 \n",
      "\t\tMax:\t 0.01171871 \n",
      "\n"
     ]
    },
    {
     "name": "stderr",
     "output_type": "stream",
     "text": [
      "\n",
      "----> month-to-week_2 b2a graph covariance = 0.000501826182375643 ( @ 2019-07-25 06:01:42 )\n",
      "----> month-to-week_2 b2a QAP covariance analysis complete at 2019-07-25 06:04:34.  Summary:\n"
     ]
    },
    {
     "name": "stdout",
     "output_type": "stream",
     "text": [
      "\n",
      "QAP Test Results\n",
      "\n",
      "Estimated p-values:\n",
      "\tp(f(perm) >= f(d)): 0 \n",
      "\tp(f(perm) <= f(d)): 1 \n",
      "\n",
      "Test Diagnostics:\n",
      "\tTest Value (f(d)): 0.0005018262 \n",
      "\tReplications: 1000 \n",
      "\tDistribution Summary:\n",
      "\t\tMin:\t -8.485026e-07 \n",
      "\t\t1stQ:\t -8.485026e-07 \n",
      "\t\tMed:\t -8.485026e-07 \n",
      "\t\tMean:\t 2.750359e-08 \n",
      "\t\t3rdQ:\t 6.213064e-07 \n",
      "\t\tMax:\t 9.440161e-06 \n",
      "\n"
     ]
    },
    {
     "name": "stderr",
     "output_type": "stream",
     "text": [
      "\n",
      "----> month-to-week_2 b2a graph hamming distance = 2144 ( @ 2019-07-25 06:04:35 )\n",
      "----> month-to-week_2 b2a QAP hamming distance analysis complete at 2019-07-25 06:07:10.  Summary:\n"
     ]
    },
    {
     "name": "stdout",
     "output_type": "stream",
     "text": [
      "\n",
      "QAP Test Results\n",
      "\n",
      "Estimated p-values:\n",
      "\tp(f(perm) >= f(d)): 1 \n",
      "\tp(f(perm) <= f(d)): 0 \n",
      "\n",
      "Test Diagnostics:\n",
      "\tTest Value (f(d)): 2144 \n",
      "\tReplications: 1000 \n",
      "\tDistribution Summary:\n",
      "\t\tMin:\t 3212 \n",
      "\t\t1stQ:\t 3228 \n",
      "\t\tMed:\t 3232 \n",
      "\t\tMean:\t 3230.032 \n",
      "\t\t3rdQ:\t 3232 \n",
      "\t\tMax:\t 3232 \n",
      "\n"
     ]
    },
    {
     "name": "stderr",
     "output_type": "stream",
     "text": [
      "\n",
      "==> End of  compareMatricesQAP  at  2019-07-25 06:07:10\n"
     ]
    }
   ],
   "source": [
    "mw2b2aOutput <- compareMatricesQAP( gmHumanNetworkMatrix, gw2AutomatedNetworkMatrix, outputPrefix )"
   ]
  },
  {
   "cell_type": "code",
   "execution_count": null,
   "metadata": {},
   "outputs": [],
   "source": [
    "# also output plots of distributions of QAP values?\n",
    "displayCompareMatricesQAPOutput( mw2b2aOutput, outputPrefix, TRUE )"
   ]
  },
  {
   "cell_type": "markdown",
   "metadata": {},
   "source": [
    "# Compare `grp_month` and `grp_week_3` using QAP\n",
    "\n",
    "- Back to [Table of Contents](#Table-of-Contents)\n",
    "\n",
    "Now, compare the automated and human-coded networks from the full month and week 3 against each other, to see what more time gets you.\n",
    "\n",
    "Based on: `context_text/R/sna/statnet/sna-qap.r`"
   ]
  },
  {
   "cell_type": "markdown",
   "metadata": {},
   "source": [
    "## month-to-week_3 - a2b - automated-to-baseline\n",
    "\n",
    "- Back to [Table of Contents](#Table-of-Contents)"
   ]
  },
  {
   "cell_type": "code",
   "execution_count": 30,
   "metadata": {
    "ExecuteTime": {
     "end_time": "2019-07-25T06:07:10.357110Z",
     "start_time": "2019-07-25T04:35:41.988Z"
    }
   },
   "outputs": [],
   "source": [
    "outputPrefix <- \"month-to-week_3 a2b\""
   ]
  },
  {
   "cell_type": "code",
   "execution_count": 31,
   "metadata": {
    "ExecuteTime": {
     "end_time": "2019-07-25T06:16:04.064995Z",
     "start_time": "2019-07-25T04:35:43.199Z"
    }
   },
   "outputs": [
    {
     "name": "stderr",
     "output_type": "stream",
     "text": [
      "==> Start of  compareMatricesQAP  at  2019-07-25 06:07:10\n",
      "----> month-to-week_3 a2b graph correlation = 0.405504542903472 ( @ 2019-07-25 06:07:10 )\n",
      "----> month-to-week_3 a2b QAP correlation analysis complete at 2019-07-25 06:10:18.  Summary:\n"
     ]
    },
    {
     "name": "stdout",
     "output_type": "stream",
     "text": [
      "\n",
      "QAP Test Results\n",
      "\n",
      "Estimated p-values:\n",
      "\tp(f(perm) >= f(d)): 0 \n",
      "\tp(f(perm) <= f(d)): 1 \n",
      "\n",
      "Test Diagnostics:\n",
      "\tTest Value (f(d)): 0.4055045 \n",
      "\tReplications: 1000 \n",
      "\tDistribution Summary:\n",
      "\t\tMin:\t -0.0007627079 \n",
      "\t\t1stQ:\t -0.0007627079 \n",
      "\t\tMed:\t -0.0007627079 \n",
      "\t\tMean:\t 2.376415e-05 \n",
      "\t\t3rdQ:\t 0.000770376 \n",
      "\t\tMax:\t 0.008435796 \n",
      "\n"
     ]
    },
    {
     "name": "stderr",
     "output_type": "stream",
     "text": [
      "\n",
      "----> month-to-week_3 a2b graph covariance = 0.000388768161699877 ( @ 2019-07-25 06:10:19 )\n",
      "----> month-to-week_3 a2b QAP covariance analysis complete at 2019-07-25 06:13:23.  Summary:\n"
     ]
    },
    {
     "name": "stdout",
     "output_type": "stream",
     "text": [
      "\n",
      "QAP Test Results\n",
      "\n",
      "Estimated p-values:\n",
      "\tp(f(perm) >= f(d)): 0 \n",
      "\tp(f(perm) <= f(d)): 1 \n",
      "\n",
      "Test Diagnostics:\n",
      "\tTest Value (f(d)): 0.0003887682 \n",
      "\tReplications: 1000 \n",
      "\tDistribution Summary:\n",
      "\t\tMin:\t -7.312287e-07 \n",
      "\t\t1stQ:\t -7.312287e-07 \n",
      "\t\tMed:\t -7.312287e-07 \n",
      "\t\tMean:\t 7.361953e-10 \n",
      "\t\t3rdQ:\t 7.385803e-07 \n",
      "\t\tMax:\t 1.102724e-05 \n",
      "\n"
     ]
    },
    {
     "name": "stderr",
     "output_type": "stream",
     "text": [
      "\n",
      "----> month-to-week_3 a2b graph hamming distance = 2096 ( @ 2019-07-25 06:13:23 )\n",
      "----> month-to-week_3 a2b QAP hamming distance analysis complete at 2019-07-25 06:16:04.  Summary:\n"
     ]
    },
    {
     "name": "stdout",
     "output_type": "stream",
     "text": [
      "\n",
      "QAP Test Results\n",
      "\n",
      "Estimated p-values:\n",
      "\tp(f(perm) >= f(d)): 1 \n",
      "\tp(f(perm) <= f(d)): 0 \n",
      "\n",
      "Test Diagnostics:\n",
      "\tTest Value (f(d)): 2096 \n",
      "\tReplications: 1000 \n",
      "\tDistribution Summary:\n",
      "\t\tMin:\t 3020 \n",
      "\t\t1stQ:\t 3036 \n",
      "\t\tMed:\t 3040 \n",
      "\t\tMean:\t 3038.292 \n",
      "\t\t3rdQ:\t 3040 \n",
      "\t\tMax:\t 3040 \n",
      "\n"
     ]
    },
    {
     "name": "stderr",
     "output_type": "stream",
     "text": [
      "\n",
      "==> End of  compareMatricesQAP  at  2019-07-25 06:16:04\n"
     ]
    }
   ],
   "source": [
    "mw3a2bOutput <- compareMatricesQAP( gmAutomatedNetworkMatrix, gw3HumanNetworkMatrix, outputPrefix )"
   ]
  },
  {
   "cell_type": "code",
   "execution_count": null,
   "metadata": {},
   "outputs": [],
   "source": [
    "# also output plots of distributions of QAP values?\n",
    "displayCompareMatricesQAPOutput( mw3a2bOutput, outputPrefix, TRUE )"
   ]
  },
  {
   "cell_type": "markdown",
   "metadata": {},
   "source": [
    "## month-to-week_3 - b2a - baseline-to-automated\n",
    "\n",
    "- Back to [Table of Contents](#Table-of-Contents)"
   ]
  },
  {
   "cell_type": "code",
   "execution_count": 32,
   "metadata": {
    "ExecuteTime": {
     "end_time": "2019-07-25T06:16:04.078742Z",
     "start_time": "2019-07-25T04:35:48.933Z"
    }
   },
   "outputs": [],
   "source": [
    "outputPrefix <- \"month-to-week_3 b2a\""
   ]
  },
  {
   "cell_type": "code",
   "execution_count": 33,
   "metadata": {
    "ExecuteTime": {
     "end_time": "2019-07-25T06:24:38.062823Z",
     "start_time": "2019-07-25T04:35:49.612Z"
    }
   },
   "outputs": [
    {
     "name": "stderr",
     "output_type": "stream",
     "text": [
      "==> Start of  compareMatricesQAP  at  2019-07-25 06:16:04\n",
      "----> month-to-week_3 b2a graph correlation = 0.407912811805851 ( @ 2019-07-25 06:16:04 )\n",
      "----> month-to-week_3 b2a QAP correlation analysis complete at 2019-07-25 06:18:57.  Summary:\n"
     ]
    },
    {
     "name": "stdout",
     "output_type": "stream",
     "text": [
      "\n",
      "QAP Test Results\n",
      "\n",
      "Estimated p-values:\n",
      "\tp(f(perm) >= f(d)): 0 \n",
      "\tp(f(perm) <= f(d)): 1 \n",
      "\n",
      "Test Diagnostics:\n",
      "\tTest Value (f(d)): 0.4079128 \n",
      "\tReplications: 1000 \n",
      "\tDistribution Summary:\n",
      "\t\tMin:\t -0.0007535538 \n",
      "\t\t1stQ:\t -0.0007535538 \n",
      "\t\tMed:\t -0.0007535538 \n",
      "\t\tMean:\t 3.199379e-05 \n",
      "\t\t3rdQ:\t 0.0007600253 \n",
      "\t\tMax:\t 0.01135508 \n",
      "\n"
     ]
    },
    {
     "name": "stderr",
     "output_type": "stream",
     "text": [
      "\n",
      "----> month-to-week_3 b2a graph covariance = 0.000396116673198478 ( @ 2019-07-25 06:18:57 )\n",
      "----> month-to-week_3 b2a QAP covariance analysis complete at 2019-07-25 06:22:00.  Summary:\n"
     ]
    },
    {
     "name": "stdout",
     "output_type": "stream",
     "text": [
      "\n",
      "QAP Test Results\n",
      "\n",
      "Estimated p-values:\n",
      "\tp(f(perm) >= f(d)): 0 \n",
      "\tp(f(perm) <= f(d)): 1 \n",
      "\n",
      "Test Diagnostics:\n",
      "\tTest Value (f(d)): 0.0003961167 \n",
      "\tReplications: 1000 \n",
      "\tDistribution Summary:\n",
      "\t\tMin:\t -7.317623e-07 \n",
      "\t\t1stQ:\t -7.317623e-07 \n",
      "\t\tMed:\t -7.317623e-07 \n",
      "\t\tMean:\t -2.478416e-08 \n",
      "\t\t3rdQ:\t 7.380467e-07 \n",
      "\t\tMax:\t 6.617283e-06 \n",
      "\n"
     ]
    },
    {
     "name": "stderr",
     "output_type": "stream",
     "text": [
      "\n",
      "----> month-to-week_3 b2a graph hamming distance = 2206 ( @ 2019-07-25 06:22:00 )\n",
      "----> month-to-week_3 b2a QAP hamming distance analysis complete at 2019-07-25 06:24:38.  Summary:\n"
     ]
    },
    {
     "name": "stdout",
     "output_type": "stream",
     "text": [
      "\n",
      "QAP Test Results\n",
      "\n",
      "Estimated p-values:\n",
      "\tp(f(perm) >= f(d)): 1 \n",
      "\tp(f(perm) <= f(d)): 0 \n",
      "\n",
      "Test Diagnostics:\n",
      "\tTest Value (f(d)): 2206 \n",
      "\tReplications: 1000 \n",
      "\tDistribution Summary:\n",
      "\t\tMin:\t 3134 \n",
      "\t\t1stQ:\t 3146 \n",
      "\t\tMed:\t 3150 \n",
      "\t\tMean:\t 3148.208 \n",
      "\t\t3rdQ:\t 3150 \n",
      "\t\tMax:\t 3150 \n",
      "\n"
     ]
    },
    {
     "name": "stderr",
     "output_type": "stream",
     "text": [
      "\n",
      "==> End of  compareMatricesQAP  at  2019-07-25 06:24:38\n"
     ]
    }
   ],
   "source": [
    "mw3b2aOutput <- compareMatricesQAP( gmHumanNetworkMatrix, gw3AutomatedNetworkMatrix, outputPrefix )"
   ]
  },
  {
   "cell_type": "code",
   "execution_count": null,
   "metadata": {
    "ExecuteTime": {
     "end_time": "2019-07-25T11:42:52.251553Z",
     "start_time": "2019-07-25T11:42:45.597Z"
    }
   },
   "outputs": [],
   "source": [
    "# also output plots of distributions of QAP values?\n",
    "displayCompareMatricesQAPOutput( mw3b2aOutput, outputPrefix, TRUE )"
   ]
  },
  {
   "cell_type": "markdown",
   "metadata": {},
   "source": [
    "# Save workspace image\n",
    "\n",
    "- Back to [Table of Contents](#Table-of-Contents)\n",
    "\n",
    "Save all the information in the current image, in case we need/want it later."
   ]
  },
  {
   "cell_type": "code",
   "execution_count": 34,
   "metadata": {
    "ExecuteTime": {
     "end_time": "2019-07-25T11:42:18.198047Z",
     "start_time": "2019-07-25T11:41:51.375Z"
    }
   },
   "outputs": [],
   "source": [
    "# help( save.image )\n",
    "save.image( file = workspace_file_name )"
   ]
  }
 ],
 "metadata": {
  "kernelspec": {
   "display_name": "R",
   "language": "R",
   "name": "ir"
  },
  "language_info": {
   "codemirror_mode": "r",
   "file_extension": ".r",
   "mimetype": "text/x-r-source",
   "name": "R",
   "pygments_lexer": "r",
   "version": "3.6.1"
  },
  "toc": {
   "base_numbering": 1,
   "nav_menu": {},
   "number_sections": true,
   "sideBar": true,
   "skip_h1_title": false,
   "title_cell": "Table of Contents",
   "title_sidebar": "Contents",
   "toc_cell": true,
   "toc_position": {
    "height": "717px",
    "left": "0px",
    "right": "1061px",
    "top": "111px",
    "width": "379px"
   },
   "toc_section_display": "block",
   "toc_window_display": true
  }
 },
 "nbformat": 4,
 "nbformat_minor": 2
}
