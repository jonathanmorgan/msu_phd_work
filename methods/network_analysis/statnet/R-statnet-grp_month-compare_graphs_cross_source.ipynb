{
 "cells": [
  {
   "cell_type": "markdown",
   "metadata": {},
   "source": [
    "**R statnet - grp month - compare graphs across auto and baseline data**"
   ]
  },
  {
   "cell_type": "markdown",
   "metadata": {
    "toc": true
   },
   "source": [
    "<h1>Table of Contents<span class=\"tocSkip\"></span></h1>\n",
    "<div class=\"toc\"><ul class=\"toc-item\"><li><span><a href=\"#R-network-analysis-files\" data-toc-modified-id=\"R-network-analysis-files-1\"><span class=\"toc-item-num\">1&nbsp;&nbsp;</span>R network analysis files</a></span></li><li><span><a href=\"#Setup\" data-toc-modified-id=\"Setup-2\"><span class=\"toc-item-num\">2&nbsp;&nbsp;</span>Setup</a></span><ul class=\"toc-item\"><li><span><a href=\"#Setup----working-directories\" data-toc-modified-id=\"Setup----working-directories-2.1\"><span class=\"toc-item-num\">2.1&nbsp;&nbsp;</span>Setup -  working directories</a></span></li><li><span><a href=\"#Setup---import-SNA-functions\" data-toc-modified-id=\"Setup---import-SNA-functions-2.2\"><span class=\"toc-item-num\">2.2&nbsp;&nbsp;</span>Setup - import SNA functions</a></span></li><li><span><a href=\"#Setup---import-statnet-functions\" data-toc-modified-id=\"Setup---import-statnet-functions-2.3\"><span class=\"toc-item-num\">2.3&nbsp;&nbsp;</span>Setup - import statnet functions</a></span></li><li><span><a href=\"#Setup---network-data---render-and-store-network-data\" data-toc-modified-id=\"Setup---network-data---render-and-store-network-data-2.4\"><span class=\"toc-item-num\">2.4&nbsp;&nbsp;</span>Setup - network data - render and store network data</a></span><ul class=\"toc-item\"><li><span><a href=\"#data---grp_month\" data-toc-modified-id=\"data---grp_month-2.4.1\"><span class=\"toc-item-num\">2.4.1&nbsp;&nbsp;</span>data - grp_month</a></span></li></ul></li><li><span><a href=\"#Setup---load-workspace\" data-toc-modified-id=\"Setup---load-workspace-2.5\"><span class=\"toc-item-num\">2.5&nbsp;&nbsp;</span>Setup - load workspace</a></span></li></ul></li><li><span><a href=\"#Compare-grp_week_1-and-grp_week_2-using-QAP\" data-toc-modified-id=\"Compare-grp_week_1-and-grp_week_2-using-QAP-3\"><span class=\"toc-item-num\">3&nbsp;&nbsp;</span>Compare <code>grp_week_1</code> and <code>grp_week_2</code> using QAP</a></span><ul class=\"toc-item\"><li><span><a href=\"#week_1-to-week_2---a2b---automated-to-baseline\" data-toc-modified-id=\"week_1-to-week_2---a2b---automated-to-baseline-3.1\"><span class=\"toc-item-num\">3.1&nbsp;&nbsp;</span>week_1-to-week_2 - a2b - automated-to-baseline</a></span></li><li><span><a href=\"#week_1-to-week_2---b2a---baseline-to-automated\" data-toc-modified-id=\"week_1-to-week_2---b2a---baseline-to-automated-3.2\"><span class=\"toc-item-num\">3.2&nbsp;&nbsp;</span>week_1-to-week_2 - b2a - baseline-to-automated</a></span></li></ul></li><li><span><a href=\"#Compare-grp_week_1-and-grp_week_3-using-QAP\" data-toc-modified-id=\"Compare-grp_week_1-and-grp_week_3-using-QAP-4\"><span class=\"toc-item-num\">4&nbsp;&nbsp;</span>Compare <code>grp_week_1</code> and <code>grp_week_3</code> using QAP</a></span><ul class=\"toc-item\"><li><span><a href=\"#week_1-to-week_3---a2b---automated-to-baseline\" data-toc-modified-id=\"week_1-to-week_3---a2b---automated-to-baseline-4.1\"><span class=\"toc-item-num\">4.1&nbsp;&nbsp;</span>week_1-to-week_3 - a2b - automated-to-baseline</a></span></li><li><span><a href=\"#week_1-to-week_3---b2a---baseline-to-automated\" data-toc-modified-id=\"week_1-to-week_3---b2a---baseline-to-automated-4.2\"><span class=\"toc-item-num\">4.2&nbsp;&nbsp;</span>week_1-to-week_3 - b2a - baseline-to-automated</a></span></li></ul></li><li><span><a href=\"#Compare-grp_week_2-and-grp_week_3-using-QAP\" data-toc-modified-id=\"Compare-grp_week_2-and-grp_week_3-using-QAP-5\"><span class=\"toc-item-num\">5&nbsp;&nbsp;</span>Compare <code>grp_week_2</code> and <code>grp_week_3</code> using QAP</a></span><ul class=\"toc-item\"><li><span><a href=\"#week_2-to-week_3---a2b---automated-to-baseline\" data-toc-modified-id=\"week_2-to-week_3---a2b---automated-to-baseline-5.1\"><span class=\"toc-item-num\">5.1&nbsp;&nbsp;</span>week_2-to-week_3 - a2b - automated-to-baseline</a></span></li><li><span><a href=\"#week_2-to-week_3---b2a---baseline-to-automated\" data-toc-modified-id=\"week_2-to-week_3---b2a---baseline-to-automated-5.2\"><span class=\"toc-item-num\">5.2&nbsp;&nbsp;</span>week_2-to-week_3 - b2a - baseline-to-automated</a></span></li></ul></li><li><span><a href=\"#Compare-grp_month-and-grp_week_1-using-QAP\" data-toc-modified-id=\"Compare-grp_month-and-grp_week_1-using-QAP-6\"><span class=\"toc-item-num\">6&nbsp;&nbsp;</span>Compare <code>grp_month</code> and <code>grp_week_1</code> using QAP</a></span><ul class=\"toc-item\"><li><span><a href=\"#month-to-week_1---a2b---automated-to-baseline\" data-toc-modified-id=\"month-to-week_1---a2b---automated-to-baseline-6.1\"><span class=\"toc-item-num\">6.1&nbsp;&nbsp;</span>month-to-week_1 - a2b - automated-to-baseline</a></span></li><li><span><a href=\"#month-to-week_1---b2a---baseline-to-automated\" data-toc-modified-id=\"month-to-week_1---b2a---baseline-to-automated-6.2\"><span class=\"toc-item-num\">6.2&nbsp;&nbsp;</span>month-to-week_1 - b2a - baseline-to-automated</a></span></li></ul></li><li><span><a href=\"#Compare-grp_month-and-grp_week_2-using-QAP\" data-toc-modified-id=\"Compare-grp_month-and-grp_week_2-using-QAP-7\"><span class=\"toc-item-num\">7&nbsp;&nbsp;</span>Compare <code>grp_month</code> and <code>grp_week_2</code> using QAP</a></span><ul class=\"toc-item\"><li><span><a href=\"#month-to-week_2---a2b---automated-to-baseline\" data-toc-modified-id=\"month-to-week_2---a2b---automated-to-baseline-7.1\"><span class=\"toc-item-num\">7.1&nbsp;&nbsp;</span>month-to-week_2 - a2b - automated-to-baseline</a></span></li><li><span><a href=\"#month-to-week_2---b2a---baseline-to-automated\" data-toc-modified-id=\"month-to-week_2---b2a---baseline-to-automated-7.2\"><span class=\"toc-item-num\">7.2&nbsp;&nbsp;</span>month-to-week_2 - b2a - baseline-to-automated</a></span></li></ul></li><li><span><a href=\"#Compare-grp_month-and-grp_week_3-using-QAP\" data-toc-modified-id=\"Compare-grp_month-and-grp_week_3-using-QAP-8\"><span class=\"toc-item-num\">8&nbsp;&nbsp;</span>Compare <code>grp_month</code> and <code>grp_week_3</code> using QAP</a></span><ul class=\"toc-item\"><li><span><a href=\"#month-to-week_3---a2b---automated-to-baseline\" data-toc-modified-id=\"month-to-week_3---a2b---automated-to-baseline-8.1\"><span class=\"toc-item-num\">8.1&nbsp;&nbsp;</span>month-to-week_3 - a2b - automated-to-baseline</a></span></li><li><span><a href=\"#month-to-week_3---b2a---baseline-to-automated\" data-toc-modified-id=\"month-to-week_3---b2a---baseline-to-automated-8.2\"><span class=\"toc-item-num\">8.2&nbsp;&nbsp;</span>month-to-week_3 - b2a - baseline-to-automated</a></span></li></ul></li><li><span><a href=\"#Save-workspace-image\" data-toc-modified-id=\"Save-workspace-image-9\"><span class=\"toc-item-num\">9&nbsp;&nbsp;</span>Save workspace image</a></span></li></ul></div>"
   ]
  },
  {
   "cell_type": "markdown",
   "metadata": {},
   "source": [
    "# R network analysis files\n",
    "\n",
    "- Back to [Table of Contents](#Table-of-Contents)\n",
    "\n",
    "Related files:\n",
    "\n",
    "* network descriptives\n",
    "    * network-level\n",
    "        \n",
    "        * files\n",
    "            \n",
    "            * R scripts:\n",
    "                \n",
    "                * `context_text/R/db_connect.r`\n",
    "                * `context_text/R/sna/functions-sna.r`\n",
    "                * `context_text/R/sna/sna-load_data.r`\n",
    "                * `context_text/R/sna/igraph/*`\n",
    "                * `context_text/R/sna/statnet/*`\n",
    "        \n",
    "        * statnet/sna\n",
    "            \n",
    "            * `sna::gden()` - graph density\n",
    "            * R scripts:\n",
    "                \n",
    "                * `context_text/R/sna/statnet/sna-statnet-init.r`\n",
    "                * `context_text/R/sna/statnet/sna-statnet-network-stats.r`\n",
    "                * `context_text/R/sna/statnet/sna-qap.r`\n",
    "        \n",
    "        * igraph\n",
    "            \n",
    "            * `igraph::transitivity()` - vector of transitivity scores for each node in a graph, plus network-level transitivity score.\n",
    "                \n",
    "                * Q - interpretation?\n",
    "                \n",
    "            * R scripts:\n",
    "                \n",
    "                * `context_text/R/sna/statnet/sna-igraph-init.r`\n",
    "                * `context_text/R/sna/statnet/sna-igraph-network-stats.r`\n"
   ]
  },
  {
   "cell_type": "markdown",
   "metadata": {},
   "source": [
    "# Setup\n",
    "\n",
    "- Back to [Table of Contents](#Table-of-Contents)"
   ]
  },
  {
   "cell_type": "markdown",
   "metadata": {},
   "source": [
    "## Setup -  working directories\n",
    "\n",
    "- Back to [Table of Contents](#Table-of-Contents)\n",
    "\n",
    "Store important directories and file names in variables:"
   ]
  },
  {
   "cell_type": "code",
   "execution_count": null,
   "metadata": {
    "ExecuteTime": {
     "end_time": "2019-07-25T02:19:55.490063Z",
     "start_time": "2019-07-25T02:19:55.421Z"
    }
   },
   "outputs": [],
   "source": [
    "getwd()"
   ]
  },
  {
   "cell_type": "code",
   "execution_count": null,
   "metadata": {
    "ExecuteTime": {
     "end_time": "2019-07-25T02:20:38.612849Z",
     "start_time": "2019-07-25T02:20:38.533Z"
    }
   },
   "outputs": [],
   "source": [
    "# code files (in particular SNA and statnet function libraries, modest though they may be)\n",
    "researchDirectory <- \"/home/jonathanmorgan/work/django/research/\"\n",
    "contextAnalysisDirectory <- paste( researchDirectory, \"/\", 'context_analysis', sep = \"\" )\n",
    "codeDirectory <- paste( contextAnalysisDirectory, \"/\", \"R/sna\", sep = \"\" )\n",
    "\n",
    "# basic SNA functions\n",
    "# - /home/jonathanmorgan/work/django/research/context_analysis/R/sna/functions-sna.r\n",
    "#snaFunctionFilePath <- paste( codeDirectory, \"/\", 'functions-sna.r', sep = \"\" )\n",
    "\n",
    "# statnet/sna functions\n",
    "# - /home/jonathanmorgan/work/django/research/context_analysis/R/sna/stanet/functions-statnet.r\n",
    "#statnetFunctionFilePath <- paste( codeDirectory, \"/statnet/\", 'functions-statnet.r', sep = \"\" )\n",
    "\n",
    "# home directory\n",
    "#homeDirectory <- getwd()\n",
    "homeDirectory <- \"/home/jonathanmorgan/work/django/research/work/phd_work/methods\"\n",
    "\n",
    "# data directories\n",
    "dataDirectory <- paste( homeDirectory, \"/data\", sep = \"\" )\n",
    "workspaceFileName <- \"statnet-grp_month.RData\"\n",
    "workspaceFilePath <- paste( dataDirectory, \"/\", workspaceFileName )"
   ]
  },
  {
   "cell_type": "code",
   "execution_count": null,
   "metadata": {
    "ExecuteTime": {
     "end_time": "2019-07-25T02:19:57.430105Z",
     "start_time": "2019-07-25T02:19:57.383Z"
    }
   },
   "outputs": [],
   "source": [
    "# set working directory to data directory for now.\n",
    "setwd( dataDirectory )\n",
    "getwd()"
   ]
  },
  {
   "cell_type": "markdown",
   "metadata": {},
   "source": [
    "## Setup - import SNA functions\n",
    "\n",
    "- Back to [Table of Contents](#Table-of-Contents)\n",
    "\n",
    "source the file `functions-sna.r`."
   ]
  },
  {
   "cell_type": "code",
   "execution_count": null,
   "metadata": {
    "ExecuteTime": {
     "end_time": "2019-07-25T02:20:13.228212Z",
     "start_time": "2019-07-25T02:20:13.191Z"
    }
   },
   "outputs": [],
   "source": [
    "# basic SNA functions\n",
    "# - /home/jonathanmorgan/work/django/research/context_analysis/R/sna/functions-sna.r\n",
    "snaFunctionFilePath <- paste( codeDirectory, \"/\", 'functions-sna.r', sep = \"\" )"
   ]
  },
  {
   "cell_type": "code",
   "execution_count": null,
   "metadata": {
    "ExecuteTime": {
     "end_time": "2019-07-25T02:20:16.884345Z",
     "start_time": "2019-07-25T02:20:16.843Z"
    }
   },
   "outputs": [],
   "source": [
    "source( snaFunctionFilePath )"
   ]
  },
  {
   "cell_type": "markdown",
   "metadata": {},
   "source": [
    "## Setup - import statnet functions\n",
    "\n",
    "- Back to [Table of Contents](#Table-of-Contents)\n",
    "\n",
    "source the file `statnet/functions-statnet.r`."
   ]
  },
  {
   "cell_type": "code",
   "execution_count": null,
   "metadata": {
    "ExecuteTime": {
     "end_time": "2019-07-25T02:20:48.319187Z",
     "start_time": "2019-07-25T02:20:48.280Z"
    }
   },
   "outputs": [],
   "source": [
    "# statnet/sna functions\n",
    "# - /home/jonathanmorgan/work/django/research/context_analysis/R/sna/stanet/functions-statnet.r\n",
    "statnetFunctionFilePath <- paste( codeDirectory, \"/statnet/\", 'functions-statnet.r', sep = \"\" )"
   ]
  },
  {
   "cell_type": "code",
   "execution_count": null,
   "metadata": {
    "ExecuteTime": {
     "end_time": "2019-07-25T02:20:49.689354Z",
     "start_time": "2019-07-25T02:20:49.516Z"
    }
   },
   "outputs": [],
   "source": [
    "source( statnetFunctionFilePath )"
   ]
  },
  {
   "cell_type": "markdown",
   "metadata": {},
   "source": [
    "## Setup - network data - render and store network data\n",
    "\n",
    "- Back to [Table of Contents](#Table-of-Contents)\n",
    "\n",
    "First, need render to render network data and upload it to your server.\n",
    "\n",
    "Directions for rendering network data are in [2017.11.14-work_log-prelim-network_analysis.ipynb](2017.11.14-work_log-prelim-network_analysis.ipynb).  You want a tab-delimited matrix that includes both the network and attributes of nodes as columns, and you want it to include a header row.\n",
    "\n",
    "Once you render your network data files, you should place them on the server.\n",
    "\n",
    "High level data file layout:\n",
    "\n",
    "- tab-delimited.\n",
    "- first row and first column are labels\n",
    "- last 2 columns are traits of nodes (`person_id` and `person_type`)\n",
    "- each row and column after first until the trait columns represents a person found in one of the articles.\n",
    "- The people are in the same order from top to bottom and left to right.\n",
    "- Where the row and column of two people meet, and one of the people is an author, the nunber in the cell where they meet is the number of times the non-author was quoted in an article by the author.  Does not include more basic two-mode co-location ties (appeared in same article, even if not an author and/or not quoted).\n",
    "\n",
    "Files and their location on server:"
   ]
  },
  {
   "cell_type": "markdown",
   "metadata": {},
   "source": [
    "### data - grp_month\n",
    "\n",
    "- Back to [Table of Contents](#Table-of-Contents)\n",
    "\n",
    "This is data from the Grand Rapids Press articles from December of 2009, coded by both humans and OpenCalais.\n",
    "\n",
    "Files:\n",
    "\n",
    "- automated full month - `sourcenet_data-20171205-022551-grp_month-automated.tab`\n",
    "- human full month - `sourcenet_data-20171115-043102-grp_month-human.tab`\n",
    "- automated week 1 subset - `sourcenet_data-20171206-031358-grp_month-automated-week1_subset.tab`\n",
    "- human week 1 subset - `sourcenet_data-20171206-031319-grp_month-human-week1_subset.tab`\n",
    "- automated week 2 subset - `sourcenet_data-20180326-040445-grp_month-automated-week2_subset.tab`\n",
    "- human week 2 subset - `sourcenet_data-20180326-034401-grp_month-human-week2_subset.tab`\n",
    "- automated week 3 subset - `sourcenet_data-20180326-040736-grp_month-automated-week3_subset.tab`\n",
    "- human week 3 subset - `sourcenet_data-20180326-034548-grp_month-human-week3_subset.tab`\n",
    "\n",
    "Location in Dropbox: `Dropbox/academia/MSU/program_stuff/prelim_paper/data/network_analysis/2017.11.14/network/new_coders/grp_month`\n",
    "\n",
    "Location on server: `/home/jonathanmorgan/work/django/research/work/phd_work/data/network/grp_month`"
   ]
  },
  {
   "cell_type": "markdown",
   "metadata": {},
   "source": [
    "## Setup - load workspace\n",
    "\n",
    "- Back to [Table of Contents](#Table-of-Contents)\n",
    "\n",
    "You must load this file's workspace, from a previous run:"
   ]
  },
  {
   "cell_type": "code",
   "execution_count": null,
   "metadata": {
    "ExecuteTime": {
     "end_time": "2019-07-25T02:20:58.472604Z",
     "start_time": "2019-07-25T02:20:57.247Z"
    }
   },
   "outputs": [],
   "source": [
    "# assumes that you've already set working directory above to the\n",
    "#     working directory.\n",
    "setwd( dataDirectory )\n",
    "load( workspaceFileName )"
   ]
  },
  {
   "cell_type": "markdown",
   "metadata": {},
   "source": [
    "# Compare `grp_week_1` and `grp_week_2` using QAP\n",
    "\n",
    "- Back to [Table of Contents](#Table-of-Contents)\n",
    "\n",
    "Now, compare the automated and human-coded networks from a week 1 and week 2 to each other, to look at similarity of weeks over time (I'd expect it to be small).\n",
    "\n",
    "Based on: `context_text/R/sna/statnet/sna-qap.r`"
   ]
  },
  {
   "cell_type": "markdown",
   "metadata": {},
   "source": [
    "## week_1-to-week_2 - a2b - automated-to-baseline\n",
    "\n",
    "- Back to [Table of Contents](#Table-of-Contents)"
   ]
  },
  {
   "cell_type": "code",
   "execution_count": null,
   "metadata": {
    "ExecuteTime": {
     "end_time": "2019-07-25T01:53:58.707102Z",
     "start_time": "2019-07-25T01:53:58.683Z"
    }
   },
   "outputs": [],
   "source": [
    "# setup\n",
    "outputPrefix <- \"week_1-to-week_2 a2b\""
   ]
  },
  {
   "cell_type": "code",
   "execution_count": null,
   "metadata": {
    "ExecuteTime": {
     "end_time": "2019-07-25T02:04:17.248113Z",
     "start_time": "2019-07-25T01:54:01.950Z"
    }
   },
   "outputs": [],
   "source": [
    "w1w2a2bOutput <- compareMatricesQAP( gw1AutomatedNetworkMatrix, gw2HumanNetworkMatrix, outputPrefix )"
   ]
  },
  {
   "cell_type": "markdown",
   "metadata": {},
   "source": [
    "## week_1-to-week_2 - b2a - baseline-to-automated\n",
    "\n",
    "- Back to [Table of Contents](#Table-of-Contents)"
   ]
  },
  {
   "cell_type": "code",
   "execution_count": null,
   "metadata": {
    "ExecuteTime": {
     "end_time": "2019-07-25T02:21:16.664851Z",
     "start_time": "2019-07-25T02:21:16.629Z"
    }
   },
   "outputs": [],
   "source": [
    "# setup\n",
    "outputPrefix <- \"week_1-to-week_2 b2a\""
   ]
  },
  {
   "cell_type": "code",
   "execution_count": null,
   "metadata": {
    "ExecuteTime": {
     "end_time": "2019-07-25T02:31:38.524267Z",
     "start_time": "2019-07-25T02:21:18.259Z"
    }
   },
   "outputs": [],
   "source": [
    "w1w2b2aOutput <- compareMatricesQAP( gw1HumanNetworkMatrix, gw2AutomatedNetworkMatrix, outputPrefix )"
   ]
  },
  {
   "cell_type": "markdown",
   "metadata": {},
   "source": [
    "# Compare `grp_week_1` and `grp_week_3` using QAP\n",
    "\n",
    "- Back to [Table of Contents](#Table-of-Contents)\n",
    "\n",
    "Now, compare the automated and human-coded networks from a week 1 and week 3 to each other, to look at similarity of weeks over time (I'd expect it to be small).\n",
    "\n",
    "Based on: `context_text/R/sna/statnet/sna-qap.r`"
   ]
  },
  {
   "cell_type": "markdown",
   "metadata": {},
   "source": [
    "## week_1-to-week_3 - a2b - automated-to-baseline\n",
    "\n",
    "- Back to [Table of Contents](#Table-of-Contents)"
   ]
  },
  {
   "cell_type": "code",
   "execution_count": null,
   "metadata": {},
   "outputs": [],
   "source": [
    "outputPrefix <- \"week_1-to-week_3 a2b\""
   ]
  },
  {
   "cell_type": "code",
   "execution_count": null,
   "metadata": {},
   "outputs": [],
   "source": [
    "w1w3a2bOutput <- compareMatricesQAP( gw1AutomatedNetworkMatrix, gw3HumanNetworkMatrix, outputPrefix )"
   ]
  },
  {
   "cell_type": "markdown",
   "metadata": {},
   "source": [
    "## week_1-to-week_3 - b2a - baseline-to-automated\n",
    "\n",
    "- Back to [Table of Contents](#Table-of-Contents)"
   ]
  },
  {
   "cell_type": "code",
   "execution_count": null,
   "metadata": {},
   "outputs": [],
   "source": [
    "outputPrefix <- \"week_1-to-week_3 b2a\""
   ]
  },
  {
   "cell_type": "code",
   "execution_count": null,
   "metadata": {},
   "outputs": [],
   "source": [
    "w1w3b2aOutput <- compareMatricesQAP( gw1HumanNetworkMatrix, gw3AutomatedNetworkMatrix, outputPrefix )"
   ]
  },
  {
   "cell_type": "markdown",
   "metadata": {},
   "source": [
    "# Compare `grp_week_2` and `grp_week_3` using QAP\n",
    "\n",
    "- Back to [Table of Contents](#Table-of-Contents)\n",
    "\n",
    "Now, compare the automated and human-coded networks from a week 2 and week 3 to each other, to look at similarity of weeks over time (I'd expect it to be small).\n",
    "\n",
    "Based on: `context_text/R/sna/statnet/sna-qap.r`"
   ]
  },
  {
   "cell_type": "markdown",
   "metadata": {},
   "source": [
    "## week_2-to-week_3 - a2b - automated-to-baseline\n",
    "\n",
    "- Back to [Table of Contents](#Table-of-Contents)"
   ]
  },
  {
   "cell_type": "code",
   "execution_count": null,
   "metadata": {},
   "outputs": [],
   "source": [
    "outputPrefix <- \"week_2-to-week_3 a2b\""
   ]
  },
  {
   "cell_type": "code",
   "execution_count": null,
   "metadata": {},
   "outputs": [],
   "source": [
    "w2w3a2bOutput <- compareMatricesQAP( gw2AutomatedNetworkMatrix, gw3HumanNetworkMatrix, outputPrefix )"
   ]
  },
  {
   "cell_type": "markdown",
   "metadata": {},
   "source": [
    "## week_2-to-week_3 - b2a - baseline-to-automated\n",
    "\n",
    "- Back to [Table of Contents](#Table-of-Contents)"
   ]
  },
  {
   "cell_type": "code",
   "execution_count": null,
   "metadata": {},
   "outputs": [],
   "source": [
    "outputPrefix <- \"week_2-to-week_3 b2a\""
   ]
  },
  {
   "cell_type": "code",
   "execution_count": null,
   "metadata": {},
   "outputs": [],
   "source": [
    "w2w3b2aOutput <- compareMatricesQAP( gw2HumanNetworkMatrix, gw3AutomatedNetworkMatrix, outputPrefix )"
   ]
  },
  {
   "cell_type": "markdown",
   "metadata": {},
   "source": [
    "# Compare `grp_month` and `grp_week_1` using QAP\n",
    "\n",
    "- Back to [Table of Contents](#Table-of-Contents)\n",
    "\n",
    "Now, compare the automated and human-coded networks from the full month and week 1 against each other, to see what more time gets you.\n",
    "\n",
    "Based on: `context_text/R/sna/statnet/sna-qap.r`"
   ]
  },
  {
   "cell_type": "markdown",
   "metadata": {},
   "source": [
    "## month-to-week_1 - a2b - automated-to-baseline\n",
    "\n",
    "- Back to [Table of Contents](#Table-of-Contents)"
   ]
  },
  {
   "cell_type": "code",
   "execution_count": null,
   "metadata": {},
   "outputs": [],
   "source": [
    "outputPrefix <- \"month-to-week_1 a2b\""
   ]
  },
  {
   "cell_type": "code",
   "execution_count": null,
   "metadata": {},
   "outputs": [],
   "source": [
    "mw1a2bOutput <- compareMatricesQAP( gmAutomatedNetworkMatrix, gw1HumanNetworkMatrix, outputPrefix )"
   ]
  },
  {
   "cell_type": "markdown",
   "metadata": {},
   "source": [
    "## month-to-week_1 - b2a - baseline-to-automated\n",
    "\n",
    "- Back to [Table of Contents](#Table-of-Contents)"
   ]
  },
  {
   "cell_type": "code",
   "execution_count": null,
   "metadata": {},
   "outputs": [],
   "source": [
    "outputPrefix <- \"month-to-week_1 b2a\""
   ]
  },
  {
   "cell_type": "code",
   "execution_count": null,
   "metadata": {},
   "outputs": [],
   "source": [
    "mw1b2aOutput <- compareMatricesQAP( gmHumanNetworkMatrix, gw1AutomatedNetworkMatrix, outputPrefix )"
   ]
  },
  {
   "cell_type": "markdown",
   "metadata": {},
   "source": [
    "# Compare `grp_month` and `grp_week_2` using QAP\n",
    "\n",
    "- Back to [Table of Contents](#Table-of-Contents)\n",
    "\n",
    "Now, compare the automated and human-coded networks from the full month and week 2 against each other, to see what more time gets you.\n",
    "\n",
    "Based on: `context_text/R/sna/statnet/sna-qap.r`"
   ]
  },
  {
   "cell_type": "markdown",
   "metadata": {},
   "source": [
    "## month-to-week_2 - a2b - automated-to-baseline\n",
    "\n",
    "- Back to [Table of Contents](#Table-of-Contents)"
   ]
  },
  {
   "cell_type": "code",
   "execution_count": null,
   "metadata": {},
   "outputs": [],
   "source": [
    "outputPrefix <- \"month-to-week_2 a2b\""
   ]
  },
  {
   "cell_type": "code",
   "execution_count": null,
   "metadata": {},
   "outputs": [],
   "source": [
    "mw2a2bOutput <- compareMatricesQAP( gmAutomatedNetworkMatrix, gw2HumanNetworkMatrix, outputPrefix )"
   ]
  },
  {
   "cell_type": "markdown",
   "metadata": {},
   "source": [
    "## month-to-week_2 - b2a - baseline-to-automated\n",
    "\n",
    "- Back to [Table of Contents](#Table-of-Contents)"
   ]
  },
  {
   "cell_type": "code",
   "execution_count": null,
   "metadata": {},
   "outputs": [],
   "source": [
    "outputPrefix <- \"month-to-week_2 b2a\""
   ]
  },
  {
   "cell_type": "code",
   "execution_count": null,
   "metadata": {},
   "outputs": [],
   "source": [
    "mw2b2aOutput <- compareMatricesQAP( gmHumanNetworkMatrix, gw2AutomatedNetworkMatrix, outputPrefix )"
   ]
  },
  {
   "cell_type": "markdown",
   "metadata": {},
   "source": [
    "# Compare `grp_month` and `grp_week_3` using QAP\n",
    "\n",
    "- Back to [Table of Contents](#Table-of-Contents)\n",
    "\n",
    "Now, compare the automated and human-coded networks from the full month and week 3 against each other, to see what more time gets you.\n",
    "\n",
    "Based on: `context_text/R/sna/statnet/sna-qap.r`"
   ]
  },
  {
   "cell_type": "markdown",
   "metadata": {},
   "source": [
    "## month-to-week_3 - a2b - automated-to-baseline\n",
    "\n",
    "- Back to [Table of Contents](#Table-of-Contents)"
   ]
  },
  {
   "cell_type": "code",
   "execution_count": null,
   "metadata": {
    "ExecuteTime": {
     "end_time": "2019-07-25T02:45:57.541717Z",
     "start_time": "2019-07-25T02:45:57.514Z"
    }
   },
   "outputs": [],
   "source": [
    "outputPrefix <- \"month-to-week_3 a2b\""
   ]
  },
  {
   "cell_type": "code",
   "execution_count": null,
   "metadata": {},
   "outputs": [],
   "source": [
    "mw3a2bOutput <- compareMatricesQAP( gmAutomatedNetworkMatrix, gw3HumanNetworkMatrix, outputPrefix )"
   ]
  },
  {
   "cell_type": "markdown",
   "metadata": {},
   "source": [
    "## month-to-week_3 - b2a - baseline-to-automated\n",
    "\n",
    "- Back to [Table of Contents](#Table-of-Contents)"
   ]
  },
  {
   "cell_type": "code",
   "execution_count": null,
   "metadata": {},
   "outputs": [],
   "source": [
    "outputPrefix <- \"month-to-week_3 b2a\""
   ]
  },
  {
   "cell_type": "code",
   "execution_count": null,
   "metadata": {},
   "outputs": [],
   "source": [
    "mw3b2aOutput <- compareMatricesQAP( gmHumanNetworkMatrix, gw3AutomatedNetworkMatrix, outputPrefix )"
   ]
  },
  {
   "cell_type": "markdown",
   "metadata": {},
   "source": [
    "# Save workspace image\n",
    "\n",
    "- Back to [Table of Contents](#Table-of-Contents)\n",
    "\n",
    "Save all the information in the current image, in case we need/want it later."
   ]
  },
  {
   "cell_type": "code",
   "execution_count": null,
   "metadata": {},
   "outputs": [],
   "source": [
    "# help( save.image )\n",
    "save.image( file = workspace_file_name )"
   ]
  }
 ],
 "metadata": {
  "kernelspec": {
   "display_name": "R",
   "language": "R",
   "name": "ir"
  },
  "language_info": {
   "codemirror_mode": "r",
   "file_extension": ".r",
   "mimetype": "text/x-r-source",
   "name": "R",
   "pygments_lexer": "r",
   "version": "3.6.1"
  },
  "toc": {
   "base_numbering": 1,
   "nav_menu": {},
   "number_sections": true,
   "sideBar": true,
   "skip_h1_title": false,
   "title_cell": "Table of Contents",
   "title_sidebar": "Contents",
   "toc_cell": true,
   "toc_position": {
    "height": "717px",
    "left": "0px",
    "right": "1061px",
    "top": "111px",
    "width": "379px"
   },
   "toc_section_display": "block",
   "toc_window_display": true
  }
 },
 "nbformat": 4,
 "nbformat_minor": 2
}
