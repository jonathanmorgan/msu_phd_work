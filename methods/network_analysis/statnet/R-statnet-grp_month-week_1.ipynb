{
 "cells": [
  {
   "cell_type": "markdown",
   "metadata": {},
   "source": [
    "**R - statnet - grp_month - week 1**\n",
    "\n",
    "_2017.12.02 - work log - prelim - R - statnet - grp month_"
   ]
  },
  {
   "cell_type": "markdown",
   "metadata": {
    "toc": true
   },
   "source": [
    "<h1>Table of Contents<span class=\"tocSkip\"></span></h1>\n",
    "<div class=\"toc\"><ul class=\"toc-item\"><li><span><a href=\"#R-network-analysis-files\" data-toc-modified-id=\"R-network-analysis-files-1\"><span class=\"toc-item-num\">1&nbsp;&nbsp;</span>R network analysis files</a></span></li><li><span><a href=\"#Setup\" data-toc-modified-id=\"Setup-2\"><span class=\"toc-item-num\">2&nbsp;&nbsp;</span>Setup</a></span><ul class=\"toc-item\"><li><span><a href=\"#Setup----working-directories\" data-toc-modified-id=\"Setup----working-directories-2.1\"><span class=\"toc-item-num\">2.1&nbsp;&nbsp;</span>Setup -  working directories</a></span></li><li><span><a href=\"#Setup---import-SNA-functions\" data-toc-modified-id=\"Setup---import-SNA-functions-2.2\"><span class=\"toc-item-num\">2.2&nbsp;&nbsp;</span>Setup - import SNA functions</a></span></li><li><span><a href=\"#Setup---network-data---render-and-store-network-data\" data-toc-modified-id=\"Setup---network-data---render-and-store-network-data-2.3\"><span class=\"toc-item-num\">2.3&nbsp;&nbsp;</span>Setup - network data - render and store network data</a></span><ul class=\"toc-item\"><li><span><a href=\"#data---grp_month---week-1\" data-toc-modified-id=\"data---grp_month---week-1-2.3.1\"><span class=\"toc-item-num\">2.3.1&nbsp;&nbsp;</span>data - grp_month - week 1</a></span></li></ul></li><li><span><a href=\"#Setup---load-workspace\" data-toc-modified-id=\"Setup---load-workspace-2.4\"><span class=\"toc-item-num\">2.4&nbsp;&nbsp;</span>Setup - load workspace</a></span></li></ul></li><li><span><a href=\"#grp_week_1-analysis\" data-toc-modified-id=\"grp_week_1-analysis-3\"><span class=\"toc-item-num\">3&nbsp;&nbsp;</span><code>grp_week_1</code> analysis</a></span><ul class=\"toc-item\"><li><span><a href=\"#grp_week_1-(gw1)---automated---OpenCalais\" data-toc-modified-id=\"grp_week_1-(gw1)---automated---OpenCalais-3.1\"><span class=\"toc-item-num\">3.1&nbsp;&nbsp;</span><code>grp_week_1</code> (gw1) - automated - OpenCalais</a></span><ul class=\"toc-item\"><li><span><a href=\"#grp_week_1-(gw1)---automated---Read-data\" data-toc-modified-id=\"grp_week_1-(gw1)---automated---Read-data-3.1.1\"><span class=\"toc-item-num\">3.1.1&nbsp;&nbsp;</span><code>grp_week_1</code> (gw1) - automated - Read data</a></span></li><li><span><a href=\"#grp_week_1-(gw1)---automated---initialize-statnet\" data-toc-modified-id=\"grp_week_1-(gw1)---automated---initialize-statnet-3.1.2\"><span class=\"toc-item-num\">3.1.2&nbsp;&nbsp;</span><code>grp_week_1</code> (gw1) - automated - initialize statnet</a></span></li><li><span><a href=\"#grp_week_1-(gw1)---automated---Basic-metrics\" data-toc-modified-id=\"grp_week_1-(gw1)---automated---Basic-metrics-3.1.3\"><span class=\"toc-item-num\">3.1.3&nbsp;&nbsp;</span><code>grp_week_1</code> (gw1) - automated - Basic metrics</a></span></li><li><span><a href=\"#grp_week_1-(gw1)---automated---More-metrics\" data-toc-modified-id=\"grp_week_1-(gw1)---automated---More-metrics-3.1.4\"><span class=\"toc-item-num\">3.1.4&nbsp;&nbsp;</span><code>grp_week_1</code> (gw1) - automated - More metrics</a></span></li><li><span><a href=\"#grp_week_1-(gw1)---automated---create-node-attribute-DataFrame\" data-toc-modified-id=\"grp_week_1-(gw1)---automated---create-node-attribute-DataFrame-3.1.5\"><span class=\"toc-item-num\">3.1.5&nbsp;&nbsp;</span><code>grp_week_1</code> (gw1) - automated - create node attribute DataFrame</a></span></li></ul></li><li><span><a href=\"#grp_week_1-(gw1)---human\" data-toc-modified-id=\"grp_week_1-(gw1)---human-3.2\"><span class=\"toc-item-num\">3.2&nbsp;&nbsp;</span><code>grp_week_1</code> (gw1) - human</a></span><ul class=\"toc-item\"><li><span><a href=\"#grp_week_1-(gw1)---human---Read-data\" data-toc-modified-id=\"grp_week_1-(gw1)---human---Read-data-3.2.1\"><span class=\"toc-item-num\">3.2.1&nbsp;&nbsp;</span><code>grp_week_1</code> (gw1) - human - Read data</a></span></li><li><span><a href=\"#grp_week_1-(gw1)---human---initialize-statnet\" data-toc-modified-id=\"grp_week_1-(gw1)---human---initialize-statnet-3.2.2\"><span class=\"toc-item-num\">3.2.2&nbsp;&nbsp;</span><code>grp_week_1</code> (gw1) - human - initialize statnet</a></span></li><li><span><a href=\"#grp_week_1-(gw1)---human---Basic-metrics\" data-toc-modified-id=\"grp_week_1-(gw1)---human---Basic-metrics-3.2.3\"><span class=\"toc-item-num\">3.2.3&nbsp;&nbsp;</span><code>grp_week_1</code> (gw1) - human - Basic metrics</a></span></li><li><span><a href=\"#grp_week_1-(gw1)---human---More-metrics\" data-toc-modified-id=\"grp_week_1-(gw1)---human---More-metrics-3.2.4\"><span class=\"toc-item-num\">3.2.4&nbsp;&nbsp;</span><code>grp_week_1</code> (gw1) - human - More metrics</a></span></li><li><span><a href=\"#grp_week_1-(gw1)---human---create-node-attribute-DataFrame\" data-toc-modified-id=\"grp_week_1-(gw1)---human---create-node-attribute-DataFrame-3.2.5\"><span class=\"toc-item-num\">3.2.5&nbsp;&nbsp;</span><code>grp_week_1</code> (gw1) - human - create node attribute DataFrame</a></span></li></ul></li><li><span><a href=\"#grp_week_1-QAP-graph-correlation-between-automated-and-ground-truth\" data-toc-modified-id=\"grp_week_1-QAP-graph-correlation-between-automated-and-ground-truth-3.3\"><span class=\"toc-item-num\">3.3&nbsp;&nbsp;</span><code>grp_week_1</code> QAP graph correlation between automated and ground truth</a></span></li></ul></li><li><span><a href=\"#Save-workspace-image\" data-toc-modified-id=\"Save-workspace-image-4\"><span class=\"toc-item-num\">4&nbsp;&nbsp;</span>Save workspace image</a></span></li></ul></div>"
   ]
  },
  {
   "cell_type": "markdown",
   "metadata": {},
   "source": [
    "# R network analysis files\n",
    "\n",
    "- Back to [Table of Contents](#Table-of-Contents)\n",
    "\n",
    "Related files:\n",
    "\n",
    "* network descriptives\n",
    "    * network-level\n",
    "        \n",
    "        * files\n",
    "            \n",
    "            * R scripts:\n",
    "                \n",
    "                * `sourcenet/R/db_connect.r`\n",
    "                * `sourcenet/R/sna/functions-sna.r`\n",
    "                * `sourcenet/R/sna/sna-load_data.r`\n",
    "                * `sourcenet/R/sna/igraph/*`\n",
    "                * `sourcenet/R/sna/statnet/*`\n",
    "        \n",
    "        * statnet/sna\n",
    "            \n",
    "            * `sna::gden()` - graph density\n",
    "            * R scripts:\n",
    "                \n",
    "                * `sourcenet/R/sna/statnet/sna-statnet-init.r`\n",
    "                * `sourcenet/R/sna/statnet/sna-statnet-network-stats.r`\n",
    "                * `sourcenet/R/sna/statnet/sna-qap.r`\n",
    "        \n",
    "        * igraph\n",
    "            \n",
    "            * `igraph::transitivity()` - vector of transitivity scores for each node in a graph, plus network-level transitivity score.\n",
    "                \n",
    "                * Q - interpretation?\n",
    "                \n",
    "            * R scripts:\n",
    "                \n",
    "                * `sourcenet/R/sna/statnet/sna-igraph-init.r`\n",
    "                * `sourcenet/R/sna/statnet/sna-igraph-network-stats.r`\n"
   ]
  },
  {
   "cell_type": "markdown",
   "metadata": {},
   "source": [
    "# Setup\n",
    "\n",
    "- Back to [Table of Contents](#Table-of-Contents)"
   ]
  },
  {
   "cell_type": "markdown",
   "metadata": {},
   "source": [
    "## Setup -  working directories\n",
    "\n",
    "- Back to [Table of Contents](#Table-of-Contents)\n",
    "\n",
    "Store important directories and file names in variables:"
   ]
  },
  {
   "cell_type": "code",
   "execution_count": null,
   "metadata": {},
   "outputs": [],
   "source": [
    "getwd()"
   ]
  },
  {
   "cell_type": "code",
   "execution_count": null,
   "metadata": {},
   "outputs": [],
   "source": [
    "# code files (in particular SNA function library, modest though it may be)\n",
    "code_directory <- \"/home/jonathanmorgan/work/sourcenet/django/research/sourcenet_analysis/R/sna\"\n",
    "sna_function_file_path <- paste( code_directory, \"/\", 'functions-sna.r', sep = \"\" )\n",
    "\n",
    "# home directory\n",
    "home_directory <- getwd()\n",
    "home_directory <- \"/home/jonathanmorgan/work/sourcenet/django/research/work/msu_phd_work/methods\"\n",
    "\n",
    "# data directories\n",
    "data_directory <- paste( home_directory, \"/data\", sep = \"\" )\n",
    "workspace_file_name <- \"statnet-grp_month.RData\"\n",
    "workspace_file_path <- paste( data_directory, \"/\", workspace_file_name )"
   ]
  },
  {
   "cell_type": "code",
   "execution_count": null,
   "metadata": {},
   "outputs": [],
   "source": [
    "# set working directory to data directory for now.\n",
    "setwd( data_directory )\n",
    "getwd()"
   ]
  },
  {
   "cell_type": "markdown",
   "metadata": {},
   "source": [
    "## Setup - import SNA functions\n",
    "\n",
    "- Back to [Table of Contents](#Table-of-Contents)\n",
    "\n",
    "source the file `functions-sna.r`."
   ]
  },
  {
   "cell_type": "code",
   "execution_count": null,
   "metadata": {},
   "outputs": [],
   "source": [
    "source( sna_function_file_path )"
   ]
  },
  {
   "cell_type": "markdown",
   "metadata": {},
   "source": [
    "## Setup - network data - render and store network data\n",
    "\n",
    "- Back to [Table of Contents](#Table-of-Contents)\n",
    "\n",
    "First, need render to render network data and upload it to your server.\n",
    "\n",
    "Directions for rendering network data are in [2017.11.14-work_log-prelim-network_analysis.ipynb](2017.11.14-work_log-prelim-network_analysis.ipynb).  You want a tab-delimited matrix that includes both the network and attributes of nodes as columns, and you want it to include a header row.\n",
    "\n",
    "Once you render your network data files, you should place them on the server.\n",
    "\n",
    "High level data file layout:\n",
    "\n",
    "- tab-delimited.\n",
    "- first row and first column are labels\n",
    "- last 2 columns are traits of nodes (`person_id` and `person_type`)\n",
    "- each row and column after first until the trait columns represents a person found in one of the articles.\n",
    "- The people are in the same order from top to bottom and left to right.\n",
    "- Where the row and column of two people meet, and one of the people is an author, the nunber in the cell where they meet is the number of times the non-author was quoted in an article by the author.  Does not include more basic two-mode co-location ties (appeared in same article, even if not an author and/or not quoted).\n",
    "\n",
    "Files and their location on server:"
   ]
  },
  {
   "cell_type": "markdown",
   "metadata": {},
   "source": [
    "### data - grp_month - week 1\n",
    "\n",
    "- Back to [Table of Contents](#Table-of-Contents)\n",
    "\n",
    "This is data from the Grand Rapids Press articles from December of 2009, coded by both humans and OpenCalais.  The first full week of articles is from 2009-12-06 to 2009-12-12.\n",
    "\n",
    "Files:\n",
    "\n",
    "- automated week 1 subset - `sourcenet_data-20171206-031358-grp_month-automated-week1_subset.tab`\n",
    "- human week 1 subset - `sourcenet_data-20171206-031319-grp_month-human-week1_subset.tab`\n",
    "\n",
    "Location in Dropbox: `Dropbox/academia/MSU/program_stuff/prelim_paper/data/network_analysis/2017.11.14/network/new_coders/grp_month`\n",
    "\n",
    "Location on server: `/home/jonathanmorgan/work/sourcenet/django/research/work/msu_phd_work/data/network/grp_month`"
   ]
  },
  {
   "cell_type": "markdown",
   "metadata": {},
   "source": [
    "## Setup - load workspace\n",
    "\n",
    "- Back to [Table of Contents](#Table-of-Contents)\n",
    "\n",
    "You must load this file's workspace, from a previous run, if one exists:"
   ]
  },
  {
   "cell_type": "code",
   "execution_count": null,
   "metadata": {},
   "outputs": [],
   "source": [
    "# assumes that you've already set working directory above to the\n",
    "#     working directory.\n",
    "setwd( data_directory )\n",
    "load( workspace_file_name )"
   ]
  },
  {
   "cell_type": "markdown",
   "metadata": {},
   "source": [
    "# `grp_week_1` analysis\n",
    "\n",
    "- Back to [Table of Contents](#Table-of-Contents)\n",
    "\n",
    "Look at a single week from the shiny new month of data."
   ]
  },
  {
   "cell_type": "code",
   "execution_count": null,
   "metadata": {},
   "outputs": [],
   "source": [
    "output_prefix <- \"grp_week_1\""
   ]
  },
  {
   "cell_type": "markdown",
   "metadata": {},
   "source": [
    "## `grp_week_1` (gw1) - automated - OpenCalais\n",
    "\n",
    "- Return to [Table of Contents](#Table-of-Contents)\n",
    "\n",
    "First, we'll analyze the month of data coded by OpenCalais.  Set up some variables to store where data is located:"
   ]
  },
  {
   "cell_type": "markdown",
   "metadata": {},
   "source": [
    "### `grp_week_1` (gw1) - automated - Read data\n",
    "\n",
    "- Return to [Table of Contents](#Table-of-Contents)\n",
    "\n",
    "Read in the data from tab-delimited data file, then get it in right data structures for use in R SNA."
   ]
  },
  {
   "cell_type": "code",
   "execution_count": null,
   "metadata": {},
   "outputs": [],
   "source": [
    "# initialize variables\n",
    "gw1AutomatedDataFolder <- paste( data_directory, \"/network/grp_month\", sep = \"\" )\n",
    "gw1AutomatedDataFile <- \"sourcenet_data-20171206-031358-grp_month-automated-week1_subset.tab\"\n",
    "gw1AutomatedDataPath <- paste( gw1AutomatedDataFolder, \"/\", gw1AutomatedDataFile, sep = \"\" )"
   ]
  },
  {
   "cell_type": "code",
   "execution_count": null,
   "metadata": {},
   "outputs": [],
   "source": [
    "gw1AutomatedDataPath"
   ]
  },
  {
   "cell_type": "markdown",
   "metadata": {},
   "source": [
    "Load the data file into memory"
   ]
  },
  {
   "cell_type": "code",
   "execution_count": null,
   "metadata": {},
   "outputs": [],
   "source": [
    "# tab-delimited:\n",
    "gw1AutomatedDataDF <- read.delim( gw1AutomatedDataPath, header = TRUE, row.names = 1, check.names = FALSE )"
   ]
  },
  {
   "cell_type": "code",
   "execution_count": null,
   "metadata": {},
   "outputs": [],
   "source": [
    "# get count of rows...\n",
    "gw1AutomatedRowCount <- nrow( gw1AutomatedDataDF )\n",
    "paste( output_prefix, \"automated row count =\", gw1AutomatedRowCount, sep = \" \" )\n",
    "\n",
    "# ...and columns\n",
    "gw1AutomatedColumnCount <- ncol( gw1AutomatedDataDF )\n",
    "paste( output_prefix, \"automated column count =\", gw1AutomatedColumnCount, sep = \" \" )"
   ]
  },
  {
   "cell_type": "markdown",
   "metadata": {},
   "source": [
    "Get just the tie rows and columns for initializing network libraries."
   ]
  },
  {
   "cell_type": "code",
   "execution_count": null,
   "metadata": {},
   "outputs": [],
   "source": [
    "# the below syntax returns only as many columns as there are rows, so\n",
    "#     omitting any trait columns that lie in columns on the right side\n",
    "#     of the file.\n",
    "gw1AutomatedNetworkDF <- gw1AutomatedDataDF[ , 1 : gw1AutomatedRowCount ]\n",
    "#str( gw1AutomatedNetworkDF )"
   ]
  },
  {
   "cell_type": "code",
   "execution_count": null,
   "metadata": {},
   "outputs": [],
   "source": [
    "# convert to a matrix\n",
    "gw1AutomatedNetworkMatrix <- as.matrix( gw1AutomatedNetworkDF )\n",
    "# str( gw1AutomatedNetworkMatrix )"
   ]
  },
  {
   "cell_type": "markdown",
   "metadata": {},
   "source": [
    "### `grp_week_1` (gw1) - automated - initialize statnet\n",
    "\n",
    "- Back to [Table of Contents](#Table-of-Contents)\n",
    "\n",
    "First, load the statnet package, then load the automated grp_month week subset data into statnet object and assign attributes to nodes.\n",
    "\n",
    "Based on `sourcenet/R/sna/statnet/sna-statnet-init.r`."
   ]
  },
  {
   "cell_type": "code",
   "execution_count": null,
   "metadata": {},
   "outputs": [],
   "source": [
    "# make sure you've loaded the statnet library\n",
    "# install.packages( \"statnet\" )\n",
    "library( statnet )"
   ]
  },
  {
   "cell_type": "code",
   "execution_count": null,
   "metadata": {},
   "outputs": [],
   "source": [
    "# If you have a data frame of attributes (each attribute is a column, with\n",
    "#     attribute name the column name), you can associate those attributes\n",
    "#     when you create the network.\n",
    "# attribute help: http://www.inside-r.org/packages/cran/network/docs/loading.attributes\n",
    "\n",
    "# load attributes from a file:\n",
    "#tab_attribute_test1 <- read.delim( \"tab-test1-attribute_data.txt\", header = TRUE, row.names = 1, check.names = FALSE )\n",
    "\n",
    "# or create DataFrame by just grabbing the attribute columns\n",
    "gw1AutomatedNetworkAttributeDF <- gw1AutomatedDataDF[ , 1168:1169 ]\n",
    "\n",
    "# convert matrix to statnet network object instance.\n",
    "gw1AutomatedNetworkStatnet <- network( gw1AutomatedNetworkMatrix, matrix.type = \"adjacency\", directed = FALSE, vertex.attr = gw1AutomatedNetworkAttributeDF )\n",
    "\n",
    "# look at information now.\n",
    "gw1AutomatedNetworkStatnet\n",
    "\n",
    "# Network attributes:\n",
    "#  vertices = 314\n",
    "#  directed = FALSE\n",
    "#  hyper = FALSE\n",
    "#  loops = FALSE\n",
    "#  multiple = FALSE\n",
    "#  bipartite = FALSE\n",
    "#  total edges= 309\n",
    "#    missing edges= 0\n",
    "#    non-missing edges= 309\n",
    "#\n",
    "# Vertex attribute names:\n",
    "#    person_type vertex.names\n",
    "#\n",
    "# No edge attributes\n"
   ]
  },
  {
   "cell_type": "code",
   "execution_count": null,
   "metadata": {},
   "outputs": [],
   "source": [
    "# calais - include ties Greater than or equal to 0 (GE0)\n",
    "gw1AutomatedMeanTieWeightGE0Vector <- apply( gw1AutomatedNetworkMatrix, 1, calculateListMean )\n",
    "gw1AutomatedDataDF$meanTieWeightGE0 <- gw1AutomatedMeanTieWeightGE0Vector\n",
    "\n",
    "# calais - include ties Greater than or equal to 1 (GE1)\n",
    "gw1AutomatedMeanTieWeightGE1Vector <- apply( gw1AutomatedNetworkMatrix, 1, calculateListMean, minValueToIncludeIN = 1 )\n",
    "gw1AutomatedDataDF$meanTieWeightGE1 <- gw1AutomatedMeanTieWeightGE1Vector\n",
    "\n",
    "# automated - Max tie weight?\n",
    "gw1AutomatedMaxTieWeightVector <- apply( gw1AutomatedNetworkMatrix, 1, calculateListMax )\n",
    "gw1AutomatedDataDF$maxTieWeight <- gw1AutomatedMaxTieWeightVector\n"
   ]
  },
  {
   "cell_type": "markdown",
   "metadata": {},
   "source": [
    "### `grp_week_1` (gw1) - automated - Basic metrics\n",
    "\n",
    "- Back to [Table of Contents](#Table-of-Contents)"
   ]
  },
  {
   "cell_type": "code",
   "execution_count": null,
   "metadata": {},
   "outputs": [],
   "source": [
    "# assuming that our statnet network object is in reference test1_statnet.\n",
    "\n",
    "# Use the degree function in the sna package to create vector of degree values\n",
    "#    for each node.  Make sure to pass the gw1ode parameter to tell it that the\n",
    "#    graph is not directed (gw1ode = \"graph\", instead of \"digraph\").\n",
    "# Doc: http://www.inside-r.org/packages/cran/sna/docs/degree\n",
    "#degree_vector <- degree( test1_statnet, gw1ode = \"graph\" )\n",
    "\n",
    "# If you have other libraries loaded that also implement a degree function, you\n",
    "#    can also call this with package name:\n",
    "gw1AutomatedDegreeVector <- sna::degree( gw1AutomatedNetworkStatnet, gmode = \"graph\" )\n",
    "\n",
    "# output the vector\n",
    "gw1AutomatedDegreeVector\n",
    "\n",
    "# want more info on the degree function?  You can get to it eventually through\n",
    "#    the following:\n",
    "#help( package = \"sna\" )\n",
    "#??sna::degree\n",
    "\n",
    "# what is the average (mean) degree?\n",
    "gw1AutomatedAvgDegree <- mean( gw1AutomatedDegreeVector )\n",
    "paste( output_prefix, \"average degree =\", gw1AutomatedAvgDegree, sep = \" \" )\n",
    "\n",
    "# subset vector to get only those that are above mean\n",
    "gw1AutomatedAboveMeanVector <- gw1AutomatedDegreeVector[ gw1AutomatedDegreeVector > gw1AutomatedAvgDegree ]\n",
    "\n",
    "# Take the degree and associate it with each node as a node attribute.\n",
    "#    (%v% is a shortcut for the get.vertex.attribute command)\n",
    "gw1AutomatedNetworkStatnet %v% \"degree\" <- gw1AutomatedDegreeVector\n",
    "\n",
    "# also add degree vector to original data frame\n",
    "gw1AutomatedDataDF$degree <- gw1AutomatedDegreeVector\n"
   ]
  },
  {
   "cell_type": "code",
   "execution_count": null,
   "metadata": {},
   "outputs": [],
   "source": [
    "# average author degree (person types 2 and 4)\n",
    "gw1AutomatedAverageAuthorDegree2And4 <- calcAuthorMeanDegree( dataFrameIN = gw1AutomatedDataDF, includeBothIN = TRUE )\n",
    "paste( output_prefix, \"average author degree (2 and 4) =\", gw1AutomatedAverageAuthorDegree2And4, sep = \" \" )\n",
    "\n",
    "# average author degree (person type 2 only)\n",
    "gw1AutomatedAverageAuthorDegreeOnly2 <- calcAuthorMeanDegree( dataFrameIN = gw1AutomatedDataDF, includeBothIN = FALSE )\n",
    "paste( output_prefix, \"average author degree (only 2) =\", gw1AutomatedAverageAuthorDegreeOnly2, sep = \" \" )\n",
    "\n",
    "# average source degree (person types 3 and 4)\n",
    "gw1AutomatedAverageSourceDegree3And4 <- calcSourceMeanDegree( dataFrameIN = gw1AutomatedDataDF, includeBothIN = TRUE )\n",
    "paste( output_prefix, \"average source degree (3 and 4) =\", gw1AutomatedAverageSourceDegree3And4, sep = \" \" )\n",
    "\n",
    "# average source degree (person type 3 only)\n",
    "gw1AutomatedAverageSourceDegreeOnly3 <- calcSourceMeanDegree( dataFrameIN = gw1AutomatedDataDF, includeBothIN = FALSE )\n",
    "paste( output_prefix, \"average source degree (only 3) =\", gw1AutomatedAverageSourceDegreeOnly3, sep = \" \" )\n"
   ]
  },
  {
   "cell_type": "markdown",
   "metadata": {},
   "source": [
    "### `grp_week_1` (gw1) - automated - More metrics\n",
    "\n",
    "- Back to [Table of Contents](#Table-of-Contents)\n",
    "\n",
    "Now that we have the data in statnet object, run the code in the following for more in-depth information:\n",
    "\n",
    "* `sourcenet/R/sna/statnet/sna-statnet-network-stats.r`"
   ]
  },
  {
   "cell_type": "code",
   "execution_count": null,
   "metadata": {
    "scrolled": false
   },
   "outputs": [],
   "source": [
    "# Links:\n",
    "# - manual (PDF): http://cran.r-project.org/web/packages/sna/sna.pdf\n",
    "# - good notes: http://www.shizukalab.com/toolkits/sna/node-level-calculations\n",
    "\n",
    "# Also, be advised that statnet and igraph don't really play nice together.\n",
    "#    If you'll be using both, best idea is to have a workspace for each.\n",
    "\n",
    "#==============================================================================#\n",
    "# statnet\n",
    "#==============================================================================#\n",
    "\n",
    "# make sure you've loaded the statnet library (includes sna)\n",
    "# install.packages( \"statnet\" )\n",
    "#library( statnet )\n",
    "\n",
    "#==============================================================================#\n",
    "# NODE level\n",
    "#==============================================================================#\n",
    "\n",
    "# what is the standard deviation of the degrees?\n",
    "gw1AutomatedDegreeSd <- sd( gw1AutomatedDegreeVector )\n",
    "paste( output_prefix, \"degree SD =\", gw1AutomatedDegreeSd, sep = \" \" )\n",
    "\n",
    "# what is the variance of the degrees?\n",
    "gw1AutomatedDegreeVar <- var( gw1AutomatedDegreeVector )\n",
    "paste( output_prefix, \"degree variance =\", gw1AutomatedDegreeVar, sep = \" \" )\n",
    "\n",
    "# what is the max value among the degrees?\n",
    "gw1AutomatedDegreeMax <- max( gw1AutomatedDegreeVector )\n",
    "paste( output_prefix, \"degree max =\", gw1AutomatedDegreeMax, sep = \" \" )\n",
    "\n",
    "# calculate and plot degree distributions\n",
    "gw1AutomatedDegreeFrequenciesTable <- table( gw1AutomatedDegreeVector )\n",
    "paste( output_prefix, \"degree frequencies =\", gw1AutomatedDegreeFrequenciesTable, sep = \" \" )\n",
    "gw1AutomatedDegreeFrequenciesTable\n",
    "\n",
    "# node-level undirected betweenness\n",
    "gw1AutomatedBetweenness <- sna::betweenness( gw1AutomatedNetworkStatnet, gmode = \"graph\", cmode = \"undirected\" )\n",
    "\n",
    "#paste( \"betweenness = \", gw1AutomatedBetweenness, sep = \"\" )\n",
    "# associate with each node as a node attribute.\n",
    "#    (%v% is a shortcut for the get.vertex.attribute command)\n",
    "gw1AutomatedNetworkStatnet %v% \"betweenness\" <- gw1AutomatedBetweenness\n",
    "\n",
    "# also add degree vector to original data frame\n",
    "gw1AutomatedDataDF$betweenness <- gw1AutomatedBetweenness\n",
    "\n",
    "#==============================================================================#\n",
    "# NETWORK level\n",
    "#==============================================================================#\n",
    "\n",
    "# graph-level degree centrality\n",
    "gw1AutomatedDegreeCentrality <- sna::centralization( gw1AutomatedNetworkStatnet, sna::degree, mode = \"graph\" )\n",
    "paste( output_prefix, \"degree centrality =\", gw1AutomatedDegreeCentrality, sep = \" \" )\n",
    "\n",
    "# graph-level betweenness centrality\n",
    "gw1AutomatedBetweennessCentrality <- sna::centralization( gw1AutomatedNetworkStatnet, sna::betweenness, mode = \"graph\", cmode = \"undirected\" )\n",
    "paste( output_prefix, \"betweenness centrality =\", gw1AutomatedBetweennessCentrality, sep = \" \" )\n",
    "\n",
    "# graph-level connectedness\n",
    "gw1AutomatedConnectedness <- sna::connectedness( gw1AutomatedNetworkStatnet )\n",
    "paste( output_prefix, \"connectedness =\", gw1AutomatedConnectedness, sep = \" \" )\n",
    "\n",
    "# graph-level transitivity\n",
    "gw1AutomatedTransitivity <- sna::gtrans( gw1AutomatedNetworkStatnet, mode = \"graph\" )\n",
    "paste( output_prefix, \"transitivity =\", gw1AutomatedTransitivity, sep = \" \" )\n",
    "\n",
    "# graph-level density\n",
    "gw1AutomatedDensity <- sna::gden( gw1AutomatedNetworkStatnet, mode = \"graph\" )\n",
    "paste( output_prefix, \"density =\", gw1AutomatedDensity, sep = \" \" )\n"
   ]
  },
  {
   "cell_type": "markdown",
   "metadata": {},
   "source": [
    "### `grp_week_1` (gw1) - automated - create node attribute DataFrame\n",
    "\n",
    "- Back to [Table of Contents](#Table-of-Contents)\n",
    "\n",
    "If you want to just work with the traits of the nodes/vertexes, you can combine the attribute vectors into a data frame."
   ]
  },
  {
   "cell_type": "code",
   "execution_count": null,
   "metadata": {
    "scrolled": true
   },
   "outputs": [],
   "source": [
    "#==============================================================================#\n",
    "# output attributes to data frame\n",
    "#==============================================================================#\n",
    "\n",
    "# if you want to just work with the traits of the nodes/vertexes, you can\n",
    "#    combine the attribute vectors into a data frame.\n",
    "\n",
    "# first, output network object to see what attributes you have\n",
    "gw1AutomatedNetworkStatnet\n",
    "\n",
    "# then, combine them into a data frame.\n",
    "gw1AutomatedNodeAttrDF <- data.frame( id = gw1AutomatedNetworkStatnet %v% \"vertex.names\",\n",
    "                                      person_id = gw1AutomatedNetworkStatnet %v% \"person_id\",\n",
    "                                      person_type = gw1AutomatedNetworkStatnet %v% \"person_type\",\n",
    "                                      degree = gw1AutomatedNetworkStatnet %v% \"degree\",\n",
    "                                      betweenness = gw1AutomatedNetworkStatnet %v% \"betweenness\" )\n"
   ]
  },
  {
   "cell_type": "markdown",
   "metadata": {},
   "source": [
    "## `grp_week_1` (gw1) - human\n",
    "\n",
    "- Return to [Table of Contents](#Table-of-Contents)\n",
    "\n",
    "Next, we'll analyze the same week from the month of data coded by human coders.  Set up some variables to store where data is located:"
   ]
  },
  {
   "cell_type": "markdown",
   "metadata": {},
   "source": [
    "### `grp_week_1` (gw1) - human - Read data\n",
    "\n",
    "- Return to [Table of Contents](#Table-of-Contents)\n",
    "\n",
    "Read in the data from tab-delimited data file, then get it in right data structures for use in R SNA."
   ]
  },
  {
   "cell_type": "code",
   "execution_count": null,
   "metadata": {},
   "outputs": [],
   "source": [
    "# initialize variables\n",
    "gw1HumanDataFolder <- paste( data_directory, \"/network/grp_month\", sep = \"\" )\n",
    "gw1HumanDataFile <- \"sourcenet_data-20171206-031319-grp_month-human-week1_subset.tab\"\n",
    "gw1HumanDataPath <- paste( gw1HumanDataFolder, \"/\", gw1HumanDataFile, sep = \"\" )"
   ]
  },
  {
   "cell_type": "code",
   "execution_count": null,
   "metadata": {},
   "outputs": [],
   "source": [
    "gw1HumanDataPath"
   ]
  },
  {
   "cell_type": "markdown",
   "metadata": {},
   "source": [
    "Load the data file into memory"
   ]
  },
  {
   "cell_type": "code",
   "execution_count": null,
   "metadata": {},
   "outputs": [],
   "source": [
    "# tab-delimited:\n",
    "gw1HumanDataDF <- read.delim( gw1HumanDataPath, header = TRUE, row.names = 1, check.names = FALSE )"
   ]
  },
  {
   "cell_type": "code",
   "execution_count": null,
   "metadata": {},
   "outputs": [],
   "source": [
    "# get count of rows...\n",
    "gw1HumanRowCount <- nrow( gw1HumanDataDF )\n",
    "paste( output_prefix, \"automated row count =\", gw1HumanRowCount, sep = \" \" )\n",
    "\n",
    "# ...and columns\n",
    "gw1HumanColumnCount <- ncol( gw1HumanDataDF )\n",
    "paste( output_prefix, \"automated column count =\", gw1HumanColumnCount, sep = \" \" )"
   ]
  },
  {
   "cell_type": "markdown",
   "metadata": {},
   "source": [
    "Get just the tie rows and columns for initializing network libraries."
   ]
  },
  {
   "cell_type": "code",
   "execution_count": null,
   "metadata": {},
   "outputs": [],
   "source": [
    "# the below syntax returns only as many columns as there are rows, so\n",
    "#     omitting any trait columns that lie in columns on the right side\n",
    "#     of the file.\n",
    "gw1HumanNetworkDF <- gw1HumanDataDF[ , 1 : gw1HumanRowCount ]\n",
    "#str( gw1HumanNetworkDF )"
   ]
  },
  {
   "cell_type": "code",
   "execution_count": null,
   "metadata": {},
   "outputs": [],
   "source": [
    "# convert to a matrix\n",
    "gw1HumanNetworkMatrix <- as.matrix( gw1HumanNetworkDF )\n",
    "# str( gw1HumanNetworkMatrix )"
   ]
  },
  {
   "cell_type": "markdown",
   "metadata": {},
   "source": [
    "### `grp_week_1` (gw1) - human - initialize statnet\n",
    "\n",
    "- Back to [Table of Contents](#Table-of-Contents)\n",
    "\n",
    "First, load the statnet package, then load the automated grp_month week of data into statnet object and assign attributes to nodes.\n",
    "\n",
    "Based on `sourcenet/R/sna/statnet/sna-statnet-init.r`."
   ]
  },
  {
   "cell_type": "code",
   "execution_count": null,
   "metadata": {},
   "outputs": [],
   "source": [
    "# make sure you've loaded the statnet library\n",
    "# install.packages( \"statnet\" )\n",
    "library( statnet )"
   ]
  },
  {
   "cell_type": "code",
   "execution_count": null,
   "metadata": {},
   "outputs": [],
   "source": [
    "# If you have a data frame of attributes (each attribute is a column, with\n",
    "#     attribute name the column name), you can associate those attributes\n",
    "#     when you create the network.\n",
    "# attribute help: http://www.inside-r.org/packages/cran/network/docs/loading.attributes\n",
    "\n",
    "# load attributes from a file:\n",
    "#tab_attribute_test1 <- read.delim( \"tab-test1-attribute_data.txt\", header = TRUE, row.names = 1, check.names = FALSE )\n",
    "\n",
    "# or create DataFrame by just grabbing the attribute columns\n",
    "#gw1HumanNetworkAttributeDF <- gw1HumanDataDF[ , 1169:1170 ]\n",
    "gw1HumanNetworkAttributeDF <- gw1HumanDataDF[ , 1168:1169 ]\n",
    "\n",
    "# convert matrix to statnet network object instance.\n",
    "gw1HumanNetworkStatnet <- network( gw1HumanNetworkMatrix, matrix.type = \"adjacency\", directed = FALSE, vertex.attr = gw1HumanNetworkAttributeDF )\n",
    "\n",
    "# look at information now.\n",
    "gw1HumanNetworkStatnet\n",
    "\n",
    "# Network attributes:\n",
    "#  vertices = 314\n",
    "#  directed = FALSE\n",
    "#  hyper = FALSE\n",
    "#  loops = FALSE\n",
    "#  multiple = FALSE\n",
    "#  bipartite = FALSE\n",
    "#  total edges= 309\n",
    "#    missing edges= 0\n",
    "#    non-missing edges= 309\n",
    "#\n",
    "# Vertex attribute names:\n",
    "#    person_type vertex.names\n",
    "#\n",
    "# No edge attributes\n"
   ]
  },
  {
   "cell_type": "code",
   "execution_count": null,
   "metadata": {},
   "outputs": [],
   "source": [
    "# human - include ties Greater than or equal to 0 (GE0)\n",
    "gw1HumanMeanTieWeightGE0Vector <- apply( gw1HumanNetworkMatrix, 1, calculateListMean )\n",
    "gw1HumanDataDF$meanTieWeightGE0 <- gw1HumanMeanTieWeightGE0Vector\n",
    "\n",
    "# human - include ties Greater than or equal to 1 (GE1)\n",
    "gw1HumanMeanTieWeightGE1Vector <- apply( gw1HumanNetworkMatrix, 1, calculateListMean, minValueToIncludeIN = 1 )\n",
    "gw1HumanDataDF$meanTieWeightGE1 <- gw1HumanMeanTieWeightGE1Vector\n",
    "\n",
    "# human - Max tie weight?\n",
    "gw1HumanMaxTieWeightVector <- apply( gw1HumanNetworkMatrix, 1, calculateListMax )\n",
    "gw1HumanDataDF$maxTieWeight <- gw1HumanMaxTieWeightVector\n"
   ]
  },
  {
   "cell_type": "markdown",
   "metadata": {},
   "source": [
    "### `grp_week_1` (gw1) - human - Basic metrics\n",
    "\n",
    "- Back to [Table of Contents](#Table-of-Contents)"
   ]
  },
  {
   "cell_type": "code",
   "execution_count": null,
   "metadata": {},
   "outputs": [],
   "source": [
    "# assuming that our statnet network object is in reference test1_statnet.\n",
    "\n",
    "# Use the degree function in the sna package to create vector of degree values\n",
    "#    for each node.  Make sure to pass the gmode parameter to tell it that the\n",
    "#    graph is not directed (gmode = \"graph\", instead of \"digraph\").\n",
    "# Doc: http://www.inside-r.org/packages/cran/sna/docs/degree\n",
    "#degree_vector <- degree( test1_statnet, gmode = \"graph\" )\n",
    "\n",
    "# If you have other libraries loaded that also implement a degree function, you\n",
    "#    can also call this with package name:\n",
    "gw1HumanDegreeVector <- sna::degree( gw1HumanNetworkStatnet, gmode = \"graph\" )\n",
    "\n",
    "# output the vector\n",
    "gw1HumanDegreeVector\n",
    "\n",
    "# want more info on the degree function?  You can get to it eventually through\n",
    "#    the following:\n",
    "#help( package = \"sna\" )\n",
    "#??sna::degree\n",
    "\n",
    "# what is the average (mean) degree?\n",
    "gw1HumanAvgDegree <- mean( gw1HumanDegreeVector )\n",
    "paste( output_prefix, \"average degree =\", gw1HumanAvgDegree, sep = \" \" )\n",
    "\n",
    "# subset vector to get only those that are above mean\n",
    "gw1HumanAboveMeanVector <- gw1HumanDegreeVector[ gw1HumanDegreeVector > gw1HumanAvgDegree ]\n",
    "\n",
    "# Take the degree and associate it with each node as a node attribute.\n",
    "#    (%v% is a shortcut for the get.vertex.attribute command)\n",
    "gw1HumanNetworkStatnet %v% \"degree\" <- gw1HumanDegreeVector\n",
    "\n",
    "# also add degree vector to original data frame\n",
    "gw1HumanDataDF$degree <- gw1HumanDegreeVector\n"
   ]
  },
  {
   "cell_type": "code",
   "execution_count": null,
   "metadata": {},
   "outputs": [],
   "source": [
    "# average author degree (person types 2 and 4)\n",
    "gw1HumanAverageAuthorDegree2And4 <- calcAuthorMeanDegree( dataFrameIN = gw1HumanDataDF, includeBothIN = TRUE )\n",
    "paste( output_prefix, \"average author degree (2 and 4) = \", gw1HumanAverageAuthorDegree2And4, sep = \" \" )\n",
    "\n",
    "# average author degree (person type 2 only)\n",
    "gw1HumanAverageAuthorDegreeOnly2 <- calcAuthorMeanDegree( dataFrameIN = gw1HumanDataDF, includeBothIN = FALSE )\n",
    "paste( output_prefix, \"average author degree (only 2) = \", gw1HumanAverageAuthorDegreeOnly2, sep = \" \" )\n",
    "\n",
    "# average source degree (person types 3 and 4)\n",
    "gw1HumanAverageSourceDegree3And4 <- calcSourceMeanDegree( dataFrameIN = gw1HumanDataDF, includeBothIN = TRUE )\n",
    "paste( output_prefix, \"average source degree (3 and 4) = \", gw1HumanAverageSourceDegree3And4, sep = \" \" )\n",
    "\n",
    "# average source degree (person type 3 only)\n",
    "gw1HumanAverageSourceDegreeOnly3 <- calcSourceMeanDegree( dataFrameIN = gw1HumanDataDF, includeBothIN = FALSE )\n",
    "paste( output_prefix, \"average source degree (only 3) = \", gw1HumanAverageSourceDegreeOnly3, sep = \" \" )\n"
   ]
  },
  {
   "cell_type": "markdown",
   "metadata": {},
   "source": [
    "### `grp_week_1` (gw1) - human - More metrics\n",
    "\n",
    "- Back to [Table of Contents](#Table-of-Contents)\n",
    "\n",
    "Now that we have the data in statnet object, run the code in the following for more in-depth information:\n",
    "\n",
    "* `sourcenet/R/sna/statnet/sna-statnet-network-stats.r`"
   ]
  },
  {
   "cell_type": "code",
   "execution_count": null,
   "metadata": {
    "scrolled": false
   },
   "outputs": [],
   "source": [
    "# Links:\n",
    "# - manual (PDF): http://cran.r-project.org/web/packages/sna/sna.pdf\n",
    "# - good notes: http://www.shizukalab.com/toolkits/sna/node-level-calculations\n",
    "\n",
    "# Also, be advised that statnet and igraph don't really play nice together.\n",
    "#    If you'll be using both, best idea is to have a workspace for each.\n",
    "\n",
    "#==============================================================================#\n",
    "# statnet\n",
    "#==============================================================================#\n",
    "\n",
    "# make sure you've loaded the statnet library (includes sna)\n",
    "# install.packages( \"statnet\" )\n",
    "#library( statnet )\n",
    "\n",
    "#==============================================================================#\n",
    "# NODE level\n",
    "#==============================================================================#\n",
    "\n",
    "# what is the standard deviation of the degrees?\n",
    "gw1HumanDegreeSd <- sd( gw1HumanDegreeVector )\n",
    "paste( output_prefix, \"degree SD =\", gw1HumanDegreeSd, sep = \" \" )\n",
    "\n",
    "# what is the variance of the degrees?\n",
    "gw1HumanDegreeVar <- var( gw1HumanDegreeVector )\n",
    "paste( output_prefix, \"degree variance =\", gw1HumanDegreeVar, sep = \" \" )\n",
    "\n",
    "# what is the max value among the degrees?\n",
    "gw1HumanDegreeMax <- max( gw1HumanDegreeVector )\n",
    "paste( output_prefix, \"degree max =\", gw1HumanDegreeMax, sep = \" \" )\n",
    "\n",
    "# calculate and plot degree distributions\n",
    "gw1HumanDegreeFrequenciesTable <- table( gw1HumanDegreeVector )\n",
    "paste( output_prefix, \"degree frequencies =\", gw1HumanDegreeFrequenciesTable, sep = \" \" )\n",
    "gw1HumanDegreeFrequenciesTable\n",
    "\n",
    "# node-level undirected betweenness\n",
    "gw1HumanBetweenness <- sna::betweenness( gw1HumanNetworkStatnet, gmode = \"graph\", cmode = \"undirected\" )\n",
    "\n",
    "#paste( \"betweenness = \", gw1HumanBetweenness, sep = \"\" )\n",
    "# associate with each node as a node attribute.\n",
    "#    (%v% is a shortcut for the get.vertex.attribute command)\n",
    "gw1HumanNetworkStatnet %v% \"betweenness\" <- gw1HumanBetweenness\n",
    "\n",
    "# also add degree vector to original data frame\n",
    "gw1HumanDataDF$betweenness <- gw1HumanBetweenness\n",
    "\n",
    "#==============================================================================#\n",
    "# NETWORK level\n",
    "#==============================================================================#\n",
    "\n",
    "# graph-level degree centrality\n",
    "gw1HumanDegreeCentrality <- sna::centralization( gw1HumanNetworkStatnet, sna::degree, mode = \"graph\" )\n",
    "paste( output_prefix, \"degree centrality =\", gw1HumanDegreeCentrality, sep = \" \" )\n",
    "\n",
    "# graph-level betweenness centrality\n",
    "gw1HumanBetweennessCentrality <- sna::centralization( gw1HumanNetworkStatnet, sna::betweenness, mode = \"graph\", cmode = \"undirected\" )\n",
    "paste( output_prefix, \"betweenness centrality =\", gw1HumanBetweennessCentrality, sep = \" \" )\n",
    "\n",
    "# graph-level connectedness\n",
    "gw1HumanConnectedness <- sna::connectedness( gw1HumanNetworkStatnet )\n",
    "paste( output_prefix, \"connectedness =\", gw1HumanConnectedness, sep = \" \" )\n",
    "\n",
    "# graph-level transitivity\n",
    "gw1HumanTransitivity <- sna::gtrans( gw1HumanNetworkStatnet, mode = \"graph\" )\n",
    "paste( output_prefix, \"transitivity =\", gw1HumanTransitivity, sep = \" \" )\n",
    "\n",
    "# graph-level density\n",
    "gw1HumanDensity <- sna::gden( gw1HumanNetworkStatnet, mode = \"graph\" )\n",
    "paste( output_prefix, \"density =\", gw1HumanDensity, sep = \" \" )\n"
   ]
  },
  {
   "cell_type": "markdown",
   "metadata": {},
   "source": [
    "### `grp_week_1` (gw1) - human - create node attribute DataFrame\n",
    "\n",
    "- Back to [Table of Contents](#Table-of-Contents)\n",
    "\n",
    "If you want to just work with the traits of the nodes/vertexes, you can combine the attribute vectors into a data frame."
   ]
  },
  {
   "cell_type": "code",
   "execution_count": null,
   "metadata": {
    "scrolled": true
   },
   "outputs": [],
   "source": [
    "#==============================================================================#\n",
    "# output attributes to data frame\n",
    "#==============================================================================#\n",
    "\n",
    "# if you want to just work with the traits of the nodes/vertexes, you can\n",
    "#    combine the attribute vectors into a data frame.\n",
    "\n",
    "# first, output network object to see what attributes you have\n",
    "gw1HumanNetworkStatnet\n",
    "\n",
    "# then, combine them into a data frame.\n",
    "gw1HumanNodeAttrDF <- data.frame( id = gw1HumanNetworkStatnet %v% \"vertex.names\",\n",
    "                                 person_id = gw1HumanNetworkStatnet %v% \"person_id\",\n",
    "                                 person_type = gw1HumanNetworkStatnet %v% \"person_type\",\n",
    "                                 degree = gw1HumanNetworkStatnet %v% \"degree\",\n",
    "                                 betweenness = gw1HumanNetworkStatnet %v% \"betweenness\" )\n"
   ]
  },
  {
   "cell_type": "markdown",
   "metadata": {},
   "source": [
    "## `grp_week_1` QAP graph correlation between automated and ground truth\n",
    "\n",
    "- Back to [Table of Contents](#Table-of-Contents)\n",
    "\n",
    "Now, compare the automated and human-coded networks themselves using graph correlation in QAP.\n",
    "\n",
    "Based on: `sourcenet/R/sna/statnet/sna-qap.r`"
   ]
  },
  {
   "cell_type": "code",
   "execution_count": null,
   "metadata": {},
   "outputs": [],
   "source": [
    "# link to good doc on qaptest(){sna} function: http://www.inside-r.org/packages/cran/sna/docs/qaptest\n",
    "\n",
    "# First, need to load data - see (or just source() ) the file \"sna-load_data.r\".\n",
    "# source( \"sna-load_data.r\" )\n",
    "# does the following (among other things):\n",
    "# Start with loading in tab-delimited files.\n",
    "#humanNetworkData <- read.delim( \"human-sourcenet_data-20150504-002453.tab\", header = TRUE, row.names = 1, check.names = FALSE )\n",
    "#calaisNetworkData <- read.delim( \"puter-sourcenet_data-20150504-002507.tab\", header = TRUE, row.names = 1, check.names = FALSE )\n",
    "\n",
    "# remove the right-most column, which contains non-tie info on nodes.\n",
    "#humanNetworkTies <- humanNetworkData[ , -ncol( humanNetworkData ) ]\n",
    "#gw1AutomatedNetworkDF <- calaisNetworkData[ , -ncol( calaisNetworkData )]\n",
    "\n",
    "# convert each to a matrix\n",
    "#gw1HumanNetworkMatrix <- as.matrix( gw1HumanNetworkTies )\n",
    "#gw1AutomatedNetworkMatrix <- as.matrix( gw1AutomatedNetworkDF )\n",
    "\n",
    "# imports\n",
    "# install.packages( \"sna\" )\n",
    "# install.packages( \"statnet\" )\n",
    "library( \"sna\" )\n",
    "\n",
    "# package up data for calling qaptest() - first make 3-dimensional array to hold\n",
    "#    our two matrices - this is known as a \"graph set\".\n",
    "graphSetArray <- array( dim = c( 2, ncol( gw1HumanNetworkMatrix ), nrow( gw1HumanNetworkMatrix ) ) )\n",
    "\n",
    "# then, place each matrix in one dimension of the array.\n",
    "graphSetArray[ 1, , ] <- gw1HumanNetworkMatrix\n",
    "graphSetArray[ 2, , ] <- gw1AutomatedNetworkMatrix\n",
    "\n",
    "# first, try a graph correlation\n",
    "graphCorrelation <- sna::gcor( gw1HumanNetworkMatrix, gw1AutomatedNetworkMatrix )\n",
    "paste( output_prefix, \"graph correlation =\", graphCorrelation, sep = \" \" )\n",
    "\n",
    "# try a qaptest...\n",
    "qapGcorResult <- sna::qaptest( graphSetArray, sna::gcor, g1 = 1, g2 = 2 )\n",
    "summary( qapGcorResult )\n",
    "plot( qapGcorResult )\n",
    "\n",
    "# graph covariance...\n",
    "graphCovariance <- sna::gcov( gw1HumanNetworkMatrix, gw1AutomatedNetworkMatrix )\n",
    "graphCovariance\n",
    "paste( output_prefix, \"graph covariance =\", graphCovariance, sep = \" \" )\n",
    "\n",
    "# try a qaptest...\n",
    "qapGcovResult <- sna::qaptest( graphSetArray, sna::gcov, g1 = 1, g2 = 2 )\n",
    "summary( qapGcovResult )\n",
    "plot( qapGcovResult )\n",
    "\n",
    "# Hamming Distance\n",
    "graphHammingDist <- sna::hdist( gw1HumanNetworkMatrix, gw1AutomatedNetworkMatrix )\n",
    "paste( output_prefix, \"graph hamming distance =\", graphHammingDist, sep = \" \" )\n",
    "\n",
    "# try a qaptest...\n",
    "qapHdistResult <- sna::qaptest( graphSetArray, sna::hdist, g1 = 1, g2 = 2 )\n",
    "summary( qapHdistResult )\n",
    "plot( qapHdistResult )\n",
    "\n",
    "# graph structural correlation?\n",
    "#graphStructCorrelation <- gscor( gw1HumanNetworkMatrix, gw1AutomatedNetworkMatrix )\n",
    "#graphStructCorrelation\n"
   ]
  },
  {
   "cell_type": "markdown",
   "metadata": {},
   "source": [
    "# Save workspace image\n",
    "\n",
    "- Back to [Table of Contents](#Table-of-Contents)\n",
    "\n",
    "Save all the information in the current image, in case we need/want it later."
   ]
  },
  {
   "cell_type": "code",
   "execution_count": null,
   "metadata": {},
   "outputs": [],
   "source": [
    "# help( save.image )\n",
    "save.image( file = workspace_file_name )"
   ]
  }
 ],
 "metadata": {
  "kernelspec": {
   "display_name": "R",
   "language": "R",
   "name": "ir"
  },
  "language_info": {
   "codemirror_mode": "r",
   "file_extension": ".r",
   "mimetype": "text/x-r-source",
   "name": "R",
   "pygments_lexer": "r",
   "version": "3.4.4"
  },
  "toc": {
   "nav_menu": {},
   "number_sections": true,
   "sideBar": true,
   "skip_h1_title": false,
   "title_cell": "Table of Contents",
   "title_sidebar": "Contents",
   "toc_cell": true,
   "toc_position": {
    "height": "717px",
    "left": "0px",
    "right": "1061px",
    "top": "111px",
    "width": "379px"
   },
   "toc_section_display": "block",
   "toc_window_display": true
  }
 },
 "nbformat": 4,
 "nbformat_minor": 2
}
