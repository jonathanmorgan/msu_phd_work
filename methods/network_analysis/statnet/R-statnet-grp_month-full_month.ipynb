{
 "cells": [
  {
   "cell_type": "markdown",
   "metadata": {},
   "source": [
    "**R - statnet - grp month - full month**\n",
    "\n",
    "_2017.12.02 - work log - prelim - R - statnet - grp month_"
   ]
  },
  {
   "cell_type": "markdown",
   "metadata": {
    "toc": true
   },
   "source": [
    "<h1>Table of Contents<span class=\"tocSkip\"></span></h1>\n",
    "<div class=\"toc\"><ul class=\"toc-item\"><li><span><a href=\"#R-network-analysis-files\" data-toc-modified-id=\"R-network-analysis-files-1\"><span class=\"toc-item-num\">1&nbsp;&nbsp;</span>R network analysis files</a></span></li><li><span><a href=\"#Setup\" data-toc-modified-id=\"Setup-2\"><span class=\"toc-item-num\">2&nbsp;&nbsp;</span>Setup</a></span><ul class=\"toc-item\"><li><span><a href=\"#Setup----working-directories\" data-toc-modified-id=\"Setup----working-directories-2.1\"><span class=\"toc-item-num\">2.1&nbsp;&nbsp;</span>Setup -  working directories</a></span></li><li><span><a href=\"#Setup---import-SNA-functions\" data-toc-modified-id=\"Setup---import-SNA-functions-2.2\"><span class=\"toc-item-num\">2.2&nbsp;&nbsp;</span>Setup - import SNA functions</a></span></li><li><span><a href=\"#Setup---network-data---render-and-store-network-data\" data-toc-modified-id=\"Setup---network-data---render-and-store-network-data-2.3\"><span class=\"toc-item-num\">2.3&nbsp;&nbsp;</span>Setup - network data - render and store network data</a></span><ul class=\"toc-item\"><li><span><a href=\"#data---grp_month\" data-toc-modified-id=\"data---grp_month-2.3.1\"><span class=\"toc-item-num\">2.3.1&nbsp;&nbsp;</span>data - grp_month</a></span></li></ul></li><li><span><a href=\"#Setup---load-workspace\" data-toc-modified-id=\"Setup---load-workspace-2.4\"><span class=\"toc-item-num\">2.4&nbsp;&nbsp;</span>Setup - load workspace</a></span></li></ul></li><li><span><a href=\"#grp_month-analysis\" data-toc-modified-id=\"grp_month-analysis-3\"><span class=\"toc-item-num\">3&nbsp;&nbsp;</span><code>grp_month</code> analysis</a></span><ul class=\"toc-item\"><li><span><a href=\"#grp_month-(gm)---automated---OpenCalais\" data-toc-modified-id=\"grp_month-(gm)---automated---OpenCalais-3.1\"><span class=\"toc-item-num\">3.1&nbsp;&nbsp;</span><code>grp_month</code> (gm) - automated - OpenCalais</a></span><ul class=\"toc-item\"><li><span><a href=\"#grp_month-(gm)---automated---Read-data\" data-toc-modified-id=\"grp_month-(gm)---automated---Read-data-3.1.1\"><span class=\"toc-item-num\">3.1.1&nbsp;&nbsp;</span><code>grp_month</code> (gm) - automated - Read data</a></span></li><li><span><a href=\"#grp_month-(gm)---automated---initialize-statnet\" data-toc-modified-id=\"grp_month-(gm)---automated---initialize-statnet-3.1.2\"><span class=\"toc-item-num\">3.1.2&nbsp;&nbsp;</span><code>grp_month</code> (gm) - automated - initialize statnet</a></span></li><li><span><a href=\"#grp_month-(gm)---automated---Basic-metrics\" data-toc-modified-id=\"grp_month-(gm)---automated---Basic-metrics-3.1.3\"><span class=\"toc-item-num\">3.1.3&nbsp;&nbsp;</span><code>grp_month</code> (gm) - automated - Basic metrics</a></span></li><li><span><a href=\"#grp_month-(gm)---automated---More-metrics\" data-toc-modified-id=\"grp_month-(gm)---automated---More-metrics-3.1.4\"><span class=\"toc-item-num\">3.1.4&nbsp;&nbsp;</span><code>grp_month</code> (gm) - automated - More metrics</a></span></li><li><span><a href=\"#grp_month-(gm)---automated---create-node-attribute-DataFrame\" data-toc-modified-id=\"grp_month-(gm)---automated---create-node-attribute-DataFrame-3.1.5\"><span class=\"toc-item-num\">3.1.5&nbsp;&nbsp;</span><code>grp_month</code> (gm) - automated - create node attribute DataFrame</a></span></li></ul></li><li><span><a href=\"#grp_month-(gm)---human\" data-toc-modified-id=\"grp_month-(gm)---human-3.2\"><span class=\"toc-item-num\">3.2&nbsp;&nbsp;</span><code>grp_month</code> (gm) - human</a></span><ul class=\"toc-item\"><li><span><a href=\"#grp_month-(gm)---human---Read-data\" data-toc-modified-id=\"grp_month-(gm)---human---Read-data-3.2.1\"><span class=\"toc-item-num\">3.2.1&nbsp;&nbsp;</span><code>grp_month</code> (gm) - human - Read data</a></span></li><li><span><a href=\"#grp_month-(gm)---human---initialize-statnet\" data-toc-modified-id=\"grp_month-(gm)---human---initialize-statnet-3.2.2\"><span class=\"toc-item-num\">3.2.2&nbsp;&nbsp;</span><code>grp_month</code> (gm) - human - initialize statnet</a></span></li><li><span><a href=\"#grp_month-(gm)---human---Basic-metrics\" data-toc-modified-id=\"grp_month-(gm)---human---Basic-metrics-3.2.3\"><span class=\"toc-item-num\">3.2.3&nbsp;&nbsp;</span><code>grp_month</code> (gm) - human - Basic metrics</a></span></li><li><span><a href=\"#grp_month-(gm)---human---More-metrics\" data-toc-modified-id=\"grp_month-(gm)---human---More-metrics-3.2.4\"><span class=\"toc-item-num\">3.2.4&nbsp;&nbsp;</span><code>grp_month</code> (gm) - human - More metrics</a></span></li><li><span><a href=\"#grp_month-(gm)---human---create-node-attribute-DataFrame\" data-toc-modified-id=\"grp_month-(gm)---human---create-node-attribute-DataFrame-3.2.5\"><span class=\"toc-item-num\">3.2.5&nbsp;&nbsp;</span><code>grp_month</code> (gm) - human - create node attribute DataFrame</a></span></li></ul></li><li><span><a href=\"#grp_month-QAP-graph-correlation-between-automated-and-ground-truth\" data-toc-modified-id=\"grp_month-QAP-graph-correlation-between-automated-and-ground-truth-3.3\"><span class=\"toc-item-num\">3.3&nbsp;&nbsp;</span><code>grp_month</code> QAP graph correlation between automated and ground truth</a></span></li></ul></li><li><span><a href=\"#Save-workspace-image\" data-toc-modified-id=\"Save-workspace-image-4\"><span class=\"toc-item-num\">4&nbsp;&nbsp;</span>Save workspace image</a></span></li><li><span><a href=\"#TODO\" data-toc-modified-id=\"TODO-5\"><span class=\"toc-item-num\">5&nbsp;&nbsp;</span>TODO</a></span></li></ul></div>"
   ]
  },
  {
   "cell_type": "markdown",
   "metadata": {},
   "source": [
    "# R network analysis files\n",
    "\n",
    "- Back to [Table of Contents](#Table-of-Contents)\n",
    "\n",
    "Related files:\n",
    "\n",
    "* network descriptives\n",
    "    * network-level\n",
    "        \n",
    "        * files\n",
    "            \n",
    "            * R scripts:\n",
    "                \n",
    "                * `sourcenet/R/db_connect.r`\n",
    "                * `sourcenet/R/sna/functions-sna.r`\n",
    "                * `sourcenet/R/sna/sna-load_data.r`\n",
    "                * `sourcenet/R/sna/igraph/*`\n",
    "                * `sourcenet/R/sna/statnet/*`\n",
    "        \n",
    "        * statnet/sna\n",
    "            \n",
    "            * `sna::gden()` - graph density\n",
    "            * R scripts:\n",
    "                \n",
    "                * `sourcenet/R/sna/statnet/sna-statnet-init.r`\n",
    "                * `sourcenet/R/sna/statnet/sna-statnet-network-stats.r`\n",
    "                * `sourcenet/R/sna/statnet/sna-qap.r`\n",
    "        \n",
    "        * igraph\n",
    "            \n",
    "            * `igraph::transitivity()` - vector of transitivity scores for each node in a graph, plus network-level transitivity score.\n",
    "                \n",
    "                * Q - interpretation?\n",
    "                \n",
    "            * R scripts:\n",
    "                \n",
    "                * `sourcenet/R/sna/statnet/sna-igraph-init.r`\n",
    "                * `sourcenet/R/sna/statnet/sna-igraph-network-stats.r`\n"
   ]
  },
  {
   "cell_type": "markdown",
   "metadata": {},
   "source": [
    "# Setup\n",
    "\n",
    "- Back to [Table of Contents](#Table-of-Contents)"
   ]
  },
  {
   "cell_type": "markdown",
   "metadata": {},
   "source": [
    "## Setup -  working directories\n",
    "\n",
    "- Back to [Table of Contents](#Table-of-Contents)\n",
    "\n",
    "Store important directories and file names in variables:"
   ]
  },
  {
   "cell_type": "code",
   "execution_count": null,
   "metadata": {},
   "outputs": [],
   "source": [
    "getwd()"
   ]
  },
  {
   "cell_type": "code",
   "execution_count": null,
   "metadata": {},
   "outputs": [],
   "source": [
    "# code files (in particular SNA function library, modest though it may be)\n",
    "code_directory <- \"/home/jonathanmorgan/work/sourcenet/django/research/sourcenet_analysis/R/sna\"\n",
    "sna_function_file_path <- paste( code_directory, \"/\", 'functions-sna.r', sep = \"\" )\n",
    "\n",
    "# home directory\n",
    "home_directory <- getwd()\n",
    "home_directory <- \"/home/jonathanmorgan/work/sourcenet/django/research/work/msu_phd_work/methods\"\n",
    "\n",
    "# data directories\n",
    "data_directory <- paste( home_directory, \"/data\", sep = \"\" )\n",
    "workspace_file_name <- \"statnet-grp_month.RData\"\n",
    "workspace_file_path <- paste( data_directory, \"/\", workspace_file_name )"
   ]
  },
  {
   "cell_type": "code",
   "execution_count": null,
   "metadata": {},
   "outputs": [],
   "source": [
    "# set working directory to data directory for now.\n",
    "setwd( data_directory )\n",
    "getwd()"
   ]
  },
  {
   "cell_type": "markdown",
   "metadata": {},
   "source": [
    "## Setup - import SNA functions\n",
    "\n",
    "- Back to [Table of Contents](#Table-of-Contents)\n",
    "\n",
    "source the file `functions-sna.r`."
   ]
  },
  {
   "cell_type": "code",
   "execution_count": null,
   "metadata": {},
   "outputs": [],
   "source": [
    "source( sna_function_file_path )"
   ]
  },
  {
   "cell_type": "markdown",
   "metadata": {},
   "source": [
    "## Setup - network data - render and store network data\n",
    "\n",
    "- Back to [Table of Contents](#Table-of-Contents)\n",
    "\n",
    "First, need render to render network data and upload it to your server.\n",
    "\n",
    "Directions for rendering network data are in [2017.11.14-work_log-prelim-network_analysis.ipynb](2017.11.14-work_log-prelim-network_analysis.ipynb).  You want a tab-delimited matrix that includes both the network and attributes of nodes as columns, and you want it to include a header row.\n",
    "\n",
    "Once you render your network data files, you should place them on the server.\n",
    "\n",
    "High level data file layout:\n",
    "\n",
    "- tab-delimited.\n",
    "- first row and first column are labels\n",
    "- last 2 columns are traits of nodes (`person_id` and `person_type`)\n",
    "- each row and column after first until the trait columns represents a person found in one of the articles.\n",
    "- The people are in the same order from top to bottom and left to right.\n",
    "- Where the row and column of two people meet, and one of the people is an author, the nunber in the cell where they meet is the number of times the non-author was quoted in an article by the author.  Does not include more basic two-mode co-location ties (appeared in same article, even if not an author and/or not quoted).\n",
    "\n",
    "Files and their location on server:"
   ]
  },
  {
   "cell_type": "markdown",
   "metadata": {},
   "source": [
    "### data - grp_month\n",
    "\n",
    "- Back to [Table of Contents](#Table-of-Contents)\n",
    "\n",
    "This is data from the Grand Rapids Press articles from December of 2009, coded by both humans and OpenCalais.\n",
    "\n",
    "Files:\n",
    "\n",
    "- automated full month - `sourcenet_data-20171205-022551-grp_month-automated.tab`\n",
    "- human full month - `sourcenet_data-20171115-043102-grp_month-human.tab`\n",
    "\n",
    "Location in Dropbox: `Dropbox/academia/MSU/program_stuff/prelim_paper/data/network_analysis/2017.11.14/network/new_coders/grp_month`\n",
    "\n",
    "Location on server: `/home/jonathanmorgan/work/sourcenet/django/research/work/msu_phd_work/data/network/grp_month`"
   ]
  },
  {
   "cell_type": "markdown",
   "metadata": {},
   "source": [
    "## Setup - load workspace\n",
    "\n",
    "- Back to [Table of Contents](#Table-of-Contents)\n",
    "\n",
    "You must load this file's workspace, from a previous run, if one exists:"
   ]
  },
  {
   "cell_type": "code",
   "execution_count": null,
   "metadata": {},
   "outputs": [],
   "source": [
    "# assumes that you've already set working directory above to the\n",
    "#     working directory.\n",
    "setwd( data_directory )\n",
    "load( workspace_file_name )"
   ]
  },
  {
   "cell_type": "markdown",
   "metadata": {},
   "source": [
    "# `grp_month` analysis\n",
    "\n",
    "- Back to [Table of Contents](#Table-of-Contents)\n",
    "\n",
    "First, look at the shiny new month of data."
   ]
  },
  {
   "cell_type": "markdown",
   "metadata": {},
   "source": [
    "## `grp_month` (gm) - automated - OpenCalais\n",
    "\n",
    "- Return to [Table of Contents](#Table-of-Contents)\n",
    "\n",
    "First, we'll analyze the month of data coded by OpenCalais.  Set up some variables to store where data is located:"
   ]
  },
  {
   "cell_type": "markdown",
   "metadata": {},
   "source": [
    "### `grp_month` (gm) - automated - Read data\n",
    "\n",
    "- Return to [Table of Contents](#Table-of-Contents)\n",
    "\n",
    "Read in the data from tab-delimited data file, then get it in right data structures for use in R SNA."
   ]
  },
  {
   "cell_type": "code",
   "execution_count": null,
   "metadata": {},
   "outputs": [],
   "source": [
    "# initialize variables\n",
    "gmAutomatedDataFolder <- paste( data_directory, \"/network/grp_month\", sep = \"\" )\n",
    "gmAutomatedDataFile <- \"sourcenet_data-20171205-022551-grp_month-automated.tab\"\n",
    "gmAutomatedDataPath <- paste( gmAutomatedDataFolder, \"/\", gmAutomatedDataFile, sep = \"\" )"
   ]
  },
  {
   "cell_type": "code",
   "execution_count": null,
   "metadata": {},
   "outputs": [],
   "source": [
    "gmAutomatedDataPath"
   ]
  },
  {
   "cell_type": "markdown",
   "metadata": {},
   "source": [
    "Load the data file into memory"
   ]
  },
  {
   "cell_type": "code",
   "execution_count": null,
   "metadata": {},
   "outputs": [],
   "source": [
    "# tab-delimited:\n",
    "gmAutomatedDataDF <- read.delim( gmAutomatedDataPath, header = TRUE, row.names = 1, check.names = FALSE )"
   ]
  },
  {
   "cell_type": "code",
   "execution_count": null,
   "metadata": {},
   "outputs": [],
   "source": [
    "# get count of rows...\n",
    "gmAutomatedRowCount <- nrow( gmAutomatedDataDF )\n",
    "paste( \"grp_month automated row count = \", gmAutomatedRowCount, sep = \"\" )\n",
    "\n",
    "# ...and columns\n",
    "gmAutomatedColumnCount <- ncol( gmAutomatedDataDF )\n",
    "paste( \"grp_month automated column count = \", gmAutomatedColumnCount, sep = \"\" )"
   ]
  },
  {
   "cell_type": "markdown",
   "metadata": {},
   "source": [
    "Get just the tie rows and columns for initializing network libraries."
   ]
  },
  {
   "cell_type": "code",
   "execution_count": null,
   "metadata": {},
   "outputs": [],
   "source": [
    "# the below syntax returns only as many columns as there are rows, so\n",
    "#     omitting any trait columns that lie in columns on the right side\n",
    "#     of the file.\n",
    "gmAutomatedNetworkDF <- gmAutomatedDataDF[ , 1 : gmAutomatedRowCount ]\n",
    "#str( gmAutomatedNetworkDF )"
   ]
  },
  {
   "cell_type": "code",
   "execution_count": null,
   "metadata": {},
   "outputs": [],
   "source": [
    "# convert to a matrix\n",
    "gmAutomatedNetworkMatrix <- as.matrix( gmAutomatedNetworkDF )\n",
    "# str( gmAutomatedNetworkMatrix )"
   ]
  },
  {
   "cell_type": "markdown",
   "metadata": {},
   "source": [
    "### `grp_month` (gm) - automated - initialize statnet\n",
    "\n",
    "- Back to [Table of Contents](#Table-of-Contents)\n",
    "\n",
    "First, load the statnet package, then load the automated grp_month data into statnet object and assign attributes to nodes.\n",
    "\n",
    "Based on `sourcenet/R/sna/statnet/sna-statnet-init.r`."
   ]
  },
  {
   "cell_type": "code",
   "execution_count": null,
   "metadata": {},
   "outputs": [],
   "source": [
    "# make sure you've loaded the statnet library\n",
    "# install.packages( \"statnet\" )\n",
    "library( statnet )"
   ]
  },
  {
   "cell_type": "code",
   "execution_count": null,
   "metadata": {},
   "outputs": [],
   "source": [
    "# If you have a data frame of attributes (each attribute is a column, with\n",
    "#     attribute name the column name), you can associate those attributes\n",
    "#     when you create the network.\n",
    "# attribute help: http://www.inside-r.org/packages/cran/network/docs/loading.attributes\n",
    "\n",
    "# load attributes from a file:\n",
    "#tab_attribute_test1 <- read.delim( \"tab-test1-attribute_data.txt\", header = TRUE, row.names = 1, check.names = FALSE )\n",
    "\n",
    "# or create DataFrame by just grabbing the attribute columns\n",
    "gmAutomatedNetworkAttributeDF <- gmAutomatedDataDF[ , 1168:1169 ]\n",
    "\n",
    "# convert matrix to statnet network object instance.\n",
    "gmAutomatedNetworkStatnet <- network( gmAutomatedNetworkMatrix, matrix.type = \"adjacency\", directed = FALSE, vertex.attr = gmAutomatedNetworkAttributeDF )\n",
    "\n",
    "# look at information now.\n",
    "gmAutomatedNetworkStatnet\n",
    "\n",
    "# Network attributes:\n",
    "#  vertices = 314\n",
    "#  directed = FALSE\n",
    "#  hyper = FALSE\n",
    "#  loops = FALSE\n",
    "#  multiple = FALSE\n",
    "#  bipartite = FALSE\n",
    "#  total edges= 309\n",
    "#    missing edges= 0\n",
    "#    non-missing edges= 309\n",
    "#\n",
    "# Vertex attribute names:\n",
    "#    person_type vertex.names\n",
    "#\n",
    "# No edge attributes\n"
   ]
  },
  {
   "cell_type": "code",
   "execution_count": null,
   "metadata": {},
   "outputs": [],
   "source": [
    "# calais - include ties Greater than or equal to 0 (GE0)\n",
    "gmAutomatedMeanTieWeightGE0Vector <- apply( gmAutomatedNetworkMatrix, 1, calculateListMean )\n",
    "gmAutomatedDataDF$meanTieWeightGE0 <- gmAutomatedMeanTieWeightGE0Vector\n",
    "\n",
    "# calais - include ties Greater than or equal to 1 (GE1)\n",
    "gmAutomatedMeanTieWeightGE1Vector <- apply( gmAutomatedNetworkMatrix, 1, calculateListMean, minValueToIncludeIN = 1 )\n",
    "gmAutomatedDataDF$meanTieWeightGE1 <- gmAutomatedMeanTieWeightGE1Vector\n",
    "\n",
    "# automated - Max tie weight?\n",
    "gmAutomatedMaxTieWeightVector <- apply( gmAutomatedNetworkMatrix, 1, calculateListMax )\n",
    "gmAutomatedDataDF$maxTieWeight <- gmAutomatedMaxTieWeightVector\n"
   ]
  },
  {
   "cell_type": "markdown",
   "metadata": {},
   "source": [
    "### `grp_month` (gm) - automated - Basic metrics\n",
    "\n",
    "- Back to [Table of Contents](#Table-of-Contents)"
   ]
  },
  {
   "cell_type": "code",
   "execution_count": null,
   "metadata": {},
   "outputs": [],
   "source": [
    "# assuming that our statnet network object is in reference test1_statnet.\n",
    "\n",
    "# Use the degree function in the sna package to create vector of degree values\n",
    "#    for each node.  Make sure to pass the gmode parameter to tell it that the\n",
    "#    graph is not directed (gmode = \"graph\", instead of \"digraph\").\n",
    "# Doc: http://www.inside-r.org/packages/cran/sna/docs/degree\n",
    "#degree_vector <- degree( test1_statnet, gmode = \"graph\" )\n",
    "\n",
    "# If you have other libraries loaded that also implement a degree function, you\n",
    "#    can also call this with package name:\n",
    "gmAutomatedDegreeVector <- sna::degree( gmAutomatedNetworkStatnet, gmode = \"graph\" )\n",
    "\n",
    "# output the vector\n",
    "gmAutomatedDegreeVector\n",
    "\n",
    "# want more info on the degree function?  You can get to it eventually through\n",
    "#    the following:\n",
    "#help( package = \"sna\" )\n",
    "#??sna::degree\n",
    "\n",
    "# what is the average (mean) degree?\n",
    "gmAutomatedAvgDegree <- mean( gmAutomatedDegreeVector )\n",
    "paste( \"average degree = \", gmAutomatedAvgDegree, sep = \"\" )\n",
    "\n",
    "# subset vector to get only those that are above mean\n",
    "gmAutomatedAboveMeanVector <- gmAutomatedDegreeVector[ gmAutomatedDegreeVector > gmAutomatedAvgDegree ]\n",
    "\n",
    "# Take the degree and associate it with each node as a node attribute.\n",
    "#    (%v% is a shortcut for the get.vertex.attribute command)\n",
    "gmAutomatedNetworkStatnet %v% \"degree\" <- gmAutomatedDegreeVector\n",
    "\n",
    "# also add degree vector to original data frame\n",
    "gmAutomatedDataDF$degree <- gmAutomatedDegreeVector\n"
   ]
  },
  {
   "cell_type": "code",
   "execution_count": null,
   "metadata": {},
   "outputs": [],
   "source": [
    "# average author degree (person types 2 and 4)\n",
    "gmAutomatedAverageAuthorDegree2And4 <- calcAuthorMeanDegree( dataFrameIN = gmAutomatedDataDF, includeBothIN = TRUE )\n",
    "paste( \"average author degree (2 and 4) = \", gmAutomatedAverageAuthorDegree2And4, sep = \"\" )\n",
    "\n",
    "# average author degree (person type 2 only)\n",
    "gmAutomatedAverageAuthorDegreeOnly2 <- calcAuthorMeanDegree( dataFrameIN = gmAutomatedDataDF, includeBothIN = FALSE )\n",
    "paste( \"average author degree (only 2) = \", gmAutomatedAverageAuthorDegreeOnly2, sep = \"\" )\n",
    "\n",
    "# average source degree (person types 3 and 4)\n",
    "gmAutomatedAverageSourceDegree3And4 <- calcSourceMeanDegree( dataFrameIN = gmAutomatedDataDF, includeBothIN = TRUE )\n",
    "paste( \"average source degree (3 and 4) = \", gmAutomatedAverageSourceDegree3And4, sep = \"\" )\n",
    "\n",
    "# average source degree (person type 3 only)\n",
    "gmAutomatedAverageSourceDegreeOnly3 <- calcSourceMeanDegree( dataFrameIN = gmAutomatedDataDF, includeBothIN = FALSE )\n",
    "paste( \"average source degree (only 3) = \", gmAutomatedAverageSourceDegreeOnly3, sep = \"\" )\n"
   ]
  },
  {
   "cell_type": "markdown",
   "metadata": {},
   "source": [
    "### `grp_month` (gm) - automated - More metrics\n",
    "\n",
    "- Back to [Table of Contents](#Table-of-Contents)\n",
    "\n",
    "Now that we have the data in statnet object, run the code in the following for more in-depth information:\n",
    "\n",
    "* `sourcenet/R/sna/statnet/sna-statnet-network-stats.r`"
   ]
  },
  {
   "cell_type": "code",
   "execution_count": null,
   "metadata": {
    "scrolled": false
   },
   "outputs": [],
   "source": [
    "# Links:\n",
    "# - manual (PDF): http://cran.r-project.org/web/packages/sna/sna.pdf\n",
    "# - good notes: http://www.shizukalab.com/toolkits/sna/node-level-calculations\n",
    "\n",
    "# Also, be advised that statnet and igraph don't really play nice together.\n",
    "#    If you'll be using both, best idea is to have a workspace for each.\n",
    "\n",
    "#==============================================================================#\n",
    "# statnet\n",
    "#==============================================================================#\n",
    "\n",
    "# make sure you've loaded the statnet library (includes sna)\n",
    "# install.packages( \"statnet\" )\n",
    "#library( statnet )\n",
    "\n",
    "#==============================================================================#\n",
    "# NODE level\n",
    "#==============================================================================#\n",
    "\n",
    "# what is the standard deviation of the degrees?\n",
    "gmAutomatedDegreeSd <- sd( gmAutomatedDegreeVector )\n",
    "paste( \"degree SD = \", gmAutomatedDegreeSd, sep = \"\" )\n",
    "\n",
    "# what is the variance of the degrees?\n",
    "gmAutomatedDegreeVar <- var( gmAutomatedDegreeVector )\n",
    "paste( \"degree variance = \", gmAutomatedDegreeVar, sep = \"\" )\n",
    "\n",
    "# what is the max value among the degrees?\n",
    "gmAutomatedDegreeMax <- max( gmAutomatedDegreeVector )\n",
    "paste( \"degree max = \", gmAutomatedDegreeMax, sep = \"\" )\n",
    "\n",
    "# calculate and plot degree distributions\n",
    "gmAutomatedDegreeFrequenciesTable <- table( gmAutomatedDegreeVector )\n",
    "paste( \"degree frequencies = \", gmAutomatedDegreeFrequenciesTable, sep = \"\" )\n",
    "gmAutomatedDegreeFrequenciesTable\n",
    "\n",
    "# node-level undirected betweenness\n",
    "gmAutomatedBetweenness <- sna::betweenness( gmAutomatedNetworkStatnet, gmode = \"graph\", cmode = \"undirected\" )\n",
    "\n",
    "#paste( \"betweenness = \", gmAutomatedBetweenness, sep = \"\" )\n",
    "# associate with each node as a node attribute.\n",
    "#    (%v% is a shortcut for the get.vertex.attribute command)\n",
    "gmAutomatedNetworkStatnet %v% \"betweenness\" <- gmAutomatedBetweenness\n",
    "\n",
    "# also add degree vector to original data frame\n",
    "gmAutomatedDataDF$betweenness <- gmAutomatedBetweenness\n",
    "\n",
    "#==============================================================================#\n",
    "# NETWORK level\n",
    "#==============================================================================#\n",
    "\n",
    "# graph-level degree centrality\n",
    "gmAutomatedDegreeCentrality <- sna::centralization( gmAutomatedNetworkStatnet, sna::degree, mode = \"graph\" )\n",
    "paste( \"degree centrality = \", gmAutomatedDegreeCentrality, sep = \"\" )\n",
    "\n",
    "# graph-level betweenness centrality\n",
    "gmAutomatedBetweennessCentrality <- sna::centralization( gmAutomatedNetworkStatnet, sna::betweenness, mode = \"graph\", cmode = \"undirected\" )\n",
    "paste( \"betweenness centrality = \", gmAutomatedBetweennessCentrality, sep = \"\" )\n",
    "\n",
    "# graph-level connectedness\n",
    "gmAutomatedConnectedness <- sna::connectedness( gmAutomatedNetworkStatnet )\n",
    "paste( \"connectedness = \", gmAutomatedConnectedness, sep = \"\" )\n",
    "\n",
    "# graph-level transitivity\n",
    "gmAutomatedTransitivity <- sna::gtrans( gmAutomatedNetworkStatnet, mode = \"graph\" )\n",
    "paste( \"transitivity = \", gmAutomatedTransitivity, sep = \"\" )\n",
    "\n",
    "# graph-level density\n",
    "gmAutomatedDensity <- sna::gden( gmAutomatedNetworkStatnet, mode = \"graph\" )\n",
    "paste( \"density = \", gmAutomatedDensity, sep = \"\" )\n"
   ]
  },
  {
   "cell_type": "markdown",
   "metadata": {},
   "source": [
    "### `grp_month` (gm) - automated - create node attribute DataFrame\n",
    "\n",
    "- Back to [Table of Contents](#Table-of-Contents)\n",
    "\n",
    "If you want to just work with the traits of the nodes/vertexes, you can combine the attribute vectors into a data frame."
   ]
  },
  {
   "cell_type": "code",
   "execution_count": null,
   "metadata": {
    "scrolled": true
   },
   "outputs": [],
   "source": [
    "#==============================================================================#\n",
    "# output attributes to data frame\n",
    "#==============================================================================#\n",
    "\n",
    "# if you want to just work with the traits of the nodes/vertexes, you can\n",
    "#    combine the attribute vectors into a data frame.\n",
    "\n",
    "# first, output network object to see what attributes you have\n",
    "gmAutomatedNetworkStatnet\n",
    "\n",
    "# then, combine them into a data frame.\n",
    "gmAutomatedNodeAttrDF <- data.frame( id = gmAutomatedNetworkStatnet %v% \"vertex.names\",\n",
    "                                     person_id = gmAutomatedNetworkStatnet %v% \"person_id\",\n",
    "                                     person_type = gmAutomatedNetworkStatnet %v% \"person_type\",\n",
    "                                     degree = gmAutomatedNetworkStatnet %v% \"degree\",\n",
    "                                     betweenness = gmAutomatedNetworkStatnet %v% \"betweenness\" )\n"
   ]
  },
  {
   "cell_type": "markdown",
   "metadata": {},
   "source": [
    "## `grp_month` (gm) - human\n",
    "\n",
    "- Return to [Table of Contents](#Table-of-Contents)\n",
    "\n",
    "Next, we'll analyze the month of data coded by human coders.  Set up some variables to store where data is located:"
   ]
  },
  {
   "cell_type": "markdown",
   "metadata": {},
   "source": [
    "### `grp_month` (gm) - human - Read data\n",
    "\n",
    "- Return to [Table of Contents](#Table-of-Contents)\n",
    "\n",
    "Read in the data from tab-delimited data file, then get it in right data structures for use in R SNA."
   ]
  },
  {
   "cell_type": "code",
   "execution_count": null,
   "metadata": {},
   "outputs": [],
   "source": [
    "# initialize variables\n",
    "gmHumanDataFolder <- paste( data_directory, \"/network/grp_month\", sep = \"\" )\n",
    "gmHumanDataFile <- \"sourcenet_data-20171115-043102-grp_month-human.tab\"\n",
    "gmHumanDataPath <- paste( gmHumanDataFolder, \"/\", gmHumanDataFile, sep = \"\" )"
   ]
  },
  {
   "cell_type": "code",
   "execution_count": null,
   "metadata": {},
   "outputs": [],
   "source": [
    "gmHumanDataPath"
   ]
  },
  {
   "cell_type": "markdown",
   "metadata": {},
   "source": [
    "Load the data file into memory"
   ]
  },
  {
   "cell_type": "code",
   "execution_count": null,
   "metadata": {},
   "outputs": [],
   "source": [
    "# tab-delimited:\n",
    "gmHumanDataDF <- read.delim( gmHumanDataPath, header = TRUE, row.names = 1, check.names = FALSE )"
   ]
  },
  {
   "cell_type": "code",
   "execution_count": null,
   "metadata": {},
   "outputs": [],
   "source": [
    "# get count of rows...\n",
    "gmHumanRowCount <- nrow( gmHumanDataDF )\n",
    "paste( \"grp_month automated row count = \", gmHumanRowCount, sep = \"\" )\n",
    "\n",
    "# ...and columns\n",
    "gmHumanColumnCount <- ncol( gmHumanDataDF )\n",
    "paste( \"grp_month automated column count = \", gmHumanColumnCount, sep = \"\" )"
   ]
  },
  {
   "cell_type": "markdown",
   "metadata": {},
   "source": [
    "Get just the tie rows and columns for initializing network libraries."
   ]
  },
  {
   "cell_type": "code",
   "execution_count": null,
   "metadata": {},
   "outputs": [],
   "source": [
    "# the below syntax returns only as many columns as there are rows, so\n",
    "#     omitting any trait columns that lie in columns on the right side\n",
    "#     of the file.\n",
    "gmHumanNetworkDF <- gmHumanDataDF[ , 1 : gmHumanRowCount ]\n",
    "#str( gmHumanNetworkDF )"
   ]
  },
  {
   "cell_type": "code",
   "execution_count": null,
   "metadata": {},
   "outputs": [],
   "source": [
    "# convert to a matrix\n",
    "gmHumanNetworkMatrix <- as.matrix( gmHumanNetworkDF )\n",
    "# str( gmHumanNetworkMatrix )"
   ]
  },
  {
   "cell_type": "markdown",
   "metadata": {},
   "source": [
    "### `grp_month` (gm) - human - initialize statnet\n",
    "\n",
    "- Back to [Table of Contents](#Table-of-Contents)\n",
    "\n",
    "First, load the statnet package, then load the automated grp_month data into statnet object and assign attributes to nodes.\n",
    "\n",
    "Based on `sourcenet/R/sna/statnet/sna-statnet-init.r`."
   ]
  },
  {
   "cell_type": "code",
   "execution_count": null,
   "metadata": {},
   "outputs": [],
   "source": [
    "# make sure you've loaded the statnet library\n",
    "# install.packages( \"statnet\" )\n",
    "library( statnet )"
   ]
  },
  {
   "cell_type": "code",
   "execution_count": null,
   "metadata": {},
   "outputs": [],
   "source": [
    "# If you have a data frame of attributes (each attribute is a column, with\n",
    "#     attribute name the column name), you can associate those attributes\n",
    "#     when you create the network.\n",
    "# attribute help: http://www.inside-r.org/packages/cran/network/docs/loading.attributes\n",
    "\n",
    "# load attributes from a file:\n",
    "#tab_attribute_test1 <- read.delim( \"tab-test1-attribute_data.txt\", header = TRUE, row.names = 1, check.names = FALSE )\n",
    "\n",
    "# or create DataFrame by just grabbing the attribute columns\n",
    "#gmHumanNetworkAttributeDF <- gmHumanDataDF[ , 1169:1170 ]\n",
    "gmHumanNetworkAttributeDF <- gmHumanDataDF[ , 1168:1169 ]\n",
    "\n",
    "# convert matrix to statnet network object instance.\n",
    "gmHumanNetworkStatnet <- network( gmHumanNetworkMatrix, matrix.type = \"adjacency\", directed = FALSE, vertex.attr = gmHumanNetworkAttributeDF )\n",
    "\n",
    "# look at information now.\n",
    "gmHumanNetworkStatnet\n",
    "\n",
    "# Network attributes:\n",
    "#  vertices = 314\n",
    "#  directed = FALSE\n",
    "#  hyper = FALSE\n",
    "#  loops = FALSE\n",
    "#  multiple = FALSE\n",
    "#  bipartite = FALSE\n",
    "#  total edges= 309\n",
    "#    missing edges= 0\n",
    "#    non-missing edges= 309\n",
    "#\n",
    "# Vertex attribute names:\n",
    "#    person_type vertex.names\n",
    "#\n",
    "# No edge attributes\n"
   ]
  },
  {
   "cell_type": "code",
   "execution_count": null,
   "metadata": {},
   "outputs": [],
   "source": [
    "# human - include ties Greater than or equal to 0 (GE0)\n",
    "gmHumanMeanTieWeightGE0Vector <- apply( gmHumanNetworkMatrix, 1, calculateListMean )\n",
    "gmHumanDataDF$meanTieWeightGE0 <- gmHumanMeanTieWeightGE0Vector\n",
    "\n",
    "# human - include ties Greater than or equal to 1 (GE1)\n",
    "gmHumanMeanTieWeightGE1Vector <- apply( gmHumanNetworkMatrix, 1, calculateListMean, minValueToIncludeIN = 1 )\n",
    "gmHumanDataDF$meanTieWeightGE1 <- gmHumanMeanTieWeightGE1Vector\n",
    "\n",
    "# human - Max tie weight?\n",
    "gmHumanMaxTieWeightVector <- apply( gmHumanNetworkMatrix, 1, calculateListMax )\n",
    "gmHumanDataDF$maxTieWeight <- gmHumanMaxTieWeightVector\n"
   ]
  },
  {
   "cell_type": "markdown",
   "metadata": {},
   "source": [
    "### `grp_month` (gm) - human - Basic metrics\n",
    "\n",
    "- Back to [Table of Contents](#Table-of-Contents)"
   ]
  },
  {
   "cell_type": "code",
   "execution_count": null,
   "metadata": {},
   "outputs": [],
   "source": [
    "# assuming that our statnet network object is in reference test1_statnet.\n",
    "\n",
    "# Use the degree function in the sna package to create vector of degree values\n",
    "#    for each node.  Make sure to pass the gmode parameter to tell it that the\n",
    "#    graph is not directed (gmode = \"graph\", instead of \"digraph\").\n",
    "# Doc: http://www.inside-r.org/packages/cran/sna/docs/degree\n",
    "#degree_vector <- degree( test1_statnet, gmode = \"graph\" )\n",
    "\n",
    "# If you have other libraries loaded that also implement a degree function, you\n",
    "#    can also call this with package name:\n",
    "gmHumanDegreeVector <- sna::degree( gmHumanNetworkStatnet, gmode = \"graph\" )\n",
    "\n",
    "# output the vector\n",
    "gmHumanDegreeVector\n",
    "\n",
    "# want more info on the degree function?  You can get to it eventually through\n",
    "#    the following:\n",
    "#help( package = \"sna\" )\n",
    "#??sna::degree\n",
    "\n",
    "# what is the average (mean) degree?\n",
    "gmHumanAvgDegree <- mean( gmHumanDegreeVector )\n",
    "paste( \"average degree = \", gmHumanAvgDegree, sep = \"\" )\n",
    "\n",
    "# subset vector to get only those that are above mean\n",
    "gmHumanAboveMeanVector <- gmHumanDegreeVector[ gmHumanDegreeVector > gmHumanAvgDegree ]\n",
    "\n",
    "# Take the degree and associate it with each node as a node attribute.\n",
    "#    (%v% is a shortcut for the get.vertex.attribute command)\n",
    "gmHumanNetworkStatnet %v% \"degree\" <- gmHumanDegreeVector\n",
    "\n",
    "# also add degree vector to original data frame\n",
    "gmHumanDataDF$degree <- gmHumanDegreeVector\n"
   ]
  },
  {
   "cell_type": "code",
   "execution_count": null,
   "metadata": {},
   "outputs": [],
   "source": [
    "# average author degree (person types 2 and 4)\n",
    "gmHumanAverageAuthorDegree2And4 <- calcAuthorMeanDegree( dataFrameIN = gmHumanDataDF, includeBothIN = TRUE )\n",
    "paste( \"average author degree (2 and 4) = \", gmHumanAverageAuthorDegree2And4, sep = \"\" )\n",
    "\n",
    "# average author degree (person type 2 only)\n",
    "gmHumanAverageAuthorDegreeOnly2 <- calcAuthorMeanDegree( dataFrameIN = gmHumanDataDF, includeBothIN = FALSE )\n",
    "paste( \"average author degree (only 2) = \", gmHumanAverageAuthorDegreeOnly2, sep = \"\" )\n",
    "\n",
    "# average source degree (person types 3 and 4)\n",
    "gmHumanAverageSourceDegree3And4 <- calcSourceMeanDegree( dataFrameIN = gmHumanDataDF, includeBothIN = TRUE )\n",
    "paste( \"average source degree (3 and 4) = \", gmHumanAverageSourceDegree3And4, sep = \"\" )\n",
    "\n",
    "# average source degree (person type 3 only)\n",
    "gmHumanAverageSourceDegreeOnly3 <- calcSourceMeanDegree( dataFrameIN = gmHumanDataDF, includeBothIN = FALSE )\n",
    "paste( \"average source degree (only 3) = \", gmHumanAverageSourceDegreeOnly3, sep = \"\" )\n"
   ]
  },
  {
   "cell_type": "markdown",
   "metadata": {},
   "source": [
    "### `grp_month` (gm) - human - More metrics\n",
    "\n",
    "- Back to [Table of Contents](#Table-of-Contents)\n",
    "\n",
    "Now that we have the data in statnet object, run the code in the following for more in-depth information:\n",
    "\n",
    "* `sourcenet/R/sna/statnet/sna-statnet-network-stats.r`"
   ]
  },
  {
   "cell_type": "code",
   "execution_count": null,
   "metadata": {
    "scrolled": false
   },
   "outputs": [],
   "source": [
    "# Links:\n",
    "# - manual (PDF): http://cran.r-project.org/web/packages/sna/sna.pdf\n",
    "# - good notes: http://www.shizukalab.com/toolkits/sna/node-level-calculations\n",
    "\n",
    "# Also, be advised that statnet and igraph don't really play nice together.\n",
    "#    If you'll be using both, best idea is to have a workspace for each.\n",
    "\n",
    "#==============================================================================#\n",
    "# statnet\n",
    "#==============================================================================#\n",
    "\n",
    "# make sure you've loaded the statnet library (includes sna)\n",
    "# install.packages( \"statnet\" )\n",
    "#library( statnet )\n",
    "\n",
    "#==============================================================================#\n",
    "# NODE level\n",
    "#==============================================================================#\n",
    "\n",
    "# what is the standard deviation of the degrees?\n",
    "gmHumanDegreeSd <- sd( gmHumanDegreeVector )\n",
    "paste( \"degree SD = \", gmHumanDegreeSd, sep = \"\" )\n",
    "\n",
    "# what is the variance of the degrees?\n",
    "gmHumanDegreeVar <- var( gmHumanDegreeVector )\n",
    "paste( \"degree variance = \", gmHumanDegreeVar, sep = \"\" )\n",
    "\n",
    "# what is the max value among the degrees?\n",
    "gmHumanDegreeMax <- max( gmHumanDegreeVector )\n",
    "paste( \"degree max = \", gmHumanDegreeMax, sep = \"\" )\n",
    "\n",
    "# calculate and plot degree distributions\n",
    "gmHumanDegreeFrequenciesTable <- table( gmHumanDegreeVector )\n",
    "paste( \"degree frequencies = \", gmHumanDegreeFrequenciesTable, sep = \"\" )\n",
    "gmHumanDegreeFrequenciesTable\n",
    "\n",
    "# node-level undirected betweenness\n",
    "gmHumanBetweenness <- sna::betweenness( gmHumanNetworkStatnet, gmode = \"graph\", cmode = \"undirected\" )\n",
    "\n",
    "#paste( \"betweenness = \", gmHumanBetweenness, sep = \"\" )\n",
    "# associate with each node as a node attribute.\n",
    "#    (%v% is a shortcut for the get.vertex.attribute command)\n",
    "gmHumanNetworkStatnet %v% \"betweenness\" <- gmHumanBetweenness\n",
    "\n",
    "# also add degree vector to original data frame\n",
    "gmHumanDataDF$betweenness <- gmHumanBetweenness\n",
    "\n",
    "#==============================================================================#\n",
    "# NETWORK level\n",
    "#==============================================================================#\n",
    "\n",
    "# graph-level degree centrality\n",
    "gmHumanDegreeCentrality <- sna::centralization( gmHumanNetworkStatnet, sna::degree, mode = \"graph\" )\n",
    "paste( \"degree centrality = \", gmHumanDegreeCentrality, sep = \"\" )\n",
    "\n",
    "# graph-level betweenness centrality\n",
    "gmHumanBetweennessCentrality <- sna::centralization( gmHumanNetworkStatnet, sna::betweenness, mode = \"graph\", cmode = \"undirected\" )\n",
    "paste( \"betweenness centrality = \", gmHumanBetweennessCentrality, sep = \"\" )\n",
    "\n",
    "# graph-level connectedness\n",
    "gmHumanConnectedness <- sna::connectedness( gmHumanNetworkStatnet )\n",
    "paste( \"connectedness = \", gmHumanConnectedness, sep = \"\" )\n",
    "\n",
    "# graph-level transitivity\n",
    "gmHumanTransitivity <- sna::gtrans( gmHumanNetworkStatnet, mode = \"graph\" )\n",
    "paste( \"transitivity = \", gmHumanTransitivity, sep = \"\" )\n",
    "\n",
    "# graph-level density\n",
    "gmHumanDensity <- sna::gden( gmHumanNetworkStatnet, mode = \"graph\" )\n",
    "paste( \"density = \", gmHumanDensity, sep = \"\" )\n"
   ]
  },
  {
   "cell_type": "markdown",
   "metadata": {},
   "source": [
    "### `grp_month` (gm) - human - create node attribute DataFrame\n",
    "\n",
    "- Back to [Table of Contents](#Table-of-Contents)\n",
    "\n",
    "If you want to just work with the traits of the nodes/vertexes, you can combine the attribute vectors into a data frame."
   ]
  },
  {
   "cell_type": "code",
   "execution_count": null,
   "metadata": {
    "scrolled": true
   },
   "outputs": [],
   "source": [
    "#==============================================================================#\n",
    "# output attributes to data frame\n",
    "#==============================================================================#\n",
    "\n",
    "# if you want to just work with the traits of the nodes/vertexes, you can\n",
    "#    combine the attribute vectors into a data frame.\n",
    "\n",
    "# first, output network object to see what attributes you have\n",
    "gmHumanNetworkStatnet\n",
    "\n",
    "# then, combine them into a data frame.\n",
    "gmHumanNodeAttrDF <- data.frame( id = gmHumanNetworkStatnet %v% \"vertex.names\",\n",
    "                                 person_id = gmHumanNetworkStatnet %v% \"person_id\",\n",
    "                                 person_type = gmHumanNetworkStatnet %v% \"person_type\",\n",
    "                                 degree = gmHumanNetworkStatnet %v% \"degree\",\n",
    "                                 betweenness = gmHumanNetworkStatnet %v% \"betweenness\" )\n"
   ]
  },
  {
   "cell_type": "markdown",
   "metadata": {},
   "source": [
    "## `grp_month` QAP graph correlation between automated and ground truth\n",
    "\n",
    "- Back to [Table of Contents](#Table-of-Contents)\n",
    "\n",
    "Now, compare the automated and human-coded networks themselves using graph correlation in QAP.\n",
    "\n",
    "Based on: `sourcenet/R/sna/statnet/sna-qap.r`"
   ]
  },
  {
   "cell_type": "code",
   "execution_count": null,
   "metadata": {},
   "outputs": [],
   "source": [
    "# link to good doc on qaptest(){sna} function: http://www.inside-r.org/packages/cran/sna/docs/qaptest\n",
    "\n",
    "# First, need to load data - see (or just source() ) the file \"sna-load_data.r\".\n",
    "# source( \"sna-load_data.r\" )\n",
    "# does the following (among other things):\n",
    "# Start with loading in tab-delimited files.\n",
    "#humanNetworkData <- read.delim( \"human-sourcenet_data-20150504-002453.tab\", header = TRUE, row.names = 1, check.names = FALSE )\n",
    "#calaisNetworkData <- read.delim( \"puter-sourcenet_data-20150504-002507.tab\", header = TRUE, row.names = 1, check.names = FALSE )\n",
    "\n",
    "# remove the right-most column, which contains non-tie info on nodes.\n",
    "#humanNetworkTies <- humanNetworkData[ , -ncol( humanNetworkData ) ]\n",
    "#gmAutomatedNetworkDF <- calaisNetworkData[ , -ncol( calaisNetworkData )]\n",
    "\n",
    "# convert each to a matrix\n",
    "#gmHumanNetworkMatrix <- as.matrix( gmHumanNetworkTies )\n",
    "#gmAutomatedNetworkMatrix <- as.matrix( gmAutomatedNetworkDF )\n",
    "\n",
    "# imports\n",
    "# install.packages( \"sna\" )\n",
    "# install.packages( \"statnet\" )\n",
    "library( \"sna\" )\n",
    "\n",
    "# package up data for calling qaptest() - first make 3-dimensional array to hold\n",
    "#    our two matrices - this is known as a \"graph set\".\n",
    "graphSetArray <- array( dim = c( 2, ncol( gmHumanNetworkMatrix ), nrow( gmHumanNetworkMatrix ) ) )\n",
    "\n",
    "# then, place each matrix in one dimension of the array.\n",
    "graphSetArray[ 1, , ] <- gmHumanNetworkMatrix\n",
    "graphSetArray[ 2, , ] <- gmAutomatedNetworkMatrix\n",
    "\n",
    "# first, try a graph correlation\n",
    "graphCorrelation <- sna::gcor( gmHumanNetworkMatrix, gmAutomatedNetworkMatrix )\n",
    "paste( \"graph correlation = \", graphCorrelation, sep = \"\" )\n",
    "\n",
    "# try a qaptest...\n",
    "qapGcorResult <- sna::qaptest( graphSetArray, sna::gcor, g1 = 1, g2 = 2 )\n",
    "summary( qapGcorResult )\n",
    "plot( qapGcorResult )\n",
    "\n",
    "# graph covariance...\n",
    "graphCovariance <- sna::gcov( gmHumanNetworkMatrix, gmAutomatedNetworkMatrix )\n",
    "graphCovariance\n",
    "paste( \"graph covariance = \", graphCovariance, sep = \"\" )\n",
    "\n",
    "# try a qaptest...\n",
    "qapGcovResult <- sna::qaptest( graphSetArray, sna::gcov, g1 = 1, g2 = 2 )\n",
    "summary( qapGcovResult )\n",
    "plot( qapGcovResult )\n",
    "\n",
    "# Hamming Distance\n",
    "graphHammingDist <- sna::hdist( gmHumanNetworkMatrix, gmAutomatedNetworkMatrix )\n",
    "paste( \"graph hamming distance = \", graphHammingDist, sep = \"\" )\n",
    "\n",
    "# try a qaptest...\n",
    "qapHdistResult <- sna::qaptest( graphSetArray, sna::hdist, g1 = 1, g2 = 2 )\n",
    "summary( qapHdistResult )\n",
    "plot( qapHdistResult )\n",
    "\n",
    "# graph structural correlation?\n",
    "#graphStructCorrelation <- gscor( gmHumanNetworkMatrix, gmAutomatedNetworkMatrix )\n",
    "#graphStructCorrelation\n"
   ]
  },
  {
   "cell_type": "markdown",
   "metadata": {},
   "source": [
    "# Save workspace image\n",
    "\n",
    "- Back to [Table of Contents](#Table-of-Contents)\n",
    "\n",
    "Save all the information in the current image, in case we need/want it later."
   ]
  },
  {
   "cell_type": "code",
   "execution_count": null,
   "metadata": {},
   "outputs": [],
   "source": [
    "# help( save.image )\n",
    "save.image( file = workspace_file_name )"
   ]
  },
  {
   "cell_type": "markdown",
   "metadata": {},
   "source": [
    "# TODO\n",
    "\n",
    "- Back to [Table of Contents](#Table-of-Contents)\n",
    "\n",
    "DONE:\n",
    "\n",
    "- Not sure what the problem was, but it is fixed (might have been the first-name lookup bug - if only first name, and one and only one person with that first name in database, it used to match them, even though you don't know if last name matched).\n",
    "- human data for grp_month has one fewer vertex (1167) than automated (1168).  The missing person is row 355, user ID 781 (source_3), who is in automated, not in human.  QAP needs same-size matrices.\n",
    "\n",
    "    - 781 - Cook, Matthew ( Wayland Fire Department ) \n",
    "    - First, try to regenerate the data.\n",
    "    - Then, if it doesn't get better, look into the article(s) where 781 - Cook, Matthew ( Wayland Fire Department ) is mentioned."
   ]
  }
 ],
 "metadata": {
  "kernelspec": {
   "display_name": "R",
   "language": "R",
   "name": "ir"
  },
  "language_info": {
   "codemirror_mode": "r",
   "file_extension": ".r",
   "mimetype": "text/x-r-source",
   "name": "R",
   "pygments_lexer": "r",
   "version": "3.4.4"
  },
  "toc": {
   "nav_menu": {},
   "number_sections": true,
   "sideBar": true,
   "skip_h1_title": false,
   "title_cell": "Table of Contents",
   "title_sidebar": "Contents",
   "toc_cell": true,
   "toc_position": {
    "height": "717px",
    "left": "0px",
    "right": "1061px",
    "top": "111px",
    "width": "379px"
   },
   "toc_section_display": "block",
   "toc_window_display": true
  }
 },
 "nbformat": 4,
 "nbformat_minor": 2
}
