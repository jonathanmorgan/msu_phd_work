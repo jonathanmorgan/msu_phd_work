{
 "cells": [
  {
   "cell_type": "markdown",
   "metadata": {},
   "source": [
    "**R - grp_month - sna-author_info - week_2**\n",
    "\n",
    "_2017.12.09 - work log - prelim - R - week 2_\n",
    "\n",
    "From sourcenet_analysis --> `sna-author_info.r`"
   ]
  },
  {
   "cell_type": "markdown",
   "metadata": {
    "toc": true
   },
   "source": [
    "<h1>Table of Contents<span class=\"tocSkip\"></span></h1>\n",
    "<div class=\"toc\"><ul class=\"toc-item\"><li><span><a href=\"#Setup\" data-toc-modified-id=\"Setup-1\"><span class=\"toc-item-num\">1&nbsp;&nbsp;</span>Setup</a></span><ul class=\"toc-item\"><li><span><a href=\"#Setup----working-directories\" data-toc-modified-id=\"Setup----working-directories-1.1\"><span class=\"toc-item-num\">1.1&nbsp;&nbsp;</span>Setup -  working directories</a></span></li><li><span><a href=\"#Setup---load-workspace\" data-toc-modified-id=\"Setup---load-workspace-1.2\"><span class=\"toc-item-num\">1.2&nbsp;&nbsp;</span>Setup - load workspace</a></span></li><li><span><a href=\"#Setup---put-data-in-expected-variables\" data-toc-modified-id=\"Setup---put-data-in-expected-variables-1.3\"><span class=\"toc-item-num\">1.3&nbsp;&nbsp;</span>Setup - put data in expected variables</a></span></li></ul></li><li><span><a href=\"#Calculate-Author-Info.\" data-toc-modified-id=\"Calculate-Author-Info.-2\"><span class=\"toc-item-num\">2&nbsp;&nbsp;</span>Calculate Author Info.</a></span></li><li><span><a href=\"#Save-workspace-image\" data-toc-modified-id=\"Save-workspace-image-3\"><span class=\"toc-item-num\">3&nbsp;&nbsp;</span>Save workspace image</a></span></li></ul></div>"
   ]
  },
  {
   "cell_type": "markdown",
   "metadata": {},
   "source": [
    "# Setup\n",
    "\n",
    "- Back to [Table of Contents](#Table-of-Contents)"
   ]
  },
  {
   "cell_type": "markdown",
   "metadata": {},
   "source": [
    "## Setup -  working directories\n",
    "\n",
    "- Back to [Table of Contents](#Table-of-Contents)\n",
    "\n",
    "Store important directories and file names in variables:"
   ]
  },
  {
   "cell_type": "code",
   "execution_count": 1,
   "metadata": {
    "ExecuteTime": {
     "end_time": "2018-04-17T22:09:22.145166Z",
     "start_time": "2018-04-17T22:09:21.964Z"
    }
   },
   "outputs": [
    {
     "data": {
      "text/html": [
       "'/home/jonathanmorgan/work/sourcenet/django/research/work/msu_phd_work/methods/network_analysis/author_info'"
      ],
      "text/latex": [
       "'/home/jonathanmorgan/work/sourcenet/django/research/work/msu\\_phd\\_work/methods/network\\_analysis/author\\_info'"
      ],
      "text/markdown": [
       "'/home/jonathanmorgan/work/sourcenet/django/research/work/msu_phd_work/methods/network_analysis/author_info'"
      ],
      "text/plain": [
       "[1] \"/home/jonathanmorgan/work/sourcenet/django/research/work/msu_phd_work/methods/network_analysis/author_info\""
      ]
     },
     "metadata": {},
     "output_type": "display_data"
    }
   ],
   "source": [
    "getwd()"
   ]
  },
  {
   "cell_type": "code",
   "execution_count": 2,
   "metadata": {
    "ExecuteTime": {
     "end_time": "2018-04-17T22:09:22.773259Z",
     "start_time": "2018-04-17T22:09:22.768Z"
    }
   },
   "outputs": [],
   "source": [
    "# code files (in particular SNA function library, modest though it may be)\n",
    "code_directory <- \"/home/jonathanmorgan/work/sourcenet/django/research/sourcenet_analysis/R/sna\"\n",
    "sna_function_file_path <- paste( code_directory, \"/\", 'functions-sna.r', sep = \"\" )\n",
    "\n",
    "# home directory\n",
    "home_directory <- getwd()\n",
    "home_directory <- \"/home/jonathanmorgan/work/sourcenet/django/research/work/msu_phd_work/methods\"\n",
    "\n",
    "# data directories\n",
    "data_directory <- paste( home_directory, \"/data\", sep = \"\" )\n",
    "\n",
    "# first run (the month and week data were originally stored together in one save file):\n",
    "#workspace_file_name <- \"statnet-grp_month.RData\"\n",
    "# subsequent runs:\n",
    "workspace_file_name <- \"statnet-grp_month.RData\"\n",
    "workspace_file_path <- paste( data_directory, \"/\", workspace_file_name )"
   ]
  },
  {
   "cell_type": "code",
   "execution_count": 3,
   "metadata": {
    "ExecuteTime": {
     "end_time": "2018-04-17T22:09:23.459495Z",
     "start_time": "2018-04-17T22:09:23.488Z"
    }
   },
   "outputs": [
    {
     "data": {
      "text/html": [
       "'/home/jonathanmorgan/work/sourcenet/django/research/work/msu_phd_work/methods/data'"
      ],
      "text/latex": [
       "'/home/jonathanmorgan/work/sourcenet/django/research/work/msu\\_phd\\_work/methods/data'"
      ],
      "text/markdown": [
       "'/home/jonathanmorgan/work/sourcenet/django/research/work/msu_phd_work/methods/data'"
      ],
      "text/plain": [
       "[1] \"/home/jonathanmorgan/work/sourcenet/django/research/work/msu_phd_work/methods/data\""
      ]
     },
     "metadata": {},
     "output_type": "display_data"
    }
   ],
   "source": [
    "# set working directory to data directory for now.\n",
    "setwd( data_directory )\n",
    "getwd()"
   ]
  },
  {
   "cell_type": "markdown",
   "metadata": {},
   "source": [
    "## Setup - load workspace\n",
    "\n",
    "- Back to [Table of Contents](#Table-of-Contents)\n",
    "\n",
    "In the original file, it assumed you'd just source it after running other stuff.  Here, we have done that other stuff in another notebook, now we need to reload the workspace in which it was done:"
   ]
  },
  {
   "cell_type": "code",
   "execution_count": 4,
   "metadata": {
    "ExecuteTime": {
     "end_time": "2018-04-17T22:09:27.763813Z",
     "start_time": "2018-04-17T22:09:25.476Z"
    }
   },
   "outputs": [
    {
     "name": "stderr",
     "output_type": "stream",
     "text": [
      "Loading workspace : statnet-grp_month.RData\n"
     ]
    }
   ],
   "source": [
    "# assumes that you've already set working directory above to the\n",
    "#     working directory.\n",
    "setwd( data_directory )\n",
    "message( paste( \"Loading workspace : \", workspace_file_name, sep = \"\" ) )\n",
    "load( workspace_file_name )"
   ]
  },
  {
   "cell_type": "code",
   "execution_count": 5,
   "metadata": {
    "ExecuteTime": {
     "end_time": "2018-04-17T22:09:28.398782Z",
     "start_time": "2018-04-17T22:09:28.424Z"
    }
   },
   "outputs": [],
   "source": [
    "# output workspace\n",
    "output_workspace_file_name <- \"statnet-grp_week_2.RData\"\n",
    "output_workspace_file_path <- paste( data_directory, \"/\", output_workspace_file_name )"
   ]
  },
  {
   "cell_type": "markdown",
   "metadata": {},
   "source": [
    "## Setup - put data in expected variables\n",
    "\n",
    "- Back to [Table of Contents](#Table-of-Contents)\n",
    "\n",
    "Load original network data dataframes into humanNetworkDataDF and automatedNetworkDataDF."
   ]
  },
  {
   "cell_type": "code",
   "execution_count": 6,
   "metadata": {
    "ExecuteTime": {
     "end_time": "2018-04-17T22:09:30.527641Z",
     "start_time": "2018-04-17T22:09:30.502Z"
    }
   },
   "outputs": [],
   "source": [
    "# in statsnet files, orginal automated data was loaded into gmAutomatedDataDF\n",
    "automatedNetworkDataDF <- gw2AutomatedDataDF\n",
    "\n",
    "# original human data was loaded into gmHumanDataDF\n",
    "humanNetworkDataDF <- gw2HumanDataDF\n"
   ]
  },
  {
   "cell_type": "markdown",
   "metadata": {},
   "source": [
    "# Calculate Author Info.\n",
    "\n",
    "- Back to [Table of Contents](#Table-of-Contents)\n",
    "\n",
    "The original file on which this is based is: `sourcenet/R/sna/sna-author_info.r`:"
   ]
  },
  {
   "cell_type": "markdown",
   "metadata": {},
   "source": [
    "Notes:\n",
    "\n",
    "- `humanNetworkDataDF` is original data DataFrame (`gw1HumanDataDF`, etc.).\n",
    "- `automatedNetworkDataDF` is original data DataFrame (`gw1AutomatedDataDF`, etc.).\n"
   ]
  },
  {
   "cell_type": "code",
   "execution_count": 7,
   "metadata": {
    "ExecuteTime": {
     "end_time": "2018-04-17T22:09:34.220081Z",
     "start_time": "2018-04-17T22:09:33.736Z"
    }
   },
   "outputs": [
    {
     "data": {
      "text/plain": [
       "\n",
       "Call:\n",
       "lm(formula = sharedCount ~ sourceCount + articleCount, data = humanAuthorsDF)\n",
       "\n",
       "Coefficients:\n",
       " (Intercept)   sourceCount  articleCount  \n",
       "     -0.7941        0.7671       -1.1986  \n"
      ]
     },
     "metadata": {},
     "output_type": "display_data"
    },
    {
     "data": {
      "text/plain": [
       "\n",
       "Call:\n",
       "lm(formula = sharedCount ~ sourceCount + articleCount, data = automatedAuthorsDF)\n",
       "\n",
       "Coefficients:\n",
       " (Intercept)   sourceCount  articleCount  \n",
       "     -0.2416        0.5352       -0.7953  \n"
      ]
     },
     "metadata": {},
     "output_type": "display_data"
    }
   ],
   "source": [
    "# For this to work, you'll need to have run either of the following, including\n",
    "#    all of the prerequisite files listed in each file:\n",
    "#    - sourcenet/R/igraph/sna-igraph-network_stats.r\n",
    "#    - sourcenet/R/statnet/sna-statnet-network_stats.r\n",
    "# Also assumes that you haven't re-ordered the <type>NetworkData data frames.\n",
    "\n",
    "#==============================================================================#\n",
    "# information for all authors - source_type = 2 (reporter) or 4 (both source and reporter)\n",
    "#==============================================================================#\n",
    "\n",
    "# source_type = 2 (reporter) or 4 (both source and reporter)\n",
    "\n",
    "# human - all authors\n",
    "humanAuthorsNetworkData <- humanNetworkDataDF[ humanNetworkDataDF$person_type == 2 | humanNetworkDataDF$person_type == 4, ]\n",
    "humanAuthorsCount <- nrow( humanAuthorsNetworkData )\n",
    "humanAuthorsMeanDegree <- mean( humanAuthorsNetworkData$degree )\n",
    "humanAuthorsMaxDegree <- max( humanAuthorsNetworkData$degree )\n",
    "humanAuthorsMeanTieWeightGE0 <- mean( humanAuthorsNetworkData$meanTieWeightGE0 )\n",
    "humanAuthorsMeanTieWeightGE1 <- mean( humanAuthorsNetworkData$meanTieWeightGE1 )\n",
    "humanAuthorsMaxTieWeight <- max( humanAuthorsNetworkData$maxTieWeight )\n",
    "\n",
    "# automated - all authors\n",
    "automatedAuthorsNetworkData <- automatedNetworkDataDF[ automatedNetworkDataDF$person_type == 2 | automatedNetworkDataDF$person_type == 4, ]\n",
    "automatedAuthorsCount <- nrow( automatedAuthorsNetworkData )\n",
    "automatedAuthorsMeanDegree <- mean( automatedAuthorsNetworkData$degree )\n",
    "automatedAuthorsMaxDegree <- max( automatedAuthorsNetworkData$degree )\n",
    "automatedAuthorsMeanTieWeightGE0 <- mean( automatedAuthorsNetworkData$meanTieWeightGE0 )\n",
    "automatedAuthorsMeanTieWeightGE1 <- mean( automatedAuthorsNetworkData$meanTieWeightGE1 )\n",
    "automatedAuthorsMaxTieWeight <- max( automatedAuthorsNetworkData$maxTieWeight )\n",
    "\n",
    "#==============================================================================#\n",
    "# Generate information on individual reporters who have shared sources (subset\n",
    "#    of all authors).\n",
    "#==============================================================================#\n",
    "\n",
    "# human - subsetting based on position of authors who had shared sources.\n",
    "#humanAuthorsSharedNetworkData <- humanNetworkDataDF[ c( 3, 6, 9, 11, 12, 13, 14, 16, 21, 43, 44, 63, 169, 310 ), ]\n",
    "\n",
    "# subsetting based on person IDs.\n",
    "humanAuthorsSharedIDs <- c( 66, 69, 73, 74, 23, 591, 84, 302, 217, 29, 223, 161, 36, 425, 46, 937 )\n",
    "humanAuthorsSharedNetworkData <- humanNetworkDataDF[ humanNetworkDataDF$person_id %in% humanAuthorsSharedIDs , ]\n",
    "\n",
    "# human - make data\n",
    "humanAuthorsSharedCount <- nrow( humanAuthorsSharedNetworkData )\n",
    "humanAuthorsSharedMeanDegree <- mean( humanAuthorsSharedNetworkData$degree )\n",
    "humanAuthorsSharedMaxDegree <- max( humanAuthorsSharedNetworkData$degree )\n",
    "humanAuthorsSharedMeanTieWeightGE0 <- mean( humanAuthorsSharedNetworkData$meanTieWeightGE0 )\n",
    "humanAuthorsSharedMeanTieWeightGE1 <- mean( humanAuthorsSharedNetworkData$meanTieWeightGE1 )\n",
    "humanAuthorsSharedMaxTieWeight <- max( humanAuthorsSharedNetworkData$maxTieWeight )\n",
    "\n",
    "# automated - subsetting based on position of authors who had shared sources.\n",
    "#automatedAuthorsSharedNetworkData <- automatedNetworkDataDF[ c( 3, 6, 9, 11, 12, 13, 16, 21, 44, 63, 169, 310 ), ]\n",
    "\n",
    "# subsetting based on person IDs.\n",
    "automatedAuthorsSharedIDs <- c( 66, 69, 23, 591, 46, 223, 84, 161, 36, 425, 302 )\n",
    "automatedAuthorsSharedNetworkData <- automatedNetworkDataDF[ automatedNetworkDataDF$person_id %in% automatedAuthorsSharedIDs , ]\n",
    "\n",
    "# automated - make data\n",
    "automatedAuthorsSharedCount <- nrow( automatedAuthorsSharedNetworkData )\n",
    "automatedAuthorsSharedMeanDegree <- mean( automatedAuthorsSharedNetworkData$degree )\n",
    "automatedAuthorsSharedMaxDegree <- max( automatedAuthorsSharedNetworkData$degree )\n",
    "automatedAuthorsSharedMeanTieWeightGE0 <- mean( automatedAuthorsSharedNetworkData$meanTieWeightGE0 )\n",
    "automatedAuthorsSharedMeanTieWeightGE1 <- mean( automatedAuthorsSharedNetworkData$meanTieWeightGE1 )\n",
    "automatedAuthorsSharedMaxTieWeight <- max( automatedAuthorsSharedNetworkData$maxTieWeight )\n",
    "\n",
    "#==============================================================================#\n",
    "# Do some regression to see if article or source count predict source sharing.\n",
    "#==============================================================================#\n",
    "\n",
    "#------------------------------------------------------------------------------#\n",
    "# first, set up data frames (from results of running python script:\n",
    "#    sourcenet/examples/analysis/analysis-person_info.py)\n",
    "#------------------------------------------------------------------------------#\n",
    "\n",
    "# human coder (index 1), all authors.\n",
    "humanIdVector <- c( 66, 387, 69, 73, 74, 23, 332, 13, 591, 336, 3, 84, 302, 599, 217, 29, 30, 223, 161, 36, 425, 46, 178, 937, 505, 443, 460, 394, 377 )\n",
    "humanSourceCountsVector <- c( 17, 5, 23, 6, 16, 10, 3, 14, 23, 9, 6, 19, 15, 8, 11, 11, 10, 7, 16, 17, 5, 32, 13, 7, 4, 4, 0, 7, 2 )\n",
    "humanSharedCountsVector <- c( 12, 0, 6, 1, 1, 7, 0, 0, 1, 0, 0, 7, 2, 0, 1, 1, 0, 7, 9, 7, 2, 16, 0, 7, 0, 0, 0, 0, 0 )\n",
    "humanArticleCountsVector <- c( 4, 2, 9, 2, 8, 3, 1, 5, 6, 3, 4, 6, 6, 4, 6, 4, 3, 1, 5, 5, 2, 11, 6, 1, 1, 1, 1, 1, 2 )\n",
    "humanAuthorsDF <- data.frame( humanIdVector, humanSourceCountsVector, humanSharedCountsVector, humanArticleCountsVector )\n",
    "names( humanAuthorsDF ) <- c( \"authorID\", \"sourceCount\", \"sharedCount\", \"articleCount\" )\n",
    "\n",
    "# human coder, only authors with shared sources.\n",
    "humanSharedIdVector <- c( 66, 69, 73, 74, 23, 591, 84, 302, 217, 29, 223, 161, 36, 425, 46, 937 )\n",
    "humanSharedSourceCountsVector <- c( 17, 23, 6, 16, 10, 23, 19, 15, 11, 11, 7, 16, 17, 5, 32, 7 )\n",
    "humanSharedSharedCountsVector <- c( 12, 6, 1, 1, 7, 1, 7, 2, 1, 1, 7, 9, 7, 2, 16, 7 )\n",
    "humanSharedArticleCountsVector <- c( 4, 9, 2, 8, 3, 6, 6, 6, 6, 4, 1, 5, 5, 2, 11, 1 )\n",
    "humanSharedDF <- data.frame( humanSharedIdVector, humanSharedSourceCountsVector, humanSharedSharedCountsVector, humanSharedArticleCountsVector )\n",
    "names( humanSharedDF ) <- c( \"authorID\", \"sourceCount\", \"sharedCount\", \"articleCount\" )\n",
    "\n",
    "# computer coder, all authors.\n",
    "automatedIdVector <- c( 66, 387, 69, 73, 74, 23, 332, 13, 591, 336, 505, 3, 340, 46, 599, 217, 29, 30, 223, 84, 161, 36, 425, 566, 302, 178, 350, 758, 377, 443, 460, 394 )\n",
    "automatedSourceCountsVector <- c( 15, 5, 23, 6, 15, 10, 3, 14, 21, 9, 3, 5, 2, 23, 8, 10, 10, 9, 5, 17, 14, 14, 5, 1, 16, 12, 1, 1, 2, 4, 1, 6 )\n",
    "automatedSharedCountsVector <- c( 10, 0, 5, 0, 0, 6, 0, 0, 1, 0, 0, 0, 0, 7, 0, 0, 0, 0, 5, 6, 7, 5, 2, 0, 2, 0, 0, 0, 0, 0, 0, 0 )\n",
    "automatedArticleCountsVector <- c( 4, 2, 9, 2, 8, 3, 1, 5, 6, 3, 1, 4, 1, 10, 4, 6, 4, 3, 1, 6, 5, 5, 2, 1, 6, 6, 1, 1, 2, 1, 1, 1 )\n",
    "automatedAuthorsDF <- data.frame( automatedIdVector, automatedSourceCountsVector, automatedSharedCountsVector, automatedArticleCountsVector )\n",
    "names( automatedAuthorsDF ) <- c( \"authorID\", \"sourceCount\", \"sharedCount\", \"articleCount\" )\n",
    "\n",
    "# computer coder, only authors with shared sources.\n",
    "automatedSharedIdVector <- c( 66, 69, 23, 591, 46, 223, 84, 161, 36, 425, 302 )\n",
    "automatedSharedSourceCountsVector <- c( 15, 23, 10, 21, 23, 5, 17, 14, 14, 5, 16 )\n",
    "automatedSharedSharedCountsVector <- c( 10, 5, 6, 1, 7, 5, 6, 7, 5, 2, 2 )\n",
    "automatedSharedArticleCountsVector <- c( 4, 9, 3, 6, 10, 1, 6, 5, 5, 2, 6 )\n",
    "automatedSharedDF <- data.frame( automatedSharedIdVector, automatedSharedSourceCountsVector, automatedSharedSharedCountsVector, automatedSharedArticleCountsVector )\n",
    "names( automatedSharedDF ) <- c( \"authorID\", \"sourceCount\", \"sharedCount\", \"articleCount\" )\n",
    "\n",
    "#------------------------------------------------------------------------------#\n",
    "# regression\n",
    "#------------------------------------------------------------------------------#\n",
    "\n",
    "# all human-coded authors:\n",
    "humanLmResults <- lm( sharedCount ~ sourceCount + articleCount, data = humanAuthorsDF )\n",
    "humanLmResults\n",
    "\n",
    "# all computer-coded authors:\n",
    "automatedLmResults <- lm( sharedCount ~ sourceCount + articleCount, data = automatedAuthorsDF )\n",
    "automatedLmResults\n",
    "\n",
    "#------------------------------------------------------------------------------#\n",
    "# means of counts from python file\n",
    "#------------------------------------------------------------------------------#\n",
    "\n",
    "# Article Count\n",
    "humanAuthorsMeanArticleCount <- mean( humanAuthorsDF$articleCount )\n",
    "humanAuthorsSharedMeanArticleCount <- mean( humanSharedDF$articleCount )\n",
    "automatedAuthorsMeanArticleCount <- mean( automatedAuthorsDF$articleCount )\n",
    "automatedAuthorsSharedMeanArticleCount <- mean( automatedSharedDF$articleCount )\n",
    "\n",
    "# Source Count\n",
    "humanAuthorsMeanSourceCount <- mean( humanAuthorsDF$sourceCount )\n",
    "humanAuthorsSharedMeanSourceCount <- mean( humanSharedDF$sourceCount )\n",
    "automatedAuthorsMeanSourceCount <- mean( automatedAuthorsDF$sourceCount )\n",
    "automatedAuthorsSharedMeanSourceCount <- mean( automatedSharedDF$sourceCount )\n",
    "\n",
    "# Shared Count\n",
    "humanAuthorsMeanSharedCount <- mean( humanAuthorsDF$sharedCount )\n",
    "humanAuthorsSharedMeanSharedCount <- mean( humanSharedDF$sharedCount )\n",
    "automatedAuthorsMeanSharedCount <- mean( automatedAuthorsDF$sharedCount )\n",
    "automatedAuthorsSharedMeanSharedCount <- mean( automatedSharedDF$sharedCount )\n"
   ]
  },
  {
   "cell_type": "code",
   "execution_count": 8,
   "metadata": {
    "ExecuteTime": {
     "end_time": "2018-04-17T22:09:35.937657Z",
     "start_time": "2018-04-17T22:09:35.760Z"
    }
   },
   "outputs": [
    {
     "name": "stderr",
     "output_type": "stream",
     "text": [
      "====> HUMAN - all authors\n",
      "human author count = 32\n",
      "human author mean degree = 9.21875\n",
      "human author max degree = 26\n",
      "human author mean tie weight GE0 = 0.00816730934018852\n",
      "human author mean tie weight GE1 = 1.02327533577534\n",
      "human author max tie weight = 3\n",
      "human author mean article count = 3.89655172413793\n",
      "human author mean source count = 11.0344827586207\n",
      "human author mean shared count = 3\n",
      "\n",
      "\n",
      "====> HUMAN - authors with shared sources\n",
      "human shared count = 16\n",
      "human shared mean degree = 9.625\n",
      "human shared max degree = 19\n",
      "human shared mean tie weight GE0 = 0.00856898029134533\n",
      "human shared mean tie weight GE1 = 0.905257936507937\n",
      "human shared max tie weight = 3\n",
      "human shared mean article count = 4.9375\n",
      "human shared mean source count = 14.6875\n",
      "human shared mean shared count = 5.4375\n",
      "regression results:\n"
     ]
    },
    {
     "name": "stdout",
     "output_type": "stream",
     "text": [
      "\n",
      "Call:\n",
      "lm(formula = sharedCount ~ sourceCount + articleCount, data = humanAuthorsDF)\n",
      "\n",
      "Coefficients:\n",
      " (Intercept)   sourceCount  articleCount  \n",
      "     -0.7941        0.7671       -1.1986  \n",
      "\n"
     ]
    },
    {
     "name": "stderr",
     "output_type": "stream",
     "text": [
      "\n",
      "\n",
      "====> AUTOMATED - all authors\n",
      "automated author count = 32\n",
      "automated author mean degree = 9.125\n",
      "automated author max degree = 26\n",
      "automated author mean tie weight GE0 = 0.00803341902313625\n",
      "automated author mean tie weight GE1 = 1.01858060750524\n",
      "automated author max tie weight = 3\n",
      "automated author mean article count = 3.59375\n",
      "automated author mean source count = 9.0625\n",
      "automated author mean shared count = 1.75\n",
      "\n",
      "\n",
      "====> AUTOMATED - authors with shared sources\n",
      "automated shared count = 11\n",
      "automated shared mean degree = 8.36363636363636\n",
      "automated shared max degree = 20\n",
      "automated shared mean tie weight GE0 = 0.00724468333722832\n",
      "automated shared mean tie weight GE1 = 0.920454545454545\n",
      "automated shared max tie weight = 2\n",
      "automated shared mean article count = 5.18181818181818\n",
      "automated shared mean source count = 14.8181818181818\n",
      "automated shared mean shared count = 5.09090909090909\n",
      "regression results:\n"
     ]
    },
    {
     "name": "stdout",
     "output_type": "stream",
     "text": [
      "\n",
      "Call:\n",
      "lm(formula = sharedCount ~ sourceCount + articleCount, data = automatedAuthorsDF)\n",
      "\n",
      "Coefficients:\n",
      " (Intercept)   sourceCount  articleCount  \n",
      "     -0.2416        0.5352       -0.7953  \n",
      "\n"
     ]
    },
    {
     "name": "stderr",
     "output_type": "stream",
     "text": [
      "\n",
      "\n"
     ]
    }
   ],
   "source": [
    "#------------------------------------------------------------------------------#\n",
    "# output\n",
    "#------------------------------------------------------------------------------#\n",
    "\n",
    "message( \"====> HUMAN - all authors\" )\n",
    "message( paste( \"human author count = \", humanAuthorsCount, sep = \"\" ) )\n",
    "message( paste( \"human author mean degree = \", humanAuthorsMeanDegree, sep = \"\" ) )\n",
    "message( paste( \"human author max degree = \", humanAuthorsMaxDegree, sep = \"\" ) )\n",
    "message( paste( \"human author mean tie weight GE0 = \", humanAuthorsMeanTieWeightGE0, sep = \"\" ) )\n",
    "message( paste( \"human author mean tie weight GE1 = \", humanAuthorsMeanTieWeightGE1, sep = \"\" ) )\n",
    "message( paste( \"human author max tie weight = \", humanAuthorsMaxTieWeight, sep = \"\" ) )\n",
    "message( paste( \"human author mean article count = \", humanAuthorsMeanArticleCount, sep = \"\" ) )\n",
    "message( paste( \"human author mean source count = \", humanAuthorsMeanSourceCount, sep = \"\" ) )\n",
    "message( paste( \"human author mean shared count = \", humanAuthorsMeanSharedCount, sep = \"\" ) )\n",
    "message( \"\" )\n",
    "message( \"\" )\n",
    "\n",
    "message( \"====> HUMAN - authors with shared sources\" )\n",
    "message( paste( \"human shared count = \", humanAuthorsSharedCount, sep = \"\" ) )\n",
    "message( paste( \"human shared mean degree = \", humanAuthorsSharedMeanDegree, sep = \"\" ) )\n",
    "message( paste( \"human shared max degree = \", humanAuthorsSharedMaxDegree, sep = \"\" ) )\n",
    "message( paste( \"human shared mean tie weight GE0 = \", humanAuthorsSharedMeanTieWeightGE0, sep = \"\" ) )\n",
    "message( paste( \"human shared mean tie weight GE1 = \", humanAuthorsSharedMeanTieWeightGE1, sep = \"\" ) )\n",
    "message( paste( \"human shared max tie weight = \", humanAuthorsSharedMaxTieWeight, sep = \"\" ) )\n",
    "message( paste( \"human shared mean article count = \", humanAuthorsSharedMeanArticleCount, sep = \"\" ) )\n",
    "message( paste( \"human shared mean source count = \", humanAuthorsSharedMeanSourceCount, sep = \"\" ) )\n",
    "message( paste( \"human shared mean shared count = \", humanAuthorsSharedMeanSharedCount, sep = \"\" ) )\n",
    "message( \"regression results:\" )\n",
    "print( humanLmResults )\n",
    "message( \"\" )\n",
    "message( \"\" )\n",
    "\n",
    "message( \"====> AUTOMATED - all authors\" )\n",
    "message( paste( \"automated author count = \", automatedAuthorsCount, sep = \"\" ) )\n",
    "message( paste( \"automated author mean degree = \", automatedAuthorsMeanDegree, sep = \"\" ) )\n",
    "message( paste( \"automated author max degree = \", automatedAuthorsMaxDegree, sep = \"\" ) )\n",
    "message( paste( \"automated author mean tie weight GE0 = \", automatedAuthorsMeanTieWeightGE0, sep = \"\" ) )\n",
    "message( paste( \"automated author mean tie weight GE1 = \", automatedAuthorsMeanTieWeightGE1, sep = \"\" ) )\n",
    "message( paste( \"automated author max tie weight = \", automatedAuthorsMaxTieWeight, sep = \"\" ) )\n",
    "message( paste( \"automated author mean article count = \", automatedAuthorsMeanArticleCount, sep = \"\" ) )\n",
    "message( paste( \"automated author mean source count = \", automatedAuthorsMeanSourceCount, sep = \"\" ) )\n",
    "message( paste( \"automated author mean shared count = \", automatedAuthorsMeanSharedCount, sep = \"\" ) )\n",
    "message( \"\" )\n",
    "message( \"\" )\n",
    "\n",
    "message( \"====> AUTOMATED - authors with shared sources\" )\n",
    "message( paste( \"automated shared count = \", automatedAuthorsSharedCount, sep = \"\" ) )\n",
    "message( paste( \"automated shared mean degree = \", automatedAuthorsSharedMeanDegree, sep = \"\" ) )\n",
    "message( paste( \"automated shared max degree = \", automatedAuthorsSharedMaxDegree, sep = \"\" ) )\n",
    "message( paste( \"automated shared mean tie weight GE0 = \", automatedAuthorsSharedMeanTieWeightGE0, sep = \"\" ) )\n",
    "message( paste( \"automated shared mean tie weight GE1 = \", automatedAuthorsSharedMeanTieWeightGE1, sep = \"\" ) )\n",
    "message( paste( \"automated shared max tie weight = \", automatedAuthorsSharedMaxTieWeight, sep = \"\" ) )\n",
    "message( paste( \"automated shared mean article count = \", automatedAuthorsSharedMeanArticleCount, sep = \"\" ) )\n",
    "message( paste( \"automated shared mean source count = \", automatedAuthorsSharedMeanSourceCount, sep = \"\" ) )\n",
    "message( paste( \"automated shared mean shared count = \", automatedAuthorsSharedMeanSharedCount, sep = \"\" ) )\n",
    "message( \"regression results:\" )\n",
    "print( automatedLmResults )\n",
    "message( \"\" )\n",
    "message( \"\" )\n"
   ]
  },
  {
   "cell_type": "markdown",
   "metadata": {},
   "source": [
    "# Save workspace image\n",
    "\n",
    "- Back to [Table of Contents](#Table-of-Contents)\n",
    "\n",
    "Save all the information in the current image, in case we need/want it later."
   ]
  },
  {
   "cell_type": "code",
   "execution_count": 9,
   "metadata": {
    "ExecuteTime": {
     "end_time": "2018-04-17T22:09:39.125694Z",
     "start_time": "2018-04-17T22:09:37.734Z"
    }
   },
   "outputs": [
    {
     "name": "stderr",
     "output_type": "stream",
     "text": [
      "Output workspace to: statnet-grp_week_2.RData\n"
     ]
    }
   ],
   "source": [
    "# help( save.image )\n",
    "message( paste( \"Output workspace to: \", output_workspace_file_name, sep = \"\" ) )\n",
    "save.image( file = output_workspace_file_name )"
   ]
  }
 ],
 "metadata": {
  "kernelspec": {
   "display_name": "R",
   "language": "R",
   "name": "ir"
  },
  "language_info": {
   "codemirror_mode": "r",
   "file_extension": ".r",
   "mimetype": "text/x-r-source",
   "name": "R",
   "pygments_lexer": "r",
   "version": "3.4.4"
  },
  "toc": {
   "base_numbering": 1,
   "nav_menu": {},
   "number_sections": true,
   "sideBar": true,
   "skip_h1_title": false,
   "title_cell": "Table of Contents",
   "title_sidebar": "Contents",
   "toc_cell": true,
   "toc_position": {},
   "toc_section_display": "block",
   "toc_window_display": true
  }
 },
 "nbformat": 4,
 "nbformat_minor": 2
}
