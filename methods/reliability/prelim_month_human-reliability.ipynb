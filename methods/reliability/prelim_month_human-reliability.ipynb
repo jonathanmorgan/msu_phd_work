{
 "cells": [
  {
   "cell_type": "markdown",
   "metadata": {},
   "source": [
    "**prelim_month_human - reliability**\n",
    "\n",
    "- old \"title\": `2017.10.26 - work log - prelim_month_human - Reliability_Names reliability`\n",
    "- old file name: `2017.10.25-work_log-prelim_month_human-Reliability_Names_reliability.ipynb`\n",
    "\n",
    "Looks at measures of agreement of coding between corrected (coder 1 - ground truth) and uncorrected (coder 2) human coding."
   ]
  },
  {
   "cell_type": "markdown",
   "metadata": {
    "toc": "true"
   },
   "source": [
    "<h1>Table of Contents<span class=\"tocSkip\"></span></h1>\n",
    "<div class=\"toc\"><ul class=\"toc-item\"><li><span><a href=\"#Setup\" data-toc-modified-id=\"Setup-1\"><span class=\"toc-item-num\">1&nbsp;&nbsp;</span>Setup</a></span><ul class=\"toc-item\"><li><span><a href=\"#Setup---Imports\" data-toc-modified-id=\"Setup---Imports-1.1\"><span class=\"toc-item-num\">1.1&nbsp;&nbsp;</span>Setup - Imports</a></span></li><li><span><a href=\"#Setup---virtualenv-jupyter-kernel\" data-toc-modified-id=\"Setup---virtualenv-jupyter-kernel-1.2\"><span class=\"toc-item-num\">1.2&nbsp;&nbsp;</span>Setup - virtualenv jupyter kernel</a></span></li><li><span><a href=\"#Setup---Initialize-Django\" data-toc-modified-id=\"Setup---Initialize-Django-1.3\"><span class=\"toc-item-num\">1.3&nbsp;&nbsp;</span>Setup - Initialize Django</a></span></li><li><span><a href=\"#Setup-R\" data-toc-modified-id=\"Setup-R-1.4\"><span class=\"toc-item-num\">1.4&nbsp;&nbsp;</span>Setup R</a></span></li><li><span><a href=\"#Setup-database\" data-toc-modified-id=\"Setup-database-1.5\"><span class=\"toc-item-num\">1.5&nbsp;&nbsp;</span>Setup database</a></span></li></ul></li><li><span><a href=\"#Reliability-data-assessment---prelim_month_human\" data-toc-modified-id=\"Reliability-data-assessment---prelim_month_human-2\"><span class=\"toc-item-num\">2&nbsp;&nbsp;</span>Reliability data assessment - <code>prelim_month_human</code></a></span></li></ul></div>"
   ]
  },
  {
   "cell_type": "markdown",
   "metadata": {},
   "source": [
    "# Setup\n",
    "\n",
    "- Back to [Table of Contents](#Table-of-Contents)"
   ]
  },
  {
   "cell_type": "markdown",
   "metadata": {},
   "source": [
    "## Setup - Imports\n",
    "\n",
    "- Back to [Table of Contents](#Table-of-Contents)"
   ]
  },
  {
   "cell_type": "code",
   "execution_count": 1,
   "metadata": {
    "ExecuteTime": {
     "end_time": "2017-10-26T04:50:05.344517Z",
     "start_time": "2017-10-26T04:50:05.335899Z"
    }
   },
   "outputs": [
    {
     "name": "stdout",
     "output_type": "stream",
     "text": [
      "packages imported at 2017-10-26 00:50:05.338122\n"
     ]
    }
   ],
   "source": [
    "import datetime\n",
    "import six\n",
    "\n",
    "print( \"packages imported at \" + str( datetime.datetime.now() ) )"
   ]
  },
  {
   "cell_type": "markdown",
   "metadata": {},
   "source": [
    "## Setup - virtualenv jupyter kernel\n",
    "\n",
    "- Back to [Table of Contents](#Table-of-Contents)\n",
    "\n",
    "If you are using a virtualenv, make sure that you:\n",
    "\n",
    "- have installed your virtualenv as a kernel.\n",
    "- choose the kernel for your virtualenv as the kernel for your notebook (Kernel --> Change kernel).\n",
    "\n",
    "Since I use a virtualenv, need to get that activated somehow inside this notebook.  One option is to run `../dev/wsgi.py` in this notebook, to configure the python environment manually as if you had activated the `sourcenet` virtualenv.  To do this, you'd make a code cell that contains:\n",
    "\n",
    "    %run ../dev/wsgi.py\n",
    "    \n",
    "This is sketchy, however, because of the changes it makes to your Python environment within the context of whatever your current kernel is.  I'd worry about collisions with the actual Python 3 kernel.  Better, one can install their virtualenv as a separate kernel.  Steps:\n",
    "\n",
    "- activate your virtualenv:\n",
    "\n",
    "        workon sourcenet\n",
    "\n",
    "- in your virtualenv, install the package `ipykernel`.\n",
    "\n",
    "        pip install ipykernel\n",
    "\n",
    "- use the ipykernel python program to install the current environment as a kernel:\n",
    "\n",
    "        python -m ipykernel install --user --name <env_name> --display-name \"<display_name>\"\n",
    "        \n",
    "    `sourcenet` example:\n",
    "    \n",
    "        python -m ipykernel install --user --name sourcenet --display-name \"sourcenet (Python 3)\"\n",
    "        \n",
    "More details: [http://ipython.readthedocs.io/en/stable/install/kernel_install.html](http://ipython.readthedocs.io/en/stable/install/kernel_install.html)"
   ]
  },
  {
   "cell_type": "code",
   "execution_count": 2,
   "metadata": {
    "ExecuteTime": {
     "end_time": "2017-10-26T04:50:08.535541Z",
     "start_time": "2017-10-26T04:50:08.520793Z"
    }
   },
   "outputs": [
    {
     "data": {
      "text/plain": [
       "'/home/jonathanmorgan/work/django/research/work/msu_phd_work'"
      ]
     },
     "execution_count": 2,
     "metadata": {},
     "output_type": "execute_result"
    }
   ],
   "source": [
    "%pwd"
   ]
  },
  {
   "cell_type": "markdown",
   "metadata": {},
   "source": [
    "## Setup - Initialize Django\n",
    "\n",
    "- Back to [Table of Contents](#Table-of-Contents)\n",
    "\n",
    "First, initialize my dev django project, so I can run code in this notebook that references my django models and can talk to the database using my project's settings."
   ]
  },
  {
   "cell_type": "code",
   "execution_count": 3,
   "metadata": {
    "ExecuteTime": {
     "end_time": "2017-10-26T04:50:10.830348Z",
     "start_time": "2017-10-26T04:50:10.322149Z"
    }
   },
   "outputs": [
    {
     "name": "stdout",
     "output_type": "stream",
     "text": [
      "django initialized at 2017-10-26 04:50:10.826004\n"
     ]
    }
   ],
   "source": [
    "%run ../django_init.py"
   ]
  },
  {
   "cell_type": "markdown",
   "metadata": {},
   "source": [
    "## Setup R\n",
    "\n",
    "- Back to [Table of Contents](#Table-of-Contents)\n",
    "\n",
    "To allow Python to talk to R, at R prompt:\n",
    "\n",
    "    /* install packages */\n",
    "    install.packages( \"Rserve\" )\n",
    "    install.packages( \"irr\" )\n",
    "    \n",
    "    /* load Rserve */\n",
    "    library( Rserve )\n",
    "\n",
    "    /* start server */\n",
    "    Rserve( args=\"--no-save\" )\n"
   ]
  },
  {
   "cell_type": "markdown",
   "metadata": {},
   "source": [
    "## Setup database\n",
    "\n",
    "- Back to [Table of Contents](#Table-of-Contents)\n",
    "\n",
    "Also need to either pass database connection information to names analyzer below, or store database configuration in `Django_Config`:\n",
    "\n",
    "    # database connection information - 2 options...  Enter it here:\n",
    "    #my_analysis_instance.db_username = \"\"\n",
    "    #my_analysis_instance.db_password = \"\"\n",
    "    #my_analysis_instance.db_host = \"localhost\"\n",
    "    #my_analysis_instance.db_name = \"sourcenet\"\n",
    "\n",
    "    # Or set up the following properties in Django_Config, inside the django admins.\n",
    "    #     All have application of: \"sourcenet-db-admin\":\n",
    "    #     - db_username\n",
    "    #     - db_password\n",
    "    #     - db_host\n",
    "    #     - db_port\n",
    "    #     - db_name"
   ]
  },
  {
   "cell_type": "markdown",
   "metadata": {},
   "source": [
    "# Reliability data assessment - `prelim_month_human`\n",
    "\n",
    "- Back to [Table of Contents](#Table-of-Contents)\n",
    "\n",
    "Generate reliability analysis for label \"`prelim_month_human`\"."
   ]
  },
  {
   "cell_type": "code",
   "execution_count": 4,
   "metadata": {
    "ExecuteTime": {
     "end_time": "2017-10-26T04:51:19.525068Z",
     "start_time": "2017-10-26T04:51:10.533702Z"
    }
   },
   "outputs": [
    {
     "name": "stdout",
     "output_type": "stream",
     "text": [
      "==> current index = 1\n",
      "====> comparison index = 2\n",
      "====> current_column_name_suffix = _detected\n",
      "====> current_column_result_name = detect\n",
      "======> compare_column_name_1 = coder1_detected\n",
      "======> compare_column_name_2 = coder2_detected\n",
      "========> percentage_agreement = 0.986928104575\n",
      "========> R irr::kripp.alpha = -0.005482456140350811\n",
      "========> Potter's Pi = 0.97385620915\n",
      "====> current_column_name_suffix = _person_id\n",
      "====> current_column_result_name = lookup\n",
      "======> compare_column_name_1 = coder1_person_id\n",
      "======> compare_column_name_2 = coder2_person_id\n",
      "========> percentage_agreement = 0.986928104575\n",
      "========> R irr::kripp.alpha = 0.9864845279533468\n",
      "====> current_column_name_suffix = _person_type_int\n",
      "====> current_column_result_name = type\n",
      "======> compare_column_name_1 = coder1_person_type_int\n",
      "======> compare_column_name_2 = coder2_person_type_int\n",
      "========> percentage_agreement = 0.986928104575\n",
      "========> R irr::kripp.alpha = -0.005482456140350811\n",
      "========> Potter's Pi = 0.9825708061\n",
      "====> current_column_name_suffix = _first_quote_graf\n",
      "====> current_column_result_name = first_quote_graf\n",
      "======> compare_column_name_1 = coder1_first_quote_graf\n",
      "======> compare_column_name_2 = coder2_first_quote_graf\n",
      "========> percentage_agreement = 0.0\n",
      "========> R irr::kripp.alpha = 1.0\n",
      "====> current_column_name_suffix = _first_quote_index\n",
      "====> current_column_result_name = first_quote_index\n",
      "======> compare_column_name_1 = coder1_first_quote_index\n",
      "======> compare_column_name_2 = coder2_first_quote_index\n",
      "========> percentage_agreement = 0.0\n",
      "========> R irr::kripp.alpha = 1.0\n",
      "====> current_column_name_suffix = _organization_hash\n",
      "====> current_column_result_name = organization_hash\n",
      "======> compare_column_name_1 = coder1_organization_hash\n",
      "======> compare_column_name_2 = coder2_organization_hash\n"
     ]
    },
    {
     "name": "stderr",
     "output_type": "stream",
     "text": [
      "/home/jonathanmorgan/work/django/research/sourcenet_analysis/reliability/reliability_names_analyzer.py:442: SettingWithCopyWarning: \n",
      "A value is trying to be set on a copy of a slice from a DataFrame\n",
      "\n",
      "See the caveats in the documentation: http://pandas.pydata.org/pandas-docs/stable/indexing.html#indexing-view-versus-copy\n",
      "  compare_values_1[ compare_values_1.isnull() ] = \"-1\"\n",
      "/home/jonathanmorgan/.virtualenvs/sourcenet/lib/python3.5/site-packages/pandas/core/generic.py:5233: SettingWithCopyWarning: \n",
      "A value is trying to be set on a copy of a slice from a DataFrame\n",
      "\n",
      "See the caveats in the documentation: http://pandas.pydata.org/pandas-docs/stable/indexing.html#indexing-view-versus-copy\n",
      "  self._update_inplace(new_data)\n",
      "/home/jonathanmorgan/work/django/research/sourcenet_analysis/reliability/reliability_names_analyzer.py:698: SettingWithCopyWarning: \n",
      "A value is trying to be set on a copy of a slice from a DataFrame\n",
      "\n",
      "See the caveats in the documentation: http://pandas.pydata.org/pandas-docs/stable/indexing.html#indexing-view-versus-copy\n",
      "  column_name_prefix )\n",
      "/home/jonathanmorgan/work/django/research/sourcenet_analysis/reliability/reliability_names_analyzer.py:444: SettingWithCopyWarning: \n",
      "A value is trying to be set on a copy of a slice from a DataFrame\n",
      "\n",
      "See the caveats in the documentation: http://pandas.pydata.org/pandas-docs/stable/indexing.html#indexing-view-versus-copy\n",
      "  compare_values_2[ compare_values_2.isnull() ] = \"-1\"\n"
     ]
    },
    {
     "name": "stdout",
     "output_type": "stream",
     "text": [
      "========> percentage_agreement = 0.986928104575\n",
      "========> R irr::kripp.alpha = 0.7101922570450356\n",
      "====> current_column_name_suffix = _person_id\n",
      "====> current_column_result_name = lookup_non_zero\n",
      "======> compare_column_name_1 = coder1_person_id\n",
      "======> compare_column_name_2 = coder2_person_id\n",
      "========> percentage_agreement = 1.0\n",
      "========> R irr::kripp.alpha = 1.0\n",
      "====> current_column_name_suffix = _person_type_int\n",
      "====> current_column_result_name = type_non_zero\n",
      "======> compare_column_name_1 = coder1_person_type_int\n",
      "======> compare_column_name_2 = coder2_person_type_int\n",
      "========> percentage_agreement = 1.0\n",
      "========> R irr::kripp.alpha = 1.0\n",
      "========> Potter's Pi = 1.0\n",
      "====> current_column_name_suffix = _detected\n",
      "====> current_column_result_name = detect\n",
      "======> compare_column_name_1 = coder1_detected\n",
      "======> compare_column_name_2 = coder2_detected\n",
      "========> percentage_agreement = 0.945973496432\n",
      "========> R irr::kripp.alpha = -0.027501309586170697\n",
      "========> Potter's Pi = 0.891946992864\n",
      "====> current_column_name_suffix = _person_id\n",
      "====> current_column_result_name = lookup\n",
      "======> compare_column_name_1 = coder1_person_id\n",
      "======> compare_column_name_2 = coder2_person_id\n",
      "========> percentage_agreement = 0.945463812436\n",
      "========> R irr::kripp.alpha = 0.9453873170490539\n",
      "====> current_column_name_suffix = _person_type_int\n",
      "====> current_column_result_name = type\n",
      "======> compare_column_name_1 = coder1_person_type_int\n",
      "======> compare_column_name_2 = coder2_person_type_int\n",
      "========> percentage_agreement = 0.934760448522\n",
      "========> R irr::kripp.alpha = 0.8674336064509112\n",
      "========> Potter's Pi = 0.913013931363\n",
      "====> current_column_name_suffix = _first_quote_graf\n",
      "====> current_column_result_name = first_quote_graf\n",
      "======> compare_column_name_1 = coder1_first_quote_graf\n",
      "======> compare_column_name_2 = coder2_first_quote_graf\n",
      "========> percentage_agreement = 0.612130479103\n",
      "========> R irr::kripp.alpha = 1.0\n",
      "====> current_column_name_suffix = _first_quote_index\n",
      "====> current_column_result_name = first_quote_index\n",
      "======> compare_column_name_1 = coder1_first_quote_index\n",
      "======> compare_column_name_2 = coder2_first_quote_index\n",
      "========> percentage_agreement = 0.611620795107\n",
      "========> R irr::kripp.alpha = 0.999166703975839\n",
      "====> current_column_name_suffix = _organization_hash\n",
      "====> current_column_result_name = organization_hash\n",
      "======> compare_column_name_1 = coder1_organization_hash\n",
      "======> compare_column_name_2 = coder2_organization_hash\n",
      "========> percentage_agreement = 0.957696228338\n",
      "========> R irr::kripp.alpha = 0.9550945519033192\n",
      "====> current_column_name_suffix = _person_id\n",
      "====> current_column_result_name = lookup_non_zero\n",
      "======> compare_column_name_1 = coder1_person_id\n",
      "======> compare_column_name_2 = coder2_person_id\n",
      "========> percentage_agreement = 0.999461206897\n",
      "========> R irr::kripp.alpha = 0.999460812111982\n",
      "====> current_column_name_suffix = _person_type_int\n",
      "====> current_column_result_name = type_non_zero\n",
      "======> compare_column_name_1 = coder1_person_type_int\n",
      "======> compare_column_name_2 = coder2_person_type_int\n",
      "========> percentage_agreement = 0.988146551724\n",
      "========> R irr::kripp.alpha = 0.9740898998785137\n",
      "========> Potter's Pi = 0.982219827586\n",
      "==> current index = 2\n"
     ]
    }
   ],
   "source": [
    "# start to support python 3:\n",
    "from __future__ import unicode_literals\n",
    "from __future__ import division\n",
    "\n",
    "#==============================================================================#\n",
    "# ! imports\n",
    "#==============================================================================#\n",
    "\n",
    "# grouped by functional area, then alphabetical order by package, then\n",
    "#     alphabetical order by name of thing being imported.\n",
    "\n",
    "# sourcenet_analysis imports\n",
    "from sourcenet_analysis.reliability.reliability_names_analyzer import ReliabilityNamesAnalyzer\n",
    "\n",
    "#==============================================================================#\n",
    "# ! logic\n",
    "#==============================================================================#\n",
    "\n",
    "# declare variables\n",
    "my_analysis_instance = None\n",
    "label = \"\"\n",
    "indices_to_process = -1\n",
    "result_status = \"\"\n",
    "\n",
    "# make reliability instance\n",
    "my_analysis_instance = ReliabilityNamesAnalyzer()\n",
    "\n",
    "# database connection information - 2 options...  Enter it here:\n",
    "#my_analysis_instance.db_username = \"\"\n",
    "#my_analysis_instance.db_password = \"\"\n",
    "#my_analysis_instance.db_host = \"localhost\"\n",
    "#my_analysis_instance.db_name = \"sourcenet\"\n",
    "\n",
    "# Or set up the following properties in Django_Config, inside the django admins.\n",
    "#     All have application of: \"sourcenet-db-admin\":\n",
    "#     - db_username\n",
    "#     - db_password\n",
    "#     - db_host\n",
    "#     - db_port\n",
    "#     - db_name\n",
    "\n",
    "# run the analyze method\n",
    "label = \"prelim_month_human\"\n",
    "indices_to_process = 2\n",
    "result_status = my_analysis_instance.analyze_reliability_names( label, indices_to_process )\n"
   ]
  },
  {
   "cell_type": "code",
   "execution_count": 5,
   "metadata": {
    "ExecuteTime": {
     "end_time": "2017-10-26T04:52:11.210721Z",
     "start_time": "2017-10-26T04:52:11.207685Z"
    }
   },
   "outputs": [
    {
     "name": "stdout",
     "output_type": "stream",
     "text": [
      "result status: \n"
     ]
    }
   ],
   "source": [
    "print( \"result status: {status_string}\".format( status_string = result_status ) )"
   ]
  },
  {
   "cell_type": "markdown",
   "metadata": {},
   "source": [
    "- results are in `Dropbox/academia/MSU/program_stuff/prelim_paper/analysis/reliability/2016-data/prelim_month_human-reliability_results.pdf`."
   ]
  }
 ],
 "metadata": {
  "kernelspec": {
   "display_name": "sourcenet (Python 3)",
   "language": "python",
   "name": "sourcenet"
  },
  "language_info": {
   "codemirror_mode": {
    "name": "ipython",
    "version": 3
   },
   "file_extension": ".py",
   "mimetype": "text/x-python",
   "name": "python",
   "nbconvert_exporter": "python",
   "pygments_lexer": "ipython3",
   "version": "3.5.2"
  },
  "toc": {
   "base_numbering": 1,
   "nav_menu": {},
   "number_sections": true,
   "sideBar": true,
   "skip_h1_title": false,
   "title_cell": "Table of Contents",
   "title_sidebar": "Contents",
   "toc_cell": true,
   "toc_position": {},
   "toc_section_display": "block",
   "toc_window_display": true
  }
 },
 "nbformat": 4,
 "nbformat_minor": 1
}
