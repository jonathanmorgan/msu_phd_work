{
 "cells": [
  {
   "cell_type": "markdown",
   "metadata": {},
   "source": [
    "**2016.12.09 - work log - prelim_month - no single names**"
   ]
  },
  {
   "cell_type": "markdown",
   "metadata": {
    "toc": "true"
   },
   "source": [
    "<h1>Table of Contents<span class=\"tocSkip\"></span></h1>\n",
    "<div class=\"toc\"><ul class=\"toc-item\"><li><span><a href=\"#Table-of-Contents\" data-toc-modified-id=\"Table-of-Contents-1\"><span class=\"toc-item-num\">1&nbsp;&nbsp;</span>Table of Contents</a></span></li><li><span><a href=\"#Setup\" data-toc-modified-id=\"Setup-2\"><span class=\"toc-item-num\">2&nbsp;&nbsp;</span>Setup</a></span><ul class=\"toc-item\"><li><span><a href=\"#Setup---Imports\" data-toc-modified-id=\"Setup---Imports-2.1\"><span class=\"toc-item-num\">2.1&nbsp;&nbsp;</span>Setup - Imports</a></span></li><li><span><a href=\"#Setup---Initialize-Django\" data-toc-modified-id=\"Setup---Initialize-Django-2.2\"><span class=\"toc-item-num\">2.2&nbsp;&nbsp;</span>Setup - Initialize Django</a></span></li></ul></li><li><span><a href=\"#Data-cleanup\" data-toc-modified-id=\"Data-cleanup-3\"><span class=\"toc-item-num\">3&nbsp;&nbsp;</span>Data cleanup</a></span><ul class=\"toc-item\"><li><span><a href=\"#Remove-single-name-reliability-data\" data-toc-modified-id=\"Remove-single-name-reliability-data-3.1\"><span class=\"toc-item-num\">3.1&nbsp;&nbsp;</span>Remove single-name reliability data</a></span><ul class=\"toc-item\"><li><span><a href=\"#Single-name-data-assessment\" data-toc-modified-id=\"Single-name-data-assessment-3.1.1\"><span class=\"toc-item-num\">3.1.1&nbsp;&nbsp;</span>Single-name data assessment</a></span></li><li><span><a href=\"#Delete-single-name-data\" data-toc-modified-id=\"Delete-single-name-data-3.1.2\"><span class=\"toc-item-num\">3.1.2&nbsp;&nbsp;</span>Delete single-name data</a></span></li></ul></li></ul></li><li><span><a href=\"#Coding-to-look-into\" data-toc-modified-id=\"Coding-to-look-into-4\"><span class=\"toc-item-num\">4&nbsp;&nbsp;</span>Coding to look into</a></span><ul class=\"toc-item\"><li><span><a href=\"#Match-for-just-first-name?---TODO\" data-toc-modified-id=\"Match-for-just-first-name?---TODO-4.1\"><span class=\"toc-item-num\">4.1&nbsp;&nbsp;</span>Match for just first name? - TODO</a></span></li></ul></li><li><span><a href=\"#Debugging\" data-toc-modified-id=\"Debugging-5\"><span class=\"toc-item-num\">5&nbsp;&nbsp;</span>Debugging</a></span><ul class=\"toc-item\"><li><span><a href=\"#No-mentions-in-Article_Data-view-page?---FIXED\" data-toc-modified-id=\"No-mentions-in-Article_Data-view-page?---FIXED-5.1\"><span class=\"toc-item-num\">5.1&nbsp;&nbsp;</span>No mentions in Article_Data view page? - FIXED</a></span></li></ul></li></ul></div>"
   ]
  },
  {
   "cell_type": "markdown",
   "metadata": {},
   "source": [
    "# Setup\n",
    "\n",
    "- Back to [Table of Contents](#Table-of-Contents)"
   ]
  },
  {
   "cell_type": "markdown",
   "metadata": {},
   "source": [
    "## Setup - Imports\n",
    "\n",
    "- Back to [Table of Contents](#Table-of-Contents)"
   ]
  },
  {
   "cell_type": "code",
   "execution_count": 2,
   "metadata": {},
   "outputs": [
    {
     "name": "stdout",
     "output_type": "stream",
     "text": [
      "packages imported at 2016-12-10 16:09:59.139729\n"
     ]
    }
   ],
   "source": [
    "import datetime\n",
    "\n",
    "print( \"packages imported at \" + str( datetime.datetime.now() ) )"
   ]
  },
  {
   "cell_type": "code",
   "execution_count": 3,
   "metadata": {},
   "outputs": [
    {
     "data": {
      "text/plain": [
       "'/home/jonathanmorgan/work/django/research/work/msu_phd_work'"
      ]
     },
     "execution_count": 3,
     "metadata": {},
     "output_type": "execute_result"
    }
   ],
   "source": [
    "%pwd"
   ]
  },
  {
   "cell_type": "markdown",
   "metadata": {},
   "source": [
    "## Setup - Initialize Django\n",
    "\n",
    "- Back to [Table of Contents](#Table-of-Contents)\n",
    "\n",
    "First, initialize my dev django project, so I can run code in this notebook that references my django models and can talk to the database using my project's settings."
   ]
  },
  {
   "cell_type": "code",
   "execution_count": 4,
   "metadata": {},
   "outputs": [
    {
     "name": "stdout",
     "output_type": "stream",
     "text": [
      "django initialized at 2016-12-10 16:10:04.149805\n"
     ]
    }
   ],
   "source": [
    "%run django_init.py"
   ]
  },
  {
   "cell_type": "markdown",
   "metadata": {},
   "source": [
    "# Data cleanup \n",
    "\n",
    "- Back to [Table of Contents](#Table-of-Contents)"
   ]
  },
  {
   "cell_type": "markdown",
   "metadata": {
    "collapsed": true
   },
   "source": [
    "## Remove single-name reliability data\n",
    "\n",
    "- Back to [Table of Contents](#Table-of-Contents)\n",
    "\n",
    "Next, remove all reliability data that refers to a single name using the \"View reliability name information\" screen:\n",
    "\n",
    "- [https://research.local/research/sourcenet/analysis/reliability/names/disagreement/view](https://research.local/research/sourcenet/analysis/reliability/names/disagreement/view)\n",
    "\n",
    "To start, enter the following in fields there:\n",
    "\n",
    "- Label: - \"prelim_month\"\n",
    "- Coders to compare (1 through ==>): - 2\n",
    "- Reliability names filter type: - Select \"Lookup\"\n",
    "- [Lookup] - Person has first name, no other name parts. - CHECK the checkbox\n",
    "\n",
    "You should see lots of entries where coders detected people who were mentioned only by their first name."
   ]
  },
  {
   "cell_type": "markdown",
   "metadata": {},
   "source": [
    "### Single-name data assessment\n",
    "\n",
    "- Back to [Table of Contents](#Table-of-Contents)\n",
    "\n",
    "Need to look at each instance where a person has a single name part.\n",
    "\n",
    "Most are probably instances where the computer correctly detected the name part, but where you don't have enough name to match it to a person so the human coding protocol directed them to not capture the name fragment.\n",
    "\n",
    "However, there might be some where a coder made a mistake and just captured a name part for a person whose full name was in the story.  To check, click the \"Article ID\" in the column that has a link to article ID. It will take you to a view of the article where all the people who coded the article are included, with each detection of a mention or quotation displayed next to the paragraph where the person was originally first detected.\n",
    "\n",
    "So for each instance of a single name part:\n",
    "\n",
    "- click on the article ID link in the row to go to the article and check to see if there is person whose name the fragment is a part of ( [https://research.local/research/sourcenet/article/article_data/view_with_text/](https://research.local/research/sourcenet/article/article_data/view_with_text/) ).\n",
    "\n",
    "    - If there is a person with a full name to which the name fragment is a reference, check to see if the coder has data for the full person.\n",
    "    \n",
    "        - if not, merge:\n",
    "        \n",
    "            - go to the disagreement view page: [https://research.local/research/sourcenet/analysis/reliability/names/disagreement/view](https://research.local/research/sourcenet/analysis/reliability/names/disagreement/view)\n",
    "            - Configure:\n",
    "\n",
    "                - Label: - \"prelim_month\"\n",
    "                - Coders to compare (1 through ==>): - 2\n",
    "                - Reliability names filter type: - Select \"Lookup\"\n",
    "                - [Lookup] - Associated Article IDs (comma-delimited): - Enter the ID of the article the coding belonged to.\n",
    "                \n",
    "            - this will bring up all coding for the article whose ID you entered.\n",
    "            - In the \"select\" column, click the checkbox in the row where there is a single name part that needs to be merged.\n",
    "            - In the \"merge INTO\" column, click the checbox in the row with the full name for that person.\n",
    "            - In \"Reliability Names Action\", choose \"Merge Coding --> FROM 1 SELECTED / INTO 1\"\n",
    "            - Click \"Do Action\" button.\n",
    "            \n",
    "    - Remove the `Reliability_Names` row with the name fragment from reliability data."
   ]
  },
  {
   "cell_type": "markdown",
   "metadata": {},
   "source": [
    "### Delete single-name data\n",
    "\n",
    "- Back to [Table of Contents](#Table-of-Contents)\n",
    "\n",
    "To get rid of all matching in this list, click the checkbox in the \"select\" column next to each one you want to delete (sorry, no \"select all\" just yet), choose \"Delete selected\" from the \"Reliability names action:\" field at the top of the list, then click the \"Do action\" button.\n",
    "\n",
    "Reliability_Names records Removed:"
   ]
  },
  {
   "cell_type": "markdown",
   "metadata": {},
   "source": [
    "| ID | Article | Article_Data | Article_Subject |\n",
    "|------|------|------|------|\n",
    "| 8618 | Article [20739](https://research.local/research/sourcenet/article/article_data/view_with_text/?article_id=20739) | Article_Data [2980](https://research.local/research/sourcenet/article/article_data/view/?article_id=20739&article_data_id_select=2980) | 11006 (AS) - Christopher ( id = 2776; capture_method = OpenCalais_REST_API_v2 ) (mentioned; individual) ==> name: Christopher |\n",
    "\n",
    "\n",
    "| Article [<AID>](https://research.local/research/sourcenet/article/article_data/view_with_text/?article_id=<AID>) | Article_Data [<ADID>](https://research.local/research/sourcenet/article/article_data/view/?article_id=<AID>&article_data_id_select=<ADID>) | <str( Article_Subject )> |"
   ]
  },
  {
   "cell_type": "markdown",
   "metadata": {},
   "source": [
    "# Coding to look into\n",
    "\n",
    "- Back to [Table of Contents](#Table-of-Contents)\n",
    "\n",
    "Coding decisions to look at more closely:"
   ]
  },
  {
   "cell_type": "markdown",
   "metadata": {},
   "source": [
    "## Match for just first name? - TODO\n",
    "\n",
    "- Back to [Table of Contents](#Table-of-Contents)\n",
    "\n",
    "First name \"Kate\" was matched to \"Kate Gosselin\" but \"Gosselin\" is nowhere in the article.\n",
    "\n",
    "- Article Data 2980, article 20739 - 11003 (AS) - Gosselin, Kate ( id = 1608; capture_method = OpenCalais_REST_API_v2 ) (mentioned; individual) ==> name: Kate\n",
    "    \n",
    "    - Not sure where \"Gosselin\" came from - need to look into the lookup for \"Kate\".\n",
    "    - article 20739 - https://research.local/research/sourcenet/article/article_data/view_with_text/?article_id=20739\n",
    "    - article data 2980 - https://research.local/research/sourcenet/article/article_data/view/?article_id=20739&article_data_id_select=2980\n",
    "    \n"
   ]
  },
  {
   "cell_type": "code",
   "execution_count": 15,
   "metadata": {},
   "outputs": [
    {
     "name": "stdout",
     "output_type": "stream",
     "text": [
      "Found person for \"Kate\": 1608 - Gosselin, Kate ( Zondervan )\n",
      "match list is None or empty.\n"
     ]
    }
   ],
   "source": [
    "# imports\n",
    "from sourcenet.article_coding.manual_coding.manual_article_coder import ManualArticleCoder\n",
    "from sourcenet.models import Article_Subject\n",
    "\n",
    "# declare variables\n",
    "my_coder = None\n",
    "subject = None\n",
    "person_name = \"\"\n",
    "person_instance = None\n",
    "person_match_list = None\n",
    "\n",
    "# create ManualArticleCoder and Article_Subject instance\n",
    "my_coder = ManualArticleCoder()\n",
    "subject = Article_Subject()\n",
    "\n",
    "# set up look up of \"Kate\"\n",
    "person_name = \"Kate\"\n",
    "\n",
    "# lookup person - returns person and confidence score inside\n",
    "#    Article_Person descendent instance.\n",
    "subject = my_coder.lookup_person( subject, \n",
    "                                  person_name,\n",
    "                                  create_if_no_match_IN = False,\n",
    "                                  update_person_IN = False )\n",
    "\n",
    "# retrieve information from Article_Person\n",
    "person_instance = subject.person\n",
    "person_match_list = subject.person_match_list  # list of Person instances\n",
    "\n",
    "if ( person_instance is not None ):\n",
    "\n",
    "    # Found person for \"Kate\":\n",
    "    print( \"Found person for \\\"\" + str( person_name ) + \"\\\": \" + str( person_instance ) )\n",
    "    \n",
    "else:\n",
    "    \n",
    "    # no person instance found.\n",
    "    print( \"No person instance found for \\\"\" + str( person_name ) + \"\\\"\" )\n",
    "    \n",
    "#-- END check to see if person_instance --#\n",
    "\n",
    "if ( ( person_match_list is not None ) and ( len( person_match_list ) > 0 ) ):\n",
    "\n",
    "    print( \"match list:\" )\n",
    "    for match_person in person_match_list:\n",
    "        \n",
    "        # output each person for now.\n",
    "        print( \"- \" + str( match_person ) )\n",
    "        \n",
    "    #-- END loop over person_match_list --#\n",
    "\n",
    "else:\n",
    "    \n",
    "    print( \"match list is None or empty.\" )\n",
    "\n",
    "#-- END check to see if there is a match list."
   ]
  },
  {
   "cell_type": "markdown",
   "metadata": {},
   "source": [
    "Is there only one person with first name Kate?"
   ]
  },
  {
   "cell_type": "code",
   "execution_count": 17,
   "metadata": {},
   "outputs": [
    {
     "name": "stdout",
     "output_type": "stream",
     "text": [
      "Found 1 matches:\n",
      "- 1608 - Gosselin, Kate ( Zondervan )\n"
     ]
    }
   ],
   "source": [
    "# imports\n",
    "from sourcenet.models import Person\n",
    "\n",
    "# declare variables\n",
    "name_string = \"\"\n",
    "test_person_qs = None\n",
    "test_person = None\n",
    "test_person_count = -1\n",
    "\n",
    "# do a lookup, filtering on first name of \"Kate\".\n",
    "name_string = \"Kate\"\n",
    "test_person_qs = Person.objects.filter( first_name = name_string )\n",
    "\n",
    "# got anything at all?\n",
    "if ( test_person_qs is not None ):\n",
    "\n",
    "    # process results - count...\n",
    "    test_person_count = test_person_qs.count()\n",
    "    print( \"Found \" + str( test_person_count ) + \" matches:\" )\n",
    "\n",
    "    # ...and loop.\n",
    "    for test_person in test_person_qs:\n",
    "\n",
    "        # output person\n",
    "        print( \"- \" + str( test_person ) )\n",
    "        \n",
    "    #-- END loop over matching persons. --#\n",
    "    \n",
    "#-- END check to see if None --#"
   ]
  },
  {
   "cell_type": "markdown",
   "metadata": {},
   "source": [
    "So... If there is a single match in the database for a single name part (first name or last name), but the match contains more than just the first name, I don't want to call that a match unless there is some sort of associated ID that also matches."
   ]
  },
  {
   "cell_type": "markdown",
   "metadata": {},
   "source": [
    "# Debugging\n",
    "\n",
    "- Back to [Table of Contents](#Table-of-Contents)"
   ]
  },
  {
   "cell_type": "markdown",
   "metadata": {},
   "source": [
    "## No mentions in Article_Data view page? - FIXED\n",
    "\n",
    "- Back to [Table of Contents](#Table-of-Contents)\n",
    "\n",
    "For all subjects here:\n",
    "\n",
    "- https://research.local/research/sourcenet/article/article_data/view/?article_id=20739&article_data_id_select=2980)\n",
    "\n",
    "There are no mentions displayed, even though the counts next to each show there are mentions."
   ]
  },
  {
   "cell_type": "code",
   "execution_count": 4,
   "metadata": {},
   "outputs": [],
   "source": [
    "from sourcenet.models import Article_Data\n",
    "\n",
    "# lookup the article data in question.\n",
    "article_data = Article_Data.objects.get( pk = 2980 )\n",
    "\n",
    "# ha.  So, I had a misnamed variable - didn't need to do any more debugging than this."
   ]
  }
 ],
 "metadata": {
  "kernelspec": {
   "display_name": "Python 3",
   "language": "python",
   "name": "python3"
  },
  "language_info": {
   "codemirror_mode": {
    "name": "ipython",
    "version": 3
   },
   "file_extension": ".py",
   "mimetype": "text/x-python",
   "name": "python",
   "nbconvert_exporter": "python",
   "pygments_lexer": "ipython3",
   "version": "3.6.5"
  },
  "toc": {
   "base_numbering": 1,
   "nav_menu": {},
   "number_sections": true,
   "sideBar": true,
   "skip_h1_title": false,
   "title_cell": "Table of Contents",
   "title_sidebar": "Contents",
   "toc_cell": true,
   "toc_position": {},
   "toc_section_display": "block",
   "toc_window_display": true
  }
 },
 "nbformat": 4,
 "nbformat_minor": 1
}
