{
 "cells": [
  {
   "cell_type": "markdown",
   "metadata": {},
   "source": [
    "# 2016.12.04 - work log\n",
    "\n",
    "# Table of Contents\n",
    "\n",
    "- [Setup](#Setup)\n",
    "\n",
    "    - [Setup - Imports](#Setup---Imports)\n",
    "    - [Setup - virtualenv jupyter kernel](#Setup---virtualenv-jupyter-kernel)\n",
    "    - [Setup - Initialize Django](#Setup---Initialize-Django)\n",
    "\n",
    "- [Reliability data creation - `prelim_month`](#Reliability-data-creation---prelim_month)\n",
    "- [Database backup - `sourcenet-2016.12.04.pgsql.gz`](#Database-backup---sourcenet-2016.12.04.pgsql.gz)\n",
    "- [Data cleanup](#Data-cleanup)\n",
    "\n",
    "    - [Remove single name reliability data](#Remove-single-name-reliability-data)\n",
    "    \n",
    "        - [Single-name data assessment](#Single-name-data-assessment)\n",
    "        - [Delete selected single-name data](#Delete-selected-single-name-data)\n"
   ]
  },
  {
   "cell_type": "markdown",
   "metadata": {},
   "source": [
    "# Setup\n",
    "\n",
    "- Back to [Table of Contents](#Table-of-Contents)"
   ]
  },
  {
   "cell_type": "markdown",
   "metadata": {},
   "source": [
    "## Setup - Imports\n",
    "\n",
    "- Back to [Table of Contents](#Table-of-Contents)"
   ]
  },
  {
   "cell_type": "code",
   "execution_count": null,
   "metadata": {
    "collapsed": false
   },
   "outputs": [],
   "source": [
    "import datetime\n",
    "\n",
    "print( \"packages imported at \" + str( datetime.datetime.now() ) )"
   ]
  },
  {
   "cell_type": "markdown",
   "metadata": {},
   "source": [
    "## Setup - virtualenv jupyter kernel\n",
    "\n",
    "- Back to [Table of Contents](#Table-of-Contents)\n",
    "\n",
    "If you are using a virtualenv, make sure that you:\n",
    "\n",
    "- have installed your virtualenv as a kernel.\n",
    "- choose the kernel for your virtualenv as the kernel for your notebook (Kernel --> Change kernel).\n",
    "\n",
    "Since I use a virtualenv, need to get that activated somehow inside this notebook.  One option is to run `../dev/wsgi.py` in this notebook, to configure the python environment manually as if you had activated the `sourcenet` virtualenv.  To do this, you'd make a code cell that contains:\n",
    "\n",
    "    %run ../dev/wsgi.py\n",
    "    \n",
    "This is sketchy, however, because of the changes it makes to your Python environment within the context of whatever your current kernel is.  I'd worry about collisions with the actual Python 3 kernel.  Better, one can install their virtualenv as a separate kernel.  Steps:\n",
    "\n",
    "- activate your virtualenv:\n",
    "\n",
    "        workon sourcenet\n",
    "\n",
    "- in your virtualenv, install the package `ipykernel`.\n",
    "\n",
    "        pip install ipykernel\n",
    "\n",
    "- use the ipykernel python program to install the current environment as a kernel:\n",
    "\n",
    "        python -m ipykernel install --user --name <env_name> --display-name \"<display_name>\"\n",
    "        \n",
    "    `sourcenet` example:\n",
    "    \n",
    "        python -m ipykernel install --user --name sourcenet --display-name \"sourcenet (Python 3)\"\n",
    "        \n",
    "More details: [http://ipython.readthedocs.io/en/stable/install/kernel_install.html](http://ipython.readthedocs.io/en/stable/install/kernel_install.html)"
   ]
  },
  {
   "cell_type": "code",
   "execution_count": null,
   "metadata": {
    "collapsed": false
   },
   "outputs": [],
   "source": [
    "%pwd"
   ]
  },
  {
   "cell_type": "markdown",
   "metadata": {},
   "source": [
    "## Setup - Initialize Django\n",
    "\n",
    "- Back to [Table of Contents](#Table-of-Contents)\n",
    "\n",
    "First, initialize my dev django project, so I can run code in this notebook that references my django models and can talk to the database using my project's settings."
   ]
  },
  {
   "cell_type": "code",
   "execution_count": null,
   "metadata": {
    "collapsed": true
   },
   "outputs": [],
   "source": [
    "%run django_init.py"
   ]
  },
  {
   "cell_type": "markdown",
   "metadata": {},
   "source": [
    "# Reliability data creation - `prelim_month`\n",
    "\n",
    "- Back to [Table of Contents](#Table-of-Contents)\n",
    "\n",
    "Create the data."
   ]
  },
  {
   "cell_type": "code",
   "execution_count": null,
   "metadata": {
    "collapsed": false
   },
   "outputs": [],
   "source": [
    "from __future__ import unicode_literals\n",
    "\n",
    "# django imports\n",
    "from django.contrib.auth.models import User\n",
    "\n",
    "# sourcenet imports\n",
    "from sourcenet.shared.sourcenet_base import SourcenetBase\n",
    "\n",
    "# sourcenet_analysis imports\n",
    "from sourcenet_analysis.reliability.reliability_names_builder import ReliabilityNamesBuilder\n",
    "\n",
    "# declare variables\n",
    "my_reliability_instance = None\n",
    "tag_list = None\n",
    "label = \"\"\n",
    "\n",
    "# declare variables - user setup\n",
    "current_coder = None\n",
    "current_coder_id = -1\n",
    "current_index = -1\n",
    "current_priority = -1\n",
    "\n",
    "# declare variables - Article_Data filtering.\n",
    "coder_type = \"\"\n",
    "\n",
    "# make reliability instance\n",
    "my_reliability_instance = ReliabilityNamesBuilder()\n",
    "\n",
    "#===============================================================================\n",
    "# configure\n",
    "#===============================================================================\n",
    "\n",
    "# list of tags of articles we want to process.\n",
    "tag_list = [ \"grp_month\", ]\n",
    "\n",
    "# label to associate with results, for subsequent lookup.\n",
    "label = \"prelim_month\"\n",
    "\n",
    "# ! ====> map coders to indices\n",
    "\n",
    "# set it up so that...\n",
    "\n",
    "# ...the ground truth user has highest priority (4) for index 1...\n",
    "current_coder = SourcenetBase.get_ground_truth_coding_user()\n",
    "current_coder_id = current_coder.id\n",
    "current_index = 1\n",
    "current_priority = 4\n",
    "my_reliability_instance.add_coder_at_index( current_coder_id, current_index, priority_IN = current_priority )\n",
    "\n",
    "# ...coder ID 8 is priority 3 for index 1...\n",
    "current_coder_id = 8\n",
    "current_index = 1\n",
    "current_priority = 3\n",
    "my_reliability_instance.add_coder_at_index( current_coder_id, current_index, priority_IN = current_priority )\n",
    "\n",
    "# ...coder ID 9 is priority 2 for index 1...\n",
    "current_coder_id = 9\n",
    "current_index = 1\n",
    "current_priority = 2\n",
    "my_reliability_instance.add_coder_at_index( current_coder_id, current_index, priority_IN = current_priority )\n",
    "\n",
    "# ...coder ID 10 is priority 1 for index 1...\n",
    "current_coder_id = 10\n",
    "current_index = 1\n",
    "current_priority = 1\n",
    "my_reliability_instance.add_coder_at_index( current_coder_id, current_index, priority_IN = current_priority )\n",
    "\n",
    "# ...and automated coder (2) is index 2\n",
    "current_coder = SourcenetBase.get_automated_coding_user()\n",
    "current_coder_id = current_coder.id\n",
    "current_index = 2\n",
    "current_priority = 1\n",
    "my_reliability_instance.add_coder_at_index( current_coder_id, current_index, priority_IN = current_priority )\n",
    "\n",
    "# and only look at coding by those users.  And...\n",
    "\n",
    "# configure so that it limits to automated coder_type of OpenCalais_REST_API_v2.\n",
    "coder_type = \"OpenCalais_REST_API_v2\"\n",
    "#my_reliability_instance.limit_to_automated_coder_type = \"OpenCalais_REST_API_v2\"\n",
    "my_reliability_instance.automated_coder_type_include_list.append( coder_type )\n",
    "\n",
    "# output debug JSON to file\n",
    "#my_reliability_instance.debug_output_json_file_path = \"/home/jonathanmorgan/\" + label + \".json\"\n",
    "\n",
    "#===============================================================================\n",
    "# process\n",
    "#===============================================================================\n",
    "\n",
    "# process articles\n",
    "#my_reliability_instance.process_articles( tag_list )\n",
    "\n",
    "# output to database.\n",
    "#my_reliability_instance.output_reliability_data( label )\n",
    "\n",
    "print( \"reliability data created at \" + str( datetime.datetime.now() ) )"
   ]
  },
  {
   "cell_type": "markdown",
   "metadata": {},
   "source": [
    "# Database backup - `sourcenet-2016.12.04.pgsql.gz`\n",
    "\n",
    "- Back to [Table of Contents](#Table-of-Contents)\n",
    "\n",
    "First, making backup of database.\n",
    "\n",
    "- File name: `sourcenet-2016.12.04.pgsql.gz`\n",
    "- All articles in tag \"grp_month\" are coded by OpenCalais.\n",
    "- Reliability data generated with label \"prelim_month\", no cleanup done yet."
   ]
  },
  {
   "cell_type": "markdown",
   "metadata": {},
   "source": [
    "# Data cleanup\n",
    "\n",
    "- Back to [Table of Contents](#Table-of-Contents)"
   ]
  },
  {
   "cell_type": "markdown",
   "metadata": {
    "collapsed": true
   },
   "source": [
    "## Remove single-name reliability data\n",
    "\n",
    "- Back to [Table of Contents](#Table-of-Contents)\n",
    "\n",
    "Next, remove all reliability data that refers to a single name using the \"View reliability name information\" screen:\n",
    "\n",
    "- [https://data.jrn.cas.msu.edu/sourcenet-dev/sourcenet/analysis/reliability/names/disagreement/view](https://data.jrn.cas.msu.edu/sourcenet-dev/sourcenet/analysis/reliability/names/disagreement/view)\n",
    "\n",
    "To start, enter the following in fields there:\n",
    "\n",
    "- Label: - \"prelim_month\"\n",
    "- Coders to compare (1 through ==>): - 2\n",
    "- Reliability names filter type: - Select \"Lookup\"\n",
    "- [Lookup] - Person has first name, no other name parts. - CHECK the checkbox\n",
    "\n",
    "You should see lots of entries where the automated coder detected people who were mentioned only by their first name."
   ]
  },
  {
   "cell_type": "markdown",
   "metadata": {},
   "source": [
    "### Single-name data assessment\n",
    "\n",
    "- Back to [Table of Contents](#Table-of-Contents)\n",
    "\n",
    "See [2016.12.09-work_log.ipynb](2016.12.09-work_log.ipynb)"
   ]
  },
  {
   "cell_type": "markdown",
   "metadata": {},
   "source": [
    "### Delete selected single-name data\n",
    "\n",
    "- Back to [Table of Contents](#Table-of-Contents)\n",
    "\n",
    "See [2016.12.09-work_log.ipynb](2016.12.09-work_log.ipynb)"
   ]
  }
 ],
 "metadata": {
  "kernelspec": {
   "display_name": "sourcenet (python 3)",
   "language": "python",
   "name": "sourcenet"
  },
  "language_info": {
   "codemirror_mode": {
    "name": "ipython",
    "version": 3
   },
   "file_extension": ".py",
   "mimetype": "text/x-python",
   "name": "python",
   "nbconvert_exporter": "python",
   "pygments_lexer": "ipython3",
   "version": "3.5.2"
  }
 },
 "nbformat": 4,
 "nbformat_minor": 1
}
