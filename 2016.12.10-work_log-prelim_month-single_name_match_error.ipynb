{
 "cells": [
  {
   "cell_type": "markdown",
   "metadata": {},
   "source": [
    "**2016.12.10 - work log - prelim_month - single name match error**"
   ]
  },
  {
   "cell_type": "markdown",
   "metadata": {
    "toc": "true"
   },
   "source": [
    " # Table of Contents\n",
    "<div class=\"toc\" style=\"margin-top: 1em;\"><ul class=\"toc-item\" id=\"toc-level0\"><li><span><a href=\"https://research.local:8000/user/jonathanmorgan/notebooks/work/sourcenet/django/research/work/msu_phd_work/2016.12.10-work_log-prelim_month-single_name_match_error.ipynb#Setup\" data-toc-modified-id=\"Setup-1\"><span class=\"toc-item-num\">1&nbsp;&nbsp;</span>Setup</a></span><ul class=\"toc-item\"><li><span><a href=\"https://research.local:8000/user/jonathanmorgan/notebooks/work/sourcenet/django/research/work/msu_phd_work/2016.12.10-work_log-prelim_month-single_name_match_error.ipynb#Setup---Imports\" data-toc-modified-id=\"Setup---Imports-1.1\"><span class=\"toc-item-num\">1.1&nbsp;&nbsp;</span>Setup - Imports</a></span></li><li><span><a href=\"https://research.local:8000/user/jonathanmorgan/notebooks/work/sourcenet/django/research/work/msu_phd_work/2016.12.10-work_log-prelim_month-single_name_match_error.ipynb#Setup---Initialize-Django\" data-toc-modified-id=\"Setup---Initialize-Django-1.2\"><span class=\"toc-item-num\">1.2&nbsp;&nbsp;</span>Setup - Initialize Django</a></span></li></ul></li><li><span><a href=\"https://research.local:8000/user/jonathanmorgan/notebooks/work/sourcenet/django/research/work/msu_phd_work/2016.12.10-work_log-prelim_month-single_name_match_error.ipynb#Coding-to-look-into\" data-toc-modified-id=\"Coding-to-look-into-2\"><span class=\"toc-item-num\">2&nbsp;&nbsp;</span>Coding to look into</a></span><ul class=\"toc-item\"><li><span><a href=\"https://research.local:8000/user/jonathanmorgan/notebooks/work/sourcenet/django/research/work/msu_phd_work/2016.12.10-work_log-prelim_month-single_name_match_error.ipynb#Match-for-just-first-name?---DONE\" data-toc-modified-id=\"Match-for-just-first-name?---DONE-2.1\"><span class=\"toc-item-num\">2.1&nbsp;&nbsp;</span>Match for just first name? - DONE</a></span></li></ul></li></ul></div>"
   ]
  },
  {
   "cell_type": "markdown",
   "metadata": {},
   "source": [
    "# Setup\n",
    "\n",
    "- Back to [Table of Contents](#Table-of-Contents)"
   ]
  },
  {
   "cell_type": "markdown",
   "metadata": {},
   "source": [
    "## Setup - Imports\n",
    "\n",
    "- Back to [Table of Contents](#Table-of-Contents)"
   ]
  },
  {
   "cell_type": "code",
   "execution_count": 1,
   "metadata": {},
   "outputs": [
    {
     "name": "stdout",
     "output_type": "stream",
     "text": [
      "packages imported at 2016-12-11 21:49:53.417627\n"
     ]
    }
   ],
   "source": [
    "import datetime\n",
    "\n",
    "print( \"packages imported at \" + str( datetime.datetime.now() ) )"
   ]
  },
  {
   "cell_type": "code",
   "execution_count": 2,
   "metadata": {},
   "outputs": [
    {
     "data": {
      "text/plain": [
       "'/home/jonathanmorgan/work/sourcenet/django/dev/work/msu_phd_work'"
      ]
     },
     "execution_count": 2,
     "metadata": {},
     "output_type": "execute_result"
    }
   ],
   "source": [
    "%pwd"
   ]
  },
  {
   "cell_type": "markdown",
   "metadata": {},
   "source": [
    "## Setup - Initialize Django\n",
    "\n",
    "- Back to [Table of Contents](#Table-of-Contents)\n",
    "\n",
    "First, initialize my dev django project, so I can run code in this notebook that references my django models and can talk to the database using my project's settings."
   ]
  },
  {
   "cell_type": "code",
   "execution_count": 3,
   "metadata": {},
   "outputs": [
    {
     "name": "stdout",
     "output_type": "stream",
     "text": [
      "django initialized at 2016-12-11 21:49:58.222090\n"
     ]
    }
   ],
   "source": [
    "%run django_init.py"
   ]
  },
  {
   "cell_type": "markdown",
   "metadata": {},
   "source": [
    "# Coding to look into\n",
    "\n",
    "- Back to [Table of Contents](#Table-of-Contents)\n",
    "\n",
    "Coding decisions to look at more closely:"
   ]
  },
  {
   "cell_type": "markdown",
   "metadata": {},
   "source": [
    "## Match for just first name? - DONE\n",
    "\n",
    "- Back to [Table of Contents](#Table-of-Contents)\n",
    "\n",
    "First name \"Kate\" was matched to \"Kate Gosselin\" but \"Gosselin\" is nowhere in the article.\n",
    "\n",
    "- Article Data 2980, article 20739 - 11003 (AS) - Gosselin, Kate ( id = 1608; capture_method = OpenCalais_REST_API_v2 ) (mentioned; individual) ==> name: Kate\n",
    "    \n",
    "    - Not sure where \"Gosselin\" came from - need to look into the lookup for \"Kate\".\n",
    "    - article 20739 - https://data.jrn.cas.msu.edu/sourcenet-dev/sourcenet/article/article_data/view_with_text/?article_id=20739\n",
    "    - article data 2980 - https://data.jrn.cas.msu.edu/sourcenet-dev/sourcenet/article/article_data/view/?article_id=20739&article_data_id_select=2980\n",
    "    \n"
   ]
  },
  {
   "cell_type": "code",
   "execution_count": 4,
   "metadata": {},
   "outputs": [
    {
     "name": "stdout",
     "output_type": "stream",
     "text": [
      "No person instance found for \"Kate\"\n",
      "match list is None or empty.\n"
     ]
    }
   ],
   "source": [
    "# imports\n",
    "from sourcenet.article_coding.manual_coding.manual_article_coder import ManualArticleCoder\n",
    "from sourcenet.models import Article_Subject\n",
    "\n",
    "# declare variables\n",
    "my_coder = None\n",
    "subject = None\n",
    "person_name = \"\"\n",
    "person_instance = None\n",
    "person_match_list = None\n",
    "\n",
    "# create ManualArticleCoder and Article_Subject instance\n",
    "my_coder = ManualArticleCoder()\n",
    "subject = Article_Subject()\n",
    "\n",
    "# set up look up of \"Kate\"\n",
    "person_name = \"Kate\"\n",
    "\n",
    "# lookup person - returns person and confidence score inside\n",
    "#    Article_Person descendent instance.\n",
    "subject = my_coder.lookup_person( subject, \n",
    "                                  person_name,\n",
    "                                  create_if_no_match_IN = False,\n",
    "                                  update_person_IN = False )\n",
    "\n",
    "# retrieve information from Article_Person\n",
    "person_instance = subject.person\n",
    "person_match_list = subject.person_match_list  # list of Person instances\n",
    "\n",
    "if ( person_instance is not None ):\n",
    "\n",
    "    # Found person for \"Kate\":\n",
    "    print( \"Found person for \\\"\" + str( person_name ) + \"\\\": \" + str( person_instance ) )\n",
    "    \n",
    "else:\n",
    "    \n",
    "    # no person instance found.\n",
    "    print( \"No person instance found for \\\"\" + str( person_name ) + \"\\\"\" )\n",
    "    \n",
    "#-- END check to see if person_instance --#\n",
    "\n",
    "if ( ( person_match_list is not None ) and ( len( person_match_list ) > 0 ) ):\n",
    "\n",
    "    print( \"match list:\" )\n",
    "    for match_person in person_match_list:\n",
    "        \n",
    "        # output each person for now.\n",
    "        print( \"- \" + str( match_person ) )\n",
    "        \n",
    "    #-- END loop over person_match_list --#\n",
    "\n",
    "else:\n",
    "    \n",
    "    print( \"match list is None or empty.\" )\n",
    "\n",
    "#-- END check to see if there is a match list."
   ]
  },
  {
   "cell_type": "markdown",
   "metadata": {},
   "source": [
    "_Update - Well, it no longer returns anything for \"Kate\".  Need to run unit tests._\n",
    "\n",
    "For more precise detail, looked at the underlying way the lookup method finds a person for a name:"
   ]
  },
  {
   "cell_type": "code",
   "execution_count": 5,
   "metadata": {},
   "outputs": [
    {
     "name": "stdout",
     "output_type": "stream",
     "text": [
      "Person instance: 1608 - Gosselin, Kate ( Zondervan ); lookup_status: found\n",
      "Person instance strict lookup: None\n"
     ]
    }
   ],
   "source": [
    "# imports\n",
    "from sourcenet.models import Person\n",
    "\n",
    "# declare variables\n",
    "person_name = \"\"\n",
    "person_instance = None\n",
    "lookup_status = \"\"\n",
    "\n",
    "# lookup Person - this is the way it works down in Article_Coder.lookup_person().\n",
    "person_name = \"Kate\"\n",
    "person_instance = Person.get_person_for_name( person_name, create_if_no_match_IN = False )\n",
    "lookup_status = Person.get_person_lookup_status( person_instance )\n",
    "\n",
    "# what we got?\n",
    "print( \"Person instance: \" + str( person_instance ) + \"; lookup_status: \" + str( lookup_status ) )\n",
    "\n",
    "# String lookup?\n",
    "person_instance = Person.get_person_for_name( person_name,\n",
    "                                              create_if_no_match_IN = False,\n",
    "                                              do_strict_match_IN = True,\n",
    "                                              do_partial_match_IN = False )\n",
    "\n",
    "# what we got?\n",
    "print( \"Person instance strict lookup: \" + str( person_instance ) )\n",
    "\n"
   ]
  },
  {
   "cell_type": "markdown",
   "metadata": {},
   "source": [
    "Is there only one person with first name Kate?"
   ]
  },
  {
   "cell_type": "code",
   "execution_count": 6,
   "metadata": {},
   "outputs": [
    {
     "name": "stdout",
     "output_type": "stream",
     "text": [
      "Found 1 matches:\n",
      "- 1608 - Gosselin, Kate ( Zondervan )\n"
     ]
    }
   ],
   "source": [
    "# imports\n",
    "from sourcenet.models import Person\n",
    "\n",
    "# declare variables\n",
    "name_string = \"\"\n",
    "test_person_qs = None\n",
    "test_person = None\n",
    "test_person_count = -1\n",
    "\n",
    "# do a lookup, filtering on first name of \"Kate\".\n",
    "name_string = \"Kate\"\n",
    "test_person_qs = Person.objects.filter( first_name = name_string )\n",
    "\n",
    "# got anything at all?\n",
    "if ( test_person_qs is not None ):\n",
    "\n",
    "    # process results - count...\n",
    "    test_person_count = test_person_qs.count()\n",
    "    print( \"Found \" + str( test_person_count ) + \" matches:\" )\n",
    "\n",
    "    # ...and loop.\n",
    "    for test_person in test_person_qs:\n",
    "\n",
    "        # output person\n",
    "        print( \"- \" + str( test_person ) )\n",
    "        \n",
    "    #-- END loop over matching persons. --#\n",
    "    \n",
    "#-- END check to see if None --#"
   ]
  },
  {
   "cell_type": "markdown",
   "metadata": {},
   "source": [
    "So... If there is a single match in the database for a single name part (first name or last name), but the match contains more than just the first name, I don't want to call that a match unless there is some sort of associated ID that also matches.\n",
    "\n",
    "Make sure that single names are always considered the first name:"
   ]
  },
  {
   "cell_type": "code",
   "execution_count": 7,
   "metadata": {},
   "outputs": [
    {
     "name": "stdout",
     "output_type": "stream",
     "text": [
      "Person None, Smith:\n",
      "- first_name: Smith\n",
      "- middle_name: None\n",
      "- last_name: None\n",
      "- name_prefix: None\n",
      "- name_suffix: None\n",
      "- nickname: None\n",
      "- full_name_string: Smith\n",
      "- original_name_string: Smith\n",
      "Person None, Kevin:\n",
      "- first_name: Kevin\n",
      "- middle_name: None\n",
      "- last_name: None\n",
      "- name_prefix: None\n",
      "- name_suffix: None\n",
      "- nickname: None\n",
      "- full_name_string: Kevin\n",
      "- original_name_string: Kevin\n",
      "Person None, Huxtable:\n",
      "- first_name: Huxtable\n",
      "- middle_name: None\n",
      "- last_name: None\n",
      "- name_prefix: None\n",
      "- name_suffix: None\n",
      "- nickname: None\n",
      "- full_name_string: Huxtable\n",
      "- original_name_string: Huxtable\n",
      "Person None, Kate:\n",
      "- first_name: Kate\n",
      "- middle_name: None\n",
      "- last_name: None\n",
      "- name_prefix: None\n",
      "- name_suffix: None\n",
      "- nickname: None\n",
      "- full_name_string: Kate\n",
      "- original_name_string: Kate\n",
      "Person Williams, Von:\n",
      "- first_name: Von\n",
      "- middle_name: None\n",
      "- last_name: Williams\n",
      "- name_prefix: None\n",
      "- name_suffix: None\n",
      "- nickname: None\n",
      "- full_name_string: Von Williams\n",
      "- original_name_string: Von Williams\n"
     ]
    }
   ],
   "source": [
    "# functions\n",
    "def output_person_name_details( person_IN ):\n",
    "\n",
    "    if ( person_IN is not None ):\n",
    "\n",
    "        print( \"Person \" + str( person_IN ) + \":\" )\n",
    "        print( \"- first_name: \" + str( person_IN.first_name ) )\n",
    "        print( \"- middle_name: \" + str( person_IN.middle_name ) )\n",
    "        print( \"- last_name: \" + str( person_IN.last_name ) )\n",
    "        print( \"- name_prefix: \" + str( person_IN.name_prefix ) )\n",
    "        print( \"- name_suffix: \" + str( person_IN.name_suffix ) )\n",
    "        print( \"- nickname: \" + str( person_IN.nickname ) )\n",
    "        print( \"- full_name_string: \" + str( person_IN.full_name_string ) )\n",
    "        print( \"- original_name_string: \" + str( person_IN.original_name_string ) )\n",
    "    \n",
    "    else:\n",
    "        \n",
    "        print( \"Can't output details since nothing (None) passed in.\" )\n",
    "        \n",
    "    #-- END Check to see if Person is None --# \n",
    "    \n",
    "#-- END function output_person_name_details() --#\n",
    "    \n",
    "# imports\n",
    "from sourcenet.models import Person\n",
    "\n",
    "# declare variables\n",
    "person_instance = None\n",
    "name_string = \"\"\n",
    "parsed_name = None\n",
    "\n",
    "# see if HumanName consistently places single name in first name.\n",
    "person_instance = Person()\n",
    "name_string = \"Smith\"\n",
    "person_instance.set_name( name_string )\n",
    "output_person_name_details( person_instance )\n",
    "\n",
    "# see if HumanName consistently places single name in first name.\n",
    "person_instance = Person()\n",
    "name_string = \"Kevin\"\n",
    "person_instance.set_name( name_string )\n",
    "output_person_name_details( person_instance )\n",
    "\n",
    "# see if HumanName consistently places single name in first name.\n",
    "person_instance = Person()\n",
    "name_string = \"Huxtable\"\n",
    "person_instance.set_name( name_string )\n",
    "output_person_name_details( person_instance )\n",
    "\n",
    "# see if HumanName consistently places single name in first name.\n",
    "person_instance = Person()\n",
    "name_string = \"Kate\"\n",
    "person_instance.set_name( name_string )\n",
    "output_person_name_details( person_instance )\n",
    "\n",
    "# see if HumanName consistently places single name in first name.\n",
    "person_instance = Person()\n",
    "name_string = \"Von Williams\"\n",
    "person_instance.set_name( name_string )\n",
    "output_person_name_details( person_instance )"
   ]
  },
  {
   "cell_type": "markdown",
   "metadata": {},
   "source": [
    "Sure looks like single name part always goes into first name.  So, if I do a straight up lookup, and the original name parses out to only have a first name, and the result has more than a first name, then we call it not a match, store the match as an alternate.\n",
    "\n",
    "Test out the check to see if there is more than a first name."
   ]
  },
  {
   "cell_type": "code",
   "execution_count": null,
   "metadata": {},
   "outputs": [],
   "source": [
    "# imports\n",
    "from sourcenet.models import Person\n",
    "\n",
    "# declare variables\n",
    "person_name = \"\"\n",
    "person_instance = None\n",
    "is_just_first_name = False\n",
    "\n",
    "# is single name part?\n",
    "person_name = \"Kate\"\n",
    "is_just_first_name = Person.is_single_name_part( person_name )\n",
    "print( str( person_name ) + \" - \" + str( is_just_first_name ) )\n",
    "\n",
    "# is single name part?\n",
    "person_name = \"Kate Smith\"\n",
    "is_just_first_name = Person.is_single_name_part( person_name )\n",
    "print( str( person_name ) + \" - \" + str( is_just_first_name ) )\n",
    "\n",
    "# is single name part?\n",
    "person_name = \"Michael W. Smith\"\n",
    "is_just_first_name = Person.is_single_name_part( person_name )\n",
    "print( str( person_name ) + \" - \" + str( is_just_first_name ) )\n",
    "\n",
    "# is single name part?\n",
    "person_name = \"Michael  \"\n",
    "is_just_first_name = Person.is_single_name_part( person_name )\n",
    "print( str( person_name ) + \" - \" + str( is_just_first_name ) )\n",
    "\n",
    "# is single name part?\n",
    "person_name = \"Mr. Michael\"\n",
    "is_just_first_name = Person.is_single_name_part( person_name )\n",
    "print( str( person_name ) + \" - \" + str( is_just_first_name ) )"
   ]
  },
  {
   "cell_type": "markdown",
   "metadata": {},
   "source": [
    "Here is the fix I came up with (article_coder.py lines 1308 to 1365):"
   ]
  },
  {
   "cell_type": "code",
   "execution_count": null,
   "metadata": {
    "collapsed": true
   },
   "outputs": [],
   "source": [
    "# 1307...\n",
    "                    # check to see if the name passed in is a single name.\n",
    "                    is_single_name_part = Person.is_single_name_part( full_name_IN )\n",
    "                    if ( is_single_name_part == True ):\n",
    "\n",
    "                        # yes.  Do strict lookup with no partial match to see if\n",
    "                        #     this is an exact match.\n",
    "                        temp_person = Person.get_person_for_name( full_name_IN,\n",
    "                                                                  create_if_no_match_IN = False,\n",
    "                                                                  do_strict_match_IN = True,\n",
    "                                                                  do_partial_match_IN = False )\n",
    "                        temp_lookup_status = Person.get_person_lookup_status( temp_person )\n",
    "                        \n",
    "                        # exact match?\n",
    "                        if ( ( temp_person is None ) or ( person_instance.id != temp_person.id ) ):\n",
    "                        \n",
    "                            # we have a single word name, lookup and strict\n",
    "                            #     lookup result in different matches.\n",
    "                                                        \n",
    "                            # further verify by checking if just one match for\n",
    "                            #     the name passed in and first_name, ignoring\n",
    "                            #     other name fields.\n",
    "                            test_person_qs = Person.objects.filter( first_name__iexact = full_name_IN )\n",
    "                            test_person_count = test_person_qs.count()\n",
    "                            if ( test_person_count == 1 ):\n",
    "\n",
    "                                # This is a relatively rare scenario - a single\n",
    "                                #     name part matches to the only person in\n",
    "                                #     the database that contains that name part\n",
    "                                #     in their first name.  For our purposes,\n",
    "                                #     this is not a match.  Make a new person\n",
    "                                #     for the single name part, set match status\n",
    "                                #     to None.\n",
    "                                match_status = self.MATCH_STATUS_NONE\n",
    "                                person_instance = Person.create_person_for_name( full_name_IN )\n",
    "                                self.output_debug( \"In \" + me + \": name \" + str( full_name_IN ) + \" is first name of one person ( \" + str( person_instance ) + \" ) who has more name information.  This is not a reliable match, so creating new Person with just name passed in.\" )\n",
    "                                \n",
    "                            elif ( test_person_count > 1 ):\n",
    "                            \n",
    "                                # make list of IDs of multiple matches.\n",
    "                                multiple_list = []\n",
    "                                for test_person in test_person_qs:\n",
    "                                    \n",
    "                                    # add ID of each person to list.\n",
    "                                    multiple_list.append( test_person )\n",
    "                                    \n",
    "                                #-- END loop over multiple matches. --#\n",
    "                                \n",
    "                                self.output_debug( \"In \" + me + \": name \" + str( full_name_IN ) + \" is first name of more than one person ( \" + str( multiple_list ) + \" ) who just has that first name.  But we found an exact match.  This makes no sense.\" )\n",
    "                                \n",
    "                            else:\n",
    "                            \n",
    "                                self.output_debug( \"In \" + me + \": name \" + str( full_name_IN ) + \" is not first name of any person, and yet it was matched to person: \" + str( person_instance ) + \".  This makes no sense.\" )                                \n",
    "\n",
    "                            #-- END check to see if one person with same first name --#\n",
    "                                \n",
    "                        #-- END check to see if our match is an exact match --#\n",
    "                    \n",
    "                    #-- END check to see if single name part --#\n",
    "# ...1365"
   ]
  },
  {
   "cell_type": "markdown",
   "metadata": {},
   "source": [
    "Now, to run unit tests.  Command is:\n",
    "\n",
    "    python manage.py test sourcenet.tests\n",
    "    \n",
    "must be in Django project folder and have activated your virtualenv.\n",
    "\n",
    "Tests passed.  Plus little tests here.  We'll call that good for now, moving back to assessing each single-word name."
   ]
  }
 ],
 "metadata": {
  "kernelspec": {
   "display_name": "sourcenet (Python 3)",
   "language": "python",
   "name": "sourcenet"
  },
  "language_info": {
   "codemirror_mode": {
    "name": "ipython",
    "version": 3
   },
   "file_extension": ".py",
   "mimetype": "text/x-python",
   "name": "python",
   "nbconvert_exporter": "python",
   "pygments_lexer": "ipython3",
   "version": "3.5.2"
  },
  "toc": {
   "nav_menu": {},
   "number_sections": true,
   "sideBar": true,
   "skip_h1_title": false,
   "toc_cell": true,
   "toc_position": {},
   "toc_section_display": "block",
   "toc_window_display": true
  }
 },
 "nbformat": 4,
 "nbformat_minor": 1
}
