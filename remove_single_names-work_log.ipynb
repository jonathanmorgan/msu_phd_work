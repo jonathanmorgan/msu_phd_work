{
 "cells": [
  {
   "cell_type": "markdown",
   "metadata": {},
   "source": [
    "# remove single names - work log\n",
    "\n",
    "# Table of Contents\n",
    "\n",
    "- [Setup](#Setup)\n",
    "\n",
    "    - [Setup - Imports](#Setup---Imports)\n",
    "    - [Setup - Initialize Django](#Setup---Initialize-Django)\n",
    "\n",
    "- [Data cleanup](#Data-cleanup)\n",
    "\n",
    "    - [Remove single name reliability data](#Remove-single-name-reliability-data)\n",
    "    \n",
    "        - [Single-name data assessment](#Single-name-data-assessment)\n",
    "        - [Resolve single-name data](#Resolve-single-name-data)\n",
    "        \n",
    "            - [Single-name `Reliability_Names` records removed](#Single-name-Reliability_Names-records-removed)\n",
    "            - [`Reliability_Names` records merged](#Reliability_Names-records-merged)\n",
    "            - [Ground-truth coding fixed](#Ground-truth-coding-fixed)\n",
    "\n",
    "- [Tools](#Tools)\n",
    "\n",
    "    - [Tool - copy `Article_Data` to user `ground_truth`](#Tool---copy-Article_Data-to-user-ground_truth)\n",
    "    - [Tool - delete `Article_Data`](#Tool---delete-Article_Data)\n",
    "    - [Tool - rebuild `Reliability_Names` for an article](#Tool---rebuild-Reliability_Names-for-an-article)\n",
    "    \n",
    "        - [Delete existing `Reliability_Names` for article](#Delete-existing-Reliability_Names-for-article)\n",
    "        - [Make new `Reliability_Names`](#Make-new-Reliability_Names)\n",
    "\n",
    "- [Notes](#Notes)\n",
    "- [TODO](#TODO)\n",
    "- [Coding to look into](#Coding-to-look-into)\n",
    "- [Debugging](#Debugging)"
   ]
  },
  {
   "cell_type": "markdown",
   "metadata": {},
   "source": [
    "# Setup\n",
    "\n",
    "- Back to [Table of Contents](#Table-of-Contents)"
   ]
  },
  {
   "cell_type": "markdown",
   "metadata": {},
   "source": [
    "## Setup - Imports\n",
    "\n",
    "- Back to [Table of Contents](#Table-of-Contents)"
   ]
  },
  {
   "cell_type": "code",
   "execution_count": 1,
   "metadata": {},
   "outputs": [
    {
     "name": "stdout",
     "output_type": "stream",
     "text": [
      "packages imported at 2017-04-15 22:19:32.967081\n"
     ]
    }
   ],
   "source": [
    "import datetime\n",
    "\n",
    "print( \"packages imported at \" + str( datetime.datetime.now() ) )"
   ]
  },
  {
   "cell_type": "code",
   "execution_count": 2,
   "metadata": {},
   "outputs": [
    {
     "data": {
      "text/plain": [
       "'/home/jonathanmorgan/work/sourcenet/django/research/work/msu_phd_work'"
      ]
     },
     "execution_count": 2,
     "metadata": {},
     "output_type": "execute_result"
    }
   ],
   "source": [
    "%pwd"
   ]
  },
  {
   "cell_type": "markdown",
   "metadata": {},
   "source": [
    "## Setup - Initialize Django\n",
    "\n",
    "- Back to [Table of Contents](#Table-of-Contents)\n",
    "\n",
    "First, initialize my dev django project, so I can run code in this notebook that references my django models and can talk to the database using my project's settings.\n",
    "\n",
    "You need to have installed your virtualenv with django as a kernel, then select that kernel for this notebook."
   ]
  },
  {
   "cell_type": "code",
   "execution_count": 3,
   "metadata": {},
   "outputs": [
    {
     "name": "stdout",
     "output_type": "stream",
     "text": [
      "django initialized at 2017-04-16 02:19:36.258519\n"
     ]
    }
   ],
   "source": [
    "%run django_init.py"
   ]
  },
  {
   "cell_type": "markdown",
   "metadata": {},
   "source": [
    "Import any `sourcenet` or `sourcenet_analysis` models or classes."
   ]
  },
  {
   "cell_type": "code",
   "execution_count": 7,
   "metadata": {},
   "outputs": [
    {
     "name": "stdout",
     "output_type": "stream",
     "text": [
      "sourcenet and sourcenet_analysis packages imported at 2017-04-16 02:23:19.220652\n"
     ]
    }
   ],
   "source": [
    "# django imports\n",
    "from django.contrib.auth.models import User\n",
    "\n",
    "# sourcenet models.\n",
    "from sourcenet.models import Article_Data\n",
    "from sourcenet.shared.sourcenet_base import SourcenetBase\n",
    "from sourcenet.tests.models.test_Article_Data_model import Article_Data_Copy_Tester\n",
    "\n",
    "# sourcenet_analysis models.\n",
    "from sourcenet_analysis.models import Reliability_Names\n",
    "from sourcenet_analysis.reliability.reliability_names_builder import ReliabilityNamesBuilder\n",
    "\n",
    "print( \"sourcenet and sourcenet_analysis packages imported at \" + str( datetime.datetime.now() ) )"
   ]
  },
  {
   "cell_type": "markdown",
   "metadata": {},
   "source": [
    "# Data cleanup \n",
    "\n",
    "- Back to [Table of Contents](#Table-of-Contents)"
   ]
  },
  {
   "cell_type": "markdown",
   "metadata": {
    "collapsed": true
   },
   "source": [
    "## Remove single-name reliability data\n",
    "\n",
    "- Back to [Table of Contents](#Table-of-Contents)\n",
    "\n",
    "Next, remove all reliability data that refers to a single name using the \"View reliability name information\" screen:\n",
    "\n",
    "- [http://research.local/sourcenet/sourcenet/analysis/reliability/names/disagreement/view](http://research.local/sourcenet/sourcenet/analysis/reliability/names/disagreement/view)\n",
    "\n",
    "To start, enter the following in fields there:\n",
    "\n",
    "- Label: \"prelim_month\"\n",
    "- Coders to compare (1 through ==>): 2\n",
    "- Reliability names filter type: Select \"Lookup\"\n",
    "- [Lookup] - Person has first name, no other name parts.: CHECK the checkbox\n",
    "\n",
    "You should see lots of entries where coders detected people who were mentioned only by their first name."
   ]
  },
  {
   "cell_type": "markdown",
   "metadata": {},
   "source": [
    "### Single-name data assessment\n",
    "\n",
    "- Back to [Table of Contents](#Table-of-Contents)\n",
    "\n",
    "Need to look at each instance where a person has a single name part.\n",
    "\n",
    "Most are probably instances where the computer correctly detected the name part, but where you don't have enough name to match it to a person so the human coding protocol directed them to not capture the name fragment.\n",
    "\n",
    "However, there might be some where a coder made a mistake and just captured a name part for a person whose full name was in the story.  To check, click the \"Article ID\" in the column that has a link to article ID. It will take you to a view of the article where all the people who coded the article are included, with each detection of a mention or quotation displayed next to the paragraph where the person was originally first detected.\n",
    "\n",
    "So for each instance of a single name part:\n",
    "\n",
    "- click on the article ID link in the row to go to the article and check to see if there is person whose name the fragment is a part of ( [http://research.local/sourcenet/sourcenet/article/article_data/view_with_text/](http://research.local/sourcenet/sourcenet/article/article_data/view_with_text/) ).\n",
    "\n",
    "    - If there is a person with a full name to which the name fragment is a reference, check to see if the human coder has data for the full person.\n",
    "    \n",
    "        - if human coder has data for the full person, merge:\n",
    "\n",
    "            - go to the disagreement view page: [http://research.local/sourcenet/sourcenet/analysis/reliability/names/disagreement/view](http://research.local/sourcenet/sourcenet/analysis/reliability/names/disagreement/view)\n",
    "            - Configure:\n",
    "\n",
    "                - Label: - \"prelim_month\"\n",
    "                - Coders to compare (1 through ==>): - 2\n",
    "                - Reliability names filter type: - Select \"Lookup\"\n",
    "                - [Lookup] - Associated Article IDs (comma-delimited): - Enter the ID of the article the coding belonged to.\n",
    "\n",
    "            - this will bring up all coding for the article whose ID you entered.\n",
    "            - In the \"select\" column, click the checkbox in the row where there is a single name part that needs to be merged.\n",
    "            - In the \"merge INTO\" column, click the checbox in the row with the full name for that person.\n",
    "            - In \"Reliability Names Action\", choose \"Merge Coding --> FROM 1 SELECTED / INTO 1\"\n",
    "            - Click \"Do Action\" button.\n",
    "\n",
    "        - if human coder did not detect person or made some other kind of error:\n",
    "\n",
    "            - uset the [Tool - copy Article_Data to user ground_truth](#Tool---copy-Article_Data-to-user-ground_truth) to create a copy of the person's Article_Data and assign it to coder \"`ground_truth`\".\n",
    "            - if this is the first time you've used the \"`ground_truth`\" user, log into the django admin ( [http://research.local/sourcenet/admin/](http://research.local/sourcenet/admin/) ) and:\n",
    "\n",
    "                - set or reset the \"`ground_truth`\" user's password.\n",
    "                - give it \"staff status\".\n",
    "\n",
    "            - log in to the coding tool ( [http://research.local/sourcenet/sourcenet/article/code/](http://research.local/sourcenet/sourcenet/article/code/) ) as the \"`ground_truth`\" user and fix the coding for the article in question.\n",
    "            - save.\n",
    "            - rebuild Reliability_Names for just that article.\n",
    "            \n",
    "                - remove old Reliability_Names for that article ( [Delete existing `Reliability_Names`](#Delete-existing-Reliability_Names) ).  Make sure to specify both label and Article ID, so you don't delete more than you intend.\n",
    "                - re-run Reliability_Names creation for the article ( [Make new `Reliability_Names`](#Make-new-Reliability_Names) ).  Specify:\n",
    "                \n",
    "                    - Article ID list (just put the ID of the article you want to reprocess in the list).\n",
    "                    - label: make sure this is the same as the label of the rest of your Reliability_Names records (\"prelim_month\").\n",
    "                    - Tag list: If you want to make even more certain that you don't do something unexpected, also specify the article tags that make up your current data set, so if you accidentally specify the ID of an article not in your data set, it won't process.  Current tag is \"grp_month\".\n",
    "                    - Coders to assign to which index in the Reliability_Names record, and in what priority.  You can assign multiple coders to a given index, for example, when multiple coders coded subsets of a data set, and you want their combined coding to be used as \"coder 1\" or \"coder 2\", for example.  See the cell for an example.\n",
    "                    - Automated coder type: You can specify the particular automated coding type you want for automated coder, to filter out coding done by other automated methods.  See the cell for an example for \"OpenCalais v2\".\n",
    "                \n",
    "                - Then, you'll need to re-fix any other problems with the article.  They'll pop into the list of single-name records again, for example.\n",
    "\n",
    "            - if needed, clean up/merge the two Reliability_Names records for the person.\n",
    "\n",
    "    - Remove the `Reliability_Names` row with the name fragment from reliability data."
   ]
  },
  {
   "cell_type": "markdown",
   "metadata": {},
   "source": [
    "### Resolve single-name data\n",
    "\n",
    "- Back to [Table of Contents](#Table-of-Contents)\n",
    "\n",
    "To get rid of all matching in this list, click the checkbox in the \"select\" column next to each one you want to delete (sorry, no \"select all\" just yet), choose \"Delete selected\" from the \"Reliability names action:\" field at the top of the list, then click the \"Do action\" button."
   ]
  },
  {
   "cell_type": "markdown",
   "metadata": {},
   "source": [
    "#### Single-name `Reliability_Names` records removed\n",
    "\n",
    "- Back to [Table of Contents](#Table-of-Contents)\n",
    "\n",
    "Table of Reliability_Names records removed because of single names."
   ]
  },
  {
   "cell_type": "markdown",
   "metadata": {},
   "source": [
    "| ID | Article | Article_Data | Article_Subject |\n",
    "|------|------|------|------|\n",
    "| 8618 | Article [20739](http://research.local/sourcenet/sourcenet/article/article_data/view_with_text/?article_id=20739) | Article_Data [2980](http://research.local/sourcenet/sourcenet/article/article_data/view/?article_id=20739&article_data_id_select=2980) | 11006 (AS) - Christopher ( id = 2776; capture_method = OpenCalais_REST_API_v2 ) (mentioned; individual) ==> name: Christopher |\n",
    "| 8705 | Article [20843](http://research.local/sourcenet/sourcenet/article/article_data/view_with_text/?article_id=20843) | Article_Data [3000](http://research.local/sourcenet/sourcenet/article/article_data/view/?article_id=20843&article_data_id_select=3000) | 11102 (AS) - Brock ( id = 2798; capture_method = OpenCalais_REST_API_v2 ) (mentioned; individual) ==> name: Brock |\n",
    "| 9163 | Article [20912](http://research.local/sourcenet/sourcenet/article/article_data/view_with_text/?article_id=20912) | Article_Data [3015](http://research.local/sourcenet/sourcenet/article/article_data/view/?article_id=20912&article_data_id_select=3015) | 11147 (AS) - Slate ( id = 2801; capture_method = OpenCalais_REST_API_v2 ) (mentioned; individual) ==> name: Slate |\n",
    "| 9243 | Article [20936](http://research.local/sourcenet/sourcenet/article/article_data/view_with_text/?article_id=20936) | Article_Data [3002](http://research.local/sourcenet/sourcenet/article/article_data/view/?article_id=20936&article_data_id_select=3002) | 11110 (AS) - Christine ( id = 2800; capture_method = OpenCalais_REST_API_v2 ) (mentioned; individual) ==> name: Christine |\n",
    "| 9506 | Article [21049](http://research.local/sourcenet/sourcenet/article/article_data/view_with_text/?article_id=21049) | Article_Data [3034](http://research.local/sourcenet/sourcenet/article/article_data/view/?article_id=21049&article_data_id_select=3034) | 11232 (AS) - Reyes ( id = 2809; capture_method = OpenCalais_REST_API_v2 ) (quoted; individual) ==> name: Reyes |\n",
    "| 9584 | Article [21080](http://research.local/sourcenet/sourcenet/article/article_data/view_with_text/?article_id=21080) | Article_Data [3037](http://research.local/sourcenet/sourcenet/article/article_data/view/?article_id=21080&article_data_id_select=3037) | 11244 (AS) - Ben ( id = 2811; capture_method = OpenCalais_REST_API_v2 ) (mentioned; individual) ==> name: Ben |\n",
    "| 9594 | Article [21080](http://research.local/sourcenet/sourcenet/article/article_data/view_with_text/?article_id=21080) | Article_Data [3037](http://research.local/sourcenet/sourcenet/article/article_data/view/?article_id=21080&article_data_id_select=3037) | 11249 (AS) - Carman ( id = 2814; capture_method = OpenCalais_REST_API_v2 ) (mentioned; individual) ==> name: Carman |\n",
    "| 9583 | Article [21080](http://research.local/sourcenet/sourcenet/article/article_data/view_with_text/?article_id=21080) | Article_Data [3037](http://research.local/sourcenet/sourcenet/article/article_data/view/?article_id=21080&article_data_id_select=3037) | 11252 (AS) - Culter ( id = 2816; capture_method = OpenCalais_REST_API_v2 ) (quoted; individual) ==> name: Culter |\n",
    "| 9590 | Article [21080](http://research.local/sourcenet/sourcenet/article/article_data/view_with_text/?article_id=21080) | Article_Data [3037](http://research.local/sourcenet/sourcenet/article/article_data/view/?article_id=21080&article_data_id_select=3037) | 11243 (AS) - Emma ( id = 2810; capture_method = OpenCalais_REST_API_v2 ) (mentioned; individual) ==> name: Emma |\n",
    "| 9595 | Article [21080](http://research.local/sourcenet/sourcenet/article/article_data/view_with_text/?article_id=21080) | Article_Data [3037](http://research.local/sourcenet/sourcenet/article/article_data/view/?article_id=21080&article_data_id_select=3037) | 11250 (AS) - Isabel ( id = 2815; capture_method = OpenCalais_REST_API_v2 ) (mentioned; individual) ==> name: Isabel |\n",
    "| 9592 | Article [21080](http://research.local/sourcenet/sourcenet/article/article_data/view_with_text/?article_id=21080) | Article_Data [3037](http://research.local/sourcenet/sourcenet/article/article_data/view/?article_id=21080&article_data_id_select=3037) | 11245 (AS) - Tarina ( id = 2812; capture_method = OpenCalais_REST_API_v2 ) (mentioned; individual) ==> name: Tarina |\n",
    "| 9671 | Article [21109](http://research.local/sourcenet/sourcenet/article/article_data/view_with_text/?article_id=21109) | Article_Data [3045](http://research.local/sourcenet/sourcenet/article/article_data/view/?article_id=21109&article_data_id_select=3045) | 11289 (AS) - Pat ( id = 2818; capture_method = OpenCalais_REST_API_v2 ) (mentioned; individual) ==> name: Pat |\n",
    "| 9681 | Article [21112](http://research.local/sourcenet/sourcenet/article/article_data/view_with_text/?article_id=21112) | Article_Data [3038](http://research.local/sourcenet/sourcenet/article/article_data/view/?article_id=21112&article_data_id_select=3038) | 11255 (AS) - Obama ( id = 842; capture_method = OpenCalais_REST_API_v1 ) (mentioned; individual) ==> name: Obama |\n",
    "| 9687 | Article [21113](http://research.local/sourcenet/sourcenet/article/article_data/view_with_text/?article_id=21113) | Article_Data [3033](http://research.local/sourcenet/sourcenet/article/article_data/view/?article_id=21113&article_data_id_select=3033) | 11225 (AS) - Steve ( id = 2806; capture_method = OpenCalais_REST_API_v2 ) (mentioned; individual) ==> name: Steve |\n",
    "| 9688 | Article [21113](http://research.local/sourcenet/sourcenet/article/article_data/view_with_text/?article_id=21113) | Article_Data [3033](http://research.local/sourcenet/sourcenet/article/article_data/view/?article_id=21113&article_data_id_select=3033) | 11227 (AS) - Jay ( id = 2807; capture_method = OpenCalais_REST_API_v2 ) (quoted; individual) ==> name: Jay |\n",
    "| 9684 | Article [21113](http://research.local/sourcenet/sourcenet/article/article_data/view_with_text/?article_id=21113) | Article_Data [3033](http://research.local/sourcenet/sourcenet/article/article_data/view/?article_id=21113&article_data_id_select=3033) | 11228 (AS) - Jesse ( id = 2808; capture_method = OpenCalais_REST_API_v2 ) (mentioned; individual) ==> name: Jesse |\n",
    "| 9696 | Article [21117](http://research.local/sourcenet/sourcenet/article/article_data/view_with_text/?article_id=21117) | Article_Data [3049](http://research.local/sourcenet/sourcenet/article/article_data/view/?article_id=21117&article_data_id_select=3049) | 8511 (AS) - Mary ( id = 1912; capture_method = None ) (mentioned; individual) ==> name: Mary |\n",
    "| 9707 | Article [21121](http://research.local/sourcenet/sourcenet/article/article_data/view_with_text/?article_id=21121) | Article_Data [3048](http://research.local/sourcenet/sourcenet/article/article_data/view/?article_id=21121&article_data_id_select=3048) | 11306 (AS) - Jesus ( id = 1451; capture_method = OpenCalais_REST_API_v2 ) (mentioned; individual) ==> name: Jesus |\n",
    "| 9584 | Article [21080](http://research.local/sourcenet/sourcenet/article/article_data/view_with_text/?article_id=21080) | Article_Data [3037](http://research.local/sourcenet/sourcenet/article/article_data/view/?article_id=21080&article_data_id_select=3037) | 11244 (AS) - Ben ( id = 2811; capture_method = OpenCalais_REST_API_v2 ) (mentioned; individual) ==> name: Ben |\n",
    "| 9594 | Article [21080](http://research.local/sourcenet/sourcenet/article/article_data/view_with_text/?article_id=21080) | Article_Data [3037](http://research.local/sourcenet/sourcenet/article/article_data/view/?article_id=21080&article_data_id_select=3037) | 11249 (AS) - Carman ( id = 2814; capture_method = OpenCalais_REST_API_v2 ) (mentioned; individual) ==> name: Carman |\n",
    "| 9583 | Article [21080](http://research.local/sourcenet/sourcenet/article/article_data/view_with_text/?article_id=21080) | Article_Data [3037](http://research.local/sourcenet/sourcenet/article/article_data/view/?article_id=21080&article_data_id_select=3037) | 11252 (AS) - Culter ( id = 2816; capture_method = OpenCalais_REST_API_v2 ) (quoted; individual) ==> name: Culter |\n",
    "| 9590 | Article [21080](http://research.local/sourcenet/sourcenet/article/article_data/view_with_text/?article_id=21080) | Article_Data [3037](http://research.local/sourcenet/sourcenet/article/article_data/view/?article_id=21080&article_data_id_select=3037) | 11243 (AS) - Emma ( id = 2810; capture_method = OpenCalais_REST_API_v2 ) (mentioned; individual) ==> name: Emma |\n",
    "| 9595 | Article [21080](http://research.local/sourcenet/sourcenet/article/article_data/view_with_text/?article_id=21080) | Article_Data [3037](http://research.local/sourcenet/sourcenet/article/article_data/view/?article_id=21080&article_data_id_select=3037) | 11250 (AS) - Isabel ( id = 2815; capture_method = OpenCalais_REST_API_v2 ) (mentioned; individual) ==> name: Isabel |\n",
    "| 9592 | Article [21080](http://research.local/sourcenet/sourcenet/article/article_data/view_with_text/?article_id=21080) | Article_Data [3037](http://research.local/sourcenet/sourcenet/article/article_data/view/?article_id=21080&article_data_id_select=3037) | 11245 (AS) - Tarina ( id = 2812; capture_method = OpenCalais_REST_API_v2 ) (mentioned; individual) ==> name: Tarina |\n",
    "| 9671 | Article [21109](http://research.local/sourcenet/sourcenet/article/article_data/view_with_text/?article_id=21109) | Article_Data [3045](http://research.local/sourcenet/sourcenet/article/article_data/view/?article_id=21109&article_data_id_select=3045) | 11289 (AS) - Pat ( id = 2818; capture_method = OpenCalais_REST_API_v2 ) (mentioned; individual) ==> name: Pat |\n",
    "| 9681 | Article [21112](http://research.local/sourcenet/sourcenet/article/article_data/view_with_text/?article_id=21112) | Article_Data [3038](http://research.local/sourcenet/sourcenet/article/article_data/view/?article_id=21112&article_data_id_select=3038) | 11255 (AS) - Obama ( id = 842; capture_method = OpenCalais_REST_API_v1 ) (mentioned; individual) ==> name: Obama |\n",
    "| 9688 | Article [21113](http://research.local/sourcenet/sourcenet/article/article_data/view_with_text/?article_id=21113) | Article_Data [3033](http://research.local/sourcenet/sourcenet/article/article_data/view/?article_id=21113&article_data_id_select=3033) | 11227 (AS) - Jay ( id = 2807; capture_method = OpenCalais_REST_API_v2 ) (quoted; individual) ==> name: Jay |\n",
    "| 9684 | Article [21113](http://research.local/sourcenet/sourcenet/article/article_data/view_with_text/?article_id=21113) | Article_Data [3033](http://research.local/sourcenet/sourcenet/article/article_data/view/?article_id=21113&article_data_id_select=3033) | 11228 (AS) - Jesse ( id = 2808; capture_method = OpenCalais_REST_API_v2 ) (mentioned; individual) ==> name: Jesse |\n",
    "| 9687 | Article [21113](http://research.local/sourcenet/sourcenet/article/article_data/view_with_text/?article_id=21113) | Article_Data [3033](http://research.local/sourcenet/sourcenet/article/article_data/view/?article_id=21113&article_data_id_select=3033) | 11225 (AS) - Steve ( id = 2806; capture_method = OpenCalais_REST_API_v2 ) (mentioned; individual) ==> name: Steve |\n",
    "| 9690 | Article [21116](http://research.local/sourcenet/sourcenet/article/article_data/view_with_text/?article_id=21116) | Article_Data [3044](http://research.local/sourcenet/sourcenet/article/article_data/view/?article_id=21116&article_data_id_select=3044) | 11288 (AS) - More ( id = 2817; capture_method = OpenCalais_REST_API_v2 ) (mentioned; individual) ==> name: More |\n",
    "| 9823 | Article [21190](http://research.local/sourcenet/sourcenet/article/article_data/view_with_text/?article_id=21190) | Article_Data [1641](http://research.local/sourcenet/sourcenet/article/article_data/view/?article_id=21190&article_data_id_select=1641) | 5423 (AS) - Bill ( id = 855; capture_method = OpenCalais_REST_API_v1 ) (mentioned; individual) ==> name: Bill |\n",
    "| 10076 | Article [21287](http://research.local/sourcenet/sourcenet/article/article_data/view_with_text/?article_id=21287) | Article_Data [1635](http://research.local/sourcenet/sourcenet/article/article_data/view/?article_id=21287&article_data_id_select=1635) | 5396 (AS) - Vernon ( id = 847; capture_method = OpenCalais_REST_API_v1 ) (mentioned; individual) ==> name: Vernon |\n",
    "| 10422 | Article [21435](http://research.local/sourcenet/sourcenet/article/article_data/view_with_text/?article_id=21435) | Article_Data [1651](http://research.local/sourcenet/sourcenet/article/article_data/view/?article_id=21435&article_data_id_select=1651) | 5460 (AS) - Joshua ( id = 869; capture_method = OpenCalais_REST_API_v1 ) (mentioned; individual) ==> name: Joshua |\n",
    "| 7956 | Article [21509](http://research.local/sourcenet/sourcenet/article/article_data/view_with_text/?article_id=21509) | Article_Data [1660](http://research.local/sourcenet/sourcenet/article/article_data/view/?article_id=21509&article_data_id_select=1660) | 5498 (AS) - Jaidon ( id = 875; capture_method = OpenCalais_REST_API_v1 ) (mentioned; individual) ==> name: Jaidon |\n",
    "| 7958 | Article [21509](http://research.local/sourcenet/sourcenet/article/article_data/view_with_text/?article_id=21509) | Article_Data [1660](http://research.local/sourcenet/sourcenet/article/article_data/view/?article_id=21509&article_data_id_select=1660) | 5500 (AS) - Kaidon ( id = 877; capture_method = OpenCalais_REST_API_v1 ) (mentioned; individual) ==> name: Kaidon |\n",
    "| 7959 | Article [21509](http://research.local/sourcenet/sourcenet/article/article_data/view_with_text/?article_id=21509) | Article_Data [1660](http://research.local/sourcenet/sourcenet/article/article_data/view/?article_id=21509&article_data_id_select=1660) | 5502 (AS) - Rushing ( id = 878; capture_method = OpenCalais_REST_API_v1 ) (mentioned; individual) ==> name: Rushing |\n",
    "| 8064 | Article [21569](http://research.local/sourcenet/sourcenet/article/article_data/view_with_text/?article_id=21569) | Article_Data [1666](http://research.local/sourcenet/sourcenet/article/article_data/view/?article_id=21569&article_data_id_select=1666) | 5534 (AS) - Betty ( id = 885; capture_method = OpenCalais_REST_API_v1 ) (mentioned; individual) ==> name: Betty |\n",
    "| 8662 | Article [21719](http://research.local/sourcenet/sourcenet/article/article_data/view_with_text/?article_id=21719) | Article_Data [1706](http://research.local/sourcenet/sourcenet/article/article_data/view/?article_id=21719&article_data_id_select=1706) | 5692 (AS) - Al ( id = 934; capture_method = OpenCalais_REST_API_v1 ) (mentioned; individual) ==> name: Al |\n",
    "| 8689 | Article [21781](http://research.local/sourcenet/sourcenet/article/article_data/view_with_text/?article_id=21781) | Article_Data [1726](http://research.local/sourcenet/sourcenet/article/article_data/view/?article_id=21781&article_data_id_select=1726) | 5779 (AS) - Benjamin ( id = 961; capture_method = OpenCalais_REST_API_v1 ) (mentioned; individual) ==> name: Benjamin |\n",
    "| 8769 | Article [21813](http://research.local/sourcenet/sourcenet/article/article_data/view_with_text/?article_id=21813) | Article_Data [1727](http://research.local/sourcenet/sourcenet/article/article_data/view/?article_id=21813&article_data_id_select=1727) | 5783 (AS) - Jaidon ( id = 875; capture_method = OpenCalais_REST_API_v1 ) (mentioned; individual) ==> name: Jaidon |\n",
    "| 8771 | Article [21813](http://research.local/sourcenet/sourcenet/article/article_data/view_with_text/?article_id=21813) | Article_Data [1727](http://research.local/sourcenet/sourcenet/article/article_data/view/?article_id=21813&article_data_id_select=1727) | 5786 (AS) - Kaidon ( id = 877; capture_method = OpenCalais_REST_API_v1 ) (mentioned; individual) ==> name: Kaidon |\n",
    "| 8767 | Article [21813](http://research.local/sourcenet/sourcenet/article/article_data/view_with_text/?article_id=21813) | Article_Data [1727](http://research.local/sourcenet/sourcenet/article/article_data/view/?article_id=21813&article_data_id_select=1727) | 5784 (AS) - Kyanie ( id = 775; capture_method = OpenCalais_REST_API ) (quoted; individual) ==> name: Kyanie |\n",
    "| 8278 | Article [21827](http://research.local/sourcenet/sourcenet/article/article_data/view_with_text/?article_id=21827) | Article_Data [1721](http://research.local/sourcenet/sourcenet/article/article_data/view/?article_id=21827&article_data_id_select=1721) | 5753 (AS) - Schultz ( id = 752; capture_method = OpenCalais_REST_API ) (quoted; individual) ==> name: Schultz |\n",
    "| 9013 | Article [21886](http://research.local/sourcenet/sourcenet/article/article_data/view_with_text/?article_id=21886) | Article_Data [3060](http://research.local/sourcenet/sourcenet/article/article_data/view/?article_id=21886&article_data_id_select=3060) | 11386 (AS) - Dan ( id = 2824; capture_method = OpenCalais_REST_API_v2 ) (mentioned; individual) ==> name: Dan |\n",
    "| 9010 | Article [21886](http://research.local/sourcenet/sourcenet/article/article_data/view_with_text/?article_id=21886) | Article_Data [3060](http://research.local/sourcenet/sourcenet/article/article_data/view/?article_id=21886&article_data_id_select=3060) | 11387 (AS) - Tom ( id = 2825; capture_method = OpenCalais_REST_API_v2 ) (mentioned; individual) ==> name: Tom |\n",
    "| 9043 | Article [21898](http://research.local/sourcenet/sourcenet/article/article_data/view_with_text/?article_id=21898) | Article_Data [2556](http://research.local/sourcenet/sourcenet/article/article_data/view/?article_id=21898&article_data_id_select=2556) | 9006 (AS) - Dave ( id = 2178; capture_method = None ) (quoted; individual) ==> name: Dave |\n",
    "| 9064 | Article [21903](http://research.local/sourcenet/sourcenet/article/article_data/view_with_text/?article_id=21903) | Article_Data [1746](http://research.local/sourcenet/sourcenet/article/article_data/view/?article_id=21903&article_data_id_select=1746) | 5895 (AS) - Daniel ( id = 1000; capture_method = OpenCalais_REST_API_v1 ) (mentioned; individual) ==> name: Daniel |\n",
    "| 9067 | Article [21903](http://research.local/sourcenet/sourcenet/article/article_data/view_with_text/?article_id=21903) | Article_Data [1746](http://research.local/sourcenet/sourcenet/article/article_data/view/?article_id=21903&article_data_id_select=1746) | 5892 (AS) - Patsy ( id = 998; capture_method = OpenCalais_REST_API_v1 ) (mentioned; individual) ==> name: Patsy |\n",
    "| 9150 | Article [21931](http://research.local/sourcenet/sourcenet/article/article_data/view_with_text/?article_id=21931) | Article_Data [1750](http://research.local/sourcenet/sourcenet/article/article_data/view/?article_id=21931&article_data_id_select=1750) | 5912 (AS) - Christ ( id = 1006; capture_method = OpenCalais_REST_API_v1 ) (mentioned; individual) ==> name: Christ |\n",
    "| 9424 | Article [22034](http://research.local/sourcenet/sourcenet/article/article_data/view_with_text/?article_id=22034) | Article_Data [3076](http://research.local/sourcenet/sourcenet/article/article_data/view/?article_id=22034&article_data_id_select=3076) | 11457 (AS) - Ken ( id = 2840; capture_method = OpenCalais_REST_API_v2 ) (mentioned; individual) ==> name: Ken |\n",
    "| 9573 | Article [22099](http://research.local/sourcenet/sourcenet/article/article_data/view_with_text/?article_id=22099) | Article_Data [3071](http://research.local/sourcenet/sourcenet/article/article_data/view/?article_id=22099&article_data_id_select=3071) | 11440 (AS) - Abigail ( id = 2835; capture_method = OpenCalais_REST_API_v2 ) (quoted; individual) ==> name: Abigail |\n",
    "| 9572 | Article [22099](http://research.local/sourcenet/sourcenet/article/article_data/view_with_text/?article_id=22099) | Article_Data [3071](http://research.local/sourcenet/sourcenet/article/article_data/view/?article_id=22099&article_data_id_select=3071) | 11439 (AS) - Sonneveldt ( id = 2834; capture_method = OpenCalais_REST_API_v2 ) (quoted; individual) ==> name: Sonneveldt |\n",
    "| 9578 | Article [22100](http://research.local/sourcenet/sourcenet/article/article_data/view_with_text/?article_id=22100) | Article_Data [3067](http://research.local/sourcenet/sourcenet/article/article_data/view/?article_id=22100&article_data_id_select=3067) | 11424 (AS) - Don ( id = 2830; capture_method = OpenCalais_REST_API_v2 ) (mentioned; individual) ==> name: Don |\n",
    "| 9791 | Article [22199](http://research.local/sourcenet/sourcenet/article/article_data/view_with_text/?article_id=22199) | Article_Data [3080](http://research.local/sourcenet/sourcenet/article/article_data/view/?article_id=22199&article_data_id_select=3080) | 11468 (AS) - Marcia ( id = 2842; capture_method = OpenCalais_REST_API_v2 ) (mentioned; individual) ==> name: Marcia |\n",
    "| 9799 | Article [22200](http://research.local/sourcenet/sourcenet/article/article_data/view_with_text/?article_id=22200) | Article_Data [3084](http://research.local/sourcenet/sourcenet/article/article_data/view/?article_id=22200&article_data_id_select=3084) | 11486 (AS) - Bryan ( id = 2845; capture_method = OpenCalais_REST_API_v2 ) (mentioned; individual) ==> name: Bryan |\n",
    "| 9992 | Article [22281](http://research.local/sourcenet/sourcenet/article/article_data/view_with_text/?article_id=22281) | Article_Data [3083](http://research.local/sourcenet/sourcenet/article/article_data/view/?article_id=22281&article_data_id_select=3083) | MERGED - 11483 (AS) - Tassell ( id = 2844; capture_method = OpenCalais_REST_API_v2 ) (mentioned; individual) ==> name: Tassell |\n",
    "| 10044 | Article [22302](http://research.local/sourcenet/sourcenet/article/article_data/view_with_text/?article_id=22302) | Article_Data [3086](http://research.local/sourcenet/sourcenet/article/article_data/view/?article_id=22302&article_data_id_select=3086) | 11494 (AS) - Greg ( id = 2847; capture_method = OpenCalais_REST_API_v2 ) (mentioned; individual) ==> name: Greg |\n"
   ]
  },
  {
   "cell_type": "code",
   "execution_count": null,
   "metadata": {
    "collapsed": true,
    "scrolled": true
   },
   "outputs": [],
   "source": [
    "# folded this code into the Reliability_Names delete screen (sourcenet_analysis/views.py-->reliability_names_disagreement_view().\n",
    "'''\n",
    "reliability_names_id = \"7956\"\n",
    "article_id = \"21509\"\n",
    "article_data_id = \"1660\"\n",
    "article_subject = \"5498 (AS) - Jaidon ( id = 875; capture_method = OpenCalais_REST_API_v1 ) (mentioned; individual) ==> name: Jaidon\"\n",
    "    \n",
    "markdown_string = \"| \"\n",
    "markdown_string += reliability_names_id\n",
    "markdown_string += \" | Article [\"\n",
    "markdown_string += article_id\n",
    "markdown_string += \"](http://research.local/sourcenet/sourcenet/article/article_data/view_with_text/?article_id=\"\n",
    "markdown_string += article_id\n",
    "markdown_string += \") | Article_Data [\"\n",
    "markdown_string += article_data_id\n",
    "markdown_string += \"](http://research.local/sourcenet/sourcenet/article/article_data/view/?article_id=\"\n",
    "markdown_string += article_id\n",
    "markdown_string += \"&article_data_id_select=\"\n",
    "markdown_string += article_data_id\n",
    "markdown_string += \") | \"\n",
    "markdown_string += article_subject\n",
    "markdown_string += \" |\"\n",
    "\n",
    "print( \"Reliability_Names removal Markdown:\\n\" + markdown_string )\n",
    "'''"
   ]
  },
  {
   "cell_type": "markdown",
   "metadata": {},
   "source": [
    "#### `Reliability_Names` records merged\n",
    "\n",
    "- Back to [Table-of-Contents](#Table-of-Contents)\n",
    "\n",
    "For some, need to merge a single-name detection by Calais with full-name detection by ground_truth (an OpenCalais error - did not detect full name - combined with lookup error - didn't lookup the right person since missed part of his or her name).  Will still have subsequently deleted one or more duplicate rows."
   ]
  },
  {
   "cell_type": "markdown",
   "metadata": {},
   "source": [
    "| ID FROM | ID INTO | Article | Article_Data | Article_Subject |\n",
    "|------|------|------|------|------|\n",
    "| 9506 | 9507 | Article [21049](http://research.local/sourcenet/sourcenet/article/article_data/view_with_text/?article_id=21049) | FROM [3034](http://research.local/sourcenet/sourcenet/article/article_data/view/?article_id=21049&article_data_id_select=3034)<br />TO [2443](http://research.local/sourcenet/sourcenet/article/article_data/view/?article_id=21049&article_data_id_select=2443) | 8494 (AS) - Reyes, Ivette ( id = 1899; capture_method = None ) (quoted; individual) ( quotes: 1; mentions: 1 ) ==> Name: Ivette Reyes |\n",
    "| 9992 | 9993 | Article [22281](http://research.local/sourcenet/sourcenet/article/article_data/view_with_text/?article_id=22281) | FROM [3083](http://research.local/sourcenet/sourcenet/article/article_data/view/?article_id=22281&article_data_id_select=3083) TO [2635](http://research.local/sourcenet/sourcenet/article/article_data/view/?article_id=22281&article_data_id_select=2635) | 9369 (AS) - Tassell, Leslie ( id = 2328; capture_method = None ) (mentioned; individual) ==> name: Leslie E. Tassell |\n"
   ]
  },
  {
   "cell_type": "code",
   "execution_count": 1,
   "metadata": {},
   "outputs": [
    {
     "name": "stdout",
     "output_type": "stream",
     "text": [
      "Reliabilty_Names merge Markdown:\n",
      "| 9992 | 9993 | Article [22281](http://research.local/sourcenet/sourcenet/article/article_data/view_with_text/?article_id=22281) | FROM [3083](http://research.local/sourcenet/sourcenet/article/article_data/view/?article_id=22281&article_data_id_select=3083) TO [2635](http://research.local/sourcenet/sourcenet/article/article_data/view/?article_id=22281&article_data_id_select=2635) | 9369 (AS) - Tassell, Leslie ( id = 2328; capture_method = None ) (mentioned; individual) ==> name: Leslie E. Tassell |\n"
     ]
    }
   ],
   "source": [
    "reliability_names_id_from = \"9992\"\n",
    "reliability_names_id_to = \"9993\"\n",
    "article_id = \"22281\"\n",
    "article_data_id_from = \"3083\"\n",
    "article_data_id_to = \"2635\"\n",
    "article_subject = \"9369 (AS) - Tassell, Leslie ( id = 2328; capture_method = None ) (mentioned; individual) ==> name: Leslie E. Tassell\"\n",
    "\n",
    "markdown_string = \"| \"\n",
    "markdown_string += reliability_names_id_from\n",
    "markdown_string += \" | \"\n",
    "markdown_string += reliability_names_id_to\n",
    "markdown_string += \" | Article [\"\n",
    "markdown_string += article_id\n",
    "markdown_string += \"](http://research.local/sourcenet/sourcenet/article/article_data/view_with_text/?article_id=\"\n",
    "markdown_string += article_id\n",
    "markdown_string += \") | FROM [\"\n",
    "markdown_string += article_data_id_from\n",
    "markdown_string += \"](http://research.local/sourcenet/sourcenet/article/article_data/view/?article_id=\"\n",
    "markdown_string += article_id\n",
    "markdown_string += \"&article_data_id_select=\"\n",
    "markdown_string += article_data_id_from\n",
    "markdown_string += \") TO [\"\n",
    "markdown_string += article_data_id_to\n",
    "markdown_string += \"](http://research.local/sourcenet/sourcenet/article/article_data/view/?article_id=\"\n",
    "markdown_string += article_id\n",
    "markdown_string += \"&article_data_id_select=\"\n",
    "markdown_string += article_data_id_to\n",
    "markdown_string += \") | \"\n",
    "markdown_string += article_subject\n",
    "markdown_string += \" |\"\n",
    "\n",
    "print( \"Reliabilty_Names merge Markdown:\\n\" + markdown_string )"
   ]
  },
  {
   "cell_type": "markdown",
   "metadata": {},
   "source": [
    "#### Ground truth coding fixed\n",
    "\n",
    "- Back to [Table-of-Contents](#Table-of-Contents)\n",
    "\n",
    "For a few, the error will be on the part of the human coder.  For human error, we create a new \"`ground_truth`\" record that we will correct, so we preserve original coding (and evidence of errors) in case we want or need that information later."
   ]
  },
  {
   "cell_type": "markdown",
   "metadata": {},
   "source": [
    "| ID | Article | Article_Data | Coder | Article_Subject |\n",
    "|------|------|------|------|\n",
    "| 9720 | Article [21130](http://research.local/sourcenet/sourcenet/article/article_data/view_with_text/?article_id=21130) | Article_Data [2489](http://research.local/sourcenet/sourcenet/article/article_data/view/?article_id=21130&article_data_id_select=2489) | Coder=9 | 8719 (AS) - Krueger ( id = 2015; capture_method = None ) (quoted; individual) ==> name: Krueger ==> organization: Ottawa County; Republican; Republican Party |"
   ]
  },
  {
   "cell_type": "code",
   "execution_count": null,
   "metadata": {
    "collapsed": true
   },
   "outputs": [],
   "source": [
    "coder_id = 9\n",
    "reliability_names_id = \"9720\"\n",
    "article_id = \"21130\"\n",
    "article_data_id = \"2489\"\n",
    "article_subject = \"8719 (AS) - Krueger ( id = 2015; capture_method = None ) (quoted; individual) ==> name: Krueger ==> organization: Ottawa County; Republican; Republican Party\"\n",
    "    \n",
    "markdown_string = \"| \"\n",
    "markdown_string += reliability_names_id\n",
    "markdown_string += \" | Article [\"\n",
    "markdown_string += article_id\n",
    "markdown_string += \"](http://research.local/sourcenet/sourcenet/article/article_data/view_with_text/?article_id=\"\n",
    "markdown_string += article_id\n",
    "markdown_string += \") | Article_Data [\"\n",
    "markdown_string += article_data_id\n",
    "markdown_string += \"](http://research.local/sourcenet/sourcenet/article/article_data/view/?article_id=\"\n",
    "markdown_string += article_id\n",
    "markdown_string += \"&article_data_id_select=\"\n",
    "markdown_string += article_data_id\n",
    "markdown_string += \") | \"\n",
    "markdown_string += \"Coder=\" + str( coder_id )\n",
    "markdown_string += \" | \"\n",
    "markdown_string += article_subject\n",
    "markdown_string += \" |\"\n",
    "\n",
    "print( \"Reliability_Names ground_truth fix Markdown:\\n\" + markdown_string )"
   ]
  },
  {
   "cell_type": "markdown",
   "metadata": {},
   "source": [
    "# Tools\n",
    "\n",
    "- Back to [Table of Contents](#Table-of-Contents)"
   ]
  },
  {
   "cell_type": "markdown",
   "metadata": {},
   "source": [
    "## Tool - copy Article_Data to user ground_truth\n",
    "\n",
    "- Back to [Table of Contents](#Table-of-Contents)\n",
    "\n",
    "Retrieve the ground truth user, then make a deep copy of an Article_Data record, assigning it to the ground truth user."
   ]
  },
  {
   "cell_type": "code",
   "execution_count": null,
   "metadata": {
    "collapsed": true
   },
   "outputs": [],
   "source": [
    "# declare variables\n",
    "ground_truth_user = None\n",
    "ground_truth_user_id = -1\n",
    "id_of_article_data_to_copy = -1\n",
    "new_article_data = None\n",
    "new_article_data_id = -1\n",
    "validation_error_list = None\n",
    "validation_error_count = -1\n",
    "validation_error = None\n",
    "\n",
    "# set ID of article data we want to copy.\n",
    "id_of_article_data_to_copy = 2489\n",
    "\n",
    "# get the ground_truth user's ID.\n",
    "ground_truth_user = SourcenetBase.get_ground_truth_coding_user()\n",
    "ground_truth_user_id = ground_truth_user.id\n",
    "\n",
    "# make the copy\n",
    "new_article_data = Article_Data.make_deep_copy( id_of_article_data_to_copy,\n",
    "                                                new_coder_user_id_IN = ground_truth_user_id )\n",
    "new_article_data_id = new_article_data.id\n",
    "\n",
    "# validate it.\n",
    "validation_error_list = Article_Data_Copy_Tester.validate_article_data_deep_copy( original_article_data_id_IN = id_of_article_data_to_copy,\n",
    "                                                                                  copy_article_data_id_IN = new_article_data_id,\n",
    "                                                                                  copy_coder_user_id_IN = ground_truth_user_id )\n",
    "\n",
    "# get error count:\n",
    "validation_error_count = len( validation_error_list )\n",
    "if ( validation_error_count > 0 ):\n",
    "    \n",
    "    # loop and output messages\n",
    "    for validation_error in validation_error_list:\n",
    "        \n",
    "        print( \"- Validation erorr: \" + str( validation_error ) )\n",
    "        \n",
    "    #-- END loop over validation errors. --#\n",
    "    \n",
    "else:\n",
    "\n",
    "    # no errors - success!\n",
    "    print( \"Record copy a success (as far as we know)!\" )\n",
    "    \n",
    "#-- END check to see if validation errors --#\n",
    "\n",
    "print( \"copied Article_Data id \" + str( id_of_article_data_to_copy ) + \" INTO Article_Data id \" + str( new_article_data_id ) + \" at \" + str( datetime.datetime.now() ) )"
   ]
  },
  {
   "cell_type": "markdown",
   "metadata": {},
   "source": [
    "## Tool - delete Article_Data\n",
    "\n",
    "- Back to [Table of Contents](#Table-of-Contents)\n",
    "\n",
    "Delete the Article_Data whose ID you specify (intended only when you accidentally create a \"`ground_truth`\")."
   ]
  },
  {
   "cell_type": "code",
   "execution_count": null,
   "metadata": {
    "collapsed": true
   },
   "outputs": [],
   "source": [
    "# declare variables\n",
    "article_data_id = -1\n",
    "article_data = None\n",
    "do_delete = False\n",
    "\n",
    "# set ID.\n",
    "article_data_id = 3314\n",
    "\n",
    "# get model instance\n",
    "article_data = Article_Data.objects.get( id = article_data_id )\n",
    "\n",
    "# got something?\n",
    "if ( article_data is not None ):\n",
    "    \n",
    "    # yes.  Delete?\n",
    "    if ( do_delete == True ):\n",
    "        \n",
    "        # delete.\n",
    "        print( \"Deleting Article_Data: \" + str( article_data ) )\n",
    "        article_data.delete()\n",
    "    \n",
    "    else:\n",
    "        \n",
    "        # no delete.\n",
    "        print( \"Found Article_Data: \" + str( article_data ) + \", but not deleting.\" )\n",
    "        \n",
    "    #-- END check to see if we delete --#\n",
    "    \n",
    "#-- END check to see if Article_Data match. --#"
   ]
  },
  {
   "cell_type": "markdown",
   "metadata": {},
   "source": [
    "## Tool - rebuild `Reliability_Names` for an article\n",
    "\n",
    "- Back to [Table of Contents](#Table-of-Contents)\n",
    "\n",
    "Steps:\n",
    "\n",
    "- retrieve the Reliability_Names row(s) for article with a paritcular ID, and filter on label if one provided.\n",
    "- delete the selected Reliability_Names row(s).\n",
    "- set up a call to the Reliability_Names program that just generates data for:\n",
    "\n",
    "    - the article in question\n",
    "    - users in a desired order.\n",
    "    - etc."
   ]
  },
  {
   "cell_type": "markdown",
   "metadata": {},
   "source": [
    "### Delete existing `Reliability_Names` for article\n",
    "\n",
    "- Back to [Table of Contents](#Table-of-Contents)"
   ]
  },
  {
   "cell_type": "code",
   "execution_count": 10,
   "metadata": {},
   "outputs": [
    {
     "name": "stdout",
     "output_type": "stream",
     "text": [
      "Found 7 records.\n",
      "- match: 10615 - label: prelim_month - article ID: 21130 - Monica Scott ( 178 ) - coders: 12 ====> 1 - 13; 1; 178 ====> 2 - 2; 1; 178\n",
      "- match: 10621 - label: prelim_month - article ID: 21130 - David Agema ( 2014 ) - coders: 12 ====> 1 - 13; 1; 2014 ====> 2 - 2; 1; 2014\n",
      "- match: 10617 - label: prelim_month - article ID: 21130 - Brandon Hall ( 2017 ) - coders: 12 ====> 1 - 13; 1; 2017 ====> 2 - 2; 1; 2017\n",
      "- match: 10620 - label: prelim_month - article ID: 21130 - Dan Krueger ( 2822 ) - coders: 12 ====> 1 - 13; 1; 2822 ====> 2 - 2; 1; 2822\n",
      "- match: 10618 - label: prelim_month - article ID: 21130 - Wayne Kuipers ( 290 ) - coders: 12 ====> 1 - 13; 1; 290 ====> 2 - 2; 1; 290\n",
      "- match: 10619 - label: prelim_month - article ID: 21130 - Arlan Meekhof ( 1445 ) - coders: 12 ====> 1 - 13; 1; 1445 ====> 2 - 2; 0; 0\n",
      "- match: 10616 - label: prelim_month - article ID: 21130 - David Miller ( 2016 ) - coders: 12 ====> 1 - 13; 1; 2016 ====> 2 - 2; 1; 2016\n"
     ]
    }
   ],
   "source": [
    "# declare variables\n",
    "article_id = -1\n",
    "label = \"\"\n",
    "do_delete = False\n",
    "row_string_list = None\n",
    "\n",
    "# first, get existing Reliability_Names rows for article and label.\n",
    "article_id = 21130\n",
    "label = \"prelim_month\"\n",
    "#do_delete = True\n",
    "\n",
    "# Do the delete\n",
    "row_string_list = Reliability_Names.delete_reliabilty_names_for_article( article_id,\n",
    "                                                                         label_IN = label,\n",
    "                                                                         do_delete_IN = do_delete )\n",
    "\n",
    "# print the strings.\n",
    "for row_string in row_string_list:\n",
    "    \n",
    "    # print it.\n",
    "    print( row_string )\n",
    "    \n",
    "#-- END loop over row strings --#"
   ]
  },
  {
   "cell_type": "markdown",
   "metadata": {},
   "source": [
    "### Make new `Reliability_Names`\n",
    "\n",
    "- Back to [Table of Contents](#Table-of-Contents)"
   ]
  },
  {
   "cell_type": "code",
   "execution_count": 9,
   "metadata": {},
   "outputs": [
    {
     "name": "stdout",
     "output_type": "stream",
     "text": [
      "- Article ID: 21130; Article_Data count: 3\n",
      "---- - Article Data Info: 2489 - minnesota2 - no coder_type -- Article: 21130 - Dec 05, 2009, State ( A7 ), UID: 12C757A204126F48 - Meekhof to declare candidacy - The state representative plans to run for a state Senate seat ( Grand Rapids Press, The )\n",
      "---- - Article Data Info: 3052 - automated ( ADCT: OpenCalais_REST_API_v2 )  -- Article: 21130 - Dec 05, 2009, State ( A7 ), UID: 12C757A204126F48 - Meekhof to declare candidacy - The state representative plans to run for a state Senate seat ( Grand Rapids Press, The )\n",
      "---- - Article Data Info: 3315 - ground_truth - no coder_type -- Article: 21130 - Dec 05, 2009, State ( A7 ), UID: 12C757A204126F48 - Meekhof to declare candidacy - The state representative plans to run for a state Senate seat ( Grand Rapids Press, The )\n",
      "----> In output_reliability_name_row: len( index_used_list ) = 2; list = [1, 2]\n",
      "- author: 10615 - label: prelim_month - article ID: 21130 - Monica Scott ( 178 ) - coders: 12 ====> 1 - 13; 1; 178 ====> 2 - 2; 1; 178\n",
      "----> In output_reliability_name_row: len( index_used_list ) = 2; list = [1, 2]\n",
      "- source: 10616 - label: prelim_month - article ID: 21130 - David Miller ( 2016 ) - coders: 12 ====> 1 - 13; 1; 2016 ====> 2 - 2; 1; 2016\n",
      "----> In output_reliability_name_row: len( index_used_list ) = 2; list = [1, 2]\n",
      "- source: 10617 - label: prelim_month - article ID: 21130 - Brandon Hall ( 2017 ) - coders: 12 ====> 1 - 13; 1; 2017 ====> 2 - 2; 1; 2017\n",
      "----> In output_reliability_name_row: len( index_used_list ) = 2; list = [1, 2]\n",
      "- source: 10618 - label: prelim_month - article ID: 21130 - Wayne Kuipers ( 290 ) - coders: 12 ====> 1 - 13; 1; 290 ====> 2 - 2; 1; 290\n",
      "----> In output_reliability_name_row: len( index_used_list ) = 1; list = [1]\n",
      "- source: 10619 - label: prelim_month - article ID: 21130 - Arlan Meekhof ( 1445 ) - coders: 12 ====> 1 - 13; 1; 1445 ====> 2 - 2; 0; 0\n",
      "----> In output_reliability_name_row: len( index_used_list ) = 2; list = [1, 2]\n",
      "- source: 10620 - label: prelim_month - article ID: 21130 - Dan Krueger ( 2822 ) - coders: 12 ====> 1 - 13; 1; 2822 ====> 2 - 2; 1; 2822\n",
      "----> In output_reliability_name_row: len( index_used_list ) = 2; list = [1, 2]\n",
      "- source: 10621 - label: prelim_month - article ID: 21130 - David Agema ( 2014 ) - coders: 12 ====> 1 - 13; 1; 2014 ====> 2 - 2; 1; 2014\n",
      "- source: None\n"
     ]
    }
   ],
   "source": [
    "# django imports\n",
    "#from django.contrib.auth.models import User\n",
    "\n",
    "# sourcenet imports\n",
    "#from sourcenet.shared.sourcenet_base import SourcenetBase\n",
    "\n",
    "# sourcenet_analysis imports\n",
    "#from sourcenet_analysis.reliability.reliability_names_builder import ReliabilityNamesBuilder\n",
    "\n",
    "# declare variables\n",
    "my_reliability_instance = None\n",
    "tag_in_list = []\n",
    "article_id_in_list = []\n",
    "label = \"\"\n",
    "\n",
    "# declare variables - user setup\n",
    "current_coder = None\n",
    "current_coder_id = -1\n",
    "current_index = -1\n",
    "\n",
    "# declare variables - Article_Data filtering.\n",
    "coder_type = \"\"\n",
    "\n",
    "# make reliability instance\n",
    "my_reliability_instance = ReliabilityNamesBuilder()\n",
    "\n",
    "#===============================================================================\n",
    "# configure\n",
    "#===============================================================================\n",
    "\n",
    "# list of tags of articles we want to process.\n",
    "tag_in_list = [ \"grp_month\", ]\n",
    "\n",
    "# list of IDs of articles we want to process:\n",
    "article_id_in_list = [ 21130, ]\n",
    "\n",
    "# label to associate with results, for subsequent lookup.\n",
    "label = \"prelim_month\"\n",
    "\n",
    "# ! ====> map coders to indices\n",
    "\n",
    "# set it up so that...\n",
    "\n",
    "# ...the ground truth user has highest priority (4) for index 1...\n",
    "current_coder = SourcenetBase.get_ground_truth_coding_user()\n",
    "current_coder_id = current_coder.id\n",
    "current_index = 1\n",
    "current_priority = 4\n",
    "my_reliability_instance.add_coder_at_index( current_coder_id, current_index, priority_IN = current_priority )\n",
    "\n",
    "# ...coder ID 8 is priority 3 for index 1...\n",
    "current_coder_id = 8\n",
    "current_index = 1\n",
    "current_priority = 3\n",
    "my_reliability_instance.add_coder_at_index( current_coder_id, current_index, priority_IN = current_priority )\n",
    "\n",
    "# ...coder ID 9 is priority 2 for index 1...\n",
    "current_coder_id = 9\n",
    "current_index = 1\n",
    "current_priority = 2\n",
    "my_reliability_instance.add_coder_at_index( current_coder_id, current_index, priority_IN = current_priority )\n",
    "\n",
    "# ...coder ID 10 is priority 1 for index 1...\n",
    "current_coder_id = 10\n",
    "current_index = 1\n",
    "current_priority = 1\n",
    "my_reliability_instance.add_coder_at_index( current_coder_id, current_index, priority_IN = current_priority )\n",
    "\n",
    "# ...and automated coder (2) is index 2\n",
    "current_coder = SourcenetBase.get_automated_coding_user()\n",
    "current_coder_id = current_coder.id\n",
    "current_index = 2\n",
    "current_priority = 1\n",
    "my_reliability_instance.add_coder_at_index( current_coder_id, current_index, priority_IN = current_priority )\n",
    "\n",
    "# and only look at coding by those users.  And...\n",
    "\n",
    "# configure so that it limits to automated coder_type of OpenCalais_REST_API_v2.\n",
    "coder_type = \"OpenCalais_REST_API_v2\"\n",
    "#my_reliability_instance.limit_to_automated_coder_type = \"OpenCalais_REST_API_v2\"\n",
    "my_reliability_instance.automated_coder_type_include_list.append( coder_type )\n",
    "\n",
    "# output debug JSON to file\n",
    "#my_reliability_instance.debug_output_json_file_path = \"/home/jonathanmorgan/\" + label + \".json\"\n",
    "\n",
    "#===============================================================================\n",
    "# process\n",
    "#===============================================================================\n",
    "\n",
    "# process articles\n",
    "my_reliability_instance.process_articles( tag_in_list,\n",
    "                                          article_id_in_list_IN = article_id_in_list )\n",
    "\n",
    "# output to database.\n",
    "my_reliability_instance.output_reliability_data( label )\n"
   ]
  },
  {
   "cell_type": "markdown",
   "metadata": {},
   "source": [
    "# Notes\n",
    "\n",
    "- Back to [Table of Contents](#Table-of-Contents)\n",
    "\n",
    "Notes:\n",
    "\n",
    "- what to do about a misspelled name within an article?  Single name - removing all.  But making note:\n",
    "\n",
    "    - In article 21080, Reliability_Names 9583, name = Culter, should have been Cutler - quoted, graf: 13, index: 1322\n",
    "    \n",
    "        - single name, remove it - but, this will cut both ways - when both name parts present, sometimes will work out, sometimes will be false positive.\n",
    "    \n",
    "- What to do about single last name that is the correct last name of a person where the other name parts were detected by a person?  Leave it in and map it to the correct Article_Data?\n",
    "- Obama?  One name, but it is a well-known one, and preceded by \"President\".  Still, single name, removed it.\n",
    "    \n",
    "Errors:\n",
    "\n",
    "- Article 21116\n",
    "\n",
    "    - Paragraph 12: More than 600 works of art were added to the museum's collection under her leadership, most notably Ellsworth Kelly's \"Blue White,\" a 25-foot- tall wall sculpture that was commissioned in 2006 for the museum's entry pavilion.\n",
    "    - User: 2 - automated (OpenCalais_REST_API_v2)\n",
    "    - 11288 (AS) - More ( id = 2817; capture_method = OpenCalais_REST_API_v2 ) (mentioned; individual) ==> name: More"
   ]
  },
  {
   "cell_type": "markdown",
   "metadata": {},
   "source": [
    "# TODO\n",
    "\n",
    "- Back to [Table of Contents](#Table-of-Contents)\n",
    "\n",
    "TODO:\n",
    "\n",
    "- TK"
   ]
  },
  {
   "cell_type": "markdown",
   "metadata": {},
   "source": [
    "# Coding to look into\n",
    "\n",
    "- Back to [Table of Contents](#Table-of-Contents)\n",
    "\n",
    "Coding decisions to look at more closely:"
   ]
  },
  {
   "cell_type": "markdown",
   "metadata": {},
   "source": [
    "# Debugging\n",
    "\n",
    "- Back to [Table of Contents](#Table-of-Contents)\n",
    "\n",
    "Debugging:\n",
    "\n",
    "- figure out why removing \"Kreuger\" from \"`ground_truth`\" coder's Article_Data doesn't cause it to be removed from the Reliability_Names output.\n",
    "\n",
    "    - something to do with there still being a coder who found \"Kreuger\", even though it isn't one of the coders chosen based on priorities...\n",
    "    - _Resolution - only output row if at least one selected person detected the person in question.  Added flag to methods that could have to deal with this so they can decide whether or not they want rows where selected coders did not detect, but someone did._"
   ]
  }
 ],
 "metadata": {
  "kernelspec": {
   "display_name": "sourcenet (Python 3)",
   "language": "python",
   "name": "sourcenet"
  },
  "language_info": {
   "codemirror_mode": {
    "name": "ipython",
    "version": 3
   },
   "file_extension": ".py",
   "mimetype": "text/x-python",
   "name": "python",
   "nbconvert_exporter": "python",
   "pygments_lexer": "ipython3",
   "version": "3.5.2"
  }
 },
 "nbformat": 4,
 "nbformat_minor": 1
}
