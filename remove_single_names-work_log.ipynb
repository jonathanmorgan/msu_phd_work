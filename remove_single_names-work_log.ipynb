{
 "cells": [
  {
   "cell_type": "markdown",
   "metadata": {
    "deletable": true,
    "editable": true
   },
   "source": [
    "# remove single names - work log\n",
    "\n",
    "# Table of Contents\n",
    "\n",
    "- [Setup](#Setup)\n",
    "\n",
    "    - [Setup - Imports](#Setup---Imports)\n",
    "    - [Setup - Initialize Django](#Setup---Initialize-Django)\n",
    "\n",
    "- [Data cleanup](#Data-cleanup)\n",
    "\n",
    "    - [Remove single name reliability data](#Remove-single-name-reliability-data)\n",
    "    \n",
    "        - [Single-name data assessment](#Single-name-data-assessment)\n",
    "        - [Delete single-name data](#Delete-selected-single-name-data)\n",
    "\n",
    "- [Tools](#Tools)\n",
    "\n",
    "    - [Tool - copy `Article_Data` to user `ground_truth`](#Tool---copy-Article_Data-to-user-ground_truth)\n",
    "    - [Tool - delete `Article_Data`](#Tool---delete-Article_Data)\n",
    "\n",
    "- [Notes](#Notes)\n",
    "- [TODO](#TODO)\n",
    "- [Coding to look into](#Coding-to-look-into)\n",
    "- [Debugging](#Debugging)"
   ]
  },
  {
   "cell_type": "markdown",
   "metadata": {
    "deletable": true,
    "editable": true
   },
   "source": [
    "# Setup\n",
    "\n",
    "- Back to [Table of Contents](#Table-of-Contents)"
   ]
  },
  {
   "cell_type": "markdown",
   "metadata": {
    "deletable": true,
    "editable": true
   },
   "source": [
    "## Setup - Imports\n",
    "\n",
    "- Back to [Table of Contents](#Table-of-Contents)"
   ]
  },
  {
   "cell_type": "code",
   "execution_count": 1,
   "metadata": {
    "collapsed": false,
    "deletable": true,
    "editable": true
   },
   "outputs": [
    {
     "name": "stdout",
     "output_type": "stream",
     "text": [
      "packages imported at 2017-03-14 01:48:01.904236\n"
     ]
    }
   ],
   "source": [
    "import datetime\n",
    "\n",
    "print( \"packages imported at \" + str( datetime.datetime.now() ) )"
   ]
  },
  {
   "cell_type": "code",
   "execution_count": 2,
   "metadata": {
    "collapsed": false,
    "deletable": true,
    "editable": true
   },
   "outputs": [
    {
     "data": {
      "text/plain": [
       "'/home/jonathanmorgan/work/sourcenet/django/research/work/msu_phd_work'"
      ]
     },
     "execution_count": 2,
     "metadata": {},
     "output_type": "execute_result"
    }
   ],
   "source": [
    "%pwd"
   ]
  },
  {
   "cell_type": "markdown",
   "metadata": {
    "deletable": true,
    "editable": true
   },
   "source": [
    "## Setup - Initialize Django\n",
    "\n",
    "- Back to [Table of Contents](#Table-of-Contents)\n",
    "\n",
    "First, initialize my dev django project, so I can run code in this notebook that references my django models and can talk to the database using my project's settings.\n",
    "\n",
    "You need to have installed your virtualenv with django as a kernel, then select that kernel for this notebook."
   ]
  },
  {
   "cell_type": "code",
   "execution_count": 3,
   "metadata": {
    "collapsed": false,
    "deletable": true,
    "editable": true
   },
   "outputs": [
    {
     "name": "stdout",
     "output_type": "stream",
     "text": [
      "django initialized at 2017-03-14 05:48:08.173633\n"
     ]
    }
   ],
   "source": [
    "%run django_init.py"
   ]
  },
  {
   "cell_type": "markdown",
   "metadata": {
    "deletable": true,
    "editable": true
   },
   "source": [
    "Import any `sourcenet` or `sourcenet_analysis` models or classes."
   ]
  },
  {
   "cell_type": "code",
   "execution_count": 4,
   "metadata": {
    "collapsed": false,
    "deletable": true,
    "editable": true
   },
   "outputs": [
    {
     "name": "stdout",
     "output_type": "stream",
     "text": [
      "sourcenet and sourcenet_analysis packages imported at 2017-03-14 05:48:09.271144\n"
     ]
    }
   ],
   "source": [
    "# sourcenet models.\n",
    "from sourcenet.models import Article_Data\n",
    "from sourcenet.shared.sourcenet_base import SourcenetBase\n",
    "from sourcenet.tests.models.test_Article_Data_model import Article_Data_Copy_Tester\n",
    "\n",
    "print( \"sourcenet and sourcenet_analysis packages imported at \" + str( datetime.datetime.now() ) )"
   ]
  },
  {
   "cell_type": "markdown",
   "metadata": {
    "deletable": true,
    "editable": true
   },
   "source": [
    "# Data cleanup \n",
    "\n",
    "- Back to [Table of Contents](#Table-of-Contents)"
   ]
  },
  {
   "cell_type": "markdown",
   "metadata": {
    "collapsed": true,
    "deletable": true,
    "editable": true
   },
   "source": [
    "## Remove single-name reliability data\n",
    "\n",
    "- Back to [Table of Contents](#Table-of-Contents)\n",
    "\n",
    "Next, remove all reliability data that refers to a single name using the \"View reliability name information\" screen:\n",
    "\n",
    "- [http://research.local/sourcenet/sourcenet/analysis/reliability/names/disagreement/view](http://research.local/sourcenet/sourcenet/analysis/reliability/names/disagreement/view)\n",
    "\n",
    "To start, enter the following in fields there:\n",
    "\n",
    "- Label: \"prelim_month\"\n",
    "- Coders to compare (1 through ==>): 2\n",
    "- Reliability names filter type: Select \"Lookup\"\n",
    "- [Lookup] - Person has first name, no other name parts.: CHECK the checkbox\n",
    "\n",
    "You should see lots of entries where coders detected people who were mentioned only by their first name."
   ]
  },
  {
   "cell_type": "markdown",
   "metadata": {
    "deletable": true,
    "editable": true
   },
   "source": [
    "### Single-name data assessment\n",
    "\n",
    "- Back to [Table of Contents](#Table-of-Contents)\n",
    "\n",
    "Need to look at each instance where a person has a single name part.\n",
    "\n",
    "Most are probably instances where the computer correctly detected the name part, but where you don't have enough name to match it to a person so the human coding protocol directed them to not capture the name fragment.\n",
    "\n",
    "However, there might be some where a coder made a mistake and just captured a name part for a person whose full name was in the story.  To check, click the \"Article ID\" in the column that has a link to article ID. It will take you to a view of the article where all the people who coded the article are included, with each detection of a mention or quotation displayed next to the paragraph where the person was originally first detected.\n",
    "\n",
    "So for each instance of a single name part:\n",
    "\n",
    "- click on the article ID link in the row to go to the article and check to see if there is person whose name the fragment is a part of ( [http://research.local/sourcenet/sourcenet/article/article_data/view_with_text/](http://research.local/sourcenet/sourcenet/article/article_data/view_with_text/) ).\n",
    "\n",
    "    - If there is a person with a full name to which the name fragment is a reference, check to see if the human coder has data for the full person.\n",
    "    \n",
    "        - if human coder has data for the full person, merge:\n",
    "\n",
    "            - go to the disagreement view page: [http://research.local/sourcenet/sourcenet/analysis/reliability/names/disagreement/view](http://research.local/sourcenet/sourcenet/analysis/reliability/names/disagreement/view)\n",
    "            - Configure:\n",
    "\n",
    "                - Label: - \"prelim_month\"\n",
    "                - Coders to compare (1 through ==>): - 2\n",
    "                - Reliability names filter type: - Select \"Lookup\"\n",
    "                - [Lookup] - Associated Article IDs (comma-delimited): - Enter the ID of the article the coding belonged to.\n",
    "\n",
    "            - this will bring up all coding for the article whose ID you entered.\n",
    "            - In the \"select\" column, click the checkbox in the row where there is a single name part that needs to be merged.\n",
    "            - In the \"merge INTO\" column, click the checbox in the row with the full name for that person.\n",
    "            - In \"Reliability Names Action\", choose \"Merge Coding --> FROM 1 SELECTED / INTO 1\"\n",
    "            - Click \"Do Action\" button.\n",
    "\n",
    "        - if human coder did not detect person or made some other kind of error:\n",
    "\n",
    "            - uset the [Tool - copy Article_Data to user ground_truth](#Tool---copy-Article_Data-to-user-ground_truth) to create a copy of the person's Article_Data and assign it to coder \"`ground_truth`\".\n",
    "            - if needed, log into the django admin ( [http://research.local/sourcenet/admin/](http://research.local/sourcenet/admin/) ) and:\n",
    "\n",
    "                - set or reset the \"`ground_truth`\" user's password.\n",
    "                - give it \"staff status\".\n",
    "\n",
    "            - log in to the coding tool ( [http://research.local/sourcenet/sourcenet/article/code/](http://research.local/sourcenet/sourcenet/article/code/) ) as the \"`ground_truth`\" user and fix the coding for the article in question.\n",
    "            - save.\n",
    "            - TODO ==> document regenerating Reliability_Names for just that article.\n",
    "            \n",
    "                - (?) Remove old Reliability_Names for that article.\n",
    "                - re-run names creation for the article.\n",
    "                - Clean up any other problems with the coding again (single names, for example).\n",
    "                - More?  TK\n",
    "            \n",
    "            - if needed, clean up/merge the two Reliability_Names records for the person.\n",
    "\n",
    "    - Remove the `Reliability_Names` row with the name fragment from reliability data."
   ]
  },
  {
   "cell_type": "markdown",
   "metadata": {
    "deletable": true,
    "editable": true
   },
   "source": [
    "### Delete single-name data\n",
    "\n",
    "- Back to [Table of Contents](#Table-of-Contents)\n",
    "\n",
    "To get rid of all matching in this list, click the checkbox in the \"select\" column next to each one you want to delete (sorry, no \"select all\" just yet), choose \"Delete selected\" from the \"Reliability names action:\" field at the top of the list, then click the \"Do action\" button.\n",
    "\n",
    "Reliability_Names records Removed:"
   ]
  },
  {
   "cell_type": "markdown",
   "metadata": {
    "deletable": true,
    "editable": true
   },
   "source": [
    "| ID | Article | Article_Data | Article_Subject |\n",
    "|------|------|------|------|\n",
    "| 8618 | Article [20739](http://research.local/sourcenet/sourcenet/article/article_data/view_with_text/?article_id=20739) | Article_Data [2980](http://research.local/sourcenet/sourcenet/article/article_data/view/?article_id=20739&article_data_id_select=2980) | 11006 (AS) - Christopher ( id = 2776; capture_method = OpenCalais_REST_API_v2 ) (mentioned; individual) ==> name: Christopher |\n",
    "| 8705 | Article [20843](http://research.local/sourcenet/sourcenet/article/article_data/view_with_text/?article_id=20843) | Article_Data [3000](http://research.local/sourcenet/sourcenet/article/article_data/view/?article_id=20843&article_data_id_select=3000) | 11102 (AS) - Brock ( id = 2798; capture_method = OpenCalais_REST_API_v2 ) (mentioned; individual) ==> name: Brock |\n",
    "| 9163 | Article [20912](http://research.local/sourcenet/sourcenet/article/article_data/view_with_text/?article_id=20912) | Article_Data [3015](http://research.local/sourcenet/sourcenet/article/article_data/view/?article_id=20912&article_data_id_select=3015) | 11147 (AS) - Slate ( id = 2801; capture_method = OpenCalais_REST_API_v2 ) (mentioned; individual) ==> name: Slate |\n",
    "| 9243 | Article [20936](http://research.local/sourcenet/sourcenet/article/article_data/view_with_text/?article_id=20936) | Article_Data [3002](http://research.local/sourcenet/sourcenet/article/article_data/view/?article_id=20936&article_data_id_select=3002) | 11110 (AS) - Christine ( id = 2800; capture_method = OpenCalais_REST_API_v2 ) (mentioned; individual) ==> name: Christine |\n",
    "| 9506 | Article [21049](http://research.local/sourcenet/sourcenet/article/article_data/view_with_text/?article_id=21049) | Article_Data [3034](http://research.local/sourcenet/sourcenet/article/article_data/view/?article_id=21049&article_data_id_select=3034) | 11232 (AS) - Reyes ( id = 2809; capture_method = OpenCalais_REST_API_v2 ) (quoted; individual) ==> name: Reyes |\n",
    "| 9584 | Article [21080](http://research.local/sourcenet/sourcenet/article/article_data/view_with_text/?article_id=21080) | Article_Data [3037](http://research.local/sourcenet/sourcenet/article/article_data/view/?article_id=21080&article_data_id_select=3037) | 11244 (AS) - Ben ( id = 2811; capture_method = OpenCalais_REST_API_v2 ) (mentioned; individual) ==> name: Ben |\n",
    "| 9594 | Article [21080](http://research.local/sourcenet/sourcenet/article/article_data/view_with_text/?article_id=21080) | Article_Data [3037](http://research.local/sourcenet/sourcenet/article/article_data/view/?article_id=21080&article_data_id_select=3037) | 11249 (AS) - Carman ( id = 2814; capture_method = OpenCalais_REST_API_v2 ) (mentioned; individual) ==> name: Carman |\n",
    "| 9583 | Article [21080](http://research.local/sourcenet/sourcenet/article/article_data/view_with_text/?article_id=21080) | Article_Data [3037](http://research.local/sourcenet/sourcenet/article/article_data/view/?article_id=21080&article_data_id_select=3037) | 11252 (AS) - Culter ( id = 2816; capture_method = OpenCalais_REST_API_v2 ) (quoted; individual) ==> name: Culter |\n",
    "| 9590 | Article [21080](http://research.local/sourcenet/sourcenet/article/article_data/view_with_text/?article_id=21080) | Article_Data [3037](http://research.local/sourcenet/sourcenet/article/article_data/view/?article_id=21080&article_data_id_select=3037) | 11243 (AS) - Emma ( id = 2810; capture_method = OpenCalais_REST_API_v2 ) (mentioned; individual) ==> name: Emma |\n",
    "| 9595 | Article [21080](http://research.local/sourcenet/sourcenet/article/article_data/view_with_text/?article_id=21080) | Article_Data [3037](http://research.local/sourcenet/sourcenet/article/article_data/view/?article_id=21080&article_data_id_select=3037) | 11250 (AS) - Isabel ( id = 2815; capture_method = OpenCalais_REST_API_v2 ) (mentioned; individual) ==> name: Isabel |\n",
    "| 9592 | Article [21080](http://research.local/sourcenet/sourcenet/article/article_data/view_with_text/?article_id=21080) | Article_Data [3037](http://research.local/sourcenet/sourcenet/article/article_data/view/?article_id=21080&article_data_id_select=3037) | 11245 (AS) - Tarina ( id = 2812; capture_method = OpenCalais_REST_API_v2 ) (mentioned; individual) ==> name: Tarina |\n",
    "| 9671 | Article [21109](http://research.local/sourcenet/sourcenet/article/article_data/view_with_text/?article_id=21109) | Article_Data [3045](http://research.local/sourcenet/sourcenet/article/article_data/view/?article_id=21109&article_data_id_select=3045) | 11289 (AS) - Pat ( id = 2818; capture_method = OpenCalais_REST_API_v2 ) (mentioned; individual) ==> name: Pat |\n",
    "| 9681 | Article [21112](http://research.local/sourcenet/sourcenet/article/article_data/view_with_text/?article_id=21112) | Article_Data [3038](http://research.local/sourcenet/sourcenet/article/article_data/view/?article_id=21112&article_data_id_select=3038) | 11255 (AS) - Obama ( id = 842; capture_method = OpenCalais_REST_API_v1 ) (mentioned; individual) ==> name: Obama |\n",
    "| 9687 | Article [21113](http://research.local/sourcenet/sourcenet/article/article_data/view_with_text/?article_id=21113) | Article_Data [3033](http://research.local/sourcenet/sourcenet/article/article_data/view/?article_id=21113&article_data_id_select=3033) | 11225 (AS) - Steve ( id = 2806; capture_method = OpenCalais_REST_API_v2 ) (mentioned; individual) ==> name: Steve |\n",
    "| 9688 | Article [21113](http://research.local/sourcenet/sourcenet/article/article_data/view_with_text/?article_id=21113) | Article_Data [3033](http://research.local/sourcenet/sourcenet/article/article_data/view/?article_id=21113&article_data_id_select=3033) | 11227 (AS) - Jay ( id = 2807; capture_method = OpenCalais_REST_API_v2 ) (quoted; individual) ==> name: Jay |\n",
    "| 9684 | Article [21113](http://research.local/sourcenet/sourcenet/article/article_data/view_with_text/?article_id=21113) | Article_Data [3033](http://research.local/sourcenet/sourcenet/article/article_data/view/?article_id=21113&article_data_id_select=3033) | 11228 (AS) - Jesse ( id = 2808; capture_method = OpenCalais_REST_API_v2 ) (mentioned; individual) ==> name: Jesse |\n",
    "| 9696 | Article [21117](http://research.local/sourcenet/sourcenet/article/article_data/view_with_text/?article_id=21117) | Article_Data [3049](http://research.local/sourcenet/sourcenet/article/article_data/view/?article_id=21117&article_data_id_select=3049) | 8511 (AS) - Mary ( id = 1912; capture_method = None ) (mentioned; individual) ==> name: Mary |\n",
    "| 9707 | Article [21121](http://research.local/sourcenet/sourcenet/article/article_data/view_with_text/?article_id=21121) | Article_Data [3048](http://research.local/sourcenet/sourcenet/article/article_data/view/?article_id=21121&article_data_id_select=3048) | 11306 (AS) - Jesus ( id = 1451; capture_method = OpenCalais_REST_API_v2 ) (mentioned; individual) ==> name: Jesus |\n",
    "| 9584 | Article [21080](http://research.local/sourcenet/sourcenet/article/article_data/view_with_text/?article_id=21080) | Article_Data [3037](http://research.local/sourcenet/sourcenet/article/article_data/view/?article_id=21080&article_data_id_select=3037) | 11244 (AS) - Ben ( id = 2811; capture_method = OpenCalais_REST_API_v2 ) (mentioned; individual) ==> name: Ben |\n",
    "| 9594 | Article [21080](http://research.local/sourcenet/sourcenet/article/article_data/view_with_text/?article_id=21080) | Article_Data [3037](http://research.local/sourcenet/sourcenet/article/article_data/view/?article_id=21080&article_data_id_select=3037) | 11249 (AS) - Carman ( id = 2814; capture_method = OpenCalais_REST_API_v2 ) (mentioned; individual) ==> name: Carman |\n",
    "| 9583 | Article [21080](http://research.local/sourcenet/sourcenet/article/article_data/view_with_text/?article_id=21080) | Article_Data [3037](http://research.local/sourcenet/sourcenet/article/article_data/view/?article_id=21080&article_data_id_select=3037) | 11252 (AS) - Culter ( id = 2816; capture_method = OpenCalais_REST_API_v2 ) (quoted; individual) ==> name: Culter |\n",
    "| 9590 | Article [21080](http://research.local/sourcenet/sourcenet/article/article_data/view_with_text/?article_id=21080) | Article_Data [3037](http://research.local/sourcenet/sourcenet/article/article_data/view/?article_id=21080&article_data_id_select=3037) | 11243 (AS) - Emma ( id = 2810; capture_method = OpenCalais_REST_API_v2 ) (mentioned; individual) ==> name: Emma |\n",
    "| 9595 | Article [21080](http://research.local/sourcenet/sourcenet/article/article_data/view_with_text/?article_id=21080) | Article_Data [3037](http://research.local/sourcenet/sourcenet/article/article_data/view/?article_id=21080&article_data_id_select=3037) | 11250 (AS) - Isabel ( id = 2815; capture_method = OpenCalais_REST_API_v2 ) (mentioned; individual) ==> name: Isabel |\n",
    "| 9592 | Article [21080](http://research.local/sourcenet/sourcenet/article/article_data/view_with_text/?article_id=21080) | Article_Data [3037](http://research.local/sourcenet/sourcenet/article/article_data/view/?article_id=21080&article_data_id_select=3037) | 11245 (AS) - Tarina ( id = 2812; capture_method = OpenCalais_REST_API_v2 ) (mentioned; individual) ==> name: Tarina |\n",
    "| 9671 | Article [21109](http://research.local/sourcenet/sourcenet/article/article_data/view_with_text/?article_id=21109) | Article_Data [3045](http://research.local/sourcenet/sourcenet/article/article_data/view/?article_id=21109&article_data_id_select=3045) | 11289 (AS) - Pat ( id = 2818; capture_method = OpenCalais_REST_API_v2 ) (mentioned; individual) ==> name: Pat |\n",
    "| 9681 | Article [21112](http://research.local/sourcenet/sourcenet/article/article_data/view_with_text/?article_id=21112) | Article_Data [3038](http://research.local/sourcenet/sourcenet/article/article_data/view/?article_id=21112&article_data_id_select=3038) | 11255 (AS) - Obama ( id = 842; capture_method = OpenCalais_REST_API_v1 ) (mentioned; individual) ==> name: Obama |\n",
    "| 9688 | Article [21113](http://research.local/sourcenet/sourcenet/article/article_data/view_with_text/?article_id=21113) | Article_Data [3033](http://research.local/sourcenet/sourcenet/article/article_data/view/?article_id=21113&article_data_id_select=3033) | 11227 (AS) - Jay ( id = 2807; capture_method = OpenCalais_REST_API_v2 ) (quoted; individual) ==> name: Jay |\n",
    "| 9684 | Article [21113](http://research.local/sourcenet/sourcenet/article/article_data/view_with_text/?article_id=21113) | Article_Data [3033](http://research.local/sourcenet/sourcenet/article/article_data/view/?article_id=21113&article_data_id_select=3033) | 11228 (AS) - Jesse ( id = 2808; capture_method = OpenCalais_REST_API_v2 ) (mentioned; individual) ==> name: Jesse |\n",
    "| 9687 | Article [21113](http://research.local/sourcenet/sourcenet/article/article_data/view_with_text/?article_id=21113) | Article_Data [3033](http://research.local/sourcenet/sourcenet/article/article_data/view/?article_id=21113&article_data_id_select=3033) | 11225 (AS) - Steve ( id = 2806; capture_method = OpenCalais_REST_API_v2 ) (mentioned; individual) ==> name: Steve |\n",
    "| 9690 | Article [21116](http://research.local/sourcenet/sourcenet/article/article_data/view_with_text/?article_id=21116) | Article_Data [3044](http://research.local/sourcenet/sourcenet/article/article_data/view/?article_id=21116&article_data_id_select=3044) | 11288 (AS) - More ( id = 2817; capture_method = OpenCalais_REST_API_v2 ) (mentioned; individual) ==> name: More |\n"
   ]
  },
  {
   "cell_type": "code",
   "execution_count": null,
   "metadata": {
    "collapsed": false,
    "deletable": true,
    "editable": true
   },
   "outputs": [],
   "source": [
    "reliability_names_id = \"9720\"\n",
    "article_id = \"21130\"\n",
    "article_data_id = \"3052\"\n",
    "article_subject = \"11288 (AS) - More ( id = 2817; capture_method = OpenCalais_REST_API_v2 ) (mentioned; individual) ==> name: More\"\n",
    "    \n",
    "markdown_string = \"| \"\n",
    "markdown_string += reliability_names_id\n",
    "markdown_string += \" | Article [\"\n",
    "markdown_string += article_id\n",
    "markdown_string += \"](http://research.local/sourcenet/sourcenet/article/article_data/view_with_text/?article_id=\"\n",
    "markdown_string += article_id\n",
    "markdown_string += \") | Article_Data [\"\n",
    "markdown_string += article_data_id\n",
    "markdown_string += \"](http://research.local/sourcenet/sourcenet/article/article_data/view/?article_id=\"\n",
    "markdown_string += article_id\n",
    "markdown_string += \"&article_data_id_select=\"\n",
    "markdown_string += article_data_id\n",
    "markdown_string += \") | \"\n",
    "markdown_string += article_subject\n",
    "markdown_string += \" |\"\n",
    "\n",
    "print( \"Reliability_Names removal Markdown:\\n\" + markdown_string )"
   ]
  },
  {
   "cell_type": "markdown",
   "metadata": {
    "deletable": true,
    "editable": true
   },
   "source": [
    "Reliability_Names records merged:"
   ]
  },
  {
   "cell_type": "markdown",
   "metadata": {
    "deletable": true,
    "editable": true
   },
   "source": [
    "| ID FROM | ID INTO | Article | Article_Data | Article_Subject |\n",
    "|------|------|------|------|------|\n",
    "| 9506 | 9507 | Article [21049](http://research.local/sourcenet/sourcenet/article/article_data/view_with_text/?article_id=21049) | FROM [3034](http://research.local/sourcenet/sourcenet/article/article_data/view/?article_id=21049&article_data_id_select=3034)<br />TO [2443](http://research.local/sourcenet/sourcenet/article/article_data/view/?article_id=21049&article_data_id_select=2443) | 8494 (AS) - Reyes, Ivette ( id = 1899; capture_method = None ) (quoted; individual) ( quotes: 1; mentions: 1 ) ==> Name: Ivette Reyes |\n"
   ]
  },
  {
   "cell_type": "code",
   "execution_count": null,
   "metadata": {
    "collapsed": false,
    "deletable": true,
    "editable": true
   },
   "outputs": [],
   "source": [
    "reliability_names_id_from = \"9506\"\n",
    "reliability_names_id_to = \"9507\"\n",
    "article_id = \"21049\"\n",
    "article_data_id_from = \"3034\"\n",
    "article_data_id_to = \"2443\"\n",
    "article_subject = \"8494 (AS) - Reyes, Ivette ( id = 1899; capture_method = None ) (quoted; individual) ( quotes: 1; mentions: 1 ) ==> Name: Ivette Reyes\"\n",
    "\n",
    "markdown_string = \"| \"\n",
    "markdown_string += reliability_names_id_from\n",
    "markdown_string += \" | \"\n",
    "markdown_string += reliability_names_id_to\n",
    "markdown_string += \" | Article [\"\n",
    "markdown_string += article_id\n",
    "markdown_string += \"](http://research.local/sourcenet/sourcenet/article/article_data/view_with_text/?article_id=\"\n",
    "markdown_string += article_id\n",
    "markdown_string += \") | FROM [\"\n",
    "markdown_string += article_data_id_from\n",
    "markdown_string += \"](http://research.local/sourcenet/sourcenet/article/article_data/view/?article_id=\"\n",
    "markdown_string += article_id\n",
    "markdown_string += \"&article_data_id_select=\"\n",
    "markdown_string += article_data_id_from\n",
    "markdown_string += \") TO [\"\n",
    "markdown_string += article_data_id_to\n",
    "markdown_string += \"](http://research.local/sourcenet/sourcenet/article/article_data/view/?article_id=\"\n",
    "markdown_string += article_id\n",
    "markdown_string += \"&article_data_id_select=\"\n",
    "markdown_string += article_data_id_to\n",
    "markdown_string += \") | \"\n",
    "markdown_string += article_subject\n",
    "markdown_string += \" |\"\n",
    "\n",
    "print( \"Reliabilty_Names merge Markdown:\\n\" + markdown_string )"
   ]
  },
  {
   "cell_type": "markdown",
   "metadata": {
    "deletable": true,
    "editable": true
   },
   "source": [
    "# Tools\n",
    "\n",
    "- Back to [Table of Contents](#Table-of-Contents)"
   ]
  },
  {
   "cell_type": "markdown",
   "metadata": {
    "deletable": true,
    "editable": true
   },
   "source": [
    "## Tool - copy Article_Data to user ground_truth\n",
    "\n",
    "- Back to [Table of Contents](#Table-of-Contents)\n",
    "\n",
    "Retrieve the ground truth user, then make a deep copy of an Article_Data record, assigning it to the ground truth user."
   ]
  },
  {
   "cell_type": "code",
   "execution_count": 6,
   "metadata": {
    "collapsed": false,
    "deletable": true,
    "editable": true
   },
   "outputs": [
    {
     "name": "stdout",
     "output_type": "stream",
     "text": [
      "Original Article_Data ID = 2489; Copy Article_Data ID = 3315\n",
      "\n",
      "\n",
      "Article_Data_Notes ( count = 1 ):\n",
      "- 2249 - Person Store JSON (likely from manual coding via article-code view). of type \"json\" for article_data: 2489 - minnesota2 - no coder_type -- Article: 21130 - Dec 05, 2009, State ( A7 ), UID: 12C757A204126F48 - Meekhof to declare candidacy - The state representative plans to run for a state Senate seat ( Grand Rapids Press, The )\n",
      "\n",
      "Article_Author ( count = 1 ):\n",
      "\n",
      "- 2569 (AA) - Scott, Monica ( id = 178; type = staff; capture_method = OpenCalais_REST_API_v2 )\n",
      "\n",
      "----> Alternate_Author_Match ( count = 0 ):\n",
      "\n",
      "Article_Subject ( count = 6 ):\n",
      "\n",
      "- 8716 (AS) - Meekhof, Arlan ( id = 1445; capture_method = Manual_Coding ) (quoted; individual)\n",
      "\n",
      "----> Alternate_Subject_Match ( count = 0 ):\n",
      "\n",
      "----> Article_Subject_Mention ( count = 1 ):\n",
      "----> - 22241 -  ( graf: 1; from word: 2; to word: 3; index: 5 ) - 8716 (AS) - Meekhof, Arlan ( id = 1445; capture_method = Manual_Coding ) (quoted; individual) : Arlan Meekhof\n",
      "\n",
      "----> Article_Subject_Quotation ( count = 1 ):\n",
      "----> - 9056 -  ( graf: 4; from word: 77; to word: 88; index: 472 ) - 8716 (AS) - Meekhof, Arlan ( id = 1445; capture_method = Manual_Coding ) (quoted; individual) : \"People are engaged with government like I've never seen before,\" he said.\n",
      "\n",
      "----> Subject_Organization ( count = 0 ):\n",
      "\n",
      "- 8717 (AS) - Kuipers, Wayne ( id = 290; capture_method = OpenCalais_REST_API_v2 ) (mentioned; individual)\n",
      "\n",
      "----> Alternate_Subject_Match ( count = 0 ):\n",
      "\n",
      "----> Article_Subject_Mention ( count = 1 ):\n",
      "----> - 22242 -  ( graf: 2; from word: 25; to word: 26; index: 160 ) - 8717 (AS) - Kuipers, Wayne ( id = 290; capture_method = OpenCalais_REST_API_v2 ) (mentioned; individual) : Wayne Kuipers\n",
      "\n",
      "----> Article_Subject_Quotation ( count = 0 ):\n",
      "\n",
      "----> Subject_Organization ( count = 0 ):\n",
      "\n",
      "- 8718 (AS) - Agema, David ( id = 2014; capture_method = OpenCalais_REST_API_v2 ) (quoted; individual)\n",
      "\n",
      "----> Alternate_Subject_Match ( count = 0 ):\n",
      "\n",
      "----> Article_Subject_Mention ( count = 1 ):\n",
      "----> - 22243 -  ( graf: 5; from word: 122; to word: 123; index: 736 ) - 8718 (AS) - Agema, David ( id = 2014; capture_method = OpenCalais_REST_API_v2 ) (quoted; individual) : David Agema\n",
      "\n",
      "----> Article_Subject_Quotation ( count = 1 ):\n",
      "----> - 9057 -  ( graf: 5; from word: 144; to word: 152; index: 881 ) - 8718 (AS) - Agema, David ( id = 2014; capture_method = OpenCalais_REST_API_v2 ) (quoted; individual) : But Agema said he is leaning toward not running.\n",
      "\n",
      "----> Subject_Organization ( count = 0 ):\n",
      "\n",
      "- 8719 (AS) - Krueger ( id = 2015; capture_method = None ) (quoted; individual)\n",
      "\n",
      "----> Alternate_Subject_Match ( count = 0 ):\n",
      "\n",
      "----> Article_Subject_Mention ( count = 1 ):\n",
      "----> - 22244 -  ( graf: 5; from word: 130; to word: 130; index: 791 ) - 8719 (AS) - Krueger ( id = 2015; capture_method = None ) (quoted; individual) : Krueger\n",
      "\n",
      "----> Article_Subject_Quotation ( count = 1 ):\n",
      "----> - 9058 -  ( graf: 5; from word: 121; to word: 143; index: 731 ) - 8719 (AS) - Krueger ( id = 2015; capture_method = None ) (quoted; individual) : Rep. David Agema, R-Grandville, and Ottawa County Clerk Dan Krueger, also a Republican, said they are considering running for the 30th District seat.\n",
      "\n",
      "----> Subject_Organization ( count = 0 ):\n",
      "\n",
      "- 8720 (AS) - Miller, David ( id = 2016; capture_method = OpenCalais_REST_API_v2 ) (quoted; individual)\n",
      "\n",
      "----> Alternate_Subject_Match ( count = 0 ):\n",
      "\n",
      "----> Article_Subject_Mention ( count = 1 ):\n",
      "----> - 22245 -  ( graf: 6; from word: 167; to word: 168; index: 1004 ) - 8720 (AS) - Miller, David ( id = 2016; capture_method = OpenCalais_REST_API_v2 ) (quoted; individual) : David Miller\n",
      "\n",
      "----> Article_Subject_Quotation ( count = 1 ):\n",
      "----> - 9059 -  ( graf: 9; from word: 237; to word: 245; index: 1400 ) - 8720 (AS) - Miller, David ( id = 2016; capture_method = OpenCalais_REST_API_v2 ) (quoted; individual) : \"My focus is primarily the jobs issue,\" Miller said.\n",
      "\n",
      "----> Subject_Organization ( count = 0 ):\n",
      "\n",
      "- 8721 (AS) - Hall, Brandon ( id = 2017; capture_method = OpenCalais_REST_API_v2 ) (mentioned; individual)\n",
      "\n",
      "----> Alternate_Subject_Match ( count = 0 ):\n",
      "\n",
      "----> Article_Subject_Mention ( count = 1 ):\n",
      "----> - 22246 -  ( graf: 6; from word: 186; to word: 187; index: 1112 ) - 8721 (AS) - Hall, Brandon ( id = 2017; capture_method = OpenCalais_REST_API_v2 ) (mentioned; individual) : Brandon Hall\n",
      "\n",
      "----> Article_Subject_Quotation ( count = 0 ):\n",
      "\n",
      "----> Subject_Organization ( count = 0 ):\n",
      "\n",
      "\n",
      "====================\n",
      "Results:\n",
      "====================\n",
      "\n",
      "\n",
      "NO ERRORS!\n",
      "Record copy a success (as far as we know)!\n",
      "copied Article_Data id 2489 INTO Article_Data id 3315 at 2017-03-14 05:48:45.780312\n"
     ]
    }
   ],
   "source": [
    "# declare variables\n",
    "ground_truth_user = None\n",
    "ground_truth_user_id = -1\n",
    "id_of_article_data_to_copy = -1\n",
    "new_article_data = None\n",
    "new_article_data_id = -1\n",
    "validation_error_list = None\n",
    "validation_error_count = -1\n",
    "validation_error = None\n",
    "\n",
    "# set ID of article data we want to copy.\n",
    "id_of_article_data_to_copy = 2489\n",
    "\n",
    "# get the ground_truth user's ID.\n",
    "ground_truth_user = SourcenetBase.get_ground_truth_coding_user()\n",
    "ground_truth_user_id = ground_truth_user.id\n",
    "\n",
    "# make the copy\n",
    "new_article_data = Article_Data.make_deep_copy( id_of_article_data_to_copy,\n",
    "                                                new_coder_user_id_IN = ground_truth_user_id )\n",
    "new_article_data_id = new_article_data.id\n",
    "\n",
    "# validate it.\n",
    "validation_error_list = Article_Data_Copy_Tester.validate_article_data_deep_copy( original_article_data_id_IN = id_of_article_data_to_copy,\n",
    "                                                                                  copy_article_data_id_IN = new_article_data_id,\n",
    "                                                                                  copy_coder_user_id_IN = ground_truth_user_id )\n",
    "\n",
    "# get error count:\n",
    "validation_error_count = len( validation_error_list )\n",
    "if ( validation_error_count > 0 ):\n",
    "    \n",
    "    # loop and output messages\n",
    "    for validation_error in validation_error_list:\n",
    "        \n",
    "        print( \"- Validation erorr: \" + str( validation_error ) )\n",
    "        \n",
    "    #-- END loop over validation errors. --#\n",
    "    \n",
    "else:\n",
    "\n",
    "    # no errors - success!\n",
    "    print( \"Record copy a success (as far as we know)!\" )\n",
    "    \n",
    "#-- END check to see if validation errors --#\n",
    "\n",
    "print( \"copied Article_Data id \" + str( id_of_article_data_to_copy ) + \" INTO Article_Data id \" + str( new_article_data_id ) + \" at \" + str( datetime.datetime.now() ) )"
   ]
  },
  {
   "cell_type": "markdown",
   "metadata": {
    "deletable": true,
    "editable": true
   },
   "source": [
    "## Tool - delete Article_Data\n",
    "\n",
    "- Back to [Table of Contents](#Table-of-Contents)\n",
    "\n",
    "Delete the Article_Data whose ID you specify (intended only when you accidentally create a \"`ground_truth`\" ."
   ]
  },
  {
   "cell_type": "code",
   "execution_count": 5,
   "metadata": {
    "collapsed": false,
    "deletable": true,
    "editable": true
   },
   "outputs": [
    {
     "ename": "DoesNotExist",
     "evalue": "Article_Data matching query does not exist.",
     "output_type": "error",
     "traceback": [
      "\u001b[0;31m---------------------------------------------------------------------------\u001b[0m",
      "\u001b[0;31mDoesNotExist\u001b[0m                              Traceback (most recent call last)",
      "\u001b[0;32m<ipython-input-5-bfa2e107327b>\u001b[0m in \u001b[0;36m<module>\u001b[0;34m()\u001b[0m\n\u001b[1;32m      8\u001b[0m \u001b[0;34m\u001b[0m\u001b[0m\n\u001b[1;32m      9\u001b[0m \u001b[0;31m# get model instance\u001b[0m\u001b[0;34m\u001b[0m\u001b[0;34m\u001b[0m\u001b[0m\n\u001b[0;32m---> 10\u001b[0;31m \u001b[0marticle_data\u001b[0m \u001b[0;34m=\u001b[0m \u001b[0mArticle_Data\u001b[0m\u001b[0;34m.\u001b[0m\u001b[0mobjects\u001b[0m\u001b[0;34m.\u001b[0m\u001b[0mget\u001b[0m\u001b[0;34m(\u001b[0m \u001b[0mid\u001b[0m \u001b[0;34m=\u001b[0m \u001b[0marticle_data_id\u001b[0m \u001b[0;34m)\u001b[0m\u001b[0;34m\u001b[0m\u001b[0m\n\u001b[0m\u001b[1;32m     11\u001b[0m \u001b[0;34m\u001b[0m\u001b[0m\n\u001b[1;32m     12\u001b[0m \u001b[0;31m# got something?\u001b[0m\u001b[0;34m\u001b[0m\u001b[0;34m\u001b[0m\u001b[0m\n",
      "\u001b[0;32m/home/jonathanmorgan/.virtualenvs/sourcenet/lib/python3.5/site-packages/django/db/models/manager.py\u001b[0m in \u001b[0;36mmanager_method\u001b[0;34m(self, *args, **kwargs)\u001b[0m\n\u001b[1;32m     83\u001b[0m         \u001b[0;32mdef\u001b[0m \u001b[0mcreate_method\u001b[0m\u001b[0;34m(\u001b[0m\u001b[0mname\u001b[0m\u001b[0;34m,\u001b[0m \u001b[0mmethod\u001b[0m\u001b[0;34m)\u001b[0m\u001b[0;34m:\u001b[0m\u001b[0;34m\u001b[0m\u001b[0m\n\u001b[1;32m     84\u001b[0m             \u001b[0;32mdef\u001b[0m \u001b[0mmanager_method\u001b[0m\u001b[0;34m(\u001b[0m\u001b[0mself\u001b[0m\u001b[0;34m,\u001b[0m \u001b[0;34m*\u001b[0m\u001b[0margs\u001b[0m\u001b[0;34m,\u001b[0m \u001b[0;34m**\u001b[0m\u001b[0mkwargs\u001b[0m\u001b[0;34m)\u001b[0m\u001b[0;34m:\u001b[0m\u001b[0;34m\u001b[0m\u001b[0m\n\u001b[0;32m---> 85\u001b[0;31m                 \u001b[0;32mreturn\u001b[0m \u001b[0mgetattr\u001b[0m\u001b[0;34m(\u001b[0m\u001b[0mself\u001b[0m\u001b[0;34m.\u001b[0m\u001b[0mget_queryset\u001b[0m\u001b[0;34m(\u001b[0m\u001b[0;34m)\u001b[0m\u001b[0;34m,\u001b[0m \u001b[0mname\u001b[0m\u001b[0;34m)\u001b[0m\u001b[0;34m(\u001b[0m\u001b[0;34m*\u001b[0m\u001b[0margs\u001b[0m\u001b[0;34m,\u001b[0m \u001b[0;34m**\u001b[0m\u001b[0mkwargs\u001b[0m\u001b[0;34m)\u001b[0m\u001b[0;34m\u001b[0m\u001b[0m\n\u001b[0m\u001b[1;32m     86\u001b[0m             \u001b[0mmanager_method\u001b[0m\u001b[0;34m.\u001b[0m\u001b[0m__name__\u001b[0m \u001b[0;34m=\u001b[0m \u001b[0mmethod\u001b[0m\u001b[0;34m.\u001b[0m\u001b[0m__name__\u001b[0m\u001b[0;34m\u001b[0m\u001b[0m\n\u001b[1;32m     87\u001b[0m             \u001b[0mmanager_method\u001b[0m\u001b[0;34m.\u001b[0m\u001b[0m__doc__\u001b[0m \u001b[0;34m=\u001b[0m \u001b[0mmethod\u001b[0m\u001b[0;34m.\u001b[0m\u001b[0m__doc__\u001b[0m\u001b[0;34m\u001b[0m\u001b[0m\n",
      "\u001b[0;32m/home/jonathanmorgan/.virtualenvs/sourcenet/lib/python3.5/site-packages/django/db/models/query.py\u001b[0m in \u001b[0;36mget\u001b[0;34m(self, *args, **kwargs)\u001b[0m\n\u001b[1;32m    383\u001b[0m             raise self.model.DoesNotExist(\n\u001b[1;32m    384\u001b[0m                 \u001b[0;34m\"%s matching query does not exist.\"\u001b[0m \u001b[0;34m%\u001b[0m\u001b[0;34m\u001b[0m\u001b[0m\n\u001b[0;32m--> 385\u001b[0;31m                 \u001b[0mself\u001b[0m\u001b[0;34m.\u001b[0m\u001b[0mmodel\u001b[0m\u001b[0;34m.\u001b[0m\u001b[0m_meta\u001b[0m\u001b[0;34m.\u001b[0m\u001b[0mobject_name\u001b[0m\u001b[0;34m\u001b[0m\u001b[0m\n\u001b[0m\u001b[1;32m    386\u001b[0m             )\n\u001b[1;32m    387\u001b[0m         raise self.model.MultipleObjectsReturned(\n",
      "\u001b[0;31mDoesNotExist\u001b[0m: Article_Data matching query does not exist."
     ]
    }
   ],
   "source": [
    "# declare variables\n",
    "article_data_id = -1\n",
    "article_data = None\n",
    "do_delete = False\n",
    "\n",
    "# set ID.\n",
    "article_data_id = 3314\n",
    "\n",
    "# get model instance\n",
    "article_data = Article_Data.objects.get( id = article_data_id )\n",
    "\n",
    "# got something?\n",
    "if ( article_data is not None ):\n",
    "    \n",
    "    # yes.  Delete?\n",
    "    if ( do_delete == True ):\n",
    "        \n",
    "        # delete.\n",
    "        print( \"Deleting Article_Data: \" + str( article_data ) )\n",
    "        article_data.delete()\n",
    "    \n",
    "    else:\n",
    "        \n",
    "        # no delete.\n",
    "        print( \"Found Article_Data: \" + str( article_data ) + \", but not deleting.\" )\n",
    "        \n",
    "    #-- END check to see if we delete --#\n",
    "    \n",
    "#-- END check to see if Article_Data match. --#"
   ]
  },
  {
   "cell_type": "markdown",
   "metadata": {
    "deletable": true,
    "editable": true
   },
   "source": [
    "# Notes\n",
    "\n",
    "- Back to [Table of Contents](#Table-of-Contents)\n",
    "\n",
    "Notes:\n",
    "\n",
    "- what to do about a misspelled name within an article?  Single name - removing all.  But making note:\n",
    "\n",
    "    - In article 21080, Reliability_Names 9583, name = Culter, should have been Cutler - quoted, graf: 13, index: 1322\n",
    "    \n",
    "        - single name, remove it - but, this will cut both ways - when both name parts present, sometimes will work out, sometimes will be false positive.\n",
    "    \n",
    "- What to do about single last name that is the correct last name of a person where the other name parts were detected by a person?  Leave it in and map it to the correct Article_Data?\n",
    "- Obama?  One name, but it is a well-known one, and preceded by \"President\".  Still, single name, removed it.\n",
    "    \n",
    "Errors:\n",
    "\n",
    "- Article 21116\n",
    "\n",
    "    - Paragraph 12: More than 600 works of art were added to the museum's collection under her leadership, most notably Ellsworth Kelly's \"Blue White,\" a 25-foot- tall wall sculpture that was commissioned in 2006 for the museum's entry pavilion.\n",
    "    - User: 2 - automated (OpenCalais_REST_API_v2)\n",
    "    - 11288 (AS) - More ( id = 2817; capture_method = OpenCalais_REST_API_v2 ) (mentioned; individual) ==> name: More"
   ]
  },
  {
   "cell_type": "markdown",
   "metadata": {
    "deletable": true,
    "editable": true
   },
   "source": [
    "# TODO\n",
    "\n",
    "- Back to [Table of Contents](#Table-of-Contents)\n",
    "\n",
    "TODO:\n",
    "\n",
    "- TK"
   ]
  },
  {
   "cell_type": "markdown",
   "metadata": {
    "deletable": true,
    "editable": true
   },
   "source": [
    "# Coding to look into\n",
    "\n",
    "- Back to [Table of Contents](#Table-of-Contents)\n",
    "\n",
    "Coding decisions to look at more closely:"
   ]
  },
  {
   "cell_type": "markdown",
   "metadata": {
    "deletable": true,
    "editable": true
   },
   "source": [
    "# Debugging\n",
    "\n",
    "- Back to [Table of Contents](#Table-of-Contents)\n",
    "\n",
    "Debuggin:"
   ]
  }
 ],
 "metadata": {
  "kernelspec": {
   "display_name": "sourcenet (Python 3)",
   "language": "python",
   "name": "sourcenet"
  },
  "language_info": {
   "codemirror_mode": {
    "name": "ipython",
    "version": 3
   },
   "file_extension": ".py",
   "mimetype": "text/x-python",
   "name": "python",
   "nbconvert_exporter": "python",
   "pygments_lexer": "ipython3",
   "version": "3.5.2"
  }
 },
 "nbformat": 4,
 "nbformat_minor": 1
}
