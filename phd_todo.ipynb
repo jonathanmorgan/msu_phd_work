{
 "cells": [
  {
   "cell_type": "markdown",
   "metadata": {
    "toc": true
   },
   "source": [
    "<h1>Table of Contents<span class=\"tocSkip\"></span></h1>\n",
    "<div class=\"toc\"><ul class=\"toc-item\"><li><span><a href=\"#Dissertation-proposal\" data-toc-modified-id=\"Dissertation-proposal-1\"><span class=\"toc-item-num\">1&nbsp;&nbsp;</span>Dissertation proposal</a></span></li></ul></div>"
   ]
  },
  {
   "cell_type": "markdown",
   "metadata": {},
   "source": [
    "# Dissertation proposal\n",
    "\n",
    "- Back to [Table of Contents](Table-of-Contents)\n",
    "\n",
    "TODO:\n",
    "\n",
    "- lay out the Journalism-centric thing i’ve been working on.\n",
    "\n",
    "    - start the outline I already wrote, see how it looks.\n",
    "\n",
    "- list of modules I have been preparing for re: dissertation, including all work needed for each, which parts are completed, and a rough estimate timeline for work needed to be done, broken out by task.\n",
    "- a brief dissertation outline based on the work I have already completed, with three papers broken out into details of each.\n",
    "- For the three papers, integrate module estimates with additional work needed for each, which parts are completed, and a rough estimate timeline for work needed to be done, broken out by task.\n",
    "- a narrative for each paper (will try to get into design and methods, including picking data from sets of data I have access to).  For the methods paper, i’ll have a draft completed.\n"
   ]
  }
 ],
 "metadata": {
  "kernelspec": {
   "display_name": "research_virtualenv",
   "language": "python",
   "name": "research"
  },
  "language_info": {
   "codemirror_mode": {
    "name": "ipython",
    "version": 3
   },
   "file_extension": ".py",
   "mimetype": "text/x-python",
   "name": "python",
   "nbconvert_exporter": "python",
   "pygments_lexer": "ipython3",
   "version": "3.6.5"
  },
  "toc": {
   "base_numbering": 1,
   "nav_menu": {},
   "number_sections": true,
   "sideBar": true,
   "skip_h1_title": false,
   "title_cell": "Table of Contents",
   "title_sidebar": "Contents",
   "toc_cell": true,
   "toc_position": {},
   "toc_section_display": true,
   "toc_window_display": true
  }
 },
 "nbformat": 4,
 "nbformat_minor": 2
}
