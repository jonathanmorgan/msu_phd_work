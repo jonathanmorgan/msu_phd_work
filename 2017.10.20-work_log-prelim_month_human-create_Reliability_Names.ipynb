{
 "cells": [
  {
   "cell_type": "markdown",
   "metadata": {},
   "source": [
    "**2017.10.20 - work log - prelim_month_human - create Reliability_Names**"
   ]
  },
  {
   "cell_type": "markdown",
   "metadata": {
    "toc": "true"
   },
   "source": [
    "<h1>Table of Contents<span class=\"tocSkip\"></span></h1>\n",
    "<div class=\"toc\" style=\"margin-top: 1em;\"><ul class=\"toc-item\"><li><span><a href=\"#Setup\" data-toc-modified-id=\"Setup-1\"><span class=\"toc-item-num\">1&nbsp;&nbsp;</span>Setup</a></span><ul class=\"toc-item\"><li><span><a href=\"#Setup---Imports\" data-toc-modified-id=\"Setup---Imports-1.1\"><span class=\"toc-item-num\">1.1&nbsp;&nbsp;</span>Setup - Imports</a></span></li><li><span><a href=\"#Setup---virtualenv-jupyter-kernel\" data-toc-modified-id=\"Setup---virtualenv-jupyter-kernel-1.2\"><span class=\"toc-item-num\">1.2&nbsp;&nbsp;</span>Setup - virtualenv jupyter kernel</a></span></li><li><span><a href=\"#Setup---Initialize-Django\" data-toc-modified-id=\"Setup---Initialize-Django-1.3\"><span class=\"toc-item-num\">1.3&nbsp;&nbsp;</span>Setup - Initialize Django</a></span></li></ul></li><li><span><a href=\"#Testing\" data-toc-modified-id=\"Testing-2\"><span class=\"toc-item-num\">2&nbsp;&nbsp;</span>Testing</a></span></li><li><span><a href=\"#Reliability-data-creation---prelim_month_human\" data-toc-modified-id=\"Reliability-data-creation---prelim_month_human-3\"><span class=\"toc-item-num\">3&nbsp;&nbsp;</span>Reliability data creation - <code>prelim_month_human</code></a></span><ul class=\"toc-item\"><li><span><a href=\"#Create-Reliability_Names-for-prelim_month_human\" data-toc-modified-id=\"Create-Reliability_Names-for-prelim_month_human-3.1\"><span class=\"toc-item-num\">3.1&nbsp;&nbsp;</span>Create <code>Reliability_Names</code> for <code>prelim_month_human</code></a></span></li></ul></li><li><span><a href=\"#Database-backup---sourcenet-2017.10.20.pg.sql.gz\" data-toc-modified-id=\"Database-backup---sourcenet-2017.10.20.pg.sql.gz-4\"><span class=\"toc-item-num\">4&nbsp;&nbsp;</span>Database backup - <code>sourcenet-2017.10.20.pg.sql.gz</code></a></span></li><li><span><a href=\"#Data-cleanup\" data-toc-modified-id=\"Data-cleanup-5\"><span class=\"toc-item-num\">5&nbsp;&nbsp;</span>Data cleanup</a></span><ul class=\"toc-item\"><li><span><a href=\"#Remove-single-name-reliability-data\" data-toc-modified-id=\"Remove-single-name-reliability-data-5.1\"><span class=\"toc-item-num\">5.1&nbsp;&nbsp;</span>Remove single-name reliability data</a></span><ul class=\"toc-item\"><li><span><a href=\"#Single-name-data-assessment\" data-toc-modified-id=\"Single-name-data-assessment-5.1.1\"><span class=\"toc-item-num\">5.1.1&nbsp;&nbsp;</span>Single-name data assessment</a></span></li><li><span><a href=\"#Delete-selected-single-name-data\" data-toc-modified-id=\"Delete-selected-single-name-data-5.1.2\"><span class=\"toc-item-num\">5.1.2&nbsp;&nbsp;</span>Delete selected single-name data</a></span></li></ul></li></ul></li><li><span><a href=\"#Calculate-precision-and-recall\" data-toc-modified-id=\"Calculate-precision-and-recall-6\"><span class=\"toc-item-num\">6&nbsp;&nbsp;</span>Calculate precision and recall</a></span></li><li><span><a href=\"#TODO\" data-toc-modified-id=\"TODO-7\"><span class=\"toc-item-num\">7&nbsp;&nbsp;</span>TODO</a></span></li></ul></div>"
   ]
  },
  {
   "cell_type": "markdown",
   "metadata": {},
   "source": [
    "# Setup\n",
    "\n",
    "- Back to [Table of Contents](#Table-of-Contents)"
   ]
  },
  {
   "cell_type": "markdown",
   "metadata": {},
   "source": [
    "## Setup - Imports\n",
    "\n",
    "- Back to [Table of Contents](#Table-of-Contents)"
   ]
  },
  {
   "cell_type": "code",
   "execution_count": 1,
   "metadata": {},
   "outputs": [
    {
     "name": "stdout",
     "output_type": "stream",
     "text": [
      "packages imported at 2017-10-25 23:50:10.961295\n"
     ]
    }
   ],
   "source": [
    "import datetime\n",
    "import six\n",
    "\n",
    "print( \"packages imported at \" + str( datetime.datetime.now() ) )"
   ]
  },
  {
   "cell_type": "markdown",
   "metadata": {},
   "source": [
    "## Setup - virtualenv jupyter kernel\n",
    "\n",
    "- Back to [Table of Contents](#Table-of-Contents)\n",
    "\n",
    "If you are using a virtualenv, make sure that you:\n",
    "\n",
    "- have installed your virtualenv as a kernel.\n",
    "- choose the kernel for your virtualenv as the kernel for your notebook (Kernel --> Change kernel).\n",
    "\n",
    "Since I use a virtualenv, need to get that activated somehow inside this notebook.  One option is to run `../dev/wsgi.py` in this notebook, to configure the python environment manually as if you had activated the `sourcenet` virtualenv.  To do this, you'd make a code cell that contains:\n",
    "\n",
    "    %run ../dev/wsgi.py\n",
    "    \n",
    "This is sketchy, however, because of the changes it makes to your Python environment within the context of whatever your current kernel is.  I'd worry about collisions with the actual Python 3 kernel.  Better, one can install their virtualenv as a separate kernel.  Steps:\n",
    "\n",
    "- activate your virtualenv:\n",
    "\n",
    "        workon sourcenet\n",
    "\n",
    "- in your virtualenv, install the package `ipykernel`.\n",
    "\n",
    "        pip install ipykernel\n",
    "\n",
    "- use the ipykernel python program to install the current environment as a kernel:\n",
    "\n",
    "        python -m ipykernel install --user --name <env_name> --display-name \"<display_name>\"\n",
    "        \n",
    "    `sourcenet` example:\n",
    "    \n",
    "        python -m ipykernel install --user --name sourcenet --display-name \"sourcenet (Python 3)\"\n",
    "        \n",
    "More details: [http://ipython.readthedocs.io/en/stable/install/kernel_install.html](http://ipython.readthedocs.io/en/stable/install/kernel_install.html)"
   ]
  },
  {
   "cell_type": "code",
   "execution_count": 2,
   "metadata": {},
   "outputs": [
    {
     "data": {
      "text/plain": [
       "'/home/jonathanmorgan/work/sourcenet/django/research/work/msu_phd_work'"
      ]
     },
     "execution_count": 2,
     "metadata": {},
     "output_type": "execute_result"
    }
   ],
   "source": [
    "%pwd"
   ]
  },
  {
   "cell_type": "markdown",
   "metadata": {},
   "source": [
    "## Setup - Initialize Django\n",
    "\n",
    "- Back to [Table of Contents](#Table-of-Contents)\n",
    "\n",
    "First, initialize my dev django project, so I can run code in this notebook that references my django models and can talk to the database using my project's settings."
   ]
  },
  {
   "cell_type": "code",
   "execution_count": 3,
   "metadata": {},
   "outputs": [
    {
     "name": "stdout",
     "output_type": "stream",
     "text": [
      "django initialized at 2017-10-26 03:50:14.391144\n"
     ]
    }
   ],
   "source": [
    "%run django_init.py"
   ]
  },
  {
   "cell_type": "code",
   "execution_count": 4,
   "metadata": {},
   "outputs": [],
   "source": [
    "# django imports\n",
    "from sourcenet.models import Article\n",
    "from sourcenet.shared.sourcenet_base import SourcenetBase\n",
    "from sourcenet_analysis.models import Reliability_Names\n",
    "from sourcenet_analysis.reliability.coder_index_info import CoderIndexInfo\n",
    "from sourcenet_analysis.reliability.index_info import IndexInfo\n",
    "from sourcenet_analysis.reliability.index_helper import IndexHelper"
   ]
  },
  {
   "cell_type": "markdown",
   "metadata": {},
   "source": [
    "# Testing\n",
    "\n",
    "- Back to [Table of Contents](#Table-of-Contents)\n",
    "\n",
    "I made big changes to support my human precision and recall.  Time to test..."
   ]
  },
  {
   "cell_type": "code",
   "execution_count": 5,
   "metadata": {},
   "outputs": [
    {
     "name": "stdout",
     "output_type": "stream",
     "text": [
      "Coder user: jonathanmorgan\n",
      "test_info = user ID: 4, user instance: jonathanmorgan, index: 1, priority: 5\n"
     ]
    }
   ],
   "source": [
    "# first, test the CoderIndexInfo\n",
    "test_info = CoderIndexInfo( 4, None, 1, 5 )\n",
    "\n",
    "# try getting user instance.\n",
    "test_user_instance = test_info.get_coder_user_instance()\n",
    "\n",
    "print( \"Coder user: \" + str( test_user_instance ) )\n",
    "print( \"test_info = \" + str( test_info ) )"
   ]
  },
  {
   "cell_type": "code",
   "execution_count": 6,
   "metadata": {},
   "outputs": [
    {
     "name": "stdout",
     "output_type": "stream",
     "text": [
      ">>>> status = \"\"\n",
      ">>>> status = \"\"\n",
      ">>>> status = \"\"\n",
      ">>>> status = \"\"\n",
      "index info: index: 1\n",
      "====>coder info: {8: <sourcenet_analysis.reliability.coder_index_info.CoderIndexInfo object at 0x7f686fd17dd8>, 9: <sourcenet_analysis.reliability.coder_index_info.CoderIndexInfo object at 0x7f686fd17ef0>, 10: <sourcenet_analysis.reliability.coder_index_info.CoderIndexInfo object at 0x7f686fd17da0>, 13: <sourcenet_analysis.reliability.coder_index_info.CoderIndexInfo object at 0x7f686fd17c50>}\n",
      "--> coder id: 8 = user ID: 8, user instance: minnesota1, index: 1, priority: 3\n",
      "--> coder id: 9 = user ID: 9, user instance: minnesota2, index: 1, priority: 2\n",
      "--> coder id: 10 = user ID: 10, user instance: minnesota3, index: 1, priority: 1\n",
      "--> coder id: 13 = user ID: 13, user instance: ground_truth, index: 1, priority: 4\n"
     ]
    }
   ],
   "source": [
    "# create an index 1\n",
    "test_index_info = IndexInfo()\n",
    "test_index_info.set_index( 1 )\n",
    "\n",
    "# configure as below:\n",
    "\n",
    "# ...the ground truth user has highest priority (4) for index 1...\n",
    "current_coder = SourcenetBase.get_ground_truth_coding_user()\n",
    "current_coder_id = current_coder.id\n",
    "current_priority = 4\n",
    "add_status = test_index_info.add_coder( current_coder_id, priority_IN = current_priority )\n",
    "print( \">>>> status = \\\"{status}\\\"\".format( status = add_status ) )\n",
    "\n",
    "# ...coder ID 8 is priority 3 for index 1...\n",
    "current_coder_id = 8\n",
    "current_index = 1\n",
    "current_priority = 3\n",
    "add_status = test_index_info.add_coder( current_coder_id, priority_IN = current_priority )\n",
    "print( \">>>> status = \\\"{status}\\\"\".format( status = add_status ) )\n",
    "\n",
    "# ...coder ID 9 is priority 2 for index 1...\n",
    "current_coder_id = 9\n",
    "current_index = 1\n",
    "current_priority = 2\n",
    "add_status = test_index_info.add_coder( current_coder_id, priority_IN = current_priority )\n",
    "print( \">>>> status = \\\"{status}\\\"\".format( status = add_status ) )\n",
    "\n",
    "# ...coder ID 10 is priority 1 for index 1...\n",
    "current_coder_id = 10\n",
    "current_index = 1\n",
    "current_priority = 1\n",
    "add_status = test_index_info.add_coder( current_coder_id, priority_IN = current_priority )\n",
    "print( \">>>> status = \\\"{status}\\\"\".format( status = add_status ) )\n",
    "\n",
    "print( \"index info: \" + str( test_index_info ) )\n",
    "\n",
    "test_id_to_info_map = test_index_info.get_coder_id_to_info_map()\n",
    "for coder_user_id, coder_info in six.iteritems( test_id_to_info_map ):\n",
    "    \n",
    "    print( \"--> coder id: \" + str( coder_user_id ) + \" = \" + str( coder_info ) )\n",
    "    \n",
    "#-- END loop over coders in index. --#"
   ]
  },
  {
   "cell_type": "code",
   "execution_count": 7,
   "metadata": {},
   "outputs": [
    {
     "name": "stdout",
     "output_type": "stream",
     "text": [
      "False\n",
      "True\n",
      "True\n",
      "True\n",
      "False\n"
     ]
    }
   ],
   "source": [
    "# create index helper.\n",
    "test_index_helper = IndexHelper()\n",
    "\n",
    "# is valid index?\n",
    "print( test_index_helper.is_index_valid( 0 ) )\n",
    "print( test_index_helper.is_index_valid( 1 ) )\n",
    "print( test_index_helper.is_index_valid( 5 ) )\n",
    "print( test_index_helper.is_index_valid( 10 ) )\n",
    "print( test_index_helper.is_index_valid( 15 ) )"
   ]
  },
  {
   "cell_type": "code",
   "execution_count": 8,
   "metadata": {},
   "outputs": [
    {
     "name": "stdout",
     "output_type": "stream",
     "text": [
      ">>>> status = \"\"\n",
      "\n",
      "\n",
      ">>>> status = \"\"\n",
      "\n",
      "\n",
      ">>>> status = \"\"\n",
      "\n",
      "\n",
      ">>>> status = \"\"\n",
      "\n",
      "\n",
      ">>>> status = \"\"\n",
      "\n",
      "\n",
      ">>>> status = \"\"\n",
      "\n",
      "\n",
      ">>>> status = \"\"\n",
      "\n",
      "\n",
      "\n",
      ">>>> index helper: index-info-map: {1: <sourcenet_analysis.reliability.index_info.IndexInfo object at 0x7f686fd14a58>, 2: <sourcenet_analysis.reliability.index_info.IndexInfo object at 0x7f686fd14e10>}\n",
      "\n",
      ">>>> index info map: {1: <sourcenet_analysis.reliability.index_info.IndexInfo object at 0x7f686fd14a58>, 2: <sourcenet_analysis.reliability.index_info.IndexInfo object at 0x7f686fd14e10>}\n",
      "\n",
      ">>>> index info map: {1: <sourcenet_analysis.reliability.index_info.IndexInfo object at 0x7f686fd14a58>, 2: <sourcenet_analysis.reliability.index_info.IndexInfo object at 0x7f686fd14e10>}\n",
      "\n",
      "\n",
      "--> we;ll see...? : 1 = index: 1\n",
      "====>coder info: {8: <sourcenet_analysis.reliability.coder_index_info.CoderIndexInfo object at 0x7f686fd14f28>, 9: <sourcenet_analysis.reliability.coder_index_info.CoderIndexInfo object at 0x7f686fd14b38>, 10: <sourcenet_analysis.reliability.coder_index_info.CoderIndexInfo object at 0x7f686fd14cf8>, 13: <sourcenet_analysis.reliability.coder_index_info.CoderIndexInfo object at 0x7f686fd14b00>}\n",
      "--> we;ll see...? : 2 = index: 2\n",
      "====>coder info: {8: <sourcenet_analysis.reliability.coder_index_info.CoderIndexInfo object at 0x7f686fd14c88>, 9: <sourcenet_analysis.reliability.coder_index_info.CoderIndexInfo object at 0x7f686fd14b70>, 10: <sourcenet_analysis.reliability.coder_index_info.CoderIndexInfo object at 0x7f686fd14cc0>}\n"
     ]
    }
   ],
   "source": [
    "# create index helper.\n",
    "#test_index_helper = IndexHelper()\n",
    "\n",
    "# ==> Index 1: human plus ground truth - set it up so that...\n",
    "\n",
    "# configure as below:\n",
    "\n",
    "# ...the ground truth user has highest priority (4) for index 1...\n",
    "current_coder = SourcenetBase.get_ground_truth_coding_user()\n",
    "current_coder_id = current_coder.id\n",
    "current_index = 1\n",
    "current_priority = 4\n",
    "add_status = test_index_helper.add_coder_at_index( current_coder_id, current_index, priority_IN = current_priority )\n",
    "print( \">>>> status = \\\"{status}\\\"\\n\\n\".format( status = add_status ) )\n",
    "\n",
    "# ...coder ID 8 is priority 3 for index 1...\n",
    "current_coder_id = 8\n",
    "current_index = 1\n",
    "current_priority = 3\n",
    "add_status = test_index_helper.add_coder_at_index( current_coder_id, current_index, priority_IN = current_priority )\n",
    "print( \">>>> status = \\\"{status}\\\"\\n\\n\".format( status = add_status ) )\n",
    "\n",
    "# ...coder ID 9 is priority 2 for index 1...\n",
    "current_coder_id = 9\n",
    "current_index = 1\n",
    "current_priority = 2\n",
    "add_status = test_index_helper.add_coder_at_index( current_coder_id, current_index, priority_IN = current_priority )\n",
    "print( \">>>> status = \\\"{status}\\\"\\n\\n\".format( status = add_status ) )\n",
    "\n",
    "# ...coder ID 10 is priority 1 for index 1...\n",
    "current_coder_id = 10\n",
    "current_index = 1\n",
    "current_priority = 1\n",
    "add_status = test_index_helper.add_coder_at_index( current_coder_id, current_index, priority_IN = current_priority )\n",
    "print( \">>>> status = \\\"{status}\\\"\\n\\n\".format( status = add_status ) )\n",
    "\n",
    "# ==> Index 2: human (not ground truth) - set it up so that...\n",
    "\n",
    "# coder ID 8 is priority 3 for index 2...\n",
    "current_coder_id = 8\n",
    "current_index = 2\n",
    "current_priority = 3\n",
    "add_status = test_index_helper.add_coder_at_index( current_coder_id, current_index, priority_IN = current_priority )\n",
    "print( \">>>> status = \\\"{status}\\\"\\n\\n\".format( status = add_status ) )\n",
    "\n",
    "# ...coder ID 9 is priority 2 for index 2...\n",
    "current_coder_id = 9\n",
    "current_index = 2\n",
    "current_priority = 2\n",
    "add_status = test_index_helper.add_coder_at_index( current_coder_id, current_index, priority_IN = current_priority )\n",
    "print( \">>>> status = \\\"{status}\\\"\\n\\n\".format( status = add_status ) )\n",
    "\n",
    "# ...coder ID 10 is priority 1 for index 2...\n",
    "current_coder_id = 10\n",
    "current_index = 2\n",
    "current_priority = 1\n",
    "add_status = test_index_helper.add_coder_at_index( current_coder_id, current_index, priority_IN = current_priority )\n",
    "print( \">>>> status = \\\"{status}\\\"\\n\\n\".format( status = add_status ) )\n",
    "\n",
    "\n",
    "print( \"\\n>>>> index helper: \" + str( test_index_helper ) )\n",
    "print( \"\\n>>>> index info map: \" + str( test_index_helper.m_index_to_info_map ) )\n",
    "\n",
    "test_index_to_info_map = test_index_helper.get_index_to_info_map()\n",
    "\n",
    "print( \"\\n>>>> index info map: \" + str( test_index_to_info_map ) )\n",
    "print( \"\\n\" )\n",
    "\n",
    "for current_index, index_info in six.iteritems( test_index_to_info_map ):\n",
    "    \n",
    "    print( \"--> we;ll see...? : \" + str( current_index ) + \" = \" + str( index_info ) )\n",
    "    \n",
    "#-- END loop over coders in index. --#"
   ]
  },
  {
   "cell_type": "code",
   "execution_count": 9,
   "metadata": {},
   "outputs": [
    {
     "name": "stdout",
     "output_type": "stream",
     "text": [
      "++++ found User: ground_truth\n",
      "++++ found User: minnesota1\n",
      "index 1 coder: ground_truth\n",
      "index 2 coder: minnesota1\n"
     ]
    }
   ],
   "source": [
    "index_1_coder = test_index_helper.get_coder_for_index( 1 )\n",
    "index_2_coder = test_index_helper.get_coder_for_index( 2 )\n",
    "\n",
    "print( \"index 1 coder: {coder1}\".format( coder1 = index_1_coder ) )\n",
    "print( \"index 2 coder: {coder2}\".format( coder2 = index_2_coder ) )"
   ]
  },
  {
   "cell_type": "code",
   "execution_count": 10,
   "metadata": {},
   "outputs": [
    {
     "name": "stdout",
     "output_type": "stream",
     "text": [
      "Coder map: {1: <User: minnesota1>, 2: <User: minnesota1>}\n"
     ]
    }
   ],
   "source": [
    "#article_id = 20813\n",
    "article_id = 20722\n",
    "article_instance = Article.objects.get( id = article_id )\n",
    "coder_map = test_index_helper.map_index_to_coder_for_article( article_instance )\n",
    "print( \"Coder map: {coder_map}\".format( coder_map = str( coder_map ) ) )"
   ]
  },
  {
   "cell_type": "code",
   "execution_count": 11,
   "metadata": {},
   "outputs": [
    {
     "name": "stdout",
     "output_type": "stream",
     "text": [
      "prelim_month_human count = 0\n"
     ]
    }
   ],
   "source": [
    "# get all Reliability_Names with label = \"prelim_month_human\".\n",
    "reliability_names_qs = Reliability_Names.objects.filter( label = \"prelim_month_human\" )\n",
    "item_count = reliability_names_qs.count()\n",
    "print( \"prelim_month_human count = \" + str( item_count ) )\n",
    "do_delete = False\n",
    "if ( ( item_count > 0 ) and ( do_delete == True ) ):\n",
    "    \n",
    "    for instance in reliability_names_qs:\n",
    "\n",
    "        # delete.\n",
    "        instance.delete()\n",
    "\n",
    "    #-- END loop --#\n",
    "    \n",
    "#-- END check to see if anything to delete. --#"
   ]
  },
  {
   "cell_type": "markdown",
   "metadata": {},
   "source": [
    "# Reliability data creation - `prelim_month_human`\n",
    "\n",
    "- Back to [Table of Contents](#Table-of-Contents)\n",
    "\n",
    "Plan:\n",
    "\n",
    "- create Reliability_Names data for ground_truth plus human coders in index 1, human coders without ground_truth in index 2.\n",
    "- remove single names.\n",
    "- calculate precision and recall on humans against ground truth."
   ]
  },
  {
   "cell_type": "markdown",
   "metadata": {},
   "source": [
    "## Create `Reliability_Names` for `prelim_month_human`\n",
    "\n",
    "- Back to [Table of Contents](#Table-of-Contents)"
   ]
  },
  {
   "cell_type": "markdown",
   "metadata": {},
   "source": [
    "First, check to see if the label \"`prelim_month_human`\" is in use:\n",
    "\n",
    "    SELECT DISTINCT label\n",
    "    FROM sourcenet_analysis_reliability_names\n",
    "    ORDER BY label ASC;\n",
    "\n",
    "Results:\n",
    "\n",
    "    name_data_test_combined_human\n",
    "    prelim_month\n",
    "    prelim_month_exclude\n",
    "    prelim_network\n",
    "    prelim_network_combined\n",
    "    prelim_reliability\n",
    "    prelim_reliability_combined_all\n",
    "    prelim_reliability_combined_all_final\n",
    "    prelim_reliability_combined_human\n",
    "    prelim_reliability_combined_human_final\n",
    "    prelim_reliability_test\n",
    "    prelim_reliability_test_all\n",
    "    prelim_reliability_test_human\n",
    "    prelim_reliability_v2\n",
    "    prelim_training_002\n",
    "    prelim_training_003\n",
    "    \n",
    "Not in use."
   ]
  },
  {
   "cell_type": "markdown",
   "metadata": {},
   "source": [
    "Now, run code to actually build the Reliability_Names."
   ]
  },
  {
   "cell_type": "code",
   "execution_count": 12,
   "metadata": {},
   "outputs": [
    {
     "data": {
      "text/plain": [
       "''"
      ]
     },
     "execution_count": 12,
     "metadata": {},
     "output_type": "execute_result"
    }
   ],
   "source": [
    "from __future__ import unicode_literals\n",
    "\n",
    "# django imports\n",
    "from django.contrib.auth.models import User\n",
    "\n",
    "# sourcenet imports\n",
    "from sourcenet.shared.sourcenet_base import SourcenetBase\n",
    "\n",
    "# sourcenet_analysis imports\n",
    "from sourcenet_analysis.reliability.reliability_names_builder import ReliabilityNamesBuilder\n",
    "\n",
    "# declare variables\n",
    "my_reliability_instance = None\n",
    "tag_list = None\n",
    "label = \"\"\n",
    "do_work = True\n",
    "\n",
    "# declare variables - user setup\n",
    "current_coder = None\n",
    "current_coder_id = -1\n",
    "current_index = -1\n",
    "current_priority = -1\n",
    "\n",
    "# declare variables - Article_Data filtering.\n",
    "coder_type = \"\"\n",
    "\n",
    "# make reliability instance\n",
    "my_reliability_instance = ReliabilityNamesBuilder()\n",
    "\n",
    "#===============================================================================\n",
    "# configure\n",
    "#===============================================================================\n",
    "\n",
    "# list of tags of articles we want to process.\n",
    "tag_list = [ \"grp_month\", ]\n",
    "\n",
    "# label to associate with results, for subsequent lookup.\n",
    "label = \"prelim_month_human\"\n",
    "\n",
    "# ! ====> map coders to indices\n",
    "\n",
    "# ==> Index 1: set it up so that...\n",
    "\n",
    "# ...the ground truth user has highest priority (4) for index 1...\n",
    "current_coder = SourcenetBase.get_ground_truth_coding_user()\n",
    "current_coder_id = current_coder.id\n",
    "current_index = 1\n",
    "current_priority = 4\n",
    "my_reliability_instance.add_coder_at_index( current_coder_id, current_index, priority_IN = current_priority )\n",
    "\n",
    "# ...coder ID 8 is priority 3 for index 1...\n",
    "current_coder_id = 8\n",
    "current_index = 1\n",
    "current_priority = 3\n",
    "my_reliability_instance.add_coder_at_index( current_coder_id, current_index, priority_IN = current_priority )\n",
    "\n",
    "# ...coder ID 9 is priority 2 for index 1...\n",
    "current_coder_id = 9\n",
    "current_index = 1\n",
    "current_priority = 2\n",
    "my_reliability_instance.add_coder_at_index( current_coder_id, current_index, priority_IN = current_priority )\n",
    "\n",
    "# ...coder ID 10 is priority 1 for index 1...\n",
    "current_coder_id = 10\n",
    "current_index = 1\n",
    "current_priority = 1\n",
    "my_reliability_instance.add_coder_at_index( current_coder_id, current_index, priority_IN = current_priority )\n",
    "\n",
    "# ==> Index 2: human (not ground truth) - set it up so that...\n",
    "\n",
    "# coder ID 8 is priority 3 for index 2...\n",
    "current_coder_id = 8\n",
    "current_index = 2\n",
    "current_priority = 3\n",
    "my_reliability_instance.add_coder_at_index( current_coder_id, current_index, priority_IN = current_priority )\n",
    "\n",
    "# ...coder ID 9 is priority 2 for index 2...\n",
    "current_coder_id = 9\n",
    "current_index = 2\n",
    "current_priority = 2\n",
    "my_reliability_instance.add_coder_at_index( current_coder_id, current_index, priority_IN = current_priority )\n",
    "\n",
    "# ...coder ID 10 is priority 1 for index 2...\n",
    "current_coder_id = 10\n",
    "current_index = 2\n",
    "current_priority = 1\n",
    "my_reliability_instance.add_coder_at_index( current_coder_id, current_index, priority_IN = current_priority )\n",
    "\n",
    "# and only look at coding by those users.\n",
    "\n",
    "# output debug JSON to file\n",
    "#my_reliability_instance.debug_output_json_file_path = \"/home/jonathanmorgan/\" + label + \".json\""
   ]
  },
  {
   "cell_type": "code",
   "execution_count": 13,
   "metadata": {},
   "outputs": [
    {
     "name": "stdout",
     "output_type": "stream",
     "text": [
      "index_helper: index-info-map: {1: <sourcenet_analysis.reliability.index_info.IndexInfo object at 0x7f686f48d898>, 2: <sourcenet_analysis.reliability.index_info.IndexInfo object at 0x7f686f48def0>}\n"
     ]
    }
   ],
   "source": [
    "print( \"index_helper: {helper_instance}\".format( helper_instance = str( my_reliability_instance.get_index_helper() ) ) )"
   ]
  },
  {
   "cell_type": "code",
   "execution_count": 14,
   "metadata": {},
   "outputs": [
    {
     "name": "stdout",
     "output_type": "stream",
     "text": [
      "Coder map: {1: <User: ground_truth>, 2: <User: minnesota3>}\n"
     ]
    }
   ],
   "source": [
    "article_id = 20813\n",
    "#article_id = 20722\n",
    "article_instance = Article.objects.get( id = article_id )\n",
    "coder_map = my_reliability_instance.map_index_to_coder_for_article( article_instance )\n",
    "print( \"Coder map: {coder_map}\".format( coder_map = str( coder_map ) ) )"
   ]
  },
  {
   "cell_type": "code",
   "execution_count": null,
   "metadata": {},
   "outputs": [],
   "source": [
    "#===============================================================================\n",
    "# process articles\n",
    "#===============================================================================\n",
    "\n",
    "do_work = True\n",
    "if ( do_work == True ):\n",
    "\n",
    "    # process articles\n",
    "    my_reliability_instance.process_articles( tag_list )\n",
    "\n",
    "    # output to database.\n",
    "    #my_reliability_instance.output_reliability_data( label )\n",
    "\n",
    "    print( \"reliability data created at \" + str( datetime.datetime.now() ) )\n",
    "    \n",
    "#-- END check to see if we do work. --#"
   ]
  },
  {
   "cell_type": "code",
   "execution_count": null,
   "metadata": {},
   "outputs": [],
   "source": [
    "#===============================================================================\n",
    "# output data\n",
    "#===============================================================================\n",
    "\n",
    "do_work = True\n",
    "if ( do_work == True ):\n",
    "\n",
    "    # process articles\n",
    "    #my_reliability_instance.process_articles( tag_list )\n",
    "\n",
    "    # output to database.\n",
    "    my_reliability_instance.output_reliability_data( label )\n",
    "\n",
    "    print( \"reliability data created at \" + str( datetime.datetime.now() ) )\n",
    "    \n",
    "#-- END check to see if we do work. --#"
   ]
  },
  {
   "cell_type": "markdown",
   "metadata": {},
   "source": [
    "    SELECT COUNT( * )\n",
    "    FROM sourcenet_analysis_reliability_names\n",
    "    WHERE label = 'prelim_month';\n",
    "\n",
    "    -- 2446\n",
    "    \n",
    "    SELECT COUNT( * )\n",
    "    FROM sourcenet_analysis_reliability_names\n",
    "    WHERE label = 'prelim_month_human';\n",
    "    \n",
    "    -- 2429"
   ]
  },
  {
   "cell_type": "markdown",
   "metadata": {},
   "source": [
    "# Database backup - `sourcenet-2017.10.20.pg.sql.gz`\n",
    "\n",
    "- Back to [Table of Contents](#Table-of-Contents)\n",
    "\n",
    "First, making backup of database.\n",
    "\n",
    "- File name: `sourcenet-2017.10.20.pg.sql.gz`\n",
    "- command (logged in as postgres user):\n",
    "\n",
    "        pg_dump -O -c --if-exists -C sourcenet | gzip -c > sourcenet-2017.10.20.pg.sql.gz\n",
    "\n",
    "- All articles in tag \"grp_month\" are coded by OpenCalais.\n",
    "- Reliability data generated with label \"prelim_month\" and single name cleanup and disagreement evaluation completed.\n",
    "- Reliability data generated with label \"prelim_month_human\", no cleanup completed yet."
   ]
  },
  {
   "cell_type": "markdown",
   "metadata": {},
   "source": [
    "# Data cleanup\n",
    "\n",
    "- Back to [Table of Contents](#Table-of-Contents)"
   ]
  },
  {
   "cell_type": "markdown",
   "metadata": {
    "collapsed": true
   },
   "source": [
    "## Remove single-name reliability data\n",
    "\n",
    "- Back to [Table of Contents](#Table-of-Contents)\n",
    "\n",
    "Next, remove all reliability data that refers to a single name using the \"View reliability name information\" screen:\n",
    "\n",
    "- [https://research.local/sourcenet/sourcenet/analysis/reliability/names/disagreement/view](https://research.local/sourcenet/sourcenet/analysis/reliability/names/disagreement/view)\n",
    "\n",
    "To start, enter the following in fields there:\n",
    "\n",
    "- Label: - \"prelim_month_human\"\n",
    "- Coders to compare (1 through ==>): - 2\n",
    "- Reliability names filter type: - Select \"Lookup\"\n",
    "- [Lookup] - Person has first name, no other name parts. - CHECK the checkbox\n",
    "\n",
    "You should see entries where a coder detected people who were mentioned only by their first name.\n",
    "\n",
    "For each:"
   ]
  },
  {
   "cell_type": "markdown",
   "metadata": {},
   "source": [
    "### Single-name data assessment\n",
    "\n",
    "- Back to [Table of Contents](#Table-of-Contents)\n",
    "\n",
    "Need to look at each instance where a person has a single name part.\n",
    "\n",
    "Most are probably instances where the computer correctly detected the name part, but where you don't have enough name to match it to a person so the human coding protocol directed them to not capture the name fragment.\n",
    "\n",
    "However, there might be some where a coder made a mistake and just captured a name part for a person whose full name was in the story.  To check, click the \"Article ID\" in the column that has a link to article ID. It will take you to a view of the article where all the people who coded the article are included, with each detection of a mention or quotation displayed next to the paragraph where the person was originally first detected.\n",
    "\n",
    "So for each instance of a single name part:\n",
    "\n",
    "- click on the article ID link in the row to go to the article and check to see if there is person whose name the fragment is a part of ( [https://research.local/sourcenet/sourcenet/article/article_data/view_with_text/](https://research.local/sourcenet/sourcenet/article/article_data/view_with_text/) ).\n",
    "\n",
    "    - If there is a person with a full name to which the name fragment is a reference, check to see if the coder has data for the full person.\n",
    "    \n",
    "        - if not, merge:\n",
    "        \n",
    "            - go to the disagreement view page: [https://research.local/sourcenet/sourcenet/analysis/reliability/names/disagreement/view](https://research.local/sourcenet/sourcenet/analysis/reliability/names/disagreement/view)\n",
    "            - Configure:\n",
    "\n",
    "                - Label: - \"prelim_month\"\n",
    "                - Coders to compare (1 through ==>): - 2\n",
    "                - Reliability names filter type: - Select \"Lookup\"\n",
    "                - [Lookup] - Associated Article IDs (comma-delimited): - Enter the ID of the article the coding belonged to.\n",
    "                \n",
    "            - this will bring up all coding for the article whose ID you entered.\n",
    "            - In the \"select\" column, click the checkbox in the row where there is a single name part that needs to be merged.\n",
    "            - In the \"merge INTO\" column, click the checbox in the row with the full name for that person.\n",
    "            - In \"Reliability Names Action\", choose \"Merge Coding --> FROM 1 SELECTED / INTO 1\"\n",
    "            - Click \"Do Action\" button.\n",
    "            \n",
    "    - Remove the `Reliability_Names` row with the name fragment from reliability data.\n",
    "    \n",
    "        - In the \"select\" column, click the checkbox in the row where there is a single name part that needs to be removed.\n",
    "        - In \"Reliability Names Action\", choose \"Delete selected\".\n",
    "        - Click \"Do Action\" button."
   ]
  },
  {
   "cell_type": "markdown",
   "metadata": {},
   "source": [
    "### Delete selected single-name data\n",
    "\n",
    "- Back to [Table of Contents](#Table-of-Contents)\n",
    "\n",
    "To see the 8 single-name instances that were addressed: [https://research.local/sourcenet/admin/sourcenet_analysis/reliability_names_evaluation/?label=prelim_month_human](https://research.local/sourcenet/admin/sourcenet_analysis/reliability_names_evaluation/?label=prelim_month_human)"
   ]
  },
  {
   "cell_type": "markdown",
   "metadata": {},
   "source": [
    "# Calculate precision and recall\n",
    "\n",
    "- Back to [Table of Contents](#Table-of-Contents)\n",
    "\n",
    "Now, we use the code we created for assessing OpenCalais to calculate precision and recall of human coders compared to ground truth (corrected human coders).\n",
    "\n",
    "- [https://research.local:8000/user/jonathanmorgan/notebooks/work/sourcenet/django/research/work/msu_phd_work/2017.10.21-work_log-prelim_month_human-confusion_matrix.ipynb](https://research.local:8000/user/jonathanmorgan/notebooks/work/sourcenet/django/research/work/msu_phd_work/2017.10.21-work_log-prelim_month_human-confusion_matrix.ipynb)"
   ]
  },
  {
   "cell_type": "markdown",
   "metadata": {},
   "source": [
    "# TODO\n",
    "\n",
    "- Back to [Table of Contents](#Table-of-Contents)\n",
    "\n",
    "TODO:\n",
    "\n",
    "- write unit tests for IndexHelper, IndexInfo, and CoderIndexInfo.\n",
    "- update reliability_names_builder to use IndexHelper."
   ]
  }
 ],
 "metadata": {
  "kernelspec": {
   "display_name": "sourcenet (Python 3)",
   "language": "python",
   "name": "sourcenet"
  },
  "language_info": {
   "codemirror_mode": {
    "name": "ipython",
    "version": 3
   },
   "file_extension": ".py",
   "mimetype": "text/x-python",
   "name": "python",
   "nbconvert_exporter": "python",
   "pygments_lexer": "ipython3",
   "version": "3.5.2"
  },
  "toc": {
   "nav_menu": {},
   "number_sections": true,
   "sideBar": true,
   "skip_h1_title": false,
   "toc_cell": true,
   "toc_position": {},
   "toc_section_display": "block",
   "toc_window_display": true
  }
 },
 "nbformat": 4,
 "nbformat_minor": 1
}
