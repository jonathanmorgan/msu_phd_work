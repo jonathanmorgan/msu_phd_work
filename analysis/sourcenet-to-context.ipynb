{
 "cells": [
  {
   "cell_type": "markdown",
   "metadata": {
    "toc": true
   },
   "source": [
    "<h1>Table of Contents<span class=\"tocSkip\"></span></h1>\n",
    "<div class=\"toc\"><ul class=\"toc-item\"><li><span><a href=\"#notes-and-questions\" data-toc-modified-id=\"notes-and-questions-1\"><span class=\"toc-item-num\">1&nbsp;&nbsp;</span>notes and questions</a></span></li><li><span><a href=\"#Setup\" data-toc-modified-id=\"Setup-2\"><span class=\"toc-item-num\">2&nbsp;&nbsp;</span>Setup</a></span><ul class=\"toc-item\"><li><span><a href=\"#Setup---Debug\" data-toc-modified-id=\"Setup---Debug-2.1\"><span class=\"toc-item-num\">2.1&nbsp;&nbsp;</span>Setup - Debug</a></span></li><li><span><a href=\"#Setup---Imports\" data-toc-modified-id=\"Setup---Imports-2.2\"><span class=\"toc-item-num\">2.2&nbsp;&nbsp;</span>Setup - Imports</a></span></li><li><span><a href=\"#Setup---working-folder-paths\" data-toc-modified-id=\"Setup---working-folder-paths-2.3\"><span class=\"toc-item-num\">2.3&nbsp;&nbsp;</span>Setup - working folder paths</a></span></li><li><span><a href=\"#Setup---logging\" data-toc-modified-id=\"Setup---logging-2.4\"><span class=\"toc-item-num\">2.4&nbsp;&nbsp;</span>Setup - logging</a></span></li><li><span><a href=\"#Setup---virtualenv-jupyter-kernel\" data-toc-modified-id=\"Setup---virtualenv-jupyter-kernel-2.5\"><span class=\"toc-item-num\">2.5&nbsp;&nbsp;</span>Setup - virtualenv jupyter kernel</a></span></li><li><span><a href=\"#Setup---Initialize-Django\" data-toc-modified-id=\"Setup---Initialize-Django-2.6\"><span class=\"toc-item-num\">2.6&nbsp;&nbsp;</span>Setup - Initialize Django</a></span></li><li><span><a href=\"#Setup---ExportToContext-instance\" data-toc-modified-id=\"Setup---ExportToContext-instance-2.7\"><span class=\"toc-item-num\">2.7&nbsp;&nbsp;</span>Setup - ExportToContext instance</a></span></li><li><span><a href=\"#Setup---Initialize-LoggingHelper\" data-toc-modified-id=\"Setup---Initialize-LoggingHelper-2.8\"><span class=\"toc-item-num\">2.8&nbsp;&nbsp;</span>Setup - Initialize LoggingHelper</a></span></li></ul></li><li><span><a href=\"#set-up-context-entities-and-relations\" data-toc-modified-id=\"set-up-context-entities-and-relations-3\"><span class=\"toc-item-num\">3&nbsp;&nbsp;</span>set up context entities and relations</a></span></li><li><span><a href=\"#load-sourcenet-data-into-context\" data-toc-modified-id=\"load-sourcenet-data-into-context-4\"><span class=\"toc-item-num\">4&nbsp;&nbsp;</span>load sourcenet data into context</a></span><ul class=\"toc-item\"><li><span><a href=\"#Functions\" data-toc-modified-id=\"Functions-4.1\"><span class=\"toc-item-num\">4.1&nbsp;&nbsp;</span>Functions</a></span><ul class=\"toc-item\"><li><span><a href=\"#function-create_article_entity\" data-toc-modified-id=\"function-create_article_entity-4.1.1\"><span class=\"toc-item-num\">4.1.1&nbsp;&nbsp;</span>function create_article_entity</a></span></li></ul></li><li><span><a href=\"#Retrieve-Article-instances\" data-toc-modified-id=\"Retrieve-Article-instances-4.2\"><span class=\"toc-item-num\">4.2&nbsp;&nbsp;</span>Retrieve Article instances</a></span></li><li><span><a href=\"#Testing\" data-toc-modified-id=\"Testing-4.3\"><span class=\"toc-item-num\">4.3&nbsp;&nbsp;</span>Testing</a></span></li><li><span><a href=\"#Load-data-from-Article-instances\" data-toc-modified-id=\"Load-data-from-Article-instances-4.4\"><span class=\"toc-item-num\">4.4&nbsp;&nbsp;</span>Load data from Article instances</a></span></li></ul></li><li><span><a href=\"#TODO\" data-toc-modified-id=\"TODO-5\"><span class=\"toc-item-num\">5&nbsp;&nbsp;</span>TODO</a></span></li></ul></div>"
   ]
  },
  {
   "cell_type": "markdown",
   "metadata": {},
   "source": [
    "# notes and questions\n",
    "\n",
    "- Back to [Table of Contents](#Table-of-Contents)\n",
    "\n",
    "Notes:\n",
    "\n",
    "- probably will need a class that is an Article_Data container - reference to Article_Data, and then all the logic to process the entities and relations contained within.\n",
    "\n",
    "Questions:\n",
    "\n",
    "- Do we want an Identifier Type separate from Entity and Relation identifiers?  I think we do, so we can specify the entity type(s) a given identifier should be used on.\n",
    "\n",
    "    - Created abstract one, and created a concrete entity identifier type.  Will create one for relation identifiers if needed."
   ]
  },
  {
   "cell_type": "markdown",
   "metadata": {},
   "source": [
    "# Setup\n",
    "\n",
    "- Back to [Table of Contents](#Table-of-Contents)"
   ]
  },
  {
   "cell_type": "code",
   "execution_count": 1,
   "metadata": {
    "ExecuteTime": {
     "end_time": "2019-09-07T21:54:28.642525Z",
     "start_time": "2019-09-07T21:54:28.637628Z"
    }
   },
   "outputs": [],
   "source": [
    "me = \"sourcenet-to-context\""
   ]
  },
  {
   "cell_type": "markdown",
   "metadata": {},
   "source": [
    "## Setup - Debug\n",
    "\n",
    "- Back to [Table of Contents](#Table-of-Contents)"
   ]
  },
  {
   "cell_type": "code",
   "execution_count": 2,
   "metadata": {
    "ExecuteTime": {
     "end_time": "2019-09-07T21:54:29.957214Z",
     "start_time": "2019-09-07T21:54:29.947974Z"
    }
   },
   "outputs": [],
   "source": [
    "debug_flag = False"
   ]
  },
  {
   "cell_type": "markdown",
   "metadata": {},
   "source": [
    "## Setup - Imports\n",
    "\n",
    "- Back to [Table of Contents](#Table-of-Contents)"
   ]
  },
  {
   "cell_type": "code",
   "execution_count": 3,
   "metadata": {
    "ExecuteTime": {
     "end_time": "2019-09-07T21:54:30.794607Z",
     "start_time": "2019-09-07T21:54:30.669798Z"
    }
   },
   "outputs": [],
   "source": [
    "import datetime\n",
    "from django.db.models import Avg, Max, Min\n",
    "from django.utils.text import slugify\n",
    "import logging\n",
    "import six"
   ]
  },
  {
   "cell_type": "markdown",
   "metadata": {},
   "source": [
    "## Setup - working folder paths\n",
    "\n",
    "- Back to [Table of Contents](#Table-of-Contents)"
   ]
  },
  {
   "cell_type": "code",
   "execution_count": 4,
   "metadata": {
    "ExecuteTime": {
     "end_time": "2019-09-07T21:54:32.856565Z",
     "start_time": "2019-09-07T21:54:32.840679Z"
    }
   },
   "outputs": [
    {
     "data": {
      "text/plain": [
       "'/home/jonathanmorgan/work/django/research/work/phd_work/analysis'"
      ]
     },
     "execution_count": 4,
     "metadata": {},
     "output_type": "execute_result"
    }
   ],
   "source": [
    "%pwd"
   ]
  },
  {
   "cell_type": "code",
   "execution_count": 5,
   "metadata": {
    "ExecuteTime": {
     "end_time": "2019-09-07T21:54:33.372808Z",
     "start_time": "2019-09-07T21:54:33.367739Z"
    }
   },
   "outputs": [],
   "source": [
    "# current working folder\n",
    "current_working_folder = \"/home/jonathanmorgan/work/django/research/work/phd_work/analysis\"\n",
    "current_datetime = datetime.datetime.now()\n",
    "current_date_string = current_datetime.strftime( \"%Y-%m-%d-%H-%M-%S\" )"
   ]
  },
  {
   "cell_type": "markdown",
   "metadata": {},
   "source": [
    "## Setup - logging\n",
    "\n",
    "- Back to [Table of Contents](#Table-of-Contents)\n",
    "\n",
    "configure logging for this notebook's kernel (If you do not run this cell, you'll get the django application's logging configuration."
   ]
  },
  {
   "cell_type": "code",
   "execution_count": 6,
   "metadata": {
    "ExecuteTime": {
     "end_time": "2019-09-07T21:54:34.874669Z",
     "start_time": "2019-09-07T21:54:34.864161Z"
    }
   },
   "outputs": [
    {
     "name": "stdout",
     "output_type": "stream",
     "text": [
      "Logging initialized, to /home/jonathanmorgan/work/django/research/work/phd_work/analysis/sourcenet-to-context-2019-09-07-21-54-33.log.txt\n"
     ]
    }
   ],
   "source": [
    "logging_file_name = \"{}/{}-{}.log.txt\".format( current_working_folder, me, current_date_string )\n",
    "logging.basicConfig(\n",
    "    level = logging.DEBUG,\n",
    "    format = '%(asctime)s - %(levelname)s - %(name)s - %(message)s',\n",
    "    filename = logging_file_name,\n",
    "    filemode = 'w' # set to 'a' if you want to append, rather than overwrite each time.\n",
    ")\n",
    "print( \"Logging initialized, to {}\".format( logging_file_name ) )"
   ]
  },
  {
   "cell_type": "markdown",
   "metadata": {},
   "source": [
    "## Setup - virtualenv jupyter kernel\n",
    "\n",
    "- Back to [Table of Contents](#Table-of-Contents)\n",
    "\n",
    "If you are using a virtualenv, make sure that you:\n",
    "\n",
    "- have installed your virtualenv as a kernel.\n",
    "- choose the kernel for your virtualenv as the kernel for your notebook (Kernel --> Change kernel).\n",
    "\n",
    "Since I use a virtualenv, need to get that activated somehow inside this notebook.  One option is to run `../dev/wsgi.py` in this notebook, to configure the python environment manually as if you had activated the `sourcenet` virtualenv.  To do this, you'd make a code cell that contains:\n",
    "\n",
    "    %run ../dev/wsgi.py\n",
    "    \n",
    "This is sketchy, however, because of the changes it makes to your Python environment within the context of whatever your current kernel is.  I'd worry about collisions with the actual Python 3 kernel.  Better, one can install their virtualenv as a separate kernel.  Steps:\n",
    "\n",
    "- activate your virtualenv:\n",
    "\n",
    "        workon research\n",
    "\n",
    "- in your virtualenv, install the package `ipykernel`.\n",
    "\n",
    "        pip install ipykernel\n",
    "\n",
    "- use the ipykernel python program to install the current environment as a kernel:\n",
    "\n",
    "        python -m ipykernel install --user --name <env_name> --display-name \"<display_name>\"\n",
    "        \n",
    "    `sourcenet` example:\n",
    "    \n",
    "        python -m ipykernel install --user --name sourcenet --display-name \"research (Python 3)\"\n",
    "        \n",
    "More details: [http://ipython.readthedocs.io/en/stable/install/kernel_install.html](http://ipython.readthedocs.io/en/stable/install/kernel_install.html)"
   ]
  },
  {
   "cell_type": "markdown",
   "metadata": {},
   "source": [
    "## Setup - Initialize Django\n",
    "\n",
    "- Back to [Table of Contents](#Table-of-Contents)\n",
    "\n",
    "First, initialize my dev django project, so I can run code in this notebook that references my django models and can talk to the database using my project's settings."
   ]
  },
  {
   "cell_type": "code",
   "execution_count": 7,
   "metadata": {
    "ExecuteTime": {
     "end_time": "2019-09-07T21:54:36.152265Z",
     "start_time": "2019-09-07T21:54:36.145264Z"
    }
   },
   "outputs": [],
   "source": [
    "# init django\n",
    "django_init_folder = \"/home/jonathanmorgan/work/django/research/work/phd_work\"\n",
    "django_init_path = \"django_init.py\"\n",
    "if( ( django_init_folder is not None ) and ( django_init_folder != \"\" ) ):\n",
    "    \n",
    "    # add folder to front of path.\n",
    "    django_init_path = \"{}/{}\".format( django_init_folder, django_init_path )\n",
    "    \n",
    "#-- END check to see if django_init folder. --#"
   ]
  },
  {
   "cell_type": "code",
   "execution_count": 8,
   "metadata": {
    "ExecuteTime": {
     "end_time": "2019-09-07T21:54:38.212546Z",
     "start_time": "2019-09-07T21:54:36.877885Z"
    }
   },
   "outputs": [
    {
     "name": "stdout",
     "output_type": "stream",
     "text": [
      "django initialized at 2019-09-07 21:54:38.208858\n"
     ]
    }
   ],
   "source": [
    "%run $django_init_path"
   ]
  },
  {
   "cell_type": "code",
   "execution_count": 9,
   "metadata": {
    "ExecuteTime": {
     "end_time": "2019-09-07T21:54:38.419836Z",
     "start_time": "2019-09-07T21:54:38.216174Z"
    }
   },
   "outputs": [],
   "source": [
    "# context imports\n",
    "from context.models import Entity\n",
    "from context.models import Entity_Identifier_Type\n",
    "from context.models import Entity_Identifier\n",
    "\n",
    "# context_text imports\n",
    "from context_text.article_coding.article_coding import ArticleCoder\n",
    "from context_text.article_coding.article_coding import ArticleCoding\n",
    "from context_text.article_coding.open_calais_v2.open_calais_v2_article_coder import OpenCalaisV2ArticleCoder\n",
    "from context_text.collectors.newsbank.newspapers.GRPB import GRPB\n",
    "from context_text.collectors.newsbank.newspapers.DTNB import DTNB\n",
    "from context_text.export.to_context_base.export_to_context import ExportToContext\n",
    "from context_text.models import Article\n",
    "from context_text.models import Article_Subject\n",
    "from context_text.models import Newspaper\n",
    "from context_text.shared.context_text_base import ContextTextBase"
   ]
  },
  {
   "cell_type": "markdown",
   "metadata": {},
   "source": [
    "## Setup - ExportToContext instance\n",
    "\n",
    "- Back to [Table of Contents](#Table-of-Contents)\n",
    "\n",
    "Make instance, set instance variables."
   ]
  },
  {
   "cell_type": "code",
   "execution_count": 10,
   "metadata": {
    "ExecuteTime": {
     "end_time": "2019-09-07T21:54:40.067902Z",
     "start_time": "2019-09-07T21:54:40.054933Z"
    }
   },
   "outputs": [],
   "source": [
    "my_exporter = ExportToContext()\n",
    "\n",
    "# no variables to set, yet...\n",
    "my_exporter.set_article_uuid_id_type_name( ExportToContext.ENTITY_ID_TYPE_ARTICLE_NEWSBANK_ID )"
   ]
  },
  {
   "cell_type": "markdown",
   "metadata": {},
   "source": [
    "## Setup - Initialize LoggingHelper\n",
    "\n",
    "- Back to [Table of Contents](#Table-of-Contents)\n",
    "\n",
    "Create a LoggingHelper instance to use to log debug and also print at the same time.\n",
    "\n",
    "Preconditions: Must be run after Django is initialized, since `python_utilities` is in the django path."
   ]
  },
  {
   "cell_type": "code",
   "execution_count": 11,
   "metadata": {
    "ExecuteTime": {
     "end_time": "2019-09-07T21:54:42.070771Z",
     "start_time": "2019-09-07T21:54:42.063877Z"
    }
   },
   "outputs": [],
   "source": [
    "# python_utilities\n",
    "from python_utilities.logging.logging_helper import LoggingHelper\n",
    "\n",
    "# init\n",
    "my_logging_helper = LoggingHelper()\n",
    "my_logging_helper.set_logger_name( me )\n",
    "log_message = None"
   ]
  },
  {
   "cell_type": "markdown",
   "metadata": {},
   "source": [
    "# set up context entities and relations\n",
    "\n",
    "- Back to [Table of Contents](#Table-of-Contents)\n",
    "\n",
    "Set up the following entities and relations in context:\n",
    "\n",
    "Entities:\n",
    "\n",
    "- person - a person!\n",
    "- article - Article, used to detect reporters, subjects, and sources.\n",
    "- organization - Any type of organized group (of organizations, of people, etc.).\n",
    "- newspaper - A newspaper, which can be used to cluster articles, employees, sources, etc.\n",
    "\n",
    "Relations:\n",
    "\n",
    "- from newspaper\n",
    "\n",
    "    - newspaper_reporter - Reporter at a newspaper, evidence of which is byline on an article in that newspaper.  FROM newspaper TO person (reporter) THROUGH article.\n",
    "    - newspaper_source - Person quoted in an article published by a newspaper. FROM newspaper TO person (source) THROUGH article.\n",
    "    - newspaper_subject - Subject of an article published in a given newspaper.  FROM newspaper TO person (subject, including sources) THROUGH article.\n",
    "    - newspaper_article - Article published in a particular newspaper.  FROM newspaper TO article.\n",
    "\n",
    "- from article\n",
    "\n",
    "    - author - Author/Reporter of an article - FROM article TO reporter.\n",
    "    - subject - Subject of a story.  FROM article TO subject person.\n",
    "    - source - Source quoted in an article - FROM article TO source person.\n",
    "\n",
    "- through article\n",
    "\n",
    "    - article_container - Parent for relations based on entities being mentioned in the same article.  To start, just people, but eventually, for example, could also include location.\n",
    "    - mentioned - Mentioned in an article.  FROM reporter/author TO subject THROUGH article.\n",
    "    - quoted - The \\\"from\\\" person quoted the \\\"to\\\" person in a publication.  FROM reporter TO source THROUGH article.\n",
    "    - same_article_sources - Sources in the same article, FROM source person TO source person THROUGH article.\n",
    "    - same_article_subjects - Two people who are in a particular article together (includes subjects and sources).\n",
    "    - shared_byline - Shared Byline on an article - joint authors - FROM author TO author THROUGH article.\n",
    "\n",
    "Then, export them to JSON fixture files using manage.py / django-admin dumpdata ( [https://docs.djangoproject.com/en/dev/ref/django-admin/#django-admin-dumpdata](https://docs.djangoproject.com/en/dev/ref/django-admin/#django-admin-dumpdata) ) so they can be imported using python manage.py or django-admin loaddata ( [https://docs.djangoproject.com/en/dev/ref/django-admin/#django-admin-loaddata](https://docs.djangoproject.com/en/dev/ref/django-admin/#django-admin-loaddata) ) rather than having to input them in the admin:\n",
    "\n",
    "    python manage.py dumpdata [app_label[.ModelName] [app_label[.ModelName] ...]] --indent INDENT --output <output_file_path>\n",
    "    \n",
    "    python manage.py dumpdata \\\n",
    "        --indent 4 \\\n",
    "        --output context-sourcenet_entities_and_relations.json \\\n",
    "        context.Entity_Identifier_Type \\\n",
    "        context.Entity_Relation_Type \\\n",
    "        context.Entity_Relation_Type_Trait \\\n",
    "        context.Entity_Type \\\n",
    "        context.Entity_Type_Trait \\\n",
    "        context.Trait_Type \\\n",
    "        context.Term \\\n",
    "        context.Term_Relation \\\n",
    "        context.Term_Relation_Type \\\n",
    "        context.Vocabulary \\\n",
    "        \n",
    "    No line breaks:\n",
    "    \n",
    "        python manage.py dumpdata --indent 4 --output context-sourcenet_entities_and_relations.json context.Entity_Identifier_Type context.Entity_Relation_Type context.Entity_Relation_Type_Trait context.Entity_Type context.Entity_Type_Trait context.Trait_Type context.Term context.Term_Relation context.Term_Relation_Type context.Vocabulary"
   ]
  },
  {
   "cell_type": "markdown",
   "metadata": {},
   "source": [
    "# load sourcenet data into context\n",
    "\n",
    "- Back to [Table of Contents](#Table-of-Contents)\n",
    "\n",
    "preparation:\n",
    "\n",
    "- make an ID type for sourcenet person ID (ID 1, name `person_sourcenet_id`).\n",
    "- also make ID type for OpenCalais URI for person (ID 2, name `person_open_calais_uuid`).\n",
    "- make an ID type for sourcenet article ID (ID 3, name `article_sourcenet_id`).\n",
    "- make an ID type for newsbank article ID (ID 2, name `article_newsbank_id`).\n",
    "\n",
    "logic:\n",
    "\n",
    "- get all Article_Data created by automated coder, open calais coder type.\n",
    "- for each:\n",
    "\n",
    "    - Article processing:\n",
    "    \n",
    "        - look for article entity in context.  If not created, create one.\n",
    "        - Store the ID and entity reference for the Article.\n",
    "\n",
    "    - Author/Reporter processing.\n",
    "    \n",
    "        - look for author person entity.\n",
    "        - create \"article\" entity "
   ]
  },
  {
   "cell_type": "markdown",
   "metadata": {},
   "source": [
    "## Functions\n",
    "\n",
    "- Back to [Table of Contents](#Table-of-Contents)"
   ]
  },
  {
   "cell_type": "markdown",
   "metadata": {},
   "source": [
    "### function create_article_entity\n",
    "\n",
    "- Back to [Table of Contents](#Table-of-Contents)\n",
    "\n",
    "Now in `ExportToContext` class."
   ]
  },
  {
   "cell_type": "markdown",
   "metadata": {},
   "source": [
    "## Retrieve Article instances\n",
    "\n",
    "- Back to [Table of Contents](#Table-of-Contents)"
   ]
  },
  {
   "cell_type": "code",
   "execution_count": 12,
   "metadata": {
    "ExecuteTime": {
     "end_time": "2019-09-07T21:55:13.495114Z",
     "start_time": "2019-09-07T21:55:13.423759Z"
    }
   },
   "outputs": [
    {
     "name": "stdout",
     "output_type": "stream",
     "text": [
      "2019-09-07 21:55:13.492050 - Loaded automated user: automated, id = 2\n"
     ]
    }
   ],
   "source": [
    "# look for publications that have article data:\n",
    "# - coded by automated coder\n",
    "# - with coder type of \"OpenCalais_REST_API_v2\"\n",
    "\n",
    "# get automated coder\n",
    "automated_coder_user = ArticleCoder.get_automated_coding_user()\n",
    "\n",
    "log_message = \"{} - Loaded automated user: {}, id = {}\".format( datetime.datetime.now(), automated_coder_user, automated_coder_user.id )\n",
    "my_logging_helper.output_message( log_message, do_print_IN = True, log_level_code_IN = logging.INFO )"
   ]
  },
  {
   "cell_type": "code",
   "execution_count": 13,
   "metadata": {
    "ExecuteTime": {
     "end_time": "2019-09-07T21:55:18.280053Z",
     "start_time": "2019-09-07T21:55:14.263954Z"
    }
   },
   "outputs": [
    {
     "name": "stdout",
     "output_type": "stream",
     "text": [
      "Found 43843 articles\n"
     ]
    }
   ],
   "source": [
    "# find articles with Article_Data created by the automated user...\n",
    "article_qs = Article.objects.filter( article_data__coder = automated_coder_user )\n",
    "\n",
    "# ...and specifically coded using OpenCalais V2...\n",
    "article_qs = article_qs.filter( article_data__coder_type = OpenCalaisV2ArticleCoder.CONFIG_APPLICATION )\n",
    "\n",
    "# ...and finally, we just want the distinct articles by ID.\n",
    "article_qs = article_qs.order_by( \"id\" ).distinct( \"id\" )\n",
    "\n",
    "# count?\n",
    "article_count = article_qs.count()\n",
    "log_message = \"Found {} articles\".format( article_count )\n",
    "my_logging_helper.output_message( log_message, do_print_IN = True, log_level_code_IN = logging.INFO )"
   ]
  },
  {
   "cell_type": "markdown",
   "metadata": {},
   "source": [
    "## Testing\n",
    "\n",
    "- Back to [Table of Contents](#Table-of-Contents)"
   ]
  },
  {
   "cell_type": "markdown",
   "metadata": {},
   "source": [
    "First, make unit tests to test convenience methods added to the following models, in `context/tests/models/`:\n",
    "\n",
    "- // `Entity_Identifier_Type` - test_Entity_Identifier_Type_model.py\n",
    "- // `Entity_Identifier` - test_Entity_Identifier_model.py\n",
    "- // `Entity` - test_Entity_model.py\n",
    "\n",
    "Also, // move instance creation class methods along with their constants over into \"TestHelper\" from test_Entity_Identifier_model.py, so they can be re-used across test classes.\n",
    "\n",
    "To run: `python manage.py test context.tests`\n",
    "\n",
    "TODO:\n",
    "\n",
    "- test_entity_model.py\n",
    "\n",
    "    - test_get_entity_for_identifier\n",
    "\n",
    "- test_export_to_context.py\n",
    "\n",
    "    - test_get_article_uuid_id_type\n",
    "    - test_set_article_uuid_id_type_name"
   ]
  },
  {
   "cell_type": "markdown",
   "metadata": {},
   "source": [
    "Next, get a single article to work with for now."
   ]
  },
  {
   "cell_type": "code",
   "execution_count": 14,
   "metadata": {
    "ExecuteTime": {
     "end_time": "2019-09-07T21:55:29.138997Z",
     "start_time": "2019-09-07T21:55:29.118971Z"
    }
   },
   "outputs": [],
   "source": [
    "test_article_qs = None\n",
    "test_article = None\n",
    "test_entity = None\n",
    "\n",
    "# slice a single article off the QuerySet.\n",
    "test_article_qs = article_qs[ : 1 ]\n",
    "test_article = test_article_qs.get()"
   ]
  },
  {
   "cell_type": "markdown",
   "metadata": {},
   "source": [
    "Make an entity for the article."
   ]
  },
  {
   "cell_type": "code",
   "execution_count": 15,
   "metadata": {
    "ExecuteTime": {
     "end_time": "2019-09-07T21:55:30.996624Z",
     "start_time": "2019-09-07T21:55:30.908549Z"
    }
   },
   "outputs": [],
   "source": [
    "my_exporter.create_article_entity( test_article )"
   ]
  },
  {
   "cell_type": "markdown",
   "metadata": {},
   "source": [
    "## Load data from Article instances\n",
    "\n",
    "- Back to [Table of Contents](#Table-of-Contents)\n",
    "\n",
    "To start, we are going to break this work up into pieces, do one thing at a time, building a function for each thing above that accepts an `Article_Data` instance and does its work, that we can then move into an object:\n",
    "\n",
    "- Add all articles to context as entities of type \"article\".\n",
    "- Add all people who are either reporters/authors or subjects to `context` as entities of type \"person\", with identifier of type `person_sourcenet_id` set to their internal django/database \"id\", and with identifier of type `person_open_calais_uuid` set to their OpenCalais ID, if they have one.  If they have any other types of IDs, add them too, untyped.\n",
    "- For all reporters/authors:\n",
    "\n",
    "    - create a relation of type \"`author`\" between the article's entity (FROM) and the entity of the person (TO) for each author.\n",
    "    - if multiple authors, for each pair of authors, create a relation of type \"`shared_byline`\" between the two (it is undirected), THROUGH the article.\n",
    "\n",
    "- For all subjects, including sources:\n",
    "\n",
    "    - create a relation of type \"`subject`\" between the article's entity (FROM) and the entity of the subject person (TO).\n",
    "    - if multiple subjects, for each pair of subjects, create a relation of type \"`same_article_subjects`\" between the two (it is undirected), THROUGH the article.\n",
    "    - create a relation of type \"`mentioned`\" between each of the article's authors (FROM) and the subject (TO), THROUGH the article.\n",
    "\n",
    "- For all sources\n",
    "\n",
    "    - create a relation of type \"`source`\" between the article's entity and the entity for the source person.\n",
    "    - if multiple sources, for each pair of sources, create a relation of type \"`same_article_sources`\" between the two (it is undirected), THROUGH the article.\n",
    "    - create a relation of type \"`quoted`\" between each of the article's authors (FROM) and the source (TO), THROUGH the article.\n",
    "\n",
    "Convenience methods:\n",
    "\n",
    "- method to find entity - based on type and identifier (accept all the fields that make sense, including optional identifier type instance).\n",
    "- method to find relation - based on type, etc.\n",
    "\n",
    "Notes:\n",
    "\n",
    "- all ties are undirected.\n",
    "- relations can have three foreign keys into Entity - FROM, TO, and THROUGH (for a containing relationship, like the article that included two sources that we are relating)."
   ]
  },
  {
   "cell_type": "code",
   "execution_count": 15,
   "metadata": {
    "ExecuteTime": {
     "end_time": "2019-08-21T20:01:29.378475Z",
     "start_time": "2019-08-21T19:58:49.437516Z"
    }
   },
   "outputs": [
    {
     "name": "stdout",
     "output_type": "stream",
     "text": [
      "\n",
      "Summary:\n",
      "- good count: 43843\n",
      "- > 1 count: 0\n",
      "- 0 count: 0\n",
      "- unexpected count: 0\n"
     ]
    }
   ],
   "source": [
    "my_exporter.process_articles( article_qs )"
   ]
  },
  {
   "cell_type": "markdown",
   "metadata": {},
   "source": [
    "# TODO\n",
    "\n",
    "- Back to [Table of Contents](#Table-of-Contents)\n",
    "\n",
    "TODO:\n",
    "\n",
    "- // take the \"`create_article_entity()`\" function and put it in a class for loading sourcenet articles into  context\n",
    "\n",
    "    - `context_text/export/to_context_base/export_to_context.py` - class `ExportToContext`\n",
    "\n",
    "- build unit test class for this loading class, and add one for creating a fake article, then making an entity out of it. Check entity, traits, and identifiers."
   ]
  }
 ],
 "metadata": {
  "kernelspec": {
   "display_name": "research_virtualenv",
   "language": "python",
   "name": "research"
  },
  "language_info": {
   "codemirror_mode": {
    "name": "ipython",
    "version": 3
   },
   "file_extension": ".py",
   "mimetype": "text/x-python",
   "name": "python",
   "nbconvert_exporter": "python",
   "pygments_lexer": "ipython3",
   "version": "3.6.5"
  },
  "toc": {
   "base_numbering": 1,
   "nav_menu": {},
   "number_sections": true,
   "sideBar": true,
   "skip_h1_title": false,
   "title_cell": "Table of Contents",
   "title_sidebar": "Contents",
   "toc_cell": true,
   "toc_position": {},
   "toc_section_display": true,
   "toc_window_display": true
  }
 },
 "nbformat": 4,
 "nbformat_minor": 2
}
