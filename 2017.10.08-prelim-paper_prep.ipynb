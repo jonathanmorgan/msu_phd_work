{
 "cells": [
  {
   "cell_type": "markdown",
   "metadata": {},
   "source": [
    "**2017.10.08 - prelim - paper prep**"
   ]
  },
  {
   "cell_type": "markdown",
   "metadata": {
    "toc": true
   },
   "source": [
    "<h1>Table of Contents<span class=\"tocSkip\"></span></h1>\n",
    "<div class=\"toc\" style=\"margin-top: 1em;\"><ul class=\"toc-item\"><li><span><a href=\"#Reliability\" data-toc-modified-id=\"Reliability-1\"><span class=\"toc-item-num\">1&nbsp;&nbsp;</span>Reliability</a></span></li><li><span><a href=\"#Disagreements\" data-toc-modified-id=\"Disagreements-2\"><span class=\"toc-item-num\">2&nbsp;&nbsp;</span>Disagreements</a></span><ul class=\"toc-item\"><li><span><a href=\"#Disagreements---Human-Error\" data-toc-modified-id=\"Disagreements---Human-Error-2.1\"><span class=\"toc-item-num\">2.1&nbsp;&nbsp;</span>Disagreements - Human Error</a></span></li><li><span><a href=\"#Disagreements---Computer-Error\" data-toc-modified-id=\"Disagreements---Computer-Error-2.2\"><span class=\"toc-item-num\">2.2&nbsp;&nbsp;</span>Disagreements - Computer Error</a></span></li></ul></li><li><span><a href=\"#Additional-analysis\" data-toc-modified-id=\"Additional-analysis-3\"><span class=\"toc-item-num\">3&nbsp;&nbsp;</span>Additional analysis</a></span><ul class=\"toc-item\"><li><span><a href=\"#Human-Precision-and-Recall\" data-toc-modified-id=\"Human-Precision-and-Recall-3.1\"><span class=\"toc-item-num\">3.1&nbsp;&nbsp;</span>Human Precision and Recall</a></span></li><li><span><a href=\"#Calculate-reliability-numbers-for-prelim_month...\" data-toc-modified-id=\"Calculate-reliability-numbers-for-prelim_month...-3.2\"><span class=\"toc-item-num\">3.2&nbsp;&nbsp;</span>Calculate reliability numbers for prelim_month...</a></span></li><li><span><a href=\"#...-and-calculate-reliability-numbers-for-prelim_month_human\" data-toc-modified-id=\"...-and-calculate-reliability-numbers-for-prelim_month_human-3.3\"><span class=\"toc-item-num\">3.3&nbsp;&nbsp;</span>... and calculate reliability numbers for prelim_month_human</a></span></li></ul></li><li><span><a href=\"#CURRENT\" data-toc-modified-id=\"CURRENT-4\"><span class=\"toc-item-num\">4&nbsp;&nbsp;</span>CURRENT</a></span><ul class=\"toc-item\"><li><span><a href=\"#Network-Analysis\" data-toc-modified-id=\"Network-Analysis-4.1\"><span class=\"toc-item-num\">4.1&nbsp;&nbsp;</span>Network Analysis</a></span></li></ul></li><li><span><a href=\"#Paper-Edits\" data-toc-modified-id=\"Paper-Edits-5\"><span class=\"toc-item-num\">5&nbsp;&nbsp;</span>Paper Edits</a></span></li><li><span><a href=\"#TODO\" data-toc-modified-id=\"TODO-6\"><span class=\"toc-item-num\">6&nbsp;&nbsp;</span>TODO</a></span></li></ul></div>"
   ]
  },
  {
   "cell_type": "markdown",
   "metadata": {},
   "source": [
    "# Reliability\n",
    "\n",
    "- back to [Table of Contents](#Table-of-Contents)\n",
    "\n",
    "First, need to make sure I understand which results are the final results.\n",
    "\n",
    "To view results: [https://research.local/sourcenet/sourcenet/analysis/reliability/names/results/view](https://research.local/sourcenet/sourcenet/analysis/reliability/names/results/view)\n",
    "\n",
    "I am pretty sure that the human-only results (the ones I will write about) are results with labels:\n",
    "\n",
    "- \"`prelim_reliability_combined_human_final`\"\n",
    "- and \"`prelim_reliability_combined_human`\" (this is old code, versus \"final\" calculated with rewritten code - numbers should be identical).\n",
    "\n",
    "Path to Dropbox folder that holds PDF and Excel file output of reliability numbers:\n",
    "\n",
    "- Dropbox/academia/MSU/program_stuff/prelim_paper/analysis/reliability/2016-data\n",
    "\n",
    "Code to actually calculate reliability numbers:"
   ]
  },
  {
   "cell_type": "code",
   "execution_count": null,
   "metadata": {},
   "outputs": [],
   "source": [
    "# start to support python 3:\n",
    "from __future__ import unicode_literals\n",
    "from __future__ import division\n",
    "\n",
    "#==============================================================================#\n",
    "# ! imports\n",
    "#==============================================================================#\n",
    "\n",
    "# grouped by functional area, then alphabetical order by package, then\n",
    "#     alphabetical order by name of thing being imported.\n",
    "\n",
    "# sourcenet_analysis imports\n",
    "from sourcenet_analysis.reliability.reliability_names_analyzer import ReliabilityNamesAnalyzer\n",
    "\n",
    "#==============================================================================#\n",
    "# ! logic\n",
    "#==============================================================================#\n",
    "\n",
    "# declare variables\n",
    "my_analysis_instance = None\n",
    "label = \"\"\n",
    "indices_to_process = -1\n",
    "result_status = \"\"\n",
    "\n",
    "# make reliability instance\n",
    "my_analysis_instance = ReliabilityNamesAnalyzer()\n",
    "\n",
    "# database connection information - 2 options...  Enter it here:\n",
    "#my_analysis_instance.db_username = \"\"\n",
    "#my_analysis_instance.db_password = \"\"\n",
    "#my_analysis_instance.db_host = \"localhost\"\n",
    "#my_analysis_instance.db_name = \"sourcenet\"\n",
    "\n",
    "# Or set up the following properties in Django_Config, inside the django admins.\n",
    "#     All have application of: \"sourcenet-db-admin\":\n",
    "#     - db_username\n",
    "#     - db_password\n",
    "#     - db_host\n",
    "#     - db_port\n",
    "#     - db_name\n",
    "\n",
    "# run the analyze method, see what happens.\n",
    "#label = \"prelim_reliability_test\"\n",
    "#indices_to_process = 3\n",
    "#label = \"prelim_reliability_combined_human\"\n",
    "#indices_to_process = 3\n",
    "#label = \"name_data_test_combined_human\"\n",
    "#indices_to_process = 3\n",
    "#label = \"prelim_reliability_combined_human_final\"\n",
    "#indices_to_process = 3\n",
    "#label = \"prelim_reliability_combined_all\"\n",
    "#indices_to_process = 4\n",
    "#label = \"prelim_reliability_combined_all_final\"\n",
    "#indices_to_process = 4\n",
    "#label = \"prelim_reliability_test_human\"\n",
    "#indices_to_process = 3\n",
    "#label = \"prelim_reliability_test_all\"\n",
    "#indices_to_process = 4\n",
    "label = \"prelim_month\"\n",
    "indices_to_process = 2\n",
    "result_status = my_analysis_instance.analyze_reliability_names( label, indices_to_process )"
   ]
  },
  {
   "cell_type": "markdown",
   "metadata": {},
   "source": [
    "# Disagreements\n",
    "\n",
    "- Back to [Table of Contents](#Table-of-Contents)\n",
    "\n",
    "Look at stats for disagreements and evaluation, including human and computer errors."
   ]
  },
  {
   "cell_type": "markdown",
   "metadata": {},
   "source": [
    "## Disagreements - Human Error\n",
    "\n",
    "- Back to [Table of Contents](#Table-of-Contents)\n",
    "\n",
    "Human error - Per article (how many have ground truth?) and per decision?  How many errors, compared to total number of decisions, and what kind of errors?"
   ]
  },
  {
   "cell_type": "markdown",
   "metadata": {},
   "source": [
    "## Disagreements - Computer Error\n",
    "\n",
    "- Back to [Table of Contents](#Table-of-Contents)\n",
    "\n",
    "Computer error - look over classes of error for trends (systemic error) and interesting."
   ]
  },
  {
   "cell_type": "markdown",
   "metadata": {},
   "source": [
    "# Additional analysis\n",
    "\n",
    "- Back to [Table of Contents](#Table-of-Contents)"
   ]
  },
  {
   "cell_type": "markdown",
   "metadata": {},
   "source": [
    "## Human Precision and Recall\n",
    "\n",
    "- Back to [Table of Contents](#Table-of-Contents)\n",
    "\n",
    "Calculate precision and recall for humans versus ground truth - set it up so that coder 1 is as it was for computer (ground_truth having precedence) and then set up coder 2 up the same way, but without ground_truth...\n",
    "\n",
    "- Jupyter notebook: [https://research.local:8000/user/jonathanmorgan/notebooks/work/sourcenet/django/research/work/msu_phd_work/2017.10.20-work_log-prelim_month-create_human_Reliability_Names.ipynb](https://research.local:8000/user/jonathanmorgan/notebooks/work/sourcenet/django/research/work/msu_phd_work/2017.10.20-work_log-prelim_month-create_human_Reliability_Names.ipynb)\n",
    "- results are in `Dropbox/academia/MSU/program_stuff/prelim_paper/analysis/precision_and_recall/`."
   ]
  },
  {
   "cell_type": "markdown",
   "metadata": {},
   "source": [
    "## Calculate reliability numbers for prelim_month...\n",
    "\n",
    "- Back to [Table of Contents](#Table-of-Contents)\n",
    "\n",
    "Run the reliability calculations for prelim_month just to get lookup assessment (since it is not classification, precision and recall make no sense).\n",
    "\n",
    "- Jupyter notebook: [https://research.local:8000/user/jonathanmorgan/notebooks/work/sourcenet/django/research/work/msu_phd_work/2017.10.25-work_log-prelim_month-Reliability_Names_reliability.ipynb](https://research.local:8000/user/jonathanmorgan/notebooks/work/sourcenet/django/research/work/msu_phd_work/2017.10.25-work_log-prelim_month-Reliability_Names_reliability.ipynb)\n",
    "- results are in `Dropbox/academia/MSU/program_stuff/prelim_paper/analysis/reliability/2016-data/prelim_month-reliability_results.pdf`."
   ]
  },
  {
   "cell_type": "markdown",
   "metadata": {},
   "source": [
    "## ... and calculate reliability numbers for prelim_month_human\n",
    "\n",
    "- Back to [Table of Contents](#Table-of-Contents)\n",
    "\n",
    "Run the reliability calculations for prelim_month_human just to get lookup assessment (since it is not classification, precision and recall make no sense).\n",
    "\n",
    "- Jupyter notebook: [https://research.local:8000/user/jonathanmorgan/notebooks/work/sourcenet/django/research/work/msu_phd_work/2017.10.25-work_log-prelim_month_human-Reliability_Names_reliability.ipynb](https://research.local:8000/user/jonathanmorgan/notebooks/work/sourcenet/django/research/work/msu_phd_work/2017.10.25-work_log-prelim_month_human-Reliability_Names_reliability.ipynb)\n",
    "- results are in `Dropbox/academia/MSU/program_stuff/prelim_paper/analysis/reliability/2016-data/prelim_month_human-reliability_results.pdf`."
   ]
  },
  {
   "cell_type": "markdown",
   "metadata": {},
   "source": [
    "# CURRENT"
   ]
  },
  {
   "cell_type": "markdown",
   "metadata": {},
   "source": [
    "## Network Analysis\n",
    "\n",
    "- Back to [Table of Contents](#Table-of-Contents)\n",
    "\n",
    "Generate some basic network statistics from the ground truth and automated attribution data, characterize and compare using QAP (including explaining substantial limitations of this given sparseness of networks).\n",
    "\n",
    "Details: [2017.11.14-work_log-prelim-network_analysis.ipynb](2017.11.14-work_log-prelim-network_analysis.ipynb)\n",
    "\n",
    "- find code used to derive network information last time. - Evernote Network Analysis Notes: [https://www.evernote.com/shard/s101/nl/11379781/ef9db83f-5fd3-4bd2-bdd7-1407e2c01f9c/](https://www.evernote.com/shard/s101/nl/11379781/ef9db83f-5fd3-4bd2-bdd7-1407e2c01f9c/)\n",
    "- run it again on full month of data, rather than just a week.\n",
    "- examine traits of ground_truth and automated networks\n",
    "\n",
    "    - compare with QAP.\n",
    "    - look at average degree of reporters\n",
    "    - look at average degree, density, etc.\n",
    "\n",
    "Notes and TODO:\n",
    "\n",
    "- need to update NetworkOutput.remove_duplicate_article_data() - it is where we choose which Article_Data to omit per article where there are duplicates.  Need to go with order of list.  Might already do this...  Nope.\n",
    "\n",
    "    - get prioritized list.\n",
    "    - for first instance of Article_Data for article, store it (related by id, or unique_identifier?)\n",
    "    - on subsequent Article_Data for article, get index of coder for existing and new.\n",
    "    - Whichever has lower index you keep.\n",
    "    - **_Need to test_**\n",
    "\n",
    "        - person-coded articles:\n",
    "        \n",
    "            - 1) output networks from initial prelim (12/6/2009-12/13/2009).  Make sure they are the same now as they were then.\n",
    "            - 2) keep article specs the same, but change person lookup to use ordered ID list.  See if this is the same as the files in 1 (might not be).  If not, count rows, find and compare rows for some users to see how different they are.  Hopefully same contents, different order...?\n",
    "            - 3) then, switch the article specs to use ordered list and put person specs back to old way, see how this file compares to the others.\n",
    "            - look for differences in:\n",
    "            \n",
    "                - number of rows\n",
    "                - contents of rows\n",
    "                - IDs of those included\n",
    "            \n",
    "        - automated coder:\n",
    "\n",
    "            - 1) output networks from initial prelim (12/6/2009-12/13/2009).  Make sure they are the same now as they were then.\n",
    "            - 2) keep article specs the same, but change person lookup to use ordered ID list.  See if this is the same as the files in 1 (might not be).  If not, count rows, find and compare rows for some users to see how different they are.  Hopefully same contents, different order.\n",
    "            - 3) then, switch the article specs to use ordered list, see how this file compares to the others.\n",
    "\n",
    "        - as long as the tests above check out, then try out the whole month, with prioritized coder list.\n",
    "\n",
    "- need to update NetworkDataOutput and children?  Looks like no - all comes down to the remove_duplicate_article_data().\n",
    "- human data for grp_month has one fewer vertex than automated (355 - 781 - source_3 - is in automated, not in human)."
   ]
  },
  {
   "cell_type": "markdown",
   "metadata": {
    "ExecuteTime": {
     "end_time": "2017-10-31T05:07:59.731310Z",
     "start_time": "2017-10-31T05:07:59.720302Z"
    }
   },
   "source": [
    "DONE:\n",
    "\n",
    "- updated forms `ArticleSelectForm` and `PersonSelectForm` to include field for \"`coder_id_priority_list`\"/\"`person_coder_id_priority_list`\".\n",
    "- created method NetworkOutput.get_coder_id_list() that:\n",
    "\n",
    "    - knows about the two places where coder IDs can be set.\n",
    "    - if prioritzed list is present:\n",
    "    \n",
    "        - starts with the priotized list\n",
    "        - appends coders from other field who aren't already in the list to the end of it.\n",
    "        - stores the list in an instance variable inside the object so it can be retrieved easily.\n",
    "        \n",
    "- updated NetworkOutput.create_query_set() to use get_coder_id_list() method.\n"
   ]
  },
  {
   "cell_type": "markdown",
   "metadata": {},
   "source": [
    "# Paper Edits\n",
    "\n",
    "- Back to [Table of Contents](#Table-of-Contents)\n",
    "\n",
    "TODO:\n",
    "\n",
    "- path to paper: `Dropbox/academia/MSU/program_stuff/prelim_paper/paper/2017.10.30/Morgan-Prelim.docx`\n",
    "- cut the shit out of lit. review.\n",
    "- update methods\n",
    "\n",
    "    - generate content analysis data.\n",
    "    - assess reliability.\n",
    "    - generate attribution data using OpenCalais API.\n",
    "    - evaluate disagreements to establish ground truth (fix human errors).\n",
    "    - calculate precision and recall.\n",
    "    - examine resulting networks.\n",
    "\n",
    "- update results\n",
    "- update discussion"
   ]
  },
  {
   "cell_type": "markdown",
   "metadata": {},
   "source": [
    "# TODO\n",
    "\n",
    "- Back to [Table of Contents](#Table-of-Contents)"
   ]
  },
  {
   "cell_type": "markdown",
   "metadata": {},
   "source": [
    "TODO:\n",
    "\n",
    "- make sure the network code can deal with multiple coders, and can prioritize in an order I specify."
   ]
  }
 ],
 "metadata": {
  "kernelspec": {
   "display_name": "sourcenet (Python 3)",
   "language": "python",
   "name": "sourcenet"
  },
  "language_info": {
   "codemirror_mode": {
    "name": "ipython",
    "version": 3
   },
   "file_extension": ".py",
   "mimetype": "text/x-python",
   "name": "python",
   "nbconvert_exporter": "python",
   "pygments_lexer": "ipython3",
   "version": "3.5.2"
  },
  "toc": {
   "nav_menu": {},
   "number_sections": true,
   "sideBar": true,
   "skip_h1_title": false,
   "toc_cell": true,
   "toc_position": {
    "height": "689px",
    "left": "0px",
    "right": "1118px",
    "top": "111px",
    "width": "322px"
   },
   "toc_section_display": "block",
   "toc_window_display": true
  }
 },
 "nbformat": 4,
 "nbformat_minor": 2
}
